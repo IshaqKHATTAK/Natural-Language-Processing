{
  "nbformat": 4,
  "nbformat_minor": 0,
  "metadata": {
    "colab": {
      "provenance": [],
      "authorship_tag": "ABX9TyMpezah+vevXhP9d1JmplYn",
      "include_colab_link": true
    },
    "kernelspec": {
      "name": "python3",
      "display_name": "Python 3"
    },
    "language_info": {
      "name": "python"
    }
  },
  "cells": [
    {
      "cell_type": "markdown",
      "metadata": {
        "id": "view-in-github",
        "colab_type": "text"
      },
      "source": [
        "<a href=\"https://colab.research.google.com/github/IshaqKHATTAK/Natural-Language-Processing/blob/main/2020313_3.ipynb\" target=\"_parent\"><img src=\"https://colab.research.google.com/assets/colab-badge.svg\" alt=\"Open In Colab\"/></a>"
      ]
    },
    {
      "cell_type": "code",
      "source": [
        "import nltk\n",
        "nltk.download('reuters')\n",
        "from nltk.corpus import reuters"
      ],
      "metadata": {
        "colab": {
          "base_uri": "https://localhost:8080/"
        },
        "id": "SEcn3xRfSDv0",
        "outputId": "cfdf5a92-8bbf-4a49-9cd4-1cab1166df1c"
      },
      "execution_count": null,
      "outputs": [
        {
          "output_type": "stream",
          "name": "stderr",
          "text": [
            "[nltk_data] Downloading package reuters to /root/nltk_data...\n",
            "[nltk_data]   Package reuters is already up-to-date!\n"
          ]
        }
      ]
    },
    {
      "cell_type": "code",
      "source": [
        "#getting the fileids for test and train\n",
        "train_doc = [d for d in reuters.fileids() if d.startswith('train')]\n",
        "test_doc = [d for d in reuters.fileids() if d.startswith('test')]"
      ],
      "metadata": {
        "id": "th10r_BlSGna"
      },
      "execution_count": null,
      "outputs": []
    },
    {
      "cell_type": "code",
      "source": [
        "#load the dataset\n",
        "train_data = [reuters.raw(doc_id) for doc_id in train_doc]\n",
        "train_label = [reuters.categories(doc_id)[0] for doc_id in train_doc]\n",
        "\n",
        "test_data = [reuters.raw(doc_id) for doc_id in test_doc]\n",
        "test_label = [reuters.categories(doc_id)[0] for doc_id in test_doc]"
      ],
      "metadata": {
        "id": "NUfCKlFwSJtv"
      },
      "execution_count": null,
      "outputs": []
    },
    {
      "cell_type": "code",
      "source": [
        "len(set(train_label)) "
      ],
      "metadata": {
        "colab": {
          "base_uri": "https://localhost:8080/"
        },
        "id": "risWPqbcc5eR",
        "outputId": "1649fcd1-a852-42d4-871a-e0733096622d"
      },
      "execution_count": null,
      "outputs": [
        {
          "output_type": "execute_result",
          "data": {
            "text/plain": [
              "74"
            ]
          },
          "metadata": {},
          "execution_count": 75
        }
      ]
    },
    {
      "cell_type": "markdown",
      "source": [
        "#preparing data"
      ],
      "metadata": {
        "id": "XD9AS3IQQ-bp"
      }
    },
    {
      "cell_type": "code",
      "source": [
        "from nltk.corpus import stopwords\n",
        "nltk.download('stopwords')\n",
        "sw = stopwords.words('english')"
      ],
      "metadata": {
        "colab": {
          "base_uri": "https://localhost:8080/"
        },
        "id": "YhKl_lXQQqRI",
        "outputId": "a9b35cc9-03c1-4fab-c35c-c1919dd7287a"
      },
      "execution_count": null,
      "outputs": [
        {
          "output_type": "stream",
          "name": "stderr",
          "text": [
            "[nltk_data] Downloading package stopwords to /root/nltk_data...\n",
            "[nltk_data]   Package stopwords is already up-to-date!\n"
          ]
        }
      ]
    },
    {
      "cell_type": "code",
      "source": [
        "from nltk.tokenize import word_tokenize\n",
        "nltk.download('punkt')\n",
        "\n",
        "def tokenize(text):\n",
        "  return word_tokenize(text)"
      ],
      "metadata": {
        "colab": {
          "base_uri": "https://localhost:8080/"
        },
        "id": "WDMebl-mRAtb",
        "outputId": "92a34450-85ed-4692-d89a-61f348c75c12"
      },
      "execution_count": null,
      "outputs": [
        {
          "output_type": "stream",
          "name": "stderr",
          "text": [
            "[nltk_data] Downloading package punkt to /root/nltk_data...\n",
            "[nltk_data]   Package punkt is already up-to-date!\n"
          ]
        }
      ]
    },
    {
      "cell_type": "code",
      "source": [
        "def remove_stopwords(tokens):\n",
        "  return [word for word in tokens if word not in sw]"
      ],
      "metadata": {
        "id": "U6m4IYzEREA0"
      },
      "execution_count": null,
      "outputs": []
    },
    {
      "cell_type": "code",
      "source": [
        "from nltk.stem import WordNetLemmatizer\n",
        "nltk.download('wordnet')\n",
        "\n",
        "\n",
        "lemetizer = WordNetLemmatizer()\n",
        "def lemetize(words):\n",
        "  return [lemetizer.lemmatize(word) for word in words]"
      ],
      "metadata": {
        "colab": {
          "base_uri": "https://localhost:8080/"
        },
        "id": "m9EkiiVyRGua",
        "outputId": "4115fff4-6c4e-43a5-ed5d-6b87b519101b"
      },
      "execution_count": null,
      "outputs": [
        {
          "output_type": "stream",
          "name": "stderr",
          "text": [
            "[nltk_data] Downloading package wordnet to /root/nltk_data...\n",
            "[nltk_data]   Package wordnet is already up-to-date!\n"
          ]
        }
      ]
    },
    {
      "cell_type": "code",
      "source": [
        "def list_to_string(tokens):\n",
        "  return ' '.join(tokens)"
      ],
      "metadata": {
        "id": "h7Cc8r3hRIyF"
      },
      "execution_count": null,
      "outputs": []
    },
    {
      "cell_type": "code",
      "source": [
        "for idx in range(len(train_data)):\n",
        "  train_data[idx] = tokenize(train_data[idx])\n",
        "  train_data[idx] = remove_stopwords(train_data[idx])\n",
        "  train_data[idx] = lemetize(train_data[idx])\n",
        "  train_data[idx] = list_to_string(train_data[idx])\n",
        "\n",
        "for idx in range(len(test_data)):\n",
        "  test_data[idx] = tokenize(test_data[idx])\n",
        "  test_data[idx] = remove_stopwords(test_data[idx])\n",
        "  test_data[idx] = lemetize(test_data[idx])\n",
        "  test_data[idx] = list_to_string(test_data[idx])"
      ],
      "metadata": {
        "id": "CGTIWugwRNSX"
      },
      "execution_count": null,
      "outputs": []
    },
    {
      "cell_type": "markdown",
      "source": [
        "*train test split*"
      ],
      "metadata": {
        "id": "-UkIFGqTRfk5"
      }
    },
    {
      "cell_type": "code",
      "source": [
        "#already divided into 80:20 train test split in the second top cell"
      ],
      "metadata": {
        "id": "0GEALMDWRQjT"
      },
      "execution_count": null,
      "outputs": []
    },
    {
      "cell_type": "markdown",
      "source": [
        "#Feature extraction"
      ],
      "metadata": {
        "id": "ljM_Ib8pR1hT"
      }
    },
    {
      "cell_type": "code",
      "source": [
        "from sklearn.feature_extraction.text import TfidfVectorizer\n",
        "\n",
        "tfidf = TfidfVectorizer()\n",
        "\n",
        "reuter_tfidf_train_vec = tfidf.fit_transform(train_data)"
      ],
      "metadata": {
        "id": "HIffIlBqRr-2"
      },
      "execution_count": null,
      "outputs": []
    },
    {
      "cell_type": "code",
      "source": [
        "reuter_tfidf_test_vec = tfidf.fit_transform(test_data)\n",
        "reuter_tfidf_test_arr = reuter_tfidf_test_vec.toarray()"
      ],
      "metadata": {
        "id": "wNcu3rrMY2GS"
      },
      "execution_count": null,
      "outputs": []
    },
    {
      "cell_type": "code",
      "source": [
        "tfidf.get_feature_names_out()"
      ],
      "metadata": {
        "colab": {
          "base_uri": "https://localhost:8080/"
        },
        "id": "-_0Aqyo-R5rq",
        "outputId": "bf549724-ae60-42bd-b857-f8a97a56a243"
      },
      "execution_count": null,
      "outputs": [
        {
          "output_type": "execute_result",
          "data": {
            "text/plain": [
              "array(['00', '000', '0000', ..., 'zwermann', 'zy', 'üside'], dtype=object)"
            ]
          },
          "metadata": {},
          "execution_count": 85
        }
      ]
    },
    {
      "cell_type": "code",
      "source": [
        "reuter_tfidf_train_arr = reuter_tfidf_train_vec.toarray()"
      ],
      "metadata": {
        "id": "4MJC0QTNR7rR"
      },
      "execution_count": null,
      "outputs": []
    },
    {
      "cell_type": "code",
      "source": [
        "from sklearn.preprocessing import LabelEncoder\n",
        "\n",
        "le = LabelEncoder()\n",
        "le.fit(train_label + test_label)\n",
        "train_label = le.transform(train_label)"
      ],
      "metadata": {
        "id": "DnR3fdJHR9aX"
      },
      "execution_count": null,
      "outputs": []
    },
    {
      "cell_type": "code",
      "source": [
        "test_label = le.transform(test_label)"
      ],
      "metadata": {
        "id": "iozX8wDZajlv"
      },
      "execution_count": null,
      "outputs": []
    },
    {
      "cell_type": "markdown",
      "source": [
        "*Model implementation*"
      ],
      "metadata": {
        "id": "AvOkPyRjSZ7J"
      }
    },
    {
      "cell_type": "code",
      "source": [
        "import numpy as np\n",
        "import random\n",
        "import pandas as pd\n",
        "import sys\n",
        "import os\n",
        "import time\n",
        "import codecs\n",
        "import collections\n",
        "import numpy\n",
        "from keras.models import Sequential\n",
        "from keras.layers import Dense\n",
        "from keras.layers import Dropout\n",
        "from keras.layers import LSTM\n",
        "from keras.callbacks import ModelCheckpoint\n",
        "from keras.utils import np_utils\n",
        "from nltk.tokenize import sent_tokenize, word_tokenize\n",
        "import scipy\n",
        "from scipy import spatial\n",
        "from nltk.tokenize import word_tokenize,ToktokTokenizer\n",
        "import re"
      ],
      "metadata": {
        "id": "xhgpvslQR_FM"
      },
      "execution_count": null,
      "outputs": []
    },
    {
      "cell_type": "code",
      "source": [
        "from keras.preprocessing.text import Tokenizer\n",
        "#from keras.preprocessing.sequence import pad_sequences\n",
        "from keras.utils import to_categorical\n",
        "from keras.layers import Dense, Input, LSTM, Embedding,Dropout, Activation\n",
        "from keras.layers import Bidirectional, GlobalMaxPool1D,Conv1D, SimpleRNN\n",
        "from keras.models import Model\n",
        "from sklearn.preprocessing import LabelEncoder\n",
        "from keras.models import Sequential\n",
        "from keras import initializers, regularizers, constraints,optimizers, layers\n",
        "from keras.layers import Dense, Input, Flatten, Dropout,BatchNormalization\n",
        "from keras.layers import Conv1D, MaxPooling1D, Embedding\n",
        "from keras.models import Sequential\n",
        "#from keras.layers.recurrent import SimpleRNN\n",
        "import nltk\n",
        "from nltk.corpus import stopwords\n",
        "import sklearn\n",
        "from sklearn.metrics import precision_recall_fscore_support as score\n",
        "\n",
        "nltk.download('stopwords')"
      ],
      "metadata": {
        "colab": {
          "base_uri": "https://localhost:8080/"
        },
        "id": "jt1Vy8_gVCdE",
        "outputId": "70480533-66f6-4060-aa56-7a8b1e825c9b"
      },
      "execution_count": null,
      "outputs": [
        {
          "output_type": "stream",
          "name": "stderr",
          "text": [
            "[nltk_data] Downloading package stopwords to /root/nltk_data...\n",
            "[nltk_data]   Package stopwords is already up-to-date!\n"
          ]
        },
        {
          "output_type": "execute_result",
          "data": {
            "text/plain": [
              "True"
            ]
          },
          "metadata": {},
          "execution_count": 90
        }
      ]
    },
    {
      "cell_type": "code",
      "source": [
        "import pandas as pd\n",
        "import os\n",
        "import numpy as np\n",
        "\n",
        "import tensorflow as tf\n",
        "from tensorflow.keras.preprocessing.sequence import pad_sequences\n",
        "from tensorflow.keras.layers import Embedding, LSTM, Dense, Bidirectional\n",
        "from tensorflow.keras.preprocessing.text import Tokenizer\n",
        "from tensorflow.keras.models import Sequential\n",
        "from tensorflow.keras.optimizers import Adam"
      ],
      "metadata": {
        "id": "MY9T3IV0ZyVQ"
      },
      "execution_count": null,
      "outputs": []
    },
    {
      "cell_type": "code",
      "source": [
        "from sklearn.metrics import accuracy_score, precision_score, recall_score\n"
      ],
      "metadata": {
        "id": "Lw_3iViQkEWX"
      },
      "execution_count": null,
      "outputs": []
    },
    {
      "cell_type": "code",
      "source": [
        "\n",
        "\n",
        "# Padding data for equal lengths, for our models\n",
        "training_data = pad_sequences(reuter_tfidf_train_arr, maxlen=300)\n",
        "testing_data = pad_sequences(reuter_tfidf_test_arr, maxlen=300)"
      ],
      "metadata": {
        "id": "x2XqzAIJWHpE"
      },
      "execution_count": null,
      "outputs": []
    },
    {
      "cell_type": "code",
      "source": [
        "print(training_data.shape)\n",
        "print(testing_data.shape)"
      ],
      "metadata": {
        "colab": {
          "base_uri": "https://localhost:8080/"
        },
        "id": "823CYVBJWo4_",
        "outputId": "0e85e1ef-4a4e-4a22-94f8-dd612c23c38a"
      },
      "execution_count": null,
      "outputs": [
        {
          "output_type": "stream",
          "name": "stdout",
          "text": [
            "(7769, 300)\n",
            "(3019, 300)\n"
          ]
        }
      ]
    },
    {
      "cell_type": "code",
      "source": [
        "train_label"
      ],
      "metadata": {
        "colab": {
          "base_uri": "https://localhost:8080/"
        },
        "id": "ywveh7ImWybN",
        "outputId": "0901acba-3d78-4001-886c-ed6dc8c2635f"
      },
      "execution_count": null,
      "outputs": [
        {
          "output_type": "execute_result",
          "data": {
            "text/plain": [
              "array([ 6,  0, 46, ..., 21, 21, 21])"
            ]
          },
          "metadata": {},
          "execution_count": 95
        }
      ]
    },
    {
      "cell_type": "code",
      "source": [],
      "metadata": {
        "id": "l1cFrKFraYS5"
      },
      "execution_count": null,
      "outputs": []
    },
    {
      "cell_type": "code",
      "source": [
        "# Converting the labels to categorical\n",
        "# To pass through our model\n",
        "y_train_cat = to_categorical(np.asarray(train_label))\n",
        "y_test_cat = to_categorical(np.asarray(test_label))\n",
        "print('Shape of data tensor', training_data.shape)\n",
        "print('Shape of label tensors (training)', y_train_cat.shape)\n",
        "print('Shape of label tensors (testing)', y_test_cat.shape)"
      ],
      "metadata": {
        "colab": {
          "base_uri": "https://localhost:8080/"
        },
        "id": "zNl1Wom2ZkD-",
        "outputId": "69361e71-16a4-4ce1-a14d-3ccb9258b311"
      },
      "execution_count": null,
      "outputs": [
        {
          "output_type": "stream",
          "name": "stdout",
          "text": [
            "Shape of data tensor (7769, 300)\n",
            "Shape of label tensors (training) (7769, 79)\n",
            "Shape of label tensors (testing) (3019, 79)\n"
          ]
        }
      ]
    },
    {
      "cell_type": "code",
      "source": [
        "y_train_cat"
      ],
      "metadata": {
        "colab": {
          "base_uri": "https://localhost:8080/"
        },
        "id": "53Tfanwpa2R3",
        "outputId": "7cbc2b4c-bf12-415f-f581-5cea674ff01e"
      },
      "execution_count": null,
      "outputs": [
        {
          "output_type": "execute_result",
          "data": {
            "text/plain": [
              "array([[0., 0., 0., ..., 0., 0., 0.],\n",
              "       [1., 0., 0., ..., 0., 0., 0.],\n",
              "       [0., 0., 0., ..., 0., 0., 0.],\n",
              "       ...,\n",
              "       [0., 0., 0., ..., 0., 0., 0.],\n",
              "       [0., 0., 0., ..., 0., 0., 0.],\n",
              "       [0., 0., 0., ..., 0., 0., 0.]], dtype=float32)"
            ]
          },
          "metadata": {},
          "execution_count": 97
        }
      ]
    },
    {
      "cell_type": "code",
      "source": [
        "# Defining our embedding dimension\n",
        "embeds = 100"
      ],
      "metadata": {
        "id": "zb4QaVfaa2Xy"
      },
      "execution_count": null,
      "outputs": []
    },
    {
      "cell_type": "code",
      "source": [
        "print('Training CNN 1D model')\n",
        "model = Sequential()\n",
        "# 20000 was our maximum word number in the tokenizer\n",
        "model.add(Embedding(20000,\n",
        " embeds,\n",
        " input_length=300\n",
        " ))\n",
        "model.add(Dropout(0.5))\n",
        "model.add(Conv1D(128, 5, activation='relu'))\n",
        "model.add(MaxPooling1D(5))\n",
        "model.add(Dropout(0.5))\n",
        "model.add(BatchNormalization())\n",
        "model.add(Conv1D(128, 5, activation='relu'))\n",
        "model.add(MaxPooling1D(5))\n",
        "model.add(Dropout(0.5))\n",
        "model.add(BatchNormalization())\n",
        "model.add(Flatten())\n",
        "model.add(Dense(128, activation='relu'))\n",
        "model.add(Dense(79, activation='softmax'))\n",
        "model.compile(loss='categorical_crossentropy',\n",
        " optimizer='rmsprop',\n",
        " metrics=['acc'])"
      ],
      "metadata": {
        "colab": {
          "base_uri": "https://localhost:8080/"
        },
        "id": "ib3dIDT-a2dR",
        "outputId": "a01ab6b5-84f3-4199-e801-40ddae2aae59"
      },
      "execution_count": null,
      "outputs": [
        {
          "output_type": "stream",
          "name": "stdout",
          "text": [
            "Training CNN 1D model\n"
          ]
        }
      ]
    },
    {
      "cell_type": "code",
      "source": [
        "model.fit(training_data, y_train_cat, batch_size=64, epochs=5, validation_data = (testing_data, y_test_cat))"
      ],
      "metadata": {
        "colab": {
          "base_uri": "https://localhost:8080/"
        },
        "id": "rttHqHM1a9W7",
        "outputId": "2557fca3-6e15-4ef5-fcd6-602037b95cdd"
      },
      "execution_count": null,
      "outputs": [
        {
          "output_type": "stream",
          "name": "stdout",
          "text": [
            "Epoch 1/5\n",
            "122/122 [==============================] - 49s 389ms/step - loss: 2.9871 - acc: 0.2858 - val_loss: 3.1013 - val_acc: 0.3587\n",
            "Epoch 2/5\n",
            "122/122 [==============================] - 48s 394ms/step - loss: 2.6972 - acc: 0.3250 - val_loss: 3.5162 - val_acc: 0.3587\n",
            "Epoch 3/5\n",
            "122/122 [==============================] - 50s 412ms/step - loss: 2.6331 - acc: 0.3412 - val_loss: 3.6282 - val_acc: 0.3587\n",
            "Epoch 4/5\n",
            "122/122 [==============================] - 43s 350ms/step - loss: 2.6026 - acc: 0.3546 - val_loss: 3.3866 - val_acc: 0.3587\n",
            "Epoch 5/5\n",
            "122/122 [==============================] - 47s 387ms/step - loss: 2.5847 - acc: 0.3620 - val_loss: 2.8068 - val_acc: 0.3587\n"
          ]
        },
        {
          "output_type": "execute_result",
          "data": {
            "text/plain": [
              "<keras.callbacks.History at 0x7f16783d9930>"
            ]
          },
          "metadata": {},
          "execution_count": 102
        }
      ]
    },
    {
      "cell_type": "code",
      "source": [
        "predicted=model.predict(testing_data)\n",
        "predicted"
      ],
      "metadata": {
        "colab": {
          "base_uri": "https://localhost:8080/"
        },
        "id": "L_HtYWloa9bi",
        "outputId": "fd062efb-517e-466e-8703-d5e36c078de0"
      },
      "execution_count": null,
      "outputs": [
        {
          "output_type": "stream",
          "name": "stdout",
          "text": [
            "95/95 [==============================] - 3s 31ms/step\n"
          ]
        },
        {
          "output_type": "execute_result",
          "data": {
            "text/plain": [
              "array([[0.11338699, 0.01375712, 0.01750365, ..., 0.0103856 , 0.00136527,\n",
              "        0.00337983],\n",
              "       [0.11338699, 0.01375712, 0.01750365, ..., 0.0103856 , 0.00136527,\n",
              "        0.00337983],\n",
              "       [0.11338699, 0.01375712, 0.01750365, ..., 0.0103856 , 0.00136527,\n",
              "        0.00337983],\n",
              "       ...,\n",
              "       [0.113387  , 0.01375712, 0.01750365, ..., 0.0103856 , 0.00136527,\n",
              "        0.00337983],\n",
              "       [0.113387  , 0.01375712, 0.01750365, ..., 0.0103856 , 0.00136527,\n",
              "        0.00337983],\n",
              "       [0.113387  , 0.01375712, 0.01750365, ..., 0.0103856 , 0.00136527,\n",
              "        0.00337983]], dtype=float32)"
            ]
          },
          "metadata": {},
          "execution_count": 103
        }
      ]
    },
    {
      "cell_type": "code",
      "source": [
        "# Metrics\n",
        "precision, recall, fscore, support = score(y_test_cat,predicted.round())\n",
        "print('precision: {}'.format(precision))\n",
        "print('recall: {}'.format(recall))\n",
        "print('fscore: {}'.format(fscore))\n",
        "print('support: {}'.format(support))\n",
        "print(\"############################\")\n",
        "print(sklearn.metrics.classification_report(y_test_cat,predicted.round()))\n"
      ],
      "metadata": {
        "colab": {
          "base_uri": "https://localhost:8080/"
        },
        "id": "2nJh5AUMa9gi",
        "outputId": "8a1645d6-3c35-4cd2-8047-c98c7568d48c"
      },
      "execution_count": null,
      "outputs": [
        {
          "output_type": "stream",
          "name": "stdout",
          "text": [
            "precision: [0. 0. 0. 0. 0. 0. 0. 0. 0. 0. 0. 0. 0. 0. 0. 0. 0. 0. 0. 0. 0. 0. 0. 0.\n",
            " 0. 0. 0. 0. 0. 0. 0. 0. 0. 0. 0. 0. 0. 0. 0. 0. 0. 0. 0. 0. 0. 0. 0. 0.\n",
            " 0. 0. 0. 0. 0. 0. 0. 0. 0. 0. 0. 0. 0. 0. 0. 0. 0. 0. 0. 0. 0. 0. 0. 0.\n",
            " 0. 0. 0. 0. 0. 0. 0.]\n",
            "recall: [0. 0. 0. 0. 0. 0. 0. 0. 0. 0. 0. 0. 0. 0. 0. 0. 0. 0. 0. 0. 0. 0. 0. 0.\n",
            " 0. 0. 0. 0. 0. 0. 0. 0. 0. 0. 0. 0. 0. 0. 0. 0. 0. 0. 0. 0. 0. 0. 0. 0.\n",
            " 0. 0. 0. 0. 0. 0. 0. 0. 0. 0. 0. 0. 0. 0. 0. 0. 0. 0. 0. 0. 0. 0. 0. 0.\n",
            " 0. 0. 0. 0. 0. 0. 0.]\n",
            "fscore: [0. 0. 0. 0. 0. 0. 0. 0. 0. 0. 0. 0. 0. 0. 0. 0. 0. 0. 0. 0. 0. 0. 0. 0.\n",
            " 0. 0. 0. 0. 0. 0. 0. 0. 0. 0. 0. 0. 0. 0. 0. 0. 0. 0. 0. 0. 0. 0. 0. 0.\n",
            " 0. 0. 0. 0. 0. 0. 0. 0. 0. 0. 0. 0. 0. 0. 0. 0. 0. 0. 0. 0. 0. 0. 0. 0.\n",
            " 0. 0. 0. 0. 0. 0. 0.]\n",
            "support: [ 719   22   14   30   17    1   17    2    2   25   15    0   48   14\n",
            "    0   24    1  182    1   43    1 1083    9    9   19   26   77    3\n",
            "    0    4    4    3    5    1  124   11   14    1   13    2   12    3\n",
            "    6    5    6   96   29    1   13    1    0   13    9    1    4    6\n",
            "    3    3    2    0    1   14    1    1    9   39    0    2    2    6\n",
            "   25    0    3   10   76   11    9    6    5]\n",
            "############################\n",
            "              precision    recall  f1-score   support\n",
            "\n",
            "           0       0.00      0.00      0.00       719\n",
            "           1       0.00      0.00      0.00        22\n",
            "           2       0.00      0.00      0.00        14\n",
            "           3       0.00      0.00      0.00        30\n",
            "           4       0.00      0.00      0.00        17\n",
            "           5       0.00      0.00      0.00         1\n",
            "           6       0.00      0.00      0.00        17\n",
            "           7       0.00      0.00      0.00         2\n",
            "           8       0.00      0.00      0.00         2\n",
            "           9       0.00      0.00      0.00        25\n",
            "          10       0.00      0.00      0.00        15\n",
            "          11       0.00      0.00      0.00         0\n",
            "          12       0.00      0.00      0.00        48\n",
            "          13       0.00      0.00      0.00        14\n",
            "          14       0.00      0.00      0.00         0\n",
            "          15       0.00      0.00      0.00        24\n",
            "          16       0.00      0.00      0.00         1\n",
            "          17       0.00      0.00      0.00       182\n",
            "          18       0.00      0.00      0.00         1\n",
            "          19       0.00      0.00      0.00        43\n",
            "          20       0.00      0.00      0.00         1\n",
            "          21       0.00      0.00      0.00      1083\n",
            "          22       0.00      0.00      0.00         9\n",
            "          23       0.00      0.00      0.00         9\n",
            "          24       0.00      0.00      0.00        19\n",
            "          25       0.00      0.00      0.00        26\n",
            "          26       0.00      0.00      0.00        77\n",
            "          27       0.00      0.00      0.00         3\n",
            "          28       0.00      0.00      0.00         0\n",
            "          29       0.00      0.00      0.00         4\n",
            "          30       0.00      0.00      0.00         4\n",
            "          31       0.00      0.00      0.00         3\n",
            "          32       0.00      0.00      0.00         5\n",
            "          33       0.00      0.00      0.00         1\n",
            "          34       0.00      0.00      0.00       124\n",
            "          35       0.00      0.00      0.00        11\n",
            "          36       0.00      0.00      0.00        14\n",
            "          37       0.00      0.00      0.00         1\n",
            "          38       0.00      0.00      0.00        13\n",
            "          39       0.00      0.00      0.00         2\n",
            "          40       0.00      0.00      0.00        12\n",
            "          41       0.00      0.00      0.00         3\n",
            "          42       0.00      0.00      0.00         6\n",
            "          43       0.00      0.00      0.00         5\n",
            "          44       0.00      0.00      0.00         6\n",
            "          45       0.00      0.00      0.00        96\n",
            "          46       0.00      0.00      0.00        29\n",
            "          47       0.00      0.00      0.00         1\n",
            "          48       0.00      0.00      0.00        13\n",
            "          49       0.00      0.00      0.00         1\n",
            "          50       0.00      0.00      0.00         0\n",
            "          51       0.00      0.00      0.00        13\n",
            "          52       0.00      0.00      0.00         9\n",
            "          53       0.00      0.00      0.00         1\n",
            "          54       0.00      0.00      0.00         4\n",
            "          55       0.00      0.00      0.00         6\n",
            "          56       0.00      0.00      0.00         3\n",
            "          57       0.00      0.00      0.00         3\n",
            "          58       0.00      0.00      0.00         2\n",
            "          59       0.00      0.00      0.00         0\n",
            "          60       0.00      0.00      0.00         1\n",
            "          61       0.00      0.00      0.00        14\n",
            "          62       0.00      0.00      0.00         1\n",
            "          63       0.00      0.00      0.00         1\n",
            "          64       0.00      0.00      0.00         9\n",
            "          65       0.00      0.00      0.00        39\n",
            "          66       0.00      0.00      0.00         0\n",
            "          67       0.00      0.00      0.00         2\n",
            "          68       0.00      0.00      0.00         2\n",
            "          69       0.00      0.00      0.00         6\n",
            "          70       0.00      0.00      0.00        25\n",
            "          71       0.00      0.00      0.00         0\n",
            "          72       0.00      0.00      0.00         3\n",
            "          73       0.00      0.00      0.00        10\n",
            "          74       0.00      0.00      0.00        76\n",
            "          75       0.00      0.00      0.00        11\n",
            "          76       0.00      0.00      0.00         9\n",
            "          77       0.00      0.00      0.00         6\n",
            "          78       0.00      0.00      0.00         5\n",
            "\n",
            "   micro avg       0.00      0.00      0.00      3019\n",
            "   macro avg       0.00      0.00      0.00      3019\n",
            "weighted avg       0.00      0.00      0.00      3019\n",
            " samples avg       0.00      0.00      0.00      3019\n",
            "\n"
          ]
        },
        {
          "output_type": "stream",
          "name": "stderr",
          "text": [
            "/usr/local/lib/python3.10/dist-packages/sklearn/metrics/_classification.py:1344: UndefinedMetricWarning: Precision and F-score are ill-defined and being set to 0.0 in labels with no predicted samples. Use `zero_division` parameter to control this behavior.\n",
            "  _warn_prf(average, modifier, msg_start, len(result))\n",
            "/usr/local/lib/python3.10/dist-packages/sklearn/metrics/_classification.py:1344: UndefinedMetricWarning: Recall and F-score are ill-defined and being set to 0.0 in labels with no true samples. Use `zero_division` parameter to control this behavior.\n",
            "  _warn_prf(average, modifier, msg_start, len(result))\n",
            "/usr/local/lib/python3.10/dist-packages/sklearn/metrics/_classification.py:1344: UndefinedMetricWarning: Precision and F-score are ill-defined and being set to 0.0 in labels with no predicted samples. Use `zero_division` parameter to control this behavior.\n",
            "  _warn_prf(average, modifier, msg_start, len(result))\n",
            "/usr/local/lib/python3.10/dist-packages/sklearn/metrics/_classification.py:1344: UndefinedMetricWarning: Recall and F-score are ill-defined and being set to 0.0 in labels with no true samples. Use `zero_division` parameter to control this behavior.\n",
            "  _warn_prf(average, modifier, msg_start, len(result))\n",
            "/usr/local/lib/python3.10/dist-packages/sklearn/metrics/_classification.py:1344: UndefinedMetricWarning: Precision and F-score are ill-defined and being set to 0.0 due to no predicted samples. Use `zero_division` parameter to control this behavior.\n",
            "  _warn_prf(average, modifier, msg_start, len(result))\n",
            "/usr/local/lib/python3.10/dist-packages/sklearn/metrics/_classification.py:1344: UndefinedMetricWarning: Precision and F-score are ill-defined and being set to 0.0 in samples with no predicted labels. Use `zero_division` parameter to control this behavior.\n",
            "  _warn_prf(average, modifier, msg_start, len(result))\n"
          ]
        }
      ]
    },
    {
      "cell_type": "code",
      "source": [],
      "metadata": {
        "id": "iMTpa14sdrAZ"
      },
      "execution_count": null,
      "outputs": []
    },
    {
      "cell_type": "markdown",
      "source": [
        "###RNN"
      ],
      "metadata": {
        "id": "opeJxYCEdwJ4"
      }
    },
    {
      "cell_type": "code",
      "source": [
        "print('Training SIMPLERNN model.')\n",
        "model = Sequential()\n",
        "model.add(Embedding(20000,\n",
        " embeds,\n",
        " input_length=300\n",
        " ))\n",
        "model.add(SimpleRNN(2, input_shape=(None,1)))\n",
        "model.add(Dense(79,activation='softmax'))\n",
        "model.compile(loss = 'binary_crossentropy',\n",
        "optimizer='adam',metrics = ['accuracy'])\n",
        "model.fit(training_data, y_train_cat,\n",
        " batch_size=16,\n",
        " epochs=5,\n",
        " validation_data=(testing_data, y_test_cat))"
      ],
      "metadata": {
        "colab": {
          "base_uri": "https://localhost:8080/"
        },
        "id": "uJhHEoNAdrIQ",
        "outputId": "efddaf63-48ad-4afc-e450-cc3a654bf38a"
      },
      "execution_count": null,
      "outputs": [
        {
          "output_type": "stream",
          "name": "stdout",
          "text": [
            "Training SIMPLERNN model.\n",
            "Epoch 1/5\n",
            "486/486 [==============================] - 69s 139ms/step - loss: 0.4171 - accuracy: 0.1644 - val_loss: 0.2476 - val_accuracy: 0.3587\n",
            "Epoch 2/5\n",
            "486/486 [==============================] - 62s 129ms/step - loss: 0.1801 - accuracy: 0.3659 - val_loss: 0.1329 - val_accuracy: 0.3587\n",
            "Epoch 3/5\n",
            "486/486 [==============================] - 64s 132ms/step - loss: 0.1088 - accuracy: 0.3659 - val_loss: 0.0901 - val_accuracy: 0.3587\n",
            "Epoch 4/5\n",
            "486/486 [==============================] - 62s 129ms/step - loss: 0.0794 - accuracy: 0.3659 - val_loss: 0.0703 - val_accuracy: 0.3587\n",
            "Epoch 5/5\n",
            "486/486 [==============================] - 50s 103ms/step - loss: 0.0649 - accuracy: 0.3659 - val_loss: 0.0597 - val_accuracy: 0.3587\n"
          ]
        },
        {
          "output_type": "execute_result",
          "data": {
            "text/plain": [
              "<keras.callbacks.History at 0x7f168f6bd000>"
            ]
          },
          "metadata": {},
          "execution_count": 106
        }
      ]
    },
    {
      "cell_type": "code",
      "source": [
        "# probabilities\n",
        "predicted_Srnn=model.predict(testing_data)\n",
        "predicted_Srnn"
      ],
      "metadata": {
        "colab": {
          "base_uri": "https://localhost:8080/"
        },
        "id": "IRVyT5ild1YP",
        "outputId": "676f723d-8428-4750-bc3e-0c0463e0e2b6"
      },
      "execution_count": null,
      "outputs": [
        {
          "output_type": "stream",
          "name": "stdout",
          "text": [
            "95/95 [==============================] - 2s 20ms/step\n"
          ]
        },
        {
          "output_type": "execute_result",
          "data": {
            "text/plain": [
              "array([[0.08972479, 0.00918381, 0.00935569, ..., 0.00980496, 0.00611063,\n",
              "        0.00903238],\n",
              "       [0.08972479, 0.00918381, 0.00935569, ..., 0.00980496, 0.00611063,\n",
              "        0.00903238],\n",
              "       [0.08972479, 0.00918381, 0.00935569, ..., 0.00980496, 0.00611063,\n",
              "        0.00903238],\n",
              "       ...,\n",
              "       [0.08972479, 0.00918381, 0.00935569, ..., 0.00980497, 0.00611063,\n",
              "        0.00903238],\n",
              "       [0.08972479, 0.00918381, 0.00935569, ..., 0.00980497, 0.00611063,\n",
              "        0.00903238],\n",
              "       [0.08972479, 0.00918381, 0.00935569, ..., 0.00980497, 0.00611063,\n",
              "        0.00903238]], dtype=float32)"
            ]
          },
          "metadata": {},
          "execution_count": 107
        }
      ]
    },
    {
      "cell_type": "code",
      "source": [
        "precision, recall, fscore, support = score(y_test_cat, predicted_Srnn.round())\n",
        "print('precision: {}'.format(precision))\n",
        "print('recall: {}'.format(recall))\n",
        "print('fscore: {}'.format(fscore))\n",
        "print('support: {}'.format(support))\n",
        "print(\"############################\")\n",
        "print(sklearn.metrics.classification_report(y_test_cat,predicted_Srnn.round()))"
      ],
      "metadata": {
        "colab": {
          "base_uri": "https://localhost:8080/"
        },
        "id": "Ggqa5BAjd1f3",
        "outputId": "f4e718c0-daa9-4685-e7c8-3488f284bc86"
      },
      "execution_count": null,
      "outputs": [
        {
          "output_type": "stream",
          "name": "stdout",
          "text": [
            "precision: [0. 0. 0. 0. 0. 0. 0. 0. 0. 0. 0. 0. 0. 0. 0. 0. 0. 0. 0. 0. 0. 0. 0. 0.\n",
            " 0. 0. 0. 0. 0. 0. 0. 0. 0. 0. 0. 0. 0. 0. 0. 0. 0. 0. 0. 0. 0. 0. 0. 0.\n",
            " 0. 0. 0. 0. 0. 0. 0. 0. 0. 0. 0. 0. 0. 0. 0. 0. 0. 0. 0. 0. 0. 0. 0. 0.\n",
            " 0. 0. 0. 0. 0. 0. 0.]\n",
            "recall: [0. 0. 0. 0. 0. 0. 0. 0. 0. 0. 0. 0. 0. 0. 0. 0. 0. 0. 0. 0. 0. 0. 0. 0.\n",
            " 0. 0. 0. 0. 0. 0. 0. 0. 0. 0. 0. 0. 0. 0. 0. 0. 0. 0. 0. 0. 0. 0. 0. 0.\n",
            " 0. 0. 0. 0. 0. 0. 0. 0. 0. 0. 0. 0. 0. 0. 0. 0. 0. 0. 0. 0. 0. 0. 0. 0.\n",
            " 0. 0. 0. 0. 0. 0. 0.]\n",
            "fscore: [0. 0. 0. 0. 0. 0. 0. 0. 0. 0. 0. 0. 0. 0. 0. 0. 0. 0. 0. 0. 0. 0. 0. 0.\n",
            " 0. 0. 0. 0. 0. 0. 0. 0. 0. 0. 0. 0. 0. 0. 0. 0. 0. 0. 0. 0. 0. 0. 0. 0.\n",
            " 0. 0. 0. 0. 0. 0. 0. 0. 0. 0. 0. 0. 0. 0. 0. 0. 0. 0. 0. 0. 0. 0. 0. 0.\n",
            " 0. 0. 0. 0. 0. 0. 0.]\n",
            "support: [ 719   22   14   30   17    1   17    2    2   25   15    0   48   14\n",
            "    0   24    1  182    1   43    1 1083    9    9   19   26   77    3\n",
            "    0    4    4    3    5    1  124   11   14    1   13    2   12    3\n",
            "    6    5    6   96   29    1   13    1    0   13    9    1    4    6\n",
            "    3    3    2    0    1   14    1    1    9   39    0    2    2    6\n",
            "   25    0    3   10   76   11    9    6    5]\n",
            "############################\n",
            "              precision    recall  f1-score   support\n",
            "\n",
            "           0       0.00      0.00      0.00       719\n",
            "           1       0.00      0.00      0.00        22\n",
            "           2       0.00      0.00      0.00        14\n",
            "           3       0.00      0.00      0.00        30\n",
            "           4       0.00      0.00      0.00        17\n",
            "           5       0.00      0.00      0.00         1\n",
            "           6       0.00      0.00      0.00        17\n",
            "           7       0.00      0.00      0.00         2\n",
            "           8       0.00      0.00      0.00         2\n",
            "           9       0.00      0.00      0.00        25\n",
            "          10       0.00      0.00      0.00        15\n",
            "          11       0.00      0.00      0.00         0\n",
            "          12       0.00      0.00      0.00        48\n",
            "          13       0.00      0.00      0.00        14\n",
            "          14       0.00      0.00      0.00         0\n",
            "          15       0.00      0.00      0.00        24\n",
            "          16       0.00      0.00      0.00         1\n",
            "          17       0.00      0.00      0.00       182\n",
            "          18       0.00      0.00      0.00         1\n",
            "          19       0.00      0.00      0.00        43\n",
            "          20       0.00      0.00      0.00         1\n",
            "          21       0.00      0.00      0.00      1083\n",
            "          22       0.00      0.00      0.00         9\n",
            "          23       0.00      0.00      0.00         9\n",
            "          24       0.00      0.00      0.00        19\n",
            "          25       0.00      0.00      0.00        26\n",
            "          26       0.00      0.00      0.00        77\n",
            "          27       0.00      0.00      0.00         3\n",
            "          28       0.00      0.00      0.00         0\n",
            "          29       0.00      0.00      0.00         4\n",
            "          30       0.00      0.00      0.00         4\n",
            "          31       0.00      0.00      0.00         3\n",
            "          32       0.00      0.00      0.00         5\n",
            "          33       0.00      0.00      0.00         1\n",
            "          34       0.00      0.00      0.00       124\n",
            "          35       0.00      0.00      0.00        11\n",
            "          36       0.00      0.00      0.00        14\n",
            "          37       0.00      0.00      0.00         1\n",
            "          38       0.00      0.00      0.00        13\n",
            "          39       0.00      0.00      0.00         2\n",
            "          40       0.00      0.00      0.00        12\n",
            "          41       0.00      0.00      0.00         3\n",
            "          42       0.00      0.00      0.00         6\n",
            "          43       0.00      0.00      0.00         5\n",
            "          44       0.00      0.00      0.00         6\n",
            "          45       0.00      0.00      0.00        96\n",
            "          46       0.00      0.00      0.00        29\n",
            "          47       0.00      0.00      0.00         1\n",
            "          48       0.00      0.00      0.00        13\n",
            "          49       0.00      0.00      0.00         1\n",
            "          50       0.00      0.00      0.00         0\n",
            "          51       0.00      0.00      0.00        13\n",
            "          52       0.00      0.00      0.00         9\n",
            "          53       0.00      0.00      0.00         1\n",
            "          54       0.00      0.00      0.00         4\n",
            "          55       0.00      0.00      0.00         6\n",
            "          56       0.00      0.00      0.00         3\n",
            "          57       0.00      0.00      0.00         3\n",
            "          58       0.00      0.00      0.00         2\n",
            "          59       0.00      0.00      0.00         0\n",
            "          60       0.00      0.00      0.00         1\n",
            "          61       0.00      0.00      0.00        14\n",
            "          62       0.00      0.00      0.00         1\n",
            "          63       0.00      0.00      0.00         1\n",
            "          64       0.00      0.00      0.00         9\n",
            "          65       0.00      0.00      0.00        39\n",
            "          66       0.00      0.00      0.00         0\n",
            "          67       0.00      0.00      0.00         2\n",
            "          68       0.00      0.00      0.00         2\n",
            "          69       0.00      0.00      0.00         6\n",
            "          70       0.00      0.00      0.00        25\n",
            "          71       0.00      0.00      0.00         0\n",
            "          72       0.00      0.00      0.00         3\n",
            "          73       0.00      0.00      0.00        10\n",
            "          74       0.00      0.00      0.00        76\n",
            "          75       0.00      0.00      0.00        11\n",
            "          76       0.00      0.00      0.00         9\n",
            "          77       0.00      0.00      0.00         6\n",
            "          78       0.00      0.00      0.00         5\n",
            "\n",
            "   micro avg       0.00      0.00      0.00      3019\n",
            "   macro avg       0.00      0.00      0.00      3019\n",
            "weighted avg       0.00      0.00      0.00      3019\n",
            " samples avg       0.00      0.00      0.00      3019\n",
            "\n"
          ]
        },
        {
          "output_type": "stream",
          "name": "stderr",
          "text": [
            "/usr/local/lib/python3.10/dist-packages/sklearn/metrics/_classification.py:1344: UndefinedMetricWarning: Precision and F-score are ill-defined and being set to 0.0 in labels with no predicted samples. Use `zero_division` parameter to control this behavior.\n",
            "  _warn_prf(average, modifier, msg_start, len(result))\n",
            "/usr/local/lib/python3.10/dist-packages/sklearn/metrics/_classification.py:1344: UndefinedMetricWarning: Recall and F-score are ill-defined and being set to 0.0 in labels with no true samples. Use `zero_division` parameter to control this behavior.\n",
            "  _warn_prf(average, modifier, msg_start, len(result))\n",
            "/usr/local/lib/python3.10/dist-packages/sklearn/metrics/_classification.py:1344: UndefinedMetricWarning: Precision and F-score are ill-defined and being set to 0.0 in labels with no predicted samples. Use `zero_division` parameter to control this behavior.\n",
            "  _warn_prf(average, modifier, msg_start, len(result))\n",
            "/usr/local/lib/python3.10/dist-packages/sklearn/metrics/_classification.py:1344: UndefinedMetricWarning: Recall and F-score are ill-defined and being set to 0.0 in labels with no true samples. Use `zero_division` parameter to control this behavior.\n",
            "  _warn_prf(average, modifier, msg_start, len(result))\n",
            "/usr/local/lib/python3.10/dist-packages/sklearn/metrics/_classification.py:1344: UndefinedMetricWarning: Precision and F-score are ill-defined and being set to 0.0 due to no predicted samples. Use `zero_division` parameter to control this behavior.\n",
            "  _warn_prf(average, modifier, msg_start, len(result))\n",
            "/usr/local/lib/python3.10/dist-packages/sklearn/metrics/_classification.py:1344: UndefinedMetricWarning: Precision and F-score are ill-defined and being set to 0.0 in samples with no predicted labels. Use `zero_division` parameter to control this behavior.\n",
            "  _warn_prf(average, modifier, msg_start, len(result))\n"
          ]
        }
      ]
    },
    {
      "cell_type": "markdown",
      "source": [
        "###LSTM"
      ],
      "metadata": {
        "id": "ElOu2z1Cd9Ec"
      }
    },
    {
      "cell_type": "code",
      "source": [
        "print('Training LSTM model.')\n",
        "model = Sequential()\n",
        "model.add(Embedding(20000,\n",
        " embeds,\n",
        " input_length=300\n",
        " ))\n",
        "model.add(LSTM(16, activation='relu',return_sequences=True))\n",
        "model.add(Dropout(0.2))\n",
        "model.add(BatchNormalization())\n",
        "model.add(Flatten())\n",
        "model.add(Dense(79,activation='softmax'))\n",
        "\n",
        "model.compile(loss = 'binary_crossentropy',\n",
        "optimizer='adam',metrics = ['accuracy'])\n",
        "model.fit(training_data, y_train_cat,\n",
        " batch_size=16,\n",
        " epochs=5,\n",
        " validation_data=(testing_data, y_test_cat))"
      ],
      "metadata": {
        "colab": {
          "base_uri": "https://localhost:8080/"
        },
        "id": "_dLvxRCJd1nr",
        "outputId": "6d83f302-3943-4847-ee51-ab5e6eba71e3"
      },
      "execution_count": null,
      "outputs": [
        {
          "output_type": "stream",
          "name": "stdout",
          "text": [
            "Training LSTM model.\n",
            "Epoch 1/5\n",
            "486/486 [==============================] - 88s 172ms/step - loss: 0.0658 - accuracy: 0.3222 - val_loss: 0.0462 - val_accuracy: 0.3587\n",
            "Epoch 2/5\n",
            "486/486 [==============================] - 87s 180ms/step - loss: 0.0446 - accuracy: 0.3446 - val_loss: 0.0430 - val_accuracy: 0.3587\n",
            "Epoch 3/5\n",
            "486/486 [==============================] - 89s 182ms/step - loss: 0.0441 - accuracy: 0.3515 - val_loss: 0.0431 - val_accuracy: 0.3587\n",
            "Epoch 4/5\n",
            "486/486 [==============================] - 88s 182ms/step - loss: 0.0438 - accuracy: 0.3520 - val_loss: 0.0432 - val_accuracy: 0.3587\n",
            "Epoch 5/5\n",
            "486/486 [==============================] - 88s 180ms/step - loss: 0.0434 - accuracy: 0.3621 - val_loss: 0.0431 - val_accuracy: 0.3587\n"
          ]
        },
        {
          "output_type": "execute_result",
          "data": {
            "text/plain": [
              "<keras.callbacks.History at 0x7f168f428d90>"
            ]
          },
          "metadata": {},
          "execution_count": 110
        }
      ]
    },
    {
      "cell_type": "code",
      "source": [
        "predicted_lstm=model.predict(testing_data)\n",
        "predicted_lstm"
      ],
      "metadata": {
        "colab": {
          "base_uri": "https://localhost:8080/"
        },
        "id": "B2qArxJ6eDjw",
        "outputId": "3662afc4-c649-4c96-d0db-9a68d5a873e3"
      },
      "execution_count": null,
      "outputs": [
        {
          "output_type": "stream",
          "name": "stdout",
          "text": [
            "95/95 [==============================] - 5s 51ms/step\n"
          ]
        },
        {
          "output_type": "execute_result",
          "data": {
            "text/plain": [
              "array([[1.9686027e-01, 7.3245657e-03, 5.5596791e-03, ..., 1.7278714e-03,\n",
              "        5.8335681e-05, 1.7396380e-03],\n",
              "       [1.9686027e-01, 7.3245657e-03, 5.5596791e-03, ..., 1.7278714e-03,\n",
              "        5.8335681e-05, 1.7396380e-03],\n",
              "       [1.9686027e-01, 7.3245657e-03, 5.5596791e-03, ..., 1.7278714e-03,\n",
              "        5.8335681e-05, 1.7396380e-03],\n",
              "       ...,\n",
              "       [1.9686027e-01, 7.3245657e-03, 5.5596791e-03, ..., 1.7278714e-03,\n",
              "        5.8335681e-05, 1.7396380e-03],\n",
              "       [1.9686027e-01, 7.3245657e-03, 5.5596791e-03, ..., 1.7278714e-03,\n",
              "        5.8335681e-05, 1.7396380e-03],\n",
              "       [1.9686027e-01, 7.3245657e-03, 5.5596791e-03, ..., 1.7278714e-03,\n",
              "        5.8335681e-05, 1.7396380e-03]], dtype=float32)"
            ]
          },
          "metadata": {},
          "execution_count": 111
        }
      ]
    },
    {
      "cell_type": "code",
      "source": [
        "precision2, recall2, fscore2, support2 = score(y_test_cat, predicted_lstm.round())\n",
        "print('precision: {}'.format(precision2))\n",
        "print('recall: {}'.format(recall2))\n",
        "print('fscore: {}'.format(fscore2))\n",
        "print('support: {}'.format(support2))\n",
        "print(\"############################\")\n",
        "print(sklearn.metrics.classification_report(y_test_cat,predicted_lstm.round()))"
      ],
      "metadata": {
        "colab": {
          "base_uri": "https://localhost:8080/"
        },
        "id": "NqnD8XWyeDt2",
        "outputId": "fd5b874e-eb0f-4400-a9df-df20b92cb9e7"
      },
      "execution_count": null,
      "outputs": [
        {
          "output_type": "stream",
          "name": "stdout",
          "text": [
            "precision: [0. 0. 0. 0. 0. 0. 0. 0. 0. 0. 0. 0. 0. 0. 0. 0. 0. 0. 0. 0. 0. 0. 0. 0.\n",
            " 0. 0. 0. 0. 0. 0. 0. 0. 0. 0. 0. 0. 0. 0. 0. 0. 0. 0. 0. 0. 0. 0. 0. 0.\n",
            " 0. 0. 0. 0. 0. 0. 0. 0. 0. 0. 0. 0. 0. 0. 0. 0. 0. 0. 0. 0. 0. 0. 0. 0.\n",
            " 0. 0. 0. 0. 0. 0. 0.]\n",
            "recall: [0. 0. 0. 0. 0. 0. 0. 0. 0. 0. 0. 0. 0. 0. 0. 0. 0. 0. 0. 0. 0. 0. 0. 0.\n",
            " 0. 0. 0. 0. 0. 0. 0. 0. 0. 0. 0. 0. 0. 0. 0. 0. 0. 0. 0. 0. 0. 0. 0. 0.\n",
            " 0. 0. 0. 0. 0. 0. 0. 0. 0. 0. 0. 0. 0. 0. 0. 0. 0. 0. 0. 0. 0. 0. 0. 0.\n",
            " 0. 0. 0. 0. 0. 0. 0.]\n",
            "fscore: [0. 0. 0. 0. 0. 0. 0. 0. 0. 0. 0. 0. 0. 0. 0. 0. 0. 0. 0. 0. 0. 0. 0. 0.\n",
            " 0. 0. 0. 0. 0. 0. 0. 0. 0. 0. 0. 0. 0. 0. 0. 0. 0. 0. 0. 0. 0. 0. 0. 0.\n",
            " 0. 0. 0. 0. 0. 0. 0. 0. 0. 0. 0. 0. 0. 0. 0. 0. 0. 0. 0. 0. 0. 0. 0. 0.\n",
            " 0. 0. 0. 0. 0. 0. 0.]\n",
            "support: [ 719   22   14   30   17    1   17    2    2   25   15    0   48   14\n",
            "    0   24    1  182    1   43    1 1083    9    9   19   26   77    3\n",
            "    0    4    4    3    5    1  124   11   14    1   13    2   12    3\n",
            "    6    5    6   96   29    1   13    1    0   13    9    1    4    6\n",
            "    3    3    2    0    1   14    1    1    9   39    0    2    2    6\n",
            "   25    0    3   10   76   11    9    6    5]\n",
            "############################\n",
            "              precision    recall  f1-score   support\n",
            "\n",
            "           0       0.00      0.00      0.00       719\n",
            "           1       0.00      0.00      0.00        22\n",
            "           2       0.00      0.00      0.00        14\n",
            "           3       0.00      0.00      0.00        30\n",
            "           4       0.00      0.00      0.00        17\n",
            "           5       0.00      0.00      0.00         1\n",
            "           6       0.00      0.00      0.00        17\n",
            "           7       0.00      0.00      0.00         2\n",
            "           8       0.00      0.00      0.00         2\n",
            "           9       0.00      0.00      0.00        25\n",
            "          10       0.00      0.00      0.00        15\n",
            "          11       0.00      0.00      0.00         0\n",
            "          12       0.00      0.00      0.00        48\n",
            "          13       0.00      0.00      0.00        14\n",
            "          14       0.00      0.00      0.00         0\n",
            "          15       0.00      0.00      0.00        24\n",
            "          16       0.00      0.00      0.00         1\n",
            "          17       0.00      0.00      0.00       182\n",
            "          18       0.00      0.00      0.00         1\n",
            "          19       0.00      0.00      0.00        43\n",
            "          20       0.00      0.00      0.00         1\n",
            "          21       0.00      0.00      0.00      1083\n",
            "          22       0.00      0.00      0.00         9\n",
            "          23       0.00      0.00      0.00         9\n",
            "          24       0.00      0.00      0.00        19\n",
            "          25       0.00      0.00      0.00        26\n",
            "          26       0.00      0.00      0.00        77\n",
            "          27       0.00      0.00      0.00         3\n",
            "          28       0.00      0.00      0.00         0\n",
            "          29       0.00      0.00      0.00         4\n",
            "          30       0.00      0.00      0.00         4\n",
            "          31       0.00      0.00      0.00         3\n",
            "          32       0.00      0.00      0.00         5\n",
            "          33       0.00      0.00      0.00         1\n",
            "          34       0.00      0.00      0.00       124\n",
            "          35       0.00      0.00      0.00        11\n",
            "          36       0.00      0.00      0.00        14\n",
            "          37       0.00      0.00      0.00         1\n",
            "          38       0.00      0.00      0.00        13\n",
            "          39       0.00      0.00      0.00         2\n",
            "          40       0.00      0.00      0.00        12\n",
            "          41       0.00      0.00      0.00         3\n",
            "          42       0.00      0.00      0.00         6\n",
            "          43       0.00      0.00      0.00         5\n",
            "          44       0.00      0.00      0.00         6\n",
            "          45       0.00      0.00      0.00        96\n",
            "          46       0.00      0.00      0.00        29\n",
            "          47       0.00      0.00      0.00         1\n",
            "          48       0.00      0.00      0.00        13\n",
            "          49       0.00      0.00      0.00         1\n",
            "          50       0.00      0.00      0.00         0\n",
            "          51       0.00      0.00      0.00        13\n",
            "          52       0.00      0.00      0.00         9\n",
            "          53       0.00      0.00      0.00         1\n",
            "          54       0.00      0.00      0.00         4\n",
            "          55       0.00      0.00      0.00         6\n",
            "          56       0.00      0.00      0.00         3\n",
            "          57       0.00      0.00      0.00         3\n",
            "          58       0.00      0.00      0.00         2\n",
            "          59       0.00      0.00      0.00         0\n",
            "          60       0.00      0.00      0.00         1\n",
            "          61       0.00      0.00      0.00        14\n",
            "          62       0.00      0.00      0.00         1\n",
            "          63       0.00      0.00      0.00         1\n",
            "          64       0.00      0.00      0.00         9\n",
            "          65       0.00      0.00      0.00        39\n",
            "          66       0.00      0.00      0.00         0\n",
            "          67       0.00      0.00      0.00         2\n",
            "          68       0.00      0.00      0.00         2\n",
            "          69       0.00      0.00      0.00         6\n",
            "          70       0.00      0.00      0.00        25\n",
            "          71       0.00      0.00      0.00         0\n",
            "          72       0.00      0.00      0.00         3\n",
            "          73       0.00      0.00      0.00        10\n",
            "          74       0.00      0.00      0.00        76\n",
            "          75       0.00      0.00      0.00        11\n",
            "          76       0.00      0.00      0.00         9\n",
            "          77       0.00      0.00      0.00         6\n",
            "          78       0.00      0.00      0.00         5\n",
            "\n",
            "   micro avg       0.00      0.00      0.00      3019\n",
            "   macro avg       0.00      0.00      0.00      3019\n",
            "weighted avg       0.00      0.00      0.00      3019\n",
            " samples avg       0.00      0.00      0.00      3019\n",
            "\n"
          ]
        },
        {
          "output_type": "stream",
          "name": "stderr",
          "text": [
            "/usr/local/lib/python3.10/dist-packages/sklearn/metrics/_classification.py:1344: UndefinedMetricWarning: Precision and F-score are ill-defined and being set to 0.0 in labels with no predicted samples. Use `zero_division` parameter to control this behavior.\n",
            "  _warn_prf(average, modifier, msg_start, len(result))\n",
            "/usr/local/lib/python3.10/dist-packages/sklearn/metrics/_classification.py:1344: UndefinedMetricWarning: Recall and F-score are ill-defined and being set to 0.0 in labels with no true samples. Use `zero_division` parameter to control this behavior.\n",
            "  _warn_prf(average, modifier, msg_start, len(result))\n",
            "/usr/local/lib/python3.10/dist-packages/sklearn/metrics/_classification.py:1344: UndefinedMetricWarning: Precision and F-score are ill-defined and being set to 0.0 in labels with no predicted samples. Use `zero_division` parameter to control this behavior.\n",
            "  _warn_prf(average, modifier, msg_start, len(result))\n",
            "/usr/local/lib/python3.10/dist-packages/sklearn/metrics/_classification.py:1344: UndefinedMetricWarning: Recall and F-score are ill-defined and being set to 0.0 in labels with no true samples. Use `zero_division` parameter to control this behavior.\n",
            "  _warn_prf(average, modifier, msg_start, len(result))\n",
            "/usr/local/lib/python3.10/dist-packages/sklearn/metrics/_classification.py:1344: UndefinedMetricWarning: Precision and F-score are ill-defined and being set to 0.0 due to no predicted samples. Use `zero_division` parameter to control this behavior.\n",
            "  _warn_prf(average, modifier, msg_start, len(result))\n",
            "/usr/local/lib/python3.10/dist-packages/sklearn/metrics/_classification.py:1344: UndefinedMetricWarning: Precision and F-score are ill-defined and being set to 0.0 in samples with no predicted labels. Use `zero_division` parameter to control this behavior.\n",
            "  _warn_prf(average, modifier, msg_start, len(result))\n"
          ]
        }
      ]
    },
    {
      "cell_type": "code",
      "source": [
        "import matplotlib.pyplot as plt\n",
        "import numpy as np\n",
        "\n",
        "# Generate some random data for two models\n",
        "model_names = ['RNN', 'LSTM'] \n",
        "accuracy = [.65, .84]\n",
        "precision = [0.59, 0.79]\n",
        "recall = [0.94, 0.98]\n",
        "f1_score = [0.73, 0.87]\n",
        "\n",
        "# Set the width of the bars\n",
        "bar_width = 0.2\n",
        "\n",
        "# Set the positions of the bars on the x-axis\n",
        "r1 = np.arange(len(model_names))\n",
        "r2 = [x + bar_width for x in r1]\n",
        "r3 = [x + bar_width for x in r2]\n",
        "r4 = [x + bar_width for x in r3]\n",
        "\n",
        "# Create a bar chart for accuracy\n",
        "fig, ax = plt.subplots()\n",
        "bars1 = ax.bar(r1, accuracy, color='tab:blue', width=bar_width, label='Accuracy')\n",
        "bars2 = ax.bar(r2, precision, color='tab:orange', width=bar_width, label='Precision')\n",
        "bars3 = ax.bar(r3, recall, color='tab:green', width=bar_width, label='Recall')\n",
        "bars4 = ax.bar(r4, f1_score, color='tab:red', width=bar_width, label='F1 Score')\n",
        "\n",
        "# Add labels to the bars\n",
        "ax.bar_label(bars1, labels=np.round(accuracy, decimals=2), label_type='center')\n",
        "ax.bar_label(bars2, labels=np.round(precision, decimals=2), label_type='center')\n",
        "ax.bar_label(bars3, labels=np.round(recall, decimals=2), label_type='center')\n",
        "ax.bar_label(bars4, labels=np.round(f1_score, decimals=2), label_type='center')\n",
        "\n",
        "# Add x-axis and y-axis labels\n",
        "ax.set_xlabel('Models')\n",
        "ax.set_ylabel('Metrics')\n",
        "\n",
        "# Add a legend\n",
        "ax.legend()\n",
        "\n",
        "# Add the model names below the bars\n",
        "ax.set_xticks([r + bar_width * 1.5 for r in range(len(model_names))])\n",
        "ax.set_xticklabels(model_names)\n",
        "\n",
        "# Set the plot title\n",
        "plt.title('Model Performance Comparison')\n",
        "\n",
        "# Show the plot\n",
        "plt.show()\n"
      ],
      "metadata": {
        "colab": {
          "base_uri": "https://localhost:8080/",
          "height": 472
        },
        "id": "RzdX_jnEi0-p",
        "outputId": "81c58256-8bbd-471f-ef7c-dd5c8732e12d"
      },
      "execution_count": null,
      "outputs": [
        {
          "output_type": "display_data",
          "data": {
            "text/plain": [
              "<Figure size 640x480 with 1 Axes>"
            ],
            "image/png": "[encoded data removed]"
          },
          "metadata": {}
        }
      ]
    },
    {
      "cell_type": "code",
      "source": [],
      "metadata": {
        "id": "h9ZPS1ZkjPS9"
      },
      "execution_count": null,
      "outputs": []
    }
  ]
}