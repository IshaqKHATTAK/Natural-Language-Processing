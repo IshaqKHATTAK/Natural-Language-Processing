{
  "nbformat": 4,
  "nbformat_minor": 0,
  "metadata": {
    "colab": {
      "provenance": [],
      "authorship_tag": "ABX9TyNaQbOvI+T6DIEgg5AqNz1V",
      "include_colab_link": true
    },
    "kernelspec": {
      "name": "python3",
      "display_name": "Python 3"
    },
    "language_info": {
      "name": "python"
    },
    "accelerator": "GPU",
    "gpuClass": "standard"
  },
  "cells": [
    {
      "cell_type": "markdown",
      "metadata": {
        "id": "view-in-github",
        "colab_type": "text"
      },
      "source": [
        "<a href=\"https://colab.research.google.com/github/IshaqKHATTAK/Natural-Language-Processing/blob/main/2020313_2_(1_2_3_4)b.ipynb\" target=\"_parent\"><img src=\"https://colab.research.google.com/assets/colab-badge.svg\" alt=\"Open In Colab\"/></a>"
      ]
    },
    {
      "cell_type": "markdown",
      "source": [
        "**this notebook is for newsgroup dataset**"
      ],
      "metadata": {
        "id": "UDJ5iiF-_VYo"
      }
    },
    {
      "cell_type": "code",
      "execution_count": null,
      "metadata": {
        "id": "USY3RbxZ0MQf"
      },
      "outputs": [],
      "source": [
        "import sklearn\n",
        "import re\n",
        "from sklearn.datasets import fetch_20newsgroups\n",
        "from sklearn.model_selection import train_test_split"
      ]
    },
    {
      "cell_type": "code",
      "source": [
        "all_data = fetch_20newsgroups(subset='all')\n",
        "news_train_data, news_test_data, news_train_target, news_test_target = train_test_split(all_data.data, all_data.target, test_size = .20)"
      ],
      "metadata": {
        "id": "3-XOPfz60PYr"
      },
      "execution_count": null,
      "outputs": []
    },
    {
      "cell_type": "code",
      "source": [],
      "metadata": {
        "id": "r5lAX5Ds0p0p"
      },
      "execution_count": null,
      "outputs": []
    },
    {
      "cell_type": "code",
      "source": [
        "import nltk\n",
        "from nltk.corpus import stopwords\n",
        "nltk.download('stopwords')\n",
        "sw = stopwords.words('english')"
      ],
      "metadata": {
        "colab": {
          "base_uri": "https://localhost:8080/"
        },
        "id": "8F_cbPQs0Pc7",
        "outputId": "fb32720b-d45c-4362-8f4a-e8bf1cd2578a"
      },
      "execution_count": null,
      "outputs": [
        {
          "output_type": "stream",
          "name": "stderr",
          "text": [
            "[nltk_data] Downloading package stopwords to /root/nltk_data...\n",
            "[nltk_data]   Package stopwords is already up-to-date!\n"
          ]
        }
      ]
    },
    {
      "cell_type": "code",
      "source": [
        "from nltk.tokenize import word_tokenize\n",
        "nltk.download('punkt')\n",
        "\n",
        "def tokenize(text):\n",
        "  return word_tokenize(text)"
      ],
      "metadata": {
        "colab": {
          "base_uri": "https://localhost:8080/"
        },
        "id": "3Rtsbaxv0Pg1",
        "outputId": "d34468fb-3ffc-4fa1-a2cc-6252f90360fa"
      },
      "execution_count": null,
      "outputs": [
        {
          "output_type": "stream",
          "name": "stderr",
          "text": [
            "[nltk_data] Downloading package punkt to /root/nltk_data...\n",
            "[nltk_data]   Package punkt is already up-to-date!\n"
          ]
        }
      ]
    },
    {
      "cell_type": "code",
      "source": [
        "def remove_stopwords(tokens):\n",
        "  return [word for word in tokens if word not in sw]"
      ],
      "metadata": {
        "id": "qhzxbOci0PkD"
      },
      "execution_count": null,
      "outputs": []
    },
    {
      "cell_type": "code",
      "source": [
        "from nltk.stem import WordNetLemmatizer\n",
        "nltk.download('wordnet')\n",
        "\n",
        "\n",
        "\n",
        "lemetizer = WordNetLemmatizer()\n",
        "def lemetize(words):\n",
        "  return [lemetizer.lemmatize(word) for word in words]"
      ],
      "metadata": {
        "colab": {
          "base_uri": "https://localhost:8080/"
        },
        "id": "VUKRvsQI0Pn3",
        "outputId": "3325b10b-4c4d-42c7-eaef-7992737a5482"
      },
      "execution_count": null,
      "outputs": [
        {
          "output_type": "stream",
          "name": "stderr",
          "text": [
            "[nltk_data] Downloading package wordnet to /root/nltk_data...\n"
          ]
        }
      ]
    },
    {
      "cell_type": "code",
      "source": [
        "def list_to_string(tokens):\n",
        "  return ' '.join(tokens)"
      ],
      "metadata": {
        "id": "TTSl6bxY02gd"
      },
      "execution_count": null,
      "outputs": []
    },
    {
      "cell_type": "code",
      "source": [
        "def remove_digit_puncuation(text):\n",
        "  text = re.sub(r'[^\\w\\s]','',text)\n",
        "  text = re.sub('[0-9]','',text)\n",
        "  return text"
      ],
      "metadata": {
        "id": "O1Z5wJBR4RNU"
      },
      "execution_count": null,
      "outputs": []
    },
    {
      "cell_type": "code",
      "source": [
        "for idx in range(len(news_train_data)):\n",
        "  news_train_data[idx] = tokenize(news_train_data[idx])\n",
        "  news_train_data[idx] = remove_stopwords(news_train_data[idx])\n",
        "  news_train_data[idx] = lemetize(news_train_data[idx])\n",
        "  news_train_data[idx] = list_to_string(news_train_data[idx])\n",
        "  news_train_data[idx] = remove_digit_puncuation(news_train_data[idx])\n",
        "\n",
        "for idx in range(len(news_test_data)):\n",
        "  news_test_data[idx] = tokenize(news_test_data[idx])\n",
        "  news_test_data[idx] = remove_stopwords(news_test_data[idx])\n",
        "  news_test_data[idx] = lemetize(news_test_data[idx])\n",
        "  news_test_data[idx] = list_to_string(news_test_data[idx])\n",
        "  news_test_data[idx] = remove_digit_puncuation(news_test_data[idx])"
      ],
      "metadata": {
        "id": "cUWFBv7402jt"
      },
      "execution_count": null,
      "outputs": []
    },
    {
      "cell_type": "code",
      "source": [
        "print(news_train_data[0])"
      ],
      "metadata": {
        "colab": {
          "base_uri": "https://localhost:8080/"
        },
        "id": "qc66NSYX02mo",
        "outputId": "8fb2f5a5-fdb4-45fd-c69c-9e63f68cf0c2"
      },
      "execution_count": null,
      "outputs": [
        {
          "output_type": "stream",
          "name": "stdout",
          "text": [
            "From : schock @ flip.cpsc.ucalgary.ca ( Craig-Richard Schock ) Subject : Re : NHL Team Captains Reply-To : schock @ flip.cpsc.ucalgary.ca Organization : University Calgary Computer Science Lines : 14 In article < 1993Apr22.121035.3394 @ mtroyal.ab.ca > writes : > > And , subject , captain ever traded , > > resigned , striped title season ? Any > > team captain trivia would appreciated . > > Brad McCrimmon captain Flames traded Detroit > following 1989-90 season . This off-season though . > > There 's countless example captain traded , I 'm sure . Yeah ... I think Flames Flyers traded Captains ... Mel Bridgeman Brad Marsh . Craig\n"
          ]
        }
      ]
    },
    {
      "cell_type": "markdown",
      "source": [
        "#2 feature extraction"
      ],
      "metadata": {
        "id": "-RPA55qo5Ys-"
      }
    },
    {
      "cell_type": "code",
      "source": [
        "from sklearn.feature_extraction.text import TfidfVectorizer\n",
        "\n",
        "tfidf = TfidfVectorizer()\n",
        "\n",
        "news_tfidf_train = tfidf.fit_transform(news_train_data)"
      ],
      "metadata": {
        "id": "g4yMUl6O2Reb"
      },
      "execution_count": null,
      "outputs": []
    },
    {
      "cell_type": "code",
      "source": [
        "news_tfidf_test = tfidf.transform(news_test_data)"
      ],
      "metadata": {
        "id": "_KtcuM9S02p5"
      },
      "execution_count": null,
      "outputs": []
    },
    {
      "cell_type": "markdown",
      "source": [
        "#3 model implementation"
      ],
      "metadata": {
        "id": "A7wuNKNNA8hB"
      }
    },
    {
      "cell_type": "markdown",
      "source": [
        "###naive bayes"
      ],
      "metadata": {
        "id": "lfP5SK9oKwBB"
      }
    },
    {
      "cell_type": "code",
      "source": [
        "from sklearn.naive_bayes import MultinomialNB\n",
        "mdl1 = MultinomialNB()\n",
        "mdl1.fit(news_tfidf_train,news_train_target)\n"
      ],
      "metadata": {
        "colab": {
          "base_uri": "https://localhost:8080/",
          "height": 74
        },
        "id": "nORDD8oEAzC-",
        "outputId": "17ee8e9a-5757-4cae-a289-50e13b8e6e84"
      },
      "execution_count": null,
      "outputs": [
        {
          "output_type": "execute_result",
          "data": {
            "text/plain": [
              "MultinomialNB()"
            ],
            "text/html": [
              "<style>#sk-container-id-1 {color: black;background-color: white;}#sk-container-id-1 pre{padding: 0;}#sk-container-id-1 div.sk-toggleable {background-color: white;}#sk-container-id-1 label.sk-toggleable__label {cursor: pointer;display: block;width: 100%;margin-bottom: 0;padding: 0.3em;box-sizing: border-box;text-align: center;}#sk-container-id-1 label.sk-toggleable__label-arrow:before {content: \"▸\";float: left;margin-right: 0.25em;color: #696969;}#sk-container-id-1 label.sk-toggleable__label-arrow:hover:before {color: black;}#sk-container-id-1 div.sk-estimator:hover label.sk-toggleable__label-arrow:before {color: black;}#sk-container-id-1 div.sk-toggleable__content {max-height: 0;max-width: 0;overflow: hidden;text-align: left;background-color: #f0f8ff;}#sk-container-id-1 div.sk-toggleable__content pre {margin: 0.2em;color: black;border-radius: 0.25em;background-color: #f0f8ff;}#sk-container-id-1 input.sk-toggleable__control:checked~div.sk-toggleable__content {max-height: 200px;max-width: 100%;overflow: auto;}#sk-container-id-1 input.sk-toggleable__control:checked~label.sk-toggleable__label-arrow:before {content: \"▾\";}#sk-container-id-1 div.sk-estimator input.sk-toggleable__control:checked~label.sk-toggleable__label {background-color: #d4ebff;}#sk-container-id-1 div.sk-label input.sk-toggleable__control:checked~label.sk-toggleable__label {background-color: #d4ebff;}#sk-container-id-1 input.sk-hidden--visually {border: 0;clip: rect(1px 1px 1px 1px);clip: rect(1px, 1px, 1px, 1px);height: 1px;margin: -1px;overflow: hidden;padding: 0;position: absolute;width: 1px;}#sk-container-id-1 div.sk-estimator {font-family: monospace;background-color: #f0f8ff;border: 1px dotted black;border-radius: 0.25em;box-sizing: border-box;margin-bottom: 0.5em;}#sk-container-id-1 div.sk-estimator:hover {background-color: #d4ebff;}#sk-container-id-1 div.sk-parallel-item::after {content: \"\";width: 100%;border-bottom: 1px solid gray;flex-grow: 1;}#sk-container-id-1 div.sk-label:hover label.sk-toggleable__label {background-color: #d4ebff;}#sk-container-id-1 div.sk-serial::before {content: \"\";position: absolute;border-left: 1px solid gray;box-sizing: border-box;top: 0;bottom: 0;left: 50%;z-index: 0;}#sk-container-id-1 div.sk-serial {display: flex;flex-direction: column;align-items: center;background-color: white;padding-right: 0.2em;padding-left: 0.2em;position: relative;}#sk-container-id-1 div.sk-item {position: relative;z-index: 1;}#sk-container-id-1 div.sk-parallel {display: flex;align-items: stretch;justify-content: center;background-color: white;position: relative;}#sk-container-id-1 div.sk-item::before, #sk-container-id-1 div.sk-parallel-item::before {content: \"\";position: absolute;border-left: 1px solid gray;box-sizing: border-box;top: 0;bottom: 0;left: 50%;z-index: -1;}#sk-container-id-1 div.sk-parallel-item {display: flex;flex-direction: column;z-index: 1;position: relative;background-color: white;}#sk-container-id-1 div.sk-parallel-item:first-child::after {align-self: flex-end;width: 50%;}#sk-container-id-1 div.sk-parallel-item:last-child::after {align-self: flex-start;width: 50%;}#sk-container-id-1 div.sk-parallel-item:only-child::after {width: 0;}#sk-container-id-1 div.sk-dashed-wrapped {border: 1px dashed gray;margin: 0 0.4em 0.5em 0.4em;box-sizing: border-box;padding-bottom: 0.4em;background-color: white;}#sk-container-id-1 div.sk-label label {font-family: monospace;font-weight: bold;display: inline-block;line-height: 1.2em;}#sk-container-id-1 div.sk-label-container {text-align: center;}#sk-container-id-1 div.sk-container {/* jupyter's `normalize.less` sets `[hidden] { display: none; }` but bootstrap.min.css set `[hidden] { display: none !important; }` so we also need the `!important` here to be able to override the default hidden behavior on the sphinx rendered scikit-learn.org. See: https://github.com/scikit-learn/scikit-learn/issues/21755 */display: inline-block !important;position: relative;}#sk-container-id-1 div.sk-text-repr-fallback {display: none;}</style><div id=\"sk-container-id-1\" class=\"sk-top-container\"><div class=\"sk-text-repr-fallback\"><pre>MultinomialNB()</pre><b>In a Jupyter environment, please rerun this cell to show the HTML representation or trust the notebook. <br />On GitHub, the HTML representation is unable to render, please try loading this page with nbviewer.org.</b></div><div class=\"sk-container\" hidden><div class=\"sk-item\"><div class=\"sk-estimator sk-toggleable\"><input class=\"sk-toggleable__control sk-hidden--visually\" id=\"sk-estimator-id-1\" type=\"checkbox\" checked><label for=\"sk-estimator-id-1\" class=\"sk-toggleable__label sk-toggleable__label-arrow\">MultinomialNB</label><div class=\"sk-toggleable__content\"><pre>MultinomialNB()</pre></div></div></div></div></div>"
            ]
          },
          "metadata": {},
          "execution_count": 54
        }
      ]
    },
    {
      "cell_type": "code",
      "source": [
        "pred1 = mdl1.predict(news_tfidf_test)"
      ],
      "metadata": {
        "id": "dkyO-5MUBXYY"
      },
      "execution_count": null,
      "outputs": []
    },
    {
      "cell_type": "code",
      "source": [
        "from sklearn.metrics import classification_report\n",
        "\n",
        "report = classification_report(news_test_target, pred1)\n",
        "#print(report)"
      ],
      "metadata": {
        "id": "eNghGLbUB3IN"
      },
      "execution_count": null,
      "outputs": []
    },
    {
      "cell_type": "code",
      "source": [
        "from sklearn.linear_model import LogisticRegression\n",
        "mdl2 = LogisticRegression()\n",
        "mdl2.fit(news_tfidf_train, news_train_target)\n",
        "pred2 = mdl2.predict(news_tfidf_test)"
      ],
      "metadata": {
        "id": "XTuHJVNdCGNG"
      },
      "execution_count": null,
      "outputs": []
    },
    {
      "cell_type": "code",
      "source": [
        "\n",
        "report2 = classification_report(news_test_target, pred2)\n",
        "#print(report2)"
      ],
      "metadata": {
        "id": "XiZsq0SvE4BL"
      },
      "execution_count": null,
      "outputs": []
    },
    {
      "cell_type": "code",
      "source": [
        "from sklearn.svm import SVC\n",
        "mdl3 = SVC()\n",
        "mdl3.fit(news_tfidf_train,news_train_target)\n",
        "pred3 = mdl3.predict(news_tfidf_test)"
      ],
      "metadata": {
        "id": "JEgTfddyFZXS"
      },
      "execution_count": null,
      "outputs": []
    },
    {
      "cell_type": "code",
      "source": [
        "report3 = classification_report(news_test_target, pred3)\n",
        "#print(report3)"
      ],
      "metadata": {
        "id": "Op4Fk5ZBFy-B"
      },
      "execution_count": null,
      "outputs": []
    },
    {
      "cell_type": "code",
      "source": [
        "from sklearn.ensemble import RandomForestClassifier\n",
        "\n",
        "mdl4 = RandomForestClassifier()\n",
        "mdl4.fit(news_tfidf_train,news_train_target)\n",
        "pred4 = mdl4.predict(news_tfidf_test)"
      ],
      "metadata": {
        "id": "IqqB-lfIF8_C"
      },
      "execution_count": null,
      "outputs": []
    },
    {
      "cell_type": "code",
      "source": [
        "report4 = classification_report(news_test_target, pred4)\n",
        "#print(report4)"
      ],
      "metadata": {
        "id": "65nNCokXGJhk"
      },
      "execution_count": null,
      "outputs": []
    },
    {
      "cell_type": "markdown",
      "source": [
        "#4 model comparison"
      ],
      "metadata": {
        "id": "Wvnm-6qQKmMy"
      }
    },
    {
      "cell_type": "code",
      "source": [
        "import matplotlib.pyplot as plt\n",
        "import numpy as np\n",
        "\n",
        "# Generate some random data\n",
        "model_names = ['naive bayer', 'logistic regression', 'SVM', 'RandomForest']\n",
        "accuracy = [.91,.91,.92,.85] \n",
        "precision = [0.91, 0.91, 0.96, 0.90]\n",
        "recall = [0.89, 0.89, 0.89, 0.78]\n",
        "f1_score = [0.90, 0.90, 0.92, 0.83]\n",
        "\n",
        "# Set the width of the bars\n",
        "bar_width = 0.2\n",
        "\n",
        "# Set the positions of the bars on the x-axis\n",
        "r1 = np.arange(len(model_names))\n",
        "r2 = [x + bar_width for x in r1]\n",
        "r3 = [x + bar_width for x in r2]\n",
        "r4 = [x + bar_width for x in r3]\n",
        "\n",
        "# Create a bar chart for accuracy\n",
        "fig, ax = plt.subplots()\n",
        "bars1 = ax.bar(r1, accuracy, color='tab:blue', width=bar_width, label='Accuracy')\n",
        "bars2 = ax.bar(r2, precision, color='tab:orange', width=bar_width, label='Precision')\n",
        "bars3 = ax.bar(r3, recall, color='tab:green', width=bar_width, label='Recall')\n",
        "bars4 = ax.bar(r4, f1_score, color='tab:red', width=bar_width, label='F1 Score')\n",
        "\n",
        "# Add labels to the bars\n",
        "ax.bar_label(bars1, labels=np.round(accuracy, decimals=2), label_type='center')\n",
        "ax.bar_label(bars2, labels=np.round(precision, decimals=2), label_type='center')\n",
        "ax.bar_label(bars3, labels=np.round(recall, decimals=2), label_type='center')\n",
        "ax.bar_label(bars4, labels=np.round(f1_score, decimals=2), label_type='center')\n",
        "\n",
        "# Add x-axis and y-axis labels\n",
        "ax.set_xlabel('Models')\n",
        "ax.set_ylabel('Metrics')\n",
        "\n",
        "# Add a legend\n",
        "ax.legend()\n",
        "\n",
        "# Add the model names below the bars\n",
        "ax.set_xticks([r + bar_width * 1.5 for r in range(len(model_names))])\n",
        "ax.set_xticklabels(model_names)\n",
        "\n",
        "# Set the plot title\n",
        "plt.title('Model Performance Comparison')\n",
        "\n",
        "# Show the plot\n",
        "plt.show()\n"
      ],
      "metadata": {
        "id": "9yPYrVvJKJXF",
        "colab": {
          "base_uri": "https://localhost:8080/",
          "height": 472
        },
        "outputId": "926276eb-acc4-490f-c108-bdbfc2851cf3"
      },
      "execution_count": null,
      "outputs": [
        {
          "output_type": "display_data",
          "data": {
            "text/plain": [
              "<Figure size 640x480 with 1 Axes>"
            ],
            "image/png": "[encoded data removed]"
          },
          "metadata": {}
        }
      ]
    },
    {
      "cell_type": "code",
      "source": [
        "# from the above four evaluation matrices it can be concluded that by averaging all the four matrices the best performance modell is SVM.\n",
        "#the order of the model performance is 1>SVM 2>naive bayes & logistic regression 3>randomforest"
      ],
      "metadata": {
        "id": "CSvk0GT3KZYw"
      },
      "execution_count": null,
      "outputs": []
    }
  ]
}