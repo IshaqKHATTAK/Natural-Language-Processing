{
  "nbformat": 4,
  "nbformat_minor": 0,
  "metadata": {
    "colab": {
      "provenance": [],
      "authorship_tag": "ABX9TyOYT2nLvw/Sr7cD5OiPNlu4",
      "include_colab_link": true
    },
    "kernelspec": {
      "name": "python3",
      "display_name": "Python 3"
    },
    "language_info": {
      "name": "python"
    }
  },
  "cells": [
    {
      "cell_type": "markdown",
      "metadata": {
        "id": "view-in-github",
        "colab_type": "text"
      },
      "source": [
        "<a href=\"https://colab.research.google.com/github/IshaqKHATTAK/Natural-Language-Processing/blob/main/Edit_distance_%26_tfidf_scrach.ipynb\" target=\"_parent\"><img src=\"https://colab.research.google.com/assets/colab-badge.svg\" alt=\"Open In Colab\"/></a>"
      ]
    },
    {
      "cell_type": "code",
      "execution_count": 1,
      "metadata": {
        "id": "0vQKhhAjLlCS"
      },
      "outputs": [],
      "source": [
        "import nltk\n",
        "from nltk.corpus import twitter_samples\n",
        "from nltk.tokenize import word_tokenize"
      ]
    },
    {
      "cell_type": "code",
      "source": [
        "nltk.download('punkt')"
      ],
      "metadata": {
        "id": "xsEo95VnJ6ay",
        "colab": {
          "base_uri": "https://localhost:8080/"
        },
        "outputId": "5a19c518-42d9-4dee-aaff-fc44b2c10d97"
      },
      "execution_count": 2,
      "outputs": [
        {
          "output_type": "stream",
          "name": "stderr",
          "text": [
            "[nltk_data] Downloading package punkt to /root/nltk_data...\n",
            "[nltk_data]   Unzipping tokenizers/punkt.zip.\n"
          ]
        },
        {
          "output_type": "execute_result",
          "data": {
            "text/plain": [
              "True"
            ]
          },
          "metadata": {},
          "execution_count": 2
        }
      ]
    },
    {
      "cell_type": "markdown",
      "source": [
        "#part 1"
      ],
      "metadata": {
        "id": "i3gHSMQKTXRv"
      }
    },
    {
      "cell_type": "markdown",
      "source": [
        "###reading data"
      ],
      "metadata": {
        "id": "2TyZdveeTrHZ"
      }
    },
    {
      "cell_type": "code",
      "source": [
        "example1 = \"/content/New Text Document.txt\"\n",
        "file1 = open(example1, \"r\")"
      ],
      "metadata": {
        "id": "Aq8KQnnvPbot"
      },
      "execution_count": 3,
      "outputs": []
    },
    {
      "cell_type": "code",
      "source": [
        "F = file1.read()\n",
        "type(F)"
      ],
      "metadata": {
        "id": "i3SIOX2wQTLa",
        "colab": {
          "base_uri": "https://localhost:8080/"
        },
        "outputId": "9d3a3348-76a1-4dc7-f264-9a7ea9f66ada"
      },
      "execution_count": 4,
      "outputs": [
        {
          "output_type": "execute_result",
          "data": {
            "text/plain": [
              "str"
            ]
          },
          "metadata": {},
          "execution_count": 4
        }
      ]
    },
    {
      "cell_type": "code",
      "source": [
        "df = F.split('.')\n",
        "for i in range(0,len(df)):\n",
        "  df[i] = df[i].lower()"
      ],
      "metadata": {
        "id": "FPvM5_0eQZbT"
      },
      "execution_count": 5,
      "outputs": []
    },
    {
      "cell_type": "code",
      "source": [
        "df[0]\n",
        "df = df[0: len(df)-1]"
      ],
      "metadata": {
        "id": "DJ8R_muXUjfa"
      },
      "execution_count": 6,
      "outputs": []
    },
    {
      "cell_type": "code",
      "source": [
        "df"
      ],
      "metadata": {
        "colab": {
          "base_uri": "https://localhost:8080/"
        },
        "id": "v7kDVdQue27e",
        "outputId": "528c494f-c16f-4be3-c885-d93207800eb8"
      },
      "execution_count": 7,
      "outputs": [
        {
          "output_type": "execute_result",
          "data": {
            "text/plain": [
              "['the intelligence exhibited by machines is termed artificial intelligence (ai)',\n",
              " ' it induces the capability to think and learn in the machines',\n",
              " 'it refers that the machine will exhibit human intelligence',\n",
              " 'artificial intelligence came into existence in the year 1955',\n",
              " 'john mccarthy is regarded as the father of artificial intelligence',\n",
              " ' he was a computer scientist in the united states of america',\n",
              " ' ai aims to make the life of human beings more convenient',\n",
              " 'there are very few chances of occurrence of error by using ai',\n",
              " 'they work according to the commands given in form of programs',\n",
              " ' python programming language is widely used for ai at present',\n",
              " 'artificial intelligence is a great invention of the human mind',\n",
              " 'this is artificially developed intelligence in computers and machines']"
            ]
          },
          "metadata": {},
          "execution_count": 7
        }
      ]
    },
    {
      "cell_type": "markdown",
      "source": [
        "###1.2 why we select this documnets on what absis."
      ],
      "metadata": {
        "id": "2bPPM3hOTgP3"
      }
    },
    {
      "cell_type": "code",
      "source": [
        "#as these all documents are related to some what artificial intelligence and computer porgramming so we select this documents \n",
        "#the basis that they are about same topic."
      ],
      "metadata": {
        "id": "GtO3Dk1cSXuY"
      },
      "execution_count": null,
      "outputs": []
    },
    {
      "cell_type": "markdown",
      "source": [
        "###1.3 summary"
      ],
      "metadata": {
        "id": "Mr-2Nlt8UI8b"
      }
    },
    {
      "cell_type": "code",
      "source": [
        "sum = 0\n",
        "for i in range(0,len(df)):\n",
        "  sum = sum +df[i].count('artificial intelligence') \n",
        "sum"
      ],
      "metadata": {
        "colab": {
          "base_uri": "https://localhost:8080/"
        },
        "id": "Ep33grumUEWK",
        "outputId": "0fb79d14-8fb0-4917-938f-02a427a2ae5e"
      },
      "execution_count": null,
      "outputs": [
        {
          "output_type": "execute_result",
          "data": {
            "text/plain": [
              "4"
            ]
          },
          "metadata": {},
          "execution_count": 10
        }
      ]
    },
    {
      "cell_type": "code",
      "source": [
        "##as seen in the above code the number of time the word artificial intelligence apear in the documents."
      ],
      "metadata": {
        "id": "xx0-a4cNUuwz"
      },
      "execution_count": null,
      "outputs": []
    },
    {
      "cell_type": "markdown",
      "source": [
        "#part 2"
      ],
      "metadata": {
        "id": "ipcnTAET0i87"
      }
    },
    {
      "cell_type": "markdown",
      "source": [
        "###implement minimum edit distance"
      ],
      "metadata": {
        "id": "qhxKS02P0l6y"
      }
    },
    {
      "cell_type": "code",
      "source": [
        "# A Dynamic Programming based Python program for edit\n",
        "# distance problem\n",
        "\n",
        "\n",
        "def editDistDP(str1, str2, m, n):\n",
        "\t# Create a table to store results of subproblems\n",
        "\tdp = [[0 for x in range(n + 1)] for x in range(m + 1)]\n",
        "\n",
        "\t# Fill d[][] in bottom up manner\n",
        "\tfor i in range(m + 1):\n",
        "\t\tfor j in range(n + 1):\n",
        "    \n",
        "\t\t\tif i == 0:\n",
        "\t\t\t\tdp[i][j] = j # Min. operations = j\n",
        "\n",
        "\t\t\telif j == 0:\n",
        "\t\t\t\tdp[i][j] = i # Min. operations = i\n",
        "\n",
        "\t\t\telif str1[i-1] == str2[j-1]:\n",
        "\t\t\t\tdp[i][j] = dp[i-1][j-1]\n",
        "\n",
        "\t\t\telse:\n",
        "\t\t\t\tdp[i][j] = 1 + min(dp[i][j-1],\t # Insert\n",
        "\t\t\t\t\t\t\t\tdp[i-1][j],\t # Remove\n",
        "\t\t\t\t\t\t\t\tdp[i-1][j-1]) # Replace\n",
        "  \n",
        "\treturn dp[m][n]\n"
      ],
      "metadata": {
        "id": "ZjcjoJT92PI3"
      },
      "execution_count": 9,
      "outputs": []
    },
    {
      "cell_type": "code",
      "source": [],
      "metadata": {
        "id": "1AxUVsIC8bN3"
      },
      "execution_count": 9,
      "outputs": []
    },
    {
      "cell_type": "markdown",
      "source": [
        "###similarity between the documnets using the the number of minimum edit distance operations."
      ],
      "metadata": {
        "id": "xQ86KgjZFfyq"
      }
    },
    {
      "cell_type": "code",
      "source": [
        "\n",
        "for i in range(0,len(df)):\n",
        "  if i ==11:\n",
        "    break\n",
        "  str1 = df[0]\n",
        "  str2 = df[i]\n",
        "  print (f'to convert the string {str1} to {str2} required {editDistDP(str1, str2, len(str1), len(str2))} operatioin')\n"
      ],
      "metadata": {
        "colab": {
          "base_uri": "https://localhost:8080/"
        },
        "id": "kcrVsCjs6Pkh",
        "outputId": "0dc41edd-95b1-4de0-8083-f8394a70ea60"
      },
      "execution_count": 10,
      "outputs": [
        {
          "output_type": "stream",
          "name": "stdout",
          "text": [
            "to convert the string the intelligence exhibited by machines is termed artificial intelligence (ai) to the intelligence exhibited by machines is termed artificial intelligence (ai) required 0 operatioin\n",
            "to convert the string the intelligence exhibited by machines is termed artificial intelligence (ai) to  it induces the capability to think and learn in the machines required 57 operatioin\n",
            "to convert the string the intelligence exhibited by machines is termed artificial intelligence (ai) to it refers that the machine will exhibit human intelligence required 46 operatioin\n",
            "to convert the string the intelligence exhibited by machines is termed artificial intelligence (ai) to artificial intelligence came into existence in the year 1955 required 55 operatioin\n",
            "to convert the string the intelligence exhibited by machines is termed artificial intelligence (ai) to john mccarthy is regarded as the father of artificial intelligence required 42 operatioin\n",
            "to convert the string the intelligence exhibited by machines is termed artificial intelligence (ai) to  he was a computer scientist in the united states of america required 58 operatioin\n",
            "to convert the string the intelligence exhibited by machines is termed artificial intelligence (ai) to  ai aims to make the life of human beings more convenient required 58 operatioin\n",
            "to convert the string the intelligence exhibited by machines is termed artificial intelligence (ai) to there are very few chances of occurrence of error by using ai required 57 operatioin\n",
            "to convert the string the intelligence exhibited by machines is termed artificial intelligence (ai) to they work according to the commands given in form of programs required 61 operatioin\n",
            "to convert the string the intelligence exhibited by machines is termed artificial intelligence (ai) to  python programming language is widely used for ai at present required 61 operatioin\n",
            "to convert the string the intelligence exhibited by machines is termed artificial intelligence (ai) to artificial intelligence is a great invention of the human mind required 57 operatioin\n"
          ]
        }
      ]
    },
    {
      "cell_type": "code",
      "source": [
        "for i in range(0,len(df)):\n",
        "  if i ==11:\n",
        "    break\n",
        "  str1 = df[2]\n",
        "  str2 = df[i]\n",
        "  print (f'to convert the string {str1} to {str2} required {editDistDP(str1, str2, len(str1), len(str2))} operatioin')\n"
      ],
      "metadata": {
        "colab": {
          "base_uri": "https://localhost:8080/"
        },
        "id": "OZ8pyQuj6PrZ",
        "outputId": "e19a16c2-ca7d-43a1-bada-91d9948422c3"
      },
      "execution_count": 11,
      "outputs": [
        {
          "output_type": "stream",
          "name": "stdout",
          "text": [
            "to convert the string it refers that the machine will exhibit human intelligence to the intelligence exhibited by machines is termed artificial intelligence (ai) required 46 operatioin\n",
            "to convert the string it refers that the machine will exhibit human intelligence to  it induces the capability to think and learn in the machines required 45 operatioin\n",
            "to convert the string it refers that the machine will exhibit human intelligence to it refers that the machine will exhibit human intelligence required 0 operatioin\n",
            "to convert the string it refers that the machine will exhibit human intelligence to artificial intelligence came into existence in the year 1955 required 49 operatioin\n",
            "to convert the string it refers that the machine will exhibit human intelligence to john mccarthy is regarded as the father of artificial intelligence required 41 operatioin\n",
            "to convert the string it refers that the machine will exhibit human intelligence to  he was a computer scientist in the united states of america required 49 operatioin\n",
            "to convert the string it refers that the machine will exhibit human intelligence to  ai aims to make the life of human beings more convenient required 43 operatioin\n",
            "to convert the string it refers that the machine will exhibit human intelligence to there are very few chances of occurrence of error by using ai required 49 operatioin\n",
            "to convert the string it refers that the machine will exhibit human intelligence to they work according to the commands given in form of programs required 50 operatioin\n",
            "to convert the string it refers that the machine will exhibit human intelligence to  python programming language is widely used for ai at present required 50 operatioin\n",
            "to convert the string it refers that the machine will exhibit human intelligence to artificial intelligence is a great invention of the human mind required 51 operatioin\n"
          ]
        }
      ]
    },
    {
      "cell_type": "markdown",
      "source": [
        "###limitation of edit distance\n"
      ],
      "metadata": {
        "id": "ljXSC1w7HXET"
      }
    },
    {
      "cell_type": "code",
      "source": [
        "## The problem with the edit distance is the complesity of searching the word if the vocabulary is greater. In \n",
        "#   this case the algorithm searches for the best match among the vocabulary so it take a lot time to find out the \n",
        "#    best match\n",
        "## the second problem is the comlixity of word if the word is long or the pattern we are searching for is long."
      ],
      "metadata": {
        "id": "73ozEbGCHWP5"
      },
      "execution_count": 12,
      "outputs": []
    },
    {
      "cell_type": "markdown",
      "source": [
        "###comparision between the two"
      ],
      "metadata": {
        "id": "kIYY43keFVsW"
      }
    },
    {
      "cell_type": "code",
      "source": [
        "distance=nltk.edit_distance('sunday' , 'saturday' )\n",
        "print(distance)"
      ],
      "metadata": {
        "colab": {
          "base_uri": "https://localhost:8080/"
        },
        "id": "SFj3qRyo20O6",
        "outputId": "c9e18232-1bf0-4ffb-8fb0-722f8d1f3d76"
      },
      "execution_count": 13,
      "outputs": [
        {
          "output_type": "stream",
          "name": "stdout",
          "text": [
            "3\n"
          ]
        }
      ]
    },
    {
      "cell_type": "code",
      "source": [
        "str1 = \"sunday\"\n",
        "str2 = \"saturday\"\n",
        "\n",
        "\n",
        "\n",
        "print (editDistDP(str1, str2, len(str1), len(str2)))\n"
      ],
      "metadata": {
        "id": "cNdvO69u3CAr",
        "colab": {
          "base_uri": "https://localhost:8080/"
        },
        "outputId": "e4cadde2-1f4a-4d5a-ab18-34669f9c79c1"
      },
      "execution_count": 14,
      "outputs": [
        {
          "output_type": "stream",
          "name": "stdout",
          "text": [
            "3\n"
          ]
        }
      ]
    },
    {
      "cell_type": "markdown",
      "source": [
        "# part 3"
      ],
      "metadata": {
        "id": "X0OFU6stIF6Z"
      }
    },
    {
      "cell_type": "code",
      "source": [
        "words = []\n",
        "for doc in df:\n",
        "  doc = word_tokenize(doc)\n",
        "  for word in doc:\n",
        "    words.append(word)"
      ],
      "metadata": {
        "id": "ErMz8Cg7RWx9"
      },
      "execution_count": 21,
      "outputs": []
    },
    {
      "cell_type": "code",
      "source": [
        "def term_freq(doc,words):\n",
        "  vocab = {}\n",
        "  doc = word_tokenize(doc)\n",
        "  total = len(doc)\n",
        "  for word in words:\n",
        "    count = doc.count(word)\n",
        "    vocab[word] = count / total\n",
        "  return vocab"
      ],
      "metadata": {
        "id": "kVAEGrNrFUCS"
      },
      "execution_count": 22,
      "outputs": []
    },
    {
      "cell_type": "code",
      "source": [
        "tf = []\n",
        "for doc in df:\n",
        "  tf.append((term_freq(doc,words)))"
      ],
      "metadata": {
        "id": "f3tsfqstUFai"
      },
      "execution_count": 23,
      "outputs": []
    },
    {
      "cell_type": "code",
      "source": [
        "len(tf)"
      ],
      "metadata": {
        "colab": {
          "base_uri": "https://localhost:8080/"
        },
        "id": "F_T4k0zDfQ3L",
        "outputId": "5e1d9b8e-d91e-4a83-cb58-e580557af970"
      },
      "execution_count": 24,
      "outputs": [
        {
          "output_type": "execute_result",
          "data": {
            "text/plain": [
              "12"
            ]
          },
          "metadata": {},
          "execution_count": 24
        }
      ]
    },
    {
      "cell_type": "code",
      "source": [
        "def inverse_freq(df,words):\n",
        "  i_f = {}\n",
        "  total  = len(df)\n",
        "  for word in words:\n",
        "    count = 0\n",
        "    for doc in df:\n",
        "      if word in doc:\n",
        "        count = count + 1\n",
        "    i_f[word] = count / total  \n",
        "  return i_f"
      ],
      "metadata": {
        "id": "U3dBKPgGLfLE"
      },
      "execution_count": 25,
      "outputs": []
    },
    {
      "cell_type": "code",
      "source": [
        "i_freq = inverse_freq(df,words)"
      ],
      "metadata": {
        "id": "1vxhaceoLLl1"
      },
      "execution_count": 26,
      "outputs": []
    },
    {
      "cell_type": "code",
      "source": [
        "len(i_freq)"
      ],
      "metadata": {
        "colab": {
          "base_uri": "https://localhost:8080/"
        },
        "id": "NFjGGGwmMKDl",
        "outputId": "3e6c3387-1102-4e78-ed33-7f45773e518d"
      },
      "execution_count": 27,
      "outputs": [
        {
          "output_type": "execute_result",
          "data": {
            "text/plain": [
              "80"
            ]
          },
          "metadata": {},
          "execution_count": 27
        }
      ]
    },
    {
      "cell_type": "code",
      "source": [
        "i_freq['intelligence']"
      ],
      "metadata": {
        "colab": {
          "base_uri": "https://localhost:8080/"
        },
        "id": "0pTbbtdWhMKo",
        "outputId": "6d625d67-e17b-4534-ca8d-c84fddd3be7e"
      },
      "execution_count": 28,
      "outputs": [
        {
          "output_type": "execute_result",
          "data": {
            "text/plain": [
              "0.5"
            ]
          },
          "metadata": {},
          "execution_count": 28
        }
      ]
    },
    {
      "cell_type": "code",
      "source": [
        "## tfidf through the documnet wise\n",
        "tf_idf = []\n",
        "for term_frq in tf:\n",
        "  doc_tf_idf = {}\n",
        "  for word in i_freq.keys():\n",
        "    doc_tf_idf[word] = (term_frq[word] * i_freq[word])\n",
        "  tf_idf.append(doc_tf_idf)"
      ],
      "metadata": {
        "id": "bklk8F89nZHQ"
      },
      "execution_count": 29,
      "outputs": []
    },
    {
      "cell_type": "code",
      "source": [
        "print('document 1 tfidf')\n",
        "print(tf_idf[0])"
      ],
      "metadata": {
        "colab": {
          "base_uri": "https://localhost:8080/"
        },
        "id": "Lyzkf8mgopMw",
        "outputId": "9595c7b0-fed1-486b-cbeb-be79b707c999"
      },
      "execution_count": 30,
      "outputs": [
        {
          "output_type": "stream",
          "name": "stdout",
          "text": [
            "document 1 tfidf\n",
            "{'the': 0.06944444444444445, 'intelligence': 0.08333333333333333, 'exhibited': 0.006944444444444444, 'by': 0.013888888888888888, 'machines': 0.020833333333333332, 'is': 0.04861111111111111, 'termed': 0.006944444444444444, 'artificial': 0.034722222222222224, '(': 0.006944444444444444, 'ai': 0.027777777777777776, ')': 0.006944444444444444, 'it': 0.0, 'induces': 0.0, 'capability': 0.0, 'to': 0.0, 'think': 0.0, 'and': 0.0, 'learn': 0.0, 'in': 0.0, 'refers': 0.0, 'that': 0.0, 'machine': 0.0, 'will': 0.0, 'exhibit': 0.0, 'human': 0.0, 'came': 0.0, 'into': 0.0, 'existence': 0.0, 'year': 0.0, '1955': 0.0, 'john': 0.0, 'mccarthy': 0.0, 'regarded': 0.0, 'as': 0.0, 'father': 0.0, 'of': 0.0, 'he': 0.0, 'was': 0.0, 'a': 0.0, 'computer': 0.0, 'scientist': 0.0, 'united': 0.0, 'states': 0.0, 'america': 0.0, 'aims': 0.0, 'make': 0.0, 'life': 0.0, 'beings': 0.0, 'more': 0.0, 'convenient': 0.0, 'there': 0.0, 'are': 0.0, 'very': 0.0, 'few': 0.0, 'chances': 0.0, 'occurrence': 0.0, 'error': 0.0, 'using': 0.0, 'they': 0.0, 'work': 0.0, 'according': 0.0, 'commands': 0.0, 'given': 0.0, 'form': 0.0, 'programs': 0.0, 'python': 0.0, 'programming': 0.0, 'language': 0.0, 'widely': 0.0, 'used': 0.0, 'for': 0.0, 'at': 0.0, 'present': 0.0, 'great': 0.0, 'invention': 0.0, 'mind': 0.0, 'this': 0.0, 'artificially': 0.0, 'developed': 0.0, 'computers': 0.0}\n"
          ]
        }
      ]
    },
    {
      "cell_type": "markdown",
      "source": [
        "###using nltk"
      ],
      "metadata": {
        "id": "DDBhXrarwz1b"
      }
    },
    {
      "cell_type": "code",
      "source": [
        "import sklearn\n",
        "from sklearn.feature_extraction.text import TfidfVectorizer\n",
        "tfidf = TfidfVectorizer()\n",
        "\n",
        "tf_vector = tfidf.fit_transform([df[0], df[1], df[2], df[3], df[4], df[5], df[6], df[7], df[8], df[9], df[10], df[11]])"
      ],
      "metadata": {
        "id": "9GQERwgXuYm9"
      },
      "execution_count": 31,
      "outputs": []
    },
    {
      "cell_type": "code",
      "source": [
        "tf_arr = tf_vector.toarray()"
      ],
      "metadata": {
        "id": "mWb5tsGcwGY_"
      },
      "execution_count": 32,
      "outputs": []
    },
    {
      "cell_type": "code",
      "source": [
        "tfidf.get_feature_names_out()"
      ],
      "metadata": {
        "colab": {
          "base_uri": "https://localhost:8080/"
        },
        "id": "Dm-v7aMWyBgj",
        "outputId": "822352c5-e49a-4651-abfd-15e2ff642f1e"
      },
      "execution_count": 33,
      "outputs": [
        {
          "output_type": "execute_result",
          "data": {
            "text/plain": [
              "array(['1955', 'according', 'ai', 'aims', 'america', 'and', 'are',\n",
              "       'artificial', 'artificially', 'as', 'at', 'beings', 'by', 'came',\n",
              "       'capability', 'chances', 'commands', 'computer', 'computers',\n",
              "       'convenient', 'developed', 'error', 'exhibit', 'exhibited',\n",
              "       'existence', 'father', 'few', 'for', 'form', 'given', 'great',\n",
              "       'he', 'human', 'in', 'induces', 'intelligence', 'into',\n",
              "       'invention', 'is', 'it', 'john', 'language', 'learn', 'life',\n",
              "       'machine', 'machines', 'make', 'mccarthy', 'mind', 'more',\n",
              "       'occurrence', 'of', 'present', 'programming', 'programs', 'python',\n",
              "       'refers', 'regarded', 'scientist', 'states', 'termed', 'that',\n",
              "       'the', 'there', 'they', 'think', 'this', 'to', 'united', 'used',\n",
              "       'using', 'very', 'was', 'widely', 'will', 'work', 'year'],\n",
              "      dtype=object)"
            ]
          },
          "metadata": {},
          "execution_count": 33
        }
      ]
    },
    {
      "cell_type": "code",
      "source": [
        "import pandas as pd\n",
        "df_tf_idf = pd.DataFrame(tf_arr, columns = tfidf.get_feature_names_out())"
      ],
      "metadata": {
        "id": "pQXV4rBPyUG_"
      },
      "execution_count": 35,
      "outputs": []
    },
    {
      "cell_type": "code",
      "source": [
        "df_tf_idf"
      ],
      "metadata": {
        "colab": {
          "base_uri": "https://localhost:8080/",
          "height": 519
        },
        "id": "E7CIsFcYycTX",
        "outputId": "9d9848d2-5dd5-42fe-e735-2a3e2dcd1846"
      },
      "execution_count": 36,
      "outputs": [
        {
          "output_type": "execute_result",
          "data": {
            "text/plain": [
              "        1955  according        ai      aims   america       and      are  \\\n",
              "0   0.000000   0.000000  0.276014  0.000000  0.000000  0.000000  0.00000   \n",
              "1   0.000000   0.000000  0.000000  0.000000  0.000000  0.307893  0.00000   \n",
              "2   0.000000   0.000000  0.000000  0.000000  0.000000  0.000000  0.00000   \n",
              "3   0.396651   0.000000  0.000000  0.000000  0.000000  0.000000  0.00000   \n",
              "4   0.000000   0.000000  0.000000  0.000000  0.000000  0.000000  0.00000   \n",
              "5   0.000000   0.000000  0.000000  0.000000  0.355957  0.000000  0.00000   \n",
              "6   0.000000   0.000000  0.238876  0.350806  0.000000  0.000000  0.00000   \n",
              "7   0.000000   0.000000  0.210416  0.000000  0.000000  0.000000  0.30901   \n",
              "8   0.000000   0.343648  0.000000  0.000000  0.000000  0.000000  0.00000   \n",
              "9   0.000000   0.000000  0.228960  0.000000  0.000000  0.000000  0.00000   \n",
              "10  0.000000   0.000000  0.000000  0.000000  0.000000  0.000000  0.00000   \n",
              "11  0.000000   0.000000  0.000000  0.000000  0.000000  0.339650  0.00000   \n",
              "\n",
              "    artificial  artificially        as  ...        to    united      used  \\\n",
              "0     0.276014      0.000000  0.000000  ...  0.000000  0.000000  0.000000   \n",
              "1     0.000000      0.000000  0.000000  ...  0.271979  0.000000  0.000000   \n",
              "2     0.000000      0.000000  0.000000  ...  0.000000  0.000000  0.000000   \n",
              "3     0.270094      0.000000  0.000000  ...  0.000000  0.000000  0.000000   \n",
              "4     0.263584      0.000000  0.387091  ...  0.000000  0.000000  0.000000   \n",
              "5     0.000000      0.000000  0.000000  ...  0.000000  0.355957  0.000000   \n",
              "6     0.000000      0.000000  0.000000  ...  0.266134  0.000000  0.000000   \n",
              "7     0.000000      0.000000  0.000000  ...  0.000000  0.000000  0.000000   \n",
              "8     0.000000      0.000000  0.000000  ...  0.260704  0.000000  0.000000   \n",
              "9     0.000000      0.000000  0.000000  ...  0.000000  0.000000  0.336243   \n",
              "10    0.297203      0.000000  0.000000  ...  0.000000  0.000000  0.000000   \n",
              "11    0.000000      0.395488  0.000000  ...  0.000000  0.000000  0.000000   \n",
              "\n",
              "      using     very       was    widely      will      work      year  \n",
              "0   0.00000  0.00000  0.000000  0.000000  0.000000  0.000000  0.000000  \n",
              "1   0.00000  0.00000  0.000000  0.000000  0.000000  0.000000  0.000000  \n",
              "2   0.00000  0.00000  0.000000  0.000000  0.382803  0.000000  0.000000  \n",
              "3   0.00000  0.00000  0.000000  0.000000  0.000000  0.000000  0.396651  \n",
              "4   0.00000  0.00000  0.000000  0.000000  0.000000  0.000000  0.000000  \n",
              "5   0.00000  0.00000  0.355957  0.000000  0.000000  0.000000  0.000000  \n",
              "6   0.00000  0.00000  0.000000  0.000000  0.000000  0.000000  0.000000  \n",
              "7   0.30901  0.30901  0.000000  0.000000  0.000000  0.000000  0.000000  \n",
              "8   0.00000  0.00000  0.000000  0.000000  0.000000  0.343648  0.000000  \n",
              "9   0.00000  0.00000  0.000000  0.336243  0.000000  0.000000  0.000000  \n",
              "10  0.00000  0.00000  0.000000  0.000000  0.000000  0.000000  0.000000  \n",
              "11  0.00000  0.00000  0.000000  0.000000  0.000000  0.000000  0.000000  \n",
              "\n",
              "[12 rows x 77 columns]"
            ],
            "text/html": [
              "\n",
              "  <div id=\"df-d2978a2d-05e8-4c59-b58b-4db7d5c74e48\">\n",
              "    <div class=\"colab-df-container\">\n",
              "      <div>\n",
              "<style scoped>\n",
              "    .dataframe tbody tr th:only-of-type {\n",
              "        vertical-align: middle;\n",
              "    }\n",
              "\n",
              "    .dataframe tbody tr th {\n",
              "        vertical-align: top;\n",
              "    }\n",
              "\n",
              "    .dataframe thead th {\n",
              "        text-align: right;\n",
              "    }\n",
              "</style>\n",
              "<table border=\"1\" class=\"dataframe\">\n",
              "  <thead>\n",
              "    <tr style=\"text-align: right;\">\n",
              "      <th></th>\n",
              "      <th>1955</th>\n",
              "      <th>according</th>\n",
              "      <th>ai</th>\n",
              "      <th>aims</th>\n",
              "      <th>america</th>\n",
              "      <th>and</th>\n",
              "      <th>are</th>\n",
              "      <th>artificial</th>\n",
              "      <th>artificially</th>\n",
              "      <th>as</th>\n",
              "      <th>...</th>\n",
              "      <th>to</th>\n",
              "      <th>united</th>\n",
              "      <th>used</th>\n",
              "      <th>using</th>\n",
              "      <th>very</th>\n",
              "      <th>was</th>\n",
              "      <th>widely</th>\n",
              "      <th>will</th>\n",
              "      <th>work</th>\n",
              "      <th>year</th>\n",
              "    </tr>\n",
              "  </thead>\n",
              "  <tbody>\n",
              "    <tr>\n",
              "      <th>0</th>\n",
              "      <td>0.000000</td>\n",
              "      <td>0.000000</td>\n",
              "      <td>0.276014</td>\n",
              "      <td>0.000000</td>\n",
              "      <td>0.000000</td>\n",
              "      <td>0.000000</td>\n",
              "      <td>0.00000</td>\n",
              "      <td>0.276014</td>\n",
              "      <td>0.000000</td>\n",
              "      <td>0.000000</td>\n",
              "      <td>...</td>\n",
              "      <td>0.000000</td>\n",
              "      <td>0.000000</td>\n",
              "      <td>0.000000</td>\n",
              "      <td>0.00000</td>\n",
              "      <td>0.00000</td>\n",
              "      <td>0.000000</td>\n",
              "      <td>0.000000</td>\n",
              "      <td>0.000000</td>\n",
              "      <td>0.000000</td>\n",
              "      <td>0.000000</td>\n",
              "    </tr>\n",
              "    <tr>\n",
              "      <th>1</th>\n",
              "      <td>0.000000</td>\n",
              "      <td>0.000000</td>\n",
              "      <td>0.000000</td>\n",
              "      <td>0.000000</td>\n",
              "      <td>0.000000</td>\n",
              "      <td>0.307893</td>\n",
              "      <td>0.00000</td>\n",
              "      <td>0.000000</td>\n",
              "      <td>0.000000</td>\n",
              "      <td>0.000000</td>\n",
              "      <td>...</td>\n",
              "      <td>0.271979</td>\n",
              "      <td>0.000000</td>\n",
              "      <td>0.000000</td>\n",
              "      <td>0.00000</td>\n",
              "      <td>0.00000</td>\n",
              "      <td>0.000000</td>\n",
              "      <td>0.000000</td>\n",
              "      <td>0.000000</td>\n",
              "      <td>0.000000</td>\n",
              "      <td>0.000000</td>\n",
              "    </tr>\n",
              "    <tr>\n",
              "      <th>2</th>\n",
              "      <td>0.000000</td>\n",
              "      <td>0.000000</td>\n",
              "      <td>0.000000</td>\n",
              "      <td>0.000000</td>\n",
              "      <td>0.000000</td>\n",
              "      <td>0.000000</td>\n",
              "      <td>0.00000</td>\n",
              "      <td>0.000000</td>\n",
              "      <td>0.000000</td>\n",
              "      <td>0.000000</td>\n",
              "      <td>...</td>\n",
              "      <td>0.000000</td>\n",
              "      <td>0.000000</td>\n",
              "      <td>0.000000</td>\n",
              "      <td>0.00000</td>\n",
              "      <td>0.00000</td>\n",
              "      <td>0.000000</td>\n",
              "      <td>0.000000</td>\n",
              "      <td>0.382803</td>\n",
              "      <td>0.000000</td>\n",
              "      <td>0.000000</td>\n",
              "    </tr>\n",
              "    <tr>\n",
              "      <th>3</th>\n",
              "      <td>0.396651</td>\n",
              "      <td>0.000000</td>\n",
              "      <td>0.000000</td>\n",
              "      <td>0.000000</td>\n",
              "      <td>0.000000</td>\n",
              "      <td>0.000000</td>\n",
              "      <td>0.00000</td>\n",
              "      <td>0.270094</td>\n",
              "      <td>0.000000</td>\n",
              "      <td>0.000000</td>\n",
              "      <td>...</td>\n",
              "      <td>0.000000</td>\n",
              "      <td>0.000000</td>\n",
              "      <td>0.000000</td>\n",
              "      <td>0.00000</td>\n",
              "      <td>0.00000</td>\n",
              "      <td>0.000000</td>\n",
              "      <td>0.000000</td>\n",
              "      <td>0.000000</td>\n",
              "      <td>0.000000</td>\n",
              "      <td>0.396651</td>\n",
              "    </tr>\n",
              "    <tr>\n",
              "      <th>4</th>\n",
              "      <td>0.000000</td>\n",
              "      <td>0.000000</td>\n",
              "      <td>0.000000</td>\n",
              "      <td>0.000000</td>\n",
              "      <td>0.000000</td>\n",
              "      <td>0.000000</td>\n",
              "      <td>0.00000</td>\n",
              "      <td>0.263584</td>\n",
              "      <td>0.000000</td>\n",
              "      <td>0.387091</td>\n",
              "      <td>...</td>\n",
              "      <td>0.000000</td>\n",
              "      <td>0.000000</td>\n",
              "      <td>0.000000</td>\n",
              "      <td>0.00000</td>\n",
              "      <td>0.00000</td>\n",
              "      <td>0.000000</td>\n",
              "      <td>0.000000</td>\n",
              "      <td>0.000000</td>\n",
              "      <td>0.000000</td>\n",
              "      <td>0.000000</td>\n",
              "    </tr>\n",
              "    <tr>\n",
              "      <th>5</th>\n",
              "      <td>0.000000</td>\n",
              "      <td>0.000000</td>\n",
              "      <td>0.000000</td>\n",
              "      <td>0.000000</td>\n",
              "      <td>0.355957</td>\n",
              "      <td>0.000000</td>\n",
              "      <td>0.00000</td>\n",
              "      <td>0.000000</td>\n",
              "      <td>0.000000</td>\n",
              "      <td>0.000000</td>\n",
              "      <td>...</td>\n",
              "      <td>0.000000</td>\n",
              "      <td>0.355957</td>\n",
              "      <td>0.000000</td>\n",
              "      <td>0.00000</td>\n",
              "      <td>0.00000</td>\n",
              "      <td>0.355957</td>\n",
              "      <td>0.000000</td>\n",
              "      <td>0.000000</td>\n",
              "      <td>0.000000</td>\n",
              "      <td>0.000000</td>\n",
              "    </tr>\n",
              "    <tr>\n",
              "      <th>6</th>\n",
              "      <td>0.000000</td>\n",
              "      <td>0.000000</td>\n",
              "      <td>0.238876</td>\n",
              "      <td>0.350806</td>\n",
              "      <td>0.000000</td>\n",
              "      <td>0.000000</td>\n",
              "      <td>0.00000</td>\n",
              "      <td>0.000000</td>\n",
              "      <td>0.000000</td>\n",
              "      <td>0.000000</td>\n",
              "      <td>...</td>\n",
              "      <td>0.266134</td>\n",
              "      <td>0.000000</td>\n",
              "      <td>0.000000</td>\n",
              "      <td>0.00000</td>\n",
              "      <td>0.00000</td>\n",
              "      <td>0.000000</td>\n",
              "      <td>0.000000</td>\n",
              "      <td>0.000000</td>\n",
              "      <td>0.000000</td>\n",
              "      <td>0.000000</td>\n",
              "    </tr>\n",
              "    <tr>\n",
              "      <th>7</th>\n",
              "      <td>0.000000</td>\n",
              "      <td>0.000000</td>\n",
              "      <td>0.210416</td>\n",
              "      <td>0.000000</td>\n",
              "      <td>0.000000</td>\n",
              "      <td>0.000000</td>\n",
              "      <td>0.30901</td>\n",
              "      <td>0.000000</td>\n",
              "      <td>0.000000</td>\n",
              "      <td>0.000000</td>\n",
              "      <td>...</td>\n",
              "      <td>0.000000</td>\n",
              "      <td>0.000000</td>\n",
              "      <td>0.000000</td>\n",
              "      <td>0.30901</td>\n",
              "      <td>0.30901</td>\n",
              "      <td>0.000000</td>\n",
              "      <td>0.000000</td>\n",
              "      <td>0.000000</td>\n",
              "      <td>0.000000</td>\n",
              "      <td>0.000000</td>\n",
              "    </tr>\n",
              "    <tr>\n",
              "      <th>8</th>\n",
              "      <td>0.000000</td>\n",
              "      <td>0.343648</td>\n",
              "      <td>0.000000</td>\n",
              "      <td>0.000000</td>\n",
              "      <td>0.000000</td>\n",
              "      <td>0.000000</td>\n",
              "      <td>0.00000</td>\n",
              "      <td>0.000000</td>\n",
              "      <td>0.000000</td>\n",
              "      <td>0.000000</td>\n",
              "      <td>...</td>\n",
              "      <td>0.260704</td>\n",
              "      <td>0.000000</td>\n",
              "      <td>0.000000</td>\n",
              "      <td>0.00000</td>\n",
              "      <td>0.00000</td>\n",
              "      <td>0.000000</td>\n",
              "      <td>0.000000</td>\n",
              "      <td>0.000000</td>\n",
              "      <td>0.343648</td>\n",
              "      <td>0.000000</td>\n",
              "    </tr>\n",
              "    <tr>\n",
              "      <th>9</th>\n",
              "      <td>0.000000</td>\n",
              "      <td>0.000000</td>\n",
              "      <td>0.228960</td>\n",
              "      <td>0.000000</td>\n",
              "      <td>0.000000</td>\n",
              "      <td>0.000000</td>\n",
              "      <td>0.00000</td>\n",
              "      <td>0.000000</td>\n",
              "      <td>0.000000</td>\n",
              "      <td>0.000000</td>\n",
              "      <td>...</td>\n",
              "      <td>0.000000</td>\n",
              "      <td>0.000000</td>\n",
              "      <td>0.336243</td>\n",
              "      <td>0.00000</td>\n",
              "      <td>0.00000</td>\n",
              "      <td>0.000000</td>\n",
              "      <td>0.336243</td>\n",
              "      <td>0.000000</td>\n",
              "      <td>0.000000</td>\n",
              "      <td>0.000000</td>\n",
              "    </tr>\n",
              "    <tr>\n",
              "      <th>10</th>\n",
              "      <td>0.000000</td>\n",
              "      <td>0.000000</td>\n",
              "      <td>0.000000</td>\n",
              "      <td>0.000000</td>\n",
              "      <td>0.000000</td>\n",
              "      <td>0.000000</td>\n",
              "      <td>0.00000</td>\n",
              "      <td>0.297203</td>\n",
              "      <td>0.000000</td>\n",
              "      <td>0.000000</td>\n",
              "      <td>...</td>\n",
              "      <td>0.000000</td>\n",
              "      <td>0.000000</td>\n",
              "      <td>0.000000</td>\n",
              "      <td>0.00000</td>\n",
              "      <td>0.00000</td>\n",
              "      <td>0.000000</td>\n",
              "      <td>0.000000</td>\n",
              "      <td>0.000000</td>\n",
              "      <td>0.000000</td>\n",
              "      <td>0.000000</td>\n",
              "    </tr>\n",
              "    <tr>\n",
              "      <th>11</th>\n",
              "      <td>0.000000</td>\n",
              "      <td>0.000000</td>\n",
              "      <td>0.000000</td>\n",
              "      <td>0.000000</td>\n",
              "      <td>0.000000</td>\n",
              "      <td>0.339650</td>\n",
              "      <td>0.00000</td>\n",
              "      <td>0.000000</td>\n",
              "      <td>0.395488</td>\n",
              "      <td>0.000000</td>\n",
              "      <td>...</td>\n",
              "      <td>0.000000</td>\n",
              "      <td>0.000000</td>\n",
              "      <td>0.000000</td>\n",
              "      <td>0.00000</td>\n",
              "      <td>0.00000</td>\n",
              "      <td>0.000000</td>\n",
              "      <td>0.000000</td>\n",
              "      <td>0.000000</td>\n",
              "      <td>0.000000</td>\n",
              "      <td>0.000000</td>\n",
              "    </tr>\n",
              "  </tbody>\n",
              "</table>\n",
              "<p>12 rows × 77 columns</p>\n",
              "</div>\n",
              "      <button class=\"colab-df-convert\" onclick=\"convertToInteractive('df-d2978a2d-05e8-4c59-b58b-4db7d5c74e48')\"\n",
              "              title=\"Convert this dataframe to an interactive table.\"\n",
              "              style=\"display:none;\">\n",
              "        \n",
              "  <svg xmlns=\"http://www.w3.org/2000/svg\" height=\"24px\"viewBox=\"0 0 24 24\"\n",
              "       width=\"24px\">\n",
              "    <path d=\"M0 0h24v24H0V0z\" fill=\"none\"/>\n",
              "    <path d=\"M18.56 5.44l.94 2.06.94-2.06 2.06-.94-2.06-.94-.94-2.06-.94 2.06-2.06.94zm-11 1L8.5 8.5l.94-2.06 2.06-.94-2.06-.94L8.5 2.5l-.94 2.06-2.06.94zm10 10l.94 2.06.94-2.06 2.06-.94-2.06-.94-.94-2.06-.94 2.06-2.06.94z\"/><path d=\"M17.41 7.96l-1.37-1.37c-.4-.4-.92-.59-1.43-.59-.52 0-1.04.2-1.43.59L10.3 9.45l-7.72 7.72c-.78.78-.78 2.05 0 2.83L4 21.41c.39.39.9.59 1.41.59.51 0 1.02-.2 1.41-.59l7.78-7.78 2.81-2.81c.8-.78.8-2.07 0-2.86zM5.41 20L4 18.59l7.72-7.72 1.47 1.35L5.41 20z\"/>\n",
              "  </svg>\n",
              "      </button>\n",
              "      \n",
              "  <style>\n",
              "    .colab-df-container {\n",
              "      display:flex;\n",
              "      flex-wrap:wrap;\n",
              "      gap: 12px;\n",
              "    }\n",
              "\n",
              "    .colab-df-convert {\n",
              "      background-color: #E8F0FE;\n",
              "      border: none;\n",
              "      border-radius: 50%;\n",
              "      cursor: pointer;\n",
              "      display: none;\n",
              "      fill: #1967D2;\n",
              "      height: 32px;\n",
              "      padding: 0 0 0 0;\n",
              "      width: 32px;\n",
              "    }\n",
              "\n",
              "    .colab-df-convert:hover {\n",
              "      background-color: #E2EBFA;\n",
              "      box-shadow: 0px 1px 2px rgba(60, 64, 67, 0.3), 0px 1px 3px 1px rgba(60, 64, 67, 0.15);\n",
              "      fill: #174EA6;\n",
              "    }\n",
              "\n",
              "    [theme=dark] .colab-df-convert {\n",
              "      background-color: #3B4455;\n",
              "      fill: #D2E3FC;\n",
              "    }\n",
              "\n",
              "    [theme=dark] .colab-df-convert:hover {\n",
              "      background-color: #434B5C;\n",
              "      box-shadow: 0px 1px 3px 1px rgba(0, 0, 0, 0.15);\n",
              "      filter: drop-shadow(0px 1px 2px rgba(0, 0, 0, 0.3));\n",
              "      fill: #FFFFFF;\n",
              "    }\n",
              "  </style>\n",
              "\n",
              "      <script>\n",
              "        const buttonEl =\n",
              "          document.querySelector('#df-d2978a2d-05e8-4c59-b58b-4db7d5c74e48 button.colab-df-convert');\n",
              "        buttonEl.style.display =\n",
              "          google.colab.kernel.accessAllowed ? 'block' : 'none';\n",
              "\n",
              "        async function convertToInteractive(key) {\n",
              "          const element = document.querySelector('#df-d2978a2d-05e8-4c59-b58b-4db7d5c74e48');\n",
              "          const dataTable =\n",
              "            await google.colab.kernel.invokeFunction('convertToInteractive',\n",
              "                                                     [key], {});\n",
              "          if (!dataTable) return;\n",
              "\n",
              "          const docLinkHtml = 'Like what you see? Visit the ' +\n",
              "            '<a target=\"_blank\" href=https://colab.research.google.com/notebooks/data_table.ipynb>data table notebook</a>'\n",
              "            + ' to learn more about interactive tables.';\n",
              "          element.innerHTML = '';\n",
              "          dataTable['output_type'] = 'display_data';\n",
              "          await google.colab.output.renderOutput(dataTable, element);\n",
              "          const docLink = document.createElement('div');\n",
              "          docLink.innerHTML = docLinkHtml;\n",
              "          element.appendChild(docLink);\n",
              "        }\n",
              "      </script>\n",
              "    </div>\n",
              "  </div>\n",
              "  "
            ]
          },
          "metadata": {},
          "execution_count": 36
        }
      ]
    },
    {
      "cell_type": "code",
      "source": [
        "from sklearn.metrics.pairwise import cosine_similarity\n",
        "\n",
        "cosine_sim = cosine_similarity(tf_vector, tf_vector)\n"
      ],
      "metadata": {
        "id": "MaMHsYgN1oLl"
      },
      "execution_count": 37,
      "outputs": []
    },
    {
      "cell_type": "code",
      "source": [
        "print('------the i row and jth column represent the similarity of ith doc and jth doc-----')\n",
        "for doc in cosine_sim:\n",
        "  print(doc)\n",
        "#12 rows 12 columns (12 docs)"
      ],
      "metadata": {
        "colab": {
          "base_uri": "https://localhost:8080/"
        },
        "id": "JthUEIQh4u_c",
        "outputId": "18a30f99-96de-4128-b3e8-7efb58df09ab"
      },
      "execution_count": 38,
      "outputs": [
        {
          "output_type": "stream",
          "name": "stdout",
          "text": [
            "------the i row and jth column represent the similarity of ith doc and jth doc-----\n",
            "[1.         0.13979491 0.12861828 0.20782069 0.26263067 0.02787941\n",
            " 0.09340909 0.15046118 0.0269153  0.11515731 0.29612834 0.25528431]\n",
            "[0.13979491 1.         0.15425718 0.10916821 0.05362962 0.09796827\n",
            " 0.12098552 0.         0.16548645 0.         0.0604699  0.24023329]\n",
            "[0.12861828 0.15425718 1.         0.0775993  0.07572895 0.02632899\n",
            " 0.10323572 0.         0.0254185  0.         0.18154717 0.04811884]\n",
            "[0.20782069 0.10916821 0.0775993  1.         0.1496608  0.08110946\n",
            " 0.02688662 0.         0.07830459 0.         0.16874954 0.10966543]\n",
            "[0.26263067 0.05362962 0.07572895 0.1496608  1.         0.07041809\n",
            " 0.06939901 0.07603643 0.06798295 0.04962123 0.28279245 0.10702219]\n",
            "[0.02787941 0.09796827 0.02632899 0.08110946 0.07041809 1.\n",
            " 0.0638173  0.06992088 0.10915028 0.         0.07939968 0.0536702 ]\n",
            "[0.09340909 0.12098552 0.10323572 0.02688662 0.06939901 0.0638173\n",
            " 1.         0.11917239 0.13099274 0.05469302 0.16637223 0.        ]\n",
            "[0.15046118 0.         0.         0.         0.07603643 0.06992088\n",
            " 0.11917239 1.         0.06750293 0.0481768  0.08573462 0.        ]\n",
            "[0.0269153  0.16548645 0.0254185  0.07830459 0.06798295 0.10915028\n",
            " 0.13099274 0.06750293 1.         0.         0.07665395 0.05181422]\n",
            "[0.11515731 0.         0.         0.         0.04962123 0.\n",
            " 0.05469302 0.0481768  0.         1.         0.05595025 0.05069771]\n",
            "[0.29612834 0.0604699  0.18154717 0.16874954 0.28279245 0.07939968\n",
            " 0.16637223 0.08573462 0.07665395 0.05595025 1.         0.12067251]\n",
            "[0.25528431 0.24023329 0.04811884 0.10966543 0.10702219 0.0536702\n",
            " 0.         0.         0.05181422 0.05069771 0.12067251 1.        ]\n"
          ]
        }
      ]
    },
    {
      "cell_type": "code",
      "source": [],
      "metadata": {
        "id": "_PhJd2n45RJk"
      },
      "execution_count": 38,
      "outputs": []
    }
  ]
}