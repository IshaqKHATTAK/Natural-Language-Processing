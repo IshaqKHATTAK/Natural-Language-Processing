{
  "metadata": {
    "kernelspec": {
      "language": "python",
      "display_name": "Python 3",
      "name": "python3"
    },
    "language_info": {
      "name": "python",
      "version": "3.7.12",
      "mimetype": "text/x-python",
      "codemirror_mode": {
        "name": "ipython",
        "version": 3
      },
      "pygments_lexer": "ipython3",
      "nbconvert_exporter": "python",
      "file_extension": ".py"
    },
    "colab": {
      "provenance": [],
      "include_colab_link": true
    }
  },
  "nbformat_minor": 0,
  "nbformat": 4,
  "cells": [
    {
      "cell_type": "markdown",
      "metadata": {
        "id": "view-in-github",
        "colab_type": "text"
      },
      "source": [
        "<a href=\"https://colab.research.google.com/github/IshaqKHATTAK/Natural-Language-Processing/blob/main/movie_centiment_analysis_preprocessing_classificat.ipynb\" target=\"_parent\"><img src=\"https://colab.research.google.com/assets/colab-badge.svg\" alt=\"Open In Colab\"/></a>"
      ]
    },
    {
      "cell_type": "code",
      "source": [
        "# This Python 3 environment comes with many helpful analytics libraries installed\n",
        "# It is defined by the kaggle/python Docker image: https://github.com/kaggle/docker-python\n",
        "# For example, here's several helpful packages to load\n",
        "\n",
        "import numpy as np # linear algebra\n",
        "import pandas as pd # data processing, CSV file I/O (e.g. pd.read_csv)\n",
        "\n",
        "# Input data files are available in the read-only \"../input/\" directory\n",
        "# For example, running this (by clicking run or pressing Shift+Enter) will list all files under the input directory\n",
        "\n",
        "import os\n",
        "for dirname, _, filenames in os.walk('/kaggle/input'):\n",
        "    for filename in filenames:\n",
        "        print(os.path.join(dirname, filename))\n",
        "\n",
        "# You can write up to 20GB to the current directory (/kaggle/working/) that gets preserved as output when you create a version using \"Save & Run All\" \n",
        "# You can also write temporary files to /kaggle/temp/, but they won't be saved outside of the current session"
      ],
      "metadata": {
        "_uuid": "8f2839f25d086af736a60e9eeb907d3b93b6e0e5",
        "_cell_guid": "b1076dfc-b9ad-4769-8c92-a6c4dae69d19",
        "execution": {
          "iopub.status.busy": "2023-02-16T19:01:24.160873Z",
          "iopub.execute_input": "2023-02-16T19:01:24.161774Z",
          "iopub.status.idle": "2023-02-16T19:01:24.196369Z",
          "shell.execute_reply.started": "2023-02-16T19:01:24.161621Z",
          "shell.execute_reply": "2023-02-16T19:01:24.195312Z"
        },
        "trusted": true,
        "id": "2Pk32u9huCxS",
        "outputId": "1c9bbd88-7053-4373-eed0-d1ed1c7b74ab"
      },
      "execution_count": null,
      "outputs": [
        {
          "name": "stdout",
          "text": "/kaggle/input/imdb-dataset-of-50k-movie-reviews/IMDB Dataset.csv\n",
          "output_type": "stream"
        }
      ]
    },
    {
      "cell_type": "code",
      "source": [
        "# for train test split\n",
        "from sklearn.model_selection import train_test_split\n",
        "from sklearn.feature_extraction.text import CountVectorizer, TfidfVectorizer\n",
        "\n",
        "# Supervised learning algorithms  \n",
        "from sklearn.tree import DecisionTreeClassifier\n",
        "from sklearn.neighbors import KNeighborsClassifier\n",
        "from sklearn.ensemble import AdaBoostClassifier\n",
        "from sklearn.linear_model import LogisticRegression\n",
        "from sklearn.naive_bayes import MultinomialNB\n",
        "from sklearn.ensemble import RandomForestClassifier\n",
        "from sklearn.svm import SVC"
      ],
      "metadata": {
        "execution": {
          "iopub.status.busy": "2023-02-16T19:14:47.048102Z",
          "iopub.execute_input": "2023-02-16T19:14:47.048830Z",
          "iopub.status.idle": "2023-02-16T19:14:47.169017Z",
          "shell.execute_reply.started": "2023-02-16T19:14:47.048789Z",
          "shell.execute_reply": "2023-02-16T19:14:47.168086Z"
        },
        "trusted": true,
        "id": "S8vrn4TEuCxk"
      },
      "execution_count": null,
      "outputs": []
    },
    {
      "cell_type": "markdown",
      "source": [
        "# Text preprocessing"
      ],
      "metadata": {
        "id": "Rhrq7JutuCxo"
      }
    },
    {
      "cell_type": "markdown",
      "source": [
        "Normally any NLP task involves following text cleaning techniques -\n",
        "\n",
        "1. Removal of HTML contents like \"< br>\".\n",
        "\n",
        "2. Removal of punctutions, special characters like '\\'.\n",
        "\n",
        "3. Removal of stopwords like is, the which do not offer much insight.\n",
        "\n",
        "4. Stemming/Lemmatization to bring back multiple forms of same word to their common root like 'coming', 'comes' into 'come'.\n",
        "\n",
        "5. Vectorization - Encode the numeric values once you have cleaned it.\n",
        "\n",
        "6. Fit the data to the ML model.\n"
      ],
      "metadata": {
        "id": "Wl9QrtwyuCxw"
      }
    },
    {
      "cell_type": "markdown",
      "source": [
        "**reading data**"
      ],
      "metadata": {
        "id": "vGf9Z4UFuCxy"
      }
    },
    {
      "cell_type": "code",
      "source": [
        "df = pd.read_csv('/kaggle/input/imdb-dataset-of-50k-movie-reviews/IMDB Dataset.csv')\n",
        "df.head(5)"
      ],
      "metadata": {
        "execution": {
          "iopub.status.busy": "2023-02-16T19:01:24.210563Z",
          "iopub.execute_input": "2023-02-16T19:01:24.211308Z",
          "iopub.status.idle": "2023-02-16T19:01:25.870204Z",
          "shell.execute_reply.started": "2023-02-16T19:01:24.211267Z",
          "shell.execute_reply": "2023-02-16T19:01:25.869266Z"
        },
        "trusted": true,
        "id": "sVXhWPoguCx0",
        "outputId": "154ab8ab-eed3-466c-b785-d8da3145418c"
      },
      "execution_count": null,
      "outputs": [
        {
          "execution_count": 2,
          "output_type": "execute_result",
          "data": {
            "text/plain": "                                              review sentiment\n0  One of the other reviewers has mentioned that ...  positive\n1  A wonderful little production. <br /><br />The...  positive\n2  I thought this was a wonderful way to spend ti...  positive\n3  Basically there's a family where a little boy ...  negative\n4  Petter Mattei's \"Love in the Time of Money\" is...  positive",
            "text/html": "<div>\n<style scoped>\n    .dataframe tbody tr th:only-of-type {\n        vertical-align: middle;\n    }\n\n    .dataframe tbody tr th {\n        vertical-align: top;\n    }\n\n    .dataframe thead th {\n        text-align: right;\n    }\n</style>\n<table border=\"1\" class=\"dataframe\">\n  <thead>\n    <tr style=\"text-align: right;\">\n      <th></th>\n      <th>review</th>\n      <th>sentiment</th>\n    </tr>\n  </thead>\n  <tbody>\n    <tr>\n      <th>0</th>\n      <td>One of the other reviewers has mentioned that ...</td>\n      <td>positive</td>\n    </tr>\n    <tr>\n      <th>1</th>\n      <td>A wonderful little production. &lt;br /&gt;&lt;br /&gt;The...</td>\n      <td>positive</td>\n    </tr>\n    <tr>\n      <th>2</th>\n      <td>I thought this was a wonderful way to spend ti...</td>\n      <td>positive</td>\n    </tr>\n    <tr>\n      <th>3</th>\n      <td>Basically there's a family where a little boy ...</td>\n      <td>negative</td>\n    </tr>\n    <tr>\n      <th>4</th>\n      <td>Petter Mattei's \"Love in the Time of Money\" is...</td>\n      <td>positive</td>\n    </tr>\n  </tbody>\n</table>\n</div>"
          },
          "metadata": {}
        }
      ]
    },
    {
      "cell_type": "markdown",
      "source": [
        "**convert to lower case**"
      ],
      "metadata": {
        "id": "3SJ2oscIuCx2"
      }
    },
    {
      "cell_type": "code",
      "source": [
        "#Convert to lower\n",
        "df['review'] = df['review'].str.lower()"
      ],
      "metadata": {
        "execution": {
          "iopub.status.busy": "2023-02-16T19:01:25.874689Z",
          "iopub.execute_input": "2023-02-16T19:01:25.877280Z",
          "iopub.status.idle": "2023-02-16T19:01:26.072220Z",
          "shell.execute_reply.started": "2023-02-16T19:01:25.877241Z",
          "shell.execute_reply": "2023-02-16T19:01:26.071016Z"
        },
        "trusted": true,
        "id": "nx3bly-xuCx6"
      },
      "execution_count": null,
      "outputs": []
    },
    {
      "cell_type": "markdown",
      "source": [
        "**remove all html tags**"
      ],
      "metadata": {
        "id": "L-V2mvA6uCx8"
      }
    },
    {
      "cell_type": "code",
      "source": [
        "#Remove the html tags\n",
        "import re\n",
        "\n",
        "def remove_html_tags(text):\n",
        "    pattern = re.compile('<.*?>')\n",
        "    return pattern.sub(r'', text)"
      ],
      "metadata": {
        "execution": {
          "iopub.status.busy": "2023-02-16T19:01:28.638946Z",
          "iopub.execute_input": "2023-02-16T19:01:28.639663Z",
          "iopub.status.idle": "2023-02-16T19:01:28.644659Z",
          "shell.execute_reply.started": "2023-02-16T19:01:28.639626Z",
          "shell.execute_reply": "2023-02-16T19:01:28.643612Z"
        },
        "trusted": true,
        "id": "uaCFjb2wuCx9"
      },
      "execution_count": null,
      "outputs": []
    },
    {
      "cell_type": "code",
      "source": [
        "df['review'] = df['review'].apply(remove_html_tags)"
      ],
      "metadata": {
        "execution": {
          "iopub.status.busy": "2023-02-16T19:01:29.990191Z",
          "iopub.execute_input": "2023-02-16T19:01:29.990560Z",
          "iopub.status.idle": "2023-02-16T19:01:30.146930Z",
          "shell.execute_reply.started": "2023-02-16T19:01:29.990530Z",
          "shell.execute_reply": "2023-02-16T19:01:30.145926Z"
        },
        "trusted": true,
        "id": "janC6OXGuCx_"
      },
      "execution_count": null,
      "outputs": []
    },
    {
      "cell_type": "code",
      "source": [
        "df['review'].head(5)"
      ],
      "metadata": {
        "execution": {
          "iopub.status.busy": "2023-02-16T19:01:30.835189Z",
          "iopub.execute_input": "2023-02-16T19:01:30.835560Z",
          "iopub.status.idle": "2023-02-16T19:01:30.844462Z",
          "shell.execute_reply.started": "2023-02-16T19:01:30.835529Z",
          "shell.execute_reply": "2023-02-16T19:01:30.843411Z"
        },
        "trusted": true,
        "id": "aMdW6FpluCyB",
        "outputId": "3a4f13c2-0620-4bec-844c-54f3b3e713e7"
      },
      "execution_count": null,
      "outputs": [
        {
          "execution_count": 6,
          "output_type": "execute_result",
          "data": {
            "text/plain": "0    one of the other reviewers has mentioned that ...\n1    a wonderful little production. the filming tec...\n2    i thought this was a wonderful way to spend ti...\n3    basically there's a family where a little boy ...\n4    petter mattei's \"love in the time of money\" is...\nName: review, dtype: object"
          },
          "metadata": {}
        }
      ]
    },
    {
      "cell_type": "markdown",
      "source": [
        "**remove all URLs**"
      ],
      "metadata": {
        "id": "VJ65EBcDuCyD"
      }
    },
    {
      "cell_type": "code",
      "source": [
        "def remove_url(text):\n",
        "    pattern = re.compile(r'https?://\\S+|www\\.\\S+')\n",
        "    return pattern.sub(r'', text)"
      ],
      "metadata": {
        "execution": {
          "iopub.status.busy": "2023-02-16T19:01:32.852980Z",
          "iopub.execute_input": "2023-02-16T19:01:32.853384Z",
          "iopub.status.idle": "2023-02-16T19:01:32.858977Z",
          "shell.execute_reply.started": "2023-02-16T19:01:32.853350Z",
          "shell.execute_reply": "2023-02-16T19:01:32.857957Z"
        },
        "trusted": true,
        "id": "to48i0UWuCyE"
      },
      "execution_count": null,
      "outputs": []
    },
    {
      "cell_type": "code",
      "source": [
        "df['review'] = df['review'].apply(remove_url)"
      ],
      "metadata": {
        "execution": {
          "iopub.status.busy": "2023-02-16T19:01:33.706784Z",
          "iopub.execute_input": "2023-02-16T19:01:33.707878Z",
          "iopub.status.idle": "2023-02-16T19:01:34.163095Z",
          "shell.execute_reply.started": "2023-02-16T19:01:33.707832Z",
          "shell.execute_reply": "2023-02-16T19:01:34.162098Z"
        },
        "trusted": true,
        "id": "49kTBqP5uCyF"
      },
      "execution_count": null,
      "outputs": []
    },
    {
      "cell_type": "code",
      "source": [
        "df.head(5)"
      ],
      "metadata": {
        "execution": {
          "iopub.status.busy": "2023-02-16T19:01:34.427890Z",
          "iopub.execute_input": "2023-02-16T19:01:34.428269Z",
          "iopub.status.idle": "2023-02-16T19:01:34.437541Z",
          "shell.execute_reply.started": "2023-02-16T19:01:34.428237Z",
          "shell.execute_reply": "2023-02-16T19:01:34.436623Z"
        },
        "trusted": true,
        "id": "2-exHOd9uCyH",
        "outputId": "78f7e775-f40b-45ff-f3cc-4e783505d256"
      },
      "execution_count": null,
      "outputs": [
        {
          "execution_count": 9,
          "output_type": "execute_result",
          "data": {
            "text/plain": "                                              review sentiment\n0  one of the other reviewers has mentioned that ...  positive\n1  a wonderful little production. the filming tec...  positive\n2  i thought this was a wonderful way to spend ti...  positive\n3  basically there's a family where a little boy ...  negative\n4  petter mattei's \"love in the time of money\" is...  positive",
            "text/html": "<div>\n<style scoped>\n    .dataframe tbody tr th:only-of-type {\n        vertical-align: middle;\n    }\n\n    .dataframe tbody tr th {\n        vertical-align: top;\n    }\n\n    .dataframe thead th {\n        text-align: right;\n    }\n</style>\n<table border=\"1\" class=\"dataframe\">\n  <thead>\n    <tr style=\"text-align: right;\">\n      <th></th>\n      <th>review</th>\n      <th>sentiment</th>\n    </tr>\n  </thead>\n  <tbody>\n    <tr>\n      <th>0</th>\n      <td>one of the other reviewers has mentioned that ...</td>\n      <td>positive</td>\n    </tr>\n    <tr>\n      <th>1</th>\n      <td>a wonderful little production. the filming tec...</td>\n      <td>positive</td>\n    </tr>\n    <tr>\n      <th>2</th>\n      <td>i thought this was a wonderful way to spend ti...</td>\n      <td>positive</td>\n    </tr>\n    <tr>\n      <th>3</th>\n      <td>basically there's a family where a little boy ...</td>\n      <td>negative</td>\n    </tr>\n    <tr>\n      <th>4</th>\n      <td>petter mattei's \"love in the time of money\" is...</td>\n      <td>positive</td>\n    </tr>\n  </tbody>\n</table>\n</div>"
          },
          "metadata": {}
        }
      ]
    },
    {
      "cell_type": "markdown",
      "source": [
        "**remove punctuations**"
      ],
      "metadata": {
        "id": "cmjuhSZIuCyI"
      }
    },
    {
      "cell_type": "code",
      "source": [
        "import string,time\n",
        "exclude = string.punctuation"
      ],
      "metadata": {
        "execution": {
          "iopub.status.busy": "2023-02-16T19:01:35.769831Z",
          "iopub.execute_input": "2023-02-16T19:01:35.770556Z",
          "iopub.status.idle": "2023-02-16T19:01:35.775452Z",
          "shell.execute_reply.started": "2023-02-16T19:01:35.770516Z",
          "shell.execute_reply": "2023-02-16T19:01:35.774392Z"
        },
        "trusted": true,
        "id": "7vrYcaiAuCyK"
      },
      "execution_count": null,
      "outputs": []
    },
    {
      "cell_type": "code",
      "source": [
        "def remove_punc(text):\n",
        "    for char in exclude:\n",
        "        text = text.replace(char,'')\n",
        "    return text"
      ],
      "metadata": {
        "execution": {
          "iopub.status.busy": "2023-02-16T19:01:36.441057Z",
          "iopub.execute_input": "2023-02-16T19:01:36.441738Z",
          "iopub.status.idle": "2023-02-16T19:01:36.446618Z",
          "shell.execute_reply.started": "2023-02-16T19:01:36.441702Z",
          "shell.execute_reply": "2023-02-16T19:01:36.445633Z"
        },
        "trusted": true,
        "id": "HjGvqNl1uCyN"
      },
      "execution_count": null,
      "outputs": []
    },
    {
      "cell_type": "code",
      "source": [
        "def remove_punc1(text):\n",
        "    return text.translate(str.maketrans('', '', exclude))"
      ],
      "metadata": {
        "execution": {
          "iopub.status.busy": "2023-02-16T19:01:36.977528Z",
          "iopub.execute_input": "2023-02-16T19:01:36.978648Z",
          "iopub.status.idle": "2023-02-16T19:01:36.984085Z",
          "shell.execute_reply.started": "2023-02-16T19:01:36.978602Z",
          "shell.execute_reply": "2023-02-16T19:01:36.983176Z"
        },
        "trusted": true,
        "id": "X04Yj5uruCyO"
      },
      "execution_count": null,
      "outputs": []
    },
    {
      "cell_type": "code",
      "source": [
        "df['review'] = df['review'].apply(remove_punc1)"
      ],
      "metadata": {
        "execution": {
          "iopub.status.busy": "2023-02-16T19:01:37.593701Z",
          "iopub.execute_input": "2023-02-16T19:01:37.594058Z",
          "iopub.status.idle": "2023-02-16T19:01:38.674471Z",
          "shell.execute_reply.started": "2023-02-16T19:01:37.594027Z",
          "shell.execute_reply": "2023-02-16T19:01:38.673472Z"
        },
        "trusted": true,
        "id": "kR1_SjgtuCyP"
      },
      "execution_count": null,
      "outputs": []
    },
    {
      "cell_type": "markdown",
      "source": [
        "**Short chating words**"
      ],
      "metadata": {
        "id": "oYt9wKlWuCyQ"
      }
    },
    {
      "cell_type": "code",
      "source": [
        "chat_words_str = \"\"\"\n",
        "AFAIK=As Far As I Know\n",
        "AFK=Away From Keyboard\n",
        "ASAP=As Soon As Possible\n",
        "ATK=At The Keyboard\n",
        "ATM=At The Moment\n",
        "A3=Anytime, Anywhere, Anyplace\n",
        "BAK=Back At Keyboard\n",
        "BBL=Be Back Later\n",
        "BBS=Be Back Soon\n",
        "BFN=Bye For Now\n",
        "B4N=Bye For Now\n",
        "BRB=Be Right Back\n",
        "BRT=Be Right There\n",
        "BTW=By The Way\n",
        "B4=Before\n",
        "B4N=Bye For Now\n",
        "CU=See You\n",
        "CUL8R=See You Later\n",
        "CYA=See You\n",
        "FAQ=Frequently Asked Questions\n",
        "FC=Fingers Crossed\n",
        "FWIW=For What It's Worth\n",
        "FYI=For Your Information\n",
        "GAL=Get A Life\n",
        "GG=Good Game\n",
        "GN=Good Night\n",
        "GMTA=Great Minds Think Alike\n",
        "GR8=Great!\n",
        "G9=Genius\n",
        "IC=I See\n",
        "ICQ=I Seek you (also a chat program)\n",
        "ILU=ILU: I Love You\n",
        "IMHO=In My Honest/Humble Opinion\n",
        "IMO=In My Opinion\n",
        "IOW=In Other Words\n",
        "IRL=In Real Life\n",
        "KISS=Keep It Simple, Stupid\n",
        "LDR=Long Distance Relationship\n",
        "LMAO=Laugh My A.. Off\n",
        "LOL=Laughing Out Loud\n",
        "LTNS=Long Time No See\n",
        "L8R=Later\n",
        "MTE=My Thoughts Exactly\n",
        "M8=Mate\n",
        "NRN=No Reply Necessary\n",
        "OIC=Oh I See\n",
        "PITA=Pain In The A..\n",
        "PRT=Party\n",
        "PRW=Parents Are Watching\n",
        "ROFL=Rolling On The Floor Laughing\n",
        "ROFLOL=Rolling On The Floor Laughing Out Loud\n",
        "ROTFLMAO=Rolling On The Floor Laughing My A.. Off\n",
        "SK8=Skate\n",
        "STATS=Your sex and age\n",
        "ASL=Age, Sex, Location\n",
        "THX=Thank You\n",
        "TTFN=Ta-Ta For Now!\n",
        "TTYL=Talk To You Later\n",
        "U=You\n",
        "U2=You Too\n",
        "U4E=Yours For Ever\n",
        "WB=Welcome Back\n",
        "WTF=What The F...\n",
        "WTG=Way To Go!\n",
        "WUF=Where Are You From?\n",
        "W8=Wait...\n",
        "7K=Sick:-D Laugher\n",
        "\"\"\""
      ],
      "metadata": {
        "execution": {
          "iopub.status.busy": "2023-02-16T19:01:39.786949Z",
          "iopub.execute_input": "2023-02-16T19:01:39.788178Z",
          "iopub.status.idle": "2023-02-16T19:01:39.795962Z",
          "shell.execute_reply.started": "2023-02-16T19:01:39.788131Z",
          "shell.execute_reply": "2023-02-16T19:01:39.794684Z"
        },
        "trusted": true,
        "id": "5cqTTVPJuCyQ"
      },
      "execution_count": null,
      "outputs": []
    },
    {
      "cell_type": "code",
      "source": [
        "chat_words_list = []\n",
        "chat_words_map_dict = {}\n",
        "for line in chat_words_str.split(\"\\n\"):\n",
        "    if line != \"\":\n",
        "        cw = line.split(\"=\")[0]\n",
        "        cw_expanded = line.split(\"=\")[1]\n",
        "        chat_words_list.append(cw)\n",
        "        chat_words_map_dict[cw] = cw_expanded\n",
        "chat_words_list = set(chat_words_list)"
      ],
      "metadata": {
        "execution": {
          "iopub.status.busy": "2023-02-16T19:01:40.525797Z",
          "iopub.execute_input": "2023-02-16T19:01:40.526192Z",
          "iopub.status.idle": "2023-02-16T19:01:40.532676Z",
          "shell.execute_reply.started": "2023-02-16T19:01:40.526160Z",
          "shell.execute_reply": "2023-02-16T19:01:40.531531Z"
        },
        "trusted": true,
        "id": "vmPL1LAVuCyR"
      },
      "execution_count": null,
      "outputs": []
    },
    {
      "cell_type": "code",
      "source": [
        "def chat_words_conversion(text):\n",
        "    new_text = []\n",
        "    for w in text.split():\n",
        "        if w.upper() in chat_words_list:\n",
        "            new_text.append(chat_words_map_dict[w.upper()])\n",
        "        else:\n",
        "            new_text.append(w)\n",
        "    return \" \".join(new_text)"
      ],
      "metadata": {
        "execution": {
          "iopub.status.busy": "2023-02-16T19:01:41.388830Z",
          "iopub.execute_input": "2023-02-16T19:01:41.389211Z",
          "iopub.status.idle": "2023-02-16T19:01:41.395173Z",
          "shell.execute_reply.started": "2023-02-16T19:01:41.389180Z",
          "shell.execute_reply": "2023-02-16T19:01:41.394096Z"
        },
        "trusted": true,
        "id": "D6b6qF3EuCyS"
      },
      "execution_count": null,
      "outputs": []
    },
    {
      "cell_type": "code",
      "source": [
        "df['review'] = df['review'].apply(chat_words_conversion)"
      ],
      "metadata": {
        "execution": {
          "iopub.status.busy": "2023-02-16T19:01:42.417835Z",
          "iopub.execute_input": "2023-02-16T19:01:42.418327Z",
          "iopub.status.idle": "2023-02-16T19:01:45.835710Z",
          "shell.execute_reply.started": "2023-02-16T19:01:42.418285Z",
          "shell.execute_reply": "2023-02-16T19:01:45.834703Z"
        },
        "trusted": true,
        "id": "RZe5UL2ouCyS"
      },
      "execution_count": null,
      "outputs": []
    },
    {
      "cell_type": "markdown",
      "source": [
        "**Stop word removal**"
      ],
      "metadata": {
        "id": "876LLLFeuCyT"
      }
    },
    {
      "cell_type": "code",
      "source": [
        "from nltk.corpus import stopwords"
      ],
      "metadata": {
        "execution": {
          "iopub.status.busy": "2023-02-16T19:01:45.839449Z",
          "iopub.execute_input": "2023-02-16T19:01:45.839773Z",
          "iopub.status.idle": "2023-02-16T19:01:46.677547Z",
          "shell.execute_reply.started": "2023-02-16T19:01:45.839744Z",
          "shell.execute_reply": "2023-02-16T19:01:46.676573Z"
        },
        "trusted": true,
        "id": "SUGL6be4uCyT"
      },
      "execution_count": null,
      "outputs": []
    },
    {
      "cell_type": "code",
      "source": [
        "def remove_stopwords(text):\n",
        "    new_text = []\n",
        "    \n",
        "    for word in text.split():\n",
        "        if word in stopwords.words('english'):\n",
        "            new_text.append('')\n",
        "        else:\n",
        "            new_text.append(word)\n",
        "    x = new_text[:]\n",
        "    new_text.clear()\n",
        "    return \" \".join(x)"
      ],
      "metadata": {
        "execution": {
          "iopub.status.busy": "2023-02-16T19:01:47.634145Z",
          "iopub.execute_input": "2023-02-16T19:01:47.634530Z",
          "iopub.status.idle": "2023-02-16T19:01:47.640983Z",
          "shell.execute_reply.started": "2023-02-16T19:01:47.634474Z",
          "shell.execute_reply": "2023-02-16T19:01:47.639988Z"
        },
        "trusted": true,
        "id": "hIo8ORGnuCyU"
      },
      "execution_count": null,
      "outputs": []
    },
    {
      "cell_type": "code",
      "source": [
        "df['review'] = df['review'].apply(remove_stopwords)"
      ],
      "metadata": {
        "trusted": true,
        "id": "P04t0WO7uCyU"
      },
      "execution_count": null,
      "outputs": []
    },
    {
      "cell_type": "markdown",
      "source": [
        "**tokenization**"
      ],
      "metadata": {
        "id": "16oBG_qCuCyV"
      }
    },
    {
      "cell_type": "code",
      "source": [
        "from nltk.tokenize import word_tokenize,sent_tokenize"
      ],
      "metadata": {
        "execution": {
          "iopub.status.busy": "2023-02-16T19:10:06.001597Z",
          "iopub.status.idle": "2023-02-16T19:10:06.002689Z",
          "shell.execute_reply.started": "2023-02-16T19:10:06.002428Z",
          "shell.execute_reply": "2023-02-16T19:10:06.002456Z"
        },
        "trusted": true,
        "id": "Qo-uI3AtuCyV"
      },
      "execution_count": null,
      "outputs": []
    },
    {
      "cell_type": "code",
      "source": [
        "df['review'] = df['review'].apply(word_tokenize)"
      ],
      "metadata": {
        "execution": {
          "iopub.status.busy": "2023-02-16T19:10:06.004402Z",
          "iopub.status.idle": "2023-02-16T19:10:06.004881Z",
          "shell.execute_reply.started": "2023-02-16T19:10:06.004626Z",
          "shell.execute_reply": "2023-02-16T19:10:06.004648Z"
        },
        "trusted": true,
        "id": "rT5RtCtWuCyW"
      },
      "execution_count": null,
      "outputs": []
    },
    {
      "cell_type": "markdown",
      "source": [
        "**stemming **"
      ],
      "metadata": {
        "id": "ab1wlb9MuCyX"
      }
    },
    {
      "cell_type": "code",
      "source": [
        "from nltk.stem.porter import PorterStemmer"
      ],
      "metadata": {
        "execution": {
          "iopub.status.busy": "2023-02-16T19:10:06.006778Z",
          "iopub.status.idle": "2023-02-16T19:10:06.007279Z",
          "shell.execute_reply.started": "2023-02-16T19:10:06.007005Z",
          "shell.execute_reply": "2023-02-16T19:10:06.007037Z"
        },
        "trusted": true,
        "id": "YXaFLYOGuCyX"
      },
      "execution_count": null,
      "outputs": []
    },
    {
      "cell_type": "code",
      "source": [
        "ps = PorterStemmer()\n",
        "def stem_words(text):\n",
        "    return \" \".join([ps.stem(word) for word in text.split()])"
      ],
      "metadata": {
        "execution": {
          "iopub.status.busy": "2023-02-16T19:10:06.009137Z",
          "iopub.status.idle": "2023-02-16T19:10:06.009610Z",
          "shell.execute_reply.started": "2023-02-16T19:10:06.009360Z",
          "shell.execute_reply": "2023-02-16T19:10:06.009384Z"
        },
        "trusted": true,
        "id": "e63_64CnuCyY"
      },
      "execution_count": null,
      "outputs": []
    },
    {
      "cell_type": "code",
      "source": [
        "df['review'] = df['review'].apply(stem_words)"
      ],
      "metadata": {
        "execution": {
          "iopub.status.busy": "2023-02-16T19:10:06.011527Z",
          "iopub.status.idle": "2023-02-16T19:10:06.011997Z",
          "shell.execute_reply.started": "2023-02-16T19:10:06.011750Z",
          "shell.execute_reply": "2023-02-16T19:10:06.011772Z"
        },
        "trusted": true,
        "id": "4RPsz4GbuCyY"
      },
      "execution_count": null,
      "outputs": []
    },
    {
      "cell_type": "code",
      "source": [
        "from sklearn.model_selection import train_test_split"
      ],
      "metadata": {
        "execution": {
          "iopub.status.busy": "2023-02-16T19:12:44.417170Z",
          "iopub.execute_input": "2023-02-16T19:12:44.417527Z",
          "iopub.status.idle": "2023-02-16T19:12:44.423103Z",
          "shell.execute_reply.started": "2023-02-16T19:12:44.417497Z",
          "shell.execute_reply": "2023-02-16T19:12:44.421672Z"
        },
        "trusted": true,
        "id": "Mk8Ij-oTuCyZ"
      },
      "execution_count": null,
      "outputs": []
    },
    {
      "cell_type": "code",
      "source": [
        "X_train, X_test , y_train, y_test = train_test_split(df['review'].values,\n",
        "                                                     df['sentiment'].values,test_size=0.2,\n",
        "                                                     random_state=42,stratify=df['sentiment'].values)"
      ],
      "metadata": {
        "execution": {
          "iopub.status.busy": "2023-02-16T19:12:45.432737Z",
          "iopub.execute_input": "2023-02-16T19:12:45.433113Z",
          "iopub.status.idle": "2023-02-16T19:12:45.479873Z",
          "shell.execute_reply.started": "2023-02-16T19:12:45.433074Z",
          "shell.execute_reply": "2023-02-16T19:12:45.478858Z"
        },
        "trusted": true,
        "id": "GNhwfKjFuCya"
      },
      "execution_count": null,
      "outputs": []
    },
    {
      "cell_type": "code",
      "source": [
        "tfidf_vectorizer = TfidfVectorizer() \n",
        "\n",
        "tfidf_train_vectors = tfidf_vectorizer.fit_transform(X_train)\n",
        "\n",
        "tfidf_test_vectors = tfidf_vectorizer.transform(X_test)"
      ],
      "metadata": {
        "execution": {
          "iopub.status.busy": "2023-02-16T19:14:59.373139Z",
          "iopub.execute_input": "2023-02-16T19:14:59.373502Z",
          "iopub.status.idle": "2023-02-16T19:15:07.895700Z",
          "shell.execute_reply.started": "2023-02-16T19:14:59.373472Z",
          "shell.execute_reply": "2023-02-16T19:15:07.894687Z"
        },
        "trusted": true,
        "id": "pO6LebKGuCya"
      },
      "execution_count": null,
      "outputs": []
    },
    {
      "cell_type": "code",
      "source": [
        "from sklearn.metrics import classification_report\n",
        "\n",
        "classifier1 = RandomForestClassifier()\n",
        "classifier1.fit(tfidf_train_vectors,y_train)\n",
        "\n",
        "y_pred1 = classifier1.predict(tfidf_test_vectors)\n",
        "\n",
        "print(classification_report(y_test,y_pred1))\n"
      ],
      "metadata": {
        "execution": {
          "iopub.status.busy": "2023-02-16T19:19:40.775140Z",
          "iopub.execute_input": "2023-02-16T19:19:40.775533Z",
          "iopub.status.idle": "2023-02-16T19:21:57.844836Z",
          "shell.execute_reply.started": "2023-02-16T19:19:40.775496Z",
          "shell.execute_reply": "2023-02-16T19:21:57.843453Z"
        },
        "trusted": true,
        "id": "UerKt8b7uCyb",
        "outputId": "ce8a68cd-844b-4cdd-dff0-1b1337171dcf"
      },
      "execution_count": null,
      "outputs": [
        {
          "name": "stdout",
          "text": "              precision    recall  f1-score   support\n\n    negative       0.84      0.85      0.85      5000\n    positive       0.85      0.84      0.85      5000\n\n    accuracy                           0.85     10000\n   macro avg       0.85      0.85      0.85     10000\nweighted avg       0.85      0.85      0.85     10000\n\n",
          "output_type": "stream"
        },
        {
          "traceback": [
            "\u001b[0;31m---------------------------------------------------------------------------\u001b[0m",
            "\u001b[0;31mNameError\u001b[0m                                 Traceback (most recent call last)",
            "\u001b[0;32m/tmp/ipykernel_24/2234799186.py\u001b[0m in \u001b[0;36m<module>\u001b[0;34m\u001b[0m\n\u001b[1;32m      6\u001b[0m \u001b[0;34m\u001b[0m\u001b[0m\n\u001b[1;32m      7\u001b[0m \u001b[0mprint\u001b[0m\u001b[0;34m(\u001b[0m\u001b[0mclassification_report\u001b[0m\u001b[0;34m(\u001b[0m\u001b[0my_test\u001b[0m\u001b[0;34m,\u001b[0m\u001b[0my_pred1\u001b[0m\u001b[0;34m)\u001b[0m\u001b[0;34m)\u001b[0m\u001b[0;34m\u001b[0m\u001b[0;34m\u001b[0m\u001b[0m\n\u001b[0;32m----> 8\u001b[0;31m \u001b[0mprint\u001b[0m\u001b[0;34m(\u001b[0m\u001b[0;34m\"Accuracy score:\"\u001b[0m\u001b[0;34m,\u001b[0m \u001b[0maccuracy_score\u001b[0m\u001b[0;34m(\u001b[0m\u001b[0my_test\u001b[0m\u001b[0;34m,\u001b[0m\u001b[0my_pred1\u001b[0m\u001b[0;34m)\u001b[0m\u001b[0;34m)\u001b[0m\u001b[0;34m\u001b[0m\u001b[0;34m\u001b[0m\u001b[0m\n\u001b[0m",
            "\u001b[0;31mNameError\u001b[0m: name 'accuracy_score' is not defined"
          ],
          "ename": "NameError",
          "evalue": "name 'accuracy_score' is not defined",
          "output_type": "error"
        }
      ]
    },
    {
      "cell_type": "code",
      "source": [
        "from sklearn.metrics import accuracy_score\n",
        "print(\"Accuracy score:\", accuracy_score(y_test,y_pred1))"
      ],
      "metadata": {
        "execution": {
          "iopub.status.busy": "2023-02-16T19:23:53.208746Z",
          "iopub.execute_input": "2023-02-16T19:23:53.209237Z",
          "iopub.status.idle": "2023-02-16T19:23:53.273028Z",
          "shell.execute_reply.started": "2023-02-16T19:23:53.209192Z",
          "shell.execute_reply": "2023-02-16T19:23:53.271533Z"
        },
        "trusted": true,
        "id": "g3jps7mfuCyc",
        "outputId": "b79e29a2-7a45-4bd1-fc5f-f92bc25224c8"
      },
      "execution_count": null,
      "outputs": [
        {
          "name": "stdout",
          "text": "Accuracy score: 0.8472\n",
          "output_type": "stream"
        }
      ]
    },
    {
      "cell_type": "code",
      "source": [
        "# generate confusion matrix\n",
        "from sklearn.metrics import confusion_matrix\n",
        "import seaborn as sns\n",
        "cnf_matrix = confusion_matrix(y_test,y_pred1)\n",
        "group_names = ['TN','FP','FN','TP']\n",
        "group_counts = [\"{0:0.0f}\".format(value) for value in cnf_matrix.flatten()]\n",
        "labels = [f\"{v1}\\n{v2}\" for v1, v2 in zip(group_names,group_counts)]\n",
        "labels = np.asarray(labels).reshape(2,2)\n",
        "sns.heatmap(cnf_matrix, annot=labels, fmt='', cmap='Blues');"
      ],
      "metadata": {
        "execution": {
          "iopub.status.busy": "2023-02-16T19:24:54.530302Z",
          "iopub.execute_input": "2023-02-16T19:24:54.530675Z",
          "iopub.status.idle": "2023-02-16T19:24:54.964156Z",
          "shell.execute_reply.started": "2023-02-16T19:24:54.530642Z",
          "shell.execute_reply": "2023-02-16T19:24:54.963015Z"
        },
        "trusted": true,
        "id": "pjeN0BRiuCyc",
        "outputId": "01ff35d3-58b6-42b5-8f14-dcde8a7bf4d2"
      },
      "execution_count": null,
      "outputs": [
        {
          "output_type": "display_data",
          "data": {
            "text/plain": "<Figure size 640x480 with 2 Axes>",
            "image/png": "[encoded data removed]"
          },
          "metadata": {}
        }
      ]
    },
    {
      "cell_type": "code",
      "source": [
        "classifier2 = DecisionTreeClassifier()\n",
        "classifier2.fit(tfidf_train_vectors,y_train)\n",
        "\n",
        "y_pred2 = classifier2.predict(tfidf_test_vectors)\n",
        "\n",
        "print(classification_report(y_test,y_pred2))\n",
        "print(\"Accuracy score:\", accuracy_score(y_test,y_pred2))"
      ],
      "metadata": {
        "execution": {
          "iopub.status.busy": "2023-02-16T19:25:00.848391Z",
          "iopub.execute_input": "2023-02-16T19:25:00.848766Z",
          "iopub.status.idle": "2023-02-16T19:26:41.583949Z",
          "shell.execute_reply.started": "2023-02-16T19:25:00.848734Z",
          "shell.execute_reply": "2023-02-16T19:26:41.582793Z"
        },
        "trusted": true,
        "id": "rfF2Nd3nuCyd",
        "outputId": "aac355d6-c5a5-4fe4-b30d-fdbf786f5a75"
      },
      "execution_count": null,
      "outputs": [
        {
          "name": "stdout",
          "text": "              precision    recall  f1-score   support\n\n    negative       0.72      0.70      0.71      5000\n    positive       0.71      0.72      0.72      5000\n\n    accuracy                           0.71     10000\n   macro avg       0.71      0.71      0.71     10000\nweighted avg       0.71      0.71      0.71     10000\n\nAccuracy score: 0.7146\n",
          "output_type": "stream"
        }
      ]
    },
    {
      "cell_type": "code",
      "source": [
        "# generate confusion matrix\n",
        "cnf_matrix = confusion_matrix(y_test,y_pred2)\n",
        "group_names = ['TN','FP','FN','TP']\n",
        "group_counts = [\"{0:0.0f}\".format(value) for value in cnf_matrix.flatten()]\n",
        "labels = [f\"{v1}\\n{v2}\" for v1, v2 in zip(group_names,group_counts)]\n",
        "labels = np.asarray(labels).reshape(2,2)\n",
        "sns.heatmap(cnf_matrix, annot=labels, fmt='', cmap='Blues');"
      ],
      "metadata": {
        "execution": {
          "iopub.status.busy": "2023-02-16T19:26:41.586076Z",
          "iopub.execute_input": "2023-02-16T19:26:41.586565Z",
          "iopub.status.idle": "2023-02-16T19:26:41.882215Z",
          "shell.execute_reply.started": "2023-02-16T19:26:41.586524Z",
          "shell.execute_reply": "2023-02-16T19:26:41.881250Z"
        },
        "trusted": true,
        "id": "ThYVp7LRuCye",
        "outputId": "366fa5f5-de08-4d30-ad3d-9d1072b8509c"
      },
      "execution_count": null,
      "outputs": [
        {
          "output_type": "display_data",
          "data": {
            "text/plain": "<Figure size 640x480 with 2 Axes>",
            "image/png": "[encoded data removed]"
          },
          "metadata": {}
        }
      ]
    },
    {
      "cell_type": "code",
      "source": [],
      "metadata": {
        "id": "r5cOBD3uuCyg"
      },
      "execution_count": null,
      "outputs": []
    }
  ]
}