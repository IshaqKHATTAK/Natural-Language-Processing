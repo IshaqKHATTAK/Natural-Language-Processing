{
  "nbformat": 4,
  "nbformat_minor": 0,
  "metadata": {
    "colab": {
      "provenance": [],
      "authorship_tag": "ABX9TyNXoCbTJocZZFHy0upvxkXx",
      "include_colab_link": true
    },
    "kernelspec": {
      "name": "python3",
      "display_name": "Python 3"
    },
    "language_info": {
      "name": "python"
    }
  },
  "cells": [
    {
      "cell_type": "markdown",
      "metadata": {
        "id": "view-in-github",
        "colab_type": "text"
      },
      "source": [
        "<a href=\"https://colab.research.google.com/github/IshaqKHATTAK/Natural-Language-Processing/blob/main/Next_word_prediction_using_LSTM.ipynb\" target=\"_parent\"><img src=\"https://colab.research.google.com/assets/colab-badge.svg\" alt=\"Open In Colab\"/></a>"
      ]
    },
    {
      "cell_type": "code",
      "execution_count": 1,
      "metadata": {
        "id": "wpvxisoq_HCF"
      },
      "outputs": [],
      "source": [
        "#load data\n",
        "#basic NLP preprocessing\n",
        "#convert to integer using keras tokenizer\n",
        "#make x and y by making firt word in the corpus as x and teh second as y\n",
        "#make one hot encoding of y over all the vocabulay size\n",
        "#use ebddings and build RNN or LSTM"
      ]
    },
    {
      "cell_type": "code",
      "source": [
        "from google.colab import files\n",
        "video = files.upload()"
      ],
      "metadata": {
        "id": "7Ho16CQT_Ljp",
        "colab": {
          "base_uri": "https://localhost:8080/",
          "height": 74
        },
        "outputId": "3295ca42-eb04-469f-8b08-d123678b551a"
      },
      "execution_count": 2,
      "outputs": [
        {
          "output_type": "display_data",
          "data": {
            "text/plain": [
              "<IPython.core.display.HTML object>"
            ],
            "text/html": [
              "\n",
              "     <input type=\"file\" id=\"files-5b358cd1-900d-4cf4-abc3-e2560065526d\" name=\"files[]\" multiple disabled\n",
              "        style=\"border:none\" />\n",
              "     <output id=\"result-5b358cd1-900d-4cf4-abc3-e2560065526d\">\n",
              "      Upload widget is only available when the cell has been executed in the\n",
              "      current browser session. Please rerun this cell to enable.\n",
              "      </output>\n",
              "      <script>// Copyright 2017 Google LLC\n",
              "//\n",
              "// Licensed under the Apache License, Version 2.0 (the \"License\");\n",
              "// you may not use this file except in compliance with the License.\n",
              "// You may obtain a copy of the License at\n",
              "//\n",
              "//      http://www.apache.org/licenses/LICENSE-2.0\n",
              "//\n",
              "// Unless required by applicable law or agreed to in writing, software\n",
              "// distributed under the License is distributed on an \"AS IS\" BASIS,\n",
              "// WITHOUT WARRANTIES OR CONDITIONS OF ANY KIND, either express or implied.\n",
              "// See the License for the specific language governing permissions and\n",
              "// limitations under the License.\n",
              "\n",
              "/**\n",
              " * @fileoverview Helpers for google.colab Python module.\n",
              " */\n",
              "(function(scope) {\n",
              "function span(text, styleAttributes = {}) {\n",
              "  const element = document.createElement('span');\n",
              "  element.textContent = text;\n",
              "  for (const key of Object.keys(styleAttributes)) {\n",
              "    element.style[key] = styleAttributes[key];\n",
              "  }\n",
              "  return element;\n",
              "}\n",
              "\n",
              "// Max number of bytes which will be uploaded at a time.\n",
              "const MAX_PAYLOAD_SIZE = 100 * 1024;\n",
              "\n",
              "function _uploadFiles(inputId, outputId) {\n",
              "  const steps = uploadFilesStep(inputId, outputId);\n",
              "  const outputElement = document.getElementById(outputId);\n",
              "  // Cache steps on the outputElement to make it available for the next call\n",
              "  // to uploadFilesContinue from Python.\n",
              "  outputElement.steps = steps;\n",
              "\n",
              "  return _uploadFilesContinue(outputId);\n",
              "}\n",
              "\n",
              "// This is roughly an async generator (not supported in the browser yet),\n",
              "// where there are multiple asynchronous steps and the Python side is going\n",
              "// to poll for completion of each step.\n",
              "// This uses a Promise to block the python side on completion of each step,\n",
              "// then passes the result of the previous step as the input to the next step.\n",
              "function _uploadFilesContinue(outputId) {\n",
              "  const outputElement = document.getElementById(outputId);\n",
              "  const steps = outputElement.steps;\n",
              "\n",
              "  const next = steps.next(outputElement.lastPromiseValue);\n",
              "  return Promise.resolve(next.value.promise).then((value) => {\n",
              "    // Cache the last promise value to make it available to the next\n",
              "    // step of the generator.\n",
              "    outputElement.lastPromiseValue = value;\n",
              "    return next.value.response;\n",
              "  });\n",
              "}\n",
              "\n",
              "/**\n",
              " * Generator function which is called between each async step of the upload\n",
              " * process.\n",
              " * @param {string} inputId Element ID of the input file picker element.\n",
              " * @param {string} outputId Element ID of the output display.\n",
              " * @return {!Iterable<!Object>} Iterable of next steps.\n",
              " */\n",
              "function* uploadFilesStep(inputId, outputId) {\n",
              "  const inputElement = document.getElementById(inputId);\n",
              "  inputElement.disabled = false;\n",
              "\n",
              "  const outputElement = document.getElementById(outputId);\n",
              "  outputElement.innerHTML = '';\n",
              "\n",
              "  const pickedPromise = new Promise((resolve) => {\n",
              "    inputElement.addEventListener('change', (e) => {\n",
              "      resolve(e.target.files);\n",
              "    });\n",
              "  });\n",
              "\n",
              "  const cancel = document.createElement('button');\n",
              "  inputElement.parentElement.appendChild(cancel);\n",
              "  cancel.textContent = 'Cancel upload';\n",
              "  const cancelPromise = new Promise((resolve) => {\n",
              "    cancel.onclick = () => {\n",
              "      resolve(null);\n",
              "    };\n",
              "  });\n",
              "\n",
              "  // Wait for the user to pick the files.\n",
              "  const files = yield {\n",
              "    promise: Promise.race([pickedPromise, cancelPromise]),\n",
              "    response: {\n",
              "      action: 'starting',\n",
              "    }\n",
              "  };\n",
              "\n",
              "  cancel.remove();\n",
              "\n",
              "  // Disable the input element since further picks are not allowed.\n",
              "  inputElement.disabled = true;\n",
              "\n",
              "  if (!files) {\n",
              "    return {\n",
              "      response: {\n",
              "        action: 'complete',\n",
              "      }\n",
              "    };\n",
              "  }\n",
              "\n",
              "  for (const file of files) {\n",
              "    const li = document.createElement('li');\n",
              "    li.append(span(file.name, {fontWeight: 'bold'}));\n",
              "    li.append(span(\n",
              "        `(${file.type || 'n/a'}) - ${file.size} bytes, ` +\n",
              "        `last modified: ${\n",
              "            file.lastModifiedDate ? file.lastModifiedDate.toLocaleDateString() :\n",
              "                                    'n/a'} - `));\n",
              "    const percent = span('0% done');\n",
              "    li.appendChild(percent);\n",
              "\n",
              "    outputElement.appendChild(li);\n",
              "\n",
              "    const fileDataPromise = new Promise((resolve) => {\n",
              "      const reader = new FileReader();\n",
              "      reader.onload = (e) => {\n",
              "        resolve(e.target.result);\n",
              "      };\n",
              "      reader.readAsArrayBuffer(file);\n",
              "    });\n",
              "    // Wait for the data to be ready.\n",
              "    let fileData = yield {\n",
              "      promise: fileDataPromise,\n",
              "      response: {\n",
              "        action: 'continue',\n",
              "      }\n",
              "    };\n",
              "\n",
              "    // Use a chunked sending to avoid message size limits. See b/62115660.\n",
              "    let position = 0;\n",
              "    do {\n",
              "      const length = Math.min(fileData.byteLength - position, MAX_PAYLOAD_SIZE);\n",
              "      const chunk = new Uint8Array(fileData, position, length);\n",
              "      position += length;\n",
              "\n",
              "      const base64 = btoa(String.fromCharCode.apply(null, chunk));\n",
              "      yield {\n",
              "        response: {\n",
              "          action: 'append',\n",
              "          file: file.name,\n",
              "          data: base64,\n",
              "        },\n",
              "      };\n",
              "\n",
              "      let percentDone = fileData.byteLength === 0 ?\n",
              "          100 :\n",
              "          Math.round((position / fileData.byteLength) * 100);\n",
              "      percent.textContent = `${percentDone}% done`;\n",
              "\n",
              "    } while (position < fileData.byteLength);\n",
              "  }\n",
              "\n",
              "  // All done.\n",
              "  yield {\n",
              "    response: {\n",
              "      action: 'complete',\n",
              "    }\n",
              "  };\n",
              "}\n",
              "\n",
              "scope.google = scope.google || {};\n",
              "scope.google.colab = scope.google.colab || {};\n",
              "scope.google.colab._files = {\n",
              "  _uploadFiles,\n",
              "  _uploadFilesContinue,\n",
              "};\n",
              "})(self);\n",
              "</script> "
            ]
          },
          "metadata": {}
        },
        {
          "output_type": "stream",
          "name": "stdout",
          "text": [
            "Saving kaggle.json to kaggle.json\n"
          ]
        }
      ]
    },
    {
      "cell_type": "code",
      "source": [
        "!mkdir -p ~/.kaggle"
      ],
      "metadata": {
        "id": "qI9u69UFFwmw"
      },
      "execution_count": 3,
      "outputs": []
    },
    {
      "cell_type": "code",
      "source": [
        "!cp kaggle.json ~/.kaggle"
      ],
      "metadata": {
        "id": "FnuxOgVuFwoo"
      },
      "execution_count": 4,
      "outputs": []
    },
    {
      "cell_type": "code",
      "source": [
        "\n",
        "!chmod 600 ~/.kaggle/kaggle.json"
      ],
      "metadata": {
        "id": "yqf8060KFwtU"
      },
      "execution_count": 5,
      "outputs": []
    },
    {
      "cell_type": "code",
      "source": [
        "!kaggle datasets download imbikramsaha/poems"
      ],
      "metadata": {
        "colab": {
          "base_uri": "https://localhost:8080/"
        },
        "id": "EQObn1F3FwvD",
        "outputId": "66831a62-3d21-4aa9-b431-6a6550a5a90e"
      },
      "execution_count": 6,
      "outputs": [
        {
          "output_type": "stream",
          "name": "stdout",
          "text": [
            "Downloading poems.zip to /content\n",
            "\r  0% 0.00/57.6k [00:00<?, ?B/s]\n",
            "\r100% 57.6k/57.6k [00:00<00:00, 59.9MB/s]\n"
          ]
        }
      ]
    },
    {
      "cell_type": "code",
      "source": [
        "!unzip '/content/poems.zip'"
      ],
      "metadata": {
        "colab": {
          "base_uri": "https://localhost:8080/"
        },
        "id": "vsvWTiasGZOZ",
        "outputId": "7a21a53c-7018-49b8-c683-9dc67e39e63e"
      },
      "execution_count": 7,
      "outputs": [
        {
          "output_type": "stream",
          "name": "stdout",
          "text": [
            "Archive:  /content/poems.zip\n",
            "  inflating: poems-100.csv           \n"
          ]
        }
      ]
    },
    {
      "cell_type": "code",
      "source": [
        "import pandas as pd\n",
        "import numpy as np\n",
        "df = pd.read_csv('/content/poems-100.csv')"
      ],
      "metadata": {
        "id": "-7Dn_fISGjRA"
      },
      "execution_count": 8,
      "outputs": []
    },
    {
      "cell_type": "code",
      "source": [
        "df"
      ],
      "metadata": {
        "colab": {
          "base_uri": "https://localhost:8080/",
          "height": 423
        },
        "id": "Y-PRaARkHKg2",
        "outputId": "be023258-f19a-4e58-aa3d-7279b66bf327"
      },
      "execution_count": 9,
      "outputs": [
        {
          "output_type": "execute_result",
          "data": {
            "text/plain": [
              "                                                 text\n",
              "0   O my Luve's like a red, red rose\\nThat’s newly...\n",
              "1   The rose is red,\\nThe violet's blue,\\nSugar is...\n",
              "2   How do I love thee? Let me count the ways.\\nI ...\n",
              "3   Had I the heavens' embroidered cloths,\\nEnwrou...\n",
              "4   I.\\n    Enough! we're tired, my heart and I.\\n...\n",
              "..                                                ...\n",
              "95  The city had withdrawn into itself\\nAnd left a...\n",
              "96      O gift of God! O perfect day:\\n    Whereon...\n",
              "97  The world is too much with us; late and soon,\\...\n",
              "98      To him who in the love of Nature holds\\nCo...\n",
              "99  It was an April morning: fresh and clear \\nThe...\n",
              "\n",
              "[100 rows x 1 columns]"
            ],
            "text/html": [
              "\n",
              "\n",
              "  <div id=\"df-a42813cd-abe5-4cd1-b07b-b18aaf816bc0\">\n",
              "    <div class=\"colab-df-container\">\n",
              "      <div>\n",
              "<style scoped>\n",
              "    .dataframe tbody tr th:only-of-type {\n",
              "        vertical-align: middle;\n",
              "    }\n",
              "\n",
              "    .dataframe tbody tr th {\n",
              "        vertical-align: top;\n",
              "    }\n",
              "\n",
              "    .dataframe thead th {\n",
              "        text-align: right;\n",
              "    }\n",
              "</style>\n",
              "<table border=\"1\" class=\"dataframe\">\n",
              "  <thead>\n",
              "    <tr style=\"text-align: right;\">\n",
              "      <th></th>\n",
              "      <th>text</th>\n",
              "    </tr>\n",
              "  </thead>\n",
              "  <tbody>\n",
              "    <tr>\n",
              "      <th>0</th>\n",
              "      <td>O my Luve's like a red, red rose\\nThat’s newly...</td>\n",
              "    </tr>\n",
              "    <tr>\n",
              "      <th>1</th>\n",
              "      <td>The rose is red,\\nThe violet's blue,\\nSugar is...</td>\n",
              "    </tr>\n",
              "    <tr>\n",
              "      <th>2</th>\n",
              "      <td>How do I love thee? Let me count the ways.\\nI ...</td>\n",
              "    </tr>\n",
              "    <tr>\n",
              "      <th>3</th>\n",
              "      <td>Had I the heavens' embroidered cloths,\\nEnwrou...</td>\n",
              "    </tr>\n",
              "    <tr>\n",
              "      <th>4</th>\n",
              "      <td>I.\\n    Enough! we're tired, my heart and I.\\n...</td>\n",
              "    </tr>\n",
              "    <tr>\n",
              "      <th>...</th>\n",
              "      <td>...</td>\n",
              "    </tr>\n",
              "    <tr>\n",
              "      <th>95</th>\n",
              "      <td>The city had withdrawn into itself\\nAnd left a...</td>\n",
              "    </tr>\n",
              "    <tr>\n",
              "      <th>96</th>\n",
              "      <td>O gift of God! O perfect day:\\n    Whereon...</td>\n",
              "    </tr>\n",
              "    <tr>\n",
              "      <th>97</th>\n",
              "      <td>The world is too much with us; late and soon,\\...</td>\n",
              "    </tr>\n",
              "    <tr>\n",
              "      <th>98</th>\n",
              "      <td>To him who in the love of Nature holds\\nCo...</td>\n",
              "    </tr>\n",
              "    <tr>\n",
              "      <th>99</th>\n",
              "      <td>It was an April morning: fresh and clear \\nThe...</td>\n",
              "    </tr>\n",
              "  </tbody>\n",
              "</table>\n",
              "<p>100 rows × 1 columns</p>\n",
              "</div>\n",
              "      <button class=\"colab-df-convert\" onclick=\"convertToInteractive('df-a42813cd-abe5-4cd1-b07b-b18aaf816bc0')\"\n",
              "              title=\"Convert this dataframe to an interactive table.\"\n",
              "              style=\"display:none;\">\n",
              "\n",
              "  <svg xmlns=\"http://www.w3.org/2000/svg\" height=\"24px\"viewBox=\"0 0 24 24\"\n",
              "       width=\"24px\">\n",
              "    <path d=\"M0 0h24v24H0V0z\" fill=\"none\"/>\n",
              "    <path d=\"M18.56 5.44l.94 2.06.94-2.06 2.06-.94-2.06-.94-.94-2.06-.94 2.06-2.06.94zm-11 1L8.5 8.5l.94-2.06 2.06-.94-2.06-.94L8.5 2.5l-.94 2.06-2.06.94zm10 10l.94 2.06.94-2.06 2.06-.94-2.06-.94-.94-2.06-.94 2.06-2.06.94z\"/><path d=\"M17.41 7.96l-1.37-1.37c-.4-.4-.92-.59-1.43-.59-.52 0-1.04.2-1.43.59L10.3 9.45l-7.72 7.72c-.78.78-.78 2.05 0 2.83L4 21.41c.39.39.9.59 1.41.59.51 0 1.02-.2 1.41-.59l7.78-7.78 2.81-2.81c.8-.78.8-2.07 0-2.86zM5.41 20L4 18.59l7.72-7.72 1.47 1.35L5.41 20z\"/>\n",
              "  </svg>\n",
              "      </button>\n",
              "\n",
              "\n",
              "\n",
              "    <div id=\"df-716bfaf1-1cf0-428a-a7f4-8d1ee85a54c0\">\n",
              "      <button class=\"colab-df-quickchart\" onclick=\"quickchart('df-716bfaf1-1cf0-428a-a7f4-8d1ee85a54c0')\"\n",
              "              title=\"Suggest charts.\"\n",
              "              style=\"display:none;\">\n",
              "\n",
              "<svg xmlns=\"http://www.w3.org/2000/svg\" height=\"24px\"viewBox=\"0 0 24 24\"\n",
              "     width=\"24px\">\n",
              "    <g>\n",
              "        <path d=\"M19 3H5c-1.1 0-2 .9-2 2v14c0 1.1.9 2 2 2h14c1.1 0 2-.9 2-2V5c0-1.1-.9-2-2-2zM9 17H7v-7h2v7zm4 0h-2V7h2v10zm4 0h-2v-4h2v4z\"/>\n",
              "    </g>\n",
              "</svg>\n",
              "      </button>\n",
              "    </div>\n",
              "\n",
              "<style>\n",
              "  .colab-df-quickchart {\n",
              "    background-color: #E8F0FE;\n",
              "    border: none;\n",
              "    border-radius: 50%;\n",
              "    cursor: pointer;\n",
              "    display: none;\n",
              "    fill: #1967D2;\n",
              "    height: 32px;\n",
              "    padding: 0 0 0 0;\n",
              "    width: 32px;\n",
              "  }\n",
              "\n",
              "  .colab-df-quickchart:hover {\n",
              "    background-color: #E2EBFA;\n",
              "    box-shadow: 0px 1px 2px rgba(60, 64, 67, 0.3), 0px 1px 3px 1px rgba(60, 64, 67, 0.15);\n",
              "    fill: #174EA6;\n",
              "  }\n",
              "\n",
              "  [theme=dark] .colab-df-quickchart {\n",
              "    background-color: #3B4455;\n",
              "    fill: #D2E3FC;\n",
              "  }\n",
              "\n",
              "  [theme=dark] .colab-df-quickchart:hover {\n",
              "    background-color: #434B5C;\n",
              "    box-shadow: 0px 1px 3px 1px rgba(0, 0, 0, 0.15);\n",
              "    filter: drop-shadow(0px 1px 2px rgba(0, 0, 0, 0.3));\n",
              "    fill: #FFFFFF;\n",
              "  }\n",
              "</style>\n",
              "\n",
              "    <script>\n",
              "      async function quickchart(key) {\n",
              "        const containerElement = document.querySelector('#' + key);\n",
              "        const charts = await google.colab.kernel.invokeFunction(\n",
              "            'suggestCharts', [key], {});\n",
              "      }\n",
              "    </script>\n",
              "\n",
              "      <script>\n",
              "\n",
              "function displayQuickchartButton(domScope) {\n",
              "  let quickchartButtonEl =\n",
              "    domScope.querySelector('#df-716bfaf1-1cf0-428a-a7f4-8d1ee85a54c0 button.colab-df-quickchart');\n",
              "  quickchartButtonEl.style.display =\n",
              "    google.colab.kernel.accessAllowed ? 'block' : 'none';\n",
              "}\n",
              "\n",
              "        displayQuickchartButton(document);\n",
              "      </script>\n",
              "      <style>\n",
              "    .colab-df-container {\n",
              "      display:flex;\n",
              "      flex-wrap:wrap;\n",
              "      gap: 12px;\n",
              "    }\n",
              "\n",
              "    .colab-df-convert {\n",
              "      background-color: #E8F0FE;\n",
              "      border: none;\n",
              "      border-radius: 50%;\n",
              "      cursor: pointer;\n",
              "      display: none;\n",
              "      fill: #1967D2;\n",
              "      height: 32px;\n",
              "      padding: 0 0 0 0;\n",
              "      width: 32px;\n",
              "    }\n",
              "\n",
              "    .colab-df-convert:hover {\n",
              "      background-color: #E2EBFA;\n",
              "      box-shadow: 0px 1px 2px rgba(60, 64, 67, 0.3), 0px 1px 3px 1px rgba(60, 64, 67, 0.15);\n",
              "      fill: #174EA6;\n",
              "    }\n",
              "\n",
              "    [theme=dark] .colab-df-convert {\n",
              "      background-color: #3B4455;\n",
              "      fill: #D2E3FC;\n",
              "    }\n",
              "\n",
              "    [theme=dark] .colab-df-convert:hover {\n",
              "      background-color: #434B5C;\n",
              "      box-shadow: 0px 1px 3px 1px rgba(0, 0, 0, 0.15);\n",
              "      filter: drop-shadow(0px 1px 2px rgba(0, 0, 0, 0.3));\n",
              "      fill: #FFFFFF;\n",
              "    }\n",
              "  </style>\n",
              "\n",
              "      <script>\n",
              "        const buttonEl =\n",
              "          document.querySelector('#df-a42813cd-abe5-4cd1-b07b-b18aaf816bc0 button.colab-df-convert');\n",
              "        buttonEl.style.display =\n",
              "          google.colab.kernel.accessAllowed ? 'block' : 'none';\n",
              "\n",
              "        async function convertToInteractive(key) {\n",
              "          const element = document.querySelector('#df-a42813cd-abe5-4cd1-b07b-b18aaf816bc0');\n",
              "          const dataTable =\n",
              "            await google.colab.kernel.invokeFunction('convertToInteractive',\n",
              "                                                     [key], {});\n",
              "          if (!dataTable) return;\n",
              "\n",
              "          const docLinkHtml = 'Like what you see? Visit the ' +\n",
              "            '<a target=\"_blank\" href=https://colab.research.google.com/notebooks/data_table.ipynb>data table notebook</a>'\n",
              "            + ' to learn more about interactive tables.';\n",
              "          element.innerHTML = '';\n",
              "          dataTable['output_type'] = 'display_data';\n",
              "          await google.colab.output.renderOutput(dataTable, element);\n",
              "          const docLink = document.createElement('div');\n",
              "          docLink.innerHTML = docLinkHtml;\n",
              "          element.appendChild(docLink);\n",
              "        }\n",
              "      </script>\n",
              "    </div>\n",
              "  </div>\n"
            ]
          },
          "metadata": {},
          "execution_count": 9
        }
      ]
    },
    {
      "cell_type": "markdown",
      "source": [
        "#preprocessing"
      ],
      "metadata": {
        "id": "sXG4sNq8LZZ0"
      }
    },
    {
      "cell_type": "code",
      "source": [
        "!pip install emoji"
      ],
      "metadata": {
        "colab": {
          "base_uri": "https://localhost:8080/"
        },
        "id": "8p2PTHkBNL08",
        "outputId": "a49cb80f-9c23-47fa-d1ee-0b5182c0279e"
      },
      "execution_count": 10,
      "outputs": [
        {
          "output_type": "stream",
          "name": "stdout",
          "text": [
            "Collecting emoji\n",
            "  Downloading emoji-2.6.0.tar.gz (356 kB)\n",
            "\u001b[2K     \u001b[90m━━━━━━━━━━━━━━━━━━━━━━━━━━━━━━━━━━━━━━━\u001b[0m \u001b[32m356.6/356.6 kB\u001b[0m \u001b[31m4.1 MB/s\u001b[0m eta \u001b[36m0:00:00\u001b[0m\n",
            "\u001b[?25h  Preparing metadata (setup.py) ... \u001b[?25l\u001b[?25hdone\n",
            "Building wheels for collected packages: emoji\n",
            "  Building wheel for emoji (setup.py) ... \u001b[?25l\u001b[?25hdone\n",
            "  Created wheel for emoji: filename=emoji-2.6.0-py2.py3-none-any.whl size=351311 sha256=dda3b8df29cb1e6ad1689618396fc84edb4e9050dd6a6c977db6eab7e8def67e\n",
            "  Stored in directory: /root/.cache/pip/wheels/ea/0b/64/114bc939d0083621aa41521e21be246c888260b8aa21e6c1ad\n",
            "Successfully built emoji\n",
            "Installing collected packages: emoji\n",
            "Successfully installed emoji-2.6.0\n"
          ]
        }
      ]
    },
    {
      "cell_type": "code",
      "source": [
        "import re\n",
        "import emoji\n",
        "def clean(text):\n",
        "  text = text.lower()\n",
        "  text = re.sub(r'[^\\s\\w]','',text)\n",
        "  text = re.sub(r'https?://\\S+','',text) #remove links\n",
        "  text = re.sub(r'[^A-Za-z0-9 ]+', '', text) #remove special character\n",
        "  text = emoji.demojize(text, delimiters=('', ''))\n",
        "  return text"
      ],
      "metadata": {
        "id": "lzcUDT0cHV3p"
      },
      "execution_count": 11,
      "outputs": []
    },
    {
      "cell_type": "code",
      "source": [
        "df['text'] = df['text'].apply(clean)"
      ],
      "metadata": {
        "id": "KYNt2M2uNVxz"
      },
      "execution_count": 12,
      "outputs": []
    },
    {
      "cell_type": "code",
      "source": [
        "# stop word remval -- steaming -- lemetization\n",
        "\n",
        "import nltk\n",
        "from nltk.stem import PorterStemmer, WordNetLemmatizer\n",
        "\n",
        "from nltk.corpus import stopwords\n",
        "from nltk.tokenize import word_tokenize\n",
        "nltk.download('stopwords')\n",
        "nltk.download('punkt')\n",
        "nltk.download('wordnet')\n",
        "sw = stopwords.words('english')\n",
        "ps = PorterStemmer()\n",
        "wl = WordNetLemmatizer()\n",
        "\n",
        "def tokenize_steam(text):\n",
        "  text = word_tokenize(text)\n",
        "  text = [word for word in text if word not in sw]\n",
        "  text = [wl.lemmatize(word) for word in text]\n",
        "  text = [ps.stem(word )for word in text]\n",
        "  text = ' '.join(text)\n",
        "  return text\n",
        "\n",
        "tokenize_steam('This is IshaQ fr fdj')"
      ],
      "metadata": {
        "colab": {
          "base_uri": "https://localhost:8080/",
          "height": 122
        },
        "id": "OPDnikG_Nfbn",
        "outputId": "0545b366-5591-4e49-b595-d14b3e0a5265"
      },
      "execution_count": 13,
      "outputs": [
        {
          "output_type": "stream",
          "name": "stderr",
          "text": [
            "[nltk_data] Downloading package stopwords to /root/nltk_data...\n",
            "[nltk_data]   Unzipping corpora/stopwords.zip.\n",
            "[nltk_data] Downloading package punkt to /root/nltk_data...\n",
            "[nltk_data]   Unzipping tokenizers/punkt.zip.\n",
            "[nltk_data] Downloading package wordnet to /root/nltk_data...\n"
          ]
        },
        {
          "output_type": "execute_result",
          "data": {
            "text/plain": [
              "'thi ishaq fr fdj'"
            ],
            "application/vnd.google.colaboratory.intrinsic+json": {
              "type": "string"
            }
          },
          "metadata": {},
          "execution_count": 13
        }
      ]
    },
    {
      "cell_type": "code",
      "source": [
        "df['text'] = df['text'].apply(tokenize_steam)"
      ],
      "metadata": {
        "id": "6qD8S2A7Nmw8"
      },
      "execution_count": 14,
      "outputs": []
    },
    {
      "cell_type": "markdown",
      "source": [
        "#formate the dataset and encode the text"
      ],
      "metadata": {
        "id": "0xxzvpWkRPDL"
      }
    },
    {
      "cell_type": "code",
      "source": [
        "# convert to numbers then padding\n",
        "import keras\n",
        "from keras.preprocessing.text import Tokenizer\n",
        "from keras.layers import SimpleRNN\n",
        "from keras.utils import to_categorical\n",
        "from keras.models import Sequential\n",
        "from keras.layers import Dense\n",
        "from keras.layers import LSTM\n",
        "from keras.layers import Embedding"
      ],
      "metadata": {
        "id": "sBokV78WNm5q"
      },
      "execution_count": 15,
      "outputs": []
    },
    {
      "cell_type": "code",
      "source": [
        "# integer encode text\n",
        "tokenizer = Tokenizer()"
      ],
      "metadata": {
        "id": "z5wYpc63Nfd-"
      },
      "execution_count": 16,
      "outputs": []
    },
    {
      "cell_type": "code",
      "source": [
        "tokenizer.fit_on_texts(df['text'])"
      ],
      "metadata": {
        "id": "Bza8V2dGSXUF"
      },
      "execution_count": 17,
      "outputs": []
    },
    {
      "cell_type": "code",
      "source": [
        "len(tokenizer.word_index) #vocabulary has created wher the shape is word: idex"
      ],
      "metadata": {
        "colab": {
          "base_uri": "https://localhost:8080/"
        },
        "id": "LzC4fAG-SXXx",
        "outputId": "1fc9bbc1-1a0e-4d5d-cdb7-b2470d70a7c6"
      },
      "execution_count": 18,
      "outputs": [
        {
          "output_type": "execute_result",
          "data": {
            "text/plain": [
              "4985"
            ]
          },
          "metadata": {},
          "execution_count": 18
        }
      ]
    },
    {
      "cell_type": "code",
      "source": [
        "sentences = tokenizer.texts_to_sequences(df['text'])"
      ],
      "metadata": {
        "id": "ilBIK7UxSXbA"
      },
      "execution_count": 19,
      "outputs": []
    },
    {
      "cell_type": "code",
      "source": [
        "print(sentences) #this is df[0]\n"
      ],
      "metadata": {
        "colab": {
          "base_uri": "https://localhost:8080/"
        },
        "id": "KtDxePDqIaR9",
        "outputId": "9a0a121e-fa87-45d6-8a99-14907887bdbc"
      },
      "execution_count": 20,
      "outputs": [
        {
          "output_type": "stream",
          "name": "stdout",
          "text": [
            "[[385, 7, 143, 143, 1635, 1636, 1637, 1638, 385, 7, 1639, 1640, 964, 1641, 268, 205, 36, 1642, 1643, 230, 385, 1644, 385, 23, 64, 1645, 62, 683, 1646, 62, 683, 269, 1647, 185, 1648, 1649, 965, 385, 23, 64, 1650, 509, 8, 3, 966, 386, 23, 37, 1651, 386, 23, 37, 1652, 9, 1653, 325, 106, 326], [684, 1654, 967, 1655, 1656], [1, 23, 50, 685, 1657, 1, 23, 510, 1658, 1659, 84, 144, 65, 1660, 206, 1661, 1662, 1, 23, 511, 19, 1663, 512, 231, 51, 1664, 1, 23, 686, 28, 513, 1665, 1, 23, 687, 107, 1666, 1, 23, 688, 73, 1667, 16, 207, 968, 1668, 1, 23, 1, 117, 1669, 145, 969, 1, 1670, 514, 8, 32, 1671, 3, 1, 23, 232, 66], [55, 1672, 1673, 515, 689, 1674, 186, 387, 74, 1675, 14, 35, 1676, 20, 208, 327, 1677, 690, 1678, 208, 270, 1679, 970, 328, 270], [92, 93, 6, 146, 516, 1680, 329, 165, 209, 971, 29, 972, 1681, 691, 388, 1682, 973, 389, 55, 147, 8, 974, 21, 8, 93, 6, 1683, 5, 93, 6, 1684, 692, 271, 28, 148, 1685, 1686, 1687, 46, 187, 56, 693, 975, 206, 1, 272, 166, 149, 85, 93, 6, 1688, 93, 65, 6, 117, 210, 57, 390, 273, 1689, 1690, 28, 24, 694, 33, 695, 50, 67, 514, 517, 6, 1691, 93, 93, 6, 329, 16, 22, 1692, 518, 1693, 1694, 211, 976, 188, 233, 1, 977, 10, 93, 108, 212, 1695, 38, 330, 93, 6, 1696, 93, 93, 6, 234, 391, 40, 109, 519, 130, 274, 696, 75, 520, 131, 206, 1697, 213, 1698, 118, 275, 41, 1699, 331, 1700, 1701, 6, 1702, 93, 6, 521, 57, 392, 1703, 978, 29, 1704, 332, 1705, 393, 235, 50, 333, 522, 523, 10, 132, 979, 58, 32, 186, 55, 65, 93, 6, 1706, 25, 697, 6, 1707, 21, 334, 30, 214, 15, 980, 981, 335, 982, 11, 983, 524, 1, 210, 37, 92, 68, 1708, 386, 6], [56, 110, 7, 1709, 1710, 1711, 1712, 1713, 1714, 119, 74, 1715, 1716, 1717, 1718, 984, 1719, 55, 1720, 11, 1721, 276, 2, 1722, 1723, 236, 1724, 985, 1725, 336, 19, 986, 1726, 970, 1727, 987, 1728, 111, 988, 147, 1729, 687, 233, 1730, 989, 987, 1731, 237, 394, 25, 1732, 212, 1733, 1734, 1735, 76, 11, 34, 1736, 189, 525, 1737, 6, 150, 1, 990], [43, 1738, 39, 1739, 991, 1740, 34, 1741, 1742, 1743, 1744, 992, 1745, 1746, 1747, 238, 1748, 1749, 1750, 1751, 526, 1752, 1753, 1754, 1755, 698, 1756, 17, 1757, 1758, 993, 1759, 1760, 1761, 994, 1762, 3, 1763, 1764, 26, 1765, 1766, 47, 1767, 59, 39, 6, 1768, 995, 699, 1769, 23, 996, 1770, 1771, 39, 1772, 8, 1773, 1774, 1775, 337, 1776, 527, 528, 1777, 151, 529, 1778, 1779, 36, 1780, 1781, 1782, 1783, 684, 1784, 152, 1785, 36, 1, 1786, 395, 1787, 1788, 153, 387, 1789, 997, 1790, 1791, 1792, 1793, 32, 700], [338, 62, 18, 167, 1794, 530, 1795, 154, 1796, 1797, 30, 336, 1798, 998, 1799, 1800, 339, 1801, 999, 1802, 1803, 239, 1804, 1805, 326, 696, 1806, 1807, 240, 396, 75, 1000, 1808, 1809, 1810, 520, 531, 1811, 186, 1812, 35, 1813, 33, 155, 1001, 701, 151, 1814, 94, 6, 133], [1815, 1816, 277, 330, 1817, 532, 1818, 1819, 60, 1, 1820, 8, 533, 1821, 278, 277, 702, 231, 52, 1822, 120, 6, 86, 1823, 209, 703, 1824, 53, 241, 1825, 1826, 1827, 1828, 516, 1829, 134, 2, 85, 112, 1002, 1003, 704, 1004, 1830, 230, 74, 24, 703, 1831, 1005, 20, 705, 1832, 1833, 94, 8, 66, 397, 1834, 148, 1006, 1835, 85, 111, 279, 1836, 1003, 113, 1837, 340, 131, 1838, 2, 11, 1839, 4, 57, 48, 206, 1840, 190, 706, 1841, 1842, 1843, 77, 1844, 135, 1845, 10, 1, 1846, 983, 688, 1847, 976, 1848, 1849, 1850, 341, 25, 1851, 342, 52, 398, 55, 1852, 1853, 1854, 399, 329, 168, 169, 1855, 707, 112, 1856, 1857, 1858, 1859, 1860, 241, 708, 168, 242, 231, 513, 8, 1861, 108, 243, 1862, 170, 339, 170, 1863, 1, 1864, 170, 343, 1865, 1007, 1866, 112, 1867, 118, 59, 1868, 28, 513, 1869, 1870, 533, 156, 1871, 1008, 136, 157, 57, 1872, 534, 1873, 1874, 1875, 25, 1876, 344, 1877, 206, 114, 1878, 1879, 243, 1880, 1881, 345, 241, 244, 241, 20, 1, 1882, 27, 280, 346, 26, 1883, 6, 709, 1009, 1884, 1010, 245, 111, 1885, 347, 1886, 1887, 112, 5, 528, 1888, 77, 710, 1889, 400, 1890, 8, 1891, 535, 1011, 1892, 1893, 1012, 1894, 1895, 209, 1896, 112, 232, 1897, 246, 247, 1898, 280, 133, 1899, 1900, 347, 1901, 95, 15, 110, 119, 1013, 711, 113, 1902, 248, 1903, 330, 69, 1904, 119, 1905, 1906, 249, 16, 712, 1907, 2, 1908, 1909, 17, 713, 711, 171, 112, 151, 1014, 121, 1910, 1911, 1912, 96, 205, 1913, 1914, 1015, 1915, 714, 281, 1916, 715, 1917, 3, 1918, 12, 158, 716, 1919, 536, 60, 282, 1016, 1920, 1921, 1922, 1017, 537, 1923, 158, 4, 1018, 206, 348, 215, 112, 1924, 4, 349, 29, 1925, 1019, 1926, 1927, 1020, 1928, 2, 52, 350, 8, 238, 1019, 137, 1929, 97, 538, 1930, 1931, 98, 1932, 1933, 333, 1934, 717, 53, 539, 1935, 34, 20, 55, 117, 119, 55, 238, 1014, 1936, 1937, 1938, 55, 268, 1939, 8, 119, 24, 1940, 8, 283, 122, 1941, 1942, 26, 1943, 64, 112, 1944, 8, 26, 16, 25, 1945, 718, 1946, 1021, 172, 1947, 55, 245, 112, 112, 340, 26, 112], [5, 400, 35, 540, 54, 534, 113, 351, 1022, 284, 540, 43, 1948, 541, 719, 1023, 98, 46, 159, 212, 234, 30, 1024, 58, 242, 150, 24, 720, 61, 5, 285, 351, 10, 29, 1949, 1950, 1951, 1952, 1953, 1954, 1025, 211, 1955, 1026, 151, 64, 388, 114, 93, 721, 18, 277, 286, 542, 120, 11, 68, 6, 78, 123, 543, 111, 7, 250, 283, 401, 544, 52, 43, 398, 285, 1956, 159, 190, 1027, 1028, 15, 1957, 402, 1958, 30, 337, 251, 1959, 160, 545, 1960, 546, 25, 87, 547, 40, 1961, 1029, 6, 286, 1962, 1963, 352, 35, 721, 722, 117, 35, 548, 24, 1030, 1031, 115, 5, 216, 549, 99, 29, 403, 550, 1032, 551, 1033, 7, 54, 10, 32, 52, 10, 1964, 287, 552, 173, 9, 50, 29, 56, 277, 144, 549, 1034, 167, 1965, 404, 14, 138, 401, 29, 405, 120, 57, 553, 217, 68, 19, 406, 26, 554, 353, 1966, 723, 218, 354, 407, 720, 5, 724, 1035, 355, 1967, 9, 1968, 549, 10, 160, 555, 406, 70, 356, 346, 9, 5, 725, 40, 27, 50, 29, 408, 1969, 288, 31, 409, 98, 396, 9, 53, 10, 352, 556, 211, 726, 14, 357, 1970, 1036, 726, 52, 1037, 270, 68, 352, 410, 1038, 727, 35, 358, 30, 18, 40, 2, 411, 167, 174, 1971, 407, 43, 27, 5, 5, 54, 230, 352, 54, 356, 1972, 1973, 1039, 27, 46, 722, 144, 157, 1974, 530, 135, 721, 165, 46, 1040, 54, 7, 728, 161, 1975, 411, 132, 35, 411, 73, 1041, 557, 100, 5, 71, 87, 1042, 79, 20, 412, 359, 160, 406, 172, 157, 545, 252, 729, 1043, 191, 689, 14, 725, 22, 108, 18, 157, 558, 360, 1976, 1977, 557, 31, 559, 361, 80, 63, 25, 121, 1044, 1978, 971, 26, 362, 729, 56, 30, 50, 42, 211, 5, 716, 559, 88, 210, 219, 549, 20, 2, 14, 46, 118, 253, 130, 1979, 413, 289, 335, 41, 270, 19, 165, 9, 272, 118, 1980, 57, 132, 54, 192, 94, 118], [145, 1981, 145, 1982, 18, 1045, 1046, 1047, 1983, 730, 1984, 1, 139, 1048, 156, 110, 1985, 18, 1045, 35, 145, 1986, 1049, 230, 1, 73, 1987, 1988, 134, 1989, 1990, 1991, 1992, 1050, 414, 63], [22, 415, 1993, 731, 1994, 18, 1995, 220, 1996, 1997], [1, 7, 174, 1998, 1999, 732, 2000, 733, 2001, 7, 1051, 2002, 2003, 2004, 2005, 2006, 560, 2007, 71, 2008, 2009, 1051], [77, 77, 96, 1052, 416, 1053, 734, 61, 48, 2010, 209, 290, 735, 734, 61, 2011, 1, 1, 58, 2012, 416, 2013, 1, 1, 2014, 290, 2015, 1, 526, 2016, 2017, 2018, 561, 18, 1052, 416, 2019, 63, 2020, 173, 2021, 110, 290, 2022, 2023, 2024, 2025, 1054, 89, 2026, 736, 2027, 416, 2028, 737, 236, 213, 2029, 1055, 2030, 561, 28, 2031, 416, 1053, 63, 254, 173, 2032, 738, 290, 2033, 1, 2034, 88, 2035, 2036, 2037, 77, 88, 1056, 2038, 562, 737, 55, 2039, 2040, 2041, 26, 2042, 84, 1057, 110, 290, 2043, 135, 17, 417, 175, 138, 2044, 110, 290, 735, 54, 17, 86, 65, 193, 2045, 110, 290, 735, 2046, 99, 2047, 739, 739, 8, 2048, 2049, 2050, 1058, 49, 62], [548, 563, 1059, 563, 2051, 22, 64, 2052, 283, 212, 996, 2053, 2054, 550, 55, 740, 741, 1060, 2055, 2056, 291, 966, 1061, 1060, 2057, 162, 119, 2058, 215, 148, 2059, 2060, 742, 2061, 64, 2062, 2063, 2064, 210, 2065, 563, 48, 13, 2066, 145, 2067, 48, 363, 1062], [3, 2068, 23, 152, 11, 36, 205, 1, 2069, 524, 63, 358, 739, 743, 48, 152, 2070, 292, 220, 1063, 564, 565, 24, 55, 293, 1064, 407, 2071, 387, 19, 268, 268, 564, 744, 745, 101, 362, 566, 2072, 39, 418, 152, 3, 398, 412, 1065, 268, 36, 2073, 3, 66, 2074, 36, 2075, 276, 418, 400, 22, 36, 2076, 18, 28, 131, 24, 5, 18, 8, 43, 8, 23], [1, 7, 102, 2077, 7, 2078, 746, 74, 1066, 2079, 2080, 2081, 102, 1066, 147, 2082, 152, 747, 567, 2083, 72, 75, 404, 9, 748, 124, 2084, 2085, 749, 1067, 2086, 2087, 568, 23, 746, 2088, 2089, 2090, 39, 2091, 64, 48, 134, 39, 2092, 140], [61, 20, 8, 8, 242, 2093, 2094, 166, 750, 73, 2095, 8, 2096, 7, 1040, 1068, 2097, 1069, 2098, 2099, 2100, 2101, 16, 2, 751, 46, 137, 2, 52, 2102, 736, 255, 294, 46, 46, 42, 2103, 5, 2104, 175, 364, 1070, 66, 2105, 46, 86, 2106, 73, 2107, 157, 2108, 752, 2109, 2110, 24, 2111, 2112, 2113, 2114, 1071, 29, 2115, 55, 2116, 2117, 46, 2118, 753, 2119, 1072, 2120, 2121, 145, 20, 234, 2122, 2123, 2124, 1073, 1074, 2125, 2126, 395, 569, 52, 419, 529, 221, 2127, 420, 754, 79, 1075, 421], [102, 14, 102, 2128, 2129, 14, 2130, 2131, 2132, 6, 1076, 243, 2133, 2134, 2135, 2136, 2137, 23], [1077, 570, 365, 2138, 292, 1, 2139, 1, 256, 2140, 325, 155, 366, 2141, 222, 2142, 2143, 2144, 20, 125, 1016, 190, 1078, 1079, 715, 2145, 1080, 2146, 1, 27, 2147, 207, 2148, 2149, 207, 194, 2150, 9, 29, 29, 1, 2151, 571, 29, 17, 2152, 2153, 422, 120, 755, 2154, 2155, 2156, 6, 2157, 2158, 2159, 6, 122, 190, 1081, 392, 6, 2160, 214, 295, 391, 2161, 192, 23, 2162, 20, 2163, 756, 6, 2164, 1005, 2165, 1, 2166, 2, 122, 195, 2167, 2168, 60, 60, 2169, 90, 555, 2170, 68, 196, 292, 2171, 757, 64, 234, 2172, 423, 758, 2173, 257, 2174, 103, 2175, 2176, 6, 7, 165, 2177, 2, 1, 1], [1, 2178, 1, 1082, 25, 36, 205, 2179, 572, 1055, 132, 193, 186, 188, 2180, 512, 54, 48, 5, 23, 573, 1, 759, 4, 2181, 36, 1083, 117, 64, 37, 243, 1064, 1084, 2182, 1, 7, 23, 1, 759, 36, 205, 2183, 343, 49, 234, 296, 233, 335, 1085, 424, 2184, 33, 158, 197, 41, 297, 1, 759, 39, 296, 1086, 230, 193, 1087, 186, 760, 55, 2185, 24, 26, 1088, 4, 1, 23, 25, 2186, 522, 271, 2187, 6, 1089, 2188, 212, 2189, 5, 294, 36, 205], [425, 1, 2190, 1062, 1, 2191, 2192, 2193, 761, 283, 295, 1090, 401, 2194, 538, 6, 1090, 279, 367, 2195, 2196, 425, 762, 1091, 1, 48, 2197, 10, 279, 1, 2198, 258, 2, 2199, 2200, 1092, 106, 763, 2201, 66, 425, 1, 25], [2202, 171, 764, 3, 764, 19, 1093, 765, 34, 765, 574, 426, 84, 275, 574, 1094, 1095, 2203, 152, 81, 298, 19, 1093, 148, 1096, 2204, 71, 176, 766, 176, 766, 766, 2205, 96, 16, 299, 767, 300, 241, 575, 75, 66, 576, 768, 2206, 1097, 53, 2207, 17, 2208, 2209, 34, 577, 2210, 296, 19, 1098, 101, 175, 2211, 769, 2212], [91, 214, 123, 770, 2213, 78, 770, 131, 2214, 4, 7, 1099, 20, 2215, 198, 3, 50, 1100, 770, 427, 1099, 2216, 177, 363, 1, 13, 578, 82, 126, 2217, 579, 570, 2218, 428, 131, 424, 1101, 2219, 289, 2220, 2221, 2222, 1102, 2223, 1103, 133, 6, 259, 148, 71, 2224, 1104, 140, 197, 269, 197, 429, 2225, 2226, 1105, 1106, 49, 2227, 59, 33, 2228, 1107, 63, 35, 274, 430, 144, 100, 109, 159, 293, 276, 80, 1108, 1109, 2229, 368, 118, 414, 351, 160, 240, 2230, 65, 767, 2231, 1110, 178, 86, 260, 419, 51, 1111, 106, 2232, 69, 1111, 21, 69, 2233, 18, 580, 1112, 347, 771, 581, 246, 558, 179, 11, 14, 3, 582, 769, 558, 3, 582, 34, 21, 51, 403, 51, 301, 3, 1113, 40, 15, 583, 2234, 27, 10, 24, 180, 584, 2235, 692, 3, 10, 24, 534, 40, 15, 3, 199, 113, 1114, 395], [200, 2236, 163, 163, 300, 206, 163, 300, 206, 17, 2237, 215, 162, 17, 299, 55, 569, 431, 431, 431, 116, 2238, 431, 57, 387, 2239, 302, 585, 116, 2240, 1115, 116, 1116, 116, 2241, 1117, 116, 2242, 116, 1118, 8, 2243, 1119, 2244, 2245, 65, 367, 432, 367, 2246, 1120, 37, 2247, 1121, 417, 2248, 303, 1122, 1026, 1123, 723, 42, 261, 147, 84, 261, 147, 84, 772, 2, 772, 586, 245, 286, 75, 126, 586, 433, 1124, 107, 164, 119, 2249, 1007, 162, 2250, 162, 4, 299, 349, 2251, 15, 2252, 223, 13, 773, 774, 775, 19, 776, 2253, 12, 2254, 732, 777, 2255, 777, 2256, 391, 3, 155, 2257, 83, 2258, 5, 408, 125, 171, 1125, 1, 2259, 67, 113, 14, 2260, 2261, 11, 2262, 328, 134, 2263, 778, 79, 2264, 2265, 91, 434, 3, 2266, 181, 2267, 587, 24, 107, 294, 588, 2268, 1126, 164, 435, 1127, 1128, 2, 1127, 1128, 94, 779], [2269, 1129, 780, 285, 419, 2270, 41, 250, 8, 2271, 136, 61, 589, 1130, 1063, 2272, 2273, 2274, 2275, 16, 157, 1131, 781, 782, 10, 2276, 1132, 547, 390, 694, 12, 44, 1, 249, 2, 783, 2277, 784, 772, 2278, 2279, 2280, 785, 2281, 2282, 436, 2283, 334, 2284, 349, 2285, 9, 11, 14, 13, 529, 1133, 786, 42, 42, 2286, 2287, 2288, 590, 2289, 10, 2290, 369, 109, 1134, 432, 83, 10, 2291, 38, 437, 9, 438, 787, 211, 219, 1135, 5, 11, 262, 557, 2292, 2293, 788, 1136, 591, 72], [222, 84, 52, 1137, 52, 1137, 574, 81, 332, 179, 541, 59, 158, 711, 439, 2294, 1138, 132, 119, 2295, 7, 1139, 2296, 33, 189, 168, 2297, 152, 224, 592, 38, 2298, 1140, 1141, 713, 41, 153, 593, 2299, 1049, 298, 2300, 6, 789, 75, 347, 304, 789, 75, 790, 97, 1142, 1143, 208, 100, 525, 440, 104, 1136, 21, 4, 27, 32, 1144, 4, 156, 32, 305, 28, 26, 176, 198, 305, 44, 306, 253, 2301, 791, 1, 594, 197, 2302, 792, 240, 441, 2303, 30, 37, 344, 793, 2304, 1145, 794, 2305, 331, 1146, 2306, 2307], [58, 108, 81, 307, 123, 27, 46, 595, 58, 4, 308, 52, 535, 2308, 241, 140, 596, 2309, 308, 2310, 442, 567, 1147, 1148, 2311, 1149, 410, 2312, 209, 2313, 1150, 48, 5, 2314, 70, 150, 308, 81, 58, 1151, 370, 1152, 308, 2315, 2316, 246, 795, 709, 597, 1153, 1154, 1153, 87, 309, 167, 783, 309, 79, 2317, 2318, 2319, 2320, 43, 433, 117, 110, 2321, 182, 258, 691, 210, 796, 81, 48, 2322, 196, 45, 28, 48, 598, 20, 1, 48, 16, 285, 797, 443, 256, 127, 798, 127, 798, 81, 74, 79, 38, 16, 127, 1155, 2323, 304, 16, 28, 74, 9, 1156, 143, 444, 177, 799, 77, 800, 298, 799, 9, 444, 177, 60, 165, 46, 801, 1157, 180, 45, 28, 44, 1157, 16, 28, 127, 797, 443, 256, 798, 68, 126, 45, 16, 28, 68, 126, 44, 58, 599, 37, 1158, 1159, 795, 164, 600, 66, 26, 1160, 445, 8, 72, 206, 1161, 2324, 169, 8, 2325, 13, 1162, 446, 60, 2326, 137, 360, 2, 521, 2327], [2, 521, 1163, 176, 601, 2328, 1163, 137, 4, 104, 66, 137, 447, 2329, 370, 2330, 448, 802, 2331, 1164, 225, 94, 709, 19, 2, 34, 21, 34, 54, 34, 1165, 34, 21, 1165, 21, 1166, 1167, 285, 803, 1168, 4, 803, 4, 19, 718, 141, 2332, 2333, 371, 1, 44, 12, 771, 65, 1169, 449, 1170, 16, 1171, 127, 127, 127, 183, 212, 24, 2334, 514, 58, 2335, 58, 2336, 2337, 2338, 1068, 5, 2339, 2340, 450, 100, 2341, 2342, 2343, 1172, 89], [30, 2, 67, 1173, 284, 2344, 10, 18, 22, 223, 1174, 89, 187, 27, 1175, 2345, 281, 107, 804, 2346, 602, 2347, 1176, 1177, 2348, 2349, 805, 806, 1178, 591, 451, 2350, 182, 536, 2351, 1179, 2352, 2353, 93, 2354, 2355, 1180, 163, 2356, 2357, 2358, 807, 2359, 1181, 2360, 2361, 303, 1182, 806, 2362, 2363, 603, 2364, 2365, 2366, 1183, 2367, 2368, 2369, 2370, 2371, 1184, 1185, 808, 249, 12, 604, 176, 605, 419, 809, 810, 811, 195, 105, 2372, 78, 1186, 54, 812, 114, 2373, 2374, 78, 1187, 331, 433, 452, 77, 424, 1188, 2375, 2376, 105, 2377, 349, 2378, 44, 443, 2379, 251, 226, 43, 447, 370, 61, 813, 453, 116, 2380, 1189, 2381, 2382, 1161, 2383, 449, 2384, 1190, 172, 181, 1191, 2385, 183, 189, 164, 2386, 2387, 9, 814], [402, 221, 454, 1106, 42, 216, 455, 269, 81, 2388, 1192, 2389, 1193, 261, 35, 159, 441, 338, 140, 2390, 109, 2391, 2392, 1194, 201, 254, 606, 2393, 1192, 347, 237, 1195, 2, 607, 815, 1196, 2394, 456, 2395, 2396, 263, 38, 1197, 552, 182, 123, 1198], [118, 88, 102, 457, 1199, 816, 1200, 35, 2397, 357, 1201, 1202, 1203, 458, 104, 14, 2398, 218, 2399, 2400, 787, 105, 2401, 1204, 197, 817, 608, 113, 818, 2402, 1205, 227, 609, 1206, 24, 592, 310, 369, 2403, 603, 2404, 568, 819, 2405, 1143, 250, 820, 2406, 2407, 802, 346, 34, 22, 29, 11, 98, 2408, 190, 2409, 821, 216, 71, 88, 822, 459, 143, 281, 823, 149, 518, 341, 2410, 2411, 428, 824, 97, 154, 460, 1207, 273, 610, 578, 2412, 821, 611, 2413, 825, 2414, 304, 796, 1208, 264, 790, 459, 27, 18, 2415, 38, 461, 826, 693, 560, 462, 41, 1209, 184, 789, 97, 1210, 463, 254, 91, 820, 612, 200, 827, 2416, 1211, 2417, 2418, 2419, 1212, 190, 2420, 2421, 346, 518, 613, 1160, 2422, 392, 174, 464, 2423, 262, 128, 2424, 97, 348, 214, 2425, 348, 826, 732, 327, 556, 1213, 37, 2426, 24, 2427, 556, 73, 2428, 1214, 264, 1215, 1216, 465, 2429, 614, 828, 146, 438, 1217, 2430, 2431, 1150], [829, 45, 28, 773, 429, 829, 45, 28, 361, 829, 96, 2432, 8, 1218, 830, 831, 91, 86, 578, 832, 833, 2433, 611, 2434, 1219, 1220, 45, 28, 7, 119, 1221, 2435, 110, 834, 5, 835, 174, 25, 466, 1222, 64, 214, 408, 125, 160, 615, 254, 2436, 2437, 83, 5, 190, 1, 304, 45, 28, 2438, 517, 1223, 18, 182, 30, 372, 614, 128, 586, 27, 198, 614, 128, 462, 2439, 1224, 1225, 45, 28, 287, 53, 79, 616, 2440, 51, 194, 456, 311, 4, 2441, 744, 2442, 369, 2443, 68, 2444, 2445], [2446, 73, 2447, 2448, 389, 2449, 836, 837, 467, 2450, 2451, 2452, 2453, 2454, 2455, 2456, 2457, 2458, 2459, 121, 617, 218, 2460, 1226, 191, 2461, 2462, 2463, 413, 159, 132, 2464, 109, 838, 1227, 373, 838, 415, 838, 367, 601, 12, 1228, 90], [1229, 95, 2465, 2466, 542, 303, 1230, 2467, 2468, 2469, 540, 1229, 618, 18, 2470, 2471, 839, 1231, 42, 2472, 2, 607, 2473, 186, 593, 2474, 2475, 264, 196, 2476, 2477, 840, 394, 1232, 468, 2478, 448, 89, 841, 51, 105, 2479, 182, 2480, 105, 167, 1233, 299, 184, 312, 2481, 2482, 1, 179, 13, 2483, 198, 1234, 8, 619, 252, 1135, 37, 445, 2484, 2485, 804, 2486, 369, 265, 225, 1235, 2487, 178, 2488, 2489, 2490, 540, 2491, 842, 276, 1087, 24, 117, 620, 1112, 8, 328, 2492, 2493, 2494, 469, 2495, 2496, 86, 340, 621, 409, 100, 222, 2497, 470, 1236, 143, 530, 79, 159, 228, 843, 140, 967, 2498, 710, 2499, 124, 2500, 2501, 248, 282, 2502, 82, 17, 1237, 2503, 25, 1110, 979, 37, 10, 844, 1238, 2504, 1067], [102, 2505, 350, 2506, 471, 14, 2507, 70, 49, 7, 426, 2508, 48, 521, 2509, 199, 130, 139, 470, 90, 115, 2510, 188, 2511, 2512, 828, 2513, 2514, 2515, 2516, 808, 2517, 1239, 2518, 2519, 1240, 2520, 2521, 526, 5, 16, 622, 266, 97, 21, 217, 257, 1241, 749, 119, 1242, 2522, 87, 1243, 28, 61, 309, 845, 427, 420, 82, 2523, 2524, 313, 2525, 2526, 1244, 807, 303, 472, 67, 465, 465, 2527, 2528, 1245, 2529, 13, 745, 846, 847, 452, 1246, 848, 122, 40, 194, 188, 9, 34, 1032, 686, 363], [687, 2530, 171, 776, 2531, 1247, 781, 849, 298, 2532, 1248, 102, 314, 2533, 1249, 2534, 58, 112, 226, 2535, 1131, 2536, 456, 2537, 1250, 473, 109, 1166, 42, 1121, 2538, 2539, 2540, 455, 2541, 56, 223, 1251, 1252, 2542, 2543, 2544, 27, 2545, 2546, 623, 585, 1139, 402, 1253, 1254, 179, 2547, 56, 1255, 574, 10, 2548, 1256, 2549, 295, 85, 2550, 2551, 1257, 17, 67, 1258, 127, 1178, 2552, 1259, 338, 38, 2553, 2554, 114, 1257, 107, 2555, 2556, 24, 2557, 2558, 2559, 184, 850, 851, 1217, 1260, 474, 1261, 2560, 2561, 281, 2562, 2563, 2564, 624, 2565, 2566, 2567, 263, 1262, 1186, 625, 133, 2568, 353, 104, 45, 2569, 618, 2570, 1, 234, 4, 2571, 2572, 35, 802, 2573, 291, 706, 2574, 2575, 16, 45, 275, 1263, 146, 613, 78, 626, 1264, 40, 852, 511, 757, 1265, 2576, 2577, 1266, 1267, 2578, 2579, 2580, 2581, 2582, 1176, 2583, 2584, 124, 1268, 853, 475, 1269, 2585, 854, 215, 99, 855, 2586, 2587, 1270, 158, 856, 2588, 405, 2589, 2590, 201, 161, 2591, 2592, 1271, 2593, 327, 1190, 824, 2594, 2595, 2596, 2597, 160, 2598, 2599, 24, 704, 2600, 2601, 31, 311, 2602, 849, 2603, 2604, 2605, 45, 306, 95, 2606, 1146, 306, 63, 1272, 179, 2607, 2608, 315, 2609, 213, 465, 857, 176, 122, 58, 2610, 818, 281, 114, 2611, 1273, 2612, 2613, 275, 2614, 2615, 1274, 350, 187, 1142, 2616, 2617, 858, 186, 407, 2618, 371, 2619, 2620, 2621, 685, 1275, 2622, 2623, 859, 1276, 133, 22, 2624, 1277, 191, 58, 2625, 2626, 31, 122, 2627, 2628, 208, 844, 291, 1278, 79, 229, 609, 2629, 211, 2630, 171, 20, 627, 2631, 262, 1279, 53, 860, 2632, 2633, 435, 459, 2634, 79, 781, 2635, 861, 252, 621, 2636, 815, 2637, 38, 2638, 183, 2639, 2640, 1041, 1280, 2641, 1281, 1282, 264, 78, 125, 1283, 811, 28, 1284, 2642, 2643, 125, 811, 1284, 1285, 95, 2644, 1286, 780, 121, 2645, 2646, 56, 142, 1287, 1037, 361, 2647, 109, 2648, 2649, 1279, 2650, 2651, 2652, 95, 2653, 396, 752, 2654, 2655, 845, 2656, 13, 1288, 43, 2657, 2658, 332, 362, 2659, 168, 806, 2660, 2661, 444, 973, 124, 1289, 476, 2662, 610, 2663, 104, 1162, 2664, 628, 862, 2665, 78, 1204, 2666, 1290, 863, 629, 316, 109, 628, 862, 2667, 864, 2668, 1194, 2669, 105, 477, 352, 2670, 211, 72, 2671, 1291, 630, 1292, 42, 460, 98, 261, 2672, 865, 230, 1293, 2673, 31, 311, 115, 866, 341, 2674, 2675, 2676, 13, 1008, 143, 478, 2677, 2678, 2679, 1294, 293, 74, 273, 2680, 2681, 1295, 146, 867, 317, 1296, 2682, 100, 545, 2683, 2684, 2685, 83, 631, 821, 11, 2686, 136, 67, 454, 67, 61, 67, 22, 180, 67, 22, 16, 1297, 67, 315, 45, 1297, 67, 315, 1298, 1299, 1298, 446, 155, 2, 2687, 178], [16, 45, 543, 69, 551, 2688, 255, 26, 868, 255, 2689, 37, 2690, 58, 37, 12, 1300, 596, 826, 1300, 596, 831, 2, 589, 77, 589, 1159, 1301, 2691, 256, 2692, 2693, 2694, 605, 2695, 61, 818, 1302, 359, 455, 1303, 869, 2696, 869, 21, 2697, 869, 21, 2698, 56, 2699, 2700, 2701, 607, 2702, 2703, 819, 352, 844, 160, 2704, 2705, 2706, 2707, 226, 1304, 2708, 2709, 1305, 2710, 226, 1306, 2711, 229, 83, 2712, 226, 602, 2713, 82, 2714, 2715, 2716, 479, 2717, 479, 374, 2718, 1, 402, 2719, 479, 2720, 2721, 479, 358, 27, 775, 375, 870, 2722, 2723, 871, 2724, 2725, 300, 25, 2726, 632, 628, 19, 1307, 2727, 19, 755, 2728, 1254, 633, 2729, 853, 872, 2730, 480, 2731, 2732, 1308, 1309, 873, 1310, 15, 232, 2733, 131, 71, 134, 434, 1011, 90, 2734, 2735, 90, 193, 51, 5, 74, 51, 5, 90, 2736, 90, 1134, 90], [600, 111, 28, 162, 310, 769, 69, 141, 60, 438, 60, 634, 2737, 634, 60, 130, 469, 60, 81, 87, 619, 310, 174, 635, 71, 773, 874], [158, 473, 9, 1311, 1312, 159, 376, 181, 1313, 159, 376, 875, 2738, 265, 200, 34, 339, 11, 198, 70, 34, 105, 785, 145, 156, 133, 1314, 180, 195, 2739, 2740, 2741, 2742, 2743, 150, 2744, 1315, 62, 1315, 62, 318, 145, 1316, 2745, 481, 1317, 636, 481, 302, 637, 481, 598], [876, 302, 405, 870, 101, 2746, 877, 2747, 31, 1318, 476, 265, 449, 301, 89, 2748, 2749, 1319, 2750, 426, 2751, 463, 426, 2752, 426, 3, 360, 83, 266, 2753, 27, 287, 1320, 182, 129, 183, 482, 2754, 1321, 510, 1322, 727, 103, 111, 2755, 698, 308, 2756, 470, 37, 2757, 1323, 2758, 113, 185, 40, 20, 878, 2759, 878, 250, 2760, 2761, 82, 878, 483, 76, 15, 879, 170, 76, 2762, 76], [13, 2763, 2764, 1324, 2765, 2766, 638, 2767, 472, 12, 2768, 353, 3, 2769, 282, 22, 145, 199, 1325, 1325, 57, 2770, 2771, 477, 2772, 2773, 2774, 2775, 519, 1079, 2776, 1326, 13, 2777, 639, 448, 1327, 2778, 2779, 880, 2780, 2781, 1328, 2782, 182, 2783, 2784, 2785, 130, 139, 1329, 2786, 640, 1330, 285, 5, 391, 2, 2787, 155, 34, 577, 70, 70, 4, 881, 49, 2788, 225, 641, 484, 377, 702, 52, 581, 378, 246, 4, 1331, 4, 2789, 141, 2790, 1247, 2791, 4, 3, 104, 7, 58, 2792, 227, 1332, 640, 14, 4, 2793, 1333, 156, 2794, 2795, 5, 2796, 622, 17, 2797, 1334, 642, 2798, 511, 538, 91, 2799, 92, 57, 485, 146, 643, 485, 146, 643, 2, 57, 485, 88, 1301, 450, 9, 1335, 325, 106, 325, 403, 96, 644, 40, 302, 644, 72, 2800, 2801, 2802, 1182, 125, 124, 2803, 4, 2804, 22], [247, 128, 247, 84, 235, 55, 763, 569, 122, 2805, 1115, 41, 1336, 801, 157, 298, 247, 44, 12, 70, 121, 44, 12, 70, 60, 645, 127, 28, 1337, 1337, 882, 703, 2806, 2807, 92, 164, 1029, 2808, 2809, 83, 1285, 1080, 700, 19, 2, 64, 104, 56, 984, 87, 14, 124, 21, 62, 2810, 14, 266, 130, 2811, 2812, 130, 2813, 1338, 14, 14, 1339, 2814, 154, 54, 64, 624, 2815, 579, 152, 14, 212, 1209, 2816, 21, 21, 883, 1340, 80, 21, 814, 2817, 457, 2818, 21, 2819, 884, 123, 135, 2820, 186, 21, 293, 74, 2821, 1341, 478, 21, 2822, 338, 173, 2823, 2824, 1342, 2825, 2826, 2827, 2828, 21, 212, 253, 9, 2829, 486, 2830, 43, 1, 2831, 688, 1, 2832, 95, 487, 95, 487, 646, 1343, 459, 646], [62, 885, 2833, 308, 246, 312, 615, 2834, 488, 222, 647, 13, 53, 175, 65, 52, 107, 340, 2835, 251, 753, 310, 2836, 237, 185, 2837, 2838, 1344, 2839, 517, 1345, 62, 606, 2840, 62, 131, 597, 2841, 131, 62, 2842, 8, 2843, 25, 2844, 258, 2845, 2846, 886, 1346, 2847, 62, 2848, 2, 1347, 1347, 2849, 2850, 2851, 1348, 343, 2852, 1348, 2853, 67, 255, 109, 2854, 648, 3, 31, 887, 15, 91, 1349, 91, 1350, 247, 34, 744, 247, 1351, 198, 2855, 2856, 1352, 733, 1353, 2857, 733, 1353, 42, 694, 1354, 2858, 1191, 1354, 2859, 319, 716, 399, 2860, 2861, 2862, 308, 1355, 622, 25, 2863, 2864, 139, 2, 113, 397, 2865, 113, 397, 237, 1356, 839, 201, 2866, 1356, 111, 2867, 345, 2868, 250, 379, 649, 9, 244, 2869, 232, 642, 37, 244, 642, 37, 1335, 219, 219, 116, 116, 246, 12, 1357], [2870, 2871, 59, 162, 141, 59, 650, 59, 2872, 59, 202, 17, 2873, 2874, 181, 22, 2875, 118, 175, 2876, 118, 98, 888, 1324, 2877, 219, 118, 888, 181, 2878, 1358, 651, 1359, 122, 85, 2879, 1183, 852, 2880, 18, 61, 1360, 2881, 307, 2882, 2883, 2884, 380, 2885, 2886, 2887, 172, 2888, 16, 2889, 2890, 73, 313, 2891, 636, 62, 2892, 114, 2893, 2894, 853, 122, 652, 116, 2895, 210, 25, 889, 890, 2896, 889, 155, 1361, 2897, 653, 59, 1361, 8, 2898, 2899, 2900, 31, 220, 891, 2901, 2902, 2903, 28, 44, 2904, 2905, 133, 2906, 2907, 179, 2908, 2909, 2910], [1362, 2911, 2912, 1363, 317, 1364, 2913, 2914, 472, 375, 1118, 2915, 2916, 28, 44, 529, 2917, 2918, 1365, 560, 221, 1365, 221, 2919, 365, 1366, 489, 1366, 490, 243, 108, 452, 85, 2920, 1367, 1367, 1368, 2921, 296, 2922, 2923, 43, 1369, 2924, 32, 181, 60, 2925, 654, 77, 18, 1370, 33, 33, 2926, 318, 480, 463, 33, 2927, 421, 1319, 2928, 33, 1371, 655, 2929, 859, 2930, 54, 1372, 2931, 364, 255, 41, 2932, 1027, 1373, 543, 1374, 557, 71, 2933, 263, 1272, 1375, 2934, 33, 33, 1116, 2935, 33, 2936, 1260, 1376, 33, 2937, 2938, 2939, 266, 488, 527, 177, 166, 354, 100, 2940, 100, 38, 6, 2941, 755, 66, 222, 342, 2942, 5, 47, 65, 892, 153, 2943, 892, 1377, 604, 31, 2944, 490, 129, 893, 567, 2945, 2946, 2947, 754, 38, 656, 2948, 576, 1378, 2, 15, 489, 3, 208, 128, 153, 2949, 1379, 3, 276, 2950, 83, 3, 699, 894, 2951, 3, 490, 13, 2952, 3, 381, 148, 2953, 372, 895, 896, 8, 196, 266, 196, 3, 280, 3, 2954, 2955, 319, 2956, 2957, 2958, 2959, 897, 491, 1380, 898, 3, 2960, 2961, 1105, 38, 304, 2962, 3, 1381, 2963, 2964, 657, 2965, 899, 3, 51, 318, 3, 1382, 35, 276, 103, 3, 2966, 658, 728, 3, 63, 150, 2967, 2968, 1383, 3, 597, 2969, 240, 380, 61, 2970, 1, 2971, 63, 406, 3, 27, 443, 103, 2972, 900, 26, 893, 3, 2973, 2974, 2975, 169, 490, 2976, 695, 151, 76, 1215, 369, 1015, 492, 2977, 165, 492, 493, 2978, 492, 493, 40, 56, 1039, 901, 843, 600, 2979, 1220, 1384, 2980, 692, 312, 1385, 30, 35, 398, 1386, 2981, 337, 71, 427, 34, 2982, 2983, 252, 57, 990, 2984, 223, 86, 2985, 2986, 1387, 2987, 320, 321, 248, 5, 73, 1388, 2988, 2989, 62, 193, 1389, 2990, 55, 21, 188, 1216, 1390, 130, 2991, 2992, 2993, 2994, 169, 38, 788, 1391, 5, 450, 3, 1392], [902, 903, 520, 1393, 20, 738, 46, 116, 659, 1393, 198, 314, 902, 903, 51, 1394, 84, 394, 471, 1385, 33, 13, 24, 144, 2995, 298, 904, 57, 2996, 57, 453, 2997, 1395, 2998, 660, 905, 363, 70, 2999, 1362, 1396, 92, 1397, 50, 9, 3000, 1009, 69, 1398, 4, 453, 743, 344, 519, 72, 906, 1208, 1070, 661, 1043, 3001, 587, 1399, 492, 397, 85, 440, 61, 153, 166, 3002, 246, 15, 213, 365, 47, 50, 405, 494, 11, 1400, 1401, 647, 647, 73, 600, 904, 57, 17, 333, 904, 78, 3003, 119, 3004, 10, 115, 378, 163, 245, 295, 3005, 1124, 19, 15, 282, 103, 907, 183, 3006, 1402, 3007], [60, 199, 3008, 47, 178, 50, 49, 3009, 115, 47, 3010, 203, 3011, 87, 899, 3012, 495, 3013, 640, 3014, 876, 47, 49, 1, 49, 382, 33, 47, 49, 475, 340, 3015, 3016, 191, 49, 136, 49, 136, 49, 11, 14, 163, 45, 2, 7, 1001, 125, 3017, 876, 908, 3018, 3019, 493, 1156, 1403, 249, 1071, 27, 487, 1275, 1404, 183, 3020, 3021, 3022, 3023, 3024, 313, 1267, 3025, 3026, 288, 3027, 662, 218, 3028, 3029, 1405, 3030, 3031, 3032, 3033, 35, 3034, 881, 263, 1288, 496, 3035, 415, 376, 964, 38, 782, 376, 94, 94, 13, 491, 451, 3036, 1406, 167, 3037, 47, 3038, 330, 45, 12, 6, 3039, 47, 3040, 1311, 1407, 812, 297, 358, 3041, 3042, 616, 196, 47, 3043, 3044, 1017, 1221, 1091, 3045, 3046, 3047, 154, 663, 791, 161, 3048, 3049, 177, 884, 161, 123, 47, 3050, 3051, 114, 3052, 664, 665, 3053, 187, 3054, 3055, 4, 1408, 229, 1409, 461, 97, 3056, 3057, 336, 227, 497, 908, 3058, 412, 131, 3059, 909, 3060, 3061, 3062, 3063, 3064, 66, 532, 50, 65, 1410, 1410, 124], [322, 98, 98, 13, 29, 26, 9, 53, 1411, 60, 168, 3065, 3066, 1412, 910, 92, 141, 1412, 910, 1021, 1276, 450, 104, 179, 456, 19, 225, 350, 3067, 1413, 3068, 266, 65, 488, 213, 129, 265, 2, 3069, 69, 42], [129, 1414, 157, 1117, 495, 3070, 31, 414, 1415, 3071, 1416, 144, 78, 201, 342, 148, 159, 1417, 865, 1418, 360, 113, 3072, 905, 3073, 184, 537, 3074, 6, 3075, 911, 642, 3076, 115, 40, 3077, 3078, 119, 470, 3079, 327, 95, 461, 413, 3080, 1419, 394, 3081, 3082, 3083, 1420, 3084, 89, 3085, 3086, 129, 13, 3087, 912, 3088, 868, 3089, 638, 3090, 307, 83, 1421, 100, 467, 3091, 42, 913, 3092, 3093, 666, 19, 153, 301, 1422, 143, 3094, 9, 913, 591, 3095, 486, 1423, 163, 3096, 145, 591, 1424, 282, 637, 1423, 346, 122, 913, 27, 295, 3097, 129, 131, 487, 541, 3098, 3099, 69], [1219, 1, 3100, 129, 3101, 3102, 3103, 129, 31, 3104, 134, 153, 3105, 700, 484, 1425, 484, 3106, 381, 1323, 856, 3107, 3108, 914, 795, 40, 3109, 42, 3110, 3111, 3112, 1426, 1427, 894, 3113, 515], [1428, 72, 15, 562, 601, 3114, 1310, 231, 3115, 3116, 851, 3117, 402, 155, 129, 3118, 1429, 17, 3119, 3120, 14, 618, 3121, 84, 1430, 19, 12, 44, 1424, 667, 649, 474, 592, 280, 222, 3122, 1431, 3, 126, 253, 550, 1432, 1432, 870, 12, 44, 915, 283, 65, 380, 3123, 3124, 126, 3125, 2, 3, 368, 29], [222, 197, 81, 155, 916, 114, 54, 3126, 302, 299, 1433, 509, 898, 3127, 3128, 3129, 1434, 475, 3130, 20, 1246, 3131, 55, 3132, 3133, 27, 73, 749, 3134, 3135, 3136, 3137, 38, 3138, 3139, 3140, 892, 92, 3141, 3142, 1357, 139, 1435, 3143, 3144, 3145, 972, 1436, 1433, 3146, 319, 3147, 3148, 203, 1437, 242, 34, 561, 124, 15, 53, 668, 204, 239, 3149, 204, 3150, 185, 659, 16, 617, 496, 204, 3151, 623, 344, 3152, 1330, 204, 225, 42, 1438, 764, 1164, 917, 204, 420, 592, 355, 121, 3153, 99, 321, 204, 3154, 91, 188, 204, 3155, 1420, 3156, 613, 204, 3157, 40, 3158, 259, 82, 204, 3159, 3160, 229, 88, 828, 3161, 191, 812, 314, 897, 3162, 1439], [68, 46, 107, 61, 1440, 3163, 3164, 42, 10, 18, 18, 262, 3165, 1441, 99, 855, 74, 1442, 918, 31, 249, 3166, 1443, 32, 2, 3167, 2, 3168, 3169, 830, 15, 2, 669, 489, 718, 61, 106, 96, 857, 2, 3170, 1444, 120, 21, 164, 1242, 181, 138, 1445, 3171, 3172, 1065, 219, 581, 1445, 104, 359, 1446, 22, 857, 3173, 474, 252, 445, 363, 548, 164, 116, 3174, 1447, 3175, 7, 309, 3176, 115, 3177, 1148, 498, 2, 1, 13, 3178, 654, 3179, 110, 1448, 663, 919, 1234, 38, 320, 841, 1449, 297, 184, 3180, 1108, 3181, 3182, 477, 24, 123, 609, 1351, 297, 831, 227, 1450, 252, 3183, 882, 1197, 430, 3184, 184, 1451, 235, 291, 100, 452, 210, 649, 885, 1448, 231, 1013, 3185, 132, 42, 146, 259, 3186], [366, 22, 5, 272, 920, 920, 3187, 81, 920, 168, 118, 260, 3188, 615, 895, 54, 224, 850, 3189, 134, 3190, 83, 3191, 3192, 1452, 1453, 1266, 1454, 3193, 1395, 136, 3194, 3195, 613, 3196, 3197, 3198, 160, 3199, 3200, 160, 269, 3201, 1455, 260, 670, 3202, 3203, 499, 3204, 3205, 396, 3206, 553, 1456, 3207, 3208, 1457, 80, 157, 860, 3209, 3210, 565, 509, 786, 921, 3211, 478, 3212, 56, 3213, 184, 922, 3214, 107, 1458, 631, 3215, 51, 3216, 532, 185, 3217, 584, 3218, 3219, 3220, 1282, 67, 3221, 167, 410, 494, 319, 3222, 3223, 3224, 3225, 3226, 1231, 87, 3227, 3228, 3229, 538, 3230, 321, 3231, 240, 3232, 1000, 91, 3233, 3234, 3235, 3236, 3237, 706, 3238, 3239, 3240, 354, 3241, 3242, 79, 441, 3243, 3244, 3245, 83, 3246, 140, 1256, 1101, 276, 1459, 3247, 457, 1133, 3248, 95, 321, 3249, 184, 56, 406, 980, 81, 133, 197, 1174, 3250, 1248, 3251, 82, 3252, 3253, 187, 1290, 1460, 121, 3254, 474, 74, 658, 73, 319, 16, 80, 377, 544, 845, 42, 358, 89, 187, 1461, 539, 832, 3255, 273, 1212, 3256, 3257, 3258, 3259, 105, 3260, 3261, 3262, 1462, 266, 664, 3263, 619, 382, 6, 133, 3264, 3265, 1225, 3266, 3267, 287, 1463, 287, 10, 1464, 3268, 1030, 3269, 617, 3270, 3271, 898, 3272, 509, 3273, 3274, 3275, 17, 3276, 923, 553, 3277, 18, 3278, 428, 3279, 3280, 227, 7, 167, 3281, 174, 3282, 3283, 112, 636, 1368, 910, 87, 3284, 568, 180, 3285, 3286, 535, 176, 38, 3287, 496, 1363, 3288, 924, 3289, 3290, 105, 7, 1376, 925, 41, 3291, 41, 3292, 388, 82, 612, 41, 3293, 467, 3294, 3295, 34, 787, 3296, 3297, 1283, 3298, 926, 3299, 3300, 375, 927, 3301, 427, 147, 441, 3302, 3303, 1389, 3304, 3305, 439, 274, 143, 1436, 139, 3306, 3307, 361, 3308, 3309, 3310, 3311, 49, 1465, 1466, 3312, 587, 1442, 3313, 42, 3314, 3315, 3316, 3317, 72, 3318, 928, 585, 894, 114, 3319, 1238, 3320, 328, 3321, 3322, 3323, 3324, 3325, 1467, 220, 3326, 1468, 337, 3327, 594, 1218, 3328, 1421, 3329, 31, 1469, 208, 671, 326, 88, 341, 3330, 1470, 264, 3331, 726, 1044, 63, 3332, 1387, 429, 125, 3333, 125, 3334, 3335, 338, 725, 1034, 236, 1471, 320, 670, 3336, 3337, 3338, 288, 477, 38, 3339, 3340, 890, 3341, 1472, 3342, 404, 3343, 3344, 909, 383, 672, 3345, 80, 3346, 3347, 9, 912, 3348, 14, 584, 41, 316, 3349, 835, 1473, 1474, 471, 696, 3350, 3351, 114, 3352, 1475, 3353, 37, 3354, 3355, 3356, 3357, 197, 3358, 3359, 3360, 3361, 1476, 3362, 1185, 3363, 1477, 929, 930, 323, 1478, 323, 3364, 323, 157, 16, 323, 226, 44, 37, 833, 323, 3365, 73, 1280, 163, 3366, 323, 1479, 3367, 3368, 656, 323, 3369, 59, 262, 3370, 3371, 3372, 3373, 3374, 10, 3375, 3376, 120, 3377, 1373, 342, 3378, 460, 3379, 758, 816, 1201, 103, 713, 173, 3380, 160, 615, 364, 301, 109, 98, 113, 94, 149, 1480, 9, 226, 223, 3381, 3382, 242, 112, 1406, 11, 88, 3383, 1237, 620, 1440, 97, 824, 620, 1258, 605, 144, 3384, 3385, 931, 1481, 3386, 451, 64, 3387, 1046, 3388, 19, 1076, 3389, 1482, 251, 650, 78, 932, 3390, 565, 115, 2, 343, 455, 570, 389, 1483, 760, 53, 933, 111, 192, 18, 56, 16, 602, 3391, 110, 500, 32, 113, 239, 366, 239, 55, 54, 239, 909, 3392, 3393, 597, 288, 3394, 3395, 106, 326, 239, 1484, 3396, 982, 3397, 7, 83, 295, 3398, 58, 295, 123, 127, 616, 886, 467, 3399, 1, 1485, 53, 161, 1486, 3400, 328, 11, 14, 588, 3401, 1487, 1488, 10, 3402, 10, 1489, 3403, 10, 1489, 140, 187, 1490, 3404, 571, 84, 566, 475, 49, 3405, 201, 1359, 3406, 491, 736, 622, 3407, 3408, 313, 30, 3409, 324, 3410, 89, 138, 452, 13, 1199, 3411, 3412, 1491, 1492, 3413, 3414, 1493, 3415, 3416, 3417, 186, 314, 3418, 40, 90, 357, 14, 3419, 229, 3420, 62, 434, 35, 92, 261, 1100, 1252, 100, 219, 110, 3421, 1494, 3422, 104, 104, 1495, 752, 1496, 3423, 457, 164, 1437, 1497, 390, 115, 496, 121, 3424, 256, 1316, 104, 3425, 3426, 3427, 104, 64, 97, 1485, 890, 3428, 847, 3429, 136, 1230, 1179, 3430, 61, 136, 874, 374, 1167, 3431, 3432, 3433, 107, 1343, 260, 466, 459, 3434, 14, 3435, 183, 33, 315, 33, 3436, 1498, 1499, 307, 12, 128, 911, 3437, 501, 154, 6, 481, 993, 345, 22, 22, 3438, 190, 78, 3439, 3440, 923, 66, 3441, 886, 3442, 487, 348, 53, 777, 202, 11, 202, 14, 3443, 154, 858, 3444, 34, 644, 666, 3445, 3446, 142, 11, 20, 43, 1074, 934, 3447, 85, 3448, 3449, 44, 1500, 921, 113, 655, 258, 223, 3450, 935, 284, 249, 3451, 3452, 28, 571, 427, 34, 7, 37, 126, 141, 12, 3453, 981, 394, 3454, 127, 16, 3455, 3456, 1332, 269, 82, 58, 294, 1501, 463, 535, 291, 275, 794, 195, 778, 262, 3457, 1169, 7, 1502, 607, 264, 502, 3458, 3459, 65, 1501, 463, 3460, 3461, 817, 569, 421, 41, 751, 751, 1264, 3462, 1498, 794, 1503, 3463, 3464, 3465, 825, 105, 670, 331, 3466, 3467, 3468, 303, 786, 130, 1391, 3469, 297, 133, 3470, 38, 3471, 1504, 2, 362, 3472, 194, 673, 265, 65, 126, 673, 265, 646, 107, 3473, 41, 275, 3474, 1095, 3475, 3476, 3477, 423, 3478, 545, 813, 3479, 617, 428, 1103, 200, 3480, 603, 479, 200, 469, 3481, 498, 3482, 3483, 417, 89, 691, 284, 267, 99, 14, 71, 143, 593, 3484, 907, 1342, 3485, 99, 1505, 1444, 79, 110, 103, 100, 38, 461, 3486, 669, 78, 398, 35, 1294, 469, 180, 3487, 164, 3488, 252, 27, 861, 16, 3489, 76, 3490, 3491, 18, 263, 3492, 3493, 629, 1289, 199, 297, 629, 919, 40, 153, 5, 47, 120, 662, 3494, 3495, 3496, 3497, 422, 3498, 621, 259, 553, 143, 911, 3499, 494, 3500, 31, 3501, 3502, 105, 3503, 3504, 444, 3505, 3506, 1506, 184, 38, 331, 82, 926, 320, 71, 1466, 177, 137, 318, 1458, 336, 27, 936, 3507, 189, 3508, 3509], [76, 1088, 3510, 250, 215, 76, 105, 937, 2, 1507, 76, 105, 937, 257, 3511, 1370, 25, 937, 330, 503, 502, 411, 148, 542, 257, 938, 45, 28, 623, 1096, 355, 671, 3512, 3513, 1508, 257, 8, 780, 809, 1508, 22, 3514, 3515, 554, 585, 3516, 673, 3517, 192, 3518, 652, 3519, 1509, 378, 1491, 348, 109, 3520, 53, 480, 436, 3521, 291, 3522, 3523, 303, 1263, 178, 867, 3524, 154, 1364, 318, 833, 771, 1122, 304, 3525, 611, 374, 3526, 631, 476, 2, 939, 96, 162, 583, 1255, 224, 392, 3527, 3528, 110, 250, 152, 114, 3529, 940, 941, 3530, 391, 3531, 1232, 669, 172, 570, 1422, 414, 1510, 1077, 693, 3532, 422, 1224, 6, 61, 180, 168, 340, 3533, 3534, 3535, 661, 3536, 190, 3537, 3538, 1469, 89, 3539, 3540, 3541, 3542, 3543, 215, 3544, 96, 16, 3545, 3546, 75, 94, 254, 3547, 142, 3548, 778, 371, 148, 3549, 941, 707, 715, 128, 503, 502, 542, 257, 938, 45, 28], [20, 47, 3550, 3551, 20, 580, 35, 135, 54, 887, 3552, 3553, 823, 872, 653, 3554, 3555, 313, 76, 108, 3556, 3557, 762, 3558, 3559, 17, 17, 160, 3560, 1460, 254, 1261, 3561, 29, 130, 933, 3562, 629, 893, 384, 3563, 311, 27, 1509, 3564, 1314, 422, 174, 3565, 94, 154, 757, 1511, 122, 218, 738, 100, 195, 922, 504, 1468, 504, 74, 325, 941, 14, 123, 135, 37, 1512, 339, 940, 97, 174, 1274, 3566, 332, 480, 3567, 3568, 43, 745, 3569, 3570, 820, 3571, 5, 77, 559, 103, 4, 271, 3572, 40, 218, 194, 3573, 3574, 3575, 1513, 504, 243, 125, 643, 47, 33, 30, 384, 1513, 1464, 662, 1278, 153, 504, 142, 608, 210, 2, 1496, 384, 809, 3576, 94, 37, 1514, 3577, 3578, 1515, 3579, 261, 568, 1177, 118, 583, 218, 30, 3580, 3581, 3582, 95, 992, 120, 3583, 169, 575, 1512, 339, 311, 1516, 218, 472, 115, 3584, 2, 1516, 422, 89, 318, 111, 717, 988, 42, 30, 384, 251, 33, 562, 320, 321, 24, 43, 35, 29, 3585, 115, 938, 417, 135, 1517, 29], [606, 64, 99, 760, 94, 121, 3586, 3587, 196, 74, 1518, 634, 621, 717, 655, 104, 2, 875, 384, 3588, 3589, 43, 3590, 925, 79, 3591, 341, 451, 58, 1514, 3592, 180, 103, 16, 3593, 18, 79, 182, 523, 3594, 3595, 495, 3596, 243, 3597, 1463, 3598, 33, 94, 142, 1477, 25, 349, 1443, 3599, 3600, 128, 128, 1409, 342, 41, 3601, 3602, 227, 3603, 3604, 3605, 449, 3606, 3607, 336, 167, 1187, 608, 808, 3608, 473, 567, 154, 54, 922, 223, 3609, 293, 354, 1104, 3610, 942, 3611, 81, 240, 429, 3612, 486, 1519, 3613, 3614, 851, 389, 3615, 3616, 190, 3617, 3618, 3619, 105, 148, 220, 102, 587, 18, 674, 1050, 1188, 3620], [3621, 491, 10, 109, 875, 221, 78, 1408, 943, 3622, 3623, 3624, 5, 480, 917, 7, 489, 12, 65, 674, 3625, 763, 3626, 3627, 610, 3628, 166, 211, 50, 224, 3629, 14, 3630, 56, 1520, 3631, 1520, 56, 113, 155, 3632, 2, 223, 2, 262, 3633, 183, 1175, 443, 3634, 13, 333, 3635, 3636, 931, 99, 85, 936, 198, 99, 85, 936, 103, 3637, 3638, 3639, 89, 285, 623, 1129, 943, 943, 1427, 448, 146, 3640, 3641], [92, 92, 92, 1031, 3642, 42, 53, 43, 30, 22, 238, 3643, 38, 883, 270, 3644, 1521, 3645, 3646, 3647, 46, 505, 3648, 3649, 46, 505, 1381, 514, 195, 3650, 1227, 46, 10, 3651, 10, 3652, 805, 710, 556, 1522, 3653, 3654, 3655, 185, 1523, 879, 258, 3656, 86, 3657, 1524, 3658, 263, 3659, 267, 1006, 1525, 393, 2, 3660, 3661, 1526, 3662, 3663, 13, 104, 3664, 400, 731, 3665, 359, 120, 21, 747, 639, 448, 944, 106, 96, 3666, 863, 9, 445, 324, 3667, 324, 651], [361, 377, 3668, 72, 3669, 244, 1392, 3670, 3671, 1243, 1304, 3672, 454, 3673, 1527, 3674, 457, 3675, 3676, 872, 62, 619, 13, 28, 44, 181, 668, 668, 7, 129, 296, 466, 3677, 3678, 730, 59, 1528, 81, 3679, 38, 927, 3680, 3681, 97, 635, 3682, 635, 3683, 3684, 462, 157, 322, 1416, 488, 1529, 1320, 128, 131, 187, 840, 24], [3685, 3686, 231, 3687, 35, 630, 945, 630, 510, 198, 21, 117, 10, 248, 27, 70, 16, 3688, 439, 12, 44, 170, 76, 7, 170, 76, 170, 76, 1530, 995, 14, 11, 312, 43, 1138, 30, 3689, 43, 43, 3690, 332, 3691, 216, 3692, 3693, 75, 195, 3694, 228, 208, 1453, 284, 1184, 3695, 667, 3696, 1531, 434, 3697, 15, 848, 194, 3698, 60, 60, 3699, 3700, 3701, 3702, 3703, 275, 364, 989, 73, 3704, 274, 84, 946, 17, 667, 44, 349, 3705, 379, 3706, 3707, 370, 11, 3708, 596, 88, 3709, 3710, 2, 137, 1411, 239, 1023, 3711, 221, 107, 3712, 115, 97, 260, 50, 1309, 873, 13, 226, 456, 462, 12, 1532, 3713, 421, 264, 32, 3, 13, 273, 120, 3714, 41, 882, 903, 131, 3715, 19, 214, 91, 161, 3716, 945, 253, 3717, 258, 1533, 166, 491, 14, 334, 3718, 3, 1358, 168, 488, 41, 430, 3719, 582, 86, 224, 139, 76], [138, 201, 249, 3720, 53, 473, 1120, 28, 138, 25, 231, 201, 200, 108, 641, 200, 200, 3721, 106, 96, 1480, 37, 88, 3722, 3723, 3724, 9, 3725, 379, 16, 1251, 3726, 40, 1360, 3727, 3728, 3729, 3730, 3731, 317, 3732, 1296, 1534, 3733, 3734, 3735, 3736, 3737, 3738, 3739, 90, 3740, 332, 3741, 197, 3742, 3743, 3744, 3745, 3746, 19, 1535, 1536, 40, 947, 435, 3747, 599, 114, 11, 1054, 3748, 3749, 203, 86, 187, 171, 181, 524, 3750, 3751, 161, 232, 848, 686, 12, 44, 5, 1521, 69, 3752, 3753, 91, 73, 741, 1537, 3754, 1262, 618, 3755, 3756, 225, 3757, 1538, 843, 796, 428, 182, 53, 27, 437, 1538, 3758, 3759, 3760, 3761, 3762, 155, 32, 1539, 436, 189, 33, 3763, 1462, 3764, 3765, 184, 259, 1203, 3766, 3767, 79, 841, 120, 3768, 495, 633, 315, 370, 3769, 3770, 19, 265, 176, 142, 3771, 3772, 1506, 499, 142, 3773, 737, 593, 3774, 413, 3775, 3776, 143, 182, 3777, 918, 244, 9, 675, 582, 625, 97, 3778, 1308, 305, 146, 333, 3779, 1540, 3780, 3781, 671, 1541, 161, 671, 1541, 928, 3782, 17, 3783, 236, 92, 1375, 661, 774, 1542, 3784, 891, 72, 22, 2, 1525, 11, 581, 455, 3, 69, 34, 119, 3785, 3786, 126, 708, 3787, 73, 3788, 1372, 337], [124, 1543, 78, 33, 3789, 3790, 1400, 9, 58, 9, 371, 281, 44, 1544, 1545, 1277, 1546, 1547, 614, 3791, 1475, 228, 3792, 702, 3793, 3794, 65, 3795, 3796, 130, 38, 3797, 98, 264, 158, 263, 776, 783, 100, 1544, 141, 26, 388, 3798, 477, 26, 3799, 3800, 26, 1388, 1548, 51, 26, 71, 3801, 1341, 26, 3802, 3803, 877, 547, 26, 16, 3804, 3805, 26, 3806, 1181, 131, 1549, 3807, 26, 3808, 1550, 1550, 75, 139, 3809, 2, 832, 138, 267, 26, 1, 26, 1551, 1340, 8, 26, 3810, 3811, 26, 3812, 66, 1552, 24, 56, 584, 3813, 616, 280, 3814, 3815, 3816, 1534, 40, 675, 3817, 17, 13, 77, 262, 864, 3818, 3819, 1425, 433, 3820, 830, 899, 324, 1537, 136, 2, 3821, 490, 676, 83, 676, 3822, 436, 836, 3823, 768, 3824, 1286, 578, 3825, 923, 1273, 1222, 1531, 547, 1553, 265, 1553, 30, 434, 3826, 1349, 100, 3827, 1484, 948, 485, 852, 1145, 3828, 1236, 1380, 3829, 3830, 1331, 70, 72, 19, 111, 1554, 1554, 4, 1213, 37, 3831, 4, 3832, 400, 52, 378, 155, 20, 307, 365, 3833, 59, 3834, 178, 141, 3835, 651, 1492, 238, 25, 1061, 138, 620, 1302, 3836, 1259, 3837, 371, 3838, 3839, 315, 149, 130, 881, 109, 167, 313, 3840, 926, 1555, 608, 3841, 762, 384, 1405, 91, 3842, 386, 3843, 1556, 3844, 10, 24, 188, 3845, 438, 221, 527, 359, 969, 3846, 3847, 1429, 576, 3848, 1168, 382, 280, 561, 1, 8], [1374, 873, 22, 57, 202, 637, 202, 279, 202, 1557, 1378, 949, 650, 949, 650, 222, 3, 9, 41, 21, 940, 106, 96, 72, 919, 3849, 652, 32, 863, 51, 31, 3850, 122, 185, 1292, 3851, 640, 409, 3852, 201, 3853, 3854, 1558, 550, 1535, 408, 25, 351, 3855, 1526, 3856, 3857, 82, 3858, 375, 3859, 3860, 3861, 3862, 774, 189, 3863, 56, 3864, 458, 1503, 331, 389, 133, 3865, 1312, 181, 3866, 181, 3867, 4, 3868, 1377, 1494, 669, 3869, 754, 86, 146, 931, 3870, 3871, 3872, 3873, 3874, 72, 3875, 75, 156, 3876, 10, 267, 1559, 310, 612, 1559, 310, 765, 3877, 950, 950, 2, 3878, 3879, 683, 107, 163, 7, 12, 134, 1519, 916, 3880, 1560, 674, 3881, 3882, 506, 3883, 908, 1241, 3884, 3885, 4, 19, 2, 4, 62, 3886, 334, 421, 3887, 1561, 835, 3888, 3889, 1417, 3890, 3891, 148, 525, 805, 1561, 1560, 506, 3892, 40, 90, 309, 69, 309, 244, 999, 1562, 25, 1563, 914, 1562, 4, 1563, 914, 4, 107, 245, 3893, 278, 259, 1564, 179, 1564, 476, 2, 105, 105, 45, 12, 137, 813, 45, 44, 137, 73, 113, 30, 58, 3894, 221, 1565, 53, 17, 286, 16, 12, 61, 175, 470, 65, 497, 742, 1214, 690, 91, 3895, 3896, 577, 1033, 1317, 3897, 3898, 3899, 3900, 3901, 3902, 382, 3903, 1413, 287, 216, 177, 1467, 3904, 15, 21, 3905, 258, 21, 15, 632, 1488, 632, 632, 1566, 345, 279, 1198, 598], [22, 3906, 3907, 29, 42, 598, 896, 89, 1546, 28, 44, 445, 636, 861, 1567, 3908, 418, 1567, 329, 88, 1505, 951, 404, 152, 951, 779, 951, 779, 447, 392, 29, 381, 1568, 447, 138, 29, 381, 1568, 124, 2, 645, 2, 3909, 161, 3910, 90, 302, 952, 502, 1569, 41, 305, 306, 3911, 502, 1569, 41, 500, 166, 891, 1570, 1570, 3912, 15, 3913, 1557, 15, 97, 865, 1571, 1571, 1499, 19, 626, 761, 162, 3914, 761, 626, 3915, 3916, 64, 1572, 1572, 86, 86, 854, 953, 242, 3917, 5, 1446, 122, 60, 4, 132, 72, 586, 116, 1036, 3918, 729, 554, 22, 554, 646, 3919, 3920, 18, 3921, 3922, 18, 1386, 655, 202, 361, 109, 3923, 1371, 3924, 1173, 499, 499, 7, 644, 819, 214, 54, 3925, 804, 288, 1573, 3926, 10, 95, 176, 127, 318, 3927, 3928, 17, 3929, 60, 46, 3930, 3931, 3932, 954, 18, 415, 1328, 3933, 83, 847, 1152, 348, 1075, 3934, 3935, 3936, 177, 3937, 523, 945, 3938, 3939, 888, 368, 458, 42, 3940, 84], [1574, 215, 3941, 3942, 1575, 397, 3943, 123, 253, 3944, 78, 183, 460, 3945, 825, 3946, 351, 929, 930, 9, 579, 14, 662, 11, 3947, 185, 478, 373, 3948, 38, 124, 209, 3949, 1102, 552, 3950, 35, 19, 169, 8, 3951, 128, 237, 1576, 1025, 3952, 259, 27, 6, 43, 141, 16, 162, 3953, 86, 775, 3954, 997, 137, 11, 19, 1441, 955, 955, 87, 74, 907, 955, 69, 216, 3955, 14, 5, 3956, 956, 5, 1523, 320, 1126, 912, 3957, 677, 956, 665, 665, 208, 1577, 116, 1577, 446, 446, 363, 446, 51, 51, 98, 3958, 1253, 3959, 1269, 1265, 3960, 950, 645, 405, 191, 31, 3961, 637, 604, 1578, 17, 1578, 57, 344, 41, 630, 169, 3962, 53, 1404, 287, 20, 1119, 18, 475, 367, 138, 42, 367, 13, 69, 677, 677, 677, 3963, 3964, 3965, 3966, 1438, 1098, 1574, 31, 3967, 153, 15, 153, 5, 26, 88, 594, 366, 612, 685, 26, 69, 594, 22, 100, 3968, 1318, 432, 442, 72, 75, 9, 299, 654, 121, 3969, 253, 272, 1530], [4, 119, 22, 366, 17, 660, 17, 660, 3970, 484, 916, 9, 199, 1369, 3971, 948, 34, 3972, 1493, 227, 82, 149, 141, 40, 1094, 1579, 1579, 656, 3973, 350, 12, 3974, 3975, 3976, 12, 44, 350, 41, 3977, 301, 27, 3978, 98, 413, 364, 27, 3979, 1426, 1454, 929, 588, 2, 282, 625, 588, 52, 625, 88, 228, 144, 507, 277, 176, 4, 507, 3980, 174, 310, 610, 3981, 233, 317, 141, 50, 29, 601, 267, 219, 136, 374, 589, 3, 307, 13, 93, 43, 3982, 83, 3983, 27, 1140, 1132, 22, 3, 1345, 3984, 379, 17, 99, 11, 1035, 314, 602, 1500, 78, 55, 108, 156, 126, 3985, 954, 235, 440, 19, 15, 3, 464, 1384, 156, 108, 511, 284, 104, 324, 238, 198, 194, 651, 47, 595, 595, 52, 139, 146, 233, 317, 3986, 472, 3987, 375, 256, 67, 974, 147, 327, 274, 3988, 274, 216, 1472, 3989, 3990, 18, 92, 1542, 3991, 270, 1580, 3992, 24, 52, 3993, 902, 35, 19, 169, 8, 18, 3994, 3995, 95, 849, 429, 3996, 1473, 1196, 1543, 62, 86, 624, 603, 3997, 1344, 182], [871, 3998, 208, 665, 196, 1430, 3999, 652, 4000, 580, 4001, 871, 371, 1, 126, 12, 4002, 393, 364, 877, 1581, 4003, 1326, 399, 4004, 1170, 4005, 37, 4006, 4007, 1, 449, 227, 742, 531, 4008, 227, 4009, 112, 504, 1228, 928, 24, 229, 4010, 171, 178, 159, 4011, 4012, 4013, 304, 103, 4014, 4015, 4016, 4017, 166, 51, 1582, 627, 25, 627, 191, 365, 345, 483, 59, 1549, 297, 75, 501, 70, 15, 957, 161, 22, 72, 921, 163, 69, 1010, 298, 850, 177, 141, 300, 4018, 946, 17, 4019, 1, 66, 604, 91, 946, 17, 801, 4020, 466, 216, 71, 20, 501, 13, 1322, 4021, 1245, 4022, 4023, 474, 827, 336, 750, 1244, 4024, 4025, 583, 59, 4026, 214, 768, 4027, 524, 30, 58, 232, 45, 633, 4028, 4, 37, 4029, 40, 1293, 1583, 3, 40, 11, 4030, 864, 240, 65, 34, 49, 33, 1518, 229, 59, 229, 13, 1305, 4031, 1, 1012, 4032, 41, 376, 141, 14, 712, 4033, 785, 77, 1584, 278, 958, 14, 48, 85, 4, 1584, 103, 1383, 631, 103, 99, 118, 1207, 807, 68, 189, 1195, 1193, 45, 127, 16, 127, 4034, 281, 315, 83, 1502, 169, 505, 20, 1522, 653], [108, 84, 128, 108, 128, 84, 60, 32, 645, 2, 2, 395, 365, 56, 4035, 175, 648, 56, 4036, 611, 1585, 4037, 1552, 48, 860, 498, 21, 840, 24, 164, 4038, 4039, 1402, 580, 22, 1303, 1586, 45, 12, 191, 48, 126, 481, 225, 237, 31, 4040, 4041, 641, 70, 12, 44, 50, 84, 42, 471, 4042, 403, 641, 70, 952, 437, 32, 437, 437, 32, 4043, 654, 70, 69, 525, 32, 66, 47, 312, 32, 19, 225, 25, 501, 32, 279, 501, 219, 165, 5, 32, 232, 11, 5, 248, 32, 483, 4044, 169, 103, 28, 44, 5, 32, 103, 758, 139, 858, 32, 1149, 351, 19, 2, 1020, 32, 209, 134, 4, 4045, 13, 255, 4046, 9, 26, 26], [66, 497, 1125, 900, 590, 333, 4047, 114, 175, 4048, 4049, 9, 5, 4050, 266, 433, 1350, 815, 4051, 4052, 1450, 221, 353, 698, 353, 4053, 1507, 451, 68, 34, 4054, 4055, 942, 79, 684, 4056, 87, 144, 842, 183, 144, 1233, 196, 4057, 8, 1334, 134, 77, 66, 334, 137, 325, 106, 22, 47, 289, 54, 55, 4058, 81, 4059, 484, 4060, 4061, 70, 15, 70, 15, 4062, 1587, 99, 4063, 1456, 135, 462, 1588, 4064, 1589, 468, 609, 11, 4065, 167, 4066, 4067, 4068, 468, 1590, 4069, 269, 184, 314, 135, 314, 14, 799, 4070, 1591, 4071, 4072, 727, 4073, 839, 4074, 797, 121, 316], [4075, 4, 4076, 4, 4077, 4078, 471, 128, 126, 1533, 67, 18, 4, 4079, 175, 4080, 59, 4081, 4082, 800, 4083, 248, 373, 21, 373, 791, 149, 150, 430, 855, 507, 170, 76, 1592, 4084, 305, 306, 5, 305, 306, 4085, 4086, 322, 4087, 4088, 418, 4089, 213], [244, 345, 4090, 464, 555, 4091, 161, 438, 519, 4092, 199, 879, 10, 103, 4093, 4094, 132, 163, 4095, 2, 282, 47, 466, 649, 1113, 1593, 37, 1593, 154, 1396, 1594, 4096, 115, 1481, 72, 4097, 243, 11, 114, 4098, 867, 165, 56, 296, 192, 245, 708, 357], [458, 4099, 4100, 4101, 697, 4102, 837, 4103, 4104, 4105, 49, 4106, 4107, 444, 57, 85, 1206, 11, 95, 53, 1497, 7, 83, 272, 4108, 102, 4109, 1382, 866, 814, 71, 358, 79, 560, 1210, 51, 4110, 342, 1107, 934, 4111, 4112, 4113, 661, 87, 81, 1, 439, 10, 1180, 1418, 4, 246, 3, 34, 767, 4114, 1114, 657, 148, 278, 307, 122, 166, 4115, 1235, 2, 90, 494, 489, 179, 1158, 72], [4116, 4117, 965, 129, 257, 4118, 498, 4119, 10, 1439, 4120, 512, 4121, 63, 854, 4122, 81, 4123, 35, 300, 4124, 4125, 353, 52, 4126, 379], [150, 82, 68, 4127, 91, 4128, 4129, 5, 179, 4130, 211, 82, 161, 4131, 30, 303, 52, 68, 4132, 179, 175, 4133, 4134, 82, 1291, 4135, 4136, 132, 4137, 43, 4138, 1595, 4139, 194, 4140, 49, 4141, 4142, 63, 4143, 4144, 82, 1, 74, 4145, 1144, 4146, 326, 13, 4147, 326, 13, 67], [372, 678, 4148, 4149, 63, 678, 4150, 4151, 173, 678, 4152, 6, 678, 4153, 101, 4154, 17, 60, 4155, 372, 4156, 63, 4157, 173, 4158, 6, 4159, 4160, 1596, 15, 4161, 4162, 57, 4163, 4164, 192, 18, 4165, 269, 4166, 217, 157, 4167, 217, 381, 4168, 31, 63, 4169, 4170, 4171, 4172, 4173, 4174, 464, 8, 4175, 57, 17, 4176, 362, 4177, 50, 63, 4178, 132, 4179, 4180, 4181, 4182, 1596, 15, 362], [4183, 4184, 473, 317, 32, 803, 4185, 286, 39, 4186, 202, 202, 118, 4187, 4188, 954, 35, 4189, 959, 8, 12, 4190, 959, 66, 1597, 39, 4191, 4192, 36, 960, 4193, 4194, 134, 29, 4195, 959, 12, 4, 4196, 68, 172, 4197, 36, 960, 172, 36, 205, 4198, 4199, 382, 4200, 1434, 4201, 1575, 4202, 1598, 4, 4203, 1598, 31, 4204, 30, 956, 4205, 11, 575, 4206, 423, 35, 1082, 36, 442, 205, 4207, 202, 4208, 440, 15, 4209, 25, 271, 9, 4210, 417, 74, 50, 4211, 440, 87, 4212, 4213, 29, 4214, 189, 84, 4215, 4216, 31, 2, 158, 4217, 4218, 961, 4219, 788, 23, 4220, 201, 39, 543, 2, 4221, 39, 204, 57, 410, 39, 4222, 533, 918, 4223, 533, 947, 277, 4224, 1401, 8, 12, 4225, 12, 442, 4226, 207, 2, 4227, 4228, 1394, 720, 271, 8, 23, 4229, 139, 4230, 4231, 102, 816, 4232, 383, 4233, 278, 4234, 39, 4235, 31, 551], [790, 1428, 4236, 2, 261, 1599, 1474, 4237, 28, 48, 86, 4238, 180, 395, 741, 4239, 3, 4240, 4241, 139, 784, 339, 4242, 144, 27, 701, 22, 4243, 1321, 676, 4244, 1, 4245, 207, 4246, 4247, 74, 166, 986, 4248, 1329, 4249, 4250, 408, 66, 133, 4251, 1313, 483, 4252, 18, 4253, 1, 4254, 12, 1, 4255, 4256], [16, 1600, 4257, 4258, 209, 1399, 4259, 657, 1601, 4260, 4261, 319, 1271, 4262, 628, 138, 283, 748, 138, 4263, 4264, 866, 23, 4265, 30, 8, 4266, 23, 4267, 4268, 4269, 4270, 4271, 152, 51, 4272, 129, 39, 106, 96, 4273, 294, 23, 506, 4274, 39, 4275, 4276, 117, 278, 4277, 87, 1435, 23], [962, 4278, 4279, 4280, 4281, 4282, 147, 497, 4283, 289, 39, 99, 4284, 54, 289, 4285, 4286, 4287, 4288, 527, 4289, 383, 90, 9, 4290, 482, 137, 4291, 953, 101, 4292, 158, 4293, 355, 424, 4294, 355, 322, 555, 4295, 3, 40, 15, 4296, 101, 1602, 4297, 7, 1352, 4298, 1226, 189], [67, 43, 393, 4299, 4300, 4301, 146, 228, 4302, 4303, 6, 1603, 4304, 6, 386, 23, 4305, 36, 4306, 278, 39, 4307, 522, 4308, 4309, 31, 133, 4310, 36, 960, 4311, 235, 756, 250, 4312, 36, 230, 4313, 4314, 4315, 207, 292, 1172, 4316, 173, 985, 1333, 4317, 14, 4318, 1086, 224, 724, 4319, 679, 961, 784], [564, 95, 236, 4320, 73, 59, 207, 4321, 59, 7, 101, 236, 4322, 236, 4323, 84, 4324, 4325, 6, 4326, 210, 660, 1604, 4327, 572, 633, 4328, 674, 4329, 4330, 4331, 59, 7, 670, 4332, 1605, 4333, 4334, 327, 4335, 154, 207, 4336, 486, 1592], [142, 30, 203, 4337, 4338, 12, 259, 341, 4339, 30, 203, 4340, 4341, 108, 68, 4342, 4343, 53, 38, 4344, 1069, 4345, 868, 4346, 4347, 142, 30, 203, 499], [30, 4348, 4349, 4350, 531, 4351, 4352, 676, 4353, 4354, 4355, 534, 4356, 2, 4357, 68, 1602, 4358, 16, 12, 13, 4359, 4360, 4361, 10, 1606, 4362, 4363, 4364, 4365, 4366, 4367, 4368, 4369, 238, 59], [9, 237, 856, 942, 4370, 571, 409, 1470, 4371, 4372, 1587, 171, 4373, 102, 4374, 80, 1461, 4375, 639, 4376, 4377, 4378, 321, 4379, 2, 4, 436, 4380, 523, 85, 4381, 2, 20, 189, 562, 203, 4382, 952, 4383, 4384, 217, 4385, 4386, 522, 4, 192], [68, 3, 17, 4387, 558, 1, 4388, 80, 150, 4389, 177, 4390, 21, 147, 377, 4391, 80, 10, 32, 4392, 284, 842, 109, 4393, 80, 48, 152, 4394, 897, 4395, 4396, 150, 528, 672, 4397, 1545, 8, 4398, 172, 961, 7, 4399, 32, 31, 80], [30, 79, 173, 291, 188, 240, 1540, 407, 283, 376, 4400, 335, 97, 4401, 4402, 4403, 373, 1607, 13, 251, 354, 1608, 176, 526, 224, 1459, 1608, 230, 517, 81, 441, 4404, 21, 203, 171, 151, 217, 573, 447, 4405, 380, 380, 185, 80, 82, 599, 482, 49, 217, 1059, 335, 4406, 1609, 4407, 4408, 1414, 135, 218, 1457, 98, 4409, 4410, 288, 4411, 4412, 289, 503, 1, 75, 4413, 927, 468, 4414, 140, 906, 4415, 355, 1047, 4416, 4417, 4418, 4419, 541, 689, 196, 4420, 5, 4421, 379, 260, 544, 335, 4422, 859, 1601, 728, 1078, 4423, 478, 495, 186, 4424, 187, 7, 4425, 673, 71], [173, 4426, 4427, 4428, 822, 18, 1038, 4429, 506, 35, 4430, 1451, 4431, 83, 16, 793, 4432, 5, 1591, 372, 4433, 47, 482, 377, 4434, 237, 260, 4435, 1048, 4436, 14, 4437, 54, 4438, 50, 29, 68, 41, 1610, 4439, 4440, 140, 21, 3, 4441, 235, 387, 4442, 1270, 680, 300, 4443, 158, 681, 4444, 4445, 681, 203, 590, 4446, 101, 60, 4447, 4448, 12, 150, 6, 4449, 4450, 4451, 4452, 415, 4453, 4454, 1611, 690, 4455, 464, 15, 4456, 172, 500, 49, 76, 53, 4457, 962, 4458, 4459, 536, 681, 4460, 77, 247, 424, 4461, 292, 4462, 4463, 232, 88, 606, 4464, 658, 793, 4465, 51, 1612, 4466, 917, 49, 1028, 4467, 120, 156, 4468, 1073, 505, 4469, 682, 101, 4470, 880, 15, 4471, 31, 101, 1613, 4472, 4473, 7, 4474, 994, 4475, 215, 734, 4476, 412, 4477, 1589, 4478, 1268, 565, 4479, 4480, 4481, 648, 52, 1250, 4482, 4483, 4484, 4485, 149, 149, 306, 4486, 360, 4487, 48, 329, 4488, 147, 33, 116, 123, 1611, 4489, 330, 1614, 4490, 78, 251, 4491, 311, 460, 4492, 1465, 4493, 399, 401, 4494, 220, 800, 4495, 4496, 4497, 123, 1057, 158, 4, 4498, 154, 1615, 388, 1616, 4499, 121, 442, 1566, 4500, 1617, 102, 552, 4501, 1558, 56, 423, 4502, 81, 4503, 87, 228, 4504, 17, 4505, 2, 90, 4506, 77, 680, 88, 4507, 82, 4508, 1449, 4509, 595, 905, 255, 4510, 4511, 1346, 4512, 482, 158, 731, 1583, 4513, 2, 321, 4514, 49, 147, 4515, 71, 4516, 130, 24, 170, 4517, 11, 1612, 4518, 4519, 4520, 236, 4521, 48, 4522, 312, 4523, 193, 193, 24, 24, 193, 4524, 77, 4525, 4526, 4527, 500, 4528, 4529, 605, 4530, 1616, 1130, 4531, 7, 834, 4532, 4533, 248, 101, 4534, 701, 4535, 4, 4536, 500, 1171, 1089, 169, 4537, 22, 135, 145, 242, 4538, 200, 901, 1515, 75, 4539, 292, 4540, 21, 4541, 2, 4542, 724, 4543, 1511, 267, 4544, 4545, 2, 520, 810, 4546, 4547, 257, 4548, 1599, 292, 4549, 680, 4550, 4551, 4552, 1211, 64, 373, 4553, 827, 1479, 4554, 4555, 1281, 151, 4556, 468, 4557, 4558, 75, 4559, 1618, 149, 1619, 220, 4560, 837, 18, 4561, 233, 4562, 537, 4563, 4564, 20, 4565, 1002, 233, 4566, 4567, 1398, 4568, 15, 4569, 4570, 20, 90, 27, 516, 4571, 30, 27, 316, 4572, 1606, 4573, 29, 199, 4574, 4575, 31, 101, 4576, 4, 4577, 132, 54, 4578, 4579, 4580, 1299, 4581, 172, 559, 15, 935, 1024, 251, 1487, 4582, 312, 135, 4583, 4584, 1551, 125, 4585, 268, 24, 4586, 4587, 4588, 4589, 530, 4590, 4591, 823, 503, 4592, 43, 8, 968, 3, 87, 4593, 178, 4594, 48, 782, 151, 4595, 680, 149, 1619], [1597, 135, 160, 1205, 213, 4596, 1471, 900, 4597, 1042, 4598, 173, 4599, 4600, 193, 4601, 360, 4602, 4603, 4604, 234, 381, 975, 4605, 4606, 506, 4607, 359, 862, 4608, 639, 4609, 4610, 120, 96, 4611, 991, 4612, 4613, 20, 4614, 156, 792, 792, 4615, 390, 191, 39, 4616, 313, 4617, 4618, 4619, 50, 4620, 4621], [356, 212, 4622, 38, 375, 414, 59, 932, 183, 4623, 177, 4624, 143, 1620, 1004, 4625, 4626, 4627, 887, 1, 356, 125, 1621, 4628, 125, 53, 26, 5, 106, 30, 66, 6, 137, 222, 37, 4, 153, 546, 224, 35, 672, 537, 15, 228, 6, 425, 17, 4, 356, 125, 199, 419, 138, 503, 663, 1482, 834, 354, 4629, 1085, 27, 1141, 289, 15, 1327, 513, 4630, 171, 4631, 357, 368, 329, 439, 1621, 546, 272, 5, 4632, 24, 14, 494, 4633, 627, 356, 274, 1622, 13, 13, 1, 977, 89, 425, 17, 4], [1, 4634, 4635, 33, 20, 76, 1, 4636, 1595, 4637, 20, 288, 1, 4638, 4639, 20, 4640, 4641, 4642, 634], [235, 4643, 4644, 4645, 4646, 134, 29, 539, 4647, 4648, 4649, 149, 699, 311, 25, 410, 4650, 52, 493, 4651, 885, 30, 4652, 4653, 316, 4654, 4655, 4656, 906, 4657, 68, 4658, 123, 4659, 4660, 1202, 9, 682, 4661, 22, 4662, 4663, 1390, 4664, 61, 4665, 245, 493, 272, 4666, 11, 4667, 337, 4668, 4669, 4670, 1532, 423, 67, 1590, 4671, 253, 432, 4672, 268, 2, 667, 4673, 207, 102, 1200, 1056, 4674, 846, 22, 378, 168, 1623, 4675, 4676, 377, 374, 4677, 132, 247, 4678, 129, 4679, 85, 1623, 3, 4680, 4681, 11, 192, 244, 4682, 233, 149, 4683, 666, 383, 78, 4684, 465, 3, 1306, 507, 4685, 271, 139, 6, 4686, 383, 962], [1, 142, 15, 4687, 4688, 178, 1618, 1539, 4689, 4690, 58, 4691, 4692, 4693, 4694, 4695, 4696, 1249], [4697, 94, 11, 4698, 3, 124, 1081, 213, 4699, 4700, 151, 1624, 4701, 4702, 151, 94, 11, 4703, 151, 124, 4704, 1083, 4705, 171, 4706, 151, 1624, 23], [136, 4707, 4708, 301, 85, 454, 4709, 664, 672, 9, 4710, 664, 1625, 25, 963, 4711, 4712, 933, 10, 4713, 454, 1018, 4714, 518, 72, 75, 1565, 29, 4715, 948, 194, 1580, 245, 136, 9, 4716, 10, 248, 301, 4717, 46, 175, 166, 4718, 194, 20, 675, 508, 4719, 4720, 45, 1476, 1576, 7, 4721, 91, 656, 4722, 4723, 111, 508, 4724, 334, 978, 4725, 675, 97, 13, 4726, 134, 4727, 242, 91, 4728, 51, 293, 4729, 4730, 343, 4, 4731, 719, 343, 95, 80, 4732, 255, 95, 647, 4733, 22, 4734, 4735, 4736, 836, 1626, 52, 9, 4737, 4738, 69, 111, 4739, 450, 4740, 4741, 399, 117, 220, 453, 4742, 241, 47, 34, 4743, 108, 4744, 92, 947, 4745, 46, 256, 76, 77, 20, 4746, 50, 10, 4747, 46, 4748, 1397, 4749, 4750, 13, 50, 4751, 217, 4752, 4753, 4754, 1109, 4755, 1483, 302, 4756, 98, 98, 1336, 624, 563, 4757, 901, 70, 344, 1613, 4758, 4759, 4760, 20, 4761, 111, 4762, 70, 1239, 1609, 1627, 1339, 396, 4763, 254, 4764, 108, 4765, 106, 508, 4766, 4767, 347, 231, 705, 4768, 106, 80, 20, 9, 939, 4769, 432, 17, 4770, 50, 17, 164, 4771, 939, 957, 117, 316, 4772, 1615, 1627, 896, 142, 4773, 4774, 4775, 435, 316, 516, 957, 4776, 378, 228, 4777, 1092, 136, 34, 80, 7, 4778, 4779, 120, 4780, 4781, 273, 92, 498, 4782, 106, 508, 80, 4783, 4, 4784, 142, 435, 43, 89, 4785, 48, 4786, 1528, 4787, 577, 4788, 168, 2, 4789, 1022, 201, 165, 46, 659, 4790, 165, 4791, 1614, 508], [1147, 32, 299, 11, 1628, 3, 12, 114, 159, 1628, 92, 19, 657, 280, 19, 1547, 19, 1415, 65, 1123, 695, 129, 8, 117, 722, 69, 47, 63, 309, 80, 159, 1355, 4792, 5, 380, 1548, 704, 7, 750, 121, 4793, 4794, 320, 4795, 1495, 188, 234, 4796, 62, 51, 229, 7, 515, 4797, 115, 714, 4798, 822, 115, 714, 924, 4799, 150, 1588, 1452, 88, 4800, 4801, 915, 79, 934, 195, 63, 1529, 214, 730, 4802, 195, 63, 369, 228, 144, 998, 747, 4803, 8, 1, 213, 4804, 111, 150, 453, 178, 6, 12, 4805, 36, 1622, 71, 374], [57, 69, 29, 357, 4806, 846, 168, 383, 4807, 5, 101, 4808, 486, 6, 89, 1072, 4809, 62, 461, 528, 4810, 63, 1189, 4811, 4812, 7, 67, 4813, 1626, 4814, 252, 29, 4815, 32, 719, 1581, 4816, 4817, 4818, 576, 4819, 170, 42, 1629, 4820, 4821, 20, 31, 155, 4822, 753, 4823, 86, 4824, 47, 16, 4825, 195, 4826, 4827], [1, 101, 4828, 4829, 322, 4830, 1630, 1604, 4831, 4832, 33, 573, 4833, 4834, 110, 4835, 1155, 1603, 4836, 1524, 648, 4837, 4838, 531, 712, 485, 4839, 85, 497, 483, 9, 7, 4840, 39, 156, 572, 4841, 4842, 1504, 1585, 4843, 4844, 74, 1154, 4845, 23, 539, 87, 249, 4846, 267, 216, 188, 4847, 101, 1582, 4848, 174, 510, 4849, 64, 4850, 11, 4851, 4852, 51, 3, 5, 4853, 566, 25, 411, 4854, 39, 895, 322, 963, 77, 4855, 430, 420, 3, 4856, 1536, 21, 1338, 23, 3, 4857, 944, 4858, 21, 748, 145, 382, 1620, 1517, 4859, 4860, 679, 36, 4861, 4862, 26, 4863, 305, 4864, 4865, 4866, 1431, 4867, 4868, 682, 328, 41, 4869, 659, 319, 4870, 4871, 39, 1379, 25, 756, 418, 4872, 36, 1097, 4873, 4874, 36, 4875, 4876, 36, 679, 99, 4877, 1295, 935, 4878, 4879, 393, 4880, 551, 4881, 322, 4882, 4883, 162, 4884, 2, 1555, 4885, 4886, 949, 740, 4887, 4888, 512, 4889, 880, 4890, 4891, 4892, 697, 4893, 31, 544, 140, 884, 98, 4894, 420, 338, 681, 4895, 958, 4896, 4897, 121, 1058, 12, 515, 740, 4898, 1447, 1556, 4899, 293, 572, 1631, 4900, 64, 4901, 162, 4902, 874, 27, 4903, 883, 4904, 4905, 4906, 4907, 666, 4908, 412, 4909, 324, 4910, 263, 1527, 47, 4911, 4912, 180, 4913, 403, 1084, 277, 4914, 1490, 96, 707, 963, 4915, 85, 4916, 180, 4917, 4918, 679, 36, 4919, 36, 4920, 61, 4921, 536, 39, 4922, 4923, 682, 39, 4924, 546, 4925, 36, 205, 192, 958, 1240, 4926, 2, 4927, 4928, 953, 25, 3, 4929, 4930, 1586, 3, 4931, 31, 260, 23, 18, 4932, 162, 1407, 89, 317, 4933, 215, 8, 140, 217, 4934, 123, 638, 96, 1287, 4935, 147, 370, 4936, 4937, 2, 2, 548, 39, 4938, 107, 3, 191, 61, 39, 4939, 9, 4940, 4941, 4942, 4943, 723, 4944, 3, 4945, 4946, 223, 930, 4947, 13, 7, 4948, 4949, 4950, 4951, 4952, 4953, 271, 496, 39, 4954, 2, 1605, 4955, 4956, 99, 1629, 270], [401, 224, 663, 261, 1455, 368, 638, 1223, 45, 12, 239, 25, 33, 174, 404, 4957, 705, 1610, 1403, 156, 467, 668, 241, 165, 61, 15, 346, 409, 7, 1594, 49, 743, 1617, 117, 932, 431, 626, 4958, 1630, 1307, 4959, 1510, 225, 4960, 4961, 4962, 643, 71, 19, 579, 4963, 4964, 80, 25, 4965, 164, 925, 10, 368, 11, 1478, 4966, 658, 4967, 1419, 6, 599, 15, 505, 532, 810, 107, 254, 324, 4968, 185, 372, 4969, 566, 1573, 267, 4970, 573, 49, 75, 200, 1486, 33, 635, 235, 4971, 203, 4972, 1632, 817, 4973, 1607, 4974, 4975, 172, 178, 199, 117, 7, 102, 944, 7, 101, 1151, 71, 46, 575, 140, 197, 4976, 1625, 4977, 4978, 1600, 746, 193, 140, 4979, 273, 924, 4980, 4981, 915, 469, 220, 366, 10, 238, 1633, 476, 4982, 170, 286, 294, 294, 108, 111, 279, 102, 4983, 1634, 4984, 23, 256, 458, 126, 226, 889, 4985, 1631, 1632, 286, 564, 590, 163, 653, 390, 94, 142, 507, 96, 192, 258, 492, 296, 102, 90, 48, 124, 209, 1634, 1633]]\n"
          ]
        }
      ]
    },
    {
      "cell_type": "code",
      "source": [
        "# determine the vocabulary size\n",
        "vocab_size = len(tokenizer.word_index) + 1  # 0 is reserved for padding so that's why we added 1\n",
        "print(vocab_size)"
      ],
      "metadata": {
        "colab": {
          "base_uri": "https://localhost:8080/"
        },
        "id": "7DJGLWjZtiZy",
        "outputId": "811ad044-4d97-4502-eca2-6623f800dabe"
      },
      "execution_count": 21,
      "outputs": [
        {
          "output_type": "stream",
          "name": "stdout",
          "text": [
            "4986\n"
          ]
        }
      ]
    },
    {
      "cell_type": "markdown",
      "source": [
        "#Next, we need to create sequences of words to fit the model with one word as input and one word as output."
      ],
      "metadata": {
        "id": "SDBc1hY4w1Gf"
      }
    },
    {
      "cell_type": "code",
      "source": [
        "len(sentences[0])"
      ],
      "metadata": {
        "colab": {
          "base_uri": "https://localhost:8080/"
        },
        "id": "SE_RzhS35wTm",
        "outputId": "3835bc9b-d204-480f-9ff3-d433df6196c6"
      },
      "execution_count": 22,
      "outputs": [
        {
          "output_type": "execute_result",
          "data": {
            "text/plain": [
              "58"
            ]
          },
          "metadata": {},
          "execution_count": 22
        }
      ]
    },
    {
      "cell_type": "markdown",
      "source": [
        "###making tri-grams for perdiction"
      ],
      "metadata": {
        "id": "p6lgH-dw8fcu"
      }
    },
    {
      "cell_type": "code",
      "source": [
        "data = []\n",
        "for sent in sentences:\n",
        "  for i in range(1, len(sent)):\n",
        "    seq = sent[i-1:i+1]\n",
        "    data.append(seq)"
      ],
      "metadata": {
        "id": "eB6YxpNrtieM"
      },
      "execution_count": 23,
      "outputs": []
    },
    {
      "cell_type": "code",
      "source": [
        "print(data[0:10])"
      ],
      "metadata": {
        "colab": {
          "base_uri": "https://localhost:8080/"
        },
        "id": "cdcvKtS59D5u",
        "outputId": "f49ba795-3c63-4e4c-ef09-a4d1a4662082"
      },
      "execution_count": 24,
      "outputs": [
        {
          "output_type": "stream",
          "name": "stdout",
          "text": [
            "[[385, 7], [7, 143], [143, 143], [143, 1635], [1635, 1636], [1636, 1637], [1637, 1638], [1638, 385], [385, 7], [7, 1639]]\n"
          ]
        }
      ]
    },
    {
      "cell_type": "code",
      "source": [
        "data_array = np.array(data)"
      ],
      "metadata": {
        "id": "3jeKNjA7FUGj"
      },
      "execution_count": 25,
      "outputs": []
    },
    {
      "cell_type": "code",
      "source": [
        "data_array.ndim"
      ],
      "metadata": {
        "colab": {
          "base_uri": "https://localhost:8080/"
        },
        "id": "BUzY-aL-GnWj",
        "outputId": "e9fbc35a-bbfd-4073-824a-bd19b41c2aaf"
      },
      "execution_count": 26,
      "outputs": [
        {
          "output_type": "execute_result",
          "data": {
            "text/plain": [
              "2"
            ]
          },
          "metadata": {},
          "execution_count": 26
        }
      ]
    },
    {
      "cell_type": "code",
      "source": [
        "#conver it into x and y\n",
        "\n",
        "X, y = data_array[:,0],data_array[:,1]"
      ],
      "metadata": {
        "id": "-ElcYraXtigb"
      },
      "execution_count": 27,
      "outputs": []
    },
    {
      "cell_type": "code",
      "source": [
        "y[:20]"
      ],
      "metadata": {
        "colab": {
          "base_uri": "https://localhost:8080/"
        },
        "id": "E-KfDEaKLfu-",
        "outputId": "c3caba9f-c6be-4aef-9d60-2760490ef643"
      },
      "execution_count": 28,
      "outputs": [
        {
          "output_type": "execute_result",
          "data": {
            "text/plain": [
              "array([   7,  143,  143, 1635, 1636, 1637, 1638,  385,    7, 1639, 1640,\n",
              "        964, 1641,  268,  205,   36, 1642, 1643,  230,  385])"
            ]
          },
          "metadata": {},
          "execution_count": 28
        }
      ]
    },
    {
      "cell_type": "code",
      "source": [
        "from numpy import array\n",
        "from keras.preprocessing.text import Tokenizer\n",
        "from keras.utils import to_categorical\n",
        "from keras.models import Sequential\n",
        "from keras.layers import Dense, Dropout\n",
        "from keras.layers import LSTM\n",
        "from keras.layers import Embedding"
      ],
      "metadata": {
        "id": "S9VwkurLLUGJ"
      },
      "execution_count": 29,
      "outputs": []
    },
    {
      "cell_type": "code",
      "source": [
        "#convert the ouputs into the one hot vector over all the unique words\n",
        "y = to_categorical(y,num_classes=vocab_size)"
      ],
      "metadata": {
        "id": "nfV69xs1LD_A"
      },
      "execution_count": 30,
      "outputs": []
    },
    {
      "cell_type": "code",
      "source": [
        "y[:2]"
      ],
      "metadata": {
        "colab": {
          "base_uri": "https://localhost:8080/"
        },
        "id": "HWBEzEIULjXM",
        "outputId": "fd73f820-4304-4149-949a-e6cb97f1e764"
      },
      "execution_count": 31,
      "outputs": [
        {
          "output_type": "execute_result",
          "data": {
            "text/plain": [
              "array([[0., 0., 0., ..., 0., 0., 0.],\n",
              "       [0., 0., 0., ..., 0., 0., 0.]], dtype=float32)"
            ]
          },
          "metadata": {},
          "execution_count": 31
        }
      ]
    },
    {
      "cell_type": "markdown",
      "source": [
        "#model building and embeddings\n",
        "\n",
        "\n",
        "\n",
        "*   first convert each word into embedding instead of just integer encoding\n",
        "*   then build rnn model as shown\n",
        "\n"
      ],
      "metadata": {
        "id": "HCxAGk5iVkXK"
      }
    },
    {
      "cell_type": "code",
      "source": [
        "model = Sequential()\n",
        "\n",
        "model.add(Embedding(vocab_size, 2, input_length = 1))\n",
        "\n",
        "model.add(LSTM(100))\n",
        "\n",
        "model.add(Dropout(0.2))\n",
        "\n",
        "model.add(Dense(vocab_size, activation='softmax'))\n",
        "\n",
        "print(model.summary())"
      ],
      "metadata": {
        "id": "eAUCNf4LTwfi",
        "colab": {
          "base_uri": "https://localhost:8080/"
        },
        "outputId": "49af8622-dd02-468d-e555-93bbcaf47174"
      },
      "execution_count": 32,
      "outputs": [
        {
          "output_type": "stream",
          "name": "stdout",
          "text": [
            "Model: \"sequential\"\n",
            "_________________________________________________________________\n",
            " Layer (type)                Output Shape              Param #   \n",
            "=================================================================\n",
            " embedding (Embedding)       (None, 1, 2)              9972      \n",
            "                                                                 \n",
            " lstm (LSTM)                 (None, 100)               41200     \n",
            "                                                                 \n",
            " dropout (Dropout)           (None, 100)               0         \n",
            "                                                                 \n",
            " dense (Dense)               (None, 4986)              503586    \n",
            "                                                                 \n",
            "=================================================================\n",
            "Total params: 554,758\n",
            "Trainable params: 554,758\n",
            "Non-trainable params: 0\n",
            "_________________________________________________________________\n",
            "None\n"
          ]
        }
      ]
    },
    {
      "cell_type": "code",
      "source": [
        "model.compile(loss = 'categorical_crossentropy', optimizer='adam', metrics=['accuracy'])"
      ],
      "metadata": {
        "id": "GJhpS5-VM48A"
      },
      "execution_count": 33,
      "outputs": []
    },
    {
      "cell_type": "code",
      "source": [
        "model.fit(X, y, epochs=5)"
      ],
      "metadata": {
        "colab": {
          "base_uri": "https://localhost:8080/"
        },
        "id": "7gU4TZpwM4_l",
        "outputId": "c5c58a90-e1af-43da-be7b-d645a7bfc62c"
      },
      "execution_count": 34,
      "outputs": [
        {
          "output_type": "stream",
          "name": "stdout",
          "text": [
            "Epoch 1/5\n",
            "376/376 [==============================] - 20s 34ms/step - loss: 8.3637 - accuracy: 0.0062\n",
            "Epoch 2/5\n",
            "376/376 [==============================] - 11s 28ms/step - loss: 7.9525 - accuracy: 0.0061\n",
            "Epoch 3/5\n",
            "376/376 [==============================] - 7s 20ms/step - loss: 7.8439 - accuracy: 0.0060\n",
            "Epoch 4/5\n",
            "376/376 [==============================] - 7s 18ms/step - loss: 7.7664 - accuracy: 0.0061\n",
            "Epoch 5/5\n",
            "376/376 [==============================] - 6s 16ms/step - loss: 7.7065 - accuracy: 0.0067\n"
          ]
        },
        {
          "output_type": "execute_result",
          "data": {
            "text/plain": [
              "<keras.callbacks.History at 0x7e216c25eec0>"
            ]
          },
          "metadata": {},
          "execution_count": 34
        }
      ]
    },
    {
      "cell_type": "code",
      "source": [
        "def generate_text(model, tokenizer, enter_text, n_pred):\n",
        "    in_text, result = enter_text, enter_text\n",
        "    for _ in range(n_pred):\n",
        "        encoded = tokenizer.texts_to_sequences([in_text])[0]\n",
        "        encoded = array(encoded)\n",
        "\n",
        "        predicted = model.predict(encoded, verbose=0)\n",
        "        yhat = np.argmax(predicted, axis=1)\n",
        "\n",
        "        out_word = ''\n",
        "        for word, index in tokenizer.word_index.items():\n",
        "          if index == yhat:\n",
        "            out_word = word\n",
        "            break\n",
        "        # append to input\n",
        "        in_text, result = out_word, result + ' ' + out_word\n",
        "    return result"
      ],
      "metadata": {
        "id": "QmempFY-NS96"
      },
      "execution_count": 46,
      "outputs": []
    },
    {
      "cell_type": "code",
      "source": [
        "print (generate_text(model, tokenizer, 'sad', 6))"
      ],
      "metadata": {
        "colab": {
          "base_uri": "https://localhost:8080/"
        },
        "id": "u1YlXtwonma-",
        "outputId": "17aed8f0-4d07-491f-e0e8-13180259bdef"
      },
      "execution_count": 49,
      "outputs": [
        {
          "output_type": "stream",
          "name": "stdout",
          "text": [
            "sad exclud love one one one one\n"
          ]
        }
      ]
    },
    {
      "cell_type": "code",
      "source": [
        "print (generate_text(model, tokenizer, 'touch', 6))"
      ],
      "metadata": {
        "colab": {
          "base_uri": "https://localhost:8080/"
        },
        "id": "8oS9YK9FprvX",
        "outputId": "a4d7d257-ae45-4aa2-98df-5ec342dae141"
      },
      "execution_count": 50,
      "outputs": [
        {
          "output_type": "stream",
          "name": "stdout",
          "text": [
            "touch one one one one one one\n"
          ]
        }
      ]
    },
    {
      "cell_type": "code",
      "source": [
        "print (generate_text(model, tokenizer, 'come', 6))"
      ],
      "metadata": {
        "colab": {
          "base_uri": "https://localhost:8080/"
        },
        "id": "u-cEfXdbpv4s",
        "outputId": "3e7cbdec-b512-43b0-9396-8b0fc1ec0251"
      },
      "execution_count": 51,
      "outputs": [
        {
          "output_type": "stream",
          "name": "stdout",
          "text": [
            "come one one one one one one\n"
          ]
        }
      ]
    },
    {
      "cell_type": "code",
      "source": [],
      "metadata": {
        "id": "jjAVDOx6Nojw"
      },
      "execution_count": null,
      "outputs": []
    },
    {
      "cell_type": "code",
      "source": [],
      "metadata": {
        "id": "MBgP2edaNmWR"
      },
      "execution_count": null,
      "outputs": []
    }
  ]
}