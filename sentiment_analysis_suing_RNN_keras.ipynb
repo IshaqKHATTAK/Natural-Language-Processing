{
  "nbformat": 4,
  "nbformat_minor": 0,
  "metadata": {
    "colab": {
      "provenance": [],
      "gpuType": "T4",
      "authorship_tag": "ABX9TyOVUU77Lokv+y/nuk7ocnFv",
      "include_colab_link": true
    },
    "kernelspec": {
      "name": "python3",
      "display_name": "Python 3"
    },
    "language_info": {
      "name": "python"
    },
    "accelerator": "GPU"
  },
  "cells": [
    {
      "cell_type": "markdown",
      "metadata": {
        "id": "view-in-github",
        "colab_type": "text"
      },
      "source": [
        "<a href=\"https://colab.research.google.com/github/IshaqKHATTAK/Natural-Language-Processing/blob/main/sentiment_analysis_suing_RNN_keras.ipynb\" target=\"_parent\"><img src=\"https://colab.research.google.com/assets/colab-badge.svg\" alt=\"Open In Colab\"/></a>"
      ]
    },
    {
      "cell_type": "code",
      "execution_count": null,
      "metadata": {
        "colab": {
          "base_uri": "https://localhost:8080/"
        },
        "id": "AnSpZYP9Dqpd",
        "outputId": "94cb7617-4ef6-4052-a3c1-f0c3ab96d06d"
      },
      "outputs": [
        {
          "output_type": "stream",
          "name": "stdout",
          "text": [
            "Mounted at /content/drive\n"
          ]
        }
      ],
      "source": [
        "from google.colab import drive\n",
        "drive.mount('/content/drive')"
      ]
    },
    {
      "cell_type": "code",
      "source": [
        "from google.colab import files\n",
        "video = files.upload()"
      ],
      "metadata": {
        "colab": {
          "base_uri": "https://localhost:8080/",
          "height": 74
        },
        "id": "qgnMo5yyFsk3",
        "outputId": "d6c96ce7-a03a-4f8e-b384-4d985c0693de"
      },
      "execution_count": 1,
      "outputs": [
        {
          "output_type": "display_data",
          "data": {
            "text/plain": [
              "<IPython.core.display.HTML object>"
            ],
            "text/html": [
              "\n",
              "     <input type=\"file\" id=\"files-1848bf61-eb9b-4b74-a650-fd6eb25061a4\" name=\"files[]\" multiple disabled\n",
              "        style=\"border:none\" />\n",
              "     <output id=\"result-1848bf61-eb9b-4b74-a650-fd6eb25061a4\">\n",
              "      Upload widget is only available when the cell has been executed in the\n",
              "      current browser session. Please rerun this cell to enable.\n",
              "      </output>\n",
              "      <script>// Copyright 2017 Google LLC\n",
              "//\n",
              "// Licensed under the Apache License, Version 2.0 (the \"License\");\n",
              "// you may not use this file except in compliance with the License.\n",
              "// You may obtain a copy of the License at\n",
              "//\n",
              "//      http://www.apache.org/licenses/LICENSE-2.0\n",
              "//\n",
              "// Unless required by applicable law or agreed to in writing, software\n",
              "// distributed under the License is distributed on an \"AS IS\" BASIS,\n",
              "// WITHOUT WARRANTIES OR CONDITIONS OF ANY KIND, either express or implied.\n",
              "// See the License for the specific language governing permissions and\n",
              "// limitations under the License.\n",
              "\n",
              "/**\n",
              " * @fileoverview Helpers for google.colab Python module.\n",
              " */\n",
              "(function(scope) {\n",
              "function span(text, styleAttributes = {}) {\n",
              "  const element = document.createElement('span');\n",
              "  element.textContent = text;\n",
              "  for (const key of Object.keys(styleAttributes)) {\n",
              "    element.style[key] = styleAttributes[key];\n",
              "  }\n",
              "  return element;\n",
              "}\n",
              "\n",
              "// Max number of bytes which will be uploaded at a time.\n",
              "const MAX_PAYLOAD_SIZE = 100 * 1024;\n",
              "\n",
              "function _uploadFiles(inputId, outputId) {\n",
              "  const steps = uploadFilesStep(inputId, outputId);\n",
              "  const outputElement = document.getElementById(outputId);\n",
              "  // Cache steps on the outputElement to make it available for the next call\n",
              "  // to uploadFilesContinue from Python.\n",
              "  outputElement.steps = steps;\n",
              "\n",
              "  return _uploadFilesContinue(outputId);\n",
              "}\n",
              "\n",
              "// This is roughly an async generator (not supported in the browser yet),\n",
              "// where there are multiple asynchronous steps and the Python side is going\n",
              "// to poll for completion of each step.\n",
              "// This uses a Promise to block the python side on completion of each step,\n",
              "// then passes the result of the previous step as the input to the next step.\n",
              "function _uploadFilesContinue(outputId) {\n",
              "  const outputElement = document.getElementById(outputId);\n",
              "  const steps = outputElement.steps;\n",
              "\n",
              "  const next = steps.next(outputElement.lastPromiseValue);\n",
              "  return Promise.resolve(next.value.promise).then((value) => {\n",
              "    // Cache the last promise value to make it available to the next\n",
              "    // step of the generator.\n",
              "    outputElement.lastPromiseValue = value;\n",
              "    return next.value.response;\n",
              "  });\n",
              "}\n",
              "\n",
              "/**\n",
              " * Generator function which is called between each async step of the upload\n",
              " * process.\n",
              " * @param {string} inputId Element ID of the input file picker element.\n",
              " * @param {string} outputId Element ID of the output display.\n",
              " * @return {!Iterable<!Object>} Iterable of next steps.\n",
              " */\n",
              "function* uploadFilesStep(inputId, outputId) {\n",
              "  const inputElement = document.getElementById(inputId);\n",
              "  inputElement.disabled = false;\n",
              "\n",
              "  const outputElement = document.getElementById(outputId);\n",
              "  outputElement.innerHTML = '';\n",
              "\n",
              "  const pickedPromise = new Promise((resolve) => {\n",
              "    inputElement.addEventListener('change', (e) => {\n",
              "      resolve(e.target.files);\n",
              "    });\n",
              "  });\n",
              "\n",
              "  const cancel = document.createElement('button');\n",
              "  inputElement.parentElement.appendChild(cancel);\n",
              "  cancel.textContent = 'Cancel upload';\n",
              "  const cancelPromise = new Promise((resolve) => {\n",
              "    cancel.onclick = () => {\n",
              "      resolve(null);\n",
              "    };\n",
              "  });\n",
              "\n",
              "  // Wait for the user to pick the files.\n",
              "  const files = yield {\n",
              "    promise: Promise.race([pickedPromise, cancelPromise]),\n",
              "    response: {\n",
              "      action: 'starting',\n",
              "    }\n",
              "  };\n",
              "\n",
              "  cancel.remove();\n",
              "\n",
              "  // Disable the input element since further picks are not allowed.\n",
              "  inputElement.disabled = true;\n",
              "\n",
              "  if (!files) {\n",
              "    return {\n",
              "      response: {\n",
              "        action: 'complete',\n",
              "      }\n",
              "    };\n",
              "  }\n",
              "\n",
              "  for (const file of files) {\n",
              "    const li = document.createElement('li');\n",
              "    li.append(span(file.name, {fontWeight: 'bold'}));\n",
              "    li.append(span(\n",
              "        `(${file.type || 'n/a'}) - ${file.size} bytes, ` +\n",
              "        `last modified: ${\n",
              "            file.lastModifiedDate ? file.lastModifiedDate.toLocaleDateString() :\n",
              "                                    'n/a'} - `));\n",
              "    const percent = span('0% done');\n",
              "    li.appendChild(percent);\n",
              "\n",
              "    outputElement.appendChild(li);\n",
              "\n",
              "    const fileDataPromise = new Promise((resolve) => {\n",
              "      const reader = new FileReader();\n",
              "      reader.onload = (e) => {\n",
              "        resolve(e.target.result);\n",
              "      };\n",
              "      reader.readAsArrayBuffer(file);\n",
              "    });\n",
              "    // Wait for the data to be ready.\n",
              "    let fileData = yield {\n",
              "      promise: fileDataPromise,\n",
              "      response: {\n",
              "        action: 'continue',\n",
              "      }\n",
              "    };\n",
              "\n",
              "    // Use a chunked sending to avoid message size limits. See b/62115660.\n",
              "    let position = 0;\n",
              "    do {\n",
              "      const length = Math.min(fileData.byteLength - position, MAX_PAYLOAD_SIZE);\n",
              "      const chunk = new Uint8Array(fileData, position, length);\n",
              "      position += length;\n",
              "\n",
              "      const base64 = btoa(String.fromCharCode.apply(null, chunk));\n",
              "      yield {\n",
              "        response: {\n",
              "          action: 'append',\n",
              "          file: file.name,\n",
              "          data: base64,\n",
              "        },\n",
              "      };\n",
              "\n",
              "      let percentDone = fileData.byteLength === 0 ?\n",
              "          100 :\n",
              "          Math.round((position / fileData.byteLength) * 100);\n",
              "      percent.textContent = `${percentDone}% done`;\n",
              "\n",
              "    } while (position < fileData.byteLength);\n",
              "  }\n",
              "\n",
              "  // All done.\n",
              "  yield {\n",
              "    response: {\n",
              "      action: 'complete',\n",
              "    }\n",
              "  };\n",
              "}\n",
              "\n",
              "scope.google = scope.google || {};\n",
              "scope.google.colab = scope.google.colab || {};\n",
              "scope.google.colab._files = {\n",
              "  _uploadFiles,\n",
              "  _uploadFilesContinue,\n",
              "};\n",
              "})(self);\n",
              "</script> "
            ]
          },
          "metadata": {}
        },
        {
          "output_type": "stream",
          "name": "stdout",
          "text": [
            "Saving kaggle.json to kaggle.json\n"
          ]
        }
      ]
    },
    {
      "cell_type": "code",
      "source": [
        "!mkdir -p ~/.kaggle"
      ],
      "metadata": {
        "id": "8shayl1zDrZb"
      },
      "execution_count": 2,
      "outputs": []
    },
    {
      "cell_type": "code",
      "source": [
        "!cp kaggle.json ~/.kaggle"
      ],
      "metadata": {
        "id": "Wn3RON4JD1ZX"
      },
      "execution_count": 3,
      "outputs": []
    },
    {
      "cell_type": "code",
      "source": [
        "!chmod 600 ~/.kaggle/kaggle.json"
      ],
      "metadata": {
        "id": "7tDptdf-D3hz"
      },
      "execution_count": 4,
      "outputs": []
    },
    {
      "cell_type": "code",
      "source": [
        "!kaggle datasets download mohdazfar/pakistan-elections-2018"
      ],
      "metadata": {
        "colab": {
          "base_uri": "https://localhost:8080/"
        },
        "id": "PjLZsvcDD5mb",
        "outputId": "90328fa1-5e35-4a77-c66d-017db5c0734d"
      },
      "execution_count": 5,
      "outputs": [
        {
          "output_type": "stream",
          "name": "stdout",
          "text": [
            "Downloading pakistan-elections-2018.zip to /content\n",
            " 90% 19.0M/21.1M [00:01<00:00, 23.2MB/s]\n",
            "100% 21.1M/21.1M [00:01<00:00, 17.5MB/s]\n"
          ]
        }
      ]
    },
    {
      "cell_type": "code",
      "source": [
        "!unzip /content/pakistan-elections-2018.zip"
      ],
      "metadata": {
        "colab": {
          "base_uri": "https://localhost:8080/"
        },
        "id": "l_FLUM60E5ws",
        "outputId": "bd664052-bc22-43f5-fa60-66b5d98092e4"
      },
      "execution_count": 6,
      "outputs": [
        {
          "output_type": "stream",
          "name": "stdout",
          "text": [
            "Archive:  /content/pakistan-elections-2018.zip\n",
            "  inflating: cleaned_twitter_elections_data.json  \n"
          ]
        }
      ]
    },
    {
      "cell_type": "code",
      "source": [
        "import json\n",
        "with open('/content/cleaned_twitter_elections_data.json','r') as jsonf:\n",
        "    df_json = json.load(jsonf)"
      ],
      "metadata": {
        "id": "wvL810aFF_0B"
      },
      "execution_count": 7,
      "outputs": []
    },
    {
      "cell_type": "code",
      "source": [
        "df_json[0]['text']"
      ],
      "metadata": {
        "colab": {
          "base_uri": "https://localhost:8080/",
          "height": 35
        },
        "id": "NeKNAyrKGPfb",
        "outputId": "5128d0ff-1e34-4acc-a689-c4fe4e255410"
      },
      "execution_count": 8,
      "outputs": [
        {
          "output_type": "execute_result",
          "data": {
            "text/plain": [
              "'Vote for @MJibranNasir #PakistanElections2018 #voiceofreason #aamaadmi https://t.co/oeBPxNzAuU'"
            ],
            "application/vnd.google.colaboratory.intrinsic+json": {
              "type": "string"
            }
          },
          "metadata": {},
          "execution_count": 8
        }
      ]
    },
    {
      "cell_type": "code",
      "source": [
        "text = []\n",
        "for i in range(len(df_json)):\n",
        "    text.append(df_json[i]['text'])"
      ],
      "metadata": {
        "id": "OezEl3MeGSpC"
      },
      "execution_count": 9,
      "outputs": []
    },
    {
      "cell_type": "code",
      "source": [
        "import pandas as pd\n",
        "\n",
        "\n",
        "\n",
        "# Create DataFrame from list\n",
        "df = pd.DataFrame(text, columns=['text'])\n",
        "\n",
        "# Display the DataFrame\n",
        "print(df)"
      ],
      "metadata": {
        "colab": {
          "base_uri": "https://localhost:8080/"
        },
        "id": "2uKAouJlGUp-",
        "outputId": "34180459-dd35-4902-ad16-c215127d88c5"
      },
      "execution_count": 10,
      "outputs": [
        {
          "output_type": "stream",
          "name": "stdout",
          "text": [
            "                                                    text\n",
            "0      Vote for @MJibranNasir #PakistanElections2018 ...\n",
            "1      Kids born in the year 2000 will be voting this...\n",
            "2      Maryam Nawaz Last Message to PMLN Supporters |...\n",
            "3      RT @hizbuttahrir: What is ‘Real Change’?\\n \\nT...\n",
            "4      #Daesh- Head of states of countries who don't ...\n",
            "...                                                  ...\n",
            "29574  RT @mrazaharoon: #PSP manifesto guarantees dev...\n",
            "29575  #PSP Candidate for #PS96 Korangi, Syed Faizan ...\n",
            "29576  RT @PMLNPunjabPk: Charged crowd of PMLN Worker...\n",
            "29577  RT @mrazaharoon: Vote for Saddam Hussain Rind ...\n",
            "29578  RT @PMLNPunjabPk: Charged crowd of PMLN Worker...\n",
            "\n",
            "[29579 rows x 1 columns]\n"
          ]
        }
      ]
    },
    {
      "cell_type": "code",
      "source": [
        "df.head(3)"
      ],
      "metadata": {
        "colab": {
          "base_uri": "https://localhost:8080/",
          "height": 143
        },
        "id": "Qz3hd-VlGUsk",
        "outputId": "3f58cb75-88d4-4938-91a4-d7a6c5c03954"
      },
      "execution_count": 11,
      "outputs": [
        {
          "output_type": "execute_result",
          "data": {
            "text/plain": [
              "                                                text\n",
              "0  Vote for @MJibranNasir #PakistanElections2018 ...\n",
              "1  Kids born in the year 2000 will be voting this...\n",
              "2  Maryam Nawaz Last Message to PMLN Supporters |..."
            ],
            "text/html": [
              "\n",
              "\n",
              "  <div id=\"df-ed45a64b-32eb-4777-9a0d-0df4f6b11cc3\">\n",
              "    <div class=\"colab-df-container\">\n",
              "      <div>\n",
              "<style scoped>\n",
              "    .dataframe tbody tr th:only-of-type {\n",
              "        vertical-align: middle;\n",
              "    }\n",
              "\n",
              "    .dataframe tbody tr th {\n",
              "        vertical-align: top;\n",
              "    }\n",
              "\n",
              "    .dataframe thead th {\n",
              "        text-align: right;\n",
              "    }\n",
              "</style>\n",
              "<table border=\"1\" class=\"dataframe\">\n",
              "  <thead>\n",
              "    <tr style=\"text-align: right;\">\n",
              "      <th></th>\n",
              "      <th>text</th>\n",
              "    </tr>\n",
              "  </thead>\n",
              "  <tbody>\n",
              "    <tr>\n",
              "      <th>0</th>\n",
              "      <td>Vote for @MJibranNasir #PakistanElections2018 ...</td>\n",
              "    </tr>\n",
              "    <tr>\n",
              "      <th>1</th>\n",
              "      <td>Kids born in the year 2000 will be voting this...</td>\n",
              "    </tr>\n",
              "    <tr>\n",
              "      <th>2</th>\n",
              "      <td>Maryam Nawaz Last Message to PMLN Supporters |...</td>\n",
              "    </tr>\n",
              "  </tbody>\n",
              "</table>\n",
              "</div>\n",
              "      <button class=\"colab-df-convert\" onclick=\"convertToInteractive('df-ed45a64b-32eb-4777-9a0d-0df4f6b11cc3')\"\n",
              "              title=\"Convert this dataframe to an interactive table.\"\n",
              "              style=\"display:none;\">\n",
              "\n",
              "  <svg xmlns=\"http://www.w3.org/2000/svg\" height=\"24px\"viewBox=\"0 0 24 24\"\n",
              "       width=\"24px\">\n",
              "    <path d=\"M0 0h24v24H0V0z\" fill=\"none\"/>\n",
              "    <path d=\"M18.56 5.44l.94 2.06.94-2.06 2.06-.94-2.06-.94-.94-2.06-.94 2.06-2.06.94zm-11 1L8.5 8.5l.94-2.06 2.06-.94-2.06-.94L8.5 2.5l-.94 2.06-2.06.94zm10 10l.94 2.06.94-2.06 2.06-.94-2.06-.94-.94-2.06-.94 2.06-2.06.94z\"/><path d=\"M17.41 7.96l-1.37-1.37c-.4-.4-.92-.59-1.43-.59-.52 0-1.04.2-1.43.59L10.3 9.45l-7.72 7.72c-.78.78-.78 2.05 0 2.83L4 21.41c.39.39.9.59 1.41.59.51 0 1.02-.2 1.41-.59l7.78-7.78 2.81-2.81c.8-.78.8-2.07 0-2.86zM5.41 20L4 18.59l7.72-7.72 1.47 1.35L5.41 20z\"/>\n",
              "  </svg>\n",
              "      </button>\n",
              "\n",
              "\n",
              "\n",
              "    <div id=\"df-028c8213-d1b4-40bc-8ded-4d98d20cf245\">\n",
              "      <button class=\"colab-df-quickchart\" onclick=\"quickchart('df-028c8213-d1b4-40bc-8ded-4d98d20cf245')\"\n",
              "              title=\"Suggest charts.\"\n",
              "              style=\"display:none;\">\n",
              "\n",
              "<svg xmlns=\"http://www.w3.org/2000/svg\" height=\"24px\"viewBox=\"0 0 24 24\"\n",
              "     width=\"24px\">\n",
              "    <g>\n",
              "        <path d=\"M19 3H5c-1.1 0-2 .9-2 2v14c0 1.1.9 2 2 2h14c1.1 0 2-.9 2-2V5c0-1.1-.9-2-2-2zM9 17H7v-7h2v7zm4 0h-2V7h2v10zm4 0h-2v-4h2v4z\"/>\n",
              "    </g>\n",
              "</svg>\n",
              "      </button>\n",
              "    </div>\n",
              "\n",
              "<style>\n",
              "  .colab-df-quickchart {\n",
              "    background-color: #E8F0FE;\n",
              "    border: none;\n",
              "    border-radius: 50%;\n",
              "    cursor: pointer;\n",
              "    display: none;\n",
              "    fill: #1967D2;\n",
              "    height: 32px;\n",
              "    padding: 0 0 0 0;\n",
              "    width: 32px;\n",
              "  }\n",
              "\n",
              "  .colab-df-quickchart:hover {\n",
              "    background-color: #E2EBFA;\n",
              "    box-shadow: 0px 1px 2px rgba(60, 64, 67, 0.3), 0px 1px 3px 1px rgba(60, 64, 67, 0.15);\n",
              "    fill: #174EA6;\n",
              "  }\n",
              "\n",
              "  [theme=dark] .colab-df-quickchart {\n",
              "    background-color: #3B4455;\n",
              "    fill: #D2E3FC;\n",
              "  }\n",
              "\n",
              "  [theme=dark] .colab-df-quickchart:hover {\n",
              "    background-color: #434B5C;\n",
              "    box-shadow: 0px 1px 3px 1px rgba(0, 0, 0, 0.15);\n",
              "    filter: drop-shadow(0px 1px 2px rgba(0, 0, 0, 0.3));\n",
              "    fill: #FFFFFF;\n",
              "  }\n",
              "</style>\n",
              "\n",
              "    <script>\n",
              "      async function quickchart(key) {\n",
              "        const containerElement = document.querySelector('#' + key);\n",
              "        const charts = await google.colab.kernel.invokeFunction(\n",
              "            'suggestCharts', [key], {});\n",
              "      }\n",
              "    </script>\n",
              "\n",
              "      <script>\n",
              "\n",
              "function displayQuickchartButton(domScope) {\n",
              "  let quickchartButtonEl =\n",
              "    domScope.querySelector('#df-028c8213-d1b4-40bc-8ded-4d98d20cf245 button.colab-df-quickchart');\n",
              "  quickchartButtonEl.style.display =\n",
              "    google.colab.kernel.accessAllowed ? 'block' : 'none';\n",
              "}\n",
              "\n",
              "        displayQuickchartButton(document);\n",
              "      </script>\n",
              "      <style>\n",
              "    .colab-df-container {\n",
              "      display:flex;\n",
              "      flex-wrap:wrap;\n",
              "      gap: 12px;\n",
              "    }\n",
              "\n",
              "    .colab-df-convert {\n",
              "      background-color: #E8F0FE;\n",
              "      border: none;\n",
              "      border-radius: 50%;\n",
              "      cursor: pointer;\n",
              "      display: none;\n",
              "      fill: #1967D2;\n",
              "      height: 32px;\n",
              "      padding: 0 0 0 0;\n",
              "      width: 32px;\n",
              "    }\n",
              "\n",
              "    .colab-df-convert:hover {\n",
              "      background-color: #E2EBFA;\n",
              "      box-shadow: 0px 1px 2px rgba(60, 64, 67, 0.3), 0px 1px 3px 1px rgba(60, 64, 67, 0.15);\n",
              "      fill: #174EA6;\n",
              "    }\n",
              "\n",
              "    [theme=dark] .colab-df-convert {\n",
              "      background-color: #3B4455;\n",
              "      fill: #D2E3FC;\n",
              "    }\n",
              "\n",
              "    [theme=dark] .colab-df-convert:hover {\n",
              "      background-color: #434B5C;\n",
              "      box-shadow: 0px 1px 3px 1px rgba(0, 0, 0, 0.15);\n",
              "      filter: drop-shadow(0px 1px 2px rgba(0, 0, 0, 0.3));\n",
              "      fill: #FFFFFF;\n",
              "    }\n",
              "  </style>\n",
              "\n",
              "      <script>\n",
              "        const buttonEl =\n",
              "          document.querySelector('#df-ed45a64b-32eb-4777-9a0d-0df4f6b11cc3 button.colab-df-convert');\n",
              "        buttonEl.style.display =\n",
              "          google.colab.kernel.accessAllowed ? 'block' : 'none';\n",
              "\n",
              "        async function convertToInteractive(key) {\n",
              "          const element = document.querySelector('#df-ed45a64b-32eb-4777-9a0d-0df4f6b11cc3');\n",
              "          const dataTable =\n",
              "            await google.colab.kernel.invokeFunction('convertToInteractive',\n",
              "                                                     [key], {});\n",
              "          if (!dataTable) return;\n",
              "\n",
              "          const docLinkHtml = 'Like what you see? Visit the ' +\n",
              "            '<a target=\"_blank\" href=https://colab.research.google.com/notebooks/data_table.ipynb>data table notebook</a>'\n",
              "            + ' to learn more about interactive tables.';\n",
              "          element.innerHTML = '';\n",
              "          dataTable['output_type'] = 'display_data';\n",
              "          await google.colab.output.renderOutput(dataTable, element);\n",
              "          const docLink = document.createElement('div');\n",
              "          docLink.innerHTML = docLinkHtml;\n",
              "          element.appendChild(docLink);\n",
              "        }\n",
              "      </script>\n",
              "    </div>\n",
              "  </div>\n"
            ]
          },
          "metadata": {},
          "execution_count": 11
        }
      ]
    },
    {
      "cell_type": "code",
      "source": [
        "df['text'][0]"
      ],
      "metadata": {
        "colab": {
          "base_uri": "https://localhost:8080/",
          "height": 35
        },
        "id": "FicofO5MGUvl",
        "outputId": "bb6b044a-1afa-490b-b0aa-46a82a8e2f1d"
      },
      "execution_count": 12,
      "outputs": [
        {
          "output_type": "execute_result",
          "data": {
            "text/plain": [
              "'Vote for @MJibranNasir #PakistanElections2018 #voiceofreason #aamaadmi https://t.co/oeBPxNzAuU'"
            ],
            "application/vnd.google.colaboratory.intrinsic+json": {
              "type": "string"
            }
          },
          "metadata": {},
          "execution_count": 12
        }
      ]
    },
    {
      "cell_type": "code",
      "source": [
        "!pip install emoji"
      ],
      "metadata": {
        "colab": {
          "base_uri": "https://localhost:8080/"
        },
        "id": "Lo0qLiTn5Kvc",
        "outputId": "b9e80e74-13a9-482f-b99e-60a00ae5203c"
      },
      "execution_count": 14,
      "outputs": [
        {
          "output_type": "stream",
          "name": "stdout",
          "text": [
            "Collecting emoji\n",
            "  Downloading emoji-2.6.0.tar.gz (356 kB)\n",
            "\u001b[?25l     \u001b[90m━━━━━━━━━━━━━━━━━━━━━━━━━━━━━━━━━━━━━━━━\u001b[0m \u001b[32m0.0/356.6 kB\u001b[0m \u001b[31m?\u001b[0m eta \u001b[36m-:--:--\u001b[0m\r\u001b[2K     \u001b[91m━━━━━━━━━━━━━━━━\u001b[0m\u001b[91m╸\u001b[0m\u001b[90m━━━━━━━━━━━━━━━━━━━━━━\u001b[0m \u001b[32m153.6/356.6 kB\u001b[0m \u001b[31m4.4 MB/s\u001b[0m eta \u001b[36m0:00:01\u001b[0m\r\u001b[2K     \u001b[91m━━━━━━━━━━━━━━━━━━━━━━━━━━━━━━━━━━━━━━\u001b[0m\u001b[90m╺\u001b[0m \u001b[32m348.2/356.6 kB\u001b[0m \u001b[31m7.3 MB/s\u001b[0m eta \u001b[36m0:00:01\u001b[0m\r\u001b[2K     \u001b[90m━━━━━━━━━━━━━━━━━━━━━━━━━━━━━━━━━━━━━━━\u001b[0m \u001b[32m356.6/356.6 kB\u001b[0m \u001b[31m4.5 MB/s\u001b[0m eta \u001b[36m0:00:00\u001b[0m\n",
            "\u001b[?25h  Preparing metadata (setup.py) ... \u001b[?25l\u001b[?25hdone\n",
            "Building wheels for collected packages: emoji\n",
            "  Building wheel for emoji (setup.py) ... \u001b[?25l\u001b[?25hdone\n",
            "  Created wheel for emoji: filename=emoji-2.6.0-py2.py3-none-any.whl size=351311 sha256=7dfb3b6521586f85eab0892ae473526fa61782975a99740bb65e331f7c349141\n",
            "  Stored in directory: /root/.cache/pip/wheels/ea/0b/64/114bc939d0083621aa41521e21be246c888260b8aa21e6c1ad\n",
            "Successfully built emoji\n",
            "Installing collected packages: emoji\n",
            "Successfully installed emoji-2.6.0\n"
          ]
        }
      ]
    },
    {
      "cell_type": "code",
      "source": [
        "import re\n",
        "import emoji\n",
        "def to_lower(text):\n",
        "    return text.lower()\n",
        "def remove_punc(text):\n",
        "    return re.sub(r'[^\\w\\s]','',text)\n",
        "def remove_URL(text):\n",
        "  text = re.sub(r'https?://\\S+','',text)\n",
        "  return text\n",
        "def remove_special_characters(text):\n",
        "    no_special_characters = re.sub(r'[^A-Za-z0-9 ]+', '', text)\n",
        "    return no_special_characters\n",
        "def replace_emji(text):\n",
        "  text = emoji.demojize(text, delimiters=('', ''))\n",
        "  return text"
      ],
      "metadata": {
        "id": "1fESIKT3GUyi"
      },
      "execution_count": 15,
      "outputs": []
    },
    {
      "cell_type": "code",
      "source": [
        "df['text'] = df['text'].apply(to_lower)\n",
        "df['text'] = df['text'].apply(remove_URL)\n",
        "df['text'] = df['text'].apply(remove_punc)\n",
        "df['text'] = df['text'].apply(replace_emji)\n",
        "df['text'] = df['text'].apply(remove_special_characters)"
      ],
      "metadata": {
        "id": "dwJ2ZgyzGU0_"
      },
      "execution_count": 16,
      "outputs": []
    },
    {
      "cell_type": "code",
      "source": [
        "import nltk\n",
        "from nltk.probability import FreqDist\n",
        "from nltk.stem import WordNetLemmatizer\n",
        "from nltk.corpus import stopwords\n",
        "from nltk.stem import SnowballStemmer, PorterStemmer\n",
        "from nltk import pos_tag\n",
        "from nltk.tokenize import word_tokenize\n",
        "nltk.download('stopwords')\n",
        "nltk.download('punkt')\n",
        "nltk.download('wordnet')\n",
        "sw = stopwords.words('english')\n",
        "ps = PorterStemmer()\n",
        "wl = WordNetLemmatizer()"
      ],
      "metadata": {
        "colab": {
          "base_uri": "https://localhost:8080/"
        },
        "id": "DZ3u1szdGU3r",
        "outputId": "cb543923-4f24-4f73-baba-8e6891043d5d"
      },
      "execution_count": 17,
      "outputs": [
        {
          "output_type": "stream",
          "name": "stderr",
          "text": [
            "[nltk_data] Downloading package stopwords to /root/nltk_data...\n",
            "[nltk_data]   Unzipping corpora/stopwords.zip.\n",
            "[nltk_data] Downloading package punkt to /root/nltk_data...\n",
            "[nltk_data]   Unzipping tokenizers/punkt.zip.\n",
            "[nltk_data] Downloading package wordnet to /root/nltk_data...\n"
          ]
        }
      ]
    },
    {
      "cell_type": "code",
      "source": [
        "def tokenize_stem_lemetize(text):\n",
        "    tokens = word_tokenize(text)\n",
        "    remove_sw = [word for word in tokens if word not in sw]\n",
        "    lematize = [wl.lemmatize(word) for word in remove_sw]\n",
        "    stemmed = [ps.stem(word )for word in lematize]\n",
        "\n",
        "    return stemmed\n",
        "df['text'] = df['text'].apply(tokenize_stem_lemetize)"
      ],
      "metadata": {
        "id": "tclllqj6GU6H"
      },
      "execution_count": 18,
      "outputs": []
    },
    {
      "cell_type": "markdown",
      "source": [
        "#Sentiment analysis"
      ],
      "metadata": {
        "id": "g1UYFe0ea7KO"
      }
    },
    {
      "cell_type": "code",
      "source": [
        "import nltk\n",
        "from nltk.sentiment.vader import SentimentIntensityAnalyzer\n",
        "nltk.download('vader_lexicon')"
      ],
      "metadata": {
        "colab": {
          "base_uri": "https://localhost:8080/"
        },
        "id": "LgcXVr0lQgFq",
        "outputId": "e8d43f9f-06f4-4b7d-9313-6d89e19d24cf"
      },
      "execution_count": 19,
      "outputs": [
        {
          "output_type": "stream",
          "name": "stderr",
          "text": [
            "[nltk_data] Downloading package vader_lexicon to /root/nltk_data...\n"
          ]
        },
        {
          "output_type": "execute_result",
          "data": {
            "text/plain": [
              "True"
            ]
          },
          "metadata": {},
          "execution_count": 19
        }
      ]
    },
    {
      "cell_type": "code",
      "source": [
        "sentiment_vader = []\n",
        "def sentiment_vader(text):\n",
        "  text = ' '.join(text)\n",
        "  van = SentimentIntensityAnalyzer()\n",
        "  sntment = van.polarity_scores(text)\n",
        "  return max(sntment, key=sntment.get)\n",
        "df['sentiment vader'] = df['text'].apply(sentiment_vader)\n",
        "df.head(3)"
      ],
      "metadata": {
        "colab": {
          "base_uri": "https://localhost:8080/",
          "height": 143
        },
        "id": "ikbEm4gAQgL6",
        "outputId": "b93982cf-108c-4eec-e0fc-64b2098d55f2"
      },
      "execution_count": 20,
      "outputs": [
        {
          "output_type": "execute_result",
          "data": {
            "text/plain": [
              "                                                text sentiment vader\n",
              "0  [vote, mjibrannasir, pakistanelections2018, vo...             neu\n",
              "1  [kid, born, year, 2000, vote, time, ill, let, ...             neu\n",
              "2  [maryam, nawaz, last, messag, pmln, support, e...             neu"
            ],
            "text/html": [
              "\n",
              "\n",
              "  <div id=\"df-b4673584-fd98-4aa8-b3cc-a082e5f28e89\">\n",
              "    <div class=\"colab-df-container\">\n",
              "      <div>\n",
              "<style scoped>\n",
              "    .dataframe tbody tr th:only-of-type {\n",
              "        vertical-align: middle;\n",
              "    }\n",
              "\n",
              "    .dataframe tbody tr th {\n",
              "        vertical-align: top;\n",
              "    }\n",
              "\n",
              "    .dataframe thead th {\n",
              "        text-align: right;\n",
              "    }\n",
              "</style>\n",
              "<table border=\"1\" class=\"dataframe\">\n",
              "  <thead>\n",
              "    <tr style=\"text-align: right;\">\n",
              "      <th></th>\n",
              "      <th>text</th>\n",
              "      <th>sentiment vader</th>\n",
              "    </tr>\n",
              "  </thead>\n",
              "  <tbody>\n",
              "    <tr>\n",
              "      <th>0</th>\n",
              "      <td>[vote, mjibrannasir, pakistanelections2018, vo...</td>\n",
              "      <td>neu</td>\n",
              "    </tr>\n",
              "    <tr>\n",
              "      <th>1</th>\n",
              "      <td>[kid, born, year, 2000, vote, time, ill, let, ...</td>\n",
              "      <td>neu</td>\n",
              "    </tr>\n",
              "    <tr>\n",
              "      <th>2</th>\n",
              "      <td>[maryam, nawaz, last, messag, pmln, support, e...</td>\n",
              "      <td>neu</td>\n",
              "    </tr>\n",
              "  </tbody>\n",
              "</table>\n",
              "</div>\n",
              "      <button class=\"colab-df-convert\" onclick=\"convertToInteractive('df-b4673584-fd98-4aa8-b3cc-a082e5f28e89')\"\n",
              "              title=\"Convert this dataframe to an interactive table.\"\n",
              "              style=\"display:none;\">\n",
              "\n",
              "  <svg xmlns=\"http://www.w3.org/2000/svg\" height=\"24px\"viewBox=\"0 0 24 24\"\n",
              "       width=\"24px\">\n",
              "    <path d=\"M0 0h24v24H0V0z\" fill=\"none\"/>\n",
              "    <path d=\"M18.56 5.44l.94 2.06.94-2.06 2.06-.94-2.06-.94-.94-2.06-.94 2.06-2.06.94zm-11 1L8.5 8.5l.94-2.06 2.06-.94-2.06-.94L8.5 2.5l-.94 2.06-2.06.94zm10 10l.94 2.06.94-2.06 2.06-.94-2.06-.94-.94-2.06-.94 2.06-2.06.94z\"/><path d=\"M17.41 7.96l-1.37-1.37c-.4-.4-.92-.59-1.43-.59-.52 0-1.04.2-1.43.59L10.3 9.45l-7.72 7.72c-.78.78-.78 2.05 0 2.83L4 21.41c.39.39.9.59 1.41.59.51 0 1.02-.2 1.41-.59l7.78-7.78 2.81-2.81c.8-.78.8-2.07 0-2.86zM5.41 20L4 18.59l7.72-7.72 1.47 1.35L5.41 20z\"/>\n",
              "  </svg>\n",
              "      </button>\n",
              "\n",
              "\n",
              "\n",
              "    <div id=\"df-fc755191-90a5-429d-a4e7-b25fbcc1aae5\">\n",
              "      <button class=\"colab-df-quickchart\" onclick=\"quickchart('df-fc755191-90a5-429d-a4e7-b25fbcc1aae5')\"\n",
              "              title=\"Suggest charts.\"\n",
              "              style=\"display:none;\">\n",
              "\n",
              "<svg xmlns=\"http://www.w3.org/2000/svg\" height=\"24px\"viewBox=\"0 0 24 24\"\n",
              "     width=\"24px\">\n",
              "    <g>\n",
              "        <path d=\"M19 3H5c-1.1 0-2 .9-2 2v14c0 1.1.9 2 2 2h14c1.1 0 2-.9 2-2V5c0-1.1-.9-2-2-2zM9 17H7v-7h2v7zm4 0h-2V7h2v10zm4 0h-2v-4h2v4z\"/>\n",
              "    </g>\n",
              "</svg>\n",
              "      </button>\n",
              "    </div>\n",
              "\n",
              "<style>\n",
              "  .colab-df-quickchart {\n",
              "    background-color: #E8F0FE;\n",
              "    border: none;\n",
              "    border-radius: 50%;\n",
              "    cursor: pointer;\n",
              "    display: none;\n",
              "    fill: #1967D2;\n",
              "    height: 32px;\n",
              "    padding: 0 0 0 0;\n",
              "    width: 32px;\n",
              "  }\n",
              "\n",
              "  .colab-df-quickchart:hover {\n",
              "    background-color: #E2EBFA;\n",
              "    box-shadow: 0px 1px 2px rgba(60, 64, 67, 0.3), 0px 1px 3px 1px rgba(60, 64, 67, 0.15);\n",
              "    fill: #174EA6;\n",
              "  }\n",
              "\n",
              "  [theme=dark] .colab-df-quickchart {\n",
              "    background-color: #3B4455;\n",
              "    fill: #D2E3FC;\n",
              "  }\n",
              "\n",
              "  [theme=dark] .colab-df-quickchart:hover {\n",
              "    background-color: #434B5C;\n",
              "    box-shadow: 0px 1px 3px 1px rgba(0, 0, 0, 0.15);\n",
              "    filter: drop-shadow(0px 1px 2px rgba(0, 0, 0, 0.3));\n",
              "    fill: #FFFFFF;\n",
              "  }\n",
              "</style>\n",
              "\n",
              "    <script>\n",
              "      async function quickchart(key) {\n",
              "        const containerElement = document.querySelector('#' + key);\n",
              "        const charts = await google.colab.kernel.invokeFunction(\n",
              "            'suggestCharts', [key], {});\n",
              "      }\n",
              "    </script>\n",
              "\n",
              "      <script>\n",
              "\n",
              "function displayQuickchartButton(domScope) {\n",
              "  let quickchartButtonEl =\n",
              "    domScope.querySelector('#df-fc755191-90a5-429d-a4e7-b25fbcc1aae5 button.colab-df-quickchart');\n",
              "  quickchartButtonEl.style.display =\n",
              "    google.colab.kernel.accessAllowed ? 'block' : 'none';\n",
              "}\n",
              "\n",
              "        displayQuickchartButton(document);\n",
              "      </script>\n",
              "      <style>\n",
              "    .colab-df-container {\n",
              "      display:flex;\n",
              "      flex-wrap:wrap;\n",
              "      gap: 12px;\n",
              "    }\n",
              "\n",
              "    .colab-df-convert {\n",
              "      background-color: #E8F0FE;\n",
              "      border: none;\n",
              "      border-radius: 50%;\n",
              "      cursor: pointer;\n",
              "      display: none;\n",
              "      fill: #1967D2;\n",
              "      height: 32px;\n",
              "      padding: 0 0 0 0;\n",
              "      width: 32px;\n",
              "    }\n",
              "\n",
              "    .colab-df-convert:hover {\n",
              "      background-color: #E2EBFA;\n",
              "      box-shadow: 0px 1px 2px rgba(60, 64, 67, 0.3), 0px 1px 3px 1px rgba(60, 64, 67, 0.15);\n",
              "      fill: #174EA6;\n",
              "    }\n",
              "\n",
              "    [theme=dark] .colab-df-convert {\n",
              "      background-color: #3B4455;\n",
              "      fill: #D2E3FC;\n",
              "    }\n",
              "\n",
              "    [theme=dark] .colab-df-convert:hover {\n",
              "      background-color: #434B5C;\n",
              "      box-shadow: 0px 1px 3px 1px rgba(0, 0, 0, 0.15);\n",
              "      filter: drop-shadow(0px 1px 2px rgba(0, 0, 0, 0.3));\n",
              "      fill: #FFFFFF;\n",
              "    }\n",
              "  </style>\n",
              "\n",
              "      <script>\n",
              "        const buttonEl =\n",
              "          document.querySelector('#df-b4673584-fd98-4aa8-b3cc-a082e5f28e89 button.colab-df-convert');\n",
              "        buttonEl.style.display =\n",
              "          google.colab.kernel.accessAllowed ? 'block' : 'none';\n",
              "\n",
              "        async function convertToInteractive(key) {\n",
              "          const element = document.querySelector('#df-b4673584-fd98-4aa8-b3cc-a082e5f28e89');\n",
              "          const dataTable =\n",
              "            await google.colab.kernel.invokeFunction('convertToInteractive',\n",
              "                                                     [key], {});\n",
              "          if (!dataTable) return;\n",
              "\n",
              "          const docLinkHtml = 'Like what you see? Visit the ' +\n",
              "            '<a target=\"_blank\" href=https://colab.research.google.com/notebooks/data_table.ipynb>data table notebook</a>'\n",
              "            + ' to learn more about interactive tables.';\n",
              "          element.innerHTML = '';\n",
              "          dataTable['output_type'] = 'display_data';\n",
              "          await google.colab.output.renderOutput(dataTable, element);\n",
              "          const docLink = document.createElement('div');\n",
              "          docLink.innerHTML = docLinkHtml;\n",
              "          element.appendChild(docLink);\n",
              "        }\n",
              "      </script>\n",
              "    </div>\n",
              "  </div>\n"
            ]
          },
          "metadata": {},
          "execution_count": 20
        }
      ]
    },
    {
      "cell_type": "code",
      "source": [
        "df['sentiment vader'].value_counts()"
      ],
      "metadata": {
        "colab": {
          "base_uri": "https://localhost:8080/"
        },
        "id": "iGgZw8WsZXUv",
        "outputId": "2912e266-db5c-479e-eb2b-c83f0996cce9"
      },
      "execution_count": 21,
      "outputs": [
        {
          "output_type": "execute_result",
          "data": {
            "text/plain": [
              "neu         26309\n",
              "compound     2979\n",
              "neg           278\n",
              "pos            13\n",
              "Name: sentiment vader, dtype: int64"
            ]
          },
          "metadata": {},
          "execution_count": 21
        }
      ]
    },
    {
      "cell_type": "code",
      "source": [],
      "metadata": {
        "id": "TO_n06vwDjMv"
      },
      "execution_count": null,
      "outputs": []
    },
    {
      "cell_type": "code",
      "source": [],
      "metadata": {
        "id": "3t2K9enfDKGg"
      },
      "execution_count": null,
      "outputs": []
    },
    {
      "cell_type": "code",
      "source": [
        "import matplotlib.pyplot as plt\n",
        "\n",
        "# Sample sentiment analysis results\n",
        "sentiments = ['Positive', 'Negative', 'Neutral']\n",
        "counts = [13, 278, 26309]\n",
        "\n",
        "# Plotting the bar chart\n",
        "plt.bar(sentiments, counts)\n",
        "\n",
        "# Adding labels and title\n",
        "plt.xlabel('Sentiment')\n",
        "plt.ylabel('Count')\n",
        "plt.title('Sentiment Analysis Results')\n",
        "\n",
        "# Displaying the plot\n",
        "plt.show()\n"
      ],
      "metadata": {
        "colab": {
          "base_uri": "https://localhost:8080/",
          "height": 472
        },
        "id": "pyTejXyFQhIY",
        "outputId": "6335f0c1-129a-41cf-90f2-c1c4ea7ea1b5"
      },
      "execution_count": 22,
      "outputs": [
        {
          "output_type": "display_data",
          "data": {
            "text/plain": [
              "<Figure size 640x480 with 1 Axes>"
            ],
            "image/png": "[encoded data removed]"
          },
          "metadata": {}
        }
      ]
    },
    {
      "cell_type": "code",
      "source": [
        "from textblob import TextBlob\n",
        "\n",
        "sentiment_textblob = [] #positive --> 1 negtive-->2 netral --> 0\n",
        "\n",
        "def sentiment_TexBlob(text):\n",
        "  text = ' '.join(text)\n",
        "  # Create a TextBlob object\n",
        "  blob = TextBlob(text)\n",
        "  # Perform sentiment analysis\n",
        "  sentiment = blob.sentiment.polarity\n",
        "  if sentiment == 0.0:\n",
        "    sentiment_textblob.append(0)\n",
        "  elif sentiment < 0:\n",
        "    sentiment_textblob.append(2)\n",
        "  else:\n",
        "    sentiment_textblob.append(1)\n",
        "\n",
        "\n",
        "df['text'].apply(sentiment_TexBlob)"
      ],
      "metadata": {
        "colab": {
          "base_uri": "https://localhost:8080/"
        },
        "id": "RtZjpfvVQhLE",
        "outputId": "3ff15b4c-9439-446a-d034-838e7d451d49"
      },
      "execution_count": 23,
      "outputs": [
        {
          "output_type": "execute_result",
          "data": {
            "text/plain": [
              "0        None\n",
              "1        None\n",
              "2        None\n",
              "3        None\n",
              "4        None\n",
              "         ... \n",
              "29574    None\n",
              "29575    None\n",
              "29576    None\n",
              "29577    None\n",
              "29578    None\n",
              "Name: text, Length: 29579, dtype: object"
            ]
          },
          "metadata": {},
          "execution_count": 23
        }
      ]
    },
    {
      "cell_type": "code",
      "source": [
        "df['sentiment textblob'] = sentiment_textblob\n",
        "df.head(3)"
      ],
      "metadata": {
        "colab": {
          "base_uri": "https://localhost:8080/",
          "height": 143
        },
        "id": "lfqqHt-1QhOp",
        "outputId": "cd683593-d0d3-42a5-e2fc-6c78fca3a089"
      },
      "execution_count": 24,
      "outputs": [
        {
          "output_type": "execute_result",
          "data": {
            "text/plain": [
              "                                                text sentiment vader  \\\n",
              "0  [vote, mjibrannasir, pakistanelections2018, vo...             neu   \n",
              "1  [kid, born, year, 2000, vote, time, ill, let, ...             neu   \n",
              "2  [maryam, nawaz, last, messag, pmln, support, e...             neu   \n",
              "\n",
              "   sentiment textblob  \n",
              "0                   0  \n",
              "1                   2  \n",
              "2                   1  "
            ],
            "text/html": [
              "\n",
              "\n",
              "  <div id=\"df-de2ec255-3c08-4e7f-b409-27fd591dc6b2\">\n",
              "    <div class=\"colab-df-container\">\n",
              "      <div>\n",
              "<style scoped>\n",
              "    .dataframe tbody tr th:only-of-type {\n",
              "        vertical-align: middle;\n",
              "    }\n",
              "\n",
              "    .dataframe tbody tr th {\n",
              "        vertical-align: top;\n",
              "    }\n",
              "\n",
              "    .dataframe thead th {\n",
              "        text-align: right;\n",
              "    }\n",
              "</style>\n",
              "<table border=\"1\" class=\"dataframe\">\n",
              "  <thead>\n",
              "    <tr style=\"text-align: right;\">\n",
              "      <th></th>\n",
              "      <th>text</th>\n",
              "      <th>sentiment vader</th>\n",
              "      <th>sentiment textblob</th>\n",
              "    </tr>\n",
              "  </thead>\n",
              "  <tbody>\n",
              "    <tr>\n",
              "      <th>0</th>\n",
              "      <td>[vote, mjibrannasir, pakistanelections2018, vo...</td>\n",
              "      <td>neu</td>\n",
              "      <td>0</td>\n",
              "    </tr>\n",
              "    <tr>\n",
              "      <th>1</th>\n",
              "      <td>[kid, born, year, 2000, vote, time, ill, let, ...</td>\n",
              "      <td>neu</td>\n",
              "      <td>2</td>\n",
              "    </tr>\n",
              "    <tr>\n",
              "      <th>2</th>\n",
              "      <td>[maryam, nawaz, last, messag, pmln, support, e...</td>\n",
              "      <td>neu</td>\n",
              "      <td>1</td>\n",
              "    </tr>\n",
              "  </tbody>\n",
              "</table>\n",
              "</div>\n",
              "      <button class=\"colab-df-convert\" onclick=\"convertToInteractive('df-de2ec255-3c08-4e7f-b409-27fd591dc6b2')\"\n",
              "              title=\"Convert this dataframe to an interactive table.\"\n",
              "              style=\"display:none;\">\n",
              "\n",
              "  <svg xmlns=\"http://www.w3.org/2000/svg\" height=\"24px\"viewBox=\"0 0 24 24\"\n",
              "       width=\"24px\">\n",
              "    <path d=\"M0 0h24v24H0V0z\" fill=\"none\"/>\n",
              "    <path d=\"M18.56 5.44l.94 2.06.94-2.06 2.06-.94-2.06-.94-.94-2.06-.94 2.06-2.06.94zm-11 1L8.5 8.5l.94-2.06 2.06-.94-2.06-.94L8.5 2.5l-.94 2.06-2.06.94zm10 10l.94 2.06.94-2.06 2.06-.94-2.06-.94-.94-2.06-.94 2.06-2.06.94z\"/><path d=\"M17.41 7.96l-1.37-1.37c-.4-.4-.92-.59-1.43-.59-.52 0-1.04.2-1.43.59L10.3 9.45l-7.72 7.72c-.78.78-.78 2.05 0 2.83L4 21.41c.39.39.9.59 1.41.59.51 0 1.02-.2 1.41-.59l7.78-7.78 2.81-2.81c.8-.78.8-2.07 0-2.86zM5.41 20L4 18.59l7.72-7.72 1.47 1.35L5.41 20z\"/>\n",
              "  </svg>\n",
              "      </button>\n",
              "\n",
              "\n",
              "\n",
              "    <div id=\"df-5c4d677a-bdcd-415c-af89-c9b4ea267235\">\n",
              "      <button class=\"colab-df-quickchart\" onclick=\"quickchart('df-5c4d677a-bdcd-415c-af89-c9b4ea267235')\"\n",
              "              title=\"Suggest charts.\"\n",
              "              style=\"display:none;\">\n",
              "\n",
              "<svg xmlns=\"http://www.w3.org/2000/svg\" height=\"24px\"viewBox=\"0 0 24 24\"\n",
              "     width=\"24px\">\n",
              "    <g>\n",
              "        <path d=\"M19 3H5c-1.1 0-2 .9-2 2v14c0 1.1.9 2 2 2h14c1.1 0 2-.9 2-2V5c0-1.1-.9-2-2-2zM9 17H7v-7h2v7zm4 0h-2V7h2v10zm4 0h-2v-4h2v4z\"/>\n",
              "    </g>\n",
              "</svg>\n",
              "      </button>\n",
              "    </div>\n",
              "\n",
              "<style>\n",
              "  .colab-df-quickchart {\n",
              "    background-color: #E8F0FE;\n",
              "    border: none;\n",
              "    border-radius: 50%;\n",
              "    cursor: pointer;\n",
              "    display: none;\n",
              "    fill: #1967D2;\n",
              "    height: 32px;\n",
              "    padding: 0 0 0 0;\n",
              "    width: 32px;\n",
              "  }\n",
              "\n",
              "  .colab-df-quickchart:hover {\n",
              "    background-color: #E2EBFA;\n",
              "    box-shadow: 0px 1px 2px rgba(60, 64, 67, 0.3), 0px 1px 3px 1px rgba(60, 64, 67, 0.15);\n",
              "    fill: #174EA6;\n",
              "  }\n",
              "\n",
              "  [theme=dark] .colab-df-quickchart {\n",
              "    background-color: #3B4455;\n",
              "    fill: #D2E3FC;\n",
              "  }\n",
              "\n",
              "  [theme=dark] .colab-df-quickchart:hover {\n",
              "    background-color: #434B5C;\n",
              "    box-shadow: 0px 1px 3px 1px rgba(0, 0, 0, 0.15);\n",
              "    filter: drop-shadow(0px 1px 2px rgba(0, 0, 0, 0.3));\n",
              "    fill: #FFFFFF;\n",
              "  }\n",
              "</style>\n",
              "\n",
              "    <script>\n",
              "      async function quickchart(key) {\n",
              "        const containerElement = document.querySelector('#' + key);\n",
              "        const charts = await google.colab.kernel.invokeFunction(\n",
              "            'suggestCharts', [key], {});\n",
              "      }\n",
              "    </script>\n",
              "\n",
              "      <script>\n",
              "\n",
              "function displayQuickchartButton(domScope) {\n",
              "  let quickchartButtonEl =\n",
              "    domScope.querySelector('#df-5c4d677a-bdcd-415c-af89-c9b4ea267235 button.colab-df-quickchart');\n",
              "  quickchartButtonEl.style.display =\n",
              "    google.colab.kernel.accessAllowed ? 'block' : 'none';\n",
              "}\n",
              "\n",
              "        displayQuickchartButton(document);\n",
              "      </script>\n",
              "      <style>\n",
              "    .colab-df-container {\n",
              "      display:flex;\n",
              "      flex-wrap:wrap;\n",
              "      gap: 12px;\n",
              "    }\n",
              "\n",
              "    .colab-df-convert {\n",
              "      background-color: #E8F0FE;\n",
              "      border: none;\n",
              "      border-radius: 50%;\n",
              "      cursor: pointer;\n",
              "      display: none;\n",
              "      fill: #1967D2;\n",
              "      height: 32px;\n",
              "      padding: 0 0 0 0;\n",
              "      width: 32px;\n",
              "    }\n",
              "\n",
              "    .colab-df-convert:hover {\n",
              "      background-color: #E2EBFA;\n",
              "      box-shadow: 0px 1px 2px rgba(60, 64, 67, 0.3), 0px 1px 3px 1px rgba(60, 64, 67, 0.15);\n",
              "      fill: #174EA6;\n",
              "    }\n",
              "\n",
              "    [theme=dark] .colab-df-convert {\n",
              "      background-color: #3B4455;\n",
              "      fill: #D2E3FC;\n",
              "    }\n",
              "\n",
              "    [theme=dark] .colab-df-convert:hover {\n",
              "      background-color: #434B5C;\n",
              "      box-shadow: 0px 1px 3px 1px rgba(0, 0, 0, 0.15);\n",
              "      filter: drop-shadow(0px 1px 2px rgba(0, 0, 0, 0.3));\n",
              "      fill: #FFFFFF;\n",
              "    }\n",
              "  </style>\n",
              "\n",
              "      <script>\n",
              "        const buttonEl =\n",
              "          document.querySelector('#df-de2ec255-3c08-4e7f-b409-27fd591dc6b2 button.colab-df-convert');\n",
              "        buttonEl.style.display =\n",
              "          google.colab.kernel.accessAllowed ? 'block' : 'none';\n",
              "\n",
              "        async function convertToInteractive(key) {\n",
              "          const element = document.querySelector('#df-de2ec255-3c08-4e7f-b409-27fd591dc6b2');\n",
              "          const dataTable =\n",
              "            await google.colab.kernel.invokeFunction('convertToInteractive',\n",
              "                                                     [key], {});\n",
              "          if (!dataTable) return;\n",
              "\n",
              "          const docLinkHtml = 'Like what you see? Visit the ' +\n",
              "            '<a target=\"_blank\" href=https://colab.research.google.com/notebooks/data_table.ipynb>data table notebook</a>'\n",
              "            + ' to learn more about interactive tables.';\n",
              "          element.innerHTML = '';\n",
              "          dataTable['output_type'] = 'display_data';\n",
              "          await google.colab.output.renderOutput(dataTable, element);\n",
              "          const docLink = document.createElement('div');\n",
              "          docLink.innerHTML = docLinkHtml;\n",
              "          element.appendChild(docLink);\n",
              "        }\n",
              "      </script>\n",
              "    </div>\n",
              "  </div>\n"
            ]
          },
          "metadata": {},
          "execution_count": 24
        }
      ]
    },
    {
      "cell_type": "code",
      "source": [
        "df"
      ],
      "metadata": {
        "colab": {
          "base_uri": "https://localhost:8080/",
          "height": 423
        },
        "id": "fGqsGdkP-s4c",
        "outputId": "86fa6d09-ef30-4d2f-bdd4-aa52b4f94739"
      },
      "execution_count": 25,
      "outputs": [
        {
          "output_type": "execute_result",
          "data": {
            "text/plain": [
              "                                                    text sentiment vader  \\\n",
              "0      [vote, mjibrannasir, pakistanelections2018, vo...             neu   \n",
              "1      [kid, born, year, 2000, vote, time, ill, let, ...             neu   \n",
              "2      [maryam, nawaz, last, messag, pmln, support, e...             neu   \n",
              "3      [rt, hizbuttahrir, real, chang, word, tabde, f...             neu   \n",
              "4      [daesh, head, state, countri, dont, want, succ...             neu   \n",
              "...                                                  ...             ...   \n",
              "29574  [rt, mrazaharoon, psp, manifesto, guarante, de...             neu   \n",
              "29575  [psp, candid, ps96, korangi, sy, faizan, yasir...             neu   \n",
              "29576  [rt, pmlnpunjabpk, charg, crowd, pmln, worker,...             neu   \n",
              "29577  [rt, mrazaharoon, vote, saddam, hussain, rind,...             neu   \n",
              "29578  [rt, pmlnpunjabpk, charg, crowd, pmln, worker,...             neu   \n",
              "\n",
              "       sentiment textblob  \n",
              "0                       0  \n",
              "1                       2  \n",
              "2                       1  \n",
              "3                       1  \n",
              "4                       1  \n",
              "...                   ...  \n",
              "29574                   0  \n",
              "29575                   1  \n",
              "29576                   0  \n",
              "29577                   0  \n",
              "29578                   0  \n",
              "\n",
              "[29579 rows x 3 columns]"
            ],
            "text/html": [
              "\n",
              "\n",
              "  <div id=\"df-d2e6d221-9a3d-4444-bc88-23d694bee85a\">\n",
              "    <div class=\"colab-df-container\">\n",
              "      <div>\n",
              "<style scoped>\n",
              "    .dataframe tbody tr th:only-of-type {\n",
              "        vertical-align: middle;\n",
              "    }\n",
              "\n",
              "    .dataframe tbody tr th {\n",
              "        vertical-align: top;\n",
              "    }\n",
              "\n",
              "    .dataframe thead th {\n",
              "        text-align: right;\n",
              "    }\n",
              "</style>\n",
              "<table border=\"1\" class=\"dataframe\">\n",
              "  <thead>\n",
              "    <tr style=\"text-align: right;\">\n",
              "      <th></th>\n",
              "      <th>text</th>\n",
              "      <th>sentiment vader</th>\n",
              "      <th>sentiment textblob</th>\n",
              "    </tr>\n",
              "  </thead>\n",
              "  <tbody>\n",
              "    <tr>\n",
              "      <th>0</th>\n",
              "      <td>[vote, mjibrannasir, pakistanelections2018, vo...</td>\n",
              "      <td>neu</td>\n",
              "      <td>0</td>\n",
              "    </tr>\n",
              "    <tr>\n",
              "      <th>1</th>\n",
              "      <td>[kid, born, year, 2000, vote, time, ill, let, ...</td>\n",
              "      <td>neu</td>\n",
              "      <td>2</td>\n",
              "    </tr>\n",
              "    <tr>\n",
              "      <th>2</th>\n",
              "      <td>[maryam, nawaz, last, messag, pmln, support, e...</td>\n",
              "      <td>neu</td>\n",
              "      <td>1</td>\n",
              "    </tr>\n",
              "    <tr>\n",
              "      <th>3</th>\n",
              "      <td>[rt, hizbuttahrir, real, chang, word, tabde, f...</td>\n",
              "      <td>neu</td>\n",
              "      <td>1</td>\n",
              "    </tr>\n",
              "    <tr>\n",
              "      <th>4</th>\n",
              "      <td>[daesh, head, state, countri, dont, want, succ...</td>\n",
              "      <td>neu</td>\n",
              "      <td>1</td>\n",
              "    </tr>\n",
              "    <tr>\n",
              "      <th>...</th>\n",
              "      <td>...</td>\n",
              "      <td>...</td>\n",
              "      <td>...</td>\n",
              "    </tr>\n",
              "    <tr>\n",
              "      <th>29574</th>\n",
              "      <td>[rt, mrazaharoon, psp, manifesto, guarante, de...</td>\n",
              "      <td>neu</td>\n",
              "      <td>0</td>\n",
              "    </tr>\n",
              "    <tr>\n",
              "      <th>29575</th>\n",
              "      <td>[psp, candid, ps96, korangi, sy, faizan, yasir...</td>\n",
              "      <td>neu</td>\n",
              "      <td>1</td>\n",
              "    </tr>\n",
              "    <tr>\n",
              "      <th>29576</th>\n",
              "      <td>[rt, pmlnpunjabpk, charg, crowd, pmln, worker,...</td>\n",
              "      <td>neu</td>\n",
              "      <td>0</td>\n",
              "    </tr>\n",
              "    <tr>\n",
              "      <th>29577</th>\n",
              "      <td>[rt, mrazaharoon, vote, saddam, hussain, rind,...</td>\n",
              "      <td>neu</td>\n",
              "      <td>0</td>\n",
              "    </tr>\n",
              "    <tr>\n",
              "      <th>29578</th>\n",
              "      <td>[rt, pmlnpunjabpk, charg, crowd, pmln, worker,...</td>\n",
              "      <td>neu</td>\n",
              "      <td>0</td>\n",
              "    </tr>\n",
              "  </tbody>\n",
              "</table>\n",
              "<p>29579 rows × 3 columns</p>\n",
              "</div>\n",
              "      <button class=\"colab-df-convert\" onclick=\"convertToInteractive('df-d2e6d221-9a3d-4444-bc88-23d694bee85a')\"\n",
              "              title=\"Convert this dataframe to an interactive table.\"\n",
              "              style=\"display:none;\">\n",
              "\n",
              "  <svg xmlns=\"http://www.w3.org/2000/svg\" height=\"24px\"viewBox=\"0 0 24 24\"\n",
              "       width=\"24px\">\n",
              "    <path d=\"M0 0h24v24H0V0z\" fill=\"none\"/>\n",
              "    <path d=\"M18.56 5.44l.94 2.06.94-2.06 2.06-.94-2.06-.94-.94-2.06-.94 2.06-2.06.94zm-11 1L8.5 8.5l.94-2.06 2.06-.94-2.06-.94L8.5 2.5l-.94 2.06-2.06.94zm10 10l.94 2.06.94-2.06 2.06-.94-2.06-.94-.94-2.06-.94 2.06-2.06.94z\"/><path d=\"M17.41 7.96l-1.37-1.37c-.4-.4-.92-.59-1.43-.59-.52 0-1.04.2-1.43.59L10.3 9.45l-7.72 7.72c-.78.78-.78 2.05 0 2.83L4 21.41c.39.39.9.59 1.41.59.51 0 1.02-.2 1.41-.59l7.78-7.78 2.81-2.81c.8-.78.8-2.07 0-2.86zM5.41 20L4 18.59l7.72-7.72 1.47 1.35L5.41 20z\"/>\n",
              "  </svg>\n",
              "      </button>\n",
              "\n",
              "\n",
              "\n",
              "    <div id=\"df-235ffce2-8d17-48d4-bc79-cfc979e01021\">\n",
              "      <button class=\"colab-df-quickchart\" onclick=\"quickchart('df-235ffce2-8d17-48d4-bc79-cfc979e01021')\"\n",
              "              title=\"Suggest charts.\"\n",
              "              style=\"display:none;\">\n",
              "\n",
              "<svg xmlns=\"http://www.w3.org/2000/svg\" height=\"24px\"viewBox=\"0 0 24 24\"\n",
              "     width=\"24px\">\n",
              "    <g>\n",
              "        <path d=\"M19 3H5c-1.1 0-2 .9-2 2v14c0 1.1.9 2 2 2h14c1.1 0 2-.9 2-2V5c0-1.1-.9-2-2-2zM9 17H7v-7h2v7zm4 0h-2V7h2v10zm4 0h-2v-4h2v4z\"/>\n",
              "    </g>\n",
              "</svg>\n",
              "      </button>\n",
              "    </div>\n",
              "\n",
              "<style>\n",
              "  .colab-df-quickchart {\n",
              "    background-color: #E8F0FE;\n",
              "    border: none;\n",
              "    border-radius: 50%;\n",
              "    cursor: pointer;\n",
              "    display: none;\n",
              "    fill: #1967D2;\n",
              "    height: 32px;\n",
              "    padding: 0 0 0 0;\n",
              "    width: 32px;\n",
              "  }\n",
              "\n",
              "  .colab-df-quickchart:hover {\n",
              "    background-color: #E2EBFA;\n",
              "    box-shadow: 0px 1px 2px rgba(60, 64, 67, 0.3), 0px 1px 3px 1px rgba(60, 64, 67, 0.15);\n",
              "    fill: #174EA6;\n",
              "  }\n",
              "\n",
              "  [theme=dark] .colab-df-quickchart {\n",
              "    background-color: #3B4455;\n",
              "    fill: #D2E3FC;\n",
              "  }\n",
              "\n",
              "  [theme=dark] .colab-df-quickchart:hover {\n",
              "    background-color: #434B5C;\n",
              "    box-shadow: 0px 1px 3px 1px rgba(0, 0, 0, 0.15);\n",
              "    filter: drop-shadow(0px 1px 2px rgba(0, 0, 0, 0.3));\n",
              "    fill: #FFFFFF;\n",
              "  }\n",
              "</style>\n",
              "\n",
              "    <script>\n",
              "      async function quickchart(key) {\n",
              "        const containerElement = document.querySelector('#' + key);\n",
              "        const charts = await google.colab.kernel.invokeFunction(\n",
              "            'suggestCharts', [key], {});\n",
              "      }\n",
              "    </script>\n",
              "\n",
              "      <script>\n",
              "\n",
              "function displayQuickchartButton(domScope) {\n",
              "  let quickchartButtonEl =\n",
              "    domScope.querySelector('#df-235ffce2-8d17-48d4-bc79-cfc979e01021 button.colab-df-quickchart');\n",
              "  quickchartButtonEl.style.display =\n",
              "    google.colab.kernel.accessAllowed ? 'block' : 'none';\n",
              "}\n",
              "\n",
              "        displayQuickchartButton(document);\n",
              "      </script>\n",
              "      <style>\n",
              "    .colab-df-container {\n",
              "      display:flex;\n",
              "      flex-wrap:wrap;\n",
              "      gap: 12px;\n",
              "    }\n",
              "\n",
              "    .colab-df-convert {\n",
              "      background-color: #E8F0FE;\n",
              "      border: none;\n",
              "      border-radius: 50%;\n",
              "      cursor: pointer;\n",
              "      display: none;\n",
              "      fill: #1967D2;\n",
              "      height: 32px;\n",
              "      padding: 0 0 0 0;\n",
              "      width: 32px;\n",
              "    }\n",
              "\n",
              "    .colab-df-convert:hover {\n",
              "      background-color: #E2EBFA;\n",
              "      box-shadow: 0px 1px 2px rgba(60, 64, 67, 0.3), 0px 1px 3px 1px rgba(60, 64, 67, 0.15);\n",
              "      fill: #174EA6;\n",
              "    }\n",
              "\n",
              "    [theme=dark] .colab-df-convert {\n",
              "      background-color: #3B4455;\n",
              "      fill: #D2E3FC;\n",
              "    }\n",
              "\n",
              "    [theme=dark] .colab-df-convert:hover {\n",
              "      background-color: #434B5C;\n",
              "      box-shadow: 0px 1px 3px 1px rgba(0, 0, 0, 0.15);\n",
              "      filter: drop-shadow(0px 1px 2px rgba(0, 0, 0, 0.3));\n",
              "      fill: #FFFFFF;\n",
              "    }\n",
              "  </style>\n",
              "\n",
              "      <script>\n",
              "        const buttonEl =\n",
              "          document.querySelector('#df-d2e6d221-9a3d-4444-bc88-23d694bee85a button.colab-df-convert');\n",
              "        buttonEl.style.display =\n",
              "          google.colab.kernel.accessAllowed ? 'block' : 'none';\n",
              "\n",
              "        async function convertToInteractive(key) {\n",
              "          const element = document.querySelector('#df-d2e6d221-9a3d-4444-bc88-23d694bee85a');\n",
              "          const dataTable =\n",
              "            await google.colab.kernel.invokeFunction('convertToInteractive',\n",
              "                                                     [key], {});\n",
              "          if (!dataTable) return;\n",
              "\n",
              "          const docLinkHtml = 'Like what you see? Visit the ' +\n",
              "            '<a target=\"_blank\" href=https://colab.research.google.com/notebooks/data_table.ipynb>data table notebook</a>'\n",
              "            + ' to learn more about interactive tables.';\n",
              "          element.innerHTML = '';\n",
              "          dataTable['output_type'] = 'display_data';\n",
              "          await google.colab.output.renderOutput(dataTable, element);\n",
              "          const docLink = document.createElement('div');\n",
              "          docLink.innerHTML = docLinkHtml;\n",
              "          element.appendChild(docLink);\n",
              "        }\n",
              "      </script>\n",
              "    </div>\n",
              "  </div>\n"
            ]
          },
          "metadata": {},
          "execution_count": 25
        }
      ]
    },
    {
      "cell_type": "code",
      "source": [
        "df['sentiment textblob'].value_counts()"
      ],
      "metadata": {
        "colab": {
          "base_uri": "https://localhost:8080/"
        },
        "id": "8oEM-wokaCx5",
        "outputId": "b7a6eb81-2ec3-4595-d14d-59152e6f52ea"
      },
      "execution_count": 26,
      "outputs": [
        {
          "output_type": "execute_result",
          "data": {
            "text/plain": [
              "0    16181\n",
              "1    11044\n",
              "2     2354\n",
              "Name: sentiment textblob, dtype: int64"
            ]
          },
          "metadata": {},
          "execution_count": 26
        }
      ]
    },
    {
      "cell_type": "code",
      "source": [
        "import matplotlib.pyplot as plt\n",
        "\n",
        "# Sample sentiment analysis results\n",
        "sentiments = ['Positive', 'Negative', 'Neutral']\n",
        "counts = [11044, 2354, 16181]\n",
        "\n",
        "# Plotting the bar chart\n",
        "plt.bar(sentiments, counts)\n",
        "\n",
        "# Adding labels and title\n",
        "plt.xlabel('Sentiment')\n",
        "plt.ylabel('Count')\n",
        "plt.title('Sentiment Analysis Results')\n",
        "\n",
        "# Displaying the plot\n",
        "plt.show()\n"
      ],
      "metadata": {
        "colab": {
          "base_uri": "https://localhost:8080/",
          "height": 472
        },
        "id": "5W6tbbpmaC0n",
        "outputId": "0d2d6e98-7713-41c5-95a5-217e803f4fc8"
      },
      "execution_count": 27,
      "outputs": [
        {
          "output_type": "display_data",
          "data": {
            "text/plain": [
              "<Figure size 640x480 with 1 Axes>"
            ],
            "image/png": "[encoded data removed]"
          },
          "metadata": {}
        }
      ]
    },
    {
      "cell_type": "code",
      "source": [
        "new_df = df.drop(['sentiment vader'], axis = 1)\n",
        "new_df.head()"
      ],
      "metadata": {
        "id": "tk91qv6waYt3",
        "colab": {
          "base_uri": "https://localhost:8080/",
          "height": 206
        },
        "outputId": "556288c4-aed7-4b51-b394-08393f4d1286"
      },
      "execution_count": 28,
      "outputs": [
        {
          "output_type": "execute_result",
          "data": {
            "text/plain": [
              "                                                text  sentiment textblob\n",
              "0  [vote, mjibrannasir, pakistanelections2018, vo...                   0\n",
              "1  [kid, born, year, 2000, vote, time, ill, let, ...                   2\n",
              "2  [maryam, nawaz, last, messag, pmln, support, e...                   1\n",
              "3  [rt, hizbuttahrir, real, chang, word, tabde, f...                   1\n",
              "4  [daesh, head, state, countri, dont, want, succ...                   1"
            ],
            "text/html": [
              "\n",
              "\n",
              "  <div id=\"df-9497bcab-c0c3-4879-aa25-78179ecb2ad9\">\n",
              "    <div class=\"colab-df-container\">\n",
              "      <div>\n",
              "<style scoped>\n",
              "    .dataframe tbody tr th:only-of-type {\n",
              "        vertical-align: middle;\n",
              "    }\n",
              "\n",
              "    .dataframe tbody tr th {\n",
              "        vertical-align: top;\n",
              "    }\n",
              "\n",
              "    .dataframe thead th {\n",
              "        text-align: right;\n",
              "    }\n",
              "</style>\n",
              "<table border=\"1\" class=\"dataframe\">\n",
              "  <thead>\n",
              "    <tr style=\"text-align: right;\">\n",
              "      <th></th>\n",
              "      <th>text</th>\n",
              "      <th>sentiment textblob</th>\n",
              "    </tr>\n",
              "  </thead>\n",
              "  <tbody>\n",
              "    <tr>\n",
              "      <th>0</th>\n",
              "      <td>[vote, mjibrannasir, pakistanelections2018, vo...</td>\n",
              "      <td>0</td>\n",
              "    </tr>\n",
              "    <tr>\n",
              "      <th>1</th>\n",
              "      <td>[kid, born, year, 2000, vote, time, ill, let, ...</td>\n",
              "      <td>2</td>\n",
              "    </tr>\n",
              "    <tr>\n",
              "      <th>2</th>\n",
              "      <td>[maryam, nawaz, last, messag, pmln, support, e...</td>\n",
              "      <td>1</td>\n",
              "    </tr>\n",
              "    <tr>\n",
              "      <th>3</th>\n",
              "      <td>[rt, hizbuttahrir, real, chang, word, tabde, f...</td>\n",
              "      <td>1</td>\n",
              "    </tr>\n",
              "    <tr>\n",
              "      <th>4</th>\n",
              "      <td>[daesh, head, state, countri, dont, want, succ...</td>\n",
              "      <td>1</td>\n",
              "    </tr>\n",
              "  </tbody>\n",
              "</table>\n",
              "</div>\n",
              "      <button class=\"colab-df-convert\" onclick=\"convertToInteractive('df-9497bcab-c0c3-4879-aa25-78179ecb2ad9')\"\n",
              "              title=\"Convert this dataframe to an interactive table.\"\n",
              "              style=\"display:none;\">\n",
              "\n",
              "  <svg xmlns=\"http://www.w3.org/2000/svg\" height=\"24px\"viewBox=\"0 0 24 24\"\n",
              "       width=\"24px\">\n",
              "    <path d=\"M0 0h24v24H0V0z\" fill=\"none\"/>\n",
              "    <path d=\"M18.56 5.44l.94 2.06.94-2.06 2.06-.94-2.06-.94-.94-2.06-.94 2.06-2.06.94zm-11 1L8.5 8.5l.94-2.06 2.06-.94-2.06-.94L8.5 2.5l-.94 2.06-2.06.94zm10 10l.94 2.06.94-2.06 2.06-.94-2.06-.94-.94-2.06-.94 2.06-2.06.94z\"/><path d=\"M17.41 7.96l-1.37-1.37c-.4-.4-.92-.59-1.43-.59-.52 0-1.04.2-1.43.59L10.3 9.45l-7.72 7.72c-.78.78-.78 2.05 0 2.83L4 21.41c.39.39.9.59 1.41.59.51 0 1.02-.2 1.41-.59l7.78-7.78 2.81-2.81c.8-.78.8-2.07 0-2.86zM5.41 20L4 18.59l7.72-7.72 1.47 1.35L5.41 20z\"/>\n",
              "  </svg>\n",
              "      </button>\n",
              "\n",
              "\n",
              "\n",
              "    <div id=\"df-10e26d6d-d46c-41ec-8668-d48666d10fb0\">\n",
              "      <button class=\"colab-df-quickchart\" onclick=\"quickchart('df-10e26d6d-d46c-41ec-8668-d48666d10fb0')\"\n",
              "              title=\"Suggest charts.\"\n",
              "              style=\"display:none;\">\n",
              "\n",
              "<svg xmlns=\"http://www.w3.org/2000/svg\" height=\"24px\"viewBox=\"0 0 24 24\"\n",
              "     width=\"24px\">\n",
              "    <g>\n",
              "        <path d=\"M19 3H5c-1.1 0-2 .9-2 2v14c0 1.1.9 2 2 2h14c1.1 0 2-.9 2-2V5c0-1.1-.9-2-2-2zM9 17H7v-7h2v7zm4 0h-2V7h2v10zm4 0h-2v-4h2v4z\"/>\n",
              "    </g>\n",
              "</svg>\n",
              "      </button>\n",
              "    </div>\n",
              "\n",
              "<style>\n",
              "  .colab-df-quickchart {\n",
              "    background-color: #E8F0FE;\n",
              "    border: none;\n",
              "    border-radius: 50%;\n",
              "    cursor: pointer;\n",
              "    display: none;\n",
              "    fill: #1967D2;\n",
              "    height: 32px;\n",
              "    padding: 0 0 0 0;\n",
              "    width: 32px;\n",
              "  }\n",
              "\n",
              "  .colab-df-quickchart:hover {\n",
              "    background-color: #E2EBFA;\n",
              "    box-shadow: 0px 1px 2px rgba(60, 64, 67, 0.3), 0px 1px 3px 1px rgba(60, 64, 67, 0.15);\n",
              "    fill: #174EA6;\n",
              "  }\n",
              "\n",
              "  [theme=dark] .colab-df-quickchart {\n",
              "    background-color: #3B4455;\n",
              "    fill: #D2E3FC;\n",
              "  }\n",
              "\n",
              "  [theme=dark] .colab-df-quickchart:hover {\n",
              "    background-color: #434B5C;\n",
              "    box-shadow: 0px 1px 3px 1px rgba(0, 0, 0, 0.15);\n",
              "    filter: drop-shadow(0px 1px 2px rgba(0, 0, 0, 0.3));\n",
              "    fill: #FFFFFF;\n",
              "  }\n",
              "</style>\n",
              "\n",
              "    <script>\n",
              "      async function quickchart(key) {\n",
              "        const containerElement = document.querySelector('#' + key);\n",
              "        const charts = await google.colab.kernel.invokeFunction(\n",
              "            'suggestCharts', [key], {});\n",
              "      }\n",
              "    </script>\n",
              "\n",
              "      <script>\n",
              "\n",
              "function displayQuickchartButton(domScope) {\n",
              "  let quickchartButtonEl =\n",
              "    domScope.querySelector('#df-10e26d6d-d46c-41ec-8668-d48666d10fb0 button.colab-df-quickchart');\n",
              "  quickchartButtonEl.style.display =\n",
              "    google.colab.kernel.accessAllowed ? 'block' : 'none';\n",
              "}\n",
              "\n",
              "        displayQuickchartButton(document);\n",
              "      </script>\n",
              "      <style>\n",
              "    .colab-df-container {\n",
              "      display:flex;\n",
              "      flex-wrap:wrap;\n",
              "      gap: 12px;\n",
              "    }\n",
              "\n",
              "    .colab-df-convert {\n",
              "      background-color: #E8F0FE;\n",
              "      border: none;\n",
              "      border-radius: 50%;\n",
              "      cursor: pointer;\n",
              "      display: none;\n",
              "      fill: #1967D2;\n",
              "      height: 32px;\n",
              "      padding: 0 0 0 0;\n",
              "      width: 32px;\n",
              "    }\n",
              "\n",
              "    .colab-df-convert:hover {\n",
              "      background-color: #E2EBFA;\n",
              "      box-shadow: 0px 1px 2px rgba(60, 64, 67, 0.3), 0px 1px 3px 1px rgba(60, 64, 67, 0.15);\n",
              "      fill: #174EA6;\n",
              "    }\n",
              "\n",
              "    [theme=dark] .colab-df-convert {\n",
              "      background-color: #3B4455;\n",
              "      fill: #D2E3FC;\n",
              "    }\n",
              "\n",
              "    [theme=dark] .colab-df-convert:hover {\n",
              "      background-color: #434B5C;\n",
              "      box-shadow: 0px 1px 3px 1px rgba(0, 0, 0, 0.15);\n",
              "      filter: drop-shadow(0px 1px 2px rgba(0, 0, 0, 0.3));\n",
              "      fill: #FFFFFF;\n",
              "    }\n",
              "  </style>\n",
              "\n",
              "      <script>\n",
              "        const buttonEl =\n",
              "          document.querySelector('#df-9497bcab-c0c3-4879-aa25-78179ecb2ad9 button.colab-df-convert');\n",
              "        buttonEl.style.display =\n",
              "          google.colab.kernel.accessAllowed ? 'block' : 'none';\n",
              "\n",
              "        async function convertToInteractive(key) {\n",
              "          const element = document.querySelector('#df-9497bcab-c0c3-4879-aa25-78179ecb2ad9');\n",
              "          const dataTable =\n",
              "            await google.colab.kernel.invokeFunction('convertToInteractive',\n",
              "                                                     [key], {});\n",
              "          if (!dataTable) return;\n",
              "\n",
              "          const docLinkHtml = 'Like what you see? Visit the ' +\n",
              "            '<a target=\"_blank\" href=https://colab.research.google.com/notebooks/data_table.ipynb>data table notebook</a>'\n",
              "            + ' to learn more about interactive tables.';\n",
              "          element.innerHTML = '';\n",
              "          dataTable['output_type'] = 'display_data';\n",
              "          await google.colab.output.renderOutput(dataTable, element);\n",
              "          const docLink = document.createElement('div');\n",
              "          docLink.innerHTML = docLinkHtml;\n",
              "          element.appendChild(docLink);\n",
              "        }\n",
              "      </script>\n",
              "    </div>\n",
              "  </div>\n"
            ]
          },
          "metadata": {},
          "execution_count": 28
        }
      ]
    },
    {
      "cell_type": "markdown",
      "source": [
        "Embeddings"
      ],
      "metadata": {
        "id": "CkteJMvaEyEK"
      }
    },
    {
      "cell_type": "code",
      "source": [
        "def token_to_sent(text):\n",
        "  return ' '.join(text)\n",
        "\n",
        "\n",
        "df['text'] = df['text'].apply(token_to_sent)"
      ],
      "metadata": {
        "id": "Z52Fo24nSFgy"
      },
      "execution_count": 29,
      "outputs": []
    },
    {
      "cell_type": "code",
      "source": [
        "# Step 1: Data Preprocessing\n",
        "# Tokenize text data and create numerical representations (word embeddings)\n",
        "\n",
        "# Step 2: Data Preparation\n",
        "# Split the dataset into training and testing sets\n",
        "# Convert text data into sequences of tokenized words\n",
        "# Map sentiment labels to numerical values\n",
        "\n",
        "# Step 3: Build and Train the RNN Model\n",
        "# Design the RNN architecture with Embedding, RNN layers, and Dense layer\n",
        "# Compile the model with appropriate loss and optimizer\n",
        "# Train the model on the training data\n",
        "\n",
        "# Step 4: Evaluate the Model\n",
        "# Evaluate the model on the testing data\n",
        "# Calculate metrics like accuracy, precision, recall, F1-score\n",
        "\n",
        "# Step 5: Inference\n",
        "# Use the trained model to predict sentiment labels for new data\n"
      ],
      "metadata": {
        "id": "AHqJJeC4NYQQ"
      },
      "execution_count": null,
      "outputs": []
    },
    {
      "cell_type": "code",
      "source": [
        "df['text'][0]"
      ],
      "metadata": {
        "colab": {
          "base_uri": "https://localhost:8080/",
          "height": 35
        },
        "id": "ojCH6_yQLglk",
        "outputId": "94c41aa9-e1c4-46a9-ea13-73669d6a7164"
      },
      "execution_count": 30,
      "outputs": [
        {
          "output_type": "execute_result",
          "data": {
            "text/plain": [
              "'vote mjibrannasir pakistanelections2018 voiceofreason aamaadmi'"
            ],
            "application/vnd.google.colaboratory.intrinsic+json": {
              "type": "string"
            }
          },
          "metadata": {},
          "execution_count": 30
        }
      ]
    },
    {
      "cell_type": "code",
      "source": [
        "from keras.preprocessing.text import Tokenizer\n",
        "tokenizer = Tokenizer(oov_token='<nothing>')"
      ],
      "metadata": {
        "id": "wZ7MdgEXa395"
      },
      "execution_count": 31,
      "outputs": []
    },
    {
      "cell_type": "code",
      "source": [
        "tokenizer.fit_on_texts(df['text'])"
      ],
      "metadata": {
        "id": "M91Zb9xca4BQ"
      },
      "execution_count": 32,
      "outputs": []
    },
    {
      "cell_type": "code",
      "source": [
        "print(tokenizer.word_index)"
      ],
      "metadata": {
        "colab": {
          "base_uri": "https://localhost:8080/"
        },
        "id": "v6M2juyvTAKr",
        "outputId": "90376c98-11e0-4448-a5fa-f2ff19bde160"
      },
      "execution_count": 33,
      "outputs": [
        {
          "output_type": "stream",
          "name": "stdout",
          "text": [
            "{'<nothing>': 1, 'rt': 2, 'pakistan': 3, 'ge2018': 4, 'elect': 5, 'elections2018': 6, 'generalelections2018': 7, 'pti': 8, 'pmln': 9, 'amp': 10, 'khan': 11, 'today': 12, 'imrankhanpti': 13, 'wajskhan': 14, 'candid': 15, 'attack': 16, 'vote': 17, 'year': 18, 'win': 19, 'time': 20, 'parti': 21, 'pmlnorg': 22, 'support': 23, 'peopl': 24, 'polic': 25, 'last': 26, 'afraid': 27, 'ppp': 28, 'power': 29, 'cynthiadritchi': 30, 'two': 31, 'believ': 32, 'strong': 33, 'posit': 34, 'car': 35, 'mosqu': 36, 'polit': 37, 'stone': 38, 'noth': 39, 'pelt': 40, 'ayazsadiq122': 41, 'tear': 42, 'gass': 43, 'minaret': 44, 'trial': 45, 'campaign': 46, 'clariti': 47, 'woke': 48, 'worker': 49, 'maizahame': 50, 'day': 51, 'say': 52, 'imran': 53, 'ptioffici': 54, 'chairman': 55, 'dunyanew': 56, 'nawazsharif': 57, 'home': 58, 'five': 59, 'meet': 60, 'bushragohar': 61, 'watch': 62, 'one': 63, 'psppakistan': 64, 'punjab': 65, 'u': 66, 'ahead': 67, 'leader': 68, 'karachi': 69, 'return': 70, 'sharif': 71, 'like': 72, 'gener': 73, 'mrazaharoon': 74, '2': 75, 'show': 76, 'chicken': 77, 'presid': 78, 'educ': 79, 'corner': 80, 'present': 81, 'im': 82, 'condemn': 83, 'pmlncampaign2018': 84, 'news': 85, 'manifesto': 86, 'visit': 87, 'medium': 88, 'creat': 89, 'chick': 90, 'claim': 91, 'sy': 92, 'arrest': 93, 'lahor': 94, 'bbhuttozardari': 95, 'messag': 96, 'job': 97, 'million': 98, 'juli': 99, 'would': 100, 'right': 101, 'tv': 102, 'strongli': 103, 'ecp': 104, 'woman': 105, 'arynewsoffici': 106, '2018': 107, 'go': 108, 'journalist': 109, 'unlaw': 110, 'nervousn': 111, 'kamalpsp': 112, 'address': 113, 'armi': 114, 'offic': 115, 'pakistani': 116, 'crore': 117, 'let': 118, 'imrankhan': 119, 'tenur': 120, 'xadeejournalist': 121, 'journey': 122, 'make': 123, 'dont': 124, 'updat': 125, 'balochistan': 126, 'come': 127, 'contest': 128, 'allah': 129, 'want': 130, 'nawaz': 131, 'bilour': 132, 'anp': 133, 'kill': 134, 'zardari': 135, 'constitu': 136, 'bakhtawarbz': 137, 'taleemdo': 138, 'state': 139, 'read': 140, 'peshawar': 141, 'video': 142, 'mubashir': 143, 'chang': 144, 'injur': 145, 'part': 146, 'imam': 147, 'much': 148, 'keep': 149, 'still': 150, 'relat': 151, 'done': 152, 'see': 153, 'terrorist': 154, 'public': 155, 'shehbaz': 156, 'get': 157, 'pmlnpunjabpk': 158, 'attend': 159, 'countri': 160, 'never': 161, 'comprehens': 162, 'togeth': 163, 'along': 164, 'free': 165, 'take': 166, 'use': 167, 'nation': 168, 'voter': 169, 'everi': 170, 'muhammad': 171, 'rather': 172, 'announc': 173, 'follow': 174, 'eye': 175, 'door': 176, 'sat': 177, 'respons': 178, 'islamabad': 179, 'cooper': 180, 'su': 181, 'town': 182, 'thank': 183, 'chamber': 184, 'panopticon6': 185, 'blairit': 186, 'ummuna': 187, 'eagl': 188, 'kendal': 189, 'shame': 190, 'bless': 191, 'role': 192, 'huge': 193, '200': 194, 'issu': 195, 'iqbal': 196, 'pm': 197, 'reiter': 198, 'thenew': 199, 'start': 200, 'resid': 201, 'seem': 202, 'good': 203, 'ralli': 204, 'kamal': 205, 'code': 206, '111dead': 207, '2013': 208, 'welcom': 209, 'radiopakistan': 210, 'na249': 211, 'e': 212, 'mother': 213, 'mustafa': 214, 'mazdaki': 215, 'faisalvawdapti': 216, 'wake': 217, 'social': 218, 'poll': 219, 'run': 220, 'becom': 221, 'sheenaabidashah': 222, 'maryamnsharif': 223, 'person': 224, 'mqm': 225, 'peac': 226, 'correct': 227, 'lead': 228, 'happen': 229, 'better': 230, 'gather': 231, 'hyderabad': 232, 'first': 233, 'election2018': 234, 'kid': 235, 'dr': 236, 'question': 237, 'haroon': 238, 'institut': 239, 'uc': 240, 'govern': 241, 'l': 242, 'live': 243, 'pmlnmanifesto2018': 244, 'regard': 245, 'sinc': 246, 'alifailaan': 247, 'smubashirimam': 248, 'need': 249, 'road': 250, 'corrupt': 251, 'commiss': 252, 'special': 253, 'fair': 254, 'ahmadnoorani': 255, 'must': 256, 'alihzaidipti': 257, 'work': 258, 'tri': 259, 'love': 260, 'discuss': 261, 'na': 262, 'near': 263, 'focuss': 264, 'p': 265, 'know': 266, 'realiz': 267, 'blast': 268, 'pidgov': 269, 'per': 270, 'villag': 271, 'marvisirm': 272, 'school': 273, 'r': 274, 'best': 275, 'situat': 276, 'sindh': 277, 'three': 278, '25july2018': 279, 'shah': 280, 'martyr': 281, 'vision': 282, 'talk': 283, 'mr': 284, 'help': 285, 'nervou': 286, 'seat': 287, 'conduct': 288, 'secur': 289, 'absirfimrankhan': 290, 'next': 291, 'voteforpakistan': 292, 'develop': 293, 'elec': 294, 'parliament': 295, 'ptvnewsoffici': 296, 'exclus': 297, 'end': 298, 'thing': 299, 'pncaoffici': 300, 'militari': 301, 'former': 302, 'true': 303, 'ps111': 304, 'includ': 305, 'famou': 306, 'politician': 307, 'join': 308, 'mastung': 309, 'jalsa': 310, 'inshaallah': 311, 'plan': 312, 'appcsocialmedia': 313, 'ptimanifesto': 314, 'without': 315, 'look': 316, 'decad': 317, 'away': 318, 'pol': 319, 'femal': 320, 'boycott': 321, 'psp': 322, 'dryasirsiddiqu1': 323, '5': 324, 'made': 325, 'pleas': 326, 'around': 327, 'ik': 328, 'moiboffici': 329, 'v': 330, 'protest': 331, 'wing': 332, 'lej': 333, 'crowd': 334, 'progress': 335, 'stand': 336, 'ho': 337, '10': 338, 'great': 339, 'child': 340, 'activist': 341, 'senior': 342, 'dunyaupd': 343, 'alleg': 344, 'full': 345, 'intern': 346, 'bomb': 347, 'officialdgispr': 348, 'readi': 349, 'ahsanna78': 350, 'import': 351, 'district': 352, 'outsid': 353, 'ilmoneroon': 354, 'face': 355, 'convinc': 356, 'chief': 357, 'aseefabz': 358, 'convent': 359, 'grace': 360, 'son': 361, 'sa': 362, 'histor': 363, 'rig': 364, 'kareem': 365, 'awami': 366, 'abbottabad': 367, 'haroonbilour': 368, 'new': 369, 'place': 370, 'justic': 371, 'independ': 372, 'star': 373, 'apni': 374, 'awanm': 375, 'darta': 376, 'man': 377, 'lokvirsagov': 378, 'differ': 379, 'n': 380, 'report': 381, 'bilawalbhutto': 382, 'dawn': 383, 'histori': 384, 'remov': 385, 'took': 386, 'anpmarkaz': 387, 'alreadi': 388, 'shahe': 389, '25': 390, 'mediacellppp': 391, 'anoth': 392, 'said': 393, 'pic': 394, 'curb': 395, 'talibankhan': 396, 'offici': 397, 'convict': 398, 'upcom': 399, 'anchor': 400, 'dgispr': 401, 'wazireazamimrankhan': 402, 'perform': 403, 'na53': 404, 'campaignmuch': 405, 'utter': 406, 'memzarma': 407, 'declar': 408, 'ari': 409, 'honour': 410, 'rubbish': 411, 'oppon': 412, 'coloni': 413, 'think': 414, 'wabbasi007': 415, 'observ': 416, 'wa': 417, 'javednlaghari': 418, 'number': 419, 'ali': 420, 'korangi': 421, 'wajidqau': 422, 'word': 423, 'transpar': 424, 'crack': 425, 'sb': 426, 'minist': 427, 'other': 428, 'profession': 429, 'suspend': 430, 'given': 431, 'repli': 432, '25th': 433, 'brother': 434, 'south': 435, 'pictur': 436, 'werent': 437, 'manifesto1': 438, 'promis': 439, 'na246': 440, 'down': 441, 'megar': 442, 'placewher': 443, 'even': 444, 'govt': 445, '9': 446, 'w': 447, 'larkana': 448, '1103pm': 449, 'na127': 450, 'way': 451, 'hardli': 452, 'prepar': 453, 'except': 454, 'narow': 455, 'dailytimespak': 456, 'tharparkar': 457, 'manipu': 458, 'ask': 459, 'dead': 460, 'societi': 461, 'commun': 462, 'electioncampaign': 463, 'friday': 464, 'transmiss': 465, 'area': 466, 'sens': 467, 'bhutto': 468, 'super': 469, 'border': 470, 'mani': 471, 'beenishsaleem': 472, 'http': 473, 'h': 474, 'hope': 475, 'back': 476, 'also': 477, 'commit': 478, 'na54': 479, 'sure': 480, 'order': 481, '10th': 482, 'youth': 483, 'futur': 484, '1': 485, 'samaatv': 486, 'appeal': 487, 'date': 488, 'forc': 489, 'past': 490, 'cast': 491, 'big': 492, 'busi': 493, 'coordin': 494, 'matter': 495, 'may': 496, 'pak': 497, 'tharedualli': 498, 'build': 499, 'ps101': 500, 'kamoo': 501, 'violenc': 502, 'engin': 503, 'aftab': 504, 'aliabbaszaidi': 505, 'jhagra': 506, 'brave': 507, 'heart': 508, 'hous': 509, 'voic': 510, 'pakhtunkhwa': 511, 'arrang': 512, 'zeeshanrmemon': 513, 'assembl': 514, 'age': 515, 'leadership': 516, 'interview': 517, 'cant': 518, 'k': 519, '13thnawaz': 520, 'spookiest': 521, 'favour': 522, 'doubt': 523, 'got': 524, 'peshavar': 525, 'money': 526, 'provid': 527, 'sain': 528, '1st': 529, 'solut': 530, 'm': 531, 'sharjeelinam': 532, 'lalika79': 533, 'project': 534, 'loot': 535, 'surviv': 536, 'occur': 537, 'pull': 538, 'regist': 539, 'aim': 540, 'particip': 541, 'flagspanaflex': 542, 'council': 543, 'ahtishamqhala': 544, 'islamsalaar': 545, 'stop': 546, '49': 547, 'ra': 548, 'legendari': 549, 'saheb': 550, 'aftabiqbal7': 551, 'shamajunejo': 552, 'lot': 553, 'mushtaqghanipti': 554, 'bbhuttoza': 555, 'generalelection2018': 556, 'munazahassan': 557, 'maryam': 558, 'famili': 559, 'break': 560, 'girl': 561, 'fortun': 562, 'ladi': 563, 'na48': 564, '2nd': 565, 'critic': 566, 'g': 567, 'abdul': 568, 'isi': 569, 'ahsan': 570, 'aurangzeb': 571, 'taimurmalik': 572, 'allow': 573, 'ptina131upd': 574, 'waseembadami': 575, 'bibi': 576, 'give': 577, 'option': 578, 'sahib': 579, 'engradilaskari': 580, 'kp': 581, 'wont': 582, 'welfar': 583, 'democraci': 584, 'challeng': 585, 'jeep': 586, 'thenewsintl': 587, 'union': 588, 'na59': 589, 'play': 590, 'eueompak2018': 591, 'shadow': 592, 'father': 593, 'prime': 594, 'gfarooqi': 595, 'saimafarooq': 596, 'superstar': 597, 'ge20': 598, 'rule': 599, 'aqrabafatima': 600, 'youngest': 601, 'gem': 602, 'establish': 603, 'f': 604, 'bring': 605, 'citi': 606, 'step': 607, 'majidpsf': 608, 'prof': 609, 'billion': 610, 'inform': 611, 'elector': 612, 'mma': 613, 'terror': 614, 'safe': 615, 'implement': 616, 'ticket': 617, 'breakingnew': 618, 'genu': 619, 'ps58': 620, 'biggest': 621, 'speak': 622, 'prayer': 623, 'provinci': 624, 'recept': 625, 'saima': 626, 'educationist': 627, 'clear': 628, 'fight': 629, 'hand': 630, 'demand': 631, 'c': 632, 'nawazshairf': 633, 'voteforpti': 634, 'ps63': 635, 'na243': 636, 'compet': 637, 'shd': 638, 'dswpti': 639, 'baluchistan': 640, 'view': 641, 'thar': 642, 'beat': 643, 'till': 644, 'ssp': 645, 'level': 646, 'nighatdad': 647, 'ensur': 648, 'dawncom': 649, 'offenc': 650, 'defeat': 651, 'msg': 652, 'bhai': 653, 'program': 654, 'saeed': 655, 'ptina243karachi': 656, 'event': 657, 'system': 658, 'dg': 659, 'continu': 660, 'avenfieldrefer': 661, 'razarumi': 662, 'org': 663, 'penal': 664, 'courtingthelaw': 665, 'parent': 666, 'learn': 667, 'short': 668, 'warm': 669, 'moosa': 670, 'khatian': 671, 'hold': 672, 'team': 673, 's': 674, 'mjibrannasir': 675, '3': 676, 'votefo': 677, 'papakidollasba': 678, 'sup': 679, 'econom': 680, 'gen': 681, 'innaugr': 682, 'smuba': 683, 'ago': 684, 'statement': 685, 'na208': 686, 'wah': 687, 'everyon': 688, 'careempak': 689, 'faisal': 690, 'incid': 691, 'thousand': 692, 'qualiti': 693, 'committe': 694, 'reach': 695, 'sheikh': 696, 'possibl': 697, 'wi': 698, 'yasir': 699, '134': 700, 'truest': 701, 'account': 702, 'mind': 703, 'lose': 704, 'asif': 705, 'democrat': 706, 'lyari': 707, 'common': 708, 'point': 709, 'sane': 710, 'properti': 711, 'jail': 712, 'draw': 713, 'suicid': 714, 'trust': 715, 'shahnafisawarm': 716, 'mohbat': 717, 'kotdiji': 718, 'na130': 719, 'ps98': 720, 'success': 721, 'prepol': 722, 'target': 723, 'ideolog': 724, 'ad': 725, 'life': 726, 'swing': 727, 'strengthen': 728, 'film': 729, 'shahnafisa': 730, 'th': 731, 'ahm': 732, 'fawadchaudhri': 733, 'traitor': 734, 'glimps': 735, 'khairpur': 736, 'ptiofficiallhr': 737, 'remain': 738, 'decid': 739, 'dawnnew': 740, 'isb': 741, 'author': 742, 'field': 743, 'taliban': 744, 'provinc': 745, 'ko': 746, 'music': 747, 'lawyer': 748, 'aak0': 749, 'result': 750, 'etribun': 751, 'member': 752, 'ka': 753, 'pakdream': 754, 'ptielectioncampaig': 755, 'ajabbarkhanppp': 756, 'rural': 757, '11': 758, 'express': 759, 'repres': 760, 'fire': 761, 'well': 762, 'dark': 763, 'ga': 764, 'what': 765, 'na247': 766, 'expressnewspk': 767, 'ps107': 768, 'decis': 769, 'block': 770, 'bright': 771, 'islamkot': 772, 'major': 773, 'cmshehbaz': 774, 'pp158': 775, 'saniaaashiq': 776, 'struggl': 777, 'bashirbilour': 778, 'zeeshan': 779, 'tragedi': 780, 'arbaaz': 781, 'court': 782, 'sirajraisani': 783, 'rememb': 784, 'heartwrench': 785, 'ampshock': 786, 'problem': 787, 'ever': 788, 'final': 789, 'masood': 790, 'sensi': 791, 'vote4bap': 792, 'farooq': 793, 'sattar': 794, 'ps96': 795, 'faizan': 796, 'sir': 797, 'begin': 798, 'muslim': 799, 'fia': 800, 'nauman': 801, 'masoodnauman': 802, 'retweet': 803, 'alway': 804, 'lion': 805, 'eu': 806, 'na129': 807, 'pakelections2018': 808, 'deploy': 809, 'book': 810, 'malik': 811, 'session': 812, 'host': 813, 'betterpak': 814, 'furqantsiddiqui': 815, 'psppa': 816, 'rajaimranashrafand': 817, 'malaikasraza': 818, 'jawaidnagori': 819, 'khalilhoat': 820, 'religi': 821, 'worth': 822, 'will': 823, 'among': 824, 'bannu': 825, 'tehreek': 826, 'officialmuhammd': 827, 'syedaghappp': 828, 'quit': 829, 'nisar': 830, 'mean': 831, 'turn': 832, 'bilaw': 833, 'cut': 834, 'notic': 835, 'bashir': 836, 'suppotersofpak': 837, 'makhdoommehboob': 838, 'massiv': 839, 'arm': 840, 'mna': 841, 'reuterspakistan': 842, 'tree': 843, 'ele': 844, 'aslam': 845, 'bb': 846, 'innoc': 847, 'kpk': 848, 'faryal': 849, 'shamim': 850, 'openli': 851, 'feder': 852, 'aalizardari': 853, 'confid': 854, 'hala': 855, 'open': 856, 'bat': 857, 'talpur': 858, 'peerzamankhan': 859, 'wazireazambilaw': 860, '2018bilawalka': 861, 'charg': 862, 'boot': 863, 'ansukhera': 864, 'respect': 865, 'achiev': 866, 'due': 867, 'insafpk': 868, 'humili': 869, 'electio': 870, 'qureshi': 871, 'mission': 872, 'firdou': 873, 'twitter': 874, 'shift': 875, 'local': 876, 'sherayasheraya': 877, 'wazir': 878, 'save': 879, 'fouziahame': 880, 'scare': 881, 'criticis': 882, 'reject': 883, 'nosheen': 884, 'jatoi': 885, 'aleem': 886, 'paksarfrazbugti': 887, 'bike': 888, 'crimin': 889, 'speech': 890, 'young': 891, 'restrict': 892, 'comparison': 893, 'move': 894, 'rais': 895, 'moment': 896, 'bridg': 897, 'votefordolphin': 898, 'award': 899, 'zaman': 900, 'hafiz': 901, 'pdcmdoffici': 902, 'rehamkhan1': 903, 'case': 904, '6': 905, 'inspir': 906, 'maryamnawaz': 907, 'non': 908, 'obstruct': 909, 'electi': 910, 'mehreenzahra': 911, 'ex': 912, 'nab': 913, 'generalelect': 914, 'gain': 915, 'ps128': 916, 'transform': 917, 'adeelahmedsay': 918, 'rabta': 919, 'pppp': 920, 'spread': 921, 'feel': 922, 'activ': 923, 'form': 924, 'statu': 925, 'hussain': 926, 'kashifamirani': 927, 'ptiabsirfimrankhan': 928, 'uplift': 929, 'governance2': 930, 'yesterday': 931, 'farc': 932, 'presenc': 933, 'paki': 934, 'left': 935, 'current': 936, 'call': 937, 'anthem': 938, 'lb': 939, 'ampvic': 940, 'ge20181': 941, 'federations3': 942, 'growth4': 943, 'sever': 944, 'accord': 945, 'seen': 946, 'water': 947, 'islam': 948, 'piec': 949, 'topic': 950, 'dear': 951, 'launch': 952, 'set': 953, 'survey': 954, 'tea': 955, 'deliv': 956, 'fsnaqvi': 957, 'head': 958, 'haroonbilourshahe': 959, 'khanpakistan': 960, 'dfsmqm': 961, 'modi': 962, 'idea': 963, 'class': 964, 'rejectpti': 965, 'philosophi': 966, 'danyal': 967, 'funer': 968, 'nomin': 969, 'mml': 970, 'repeat': 971, 'bahadur': 972, 'shanghai': 973, 'ferozpur': 974, 'professor': 975, 'real': 976, 'week': 977, 'maryamnawazsharif': 978, 'fix': 979, 'b': 980, 'divis': 981, 'ameer': 982, 'credit': 983, 'bacha': 984, 'na67': 985, 'jhelumfor': 986, 'generalelections201': 987, 'generalel': 988, 'small': 989, 'mohem': 990, 'geonewsen': 991, 'videono': 992, 'saqi': 993, 'least': 994, 'choos': 995, 'felt': 996, 'civilian': 997, 'gov': 998, 'channel': 999, 'held': 1000, 'wit': 1001, 'expect': 1002, 'ter': 1003, 'world': 1004, 'tonight': 1005, 'babar': 1006, 'owaistohid': 1007, 'function': 1008, 'christian': 1009, 'pakistanelect': 1010, 'empow': 1011, 'le': 1012, 'who': 1013, 'predict': 1014, 'origin': 1015, 'junoon': 1016, 'sin': 1017, 'abbasi': 1018, 'term': 1019, 'votedolphinka': 1020, 'page': 1021, 'voteforimrankhan': 1022, 'imdurrani': 1023, 'ps102': 1024, 'shall': 1025, 'realli': 1026, 'accept': 1027, 'mastungblast': 1028, 'nojawanon': 1029, 'yahe': 1030, 'banaey': 1031, 'thewirein': 1032, 'stage': 1033, 'gave': 1034, 'produc': 1035, 'brilliant': 1036, 'voteforbat': 1037, 'deter': 1038, 'amaz': 1039, 'visith': 1040, 'verdict': 1041, 'comment': 1042, 'dha': 1043, 'amass': 1044, 'mass': 1045, 'summon': 1046, 'there': 1047, 'nawab': 1048, 'sha': 1049, 'missionislamabad': 1050, 'ha': 1051, 'ya': 1052, 'highlight': 1053, 'derabugti': 1054, '080718pti': 1055, 'majidagha': 1056, 'ispr': 1057, 'high': 1058, 'fauziakasuri': 1059, 'that': 1060, 'opinion': 1061, 'self': 1062, 'impress': 1063, 'met': 1064, 'afshanshahzadi1': 1065, 'direct': 1066, 'promo': 1067, 'protect': 1068, 'hundr': 1069, 'nayakp': 1070, 'documentari': 1071, 'naya': 1072, '171': 1073, 'lamb': 1074, 'pb10': 1075, 'saud': 1076, 'industri': 1077, 'rubinashaheen2': 1078, 'gulberg': 1079, 'whoever': 1080, 'duti': 1081, 'wala': 1082, 'na78': 1083, 'improv': 1084, 'condit': 1085, 'second': 1086, 'concern': 1087, 'involv': 1088, 'peshawarattack': 1089, 'cutacutoffici': 1090, 'kunwarkhalidyun': 1091, 'jabbar': 1092, 'put': 1093, 'total': 1094, '4': 1095, 'wonder': 1096, 'song': 1097, 'quietli': 1098, 'london': 1099, 'arifalvi': 1100, 'zoiatariq': 1101, 'khyber': 1102, 'fb': 1103, 'ps64': 1104, 'faakhir': 1105, 'faakhirmehmood': 1106, 'khuhronida': 1107, 'nawazlucki': 1108, 'makhdoom': 1109, 'mehboob': 1110, 'publicli': 1111, 'tragic': 1112, 'toward': 1113, 'minor': 1114, 'silent': 1115, 'newsonepk': 1116, 'polici': 1117, 'close': 1118, 'debat': 1119, 'share': 1120, 'chao': 1121, 'match': 1122, 'health': 1123, 'khurramamalik': 1124, 'mourn': 1125, 'difficult': 1126, 'slogan': 1127, 'sabzazaar': 1128, 'easier': 1129, 'stat': 1130, 'link': 1131, 'cover': 1132, 'india': 1133, 'akram': 1134, 'seriou': 1135, 'ki': 1136, 'presidentpmln': 1137, 'leagu': 1138, 'main': 1139, 'arif': 1140, 'pride': 1141, 'honor': 1142, 'mehran': 1143, 'bbc': 1144, 'hindi': 1145, 'challang': 1146, 'radio': 1147, 'actor': 1148, 'aijaz': 1149, 'aijazz7': 1150, 'banner': 1151, 'misogyni': 1152, 'interest': 1153, 'constitut': 1154, 'tomorrow': 1155, 'burn': 1156, 'multan': 1157, 'none': 1158, 'central': 1159, 'choic': 1160, 'raza': 1161, 'zisuleman': 1162, 'resolv': 1163, 'mqmpakistan': 1164, 'organ': 1165, 'drayeshanave': 1166, 'ammarawrit': 1167, 'na238': 1168, 'deleiv': 1169, 'thee': 1170, 'myinspirationsmbb': 1171, 'hour': 1172, 'ground': 1173, 'whole': 1174, 'basic': 1175, 'access': 1176, 'rest': 1177, 'thenat': 1178, 'ge': 1179, 'reason': 1180, 'invit': 1181, 'asfandyarkwali': 1182, 'symbol': 1183, 'milli': 1184, 'pile': 1185, 'flyingtast': 1186, 'malibh': 1187, 'shahrukhgoraya': 1188, 'notabl': 1189, 'ptige2018': 1190, 'gulistanejohar': 1191, 'pakistanelections2018': 1192, 'ride': 1193, 'courag': 1194, 'teacher': 1195, 'gillani': 1196, 'stoog': 1197, 'hang': 1198, 'cricket': 1199, 'safdar': 1200, 'round': 1201, 'therealharoon': 1202, 'ptimanifestowatch': 1203, 'gulshan': 1204, 'azharkaleri': 1205, 'sirf': 1206, 'malici': 1207, 'hage2018': 1208, 'hi': 1209, 'process': 1210, 'fact': 1211, 'servic': 1212, 'sacrific': 1213, 'night': 1214, 'oper': 1215, 'presidenti': 1216, 'alloc': 1217, 'nayapakistan': 1218, 'pledg': 1219, 'train': 1220, 'aalizardariwatch': 1221, 'ab': 1222, 'realiti': 1223, 'compaign': 1224, 'abba': 1225, 'ou': 1226, 'offend': 1227, 'salmanahm': 1228, 'goth': 1229, 'sentenc': 1230, 'siraj': 1231, 'station': 1232, 'el': 1233, 'worst': 1234, 'rawalpindi': 1235, 'farhansae': 1236, 'everyth': 1237, 'kayatrtrz': 1238, 'inshallah': 1239, 'receiv': 1240, 'avenfield': 1241, 'miss': 1242, 'highest': 1243, 'alvi': 1244, 'oneday': 1245, 'faryaltalpur': 1246, 'belief': 1247, '272': 1248, 'mpa': 1249, 'drnafisashah': 1250, 'sherysi': 1251, 'fir': 1252, 'walk': 1253, 'pp157pti': 1254, 'preval': 1255, 'halani': 1256, 'naushehro': 1257, 'feroz': 1258, 'ur': 1259, 'articl': 1260, 'care': 1261, 'blood': 1262, 'especi': 1263, 'room': 1264, 'caretak': 1265, 'scene': 1266, 'py': 1267, 'malikrohaina': 1268, 'jiyouthwomenpk': 1269, 'unveil': 1270, 'sunday': 1271, 'youthia': 1272, 'na241': 1273, 'ptio': 1274, 'alamgir': 1275, 'na243gulshaneiqb': 1276, 'equiti': 1277, 'via': 1278, 'sad': 1279, 'bap': 1280, 'doesnt': 1281, 'mobil': 1282, 'act': 1283, 'goat': 1284, 'arsalanghumman': 1285, 'fear': 1286, 'request': 1287, 'votekoizzatdo': 1288, 'aliaxhar': 1289, 'ht': 1290, 'hamza': 1291, 'serious': 1292, 'na8mediacellpppbbhuttozardari': 1293, 'momentum': 1294, 'effort': 1295, 'tha': 1296, 'beyond': 1297, 'jam': 1298, 'inaugur': 1299, 'rizwansherani44': 1300, 'hideh': 1301, 'nn': 1302, 'na131': 1303, 'enthusiasm': 1304, 'ps91': 1305, 'find': 1306, 'citizen': 1307, 'translat': 1308, 'karachina247': 1309, 'na250ps110': 1310, 'approach': 1311, 'prove': 1312, 'forward': 1313, 'habib': 1314, 'neglect': 1315, 'base': 1316, 'reutersinterview': 1317, 'deep': 1318, 'imrankha': 1319, 'pk39': 1320, 'indian': 1321, 'mm': 1322, 'mianaslamji': 1323, 'peo': 1324, 'sufi': 1325, 'bigdeb': 1326, 'zahidghanbhir': 1327, 'tahamustafv': 1328, 'rumour': 1329, 'vice': 1330, 'haroonbilourptioffici': 1331, 'atiqashahid': 1332, '35': 1333, 'abraeesppp': 1334, 'lost': 1335, 'review': 1336, 'check': 1337, 'brief': 1338, 'sourc': 1339, 'imag': 1340, 'drjmughal': 1341, 'ps112ps111': 1342, 'cand': 1343, 'ullah': 1344, 'recent': 1345, 'bahawalpur': 1346, 'farhan': 1347, 'shoot': 1348, 'umairsm93': 1349, 'facebook': 1350, 'disqualifi': 1351, 'itsayaankika': 1352, 'twodecad': 1353, 'ruleelection2018': 1354, 'lalamuneer33': 1355, 'ps110': 1356, 'eleg': 1357, 'samina': 1358, 'saminatv': 1359, 'noman': 1360, 'ayubkhosops101': 1361, 'ancholi': 1362, 'block20': 1363, '130am': 1364, 'latest': 1365, 'went': 1366, 'law': 1367, 'flag': 1368, 'understand': 1369, 'control': 1370, 'bannuattack': 1371, 'red': 1372, 'mrrazashaikh': 1373, 'card': 1374, 'pe': 1375, 'swat': 1376, 'prioriti': 1377, 'suiss': 1378, 'balanc': 1379, 'asifzardari': 1380, 'initi': 1381, 'green': 1382, 'charsadda': 1383, 'camel': 1384, 'generalelections20': 1385, 'abbasaiysha': 1386, 'rd': 1387, 'connect': 1388, 'specul': 1389, 'landi': 1390, 'bhatti': 1391, 'daribaalam': 1392, 'tweet': 1393, 'actual': 1394, 'threat': 1395, 'jipoffici': 1396, 'chanc': 1397, '8': 1398, 'agenda': 1399, 'judiciari': 1400, 'ssdopakistan': 1401, 'facil': 1402, 'di': 1403, 'infrastructur': 1404, 'empower': 1405, 'often': 1406, 'accus': 1407, '400': 1408, 'renown': 1409, 'wo': 1410, 'confirm': 1411, 'launder': 1412, 'hafizsae': 1413, 'gul': 1414, 'awp': 1415, 'izzat': 1416, 'clean': 1417, 'devic': 1418, 'generalelecti': 1419, 'khalaimakhloq': 1420, 'brin': 1421, 'sanai': 1422, 'ranani': 1423, 'umrani': 1424, 'fahadalibutt': 1425, 'cityin': 1426, 'black': 1427, 'guy': 1428, 'serv': 1429, 'religion': 1430, 'hate': 1431, 'phase': 1432, 'proper': 1433, 'month': 1434, 'wait': 1435, 'nadeemmalik': 1436, 'sympathi': 1437, 'aliahmedjutt3': 1438, 'voteforeduc': 1439, 'zardariwatch': 1440, 'eventna127elections2018': 1441, 'engr': 1442, 'extend': 1443, 'sahiba': 1444, 'ladla': 1445, 'holder': 1446, 'brot': 1447, 'ps64candid': 1448, 'wish': 1449, 'entir': 1450, 'ye': 1451, 'boy': 1452, 'hain': 1453, 'mn': 1454, 'gda': 1455, 'line': 1456, 'isnt': 1457, 'taleem': 1458, 'visibl': 1459, 'releas': 1460, 'asiffshahzad': 1461, 'discu': 1462, 'resourc': 1463, 'contagi': 1464, 'spine': 1465, 'stiffen': 1466, 'determin': 1467, 'div': 1468, 'shop': 1469, 'compaignppp': 1470, 'farhana': 1471, 'qamar': 1472, 'long': 1473, 'ban': 1474, 'select': 1475, 'sit': 1476, 'aasiaishaqu': 1477, 'faisalabad': 1478, 'st': 1479, 'aleenakhanpk': 1480, 'prison': 1481, 'separ': 1482, 'wh': 1483, 'human': 1484, 'organis': 1485, 'shahanisay': 1486, 'faiz': 1487, 'movement': 1488, 'prosper': 1489, 'frm': 1490, 'sop': 1491, 'khushia7012': 1492, 'khuhro': 1493, '72': 1494, 'mighti': 1495, 'viewpointnet': 1496, 'pp159': 1497, 'syedrezamehdi': 1498, 'daughter': 1499, 'fazal': 1500, 'explain': 1501, 'trend': 1502, '61': 1503, 'kr': 1504, 'fail': 1505, '20': 1506, 'crucial': 1507, 'jhang': 1508, 'boundari': 1509, 'light': 1510, 'sea': 1511, 'hassan': 1512, 'model': 1513, 'illegitim': 1514, 'blame': 1515, 'wow': 1516, 'conspiraci': 1517, 'electr': 1518, 'variou': 1519, 'competit': 1520, 'zeeshanrmemoncoordin': 1521, 'sharjeelmemon': 1522, 'tando': 1523, 'mahrukhqureshi': 1524, 'smbb': 1525, 'dream': 1526, 'belowfor': 1527, 'shafqatmahmood': 1528, 'drmuradpti': 1529, 'sumairajajja': 1530, 'avoid': 1531, 'cultur': 1532, 'fulli': 1533, 'shouldnt': 1534, 'street': 1535, 'al': 1536, 'pakvot': 1537, 'mandat': 1538, 'parmar': 1539, 'rashe': 1540, 'abl': 1541, 'playboy': 1542, 'wouldb': 1543, 'pakistanliber': 1544, 'thirsti': 1545, 'driver': 1546, 'outcom': 1547, '8300': 1548, 'happi': 1549, 'shoaibptipp147': 1550, 'da': 1551, 'might': 1552, 'lie': 1553, 'stake': 1554, 'thei': 1555, 'realsufyansay': 1556, 'vengeanc': 1557, 'gentlem': 1558, 'infam': 1559, 'ehtsham': 1560, 'zameer': 1561, 'sponsor': 1562, 'socal': 1563, 'anisahmedpsp': 1564, 'mmlofficialfsd': 1565, 'na240': 1566, 'messagebi': 1567, 'labbik': 1568, 'pakistanstopblasphemouscartooncontest': 1569, 'pp17': 1570, 'khi': 1571, 'islamabadge2018': 1572, 'winwindolphin': 1573, 'kind': 1574, 'environ': 1575, 'pa': 1576, 'record': 1577, 'mqmp': 1578, 'wise': 1579, 'benazir': 1580, 'baloch': 1581, 'enrol': 1582, 'increas': 1583, 'platform': 1584, 'death': 1585, '85': 1586, 'raisani': 1587, 'fispahani': 1588, 'pakistanvot': 1589, 'compromis': 1590, '60': 1591, 'dedic': 1592, 'altern': 1593, 'equal': 1594, 'sitin': 1595, 'seek': 1596, 'mamooth': 1597, 'elections2018muzaffargarhbhuttoka': 1598, 'vote4kit': 1599, 'officialdg': 1600, 'excus': 1601, 'faizanyasir1': 1602, 'zakapanhwar': 1603, 'engrsikandarha1': 1604, 'zem3284': 1605, 'shakryal': 1606, 'marinakhan': 1607, 'anashoat': 1608, 'atm': 1609, 'wrongin': 1610, 'parliamentge2018': 1611, 'puppetshow': 1612, 'inquir': 1613, 'wahid': 1614, 'machi': 1615, 'pmlnmanifesto18': 1616, 'popul': 1617, 'inde': 1618, 'senat': 1619, 'vow': 1620, 'anyon': 1621, 'someon': 1622, 'offer': 1623, 'complain': 1624, 'gujranwala': 1625, 'despit': 1626, 'complet': 1627, 'abrarulhaqpk': 1628, 'thu': 1629, 'koblerinpak': 1630, 'sheikhwaqqa': 1631, 'na115': 1632, 'qu': 1633, 'aft': 1634, 'primari': 1635, 'section': 1636, 'came': 1637, 'cri': 1638, 'urg': 1639, 'suleimanalikhan': 1640, 'lowest': 1641, 'manipul': 1642, 'alot': 1643, 'cjp': 1644, 'advert': 1645, 'complaint': 1646, 'sufis': 1647, 'extremist': 1648, 'ny': 1649, 'tahir': 1650, 'aseefa': 1651, 'pave': 1652, 'iamazmikhan': 1653, 'mmlofficial01': 1654, 'pirzada': 1655, 'ge201': 1656, 'sufism': 1657, 'oldg': 1658, 'half': 1659, 'requir': 1660, 'july25': 1661, '95': 1662, 'stay': 1663, 'count': 1664, 'donat': 1665, 'eur': 1666, 'impart': 1667, 'officeth': 1668, 'interior': 1669, 'middl': 1670, 'hai': 1671, '144': 1672, 'ch': 1673, 'nismahsultan': 1674, 'kee': 1675, 'mark': 1676, 'hame': 1677, 'peshawarblast': 1678, 'volunt': 1679, 'empti': 1680, 'puchna': 1681, 'krliya': 1682, 'iamayeshaahad': 1683, 'mastungdunyaupd': 1684, 'gaug': 1685, 'javeria': 1686, 'jud': 1687, 'north': 1688, 'valleywithin': 1689, 'valley': 1690, 'blindthey': 1691, 'numer': 1692, 'formid': 1693, 'munaza': 1694, 'press': 1695, '15': 1696, 'male': 1697, 'collabor': 1698, 'map': 1699, 'caus': 1700, 'singl': 1701, 'hat': 1702, 'abus': 1703, 'apart': 1704, 'elections20': 1705, '7': 1706, 'electionmanifesto': 1707, 'yet': 1708, 'basi': 1709, 'reorder': 1710, 'chessboard': 1711, 'zuberispeak': 1712, 'mathranisanjai': 1713, 'larg': 1714, 'salvat': 1715, 'third': 1716, 'askari': 1717, 'defi': 1718, 'photo': 1719, 'myidentitydolphin': 1720, 'votefor': 1721, 'bu': 1722, 'akbar': 1723, 'bravo': 1724, 'standard': 1725, 'appear': 1726, '2012': 1727, 'kaptaan': 1728, 'candidateswith': 1729, 'siddiqui': 1730, 'khanptimanifestowatch': 1731, 'column': 1732, 'nawazsharifverdict': 1733, 'muneebtalk': 1734, 'att': 1735, 'faryaltalpurpk': 1736, 'fayazchohanpti': 1737, 'deed': 1738, 'womenswingpsp': 1739, 'journal': 1740, 'motiv': 1741, 'mmarawalpindijalsa': 1742, 'enough': 1743, 'advoc': 1744, 'rise': 1745, 'expos': 1746, 'crisi': 1747, 'hard': 1748, 'sister': 1749, '13th': 1750, 'coverag': 1751, 'grand': 1752, 'shaikh': 1753, 'mustafakam': 1754, 'brandpmln': 1755, 'pmlnworker': 1756, 'sustain': 1757, 'deserv': 1758, 'jamkhanshoro': 1759, 'instab': 1760, 'geonewsurdu': 1761, 'kohistan': 1762, 'tandoqais': 1763, 'aur': 1764, 'sabir': 1765, '9dunyaupd': 1766, 'ahtweet': 1767, 'fransare': 1768, 'compaignna238': 1769, 'simon': 1770, 'sinekge2018pp157': 1771, 'electionsge2018': 1772, 'rabi': 1773, 'rabipirzada': 1774, 'overco': 1775, 'solidar': 1776, 'quetta': 1777, 'practic': 1778, 'netblock': 1779, 'shutdown': 1780, 'lac923224929992lahorerealest': 1781, 'deal': 1782, 'could': 1783, 'troubl': 1784, 'delay': 1785, 'ppl': 1786, 'definit': 1787, 'evolv': 1788, 'within': 1789, 'cup': 1790, 'ballaypethappana131': 1791, 'pmlnarrest': 1792, 'kpkupdat': 1793, 'mian': 1794, 'teer': 1795, 'resistfasc': 1796, 'rasheedwatch': 1797, 'beauti': 1798, 'elections2018psppakistan': 1799, 'parrallel19': 1800, 'iamyasirkhaan': 1801, 'zara': 1802, '923163909090': 1803, 'mostli': 1804, 'fahdhusain': 1805, 'kalerisajid': 1806, 'haider': 1807, 'madam': 1808, 'sentiment': 1809, 'artistinwartim': 1810, 'khadimhussain4': 1811, 'shykhmasroor': 1812, 'na129pti': 1813, 'asifhasnain': 1814, 'ayubkhoso': 1815, 'songsshar': 1816, 'tabliban': 1817, 'shabbir': 1818, '1997': 1819, 'zaheer': 1820, 'khokhar': 1821, 'grief': 1822, 'wionew': 1823, 'pg': 1824, 'four': 1825, 'individualland': 1826, 'ballot': 1827, 'network': 1828, 'awar': 1829, 'higher': 1830, 'maintain': 1831, 'sherryrehman': 1832, 'pk': 1833, 'rickshaw': 1834, 'across': 1835, 'rehamkhanautobiographi': 1836, 'battl': 1837, 'carri': 1838, 'fidashaikhppp': 1839, 'atroc': 1840, 'thestrategi': 1841, '70': 1842, 'associ': 1843, 'pml': 1844, 'thought': 1845, '3rd': 1846, 'someth': 1847, 'name': 1848, 'largest': 1849, 'didnt': 1850, 'passion': 1851, 'awam': 1852, 'na157': 1853, 'sher': 1854, 'your': 1855, 'curs': 1856, 'letseducatesba': 1857, 'treasur': 1858, 'havena247': 1859, 'vote4mmacandid': 1860, 'elections2018prid': 1861, 'mohammad': 1862, 'kazmiwajahat': 1863, 'ptikpoffici': 1864, 'khawaja': 1865, 'nazir': 1866, 'ten': 1867, 'kulsoom': 1868, 'ward': 1869, 'na242': 1870, 'footag': 1871, 'isprispr': 1872, 'kaimkhani': 1873, 'na226hyd': 1874, 'absirfimrankhanyoutub': 1875, 'fifiharoon': 1876, 'pakistanelecti': 1877, 'paper': 1878, 'internet': 1879, 'defend': 1880, 'ansukh': 1881, 'agre': 1882, 'allianc': 1883, 'kanal': 1884, 'compar': 1885, 'hazara': 1886, 'poor': 1887, 'earn': 1888, 'charact': 1889, 'junejo': 1890, 'chandanidolat': 1891, 'propert': 1892, 'fieri': 1893, '22': 1894, 'mafia': 1895, 'univers': 1896, 'oblig': 1897, 'moneylaund': 1898, 'bilal': 1899, 'god': 1900, 'rashidalimalah': 1901, 'husa': 1902, 'publish': 1903, 'led': 1904, 'injuri': 1905, 'midnight': 1906, 'koi': 1907, 'clarif': 1908, 'jahanarawattoo': 1909, 'riproar': 1910, 'affirm': 1911, 'na243pppka': 1912, 'danish': 1913, 'kiran': 1914, 'agricult': 1915, 'agricu': 1916, 'ge2018iwillvoteforbat': 1917, 'alimdar82': 1918, 'fade': 1919, 'na213': 1920, 'nawabshah': 1921, 'ill': 1922, 'sobiakhan': 1923, 'politi': 1924, 'destroy': 1925, 'convoy': 1926, 'wast': 1927, 'awgoraya': 1928, 'global': 1929, 'pakistansirajoffici': 1930, 'belov': 1931, 'tax': 1932, 'advis': 1933, '13': 1934, 'highli': 1935, 'fake': 1936, 'neither': 1937, 'influenti': 1938, 'lack': 1939, 'consid': 1940, 'wear': 1941, 'wrong': 1942, 'tell': 1943, 'voteforchang': 1944, 'islamicst': 1945, 'movi': 1946, 'friend': 1947, 'arriv': 1948, 'task': 1949, 'zulfiqar': 1950, 'ji': 1951, 'jhelum': 1952, 'sc': 1953, 'sikeenha': 1954, 'pay': 1955, 'list': 1956, 'budget': 1957, 'digit': 1958, 'dent': 1959, 'pmlnmedia': 1960, 'aswj': 1961, 'procedur': 1962, 'rehamkhan': 1963, 'known': 1964, 'chosen': 1965, 'chair': 1966, 'i': 1967, 'hniazii': 1968, 'naudero': 1969, 'adress': 1970, 'jamshediqbalch': 1971, 'endors': 1972, '2018na53': 1973, 'bhuttovot': 1974, 'engrhariss8': 1975, 'mqmboycott': 1976, 'ge2018when': 1977, 'formqmp': 1978, '1993': 1979, '12': 1980, 'talharn786': 1981, 'opposit': 1982, 'instal': 1983, 'affect': 1984, 'imagin': 1985, 'wave': 1986, 'election': 1987, 'mumtaz': 1988, 'disturb': 1989, 'scenario': 1990, 'zahidlashari15': 1991, 'liaquatshahani': 1992, 'incit': 1993, 'mraltafhussain': 1994, 'barrist': 1995, 'arbab': 1996, 'shahbaz': 1997, 'ive': 1998, 'opportun': 1999, 'hanif': 2000, 'violat': 2001, 'rahim': 2002, 'azam': 2003, '24': 2004, 'asmashirazi': 2005, 'propaganda': 2006, 'convers': 2007, 'conclud': 2008, 'qhakim': 2009, 'jokhiorabnawaz': 2010, 'ps6': 2011, 'treat': 2012, '105': 2013, 'electron': 2014, 'adi': 2015, 'city42': 2016, 'brigad': 2017, 'railway': 2018, 'site': 2019, 'uc7': 2020, 'ps62': 2021, 'sr': 2022, 'pyomalir': 2023, 'pcswpb': 2024, 'comeback': 2025, 'imrankhange2018': 2026, 'altafbh': 2027, 'game': 2028, 'preliminari': 2029, 'editori': 2030, 'key': 2031, '1973': 2032, 'avail': 2033, 'anti': 2034, 'fund': 2035, 'low': 2036, 'found': 2037, 'depart': 2038, 'se': 2039, 'ar': 2040, 'plz': 2041, 'cm': 2042, 'threaten': 2043, 'educatekhi': 2044, 'toler': 2045, 'sing': 2046, 'ps87': 2047, 'korangithi': 2048, 'entranc': 2049, 'bid': 2050, 'chacha': 2051, 'top': 2052, 'hardwork': 2053, '2014': 2054, 'dialogu': 2055, 'old': 2056, 'villeg': 2057, 'alirehmankhan': 2058, 'qualityeducationwil': 2059, 'youvoteforeducationinelections2018': 2060, 'usmanaqayyum': 2061, 'reportergeneralelections201': 2062, 'waqasamjad': 2063, 'pir': 2064, 'ayyaz': 2065, 'ameerdunyaupd': 2066, 'pur': 2067, 'nadeem': 2068, 'attn': 2069, 'altafbhai': 2070, 'creep': 2071, 'uc9': 2072, 'yar': 2073, 'ge2018just': 2074, 'truthndtruth': 2075, 'tra': 2076, 'partiescandid': 2077, '08072018pppp': 2078, 'uc92': 2079, 'revivednawaz': 2080, 'ventil': 2081, 'vote4betterkarachi': 2082, '07072018': 2083, 'strangeeyes786': 2084, 'shumailappp': 2085, 'pl': 2086, 'hung': 2087, 'fli': 2088, 'turnout': 2089, 'victim': 2090, 'celebr': 2091, 'tayyabasehar1': 2092, '251orangi': 2093, 'participat': 2094, 'troop': 2095, 'advertis': 2096, 'civil': 2097, 'data': 2098, 'hasnt': 2099, 'sukkur': 2100, 'secondari': 2101, 'suneeta': 2102, 'toll': 2103, 'extrem': 2104, 'student': 2105, 'holiday': 2106, 'colleg': 2107, 'pray': 2108, 'jo': 2109, 'indic': 2110, 'liveelections2018': 2111, 'commission': 2112, 'consult': 2113, 'paid': 2114, 'cantt': 2115, 'intro': 2116, 'sanaejaz2': 2117, 'muhammadamir30': 2118, 'bilalc': 2119, 'succeed': 2120, 'mianaslam': 2121, 'perfectli': 2122, 'maryamnsharifna127elections2018': 2123, 'mediacellppppmlnorg': 2124, 'munwarhkaleri': 2125, 'vordotcom': 2126, 'mashrafkaleri': 2127, 'juici': 2128, 'rai': 2129, 'khsaadrafiqu': 2130, 'iihtishamm': 2131, 'usgeneralelections2018': 2132, 'dayamailazulfiqar': 2133, 'humaimamalik162': 2134, 'ikon': 2135, 'loveforev': 2136, 'bachal': 2137, 'townabsirfimrank': 2138, 'malikpura': 2139, 'sobiakamalkhan': 2140, 'commentsizzatinsaafikhtiyaarjoinpsp': 2141, 'furqan': 2142, 'israr': 2143, 'jamali': 2144, 'nabi': 2145, 'bux': 2146, 'jamalige2018na2': 2147, 'pro': 2148, 'crime': 2149, 'whose': 2150, 'poster': 2151, 'hear': 2152, 'ba': 2153, 'detail': 2154, 'assassin': 2155, 'akramdurrani': 2156, 'infograph': 2157, 'mein': 2158, 'fascist': 2159, 'distanc': 2160, 'reform': 2161, 'soul': 2162, '849': 2163, 'karachiarystori': 2164, 'partabshiwani': 2165, 'drive': 2166, '44': 2167, 'sabotag': 2168, 'mistak': 2169, 'collect': 2170, 'zaid': 2171, 'laboratori': 2172, 'govtofpunjab': 2173, 'drazharaslam': 2174, 'sign': 2175, 'ptv': 2176, 'titl': 2177, 'confer': 2178, 'letter': 2179, 'secretari': 2180, 'razamari110': 2181, 'brae': 2182, 'monday': 2183, 'artist': 2184, 'pakistan70': 2185, 'indefinitelyth': 2186, 'tool': 2187, 'jokhio': 2188, 'exploit': 2189, 'votefirst': 2190, 'heard': 2191, 'votefort': 2192, 'fals': 2193, 'anjum': 2194, 'cybertoss': 2195, 'amin': 2196, 'na127elections2018': 2197, 'hv': 2198, 'bcz': 2199, 'mamoun': 2200, 'bra': 2201, 'niazmehmood88': 2202, 'hypocrisi': 2203, 'zahidluhur': 2204, 'nusho0': 2205, 'isprge2018': 2206, 'na239': 2207, 'supremecourtjustic': 2208, 'jamatuddawah': 2209, 'chowrangi': 2210, 'gulistan': 2211, 'maryamnawazpakawaitspunishmenttonsabsirfimrankha': 2212, '1130pm': 2213, 'faziljamili': 2214, 'gillanihousemc': 2215, 'na158': 2216, 'najibburki': 2217, 'die': 2218, 'danger': 2219, 'influenc': 2220, 'ngoreport': 2221, 'design': 2222, 'insid': 2223, 'assist': 2224, 'ju': 2225, 'ptielectioncampaign': 2226, 'foreign': 2227, 'focu': 2228, 'soon': 2229, 'cam': 2230, 'lacs923224929992lahorerealest': 2231, 'privat': 2232, 'couldnt': 2233, 'vot': 2234, 'fool': 2235, 'airport': 2236, 'fayyaz': 2237, '12570': 2238, '105955000': 2239, 'votersfarq': 2240, 'parey': 2241, 'co': 2242, 'shoaib': 2243, 'patwari': 2244, 'suppos': 2245, 'mesherazi': 2246, 'na60': 2247, 'group': 2248, 'wan': 2249, 'ps116': 2250, 'he': 2251, 'pyarahazara': 2252, 'pop': 2253, 'elections201': 2254, 'limit': 2255, 'general': 2256, 'puls': 2257, 'pressur': 2258, 'appreci': 2259, 'figur': 2260, 'alarm': 2261, 'uniti': 2262, 'unjust': 2263, 'hitsup': 2264, 'track': 2265, 'maximum': 2266, 'anyth': 2267, 'khalid': 2268, 'pressfreedompk': 2269, 'overcom': 2270, 'faheemkaleri': 2271, 'absolut': 2272, 'aziz': 2273, 'provis': 2274, '07': 2275, 'nobodi': 2276, 'nai': 2277, 'iamshaistalodhi': 2278, 'chana': 2279, 'chatna249': 2280, 'baldiatown': 2281, 'munsifa110': 2282, 'gopang': 2283, 'talathussain12': 2284, 'drqadri': 2285, 'compound': 2286, 'kay': 2287, '27': 2288, 'podium': 2289, 'tow': 2290, 'volum': 2291, 'besham': 2292, 'choti': 2293, 'liaqyat': 2294, 'vote4chang': 2295, 'pakelect': 2296, 'namrahkhan17': 2297, 'voteawp': 2298, 'jumma': 2299, 'jamotmahmood': 2300, 'saeedghani1': 2301, 'sasifhasnainpsp': 2302, '2018pppp': 2303, 'ps32': 2304, 'wassan': 2305, 'razi': 2306, 'progr': 2307, 'barristeraamir': 2308, 'feedback': 2309, 'manifestotv': 2310, 'husri': 2311, 'amani': 2312, 'ameeralihh': 2313, 'elev': 2314, 'coupge2018': 2315, 'ilgs2015': 2316, 'ethic': 2317, 'counter': 2318, 'disgust': 2319, 'els': 2320, 'tradit': 2321, 'jiislamabad': 2322, 'discriminationmissioni': 2323, 'shape': 2324, 'send': 2325, 'ap': 2326, 'taken': 2327, 'badin': 2328, 'bkshivan': 2329, 'fate': 2330, 'kdsindhi': 2331, 'fayyazmml': 2332, 'wazireazamimrankha': 2333, 'durrani': 2334, 'umairkazii': 2335, 'agricultur': 2336, 'insaf': 2337, 'action': 2338, 'bad': 2339, 'luck': 2340, 'impos': 2341, 'hum': 2342, 'enjoy': 2343, 'htt': 2344, 'chaudhari': 2345, 'pmlnexpos': 2346, 'ayazlatifpalijo': 2347, 'necessari': 2348, 'dunyaprogram': 2349, 'judici': 2350, 'zoiilashari': 2351, 'smben': 2352, 'aasmaqam': 2353, 'wat': 2354, 'belong': 2355, 'sajid': 2356, 'allqhakimptielections2018': 2357, 'tubasiddiqi': 2358, 'pole': 2359, 'outelections2018': 2360, 'sector': 2361, 'east': 2362, 'rent': 2363, 'ced': 2364, 'solv': 2365, 'mariyamnafee': 2366, 'allll': 2367, '67': 2368, 'digniti': 2369, 'officialisprssinlahor': 2370, 'kuch': 2371, 'speechesconvent': 2372, 'vd': 2373, 'hatch': 2374, 'todayptioffici': 2375, 'desir': 2376, 'nkmalazai': 2377, 'leadersvoteforpakistan': 2378, 'pp157': 2379, 'awamiwork': 2380, 'shoro': 2381, 'conven': 2382, 'rnbaloach': 2383, 'ranchorlin': 2384, 'dfsmqmge2018': 2385, 'pakistannayapaki': 2386, 'yousuf': 2387, 'shujaabad': 2388, 'iamnikhilnanda': 2389, 'drone': 2390, '050718ge2018': 2391, 'wiseguy112': 2392, 'sharifmaryam': 2393, 'nawazishaq': 2394, 'darcapt': 2395, 'pakistanamp': 2396, 'tabde': 2397, 'earlier': 2398, 'test': 2399, 'rate': 2400, '50': 2401, 'write': 2402, 'preelect': 2403, 'prevail': 2404, 'balochistanawamiparti': 2405, 'mansoorali': 2406, 'answer': 2407, 'drama': 2408, 'samsung97161720': 2409, 'sincer': 2410, 'syedasaba12': 2411, 'hy': 2412, 'buy': 2413, 'finish': 2414, 'popular': 2415, 'bhi': 2416, 'far': 2417, 'absirfimankhan': 2418, 'behind': 2419, 'previou': 2420, 'teerchalega': 2421, 'manag': 2422, 'circul': 2423, 'side': 2424, 'drosamasiddiqu': 2425, 'auditorium': 2426, 'matterelections2018': 2427, 'emerg': 2428, '90': 2429, 'littl': 2430, 'damag': 2431, 'pick': 2432, 'coupl': 2433, 'affair': 2434, 'elections2018taleemdo': 2435, 'estim': 2436, 'vi': 2437, 'sardar': 2438, 'higlight': 2439, 'hyderabadsyedahmedrashid': 2440, 'monitor': 2441, 'pt': 2442, 'ptioff': 2443, 'aml': 2444, 'bhagwan': 2445, 'shock': 2446, 'malhi': 2447, 'ballay': 2448, 'ghulam': 2449, '14': 2450, 'maritqhakimpti': 2451, 'med': 2452, 'formal': 2453, 'khawajanasir': 2454, 'sent': 2455, 'un': 2456, 'sab': 2457, 'demolish': 2458, 'refer': 2459, 'dare': 2460, 'scale': 2461, 'modeltownmassacr': 2462, '2008': 2463, 'uphold': 2464, 'certainli': 2465, 'sherbetterpakistan': 2466, 'addres': 2467, 'lasebella': 2468, 'oth': 2469, 'kite': 2470, 'pakelecti': 2471, 'market': 2472, 'kcci': 2473, 'west': 2474, 'maryamnfan': 2475, 'komal': 2476, 'uc37': 2477, 'naseem': 2478, 'zahra': 2479, 'aamnasarim': 2480, 'matloob': 2481, 'sareaam': 2482, '672018': 2483, 'matloobtahir': 2484, 'residencia': 2485, 'na245mq': 2486, 'umairrasheed1': 2487, 'khoja': 2488, 'na158ppp': 2489, 'foil': 2490, 'ctd': 2491, 'suo': 2492, 'moto': 2493, 'vip': 2494, 'clni': 2495, 'todaypeopl': 2496, 'dirti': 2497, 'avenfieldcas': 2498, 'fine': 2499, 'post': 2500, 'gon': 2501, 'ignor': 2502, 'controversi': 2503, 'cost': 2504, 'kashmir': 2505, 'alighori89': 2506, 'enemi': 2507, 'aliv': 2508, 'jumanshh': 2509, 'tal': 2510, 'enter': 2511, 'promot': 2512, 'gene': 2513, 'contempt': 2514, 'chose': 2515, 'thari': 2516, 'chor': 2517, 'research': 2518, 'careemfor': 2519, 'tlp': 2520, 'sirajoffici': 2521, 'educationtaleemdo': 2522, 'favorit': 2523, 'chowk': 2524, 'pakpattan': 2525, 'pp': 2526, 'interact': 2527, 'commerci': 2528, 'episod': 2529, 'shafquat': 2530, 'bites85': 2531, 'tump': 2532, '100': 2533, 'iftikhar': 2534, 'sripakistan': 2535, '17': 2536, 'air': 2537, 'honest': 2538, '2018absirfimrankhanabsirfimrankhanballaypenishanptielections2018imrankhanp': 2539, 'postpon': 2540, 'late': 2541, 'notif': 2542, 'lo': 2543, 'perspect': 2544, 'quaid': 2545, 'destabil': 2546, 'charter': 2547, 'encourag': 2548, 'peop': 2549, 'spent': 2550, 'saddamhussayn': 2551, 'misguid': 2552, 'insight': 2553, 'slow': 2554, 'ppp2018': 2555, 'abidifactor': 2556, 'avenfieldverdict': 2557, 'ahmad': 2558, 'player': 2559, 'khadim': 2560, 'electioncampaigncorn': 2561, 'juif': 2562, 'shahidmursaleen': 2563, 'naw': 2564, 'dreamofnayapakistan': 2565, 'insafiansonli': 2566, 'chain': 2567, 'viciou': 2568, 'cycl': 2569, 'hasankhalid94': 2570, 'penetratio': 2571, 'uet': 2572, 'voteptioffici': 2573, 'pmlncampaign2018generalelections201813': 2574, 'mqmpa': 2575, 'drigh': 2576, 'bazar': 2577, 'damsvoteforpakistan': 2578, 'alimirzapmlf': 2579, 'gulzar': 2580, 'electioncampaign2018': 2581, 'smubash': 2582, 'na126': 2583, 'interf': 2584, 'sahab': 2585, 'smubashir': 2586, '07072018pppp': 2587, 'climb': 2588, 'sanoberambreen': 2589, 'majidkhanpti': 2590, 'khanhous': 2591, 'hizbuttahrir': 2592, 'wishrajpoot': 2593, 'rehman': 2594, 'havent': 2595, 'suggest': 2596, 'suspici': 2597, '350k': 2598, 'ca': 2599, 'fo': 2600, 'pressuris': 2601, 'lac': 2602, 'supremaci': 2603, 'advanc': 2604, 'attempt': 2605, 'imprison': 2606, 'shaheedbenazirabad': 2607, 'longer': 2608, 'captur': 2609, 'agenc': 2610, 'contain': 2611, 'hamidmirpak': 2612, 'amen': 2613, 'rip': 2614, 'cmshehbazno': 2615, 'clash': 2616, 'scienc': 2617, 'ugaitisoch': 2618, 'bodi': 2619, 'assault': 2620, 'tiger': 2621, 'interfer': 2622, 'pemra': 2623, 'exempt': 2624, 'na1': 2625, 'mahaazr': 2626, 'phir': 2627, '21': 2628, 'saad': 2629, 'victori': 2630, 'supremo': 2631, 'bank': 2632, 'mmlgujranwala': 2633, 'frequent': 2634, 'khalidkhattak': 2635, 'introduc': 2636, 'outfit': 2637, 'casualti': 2638, 'capabl': 2639, 'aimanharoon1234': 2640, 'shirt': 2641, 'shrine': 2642, 'hade': 2643, '205': 2644, 'sweep': 2645, 'bilalfqi': 2646, 'captain': 2647, 'front': 2648, 'manifestoschool': 2649, 'emergencydecentralizationqhakimelections2018': 2650, 'corruptionso': 2651, '230': 2652, 'sadiq': 2653, 'sum': 2654, 'chajpk': 2655, 'jehlumcandid': 2656, 'draliya7': 2657, 'pound': 2658, 'muha': 2659, '78': 2660, 'balochi': 2661, 'ptihazara': 2662, 'hepat': 2663, 'na35': 2664, 'sherayasheraaya': 2665, 'generalelections2': 2666, 'fahad': 2667, 'whatsappour': 2668, 'rightpmln': 2669, 'misogynist': 2670, 'sargodha': 2671, 'ran': 2672, 'adil': 2673, 'unrest': 2674, '102': 2675, 'votevoteforpakistan': 2676, 'ps123': 2677, 'ismatshahjehan': 2678, 'chisti': 2679, 'comman': 2680, 'jamshediqbalchand': 2681, 'pp148': 2682, 'ajasim': 2683, 'uc118': 2684, 'nomine': 2685, 'pakrazakk': 2686, 'jamotmah': 2687, 'jan': 2688, 'khanvot': 2689, 'jaisa': 2690, 'waisa': 2691, 'followerstalibankhan': 2692, 'hostag': 2693, 'pakistaninshaallah': 2694, 'teerchalegavot': 2695, 'bbhuttozarda': 2696, 'cultu': 2697, 'wazireazamimrank': 2698, 'wil': 2699, 'disc': 2700, 'mention': 2701, 'confus': 2702, 'imgreenguru': 2703, 'truth': 2704, 'freedom': 2705, 'abil': 2706, 'unfortun': 2707, 'stori': 2708, 'faction': 2709, 'haq': 2710, 'occupi': 2711, 'newson': 2712, 'iqrayasmeen4': 2713, 'instead': 2714, 'oppos': 2715, 'represent': 2716, 'appoint': 2717, 'elitist': 2718, 'makhlooq': 2719, 'ceo': 2720, 'safeti': 2721, 'nawazsharifkaysathchalo': 2722, 'baglor': 2723, 'latief': 2724, 'valu': 2725, 'alert': 2726, 'collectivekhi': 2727, 'sh': 2728, 'condol': 2729, 'rain': 2730, 'faisalsubzwari': 2731, 'vo': 2732, 'mardan': 2733, 'awww': 2734, 'throwback': 2735, 'loyalti': 2736, 'rana': 2737, 'sahiw': 2738, 'educa': 2739, 'aik': 2740, 'alimusagilani': 2741, 'ldaciti': 2742, 'instruct': 2743, 'ppporg': 2744, 'tweep': 2745, '55': 2746, 'ratodero': 2747, 'assess': 2748, 'mukeshmeghwar': 2749, 'lanat': 2750, 'na61': 2751, 'rehanshafiq89': 2752, 'distribut': 2753, 'dunyaprogramspmlnorg': 2754, 'welldon': 2755, 'grab': 2756, 'deni': 2757, 'tough': 2758, 'upper': 2759, 'partner': 2760, 'saw': 2761, 'ogranis': 2762, 'war': 2763, 'forget': 2764, 'maryamnsh': 2765, 'mak': 2766, 'glad': 2767, 'iamumairamir': 2768, 'reportpemra': 2769, 'postal': 2770, 'yasirayazkhan3': 2771, 'hoorab48036021': 2772, 'haripur': 2773, 'kaleriahsan': 2774, 'mubasherlucman': 2775, 'cancer': 2776, 'hein': 2777, 'proce': 2778, 'kashaziz': 2779, 'hamazashabaz': 2780, 'jehangir': 2781, 'disrupt': 2782, 'length': 2783, 'manifestoa': 2784, 'votepmlnorg': 2785, 'khawajamasif': 2786, 'uk': 2787, 'mehmood': 2788, 'lesson': 2789, 'document': 2790, 'zaidste': 2791, 'rizwanzahid15': 2792, 'fahadshk': 2793, 'sohaib2691': 2794, 'asraghauri': 2795, 'nshaikh503': 2796, 'ziaulis35324905': 2797, 'sunita': 2798, 'hindu': 2799, 'achi': 2800, 'na226': 2801, 'electablesvoteforpakistan': 2802, 'metrovoteforpakistan': 2803, 'asay': 2804, 'voteforstar': 2805, 'garden': 2806, 'chemist': 2807, 'jiyebhutto': 2808, 'banazir': 2809, 'shere': 2810, 'pakistanth': 2811, 'wali316': 2812, 'dullu': 2813, 'khurd': 2814, 'sarwar': 2815, 'pp168': 2816, 'hali': 2817, 'zard': 2818, 'greet': 2819, 'shanti': 2820, 'nagargulshaneiqb': 2821, 'revis': 2822, 'schedulei': 2823, 'arain': 2824, 'heartfelt': 2825, 'na24': 2826, 'charsaddaii': 2827, 'prepart': 2828, 'po': 2829, 'hospit': 2830, 'wherea': 2831, 'measur': 2832, 'hashtag': 2833, 'murder': 2834, 'carv': 2835, 'suffer': 2836, 'spot': 2837, 'individu': 2838, 'taleemijirga': 2839, 'asadumar': 2840, 'submit': 2841, 'pakistanzindabad': 2842, 'peak': 2843, 'pakistankovotedo': 2844, 'raw': 2845, 'agent': 2846, 'crackdown': 2847, 'diff': 2848, 'boycot': 2849, 'graduat': 2850, 'processzuberispeak': 2851, 'overse': 2852, 'ameen': 2853, 'haripurwith': 2854, 'aspir': 2855, 'mahaazreport': 2856, 'asraamir': 2857, 'carelections2018': 2858, 'anchorlif': 2859, 'pcesaq': 2860, 'fr': 2861, 'nazimabad': 2862, 'qadri': 2863, 'educationcampgn': 2864, 'par': 2865, 'favor': 2866, 'rank': 2867, '18': 2868, 'patriot': 2869, 'whether': 2870, 'shit': 2871, 'root': 2872, 'teammpti': 2873, 'dogi': 2874, 'azizabadi': 2875, 'founder': 2876, 'malani': 2877, 'schedul': 2878, 'afford': 2879, 'bhell': 2880, 'socialmedia': 2881, 'noor': 2882, 'warn': 2883, 'awampukareyjeaybilaw': 2884, 'wall': 2885, 'skill': 2886, 'tire': 2887, 'kamran': 2888, 'transfer': 2889, 'hyderabadelect': 2890, 'tale': 2891, 'depolitic': 2892, 'bureaucraci': 2893, 'imrankhanwatch': 2894, 'agha': 2895, 'const': 2896, 'profess': 2897, 'pr': 2898, 'ongo': 2899, 'coalit': 2900, 'tgey': 2901, '7th': 2902, '131': 2903, 'rind': 2904, 'hello': 2905, '19': 2906, 'voteforbetterpakistan': 2907, 'flat': 2908, 'rhetor': 2909, 'upcomin': 2910, 'jummah': 2911, 'doungian': 2912, 'ceremoni': 2913, 'decor': 2914, 'sherpao': 2915, 'apnnewsindia': 2916, 'shutterrao': 2917, 'arrngd': 2918, 'sanob': 2919, 'wn': 2920, 'presdnt': 2921, 'ammarrashidt': 2922, 'akxpert': 2923, 'mashaguriya': 2924, 'countrybut': 2925, 'incpak': 2926, 'umeedo': 2927, 'pher': 2928, 'pura': 2929, 'utarey': 2930, 'geyps101': 2931, 'ptivideo': 2932, 'alimuhammadsa12': 2933, 'bohri': 2934, 'masjid': 2935, 'ubairkhaan': 2936, 'ps11': 2937, 'absirfimra': 2938, 'sanghaarshazia': 2939, 'addi': 2940, 'earth': 2941, 'amno0n': 2942, 'na133': 2943, 'constituencyi': 2944, 'bravepassionatesincereact': 2945, 'outlet': 2946, 'bbhuttozardarivot': 2947, 'thesindhtim': 2948, 'pspyouthw': 2949, 'psplfpak': 2950, 'localgovtsindh': 2951, 'ps47': 2952, 'ajrak': 2953, 'nurtur': 2954, 'ahmedkhantanoli': 2955, 'gross': 2956, 'bbterakaaflarukanahinth': 2957, 'passag': 2958, 'shertalathussain12ammarmasood3waseembadamijavedchofficialshazbkhanzdageoshahzadiqbaalsidrahmemo': 2959, 'anjumkiani': 2960, 'koiaurnahibussh': 2961, 'nawazsh': 2962, 'homecom': 2963, 'meltdown': 2964, 'increasingli': 2965, 'resembl': 2966, 'here': 2967, 'us': 2968, 'expens': 2969, 'almost': 2970, 'fuhrer': 2971, 'oversea': 2972, 'prevent': 2973, 'ansuk': 2974, 'probabl': 2975, 'votelo': 2976, 'yr': 2977, 'talent': 2978, 'pukhtunkhwa': 2979, 'stupid': 2980, 'elections2018tharparkar': 2981, 'proud': 2982, 'pp53': 2983, 'advers': 2984, 'versu': 2985, 'puranapakistan': 2986, 'moeednj': 2987, 'exist': 2988, 'buledi': 2989, '128': 2990, 'aqilshah': 2991, 'pakistanelection2018': 2992, 'khalai': 2993, 'morn': 2994, 'zahidgishkori': 2995, 'elit': 2996, 'immedi': 2997, 'pkpatriot1947': 2998, 'master': 2999, 'camp': 3000, 'properli': 3001, 'reportedli': 3002, 'saudbinmurtaza': 3003, 'faisalvawda': 3004, 'men': 3005, 'particular': 3006, 'particularli': 3007, 'basit7893': 3008, 'rubber': 3009, 'abid': 3010, '26th': 3011, 'strategi': 3012, 'showbizandnewz': 3013, 'jui': 3014, 'physic': 3015, 'score': 3016, 'dealedhalahor': 3017, 'product': 3018, 'bigwig': 3019, 'grant': 3020, 'retent': 3021, 'incompet': 3022, 'femin': 3023, 'similar': 3024, 'alon': 3025, 'unrepent': 3026, 'rid': 3027, 'pressfreedom': 3028, 'educationtaleemdoelections2': 3029, 'eventtaleemdo': 3030, 'iamsskoffici': 3031, 'censor': 3032, 'ala': 3033, 'blindfold': 3034, 'axactjalicas': 3035, 'gallup': 3036, 'blog': 3037, 'contribut': 3038, 'meddl': 3039, 'eve': 3040, 'ia': 3041, 'gunpoint': 3042, 'te': 3043, 'analyz': 3044, 'asset': 3045, 'mainstream': 3046, 'kot': 3047, 'jibran': 3048, 'nasir': 3049, 'whatsappelecti': 3050, 'seven': 3051, 'saaadpsp': 3052, 'cityhyderabad': 3053, 'captainsafdar': 3054, 'na62': 3055, 'gabol': 3056, 'tehreekeinsaf': 3057, 'percept': 3058, 'thick': 3059, 'thin': 3060, 'guilti': 3061, 'multibrain': 3062, 'voteback': 3063, 'warranti': 3064, 'performanceelections2018': 3065, 'allegedli': 3066, 'kurta': 3067, 'puppet': 3068, 'hayat': 3069, 'mysteri': 3070, 'letseducatekarachijipoffici': 3071, 'mmlsocialmedia': 3072, 'mohsinb71562329': 3073, 'biologist': 3074, 'layarikarachi': 3075, 'novel': 3076, 'cellsh': 3077, 'addit': 3078, 'ptiatdoffici': 3079, 'coa': 3080, 'capitaltvnew': 3081, 'pmlnmanifesto': 3082, 'devot': 3083, 'attendind': 3084, 'halfmast': 3085, 'cmh': 3086, 'mahwashajaz': 3087, 'bazatta': 3088, 'suprem': 3089, 'worldptv': 3090, 'nine': 3091, 'votemediacellppp': 3092, 'bilawalhousepk': 3093, 'fallofgodfath': 3094, 'qayyam': 3095, 'reson': 3096, 'alihuss475517': 3097, 'bnp': 3098, 'sanwalsana': 3099, 'symaqada': 3100, 'shahzadali3210': 3101, 'firstvoteforpakistan': 3102, 'faheemkhanptifk': 3103, 'loversarrestnawazsharif': 3104, 'election2k18': 3105, 'ranc': 3106, 'swabi': 3107, 'bilalshoro376': 3108, 'nandhani': 3109, '203': 3110, 'hyderabadian': 3111, 'banker': 3112, 'uc8': 3113, 'jawabdo': 3114, 'ig': 3115, 'fakharjehanpti': 3116, 'fakenew': 3117, 'tempt': 3118, 'owt': 3119, 'zabeeh': 3120, 'balaggan': 3121, 'govot': 3122, 'faheem': 3123, 'intraparti': 3124, 'toba': 3125, 'tek': 3126, 'singh': 3127, 'godil01': 3128, 'proje': 3129, 'chapter': 3130, '14335use': 3131, 'karachimeinteerchalegapresid': 3132, 'lcandid': 3133, 'violatio': 3134, 'imrank': 3135, 'barra': 3136, 'faisla': 3137, '703pm': 3138, '9pm': 3139, 'walibughio': 3140, 'jul09election2018': 3141, 'sawana': 3142, '13d2': 3143, 'zeshanmalick': 3144, 'murre': 3145, 'ge2018ps64bhutoka': 3146, 'estb': 3147, 'gambl': 3148, 'ecl': 3149, 'mindset': 3150, 'analysi': 3151, 'careem': 3152, 'chines': 3153, 'thinktank1987': 3154, 'seri': 3155, 'languag': 3156, 'violent': 3157, 'jungthink': 3158, 'wasnt': 3159, 'specif': 3160, 'appcsocialm': 3161, 'land': 3162, 'yo': 3163, 'shine': 3164, 'momentnawazsharif': 3165, 'lacallo': 3166, 'construct': 3167, 'latestupd': 3168, 'weapon': 3169, 'martialblood': 3170, 'rescu': 3171, 'aamiraltaf71': 3172, 'nawazsharifreturn': 3173, 'hey': 3174, 'gujranwalaelection2018': 3175, 'fem': 3176, 'furqanrahm': 3177, 'worri': 3178, 'pose': 3179, '34': 3180, 'adiala': 3181, 'coup': 3182, 'smc': 3183, 'shinyaqsa': 3184, 'biryan': 3185, 'doubl': 3186, 'emot': 3187, 'note': 3188, 'zainab': 3189, 'kech': 3190, 'rocket': 3191, 'de': 3192, 'drop': 3193, 'electioncommiss': 3194, 'headlin': 3195, 'obhayo': 3196, 'iamhamzaabbasi': 3197, 'art': 3198, 'taleemdoelections2018': 3199, 'cnic': 3200, '16': 3201, 'termnawaz': 3202, 'turncoat': 3203, 'reopen': 3204, 'rejectfasc': 3205, 'categor': 3206, 'considerationwhatev': 3207, 'remot': 3208, 'ironi': 3209, 'earli': 3210, 'failur': 3211, 'yousaf': 3212, 'ghansham': 3213, 'rj': 3214, 'iamkam': 3215, 'pipri': 3216, 'mmaonlyopt': 3217, 'elimin': 3218, 'andrew': 3219, 'whatsappelect': 3220, 'toilet': 3221, 'youthsideolog': 3222, 'isprofficialdgispr': 3223, 'statist': 3224, 'needi': 3225, 'freeelections2018': 3226, 'malir': 3227, 'basit': 3228, 'alishahjourno': 3229, 'bureau': 3230, 'meerabad': 3231, 'voilenc': 3232, 'factor': 3233, 'alifailaani': 3234, 'wantseducationforallsportsrecr': 3235, 'activitiestherefor': 3236, 'youthvot': 3237, 'vote4mmacan': 3238, 'enhanc': 3239, 'sharjeelin': 3240, 'teach': 3241, 'appli': 3242, 'pakistannow': 3243, 'unless': 3244, 'zubairkhanpk': 3245, 'mmlsmt': 3246, 'pndotcomofici': 3247, 'shadbegum': 3248, 'thi': 3249, 'race': 3250, 'pticandidates2018': 3251, 'rival': 3252, 'wali': 3253, 'lagharimirm': 3254, 'suit': 3255, '129': 3256, 'dynam': 3257, 'ballaypethappana13': 3258, 'mariamsmad': 3259, 'ncourierpk': 3260, 'helicopt': 3261, 'todaymahrukhhame': 3262, 'ridicul': 3263, 'chamkaofi': 3264, 'siyasat': 3265, 'rejectlaadlapolit': 3266, 'murdersrejectpti': 3267, 'resistfasci': 3268, 'insafians15': 3269, 'retweetssupport': 3270, 'kali': 3271, 'mutabadilmumkinhai': 3272, 'zofeen28': 3273, 'thirdpol': 3274, 'parast': 3275, 'waje': 3276, 'loos': 3277, 'steer': 3278, 'mileag': 3279, 'hurdl': 3280, 'dir': 3281, 'underwayps98': 3282, 'mobilis': 3283, 'awpisbrwp': 3284, 'alitariqmirza': 3285, 'mohsinzaidi18': 3286, 'faisalkp': 3287, 'sahb': 3288, 'ps130': 3289, 'bakhta': 3290, 'cherat': 3291, 'nowshera': 3292, 'voteforanp': 3293, 'uc15': 3294, 'khichi': 3295, 'muhalla': 3296, 'gulshaneiqb': 3297, 'planinshallah': 3298, 'asma': 3299, 'supportge2018': 3300, 'ajmaljami': 3301, 'anaylz': 3302, 'ordersshuffl': 3303, 'aahadbaloch': 3304, 'uc23': 3305, 'kulyariabsirfimrankhan': 3306, 'farhatullahbabar': 3307, 'beenishjav': 3308, 'outsourc': 3309, 'democlub': 3310, 'informatio': 3311, 'haiderzqureshi': 3312, 'na152vot': 3313, 'belour': 3314, 'pp167': 3315, 'wale': 3316, 'ptiwpoffici': 3317, 'kharral': 3318, 'dhoraji': 3319, 'wordsaccount': 3320, 'qasimabad': 3321, 'musa': 3322, 'kaiyan': 3323, 'ptipeshawar': 3324, 'gmjamali': 3325, 'abbasahmad5': 3326, 'rupe': 3327, 'curiou': 3328, 'inclus': 3329, 'assur': 3330, 'reveal': 3331, 'blasphemi': 3332, 'facilit': 3333, 'wipe': 3334, 'implic': 3335, 'judgement': 3336, 'fanat': 3337, 'feudal': 3338, 'websit': 3339, 'destini': 3340, '50k': 3341, 'votekoi': 3342, 'nacta': 3343, 'palwashakhan18': 3344, '002': 3345, '210': 3346, 'ag': 3347, 'children': 3348, 'daili': 3349, 'mrnasirgujjar': 3350, 'narr': 3351, 'filesaffi': 3352, 'shahbazsharif': 3353, 'illeg': 3354, 'altafhussain': 3355, 'frontlinekamran': 3356, 'blackout': 3357, 'later': 3358, '130718pk39': 3359, 'absirfimrankh': 3360, 'growth': 3361, 'landscap': 3362, 'girlseduc': 3363, 'tharpa': 3364, 'focus': 3365, 'truli': 3366, 'aamirliaquat': 3367, 'ponder': 3368, 'bang': 3369, 'strictli': 3370, 'ec': 3371, 'cuz': 3372, 'whn': 3373, 'shkhrashe': 3374, 'gone': 3375, 'fellow': 3376, 'rizvi': 3377, 'either': 3378, 'haqsmus': 3379, 'hue': 3380, 'nearbi': 3381, 'hell': 3382, 'principl': 3383, 'fre': 3384, 'mominakhawar': 3385, 'censorship': 3386, 'pass': 3387, 'exactli': 3388, 'fill': 3389, 'util': 3390, 'debt': 3391, 'murtazappp': 3392, 'mariamjamali': 3393, '1999': 3394, 'dam': 3395, 'syedashehlaraza': 3396, 'demonstr': 3397, 'unit': 3398, 'shehreeen': 3399, 'roar': 3400, 'portal': 3401, 'aajeeldar': 3402, 'mahaazrep': 3403, 'tanzeelvistro': 3404, 'credibl': 3405, 'harmoni': 3406, 'nadeemmalikl': 3407, 'arrestcjp': 3408, 'sackgenfaizhame': 3409, 'thatta': 3410, 'derail': 3411, 'remind': 3412, 'insha': 3413, '371000': 3414, 'guard': 3415, 'alikhan1611': 3416, 'flaw': 3417, 'fahimah22524618': 3418, 'fauziakasu': 3419, 'blastpidgov': 3420, 'erphanfays': 3421, 'upon': 3422, 'pakarmi': 3423, 'shareef': 3424, 'choiceand': 3425, 'benefit': 3426, 'sort': 3427, 'stanc': 3428, 'feed': 3429, 'waseembadamifrom': 3430, 'constantli': 3431, '30': 3432, 'breakingheavi': 3433, 'turbat': 3434, 'rocketssever': 3435, 'sick': 3436, 'element': 3437, 'nabil': 3438, 'karachielections2018': 3439, 'experienc': 3440, 'elections2018door': 3441, '123': 3442, 'noelectionsinbalochistanselect': 3443, 'moeed': 3444, 'pirzadawatch': 3445, 'goal': 3446, 'zubairk80689992': 3447, 'naofpakistan': 3448, 'wher': 3449, 'livlovepakistan': 3450, 'avienf': 3451, '2018the': 3452, 'officialmqm': 3453, 'karim': 3454, 'na236': 3455, 'hyderabadilmoneroon': 3456, 'evid': 3457, 'amir': 3458, 'tog': 3459, 'alhamdulillah': 3460, 'institutionselection2018': 3461, 'mahfoozyarkhan': 3462, 'na256': 3463, 'supremecourt': 3464, 'qaumiwatanparti': 3465, 'chant': 3466, 'coward': 3467, 'sagheer': 3468, 'bytesforal': 3469, 'takeov': 3470, 'bastard': 3471, 'haramkhor': 3472, 'neck': 3473, 'sidrasaboor': 3474, 'ignit': 3475, 'absirfim': 3476, 'satellit': 3477, 'afsandyar': 3478, 'threatthos': 3479, 'okay': 3480, 'city21khi': 3481, 'du': 3482, 'akbarah': 3483, 'tore': 3484, 'poin': 3485, 'nobl': 3486, 'aggress': 3487, 'timergara': 3488, 'although': 3489, 'na239absirf': 3490, 'congratul': 3491, 'bazargood': 3492, 'mmlalhamdullilahelection2018voteforpakistan': 3493, 'visithttp': 3494, 'pyo': 3495, 'mrsalibegum': 3496, 'terrac': 3497, 'qadria': 3498, 'asimusafzai': 3499, 'scout': 3500, 'metrovil': 3501, 'hijri': 3502, 'bleaker': 3503, 'khale': 3504, 'anam': 3505, 'batpti': 3506, 'awpsindh': 3507, 'wound': 3508, '101': 3509, 'pppparliamentarian': 3510, 'pppmanifesto': 3511, 'drkhann': 3512, '18th': 3513, 'maqbool': 3514, '6h': 3515, 'uc31': 3516, 'sovereign': 3517, 'statemml': 3518, 'farahlodhi': 3519, 'communitiesreligion': 3520, 'na80': 3521, 'mmlgrw': 3522, 'umiangul': 3523, 'hrcp': 3524, 'malikachkjourno': 3525, '98': 3526, 'muneezamehboob1': 3527, 'kashifabbasia': 3528, 'alhamdolillah': 3529, 'lakhpat': 3530, 'democracystatu': 3531, 'quo': 3532, 'naufalveqar': 3533, 'climatechang': 3534, 'globalwarm': 3535, 'momentdawnofnayapakistan': 3536, 'stoppag': 3537, 'teamuc24': 3538, 'ahsaanmarwatisf': 3539, 'brotherhood': 3540, 'haqqiqi': 3541, 'momina': 3542, 'maryamnawazpakawaitspunishmenttonsabsirfimrankhan': 3543, 'aliawanpti': 3544, 'tommorow': 3545, 'votetochangeyourfuturesafridioffici': 3546, 'bit': 3547, 'period': 3548, 'hit': 3549, 'agreement': 3550, 'haiderazhar': 3551, 'etc': 3552, 'exceed': 3553, 'nullifi': 3554, '10pakelections2018': 3555, 'electablespakelections2018': 3556, 'lota': 3557, 'wrote': 3558, 'fafen': 3559, 'transgend': 3560, 'funni': 3561, 'civic': 3562, 'mullah': 3563, 'rntermin': 3564, 'pmimrankhaninshaallah': 3565, 'lokvirsa': 3566, 'an': 3567, 'buri': 3568, 'hero': 3569, 'liter': 3570, '206': 3571, 'fun': 3572, 'tour': 3573, 'marla': 3574, 'lre': 3575, 'desper': 3576, 'whatev': 3577, 'shelterless': 3578, 'lacallo4775': 3579, 'stronghold': 3580, 'fever': 3581, 'ghost': 3582, 'biryani': 3583, 'percent': 3584, 'tom': 3585, 'dick': 3586, 'harri': 3587, 'shahid': 3588, 'cours': 3589, 'merit': 3590, 'ppppakistan': 3591, 'pppbbhuttozardari': 3592, 'miser': 3593, 'leav': 3594, 'easili': 3595, 'regrett': 3596, 'bare': 3597, 'wrench': 3598, 'javaid': 3599, 'shama': 3600, 'abad': 3601, 'na109': 3602, 'pp116': 3603, 'studi': 3604, 'ilmrohi': 3605, 'interim': 3606, 'withdraw': 3607, 'rightli': 3608, 'lock': 3609, 'yusrasaskari': 3610, 'setup': 3611, 'immens': 3612, 'knowledg': 3613, 'neg': 3614, 'sub': 3615, 'ac': 3616, 'ayesha': 3617, 'deterior': 3618, 'handl': 3619, 'punjabi': 3620, 'kotharisund': 3621, 'khanpti': 3622, 'interma': 3623, 'underway': 3624, 'stream': 3625, 'ke': 3626, 'diehard': 3627, 'fan': 3628, 'campai': 3629, 'worthi': 3630, 'wrt': 3631, 'deadlin': 3632, 'subject': 3633, 'af': 3634, 'household': 3635, 'rej': 3636, 'howev': 3637, 'kafir': 3638, 'mosharrafzaidi': 3639, 'chorsharif': 3640, 'featur': 3641, 'pakpresswatch': 3642, '40': 3643, 'urban': 3644, 'stakehold': 3645, 'j': 3646, 'kasur': 3647, 'content': 3648, 'umarcheema1': 3649, 'nuclear': 3650, 'bitter': 3651, 'tharp': 3652, 'pursu': 3653, 'mir': 3654, 'centuri': 3655, 'durani': 3656, 'owe': 3657, 'lhc': 3658, 'judgment': 3659, 'mediac': 3660, 'si': 3661, 'balor': 3662, 'isprdunyaupd': 3663, 'hotel': 3664, 'nksudhuzaipmln': 3665, 'garbag': 3666, 'wilder': 3667, 'pawn': 3668, '1990': 3669, 'energet': 3670, 'alien': 3671, 'angel': 3672, 'youv': 3673, 'hurt': 3674, 'respond': 3675, 'mmlhyd': 3676, 'amsnoorlov': 3677, 'bilawalbhuttozardari': 3678, '3459': 3679, 'sidehttp': 3680, 'mondayelections2018': 3681, 'purpos': 3682, 'expectedn': 3683, 'remark': 3684, 'legisl': 3685, 'arabnewspk': 3686, 'perfect': 3687, 'imranismailpti': 3688, 'anamadepar': 3689, 'jeeyan67': 3690, 'consequ': 3691, 'attent': 3692, 'abolish': 3693, '121': 3694, 'raja': 3695, 'valid': 3696, 'contend': 3697, 'shut': 3698, 'rape': 3699, 'gp': 3700, 'hadorateach': 3701, 'selvestaleemdo': 3702, '264': 3703, '234': 3704, 'foral': 3705, '69': 3706, 'bird': 3707, 'tu': 3708, 'trail': 3709, 'butt': 3710, 'sialkot': 3711, 'khanwatch': 3712, 'disagre': 3713, 'sobiaasad11': 3714, '0': 3715, '1985': 3716, 'partyless': 3717, '1970': 3718, 'azad': 3719, 'heat': 3720, 'khurramptips112': 3721, 'mu': 3722, '247': 3723, 'mirswat': 3724, 'minerwatahir': 3725, 'atom': 3726, 'holland': 3727, 'rizvitlp': 3728, 'tehreeklabbaikpakistan': 3729, 'khadimhussainrizvi': 3730, 'unpreced': 3731, 'exercis': 3732, 'raoanwar': 3733, 'attitud': 3734, 'markazi': 3735, 'jamiyat': 3736, 'ahl': 3737, 'hadith': 3738, 'omarquraishi': 3739, 'asmazhk': 3740, 'swadika3': 3741, 'upam': 3742, 'critiqu': 3743, 'debut': 3744, 'rohicitynew': 3745, 'ps115': 3746, 'presentin': 3747, 'shahzad6362593': 3748, 'shameonpti': 3749, 'khyberpakhtunkhwa': 3750, 'mengal': 3751, 'teammlucman': 3752, 'kharasach': 3753, 'numainday': 3754, 'loca': 3755, '150': 3756, 'built': 3757, 'insafianskeep': 3758, 'forgeneralelections2018': 3759, 'stadium': 3760, 'waz': 3761, 'luxuri': 3762, 'bhallah': 3763, 'hammadazhar': 3764, 'pp151': 3765, 'mughalpuraabsirfimrankhan': 3766, 'rehanmushtaq1': 3767, 'ihsanjamali5': 3768, 'sarah': 3769, 'rajput': 3770, 'cater': 3771, 'safora': 3772, 'bloodier': 3773, '3pm': 3774, 'sami001haq': 3775, 'aimenbucha': 3776, 'tall': 3777, 'afreenhussainch': 3778, 'fatymahamjad': 3779, 'na53venu': 3780, 'g9': 3781, 'fmsheik': 3782, 'bbcnew': 3783, 'zeeakhwand10': 3784, 'loudli': 3785, 'paigham': 3786, 'khawarij': 3787, 'daunt': 3788, 'ptiofficialjlm': 3789, 'nidairamkhan': 3790, 'aapki': 3791, 'kehta': 3792, 'pp62': 3793, 'indirectno': 3794, 'fromlrhdaniyalbilour': 3795, 'khadimealaa': 3796, 'residenci': 3797, 'residen': 3798, 'electionobserv': 3799, 'duaazubair': 3800, 'multanmeinteerchalayga': 3801, 'saniti': 3802, 'endless': 3803, 'laya': 3804, 'layahayat03': 3805, 'teamsar': 3806, 'bhuttomedi': 3807, 'fahdhusainmalik': 3808, 'mandela': 3809, 'kam': 3810, 'threadto': 3811, 'glare': 3812, 'optic': 3813, 'deepstat': 3814, '162': 3815, 'nishat': 3816, 'campaignmml': 3817, 'mayor': 3818, 'tomor': 3819, '050718p': 3820, 'nabcourt': 3821, 'rehmania': 3822, 'johar': 3823, 'tyar': 3824, 'kabal': 3825, 'qwp': 3826, 'assumpt': 3827, '16na': 3828, '257': 3829, 'flaunt': 3830, 'ti': 3831, 'fascism': 3832, 'fam': 3833, 'favourit': 3834, '63': 3835, 'ujcupk': 3836, 'factualb': 3837, 'impartialb': 3838, 'balancedb': 3839, 'grammarus': 3840, 'workspakelect': 3841, 'gibranashraf': 3842, 'appar': 3843, 'justifi': 3844, 'add': 3845, 'listen': 3846, 'essenti': 3847, 'manner': 3848, 'freelanc': 3849, 'shmeher': 3850, 'manchesterairport': 3851, 'ok': 3852, 'kyun': 3853, 'lok': 3854, 'lokvir': 3855, 'electionelections2018': 3856, 'salut': 3857, 'everywher': 3858, 'file365': 3859, 'mustang': 3860, 'disastr': 3861, 'filesaffi2680': 3862, 'stayyoungaft50': 3863, 'ice': 3864, 'multipl': 3865, 'hoga': 3866, '500': 3867, 'republ': 3868, 'pain': 3869, 'certain': 3870, 'punish': 3871, 'nd': 3872, 'kurram': 3873, 'asifyousfani110': 3874, 'nightmar': 3875, 'heavi': 3876, 'partabshiw': 3877, 'ansari': 3878, 'sleep': 3879, 'deadliest': 3880, 'mayb': 3881, 'core': 3882, 'monitoredobhayo': 3883, 'hijack': 3884, 'mustung': 3885, 'raeesani': 3886, 'educationth': 3887, 'forgotten': 3888, 'sherazpunjutha': 3889, 'menifesto': 3890, 'waqa': 3891, 'youtub': 3892, 'globosoft': 3893, 'kalagujran': 3894, 'elections2018newsonepk': 3895, 'prioritis': 3896, 'manifestoszahranum': 3897, 'touch': 3898, 'taleemi': 3899, 'awai': 3900, 'mandatori': 3901, 'neutral': 3902, 'primeminist': 3903, 'jahangir': 3904, 'pafkiet': 3905, 'yeh': 3906, 'nahi': 3907, 'pre': 3908, 'muhammadyaqub57': 3909, 'chi': 3910, 'muhammadimransj': 3911, 'decept': 3912, '2020': 3913, '2pm': 3914, 'arent': 3915, 'magic': 3916, 'ishtiaqmeng': 3917, 'riazalimallah7': 3918, 'though': 3919, 'divers': 3920, 'suppprt': 3921, 'interfaith': 3922, 'aprt': 3923, 'signific': 3924, 'decreas': 3925, 'malanisushil': 3926, 'shushil': 3927, 'ppptharparkar': 3928, 'excit': 3929, 'turnup': 3930, 'doortodoor': 3931, 'hijratcoloni': 3932, 'thursday': 3933, 'manzoor': 3934, 'appropri': 3935, 'simpl': 3936, 'poorest': 3937, 'bec': 3938, 'freeli': 3939, '5th': 3940, 'math': 3941, 'meer': 3942, 'cec': 3943, 'lay': 3944, 'unawar': 3945, 'cite': 3946, 'evidenc': 3947, 'darkest': 3948, 'seminari': 3949, 'supremacypti': 3950, 'chutkalay': 3951, 'juggat': 3952, 'mud': 3953, 'sling': 3954, 'afghanistan': 3955, 'naeem': 3956, 'price': 3957, 'asylum': 3958, 'electionspidgov': 3959, 'arab': 3960, 'alli': 3961, 'ahmadaqoffici': 3962, 'womenempower': 3963, 'passport': 3964, 'aishaismad': 3965, 'pkkhtweet': 3966, 'liber': 3967, 'noon': 3968, 'whatsappel': 3969, 'refresh': 3970, 'mahmood': 3971, 'mirza': 3972, 'travel': 3973, 'datastoriespk1': 3974, 'ineffect': 3975, 'meaningless': 3976, 'allpartyconfer': 3977, 'mmlhyderabad': 3978, 'cheaterselections2018': 3979, 'perhap': 3980, 'longterm': 3981, 'pakistanshehbazsharif': 3982, 'campaig': 3983, 'nowaday': 3984, 'ser': 3985, 'yasirkhanppp': 3986, '253': 3987, 'sweet': 3988, 'barkatnoonari': 3989, 'pervaiz': 3990, 'saleem': 3991, 'pmsamaatv': 3992, 'alr': 3993, 'retd': 3994, 'afnanullahkh': 3995, 'surpris': 3996, 'drawn': 3997, 'readywho': 3998, 'nasimzehra': 3999, 'surrend': 4000, 'avenfiel': 4001, 'economi': 4002, 'schoolsteach': 4003, 'rich': 4004, 'click': 4005, 'labstaleemdo': 4006, 'cont': 4007, 'militarili': 4008, 'ideal': 4009, 'ps61': 4010, 'elections2018voteforppp': 4011, 'rawalsharjeel': 4012, 'ge2018composit': 4013, 'nationalassembl': 4014, 'danyalchaudhari': 4015, 'votetochangeyourfutur': 4016, 'islamabadmissionislamabad': 4017, 'allot': 4018, 'ayaz': 4019, 'ship': 4020, 'shehbazsharif': 4021, 'bail': 4022, 'na245': 4023, 'steal': 4024, 'supportersfol': 4025, 'badho': 4026, 'bazarna78': 4027, 'ahea': 4028, 'twoday': 4029, '129dunyaupd': 4030, 'digitalrightspk': 4031, '05': 4032, 'rashid': 4033, 'mohmand': 4034, 'akramkhandurrani': 4035, 'aushcpak': 4036, 'oxfamaustralia': 4037, 'helen': 4038, 'szoke': 4039, 'tammyhaq': 4040, 'ahmadmalik': 4041, 'generalelec': 4042, 'lover': 4043, 'noptina213': 4044, 'generalelections2018rejectpti': 4045, 'ranchor': 4046, 'nayapakistangaya': 4047, 'pakistangaya': 4048, 'aswjnew': 4049, 'peaceforchang': 4050, 'frabel': 4051, 'socioeconom': 4052, 'tod': 4053, 'fm': 4054, 'license': 4055, 'cov': 4056, 'provok': 4057, 'ppppressconfer': 4058, 'aint': 4059, 'publicnewscom': 4060, 'embarrass': 4061, 'drag': 4062, 'sirajraeesani': 4063, 'sneheshphilip': 4064, 'aven': 4065, 'mainhoonpakistan': 4066, 'votewis': 4067, 'pakistanto': 4068, 'pp156': 4069, 'visitthenew': 4070, 'faheemkhanptifkptielectioncampaign': 4071, 'voteforpakistanchairman': 4072, 'electionsvotefort': 4073, 'sach': 4074, 'ps103': 4075, 'armydefend': 4076, 'tou': 4077, 'aftabalam77': 4078, 'causal': 4079, 'plazaalhumdulilah': 4080, 'responsevote4right': 4081, 'succe': 4082, 'siddiqu': 4083, 'arfasay': 4084, 'inaug': 4085, 'chairperson': 4086, 'mustungblast': 4087, 'peshawarblastbannublast': 4088, '300m': 4089, 'narrowli': 4090, 'escap': 4091, 'unhurt': 4092, 'wud': 4093, 'amid': 4094, 'aliwaraichpti': 4095, 'pp1': 4096, 'education2': 4097, 'reform4': 4098, 'vil': 4099, 'warmli': 4100, 'pakistannatur': 4101, 'uszahid': 4102, 'spoke': 4103, 'seckermani': 4104, 'kaptan': 4105, 'naseerabad': 4106, 'comrad': 4107, 'gaji': 4108, 'khuawar': 4109, 'seengar': 4110, 'noonari': 4111, 'brohi': 4112, 'pk77': 4113, 'cann': 4114, 'compaignpresid': 4115, 'meetin': 4116, 'sovereignti': 4117, 'amend': 4118, 'consign': 4119, 'dustbin': 4120, 'itxambreen': 4121, 'pinakhah': 4122, 'dolphin': 4123, 'bhuttomediacellppp': 4124, 'huzefa1983': 4125, 'thiril': 4126, '3way': 4127, 'mqmfaction': 4128, 'mqmchairman': 4129, 'afaqahmad': 4130, 'bnpoffici': 4131, 'na225': 4132, 'tariqshahjamot': 4133, 'wellcom': 4134, 'pp15': 4135, 'ejaz': 4136, 'burirorauf': 4137, 'boycottcareempak': 4138, 'mill': 4139, 'tajzeeanigar': 4140, 'frankli': 4141, 'colonyge201': 4142, 'pakistankhan': 4143, 'hote': 4144, 'gratitud': 4145, 'panislam': 4146, 'teamsardaarshah': 4147, 'mmllhroffici': 4148, 'depoliticizedavenfieldrefer': 4149, 'sobiaalippp': 4150, 'shaikhaliraza95': 4151, 'rafiullah': 4152, 'cornor': 4153, 'uc3': 4154, 'muzzafarabad': 4155, 'drig': 4156, 'cannt': 4157, 'disast': 4158, 'farhatullah': 4159, 'baber': 4160, 'undpdri': 4161, 'na3': 4162, 'mnasaleempti': 4163, 'pmpti': 4164, 'nationabsirfimrankhan': 4165, 'fjapakistani': 4166, '050718pti': 4167, 'malikji1850': 4168, 'sink': 4169, 'terribl': 4170, 'strength': 4171, 'attract': 4172, 'mi': 4173, 'raymserrato': 4174, 'nut': 4175, 'prolif': 4176, 'pakistanarmi': 4177, 'traffic': 4178, 'sympath': 4179, 'assign': 4180, 'rn': 4181, 'quotat': 4182, 'print': 4183, 'hire': 4184, 'khososaifullah': 4185, 'stpersecut': 4186, 'ul': 4187, 'anybodi': 4188, 'sheikhrashe': 4189, 'siasatpk': 4190, 'recal': 4191, 'horror': 4192, 'lesser': 4193, 'evil': 4194, 'throw': 4195, 'labour': 4196, 'hallmark': 4197, 'vigil': 4198, 'hisher': 4199, 'shafiqsolangi': 4200, 'canton': 4201, 'safest': 4202, 'kpi': 4203, 'husainhaqqani': 4204, 'board': 4205, 'throne': 4206, 'drgmthaheem': 4207, 'copi': 4208, 'calm': 4209, 'anticip': 4210, 'knock': 4211, 'strike': 4212, 'agar': 4213, 'kia': 4214, 'daniyalbilour': 4215, 'energi': 4216, 'overturn': 4217, 'intellectu': 4218, 'easi': 4219, 'carnag': 4220, 'structur': 4221, 'staff': 4222, 'told': 4223, 'shelter': 4224, 'junaidmuhammadd': 4225, 'verifi': 4226, 'postprimari': 4227, 'bushra': 4228, 'milit': 4229, 'younger': 4230, 'soft': 4231, 'america': 4232, 'lahoreairport': 4233, 'martyrdom': 4234, '48': 4235, 'terrori': 4236, 'politici': 4237, 'newspap': 4238, 'aaz': 4239, 'brain': 4240, 'onlin': 4241, 'tpltrakker': 4242, 'ed': 4243, 'season': 4244, 'pta': 4245, 'lacallo2590': 4246, 'pseudo': 4247, 'plant': 4248, 'mbalighurrehmantaleemdo': 4249, 'steadi': 4250, 'declin': 4251, 'undermin': 4252, 'wednesday': 4253, 'jasmeen': 4254, 'guest': 4255, 'jibrannasir': 4256, 'anumua': 4257, 'paint': 4258, 'regul': 4259, 'iqrarulhassan': 4260, 'gulbahar': 4261, 'lrefaizanahmad': 4262, 'loyal': 4263, 'anymor': 4264, 'crook': 4265, 'badli': 4266, 'atif': 4267, 'reham': 4268, 'samaaenglish': 4269, 'woul': 4270, 'hanifabbasi': 4271, 'hon': 4272, 'clarifi': 4273, 'urdu': 4274, 'entertain': 4275, 'suneetaparmar': 4276, 'saysschool': 4277, 'pk78': 4278, 'hassanbutttruth': 4279, 'fampl': 4280, 'pamphlet': 4281, 'mahadevmakwano': 4282, 'weldon': 4283, 'efuc': 4284, 'allienc': 4285, 'contemporari': 4286, 'chalangin': 4287, 'mabaskhaskh': 4288, 'muk': 4289, 'mmehdipk': 4290, 'junaidqais': 4291, 'asifnaw31060356': 4292, 'baghwanda': 4293, 'scho': 4294, 'absakom': 4295, 'shamelessli': 4296, 'fawad': 4297, 'thareducationallainc': 4298, 'quot': 4299, 'uniform': 4300, 'cl': 4301, 'politc': 4302, 'voteaikmuqaddasamanat': 4303, 'corpor': 4304, 'personnel': 4305, 'white': 4306, 'newslinemag': 4307, 'gangrap': 4308, 'leaf': 4309, 'suspect': 4310, 'ot': 4311, 'itelections2018': 4312, 'iamthedrift': 4313, 'yakatoot': 4314, 'deepli': 4315, 'guid': 4316, 'prep': 4317, '1000am': 4318, 'fiveyear': 4319, 'dealer': 4320, 'elections2018anp': 4321, 'multiparti': 4322, 'complex': 4323, 'mithitaleemdo': 4324, 'nonpolit': 4325, 'unhelp': 4326, 'innov': 4327, 'nomiferoz': 4328, 'horribl': 4329, 'deliveri': 4330, 'gut': 4331, 'bilor': 4332, 'parch': 4333, 'drink': 4334, 'dar': 4335, 'jamaateislami': 4336, 'municip': 4337, 'gradual': 4338, 'river': 4339, 'dump': 4340, 'summervac': 4341, 'administr': 4342, '92newschannel': 4343, 'benazirbhutto': 4344, 'bol': 4345, 'mai': 4346, 'eshamirza2018': 4347, 'twice': 4348, 'closer': 4349, 'compani': 4350, '1947': 4351, '14august': 4352, 'irrespect': 4353, 'own': 4354, 'durranielections2018': 4355, 'benhurgil': 4356, 'bi': 4357, 'guess': 4358, 'simustafv': 4359, 'memon': 4360, 'file': 4361, 'kick': 4362, 'push': 4363, 'gabolsardar': 4364, 'squar': 4365, 'blind': 4366, 'locati': 4367, 'zindabad': 4368, 'oh': 4369, 'inspect': 4370, 'cheema': 4371, 'ismail': 4372, 'meanwhil': 4373, 'spiritu': 4374, 'awaam': 4375, 'ranger': 4376, 'handson': 4377, 'rotelearn': 4378, 'dramat': 4379, 'exampl': 4380, 'nhi': 4381, 'offens': 4382, 'livewnadiamirza': 4383, 'mansehra': 4384, 'victimis': 4385, 'ge18': 4386, 'kehal': 4387, 'space': 4388, 'ministerpmln': 4389, 'misus': 4390, 'unaccept': 4391, 'tactic': 4392, 'mhashimazam': 4393, 'parvez': 4394, 'manoawan8': 4395, 'betterpakistan': 4396, 'mujh': 4397, 'educati': 4398, 'ro': 4399, 'mob': 4400, 'zubair': 4401, 'reserv': 4402, 'baba': 4403, 'khaskhelaijaz': 4404, 'gfx': 4405, 'somebodi': 4406, 'opportunist': 4407, '2016': 4408, 'maryamsafdar': 4409, 'legend': 4410, 'investig': 4411, 'saurabhsherri': 4412, 'aa': 4413, 'id': 4414, 'ptiomansehra': 4415, 'sanabucha': 4416, 'admit': 4417, '2017': 4418, 'bhuttowatch': 4419, 'romamatto': 4420, 'info': 4421, 'premier': 4422, 'reuter': 4423, 'dolphinsignofpeac': 4424, 'aftabsherpao': 4425, 'southern': 4426, 'provincea': 4427, 'hijabtufail': 4428, 'thehumzarizwan': 4429, 'rashidkazi7864': 4430, 'liar': 4431, 'sake': 4432, 'utmost': 4433, 'altaf': 4434, 'na253': 4435, 'khalidpdc': 4436, 'romistan': 4437, 'sumerasham': 4438, 'actsmi': 4439, 'magisteri': 4440, 'iamwaqas788': 4441, 'liaquat': 4442, 'ps66': 4443, 'ridabaloch': 4444, 'china': 4445, 'humor': 4446, 'avenfieldrrefer': 4447, 'mdshafikhatana': 4448, 'mughira2': 4449, 'shereikwareyf': 4450, 'marriott': 4451, 'jawad': 4452, 'voteforjawadahmad': 4453, 'gate': 4454, 'rabita': 4455, 'syedmzeeshan': 4456, 'pakistannisarpmln': 4457, 'chnisarpti': 4458, 'apml': 4459, 'stalwart': 4460, 'caravan': 4461, 'ttp': 4462, 'rightw': 4463, 'farhanhsiddiqi': 4464, 'awak': 4465, 'ultim': 4466, 'fall': 4467, 'lucki': 4468, 'klasrarau': 4469, 'reasonvoteforpti': 4470, 'rizvifazeel': 4471, 'ef': 4472, 'effec': 4473, 'shopkeep': 4474, 'aapkiraay': 4475, 'sohaibawanpk': 4476, '00051214a': 4477, 'mainhoonpak': 4478, 'parliamentarian': 4479, 'jul25': 4480, 'arsalankhan60': 4481, 'nerv': 4482, 'na129pmln': 4483, 'curv': 4484, 'nich': 4485, 'loung': 4486, 'aqeelp': 4487, 'applic': 4488, 'bhandaphoro': 4489, 'giv': 4490, 'haroonpk': 4491, 'campaignpti': 4492, 'decisionssaifullah': 4493, 'onlybalo': 4494, 'alluringwil': 4495, 'alam': 4496, 'ge2018ballaypethappana131': 4497, 'shontain': 4498, 'blockad': 4499, 'nahin': 4500, '23': 4501, '22nd': 4502, 'mmeet': 4503, 'anjuman': 4504, 'efalakobehbood': 4505, 'inter': 4506, 'ge2018a': 4507, 'pakistanbecausefrom': 4508, 'talagang': 4509, 'pp23na6': 4510, 'atten': 4511, 'plea': 4512, 'dolphinkaregiwin': 4513, 'colonyge2018ps64b': 4514, 'allahsoldier042': 4515, 'agric': 4516, 'satisfactorili': 4517, 'suffrag': 4518, 'began': 4519, '1869dont': 4520, 'julywomenshould': 4521, 'ptina129upd': 4522, 'campaigncorn': 4523, 'harbanspura': 4524, 'shehzad': 4525, 'syedaminulhaqu': 4526, 'mata': 4527, 'mandar': 4528, 'politicalparticipa': 4529, 'photograph': 4530, 'imranwains1': 4531, 'na157ppp': 4532, 'saddam': 4533, 'ps67': 4534, 'joinpsp': 4535, 'vote4betterkarach': 4536, '8th': 4537, '6th': 4538, 'khurram': 4539, 'cen': 4540, 'g11islamabad': 4541, 'goharnangy': 4542, 'mohemgot': 4543, 'pace': 4544, 'joseph': 4545, 'debatetoday': 4546, 'pst': 4547, '5pm': 4548, 'ppppyonew': 4549, 'aspect': 4550, 'militantsuspect': 4551, 'tommorrow': 4552, 'benazirfatimaz': 4553, 'creation': 4554, 'soar': 4555, 'generalelections2018pmln': 4556, '119': 4557, 'tmjournalist': 4558, 'rtpsppakistan': 4559, '120': 4560, 'trade': 4561, 'hbsislamabad': 4562, 'harbour': 4563, 'hesh': 4564, 'damn': 4565, 'mar': 4566, 'amberrshamsi': 4567, 'termin': 4568, 'dayspakelections2018': 4569, 'bargadyouth': 4570, 'akhterusman': 4571, 'anonym': 4572, 'larger': 4573, 'forcibl': 4574, 'dollar': 4575, 'q': 4576, 'weve': 4577, 'pjyo': 4578, 'filedpakelections2018': 4579, 'ie': 4580, 'dozen': 4581, 'hot': 4582, 'elder': 4583, 'impact': 4584, 'shireenmazari1': 4585, 'lord': 4586, 'hypocrit': 4587, 'gabeeno': 4588, 'soldier': 4589, 'tabl': 4590, 'servant': 4591, 'economicgrowth': 4592, 'shiringul': 4593, 'angelspakistan': 4594, 'waheedwb': 4595, 'malikem': 4596, 'vaqarahm': 4597, 'wellsaid': 4598, 'jealousi': 4599, 'olasyaar007': 4600, 'statepakistanelect': 4601, 'nazishmh': 4602, 'extra': 4603, 'jutt': 4604, 'atifkhanpti': 4605, 'parliamentari': 4606, 'arrog': 4607, 'obstacl': 4608, '4420': 4609, 'fileaffi5000': 4610, 'electionsfor': 4611, 'faezadawood': 4612, 'bane': 4613, 'invlov': 4614, 'firm': 4615, 'sky': 4616, 'bar': 4617, 'loadshed': 4618, 'pervez': 4619, 'risk': 4620, 'proven': 4621, 'consensu': 4622, 'replac': 4623, 'fresh': 4624, 'omarali50': 4625, 'syllabu': 4626, 'gdp': 4627, 'harm': 4628, 'unequ': 4629, 'najamsethi': 4630, 'bajwa': 4631, 'rea': 4632, 'aug': 4633, 'tahirimran': 4634, 'thesethey': 4635, 'effect': 4636, 'intellig': 4637, 'furth': 4638, 'unlik': 4639, 'dog': 4640, 'tenzilamazhar': 4641, '33': 4642, 'portray': 4643, 'nooni': 4644, 'arr': 4645, 'wife': 4646, 'exam': 4647, 'hav': 4648, 'sucid': 4649, 'departur': 4650, 'courteou': 4651, 'bloodi': 4652, 'shade': 4653, 'martiallaw': 4654, 'murtazaview': 4655, 'advjalila': 4656, 'nawabzada': 4657, 'rahay': 4658, 'taxpay': 4659, 'approv': 4660, 'reaso': 4661, 'reutersindia': 4662, 'hostel': 4663, 'indpendenttaleemdo': 4664, 'dailytimespakmiss': 4665, 'abu': 4666, 'moral': 4667, 'ashfaqa58764430': 4668, 'bullet': 4669, 'junaid': 4670, 'unworthi': 4671, 'ambush': 4672, 'hoshab': 4673, 'kolwa': 4674, 'dandar': 4675, 'quali': 4676, 'enforc': 4677, 'khanelection2018': 4678, 'na255': 4679, 'jameel': 4680, 'rathor': 4681, 'taha': 4682, 'cmon': 4683, 'fuck': 4684, 'glorifi': 4685, 'nawazwatch': 4686, 'ecolog': 4687, 'letter1kan': 4688, '3425': 4689, 'arrestnaw': 4690, 'script': 4691, 'letter10marla': 4692, 'voteptika': 4693, 'letter5marla': 4694, '1420': 4695, 'governmentelections2018': 4696, 'nodaca': 4697, 'buildthewal': 4698, 'nodem': 4699, 'undemocrat': 4700, 'occupiedbalochistan': 4701, 'sajidpirzadasp': 4702, '57th': 4703, '33rd': 4704, 'pehli': 4705, 'sicken': 4706, 'sindhi': 4707, 'eleph': 4708, 'frehmand': 4709, 'club': 4710, 'guarante': 4711, 'sabamirz': 4712, 'mahaazrepo': 4713, 'certifi': 4714, 'rwp': 4715, 'aamerkianipti': 4716, 'ghulamm73476676': 4717, 'imfarooqu': 4718, 'stronger': 4719, 'politicalparti': 4720, 'rahimyarkhan': 4721, 'dad': 4722, 'cheo': 4723, 'didt': 4724, 'ptielections2018': 4725, 'joke': 4726, 'meit': 4727, 'rafiqu': 4728, 'zia': 4729, 'bheel': 4730, '1200': 4731, 'susheel': 4732, 'mithi': 4733, 'mediaelections2018': 4734, 'conflict': 4735, 'suc': 4736, 'musharraf': 4737, 'awaken': 4738, 'agendaelections2018': 4739, 'kindli': 4740, 'thisharoonbilour': 4741, 'usag': 4742, 'hingorjo': 4743, 'eventelections2018tharparkartaleemdo': 4744, 'educationthey': 4745, 'pashteen': 4746, 'yieldingelections2018': 4747, 'mustafamfa': 4748, 'hbilour': 4749, 'mor': 4750, 'mmatal': 4751, 'cpsdoffici': 4752, 'parenst': 4753, 'stpp': 4754, 'lower': 4755, 'kept': 4756, 'conductelections2018': 4757, 'unstoppabley': 4758, 'unbreak': 4759, 'voteforfaisalvawda': 4760, 'electionselections2018': 4761, 'baldiatow': 4762, 'baldia': 4763, 'sadden': 4764, '46': 4765, 'reflect': 4766, 'bajeer': 4767, 'en': 4768, 'joint': 4769, 'lg': 4770, 'fulfil': 4771, 'imparti': 4772, 'food': 4773, 'deplor': 4774, 'deliveryjaferiielectio': 4775, 'amirzia1': 4776, 'extrasecur': 4777, 'mea': 4778, 'thewidesid': 4779, 'perish': 4780, 'zaibyx': 4781, 'lodhiwatch': 4782, 'asadhashim': 4783, 'presumptionselections2018': 4784, 'ishaq': 4785, 'shahidwatch': 4786, 'cctv': 4787, 'camera': 4788, 'tran': 4789, 'gutter': 4790, 'silenc': 4791, 'doctor': 4792, 'groundelect': 4793, 'bolojawan': 4794, 'readdgispr': 4795, '92newshdplu': 4796, 'rehmananw': 4797, 'bed': 4798, 'chahay': 4799, 'asmaschaudhri': 4800, 'cancel': 4801, 'pkmap': 4802, 'pakistanbachanahai': 4803, 'gender': 4804, 'khaleejmag': 4805, 'fifaworldcup2018': 4806, 'greater': 4807, 'employ': 4808, 'electthebest': 4809, 'vital': 4810, 'reliabl': 4811, 'sale': 4812, 'waqaskhan280': 4813, 'aasia': 4814, 'ishaqu': 4815, 'aasiaishaquetalk': 4816, 'elections2018psppaki': 4817, 'din': 4818, 'insafian': 4819, 'khangarh': 4820, 'ranaadeem': 4821, 'bukhari': 4822, 'pmlq': 4823, 'execut': 4824, 'miftah': 4825, 'debateelection2018': 4826, 'interactiv': 4827, 'financ': 4828, 'weakest': 4829, 'linksever': 4830, 'expenditur': 4831, 'cartoon': 4832, 'hometown': 4833, 'fruit': 4834, 'disguis': 4835, 'sectarian': 4836, 'capt': 4837, 'ilmon': 4838, 'nadiaamirza': 4839, 'arena': 4840, 'dangerousthre': 4841, 'ultra': 4842, 'alikjadoon': 4843, 'honestli': 4844, 'lap': 4845, 'contract': 4846, 'ishaqdar': 4847, 'safdarpmlnorg': 4848, 'cent': 4849, 'educationpolici': 4850, 'gay': 4851, 'faith': 4852, 'type': 4853, 'logist': 4854, 'educationeduc': 4855, 'taleemdohyderabad': 4856, 'cha': 4857, 'bigot': 4858, 'fahmida': 4859, 'mirzawatch': 4860, '3fgkgcj7qzfwumm': 4861, 'muneebjanjua4': 4862, 'usman': 4863, 'pakistanpmln': 4864, 'forvot': 4865, 'belowpsp': 4866, 'heartbeatpak': 4867, 'ptihawk': 4868, 'statusquo': 4869, 'zafarfor': 4870, 'comingnawaz': 4871, 'nikala': 4872, 'dust': 4873, 'pollsreportpemra': 4874, 'ptipunjabpk': 4875, 'ought': 4876, 'bhattijani1': 4877, 'tag': 4878, 'charm': 4879, 'showmanship': 4880, 'minimis': 4881, 'imp': 4882, 'bigger': 4883, 'ghia': 4884, 'parah': 4885, 'fallen': 4886, 'alimuhammadpti': 4887, 'excel': 4888, 'klasrarauf': 4889, 'desert': 4890, 'awamimanshoor': 4891, 'wordshahidmasooddr': 4892, 'grew': 4893, 'quick': 4894, '66': 4895, 'combin': 4896, 'chaudhri': 4897, 'candidatesread': 4898, 'channelis': 4899, 'tribun': 4900, '03': 4901, 'mufti': 4902, 'zero': 4903, 'experi': 4904, 'khidmat': 4905, 'corp': 4906, 'shareefmafia': 4907, 'bh': 4908, 'depend': 4909, 'sath': 4910, 'pakistanelectionguide2018': 4911, 'asmaalizain': 4912, 'okara': 4913, 'para': 4914, 'jhangir': 4915, 'ahmedi': 4916, 'generalelections2018separ': 4917, 'barristermshah': 4918, 'supportersfollo': 4919, 'larkanageneralelect': 4920, 'osamabinjavaid': 4921, 'provincia': 4922, 'slate': 4923, 'farooqaleena': 4924, 'bent': 4925, 'maraufsiddiqui': 4926, 'style': 4927, 'entri': 4928, 'cocain': 4929, 'levelplay': 4930, 'dfsmq': 4931, 'aes': 4932, 'jamat': 4933, 'niec': 4934, 'irl': 4935, 'daddi': 4936, 'daimfazil': 4937, 'islamist': 4938, 'cz': 4939, '2025': 4940, 'edit': 4941, 'hydbelongstomqmdoor': 4942, 'uc35363738': 4943, 'mori': 4944, 'isse': 4945, 'mjibrannasirna247': 4946, 'karachigeneralelect': 4947, 'asiab': 4948, 'byelect': 4949, 'lame': 4950, 'object': 4951, 'healthi': 4952, 'faizanjafri20': 4953, 'ganja': 4954, 'thewarehousepk': 4955, 'shown': 4956, 'mela': 4957, 'atta': 4958, 'bhutta': 4959, 'qesco': 4960, 'suppli': 4961, 'jiyala': 4962, 'momoaslam': 4963, 'adialajail': 4964, 'barabriparti': 4965, 'barabripartypakist': 4966, 'bagdadi': 4967, 'uc07': 4968, 'occas': 4969, '227': 4970, 'satisfi': 4971, 'gang': 4972, 'regardless': 4973, 'zaheerchanna8': 4974, 'flagesjeaybhutto': 4975, 'hr': 4976, 'buttsabah': 4977, 'fauziakasurith': 4978, 'ptina247': 4979, 'shed': 4980, 'jal': 4981, 'mqmpakista': 4982, 'thecitizenin': 4983, 'pray4nat': 4984, 'pakistanlord': 4985, 'unsettl': 4986, 'gayeti': 4987, 'chathamhous': 4988, 'pivot': 4989, 'punjabpakistanelect': 4990, 'analyst': 4991, 'savoic': 4992, 'umairjamal15': 4993, 'city9cop': 4994, 'ahsankausar': 4995, 'bet': 4996, 'thereps98': 4997, 'lakin': 4998, 'jsalik': 4999, 'g8': 5000, 'hassansaleem2': 5001, 'ballaypethappana131accountabilityhealthpoliceeducationmeritvoteforpti': 5002, 'votegda': 5003, 'kohati': 5004, 'liestheyr': 5005, 'reh': 5006, 'masoudurher': 5007, 'mazar': 5008, 'nsabbasi69': 5009, 'shoaibakhterali': 5010, 'voteforpakista': 5011, 'pakistanbbhuttozardari': 5012, 'ashrafkakkar': 5013, 'minhasaleempak': 5014, 'namaz': 5015, 'cscrpk': 5016, 'kitab': 5017, '13thjulycapitaldecid': 5018, 'nationmi': 5019, 'fit': 5020, 'swt': 5021, 'sardarayazsadiq': 5022, 'roshanpakistan': 5023, 'owaisppp': 5024, 'isfislamabad': 5025, 'delhiescort': 5026, 'femaleescortbook': 5027, '8126059682': 5028, 'nigth': 5029, 'fav': 5030, 'jee': 5031, 'markhand': 5032, 'maqsoodasi': 5033, 'afshan': 5034, 'zaib': 5035, 'lachi': 5036, '120718pti': 5037, 'yaaliadrikni': 5038, 'maroof': 5039, 'bbkawaadanibhanahai': 5040, 'health3': 5041, 'rou': 5042, 'resham': 5043, 'gali': 5044, 'uc13': 5045, 'khuhroabout': 5046, 'inc': 5047, 'sairajrasani': 5048, 'subservi': 5049, 'highcourt': 5050, 'ilawangeen': 5051, 'partiesth': 5052, 'gap': 5053, 'mpasajidjokhio': 5054, 'pyomalirna236': 5055, 'ps87teerchalega': 5056, 'takrar': 5057, 'khalilsanghi': 5058, 'samaa': 5059, 'ptifirst': 5060, 'imrankhanwazereazam': 5061, 'tabdeelihums': 5062, '110718pti': 5063, 'dept': 5064, 'knowpakistani': 5065, '1947pakistan': 5066, 'ismailge2018': 5067, 'zeeshanbhutto48': 5068, 'livin': 5069, 'kamrankbangash': 5070, 'mustafakamalpsp': 5071, 'datajourn': 5072, 'lit': 5073, 'behramfozia': 5074, 'ps90': 5075, 'nayakpk': 5076, 'humagul': 5077, 'rahu': 5078, 'vote4dolphin': 5079, 'waziransaripsp': 5080, 'teamdolphin': 5081, 'parallel': 5082, 'speci': 5083, 'peekge2018': 5084, 'reminisc': 5085, 'aalizar': 5086, 'nationalist': 5087, 'exminist': 5088, 'block10': 5089, '31st': 5090, 'uncl': 5091, 'ambreenpti1': 5092, 'geonew': 5093, 'na251': 5094, 'orangi': 5095, 'overwhel': 5096, 'compaignps64bhuttoka': 5097, '080718': 5098, 'control5': 5099, 'wahdat': 5100, 'concernaft': 5101, 'ge2018inshallah': 5102, '255': 5103, '249': 5104, '168': 5105, 'tlyraoffici': 5106, '182': 5107, 'tean': 5108, 'uc24': 5109, 'consitu': 5110, '97': 5111, 'azhar': 5112, 'bhittai': 5113, 'caloni': 5114, 'koran': 5115, 'uc4': 5116, 'mall': 5117, 'na129th': 5118, 'resp': 5119, 'fou': 5120, 'confront': 5121, 'uc187': 5122, 'amount': 5123, 'maneuv': 5124, '2018for': 5125, 'shahzad91': 5126, 'bill': 5127, 'electioncampai': 5128, 'na31': 5129, 'pyosindh': 5130, 'taimoormaherali': 5131, '060718ge2018': 5132, 'corruptioni': 5133, 'corruptionar': 5134, 'youy': 5135, 'yesok': 5136, 'na46': 5137, 'shareefabad': 5138, 'slap': 5139, 'cleverli': 5140, 'alirazatweet': 5141, 'ge2018ps64bhuttoka': 5142, 'ps64fo': 5143, 'ge2018broth': 5144, 'jhandabazar': 5145, 'karimpura': 5146, 'disput': 5147, 'kunj': 5148, 'swift': 5149, 'sabahyder1': 5150, 'born': 5151, 'daesh': 5152, 'lea': 5153, 'wion': 5154, 'blatant': 5155, 'khilafah': 5156, 'madeehaanwar': 5157, 'regress': 5158, 'upheav': 5159, 'brought': 5160, 'pjyouthcaucu': 5161, 'sensation': 5162, 'defin': 5163, 'votingpakelections2018': 5164, 'pjyouthcaoc': 5165, 'ahsanpathan96': 5166, 'aheadpakelections2018': 5167, 'version': 5168, 'aka': 5169, 'mode': 5170, 'ne': 5171, 'written': 5172, 'bomber': 5173, 'emphas': 5174, 'clearli': 5175, 'vulner': 5176, 'item': 5177, '51': 5178, 'gift': 5179, 'srehmanoffic': 5180, 'henc': 5181, 'era': 5182, 'malakand': 5183, 'trump': 5184, 'revolut': 5185, 'navift': 5186, 'primeinstitut': 5187, 'iamamnaab': 5188, 'intact': 5189, 'divid': 5190, 'hafizabad': 5191, 'pindi': 5192, 'multipli': 5193, 'gae': 5194, 'voteloelections2018alifailaan': 5195, 'heroic': 5196, 'fighter': 5197, 'six': 5198, '4350': 5199, 'ranasanaullah': 5200, 'intoler': 5201, 'liaqat': 5202, 'khalidmaqboolsiddiqui': 5203, 'midterm': 5204, 'julypakistan': 5205, 'realest': 5206, 'quettablast': 5207, 'shianealiforum': 5208, 'elig': 5209, 'pakistan105955409let': 5210, 'barristerarbab': 5211, 'iomarzayn': 5212, 'ptitsinsafian': 5213, 'abbsirfimrankhan': 5214, 'bleed': 5215, 'certainti': 5216, 'hoodbhoythes': 5217, 'wide': 5218, 'asid': 5219, 'plate': 5220, 'tr': 5221, 'piti': 5222, 'qadir': 5223, 'khaqan': 5224, 'contact': 5225, '1988': 5226, 'promin': 5227, 'ufon': 5228, 'pmimrankhan': 5229, 'margin': 5230, 'msalem': 5231, 'awa': 5232, 'rehamkhanbook': 5233, 'youll': 5234, 'raeesa': 5235, 'sushtani': 5236, 'dekhodekhochoraya': 5237, 'bakhtawar': 5238, 'obama': 5239, 'suppor': 5240, 'illiter': 5241, 'commando': 5242, 'wearerangbaaz': 5243, 'tribal': 5244, 'lahori': 5245, 'frustrat': 5246, 'dictatorship': 5247, 'militestablish': 5248, 'thief': 5249, 'murtaza': 5250, 'controv': 5251, 'worrisom': 5252, 'otherwis': 5253, 'fa': 5254, 'nleagu': 5255, 'mrrazashaikhwhat': 5256, 'mrrazashaikhprepar': 5257, 'aleenakh': 5258, 'mrrazashaikhth': 5259, 'kar': 5260, 'bahawalpursever': 5261, 'mix': 5262, 'drain': 5263, 'rotishiekhrashe': 5264, 'mariumismail1': 5265, 'telephon': 5266, 'voteforsecur': 5267, 'voteforpeac': 5268, 'voteforfreedom': 5269, 'destruct': 5270, 'dose': 5271, 'introspect': 5272, 'denial': 5273, 'dhume': 5274, 'extens': 5275, 'text': 5276, 'dryasminrashid': 5277, 'refrain': 5278, 'retrac': 5279, 'aajkamrankhan': 5280, 'moreov': 5281, 'insur': 5282, 'partabshiwanitaleemdo': 5283, 'ps102mqm': 5284, 'arsalan': 5285, 'descript': 5286, 'labo': 5287, 'sirajulhaqjip': 5288, 'shehzadroy': 5289, 'anw': 5290, 'thegrumpydoctor': 5291, 'seal': 5292, 'asham': 5293, 'gt': 5294, 'severel': 5295, 'propergaanda': 5296, 'pp192': 5297, '1995': 5298, 'tokcityoflight': 5299, 'daykar': 5300, 'van': 5301, 'badl': 5302, 'jannat': 5303, 'invest': 5304, 'chalnanik': 5305, 'stunt': 5306, 'sacentralpunjab': 5307, 'sanaullah': 5308, 'channelelections2018': 5309, 'dunya': 5310, 'barrier': 5311, '2100': 5312, 'rabyamemon': 5313, 'theyr': 5314, 'prospect': 5315, 'kulsoomnawaz': 5316, '4425': 5317, '4370': 5318, 'til': 5319, 'mam': 5320, 'blackmail': 5321, '25watch': 5322, 'barristerhasna1': 5323, 'constant': 5324, 'afshanyounu': 5325, 'na81': 5326, 'projectpak1947': 5327, 'kamrankhanpsf': 5328, 'pec': 5329, 'resist': 5330, '12th': 5331, 'afiasalam': 5332, 'substitut': 5333, 'wherebi': 5334, 'attain': 5335, 'mraafayk': 5336, 'ptipakpattan2': 5337, 'erad': 5338, 'corruptionnawaz': 5339, 'doth': 5340, 'muchwhil': 5341, 'winner': 5342, 'ballaypaythappa': 5343, 'elections2018for': 5344, 'lifafa': 5345, 'martial': 5346, 'pakistanpolls2018': 5347, 'aliarqam': 5348, 'taleemdoelections2018tharpark': 5349, 'rabiamirani': 5350, 'ruqibhutto': 5351, 'wor': 5352, 'creditsuiss': 5353, 'opinionroshan': 5354, 'king': 5355, 'naveed82y2k': 5356, 'pathet': 5357, 'normal': 5358, 'pashtun': 5359, 'conribut': 5360, '56tharparkar': 5361, '56': 5362, 'henrygayl': 5363, 'ev': 5364, 'mumtazsoomro16': 5365, 'speaker': 5366, 'sorri': 5367, 'pakdestini': 5368, 'saadrafiqu': 5369, 'supr': 5370, 'presser': 5371, 'heavili': 5372, 'thartaleemdo': 5373, 'wajihsani': 5374, 'demis': 5375, 'chaudhryanpmarkaz': 5376, 'rabiaanumm': 5377, 'mmaonlyoptionthink': 5378, 'leap': 5379, 'toothink': 5380, 'voteand': 5381, 'thinker': 5382, 'asifalizardari': 5383, 'gulbukhari': 5384, 'draft': 5385, 'unemploy': 5386, 'burnt': 5387, 'recruit': 5388, 'mislead': 5389, 'imra': 5390, 'accur': 5391, 'usual': 5392, 'drrizwanpak': 5393, 'pure': 5394, 'againt': 5395, 'educationmir': 5396, 'taxi': 5397, 'passand': 5398, 'na44': 5399, 'stpptaleemdo': 5400, 'documentori': 5401, 'tharparkarv': 5402, 'educationhop': 5403, 'substani': 5404, '11th': 5405, 'obayo': 5406, 'tahreekhtaleemdo': 5407, 'educationtaleemdoelections2018': 5408, 'vawda': 5409, 'candidat': 5410, 'alkhidmat': 5411, 'democracyr': 5412, 'adv': 5413, 'laps': 5414, 'alarmingli': 5415, 'ilmoneroonhiglight': 5416, 'authoris': 5417, 'sindhu': 5418, 'upc': 5419, 'chitral': 5420, 'mouth': 5421, 'rabail26': 5422, 'meani': 5423, 'matiullahjan919': 5424, 'abbasnasir59': 5425, 'smile': 5426, 'storm': 5427, 'zeeshanusmani': 5428, 'governor': 5429, 'samizarkoon': 5430, 'bhalwal': 5431, 'shameonu': 5432, 'haroonbalor': 5433, 'bloodsh': 5434, '2018absirfimrankhanabsirfimrankhanballaypenishanpti': 5435, 'tuesday': 5436, 'dunyaprogramsdu': 5437, 'avenfieldreferen': 5438, 'youtaleemdo': 5439, 'khatm': 5440, 'nubuwat': 5441, 'winger': 5442, 'bathekirannazsamaa': 5443, 'bath': 5444, 'magistr': 5445, 'dunyaprogramsfrontlinekam': 5446, 'sindhaseefabz': 5447, 'shout': 5448, 'balochistanil': 5449, 'poverti': 5450, 'bias': 5451, 'prompt': 5452, '923111222973': 5453, 'voteforzarakhan': 5454, 'tread': 5455, 'retain': 5456, '149': 5457, 'waseem': 5458, 'affili': 5459, 'embed': 5460, 'owner': 5461, 'ptm': 5462, 'resolut': 5463, 'hummalbaluch': 5464, '200am': 5465, 'plaster': 5466, 'materi': 5467, 'irk': 5468, 'marvi': 5469, 'smooth': 5470, 'prot': 5471, '495': 5472, '700': 5473, 'kaptaantshirt': 5474, 'octanecloth': 5475, 'ppppunjabsm': 5476, '1623': 5477, '824': 5478, '725': 5479, 'handspakistan': 5480, 'permiss': 5481, 'votefirstpak': 5482, 'whi': 5483, 'aitzazrsheikh': 5484, 'mere': 5485, 'stock': 5486, 'politicalleadership': 5487, 'comb': 5488, 'hatr': 5489, 'roam': 5490, 'aam': 5491, 'tariq': 5492, 'fairli': 5493, 'pollsbbhuttozardari': 5494, 'edhi': 5495, 'naa': 5496, 'jave': 5497, 'lol': 5498, 'fundament': 5499, 'sensibl': 5500, 'naeemrehmanengr': 5501, 'aap': 5502, 'exp': 5503, 'hyder': 5504, 'eetaleemdoelections2018badin': 5505, 'muslimvot': 5506, 'pmlnelections2018': 5507, 'pspsikandar': 5508, 'smqureshipti': 5509, 'aqeel': 5510, 'lehriyasmin': 5511, 'na265': 5512, 'pb32': 5513, 'nationalparti': 5514, 'refug': 5515, 'religuous2': 5516, 'hyd': 5517, '21048': 5518, '12830': 5519, 'spirit': 5520, 'threadelections2018': 5521, 'muilya': 5522, 'sund': 5523, 'optim': 5524, 'anticorrupt': 5525, 'employe': 5526, 'ilmipinda': 5527, 'applaud': 5528, 'incr': 5529, 'clearanc': 5530, 'cavalcad': 5531, 'giant': 5532, 'nasrullah': 5533, 'rel': 5534, 'imtiaz': 5535, 'pk81': 5536, 'gandapur': 5537, 'na38': 5538, 'pk97': 5539, 'dawar': 5540, 'kundi': 5541, 'clip': 5542, 'youngster': 5543, 'educat': 5544, 'rohaina': 5545, 'aloneth': 5546, 'corrupta': 5547, 'ptifinland': 5548, 'powerhungri': 5549, 'forum': 5550, 'disqualif': 5551, 'shadi': 5552, 'aami': 5553, 'awaisrafiq': 5554, 'ptisocialmedia': 5555, 'strongerget': 5556, 'reborngil': 5557, 'yaseenkhanpti': 5558, 'uzairch07': 5559, 'awaisoffic': 5560, 'awaismugh': 5561, 'fksohu': 5562, 'khalidrad': 5563, 'shirk': 5564, 'nwarind': 5565, 'context': 5566, 'strive': 5567, 'threw': 5568, 'gu': 5569, 'darihaambreen': 5570, 'abbottabadptioffici': 5571, 'zafar': 5572, 'heraj': 5573, 'hundli': 5574, 'pp36': 5575, 'defiantnawaz': 5576, 'legaci': 5577, 'crude': 5578, 'inflat': 5579, 'khadimrizvi': 5580, 'farmer': 5581, 'thankyu': 5582, 'encouraginginshaallah': 5583, 'ampto': 5584, 'ditch': 5585, 'switch': 5586, 'est': 5587, 'judg': 5588, 'khurshid': 5589, 'leftw': 5590, 'hari': 5591, 'gazdar': 5592, 'summari': 5593, 'disfavor': 5594, 'nadia': 5595, '37': 5596, '2011': 5597, 'cash': 5598, 'aseef': 5599, 'voteelect': 5600, 'benazirshah': 5601, 'rizwan': 5602, 'islamabadisfor': 5603, 'avenfieldrefr': 5604, 'sport': 5605, 'retir': 5606, 'shameenpti': 5607, 'arang': 5608, 'kel': 5609, 'kashmirkeepcalm': 5610, 'karachit': 5611, 'verdicttoday': 5612, '65': 5613, 'devolut': 5614, 'utilis': 5615, 'adjust': 5616, 'formula': 5617, 'twist': 5618, 'hole': 5619, 'apex': 5620, 'upheld': 5621, 'mariam': 5622, 'memori': 5623, 'kabul': 5624, 'longlivej': 5625, 'ozerkhalid': 5626, 'bycott': 5627, 'beg': 5628, 'fairshar': 5629, 'commentselections20': 5630, 'dri': 5631, 'arifazad5': 5632, 'democracybbhuttozardari': 5633, 'miftahismail': 5634, 'bypasspmlnorg': 5635, 'nationwid': 5636, 'ting': 5637, 'agheem': 5638, 'roti': 5639, 'podapakistan': 5640, 'electionday': 5641, 'mastungattack': 5642, 'khai': 5643, 'myth': 5644, 'shake': 5645, 'murtazasolangi': 5646, 'wld': 5647, 'generalelectio': 5648, 'itsnabeel': 5649, 'pmlngeneralelections2018': 5650, 'accrdng': 5651, 'googlenawaz': 5652, 'au': 5653, 'shahbazzahid9': 5654, 'abou': 5655, 'as': 5656, 'lighter': 5657, 'secret': 5658, 'deadli': 5659, 'shawanashah': 5660, 'unnecessari': 5661, 'telecommun': 5662, 'brazen': 5663, 'cop': 5664, 'whatsapp': 5665, 'talwandi': 5666, 'bhindra': 5667, 'panamakahungama': 5668, 'electioncampaign2018na244': 5669, 'nozardari': 5670, 'creativ': 5671, 'expressnew': 5672, 'fixitth': 5673, 'motorway': 5674, 'zeezuz': 5675, 'voteforjibrannasir': 5676, 'flower': 5677, 'soveni': 5678, 'pert2': 5679, 'pert1': 5680, 'dishonest': 5681, 'youd': 5682, 'itso': 5683, 'log': 5684, 'irfanraj890': 5685, 'ndmehsan': 5686, 'sufyanyusuf': 5687, '1015': 5688, 'pen': 5689, 'energyeducextremismeconomi': 5690, 'humpakistaniiii': 5691, 'generalelections2018great': 5692, 'saidpakistan': 5693, 'abdulqavi': 5694, 'qandeel': 5695, 'imr': 5696, 'danishkhan21k': 5697, 'khilji': 5698, 'campa': 5699, 'bye': 5700, '2018no': 5701, 'sexism': 5702, 'tweetsrejectpti': 5703, 'hamidraza': 5704, 'usfarhankvirk': 5705, 'abidamunir110iramsaysabsirfimrankhangeneralelections2018': 5706, 'grow': 5707, 'hilari': 5708, 'bash': 5709, 'hap': 5710, 'zahidmansori': 5711, 'ps115best': 5712, 'prior': 5713, 'hameedashahid': 5714, 'upperdir': 5715, 'aghabangalzai': 5716, 'makran': 5717, 'rock': 5718, 'pp126': 5719, 'go4': 5720, 'tym': 5721, 'dictat': 5722, 'abroad': 5723, 'palwashaabba': 5724, 'pppna246lyari': 5725, 'ord': 5726, 'jup': 5727, 'sahibzad': 5728, 'aadiljillani': 5729, 'globe': 5730, 'hayatabad': 5731, 'cream': 5732, 'regar': 5733, 'abidtanwari22': 5734, 'zahidamalikawa1': 5735, 'kalerizaminppp': 5736, 'sariyarana': 5737, 'kohat': 5738, 'packag': 5739, 'sirkup': 5740, 'cyber': 5741, '14th': 5742, 'na56': 5743, 'attock': 5744, 'kamrialgroup': 5745, 'frontier': 5746, 'diower': 5747, 'behrozbaloch2': 5748, 'epitom': 5749, 'crazi': 5750, 'publicnew': 5751, 'realitycheck': 5752, 'pyaar': 5753, 'pakistanio': 5754, 'blow': 5755, 'bawamiparti': 5756, 'islami': 5757, 'seemamustafa': 5758, 'dhabi': 5759, 'worldprayerc': 5760, 'katadeney': 5761, 'insaaf': 5762, 'wordarsalanet': 5763, '2002': 5764, 'tlp2018': 5765, 'na239absirfimrankhan': 5766, 'votereportervoteforpakistan': 5767, 'pakistanvoteforpakistanelectioncampaign2018na244': 5768, 'unturn': 5769, 'na239absirfimran': 5770, 'logic': 5771, 'wazeereazamimrankhan': 5772, 'ps92': 5773, 'jillani': 5774, '4pe': 5775, 'actress': 5776, 'kashmirkabetaburhan': 5777, 'dawnofnayapakistan': 5778, 'na241absirfimrankhan': 5779, 'ikhtiar': 5780, 'shahmotiv': 5781, 'voteforpakistanjust': 5782, 'raheelamalikfan': 5783, 'saminakghurki': 5784, 'jeay': 5785, 'fayazbabbarppp': 5786, 'correctli': 5787, 'awaketo': 5788, 'voteforkhan': 5789, 'granddemocrat': 5790, '216gda': 5791, 'shahzad': 5792, 'teampyops103': 5793, 'channapyo': 5794, 'crow': 5795, 'legal': 5796, '140718': 5797, 'happier': 5798, 'dolphinwin': 5799, 'dolphinvot': 5800, 'changepspmustafakam': 5801, '16julypspr': 5802, 'awppunjab': 5803, 'pp121': 5804, 'tobateksingh': 5805, 'farooqtariq3': 5806, 'privileg': 5807, 'composur': 5808, 'abbottabadbadalrahahaabbottabad': 5809, 'fazl': 5810, 'purg': 5811, 'morushah': 5812, 'slogansi': 5813, 'saadchitrali': 5814, 'injustic': 5815, 'tabix2': 5816, 'absarak': 5817, 'politicsge2018': 5818, 'jinnah': 5819, 'shor': 5820, 'mischief': 5821, 'insurg': 5822, 'ptijalsa': 5823, '130718pti': 5824, 'todayabsirfimrankhan': 5825, 'lar': 5826, 'msanjum': 5827, 'chitralpk': 5828, 'gona': 5829, 'julyvot': 5830, 'partyge2': 5831, 'anim': 5832, 'stabil': 5833, 'its4th': 5834, 'amirchishti256': 5835, 'analyt': 5836, 'pakistange2018': 5837, '159': 5838, 'alisher571': 5839, 'motherland': 5840, 'gallot': 5841, 'summit': 5842, 'karein': 5843, 'overheard': 5844, 'islamabaddiari': 5845, 'na200larkanamainteerchalega': 5846, 'understat': 5847, 'na200': 5848, 'availableescortservicecallgirl': 5849, 'freeness': 5850, 'khilai': 5851, 'righ': 5852, 'dharna': 5853, 'sarahahmadzai': 5854, 'winwin': 5855, 'uc123peopl': 5856, 'ge2': 5857, 'dogar': 5858, 'kehkarlunga': 5859, 'ammar': 5860, 'sm': 5861, 'raha': 5862, 'ahsanpmlnorg': 5863, 'iahsanrasool': 5864, 'pia': 5865, 'waqarkali': 5866, 'senrehmanmalik': 5867, 'bilawla': 5868, 'contr': 5869, 'uc33': 5870, 'capac': 5871, 'arsalanghummanthes': 5872, 'pelas': 5873, 'aliktareen': 5874, 'lodhran': 5875, 'causat': 5876, 'imrafaykhan': 5877, 'bbhuttoz': 5878, 'mediacellmalir': 5879, 'jamo': 5880, '1103pmmultan': 5881, 'yusaf': 5882, 'brazenli': 5883, 'sahibzada': 5884, 'hamid': 5885, 'brigadi': 5886, 'wantge2018': 5887, 'friendli': 5888, 'wine': 5889, 'na135': 5890, 'inna': 5891, 'najmaaamir': 5892, 'fata': 5893, 'overflow': 5894, 'milliyouthw': 5895, 'buner': 5896, 'summar': 5897, 'poorth': 5898, 'mafiainsafpk': 5899, 'talalchuadhri': 5900, 'thirdtim': 5901, 'hamadurrehmanbj': 5902, 'referendum': 5903, 'dummi': 5904, 'panjgur': 5905, 'vote4bnp': 5906, 'yrgillani': 5907, 'brt': 5908, 'say2yasin': 5909, 'engrtauseefeja1': 5910, 'ratio': 5911, 'psp4women': 5912, 'sanamerza': 5913, 'bcx': 5914, 'pti1': 5915, 'revival6': 5916, 'opportunities7': 5917, 'uninstal': 5918, 'shameful': 5919, 'adevertis': 5920, 'tourism': 5921, 'waalaikum': 5922, 'assalam': 5923, 'lbpoll': 5924, 'salient': 5925, 'qwpmanifesto2018': 5926, 'qwppkoffici': 5927, 'prodemocraci': 5928, 'navidnasim': 5929, 'colonyge2018ps64bhut': 5930, 'khatamenabuwat': 5931, 'ptina241': 5932, 'ena241': 5933, 'kapta': 5934, 'basit01': 5935, 'thees': 5936, 'namoo': 5937, 'firqa': 5938, 'fiq': 5939, 'antiestablish': 5940, '2018i': 5941, 'claimer': 5942, 'jump': 5943, 'tanksge2018': 5944, 'kingdom': 5945, 'mohsinmeer10': 5946, 'nofalgodil': 5947, 'patriotpakista2': 5948, 'arashidgodil': 5949, 'ptikhi': 5950, 'ridizil': 5951, 'fakharzamanl': 5952, 'zaman4pm': 5953, 'demagogu': 5954, 'chestthump': 5955, 'fistwag': 5956, 'patron': 5957, 'hockey': 5958, 'iqbalzarmeena': 5959, 'abdullahmalikj': 5960, 'sherazipsp': 5961, 'belowqureshimuzammilimrankhanptiabidifac': 5962, 'jitnay': 5963, 'kharay': 5964, 'karlo': 5965, 'hokay': 5966, 'gaiss': 5967, 'uskay': 5968, 'tout': 5969, 'dabba': 5970, 'gol': 5971, 'reignit': 5972, 'chishti': 5973, 'appealso': 5974, 'nangyalc': 5975, 'shaz': 5976, 'testimoni': 5977, 'rtmrazaharoon': 5978, 'wellwish': 5979, 'stamp': 5980, 'psppakista': 5981, 'chak': 5982, 'shujabad': 5983, 'multanppp': 5984, 'loweimrankhan': 5985, 'tabeshq': 5986, 'econ': 5987, 'insta': 5988, 'pakawaitspunishmenttonsabsirfimrankhan': 5989, 'masood619': 5990, 'na4': 5991, 'swatiii': 5992, 'murad': 5993, 'pk9': 5994, 'swatviii': 5995, 'safari': 5996, 'swatii': 5997, '010718pti': 5998, 'ptinarowalpk': 5999, '050718youtub': 6000, 'affarhan': 6001, 'beautyabsirfimrankhan': 6002, 'nkhanswati70': 6003, 'majida': 6004, 'anismemon1': 6005, 'iktiyar': 6006, 'nadiamubarakpti': 6007, 'azharabbas3': 6008, 'abbottabadge2018': 6009, 'mushrajpar': 6010, 'nonpartisan': 6011, 'unbias': 6012, 'bbcbreak': 6013, 'navig': 6014, 'kamranbokhari': 6015, 'pow': 6016, 'itscominghom': 6017, 'mastoong': 6018, 'resili': 6019, 'pakistanelections2018an': 6020, 'missedhizb': 6021, 'ut': 6022, 'tahrir': 6023, 'presentsonli': 6024, 'natashamustafa': 6025, 'aegi': 6026, 'ae': 6027, 'weigh': 6028, 'educationforal': 6029, 'khalaimakhlooq': 6030, 'imram': 6031, 'turkey': 6032, 'whatit': 6033, 'incindiay': 6034, 'pakistancourt': 6035, 'preferentialvotingpakelections2018ilgs2015': 6036, 'shaken': 6037, '160': 6038, '4th': 6039, 'democracy0': 6040, 'lhr': 6041, 'gulmina': 6042, 'affix': 6043, 'hoard': 6044, 'size': 6045, 'prescrib': 6046, 'dissuad': 6047, 'womenpakelections2018': 6048, 'pjyouthcaocu': 6049, 'dilemma': 6050, 'observersread': 6051, 'region': 6052, 'fatimahlove92': 6053, 'shaheensabiha': 6054, 'indiv': 6055, 'mess': 6056, 'apt': 6057, 'ordinari': 6058, 'hahaha': 6059, 'depriv': 6060, 'await': 6061, 'danialtn12': 6062, 'responsiblypakel': 6063, '2017pakelections2018': 6064, 'laraibmufc': 6065, 'polli': 6066, 'contesti': 6067, 'ptipmln': 6068, 'unsur': 6069, 'btw': 6070, 'numberssirajoffici': 6071, 'ttpwmak': 6072, 'farahnazzahidi': 6073, 'sickeningppl': 6074, 'mediaforget': 6075, 'humanityrip': 6076, 'getpakistantv': 6077, 'nowelections2018': 6078, 'novemb': 6079, 'garland': 6080, 'qudsiyaah': 6081, 'drshabir': 6082, 'threadsherayasheraya': 6083, 'shahryarniazi': 6084, 'pontifex': 6085, 'ethnic': 6086, 'na243kaptaankaelections2018': 6087, 'attacksbilawalbhutto': 6088, 'franc': 6089, 'commentselections2018': 6090, 'thembut': 6091, 'democracybi': 6092, 'loss': 6093, 'foremost': 6094, 'lahorelatest': 6095, 'ejazchaudhri': 6096, '3000': 6097, 'fist': 6098, 'fightlatest': 6099, 'countrywid': 6100, 'lacallo2580': 6101, 'sharifwatch': 6102, 'dasti': 6103, 'jamshedahmeddasti': 6104, 'gladli': 6105, 'hype': 6106, 'anasalisani1': 6107, 'systemso': 6108, 'planner': 6109, 'arbabgroupgda': 6110, 'politicselections2018': 6111, 'alishbagharshin': 6112, 'harsh': 6113, 'onlineindu': 6114, 'realist': 6115, 'jeet': 6116, 'seatshazara': 6117, 'elections2018bi': 6118, 'adnan': 6119, 'sonofthesoil': 6120, 'imransidra': 6121, 'pakistantaleemdoelections2018tharparkar': 6122, 'eacpepk': 6123, 'mahar': 6124, 'boost': 6125, 'weaken': 6126, 'nat': 6127, 'dec': 6128, 'footbal': 6129, 'meagr': 6130, 'concept': 6131, 'assum': 6132, 'defens': 6133, 'swag': 6134, 'gucci': 6135, 'jordaan': 6136, 'loafer': 6137, 'gvsnew': 6138, 'electionscampaign': 6139, 'bureaucrat': 6140, 'begum': 6141, 'succumb': 6142, 'mastun': 6143, 'bannublast': 6144, 'phone': 6145, 'financi': 6146, 'tahirulqadri': 6147, 'electionspakistan': 6148, 'pakistanneedskaptaan': 6149, 'hydyouthsocieti': 6150, 'bbsoofi': 6151, 'mzrawaz': 6152, 'girlsrighttosecondaryeduc': 6153, 'manifest': 6154, 'girlsrighttosecondayedc': 6155, 'darama': 6156, 'bazi': 6157, 'fakepeopl': 6158, 'ptiptielectioncampaign': 6159, 'umaimablogg': 6160, 'hatespeech': 6161, 'coveredshaikhrashe': 6162, 'ptifamili': 6163, 'convey': 6164, 'ta': 6165, 'ja': 6166, 'lightermachi': 6167, 'hakeem': 6168, 'mental': 6169, 'isisi': 6170, 'congressmuktbharatnow': 6171, 'officeaqpk': 6172, 'naband': 6173, 'donot': 6174, 'anwarlodhi': 6175, 'meetingseem': 6176, 'hafffsa': 6177, 'tigersthat': 6178, 'aqkkundi': 6179, 'daaen': 6180, 'sati': 6181, 'savitri': 6182, 'dajjaliat': 6183, 'limitless': 6184, 'nabster': 6185, 'aya': 6186, 'whymehrab': 6187, 'expain': 6188, 'phirki': 6189, 'nexu': 6190, 'mastong': 6191, 'newswatchpak': 6192, 'jahangirktareen': 6193, 'pklection': 6194, 'mehmal': 6195, 'nee': 6196, 'behaviour': 6197, 'abhi': 6198, 'inelig': 6199, 'tvmedia': 6200, 'har': 6201, 'mariyamnawaz': 6202, 'terrorism': 6203, 'itni': 6204, 'mehnat': 6205, 'prov': 6206, 'wellevidenc': 6207, 'backseat': 6208, 'lda': 6209, 'closur': 6210, 'bag': 6211, 'turmoil': 6212, 'aye': 6213, 'cpecoffici': 6214, 'cpecobor': 6215, 'bri': 6216, 'wsj': 6217, 'jawabdeyh': 6218, 'foul': 6219, 'exchang': 6220, 'arshadotago': 6221, 'estab': 6222, 'undon': 6223, 'profil': 6224, 'khoottaaa': 6225, 'khota': 6226, 'lmao': 6227, 'kamyana': 6228, 'chicha': 6229, 'watni': 6230, 'seatbi': 6231, 'playlist': 6232, 'sofia': 6233, 'parveen': 6234, 'inayatullah': 6235, 'faizi': 6236, 'mohib543': 6237, 'plazamqm': 6238, 'cochairman': 6239, 'sulemansharif82': 6240, 'sheherpti': 6241, 'nephew': 6242, 'sound': 6243, 'michealjackson': 6244, 'kingofpop': 6245, 'maersk': 6246, 'warehous': 6247, 'airp': 6248, 'shld': 6249, 'indefens': 6250, 'instrument': 6251, 'jeopardi': 6252, 'anoint': 6253, 'nonfavor': 6254, 'goon': 6255, 'bhatta': 6256, 'scream': 6257, 'pakistanipolit': 6258, 'dude': 6259, 'himjunaidsafdararrest': 6260, 'fblive': 6261, 'gunda': 6262, 'dunyaprogramsdunyakkk': 6263, 't2f': 6264, 'samrakhan015': 6265, 'dolphinsig': 6266, 'pce': 6267, 'dau': 6268, 'lau': 6269, 'hotli': 6270, 'farisalikhan2': 6271, 'elections2018mass': 6272, 'iamfahadshahbaz': 6273, 'vedio': 6274, 'na106': 6275, 'jatt': 6276, 'ptielection2018': 6277, 'advic': 6278, 'tackl': 6279, 'nap': 6280, 'h2otayaba': 6281, 'allaliz': 6282, 'argu': 6283, 'barafasila': 6284, 'raini': 6285, 'allahalmighti': 6286, 'redraw': 6287, 'yay': 6288, 'feelin': 6289, 'xcitd': 6290, 'halkasiyasat': 6291, 'wd': 6292, 'fv': 6293, 'voicetaleemdoelections2018badin': 6294, 'voterfraudisr': 6295, 'sorosvotingfraudmachin': 6296, 'qanon': 6297, 'yaqoobgen': 6298, 'pakistantaleemdo': 6299, 'chitrali': 6300, 'fightelections2018': 6301, 'abrarulhaq': 6302, 'ahsaniqb': 6303, 'dunyaupdateselections2': 6304, 'shahidkhaqanabbasi': 6305, 'diaspora': 6306, 'farhadjarralpk': 6307, 'outlin': 6308, 'biri': 6309, 'reign': 6310, 'therefor': 6311, 'campaignps102': 6312, 'riazbalochpppna243': 6313, 'syedashehlarazadistricteastpppmuhammadriazps102psfkarach': 6314, 'umarfarooqgl': 6315, 'khayabaneiqb': 6316, 'kiyounkeh': 6317, 'sonyabattla2': 6318, 'anousheya': 6319, 'khoosatsarmad': 6320, 'khadijasidd': 6321, 'metro': 6322, 'ayyuni': 6323, 'pmlnpakpattann': 6324, 'shair': 6325, 'pinditusslesheikhrashe': 6326, 'toh': 6327, 'kanalaffi5000': 6328, '75': 6329, 'lubna1shahid': 6330, 'dilan': 6331, 'wajahat': 6332, 'cook': 6333, 'electionfev': 6334, 'khalidmunir': 6335, 'alif': 6336, 'ailaan': 6337, 'qasim': 6338, 'dullah': 6339, 'na64discuss': 6340, 'nex': 6341, 'stope': 6342, 'ghunda': 6343, 'boast': 6344, 'sharmeenchaudri': 6345, 'campaignavenfieldrefr': 6346, 'srk': 6347, 'farhanaries007': 6348, 'potian': 6349, 'bootwala': 6350, 'cheapjustic': 6351, 'nawazsharifkaysathchalojudicialcoupelect': 6352, 'park': 6353, 'nadra': 6354, 'beco': 6355, 'aneebhutto': 6356, 'calmandsupport': 6357, 'slain': 6358, 'darensammy88': 6359, 'cristiano': 6360, 'lionel': 6361, 'messi': 6362, 'coher': 6363, 'ruler': 6364, 'edag': 6365, 'pmlncredit': 6366, 'junaidqaiserppp': 6367, 'chauhdri': 6368, 'na137mediacellppp': 6369, 'optimist': 6370, 'fe': 6371, 'a25': 6372, 'taleemdoelections2018badin': 6373, 'sell': 6374, '2018elections2018': 6375, 'geonewsenglish': 6376, 'suneta': 6377, 'kumari': 6378, 'advertisementpmln': 6379, 'vote4sh': 6380, '4450': 6381, '4375': 6382, 'muneebfaruqpak': 6383, 'sharifpmlnorg': 6384, 'moneylaunderingelections2018read': 6385, 'shehbazpmlnorg': 6386, 'dual': 6387, 'wellintent': 6388, 'siddiquethar': 6389, 'queri': 6390, 'candidatestaleemdo': 6391, 'publicth': 6392, 'educationelections2018': 6393, 'chmumair': 6394, 'dgisp': 6395, 'rela': 6396, 'illus': 6397, 'daysanpmarkaz': 6398, 'mechan': 6399, 'pk78anpmarkaz': 6400, 'tussleshkhrashe': 6401, 'pmlnorgawamimuslimleagelections2018': 6402, 'catch': 6403, 'shahnawaz': 6404, 'qomi': 6405, 'tahreek': 6406, 'saysfeud': 6407, 'gdabarrist': 6408, 'fazalullah': 6409, 'budgetsnoor': 6410, 'infrastractur': 6411, 'differenceyoung': 6412, 'nonstat': 6413, 'asfandyar': 6414, 'walifor': 6415, 'hack': 6416, 'usmanonboard': 6417, 'centr': 6418, 'speedimrankhan': 6419, 'elevenpointsagenda': 6420, 'moder': 6421, 'maker': 6422, 'probe': 6423, 'inaeemiqb': 6424, 'faisalvawdaptinow': 6425, 'azharkhagga1': 6426, 'misconcept': 6427, 'qoumi': 6428, 'baligaan': 6429, 'votepakvot': 6430, 'mmataleemdo': 6431, 'insan': 6432, 'positio': 6433, 'tarke': 6434, 'pasand': 6435, 'responsibilti': 6436, 'writer': 6437, 'hyderabadsyedahm': 6438, 'deliber': 6439, 'negat': 6440, 'faizabad': 6441, 'signatur': 6442, 'slum': 6443, 'ps56': 6444, '21st': 6445, 'scientif': 6446, 'nawaznawaz': 6447, '25ecp': 6448, 'shot': 6449, 'mannerarmi': 6450, 'restinpeac': 6451, 'rinaskitchenett': 6452, 'asadliaqat': 6453, 'ove': 6454, 'dirtiest': 6455, 'senfarhatullahb': 6456, 'mazharabbasgeo': 6457, 'pack': 6458, 'mediahous': 6459, 'unreleas': 6460, 'teacup': 6461, 'bilouramp12': 6462, 'peshawa': 6463, 'minut': 6464, 'sheikhwaleed15': 6465, 'jannah': 6466, 'jihadi': 6467, 'embrac': 6468, 'uz': 6469, 'zalimeen': 6470, 'pashtoon': 6471, 'li': 6472, 'themtaleemdo': 6473, 'strikesanp': 6474, 'winter0ev': 6475, 'nothingnesselections2018': 6476, 'cross': 6477, 'admir': 6478, 'grit': 6479, 'visiononlinetv': 6480, 'cor': 6481, 'conquer': 6482, 'elections2018mard': 6483, 'rashidamuqadam': 6484, 'corruptionit': 6485, 'summer': 6486, 'changeptioffici': 6487, 'pervezkhattakcm': 6488, 'kpgovern': 6489, 'advertisementspti': 6490, 'plmn': 6491, 'yousufnazar': 6492, 'finalis': 6493, 'pmlnelection2018': 6494, 'bhugtishahm': 6495, 'goin': 6496, 'mmaonlyoptionoth': 6497, 'capit': 6498, 'gr': 6499, 'parliam': 6500, 'pervezmusharraf': 6501, 'provi': 6502, 'ilm': 6503, 'localbodi': 6504, 'weather': 6505, 'apolog': 6506, 'dumpster': 6507, 'extinguish': 6508, 'sajjadhaid': 6509, 'vide': 6510, 'rhi': 6511, 'unki': 6512, 'ni': 6513, 'imtiazalamsafma': 6514, 'democracyeven': 6515, 'discrep': 6516, 'rep': 6517, 'path': 6518, 'jafhk': 6519, 'snatch': 6520, 'incidentofficialdgispr': 6521, 'immun': 6522, 'exert': 6523, 'voteelections2018': 6524, 'mukhlooq': 6525, 'aiou': 6526, 'adnanzah': 6527, 'flood': 6528, 'screen': 6529, 'saidalammahsud': 6530, 'pashtuntahafuzmov': 6531, 'politicalparliamentari': 6532, 'multi': 6533, 'laud': 6534, 'freedomofexpress': 6535, 'journalistsafeti': 6536, 'ndtv': 6537, 'samsung': 6538, 'indiapoliticalwar': 6539, 'oxfam': 6540, 'australia': 6541, 'tareqafridi': 6542, 'choicesupport': 6543, 'troll': 6544, 'spend': 6545, 'twittermarvimemon': 6546, 'pmlnorgelection2018': 6547, 'electionact2017': 6548, 'atleast': 6549, 'circusdemocraci': 6550, 'irrit': 6551, 'search': 6552, 'mmapakoffici': 6553, 'javeednusrat': 6554, 'alizafarsay': 6555, 'alizafar': 6556, 'octaneoffici': 6557, 'asmanoureen47': 6558, 'mini': 6559, 'khatam': 6560, 'asadkhar': 6561, 'thir': 6562, 'bot': 6563, 'khyberpa': 6564, 'kn': 6565, 'freelypidgov': 6566, 'msraja': 6567, 'affairs': 6568, '1000': 6569, 'ruin': 6570, 'forgiv': 6571, 'dip': 6572, 'dab': 6573, 'unplea': 6574, 'righttovot': 6575, 'righttoselfdetermin': 6576, 'bite': 6577, 'disregard': 6578, 'disrespect': 6579, 'exhibit': 6580, 'visavi': 6581, 'hyderabadalifailaan': 6582, 'mulk': 6583, 'fazalur': 6584, 'rahmanelections2018': 6585, 'aisa': 6586, 'walkinvogu': 6587, 'fightpidgov': 6588, 'expresstribun': 6589, 'sarcasm': 6590, 'intent': 6591, '25juli': 6592, 'razzaqu': 6593, 'thenewsonsundaytaleemdo': 6594, 'environmen': 6595, 'madina': 6596, 'arvind': 6597, 'kejriw': 6598, 'conformist': 6599, 'aadmi': 6600, 'bjpand': 6601, 'bjp': 6602, 'na172': 6603, 'elahi': 6604, 'coz': 6605, 'jahil': 6606, 'frnd': 6607, 'munafqat': 6608, 'tower': 6609, 'fough': 6610, 'refus': 6611, 'proport': 6612, 'sharifw': 6613, 'promptli': 6614, 'akhtarpmln22': 6615, 'usit': 6616, 'successtaleemdo': 6617, 'ayeshabakhsh': 6618, 'ausvpak': 6619, 'engvind': 6620, 'imrankhanptiwhosoev': 6621, 'naraemastana': 6622, 'ptielecti': 6623, 'eat': 6624, 'loan': 6625, 'workk': 6626, 'ayeshaijazkhan': 6627, 'heldcontrol': 6628, '53': 6629, 'isf': 6630, 'imransheikkh': 6631, 'adyalaawaitssharif': 6632, 'joker': 6633, '04': 6634, 'sirajulhaq': 6635, 'cring': 6636, 'itna': 6637, 'bahar': 6638, 'eke': 6639, 'constituencypidgov': 6640, 'conferencear': 6641, 'followelections2018': 6642, 'pna': 6643, 'elections1977histori': 6644, 'tarekfatah': 6645, 'gpaavenfieldrefer': 6646, 'husband': 6647, 'mattera': 6648, 'pakistanisthi': 6649, 'mkamranasghar': 6650, 'muzaffargarhgeneralelections2018': 6651, 'zahid': 6652, 'librari': 6653, 'cla': 6654, 'spugmay': 6655, 'schol': 6656, 'howe': 6657, 'no1enrolmnt': 6658, '1283039': 6659, 'bw': 6660, '1amp5frthermor': 6661, 'drp': 6662, 'bazaar': 6663, 'imrankhanexpos': 6664, 'tribut': 6665, 'khaninam1': 6666, 'str': 6667, 'votebi': 6668, 'salmanisaluelections2018': 6669, 'camranciddiqui': 6670, '27watch': 6671, 'nooralamkhan': 6672, 'visionari': 6673, 'forpti': 6674, 'ind': 6675, 'tonit': 6676, 'amnsardar': 6677, 'hanifsamoon1': 6678, 'eldestsyndrom': 6679, 'censu': 6680, 'rawalpindipmlnorg': 6681, 'karo': 6682, 'technolog': 6683, 'dubiou': 6684, 'convention20': 6685, '2018theme': 6686, 'shaurnew': 6687, 'itacec': 6688, '2018vote': 6689, 'dreshak': 6690, 'na194': 6691, 'upload': 6692, 'nude': 6693, 'niaz': 6694, 'jakhar': 6695, 'na188': 6696, 'kidnap': 6697, '15yearold': 6698, 'layyah': 6699, 'unimport': 6700, 'burkaavenger3': 6701, '254': 6702, 'omar': 6703, 'omari': 6704, 'ps126': 6705, 'societywhi': 6706, 'amalgam': 6707, 'politicsgeneralelection2018': 6708, 'loanspidgov': 6709, 'rout': 6710, 'uch': 6711, 'policebi': 6712, 'zarmeena': 6713, 'iqbalbbhuttozardari': 6714, 'bhuttofamili': 6715, 'cheer': 6716, 'fortunepidgov': 6717, '460': 6718, 'seatspidgov': 6719, 'hydearbad': 6720, 'hearten': 6721, 'ylc2018': 6722, 'wellinform': 6723, 'drnausheenpti': 6724, 'malikrohainathank': 6725, 'box': 6726, 'sheharyarizwan': 6727, 'na125': 6728, 'umairher': 6729, 'thankyounaeem': 6730, 'punjabpolic': 6731, 'nawazpmlnorgpresidentpmln': 6732, 'adorn': 6733, '20118': 6734, 'juhimoin': 6735, 'iamhumanist': 6736, 'aw': 6737, 'naiv': 6738, 'raheel': 6739, 'votetaleemdo': 6740, 'mushahid': 6741, 'saadsul': 6742, 'dropout': 6743, 'pkelection2018': 6744, '136': 6745, 'faisaljavedkhan': 6746, 'dija': 6747, 'recentlyheld': 6748, 'turkeyelect': 6749, 'benazirabad': 6750, 'disappear': 6751, 'stopbut': 6752, 'meme': 6753, 'clo': 6754, 'faculti': 6755, 'loud': 6756, 'imranarainppp': 6757, 'engrsabirkk': 6758, 'consituencytaleemdo': 6759, 'educationeducationampeducationtaleemdo': 6760, 'gondal': 6761, 'exppp': 6762, 'na150': 6763, 'henchman': 6764, 'pp162': 6765, 'plot': 6766, 'ahmadi': 6767, 'doi': 6768, 'arslajawaid': 6769, 'tere': 6770, 'usampa': 6771, 'basebal': 6772, 'behest': 6773, 'beh': 6774, 'aliawan007': 6775, 'plselections2018': 6776, 'ammarnav': 6777, 'usmanshahzada': 6778, 'avenfieldreferencereport': 6779, 'likelihood': 6780, 'votingwil': 6781, '40like': 6782, '13less': 6783, '8unlik': 6784, '13not': 6785, '27me': 6786, 'proudi': 6787, 'bilawalbbhuttozardari': 6788, 'nawazsharifkapakistan': 6789, 'dinner': 6790, 'ptiavenfieldrefer': 6791, 'yasmeen9': 6792, 'overthrow': 6793, 'ajmal': 6794, 'fast': 6795, 'avanfielrefer': 6796, 'brighter': 6797, 'bett': 6798, 'circl': 6799, 'aaqibnawaz001': 6800, 'shahsabg': 6801, 'pakistanw': 6802, '10year': 6803, 'evenfieldrefer': 6804, 'amirmateen2': 6805, 'quaideazamkapakistan': 6806, 'zehri': 6807, 'pppmanifesto2018': 6808, 'token': 6809, 'roll': 6810, 'vsinsan': 6811, 'partybbhuttozardari': 6812, 'pathan': 6813, 'najiaashar': 6814, '45': 6815, 'hazradivs': 6816, 'pollspmlq': 6817, 'khanzamankakar': 6818, 'stereotyp': 6819, 'racist': 6820, 'electionsptimqmmma': 6821, 'maazsae': 6822, 'sung': 6823, 'maam': 6824, 'bark': 6825, '01wazir': 6826, 'amalempow': 6827, 'ink': 6828, 'watercolor': 6829, 'portrait': 6830, 'nowr': 6831, '4000': 6832, 'fantast': 6833, 'wors': 6834, 'primer': 6835, 'weekbbterakaaflathamanahinaw': 6836, 'syedalizafar1': 6837, 'ref': 6838, 'establishmentpmln': 6839, 'pun': 6840, 'eight': 6841, 'disgrac': 6842, 'fawadhassanfawad': 6843, 'esakhailvi': 6844, 'mianwali': 6845, 'comicsbymajid': 6846, 'tayyabmemon': 6847, 'surkhminahil': 6848, 'prob': 6849, 'ipor': 6850, 'conf': 6851, 'flow': 6852, 'wid': 6853, 'engiftikharch': 6854, 'modeltowncas': 6855, 'modeltownkil': 6856, 'asadatoor': 6857, 'tight': 6858, 'adult': 6859, 'radioawazfm': 6860, 'goodmorningawaz': 6861, 'rubbab': 6862, 'ihsan': 6863, 'misbahkhalid4': 6864, 'dehli': 6865, 'baradari': 6866, 'generalelections2018podaelectionobserv': 6867, 'nawabzadasirajraisani': 6868, 'pakistangeneralelections2018': 6869, 'loser': 6870, 'mon': 6871, 'queshi': 6872, 'proof': 6873, 'yogendrabihola': 6874, 'koolkopp': 6875, 'sana': 6876, 'laugh': 6877, 'bunch': 6878, 'hungri': 6879, 'sadreal': 6880, 'humza': 6881, 'saturday': 6882, '0300pm': 6883, '0600pm': 6884, 'turnth': 6885, 'shagufta': 6886, 'whore': 6887, 'shareefa': 6888, 'todaynawazsharif': 6889, 'paretabad': 6890, 'kazi': 6891, 'respectgeneralelections2018': 6892, 'pakistantarget': 6893, 'display': 6894, 'sanctuari': 6895, 'puanconfernc': 6896, 'mee': 6897, 'jehanzebb': 6898, 'questionswho': 6899, 'diamer': 6900, 'killswitch': 6901, 'uncal': 6902, 'freehand': 6903, 'deser': 6904, 'reselect': 6905, 'tori': 6906, 'inevit': 6907, 'sow': 6908, 'reap': 6909, 'notocorruptionsgeneralelections2018': 6910, 'agha300': 6911, 'bother': 6912, 'march': 6913, 'mshashmi': 6914, 'byebyec': 6915, 'kha': 6916, 'theyv': 6917, 'niddo': 6918, 'shashi': 6919, 'tharoor': 6920, 'manishankar': 6921, 'aiyar': 6922, 'congress': 6923, 'impecc': 6924, 'english': 6925, 'hindupakistancom': 6926, 'zshancheema': 6927, 'myworld346': 6928, 'facebookteam': 6929, 'blindmedia4mm': 6930, 'download': 6931, 'color': 6932, 'gi': 6933, 'googl': 6934, 'seiz': 6935, 'affidavit': 6936, 'tyrian': 6937, 'pakdef': 6938, 'mustafa47961092': 6939, 'sairaanwer1': 6940, 'nightbett': 6941, 'vic26c': 6942, 'generalelections2018etihadairway': 6943, 'gunj': 6944, 'bookingcan': 6945, 'aitzaz': 6946, '60pmln': 6947, 'dynast': 6948, 'tryin': 6949, 'bear': 6950, 'clap': 6951, 'seats2013': 6952, 'fish': 6953, 'singer': 6954, 'witnessesnbp': 6955, 'perpetu': 6956, 'devoid': 6957, 'pureinsfian': 6958, 'hahahahahaha': 6959, 'defensear': 6960, 'ughrejectpti': 6961, 'ew': 6962, 'thatrejectpti': 6963, 'electionsoth': 6964, 'campaignspti': 6965, 'slut': 6966, 'sabrinahayat1': 6967, 'jarahay': 6968, 'tum': 6969, 'arbo': 6970, 'rupay': 6971, 'propakistan': 6972, 'jurygmail': 6973, 'raoanwa': 6974, 'shobaz': 6975, 'mr10': 6976, 'saqibnisar': 6977, 'sold': 6978, 'iamziabhat': 6979, 'securit': 6980, 'disqualifyarrest': 6981, 'intimid': 6982, 'judiciaryarmi': 6983, 'mohara': 6984, 'mmlgeneralelections2018': 6985, 'smootharmi': 6986, 'lekin': 6987, 'generalelections2018r': 6988, 'buhat': 6989, 'votebulb': 6990, 'voteloudspeak': 6991, 'bal': 6992, 'insteadgeneralelections2018': 6993, 'hidden': 6994, 'bow': 6995, 'hasrejectpti': 6996, 'officialusamaj': 6997, 'milestablish': 6998, 'gwynn': 6999, 'allo': 7000, 'burden': 7001, 'uneven': 7002, 'whoop': 7003, 'mj': 7004, 'ptige2018generalelections2018': 7005, 'scrutini': 7006, 'cute': 7007, 'uc2930': 7008, 'saeedabad': 7009, 'generalelections2018votefor': 7010, 'bornthey': 7011, 'votekindli': 7012, 'depict': 7013, 'qampa': 7014, 'demandtaleemdo': 7015, 'chakwal': 7016, 'abbottabadtaleemi': 7017, 'pani': 7018, 'genuin': 7019, 'infor': 7020, 'dilat': 7021, 'interrupt': 7022, 'imranismail': 7023, 'rok': 7024, 'tweeterist': 7025, 'inept': 7026, 'landlord': 7027, 'explor': 7028, 'illango': 7029, 'pakzohaqureshi': 7030, 'candi': 7031, 'titan': 7032, 'aabidge': 7033, 'pk56na23': 7034, 'gulzarkhanyasira': 7035, 'tabindasamar': 7036, 'jibranbloch': 7037, 'hahahaha': 7038, 'corridor': 7039, '58': 7040, 'gujarkhan': 7041, 'ptigeneralelections2018': 7042, 'karachihumanist': 7043, 'doodlistan': 7044, 'rabiaabbasippp': 7045, 'romama': 7046, '11000': 7047, 'bia': 7048, 'nonstop': 7049, 'enthusiast': 7050, 'firdau': 7051, 'naqvi': 7052, 'shahzadmemon116': 7053, 'navi': 7054, 'aswjlej': 7055, 'againgeneralelections2018': 7056, 'criterion': 7057, 'unknown': 7058, 'tvsavenfieldrefer': 7059, 'embark': 7060, 'kulimalik': 7061, 'islamudinsajid': 7062, 'nati': 7063, 'pakawaitspunishmentton': 7064, 'restor': 7065, 'glori': 7066, 'haider110618': 7067, 'mandatevoteforjibrann': 7068, 'where': 7069, 'drkhan': 7070, 'realitypmln': 7071, 'generalelections2018voteforkitevoteforrightfaisalsubzwari': 7072, 'abi': 7073, 'neighborhood': 7074, 'throng': 7075, 'san': 7076, 'preva': 7077, 'jamaat': 7078, 'businesslin': 7079, '111111': 7080, '79': 7081, 'injuredmastungattack': 7082, 'exi': 7083, 'dispatch': 7084, 'kartikeya1975': 7085, 'ist': 7086, 'surprisingli': 7087, 'duck': 7088, 'sabenasiddiqi': 7089, 'tahassiddiqui': 7090, 'tarazu': 7091, 'andha': 7092, 'kanoon': 7093, 'pakistanstockexchang': 7094, 'shariacourt': 7095, 'viewsnewsmag': 7096, 'pakistanel': 7097, 'slip': 7098, 'fallout': 7099, 'latesta': 7100, 'broadcastpk': 7101, 'antiriot': 7102, 'squad': 7103, '12yearold': 7104, 'detain': 7105, 'baloochistan': 7106, 'balooch': 7107, 'weak': 7108, 'ration': 7109, 'assert': 7110, 'forthcom': 7111, 'nafal': 7112, 'ev1': 7113, 'disappoint': 7114, 'corruptionvoteforpakistan': 7115, 'adyala': 7116, 'naveedahmed365': 7117, 'mast': 7118, 'enabl': 7119, 'corruptionb': 7120, 'allvoteforpakistan': 7121, 'changevoteforpak': 7122, 'changevoteforpakistan': 7123, 'medic': 7124, 'treatment': 7125, 'votecompk': 7126, 'acr': 7127, 'nozardarigeneralelect': 7128, 'alhaid': 7129, 'polo': 7130, 'tshirtwhatsappcal': 7131, '03013386286or': 7132, 'asmahbarje': 7133, 'mashaallah': 7134, 'dera': 7135, 'mmaonlyoptioneveri': 7136, 'mehwishhayat': 7137, 'lollywood': 7138, 'rafiq': 7139, 'shabilaasgh': 7140, 'avenfieldreferenceverdictiwillvoteforbatadyalaawaitssharif': 7141, 'damsforpakistanwish': 7142, 'truebachpan': 7143, 'sunti': 7144, 'rahi': 7145, 'damsgod': 7146, 'queen': 7147, 'dawnofnayapakistanadyalaawaitssharif': 7148, 'iwillvoteforbatcaptainsafdarth': 7149, 'samiadnan140': 7150, 'flamevoteforpakistan': 7151, 'voteforikbecaus': 7152, 'chriyaahm': 7153, 'alishbabukhari1': 7154, 'votepti': 7155, 'disinform': 7156, 'starv': 7157, 'pithoro': 7158, 'ptifraud': 7159, '13755km': 7160, 'pakist': 7161, 'choiceimpress': 7162, 'votehop': 7163, 'voteforyourself': 7164, 'vote4pakostan': 7165, 'ps123voteforstar': 7166, 'centralalitariqmirzacandid': 7167, 'ps123electioncampaign2018voteforstarvoteforp': 7168, 'nazim': 7169, 'hussian': 7170, 'advt': 7171, 'naud': 7172, 'bachana': 7173, 'jitwana': 7174, 'haivot': 7175, 'disclos': 7176, 'rooghlewanay': 7177, 'ibrahimburiro1': 7178, 'establishmentdomin': 7179, 'solid': 7180, 'awpsaraikiwasib': 7181, 'sabkeliy': 7182, 'fautay': 7183, 'votefordolphindolphinsignofpeacege2018kamalpsp': 7184, 'jul15': 7185, 'fayyazgul': 7186, 'dumb': 7187, 'symbolis': 7188, 'geo': 7189, '1920': 7190, 'saleemkhansafi': 7191, 'malign': 7192, 'alt': 7193, 'pakistanso': 7194, 'nonseri': 7195, 'threatsham': 7196, '5m': 7197, 'campaigndolphinkaregiwin': 7198, 'ikforna53': 7199, '140718absirfimrankhan': 7200, 'farrukhabbas12': 7201, 'responsibilitylej': 7202, 'ramazan': 7203, 'shafiqu': 7204, 'pppmehran': 7205, '140718pmlnexpos': 7206, 'azharazam': 7207, 'prefer': 7208, 'electioncam': 7209, 'maimoonahzahid': 7210, 'abpara': 7211, 'janmuhammadabb1': 7212, 'larkan': 7213, 'alik': 7214, 'stationswazeereazamimrankhan': 7215, 'drfouziasadiq': 7216, 'tera': 7217, 'mera': 7218, 'jawadahmadon': 7219, 'danishbhutto': 7220, 'bust': 7221, 'rajasahto': 7222, 'prti': 7223, 'apc': 7224, 'outrag': 7225, 'abbasraza914': 7226, 'anger': 7227, 'suppress': 7228, 'tht': 7229, 'rumor': 7230, 'aszaidi93': 7231, 'competin': 7232, 'zaighamkhan': 7233, 'pb35': 7234, 'pm1eat': 7235, 'overseas2get': 7236, 'prison3cri': 7237, 'zainmankani': 7238, 'gud': 7239, 'haroonbalour': 7240, 'heaven': 7241, 'picturepatriot': 7242, 'tiranga': 7243, 'ashokachakraraisani': 7244, '111': 7245, 'dy': 7246, 'bapi': 7247, 'balouchistan': 7248, 'aymansherwani': 7249, 'mastungwhat': 7250, 'excusearrest': 7251, 'facilitat': 7252, 'creatur': 7253, 'arethes': 7254, 'supportbhandaphoro': 7255, '120718na129': 7256, 'seeenjeeem': 7257, 'jannatif': 7258, 'gadha': 7259, 'describ': 7260, 'suisidalattack': 7261, 'imrankhanattackonjuif': 7262, 'onl': 7263, 'womenw': 7264, 'hypothet': 7265, 'onboard': 7266, 'airplan': 7267, 'nazi': 7268, 'excm': 7269, 'khattak63': 7270, 'explos': 7271, 'cnn': 7272, 'shibli': 7273, 'faraz': 7274, 'mehar': 7275, '120718na144': 7276, 'na155': 7277, 'multanii': 7278, 'aamir': 7279, '100718pti': 7280, 'oct': 7281, 'knew': 7282, 'farooqsumar': 7283, 'scrawni': 7284, 'stagnant': 7285, 'station1': 7286, '83002': 7287, 'code3': 7288, 'pu': 7289, 'anchorsjul12': 7290, 'chill': 7291, 'bullshit': 7292, 'symphatyvot': 7293, '110718': 7294, 'ume': 7295, 'irreplac': 7296, 'zar': 7297, 'calibr': 7298, 'khara': 7299, 'mubash': 7300, 'lucman': 7301, 'ammarkamran3': 7302, 'zulfiqarmirza': 7303, 'fehmidamirza': 7304, 'shezrehmirza': 7305, 'hassammirza7': 7306, 'pspsmt': 7307, 'sameerakhansay': 7308, 'peshawarge2018pakistan': 7309, 'absirfi': 7310, 'na15': 7311, 'abbottabadi': 7312, 'asghar': 7313, '080718na15': 7314, 'karma': 7315, 'int': 7316, 'bilawa': 7317, 'storytellingwithda': 7318, 'mandi': 7319, 'ssamanjay': 7320, 'voteforkit': 7321, 'labor': 7322, 'haroobbilour': 7323, 'ptiofficialjng': 7324, 'absir': 7325, 'outgo': 7326, 'treasuri': 7327, 'merahalqaaurptius': 7328, 'enlighten': 7329, 'fabulousik': 7330, 'runup': 7331, 'contrast': 7332, 'outlook': 7333, 'vyi': 7334, 'chan': 7335, 'electipn': 7336, 'sim': 7337, 'thumb': 7338, 'jewish': 7339, 'agenta': 7340, 'politicalengin': 7341, 'electionsbhandaphoro': 7342, 'ashwaq': 7343, 'default': 7344, '1education2healthcare3tax': 7345, 'reform4corrupt': 7346, 'control5economi': 7347, '6em': 7348, 'sangeenkhan': 7349, 'ge2013': 7350, 'quiet': 7351, 'forge2018': 7352, 'damsforpakist': 7353, 'whyisupportbnp': 7354, 'fazil': 7355, 'mismailrahu': 7356, 'bargain': 7357, 'rabnawaz': 7358, 'wajid': 7359, 'mpashahinasappp': 7360, 'kb': 7361, 'cooperationtechnolog': 7362, 'unilater': 7363, 'na79': 7364, 'asadqaiserpti': 7365, 'swabidapti': 7366, 'na18': 7367, 'yakatootblast': 7368, 'julypunjab': 7369, 'politicalparticip': 7370, 'restaur': 7371, 'na27': 7372, 'peshawari': 7373, '080718na27': 7374, 'b4': 7375, 'thr': 7376, 'newsblast': 7377, 'blaat': 7378, 'ahmedbilor': 7379, 'twelv': 7380, 'poepl': 7381, 'ayesha173132': 7382, 'radic': 7383, 'percentag': 7384, 'trana': 7385, 'khanth': 7386, 'flourish': 7387, 'liberti': 7388, 'jul23': 7389, 'functionari': 7390, 'susppend': 7391, 'perceiv': 7392, 'strict': 7393, 'takencod': 7394, 'ptishani': 7395, 'ptimanif': 7396, 'publicpvt': 7397, 'july20': 7398, 'july2018': 7399, 'issuedgen': 7400, 'gadoon': 7401, 'penalti': 7402, 'toodgispr': 7403, 'watc': 7404, 'todaydunyaupd': 7405, 'ge2018today': 7406, 'credenti': 7407, '4rthright': 7408, 'mehreensabtain': 7409, 'khaomm': 7410, 'pppptipmln': 7411, 'junaidmerck4': 7412, 'imrankhanaka': 7413, 'ugli': 7414, 'stole': 7415, 'behav': 7416, 'respos': 7417, 'insaafian': 7418, 'obey': 7419, 'sherpethappa': 7420, 'electionstallalmna': 7421, 'latege2018': 7422, 'decisioni': 7423, 'babi': 7424, 'skim': 7425, 'leadersbbhuttozardari': 7426, 'rune': 7427, 'didbakhtawarb': 7428, 'nextavenfieldrefer': 7429, 'waqtnewstv': 7430, 'breakthrough': 7431, 'maani': 7432, 'wicket': 7433, 'nationl': 7434, 'mediacellpp': 7435, 'na152': 7436, 'multanbhuttoka': 7437, 'viola': 7438, 'nadiaamirz': 7439, 'optimum': 7440, 'nowelectthebestpositivepakistan': 7441, 'darlive65': 7442, 'shabbirpspmedia': 7443, 'pumplet': 7444, 'mirporkha': 7445, 'usamakhanusfzai': 7446, 'ajazkayani': 7447, 'tourism8': 7448, 'zaviyaa': 7449, 'iamjaxim': 7450, 'emphasi': 7451, 'indepth': 7452, 'becam': 7453, 'delet': 7454, 'na245pic': 7455, 'lewd': 7456, 'scheme': 7457, 'slayanyway1': 7458, 'ps114': 7459, 'pppfamili': 7460, 'itssumaira': 7461, 'sohbat': 7462, '2018peopl': 7463, 'landikot': 7464, 'hitherto': 7465, 'unresolv': 7466, 'battleswher': 7467, 'hayatabadmark': 7468, 'happiest': 7469, 'panama': 7470, 'liv': 7471, 'zilai': 7472, 'intezamiya': 7473, 'hq': 7474, 'channu': 7475, 'ptipunjab': 7476, 'abrotariq': 7477, 'na247ps111': 7478, 'mubasherl': 7479, 'resi': 7480, 'colonyge2018': 7481, 'imf': 7482, 'bailout': 7483, 'bop': 7484, 'crisisge2018': 7485, 'sipah': 7486, 'sahaba': 7487, 'peshawarhaji': 7488, 'shoukat': 7489, 'feb': 7490, 'town12': 7491, 'mubasherlucma': 7492, 'have': 7493, 'lakha': 7494, 'excess': 7495, 'bhu': 7496, 'fbhutto': 7497, 'ppppmln': 7498, 'camparison': 7499, 'wartorn': 7500, 'accepat': 7501, 'nfc': 7502, 'sheeshay': 7503, 'markhor': 7504, 'haramkhorsge2018': 7505, 'broad': 7506, 'tge': 7507, 'na157p': 7508, 'uproot': 7509, 'handbil': 7510, 'hyderi': 7511, 'umairjav': 7512, 'swingundecid': 7513, 'memeb': 7514, 'otherge2018': 7515, 'wonit': 7516, 'replica': 7517, 'healthpti': 7518, 'kphealth': 7519, 'sehatinsafcard': 7520, 'awarenessptige2018elections2018': 7521, 'pakistandeceid': 7522, 'naff': 7523, 'khurshe': 7524, 'referencebhandaphoro': 7525, 'struck': 7526, 'pari': 7527, 'regret': 7528, 'confi': 7529, '239': 7530, 'winwindol': 7531, 'uc37winwindolphin': 7532, 'psppsppakistan': 7533, 'candidaci': 7534, 'mrazah': 7535, 'electionsge2018pakistanelectionguide2018pmlnmanifesto2018absirfi': 7536, 'rabdulraqeeb': 7537, 'workshopmmlofficial01': 7538, 'mmlsouthpunjabmml': 7539, 'ballet': 7540, 'teeth': 7541, 'shove': 7542, 'filthi': 7543, 'faisa': 7544, 'tmgdir': 7545, 'ppppmlnanpmma': 7546, 'tli': 7547, 'electionsavenfieldreferenc': 7548, 'ge2018ecp': 7549, 'parizaa2': 7550, 'nowth': 7551, 'majorityavenfieldrefer': 7552, 'maryamnawazpakawaitspunishmentton': 7553, '5juli': 7554, 'thrive': 7555, 'gonezardari': 7556, 'matefinallynawazsharif': 7557, 'avenfieldpakawaitspunishmenttonsabsirfimrankhan': 7558, 'expolit': 7559, 'manzoor65096707': 7560, 'masudahsan1': 7561, 'shuaibrehmaan': 7562, 'urdubolnaywala': 7563, 'mushtaq': 7564, 'ghani': 7565, 'mianabrar': 7566, 'ptipoliticss': 7567, 'electionpidgov': 7568, 'ge2k18': 7569, 'mahmoodk69': 7570, 'highestachiev': 7571, 'manifestopresidentpmln': 7572, 'karachiread': 7573, 'rotten': 7574, 'crawl': 7575, 'blessedfriday': 7576, '9am5pmacccourt': 7577, 'pmlnorg07pm': 7578, 'fra': 7579, 'uru11pm': 7580, 'bel': 7581, 'worldcup': 7582, 'bbteerakaaflathamanahin': 7583, '050718': 7584, 'itsmeezee': 7585, 'urwa144': 7586, 'kapra': 7587, 'makan': 7588, '63000': 7589, 'ge2018polic': 7590, 'disabl': 7591, 'panamacas': 7592, 'symbolno': 7593, '2018ptianthem': 7594, 'jet': 7595, 'ptidgkoffici': 7596, 'irresist': 7597, 'unannounc': 7598, 'decapit': 7599, 'brutualhonest': 7600, '040718ptidigitalpolici': 7601, 'ayeshainsafian': 7602, 'alin': 7603, 'memoris': 7604, 'days1': 7605, 'healthcare3': 7606, 'lotta': 7607, 'politiciansboth': 7608, '157': 7609, 'objectiveresolut': 7610, 'fauziashahab1': 7611, 'dai': 7612, 'voiceofreason': 7613, 'aamaadmi': 7614, '2000': 7615, 'youtubeshehbazsharif': 7616, 'pakistanour': 7617, 'natashafatah': 7618, 'pakistanfor': 7619, 'terroristbi': 7620, 'cglobalpolici': 7621, 'corru': 7622, 'vetrissimo': 7623, 'paranoid': 7624, 'raeesaani': 7625, 'campaignpakistanelections2018': 7626, 'ayeshasindhu': 7627, 'siddiquimaha': 7628, 'decea': 7629, 'legalis': 7630, 'wealth': 7631, 'sargarmiyan': 7632, 'jaloo': 7633, 'badakhshankhan': 7634, 'islamabadhighway': 7635, 'mpsbell': 7636, 'oneindia': 7637, 'oldest': 7638, 'mexico': 7639, 'soa': 7640, 'pplna': 7641, 'kadduuuu1': 7642, 'nawaj': 7643, 'barg': 7644, 'remo': 7645, 'hskdeep': 7646, 'iramjmc8': 7647, 'riazghafur': 7648, 'pillar': 7649, 'statepakelections2018': 7650, 'mushoudali': 7651, 'avoidpakelections2018': 7652, 'meanspakelections2018': 7653, 'mushoud': 7654, 'bbcknn': 7655, 'candidatetheir': 7656, 'hoist': 7657, 'neededpakelections2018': 7658, 'mileycyru': 7659, 'dp': 7660, 'daughterpakelections2018': 7661, 'necessarypakelections2018talathussain12': 7662, 'claus': 7663, 'differen': 7664, 'includi': 7665, 'ieb': 7666, 'factual': 7667, 'impartialbalanc': 7668, 'lan': 7669, 'abrog': 7670, 'bo': 7671, '2017can': 7672, 'gerrymand': 7673, 'cert': 7674, 'doom': 7675, 'ewer': 7676, 'nawabshariff': 7677, 'isicontrolsgovern': 7678, 'stack': 7679, '2018pakelections2018': 7680, 'pakistanpakelections2018': 7681, 'democracy0whi': 7682, 'bleach': 7683, 'pakelections2018mushoud': 7684, 'innalillah': 7685, 'balochistanpakelections2018': 7686, 'devast': 7687, 'blasp': 7688, 'unconfirm': 7689, 'circumst': 7690, 'journ': 7691, 'stuck': 7692, 'hamar': 7693, 'dawnimag': 7694, 'reactionari': 7695, 'wounder': 7696, 'edu': 7697, 'eagerli': 7698, 'segment': 7699, 'disab': 7700, 'perf': 7701, 'highligh': 7702, 'provision': 7703, 'chargeabl': 7704, 'officia': 7705, 'procur': 7706, 'resort': 7707, 'partiespakelections2018': 7708, 'kalimzada': 7709, 'mehrtarar': 7710, 'zabbasoffici': 7711, 'marvimemon': 7712, 'incent': 7713, 'mirzawaheedahmd': 7714, 'shahrukhraees1': 7715, 'plainli': 7716, 'princip': 7717, 'ghq': 7718, 'isighq': 7719, 'strang': 7720, 'ruleat': 7721, 'kumailjafri': 7722, 'sireveri': 7723, 'pakistanimay': 7724, 'zarashahjahan': 7725, 'payer': 7726, 'fallin': 7727, 'mmj': 7728, 'pharmatheyv': 7729, 'opioid': 7730, 'crisisprescript': 7731, 'oklahom': 7732, 'nae': 7733, 'deti': 7734, 'thisecp': 7735, 'electioncomissionofpakistan': 7736, 'publicpakistani': 7737, 'kashmiri': 7738, 'holi': 7739, 'imposs': 7740, 'societyelections2018': 7741, 'mmarawalpindijalsapeopl': 7742, 'sigh': 7743, 'relief': 7744, 'itvote4kitaab': 7745, 'header': 7746, 'mmarawalpindijalsamma': 7747, 'themselvesvote4kitaab': 7748, 'sirajraisaniiamsirajraisani': 7749, 'terrormata': 7750, 'desiangryfemm': 7751, 'banopti': 7752, '42': 7753, '73': 7754, '30purpos': 7755, 'scm': 7756, 'me': 7757, 'democraticag': 7758, 'bluewave2018': 7759, 'rashidejaz': 7760, 'mmarawalpindijalsabook': 7761, 'hourvote4kitaab': 7762, 'mmarawalpindijalsapakistan': 7763, 'aliwazirna41': 7764, 'majid': 7765, 'wholesom': 7766, 'releav': 7767, 'represanta': 7768, 'abudhabiairport': 7769, 'omijav': 7770, 'supremacythi': 7771, 'supremacyt': 7772, 'umairyasinonly1': 7773, 'elections2018voteforchang': 7774, 'aryvideo': 7775, 'nsno': 7776, 'hilariousadialajail': 7777, 'girti': 7778, 'sheer': 7779, 'sawar': 7780, 'maida': 7781, '87': 7782, 'bhattianelections2018': 7783, 'na87': 7784, 'pindibhitian': 7785, 'pmlnclick': 7786, 'khabar': 7787, 'honi': 7788, 'kiy': 7789, 'watermark': 7790, 'bna': 7791, 'hua': 7792, 'hyelections2018': 7793, 'statepakistanelections2018': 7794, 'rickshawjutt': 7795, 'meeraneela': 7796, 'firmli': 7797, 'tv2kadafi': 7798, 'northern': 7799, 'freekadafi': 7800, 'freepress': 7801, 'freespeech': 7802, 'be': 7803, 'ministri': 7804, 'moibofficialth': 7805, 'discrimin': 7806, 'terrifi': 7807, 'peddl': 7808, 'judicialmilitari': 7809, 'bled': 7810, 'discredit': 7811, 'attacksblast': 7812, 'greenpass': 7813, 'gmlaghari85': 7814, 'jiyalobbhuttozardarisherayasheraya': 7815, 'nawazsharifreturnselections2018': 7816, 'kayrehman': 7817, 'bagh': 7818, 'cb': 7819, 'wahelections2018': 7820, 'pundit': 7821, 'dissens': 7822, 'allo4775': 7823, 'elections2018do': 7824, 'dunyaupdatespml': 7825, 'cleansw': 7826, 'worldelections2018': 7827, 'dailyjangnewstaleemdo': 7828, 'faisalwalikhan3': 7829, 'democrati': 7830, 'houseforsal': 7831, 'londonabsirfimrankhan': 7832, 'datamufti': 7833, 'kagglena': 7834, '20132018': 7835, 'pics2': 7836, 'stories2': 7837, 'attitudespic1amp2daniyalbilour': 7838, 'protestor': 7839, 'harounbilour': 7840, 'sualehamustafa': 7841, 'tbh': 7842, 'flip': 7843, 'bestest': 7844, 'operati': 7845, 'suspendslimit': 7846, 'mssay': 7847, 'campaignspidgov': 7848, 'sibahfarooq': 7849, 'sirpmln': 7850, 'againthey': 7851, 'minu': 7852, 'pmlnstay': 7853, 'safesherayasheraya': 7854, 'gai': 7855, 'fairaccord': 7856, 'fileaffi': 7857, 'styleth': 7858, 'canva': 7859, 'prolong': 7860, 'instabl': 7861, 'bleedsbannu': 7862, 'bleedslahor': 7863, 'disarrayelections2018': 7864, 'thre': 7865, 'ghotki': 7866, 'kikkolog': 7867, 'votekiizzat': 7868, 'tau': 7869, 'naee': 7870, 'elections2018in': 7871, 'disproportio': 7872, 'illitera': 7873, 'leas': 7874, 'poorw': 7875, 'surviveso': 7876, 'earninginstead': 7877, 'askarih': 7878, 'popularpopulist': 7879, 'outdat': 7880, 'marianabaabar': 7881, 'michaelkugelman': 7882, 'drainmastungattack': 7883, 'resultssherayasheraya': 7884, 'dekhodekhochorayaelections2018': 7885, 'iftikharfird': 7886, 'trampl': 7887, 'ithistori': 7888, 'aro': 7889, 'dispar': 7890, 'groom': 7891, 'illiteraci': 7892, 'compulsori': 7893, 'cheapest': 7894, 'trodden': 7895, 'tharpar': 7896, 'personafi': 7897, 'nooffens': 7898, 'coveringnameraw': 7899, 'mosaad': 7900, 'cia': 7901, 'allelections2018': 7902, 'ialiazam': 7903, 'unwilli': 7904, 'saadia': 7905, 'lovear': 7906, 'stateantigonesphocol': 7907, 'mi6ag': 7908, 'poison': 7909, 'pale': 7910, 'trivial': 7911, 'evwn': 7912, 'choicealibegum': 7913, 'curriculum': 7914, 'academ': 7915, 'bete': 7916, 'noir': 7917, 'incept': 7918, 'toda': 7919, 'taboo': 7920, 'womenl': 7921, 'abysm': 7922, '77': 7923, 'unsatisf': 7924, 'telecast': 7925, 'programsisnt': 7926, 'meenaaziz': 7927, 'departm': 7928, 'sectormir': 7929, 'cellwhi': 7930, 'partiesr': 7931, 'staffth': 7932, '29ecp': 7933, 'peace128': 7934, 'patienc': 7935, 'bea': 7936, 'syednasirhshah': 7937, 'brarsalanshaikh': 7938, 'same': 7939, 'chase': 7940, 'crocodil': 7941, 'jazeera': 7942, 'labelections2018': 7943, 'babarsattar': 7944, 'sinaivari': 7945, 'needwe': 7946, 'gangster': 7947, 'kkabbasi': 7948, 'zardarikamahaaz': 7949, 'capitaltv': 7950, 'samaaupd': 7951, 'trumpvisituk': 7952, '250000': 7953, '5000': 7954, 'shauhda': 7955, 'tayyabalizah': 7956, 'pakistaniselections2018': 7957, 'ptifami': 7958, 'seraphina444': 7959, 'sadli': 7960, 'tang': 7961, 'aj': 7962, 'puri': 7963, 'raat': 7964, 'sp': 7965, 'tehreeknafazfiqhjafariya': 7966, 'tnfj': 7967, 'liya': 7968, 'fishi': 7969, 'luqman': 7970, 'cure': 7971, 'bzardari': 7972, 'bakhtawarbzlet': 7973, 'surmis': 7974, 'vvaqarhussain': 7975, 'saroshkafeel3': 7976, 'nayapak': 7977, 'idealistansari': 7978, 'arbitrari': 7979, 'notcoz': 7980, 'migh': 7981, 'zubairchatha': 7982, 'aakbar84': 7983, 'aryanwarlord': 7984, 'integr': 7985, 'policymak': 7986, 'panick': 7987, 'oust': 7988, 'flight': 7989, 'tube': 7990, 'specialeduc': 7991, 'aqmaliha': 7992, 'kashifmd': 7993, 'mhr': 7994, 'whymbalighurrehman': 7995, 'schooledupunjab': 7996, 'cmshehbazmaryamn': 7997, 'kserena31': 7998, 'distinct': 7999, 'unluckili': 8000, 'poli': 8001, 'elections2018tot': 8002, 'gira': 8003, 'unbroken': 8004, 'hasanshazia': 8005, 'simplist': 8006, 'notion': 8007, 'syedadnanriaz': 8008, 'birth': 8009, 'sanction': 8010, 'heaviestev': 8011, 'decay': 8012, 'elections2018democrat': 8013, 'newswatchpaksherayasheraya': 8014, 'faujisiasat': 8015, 'banu': 8016, 'mastungmultipl': 8017, 'pmusharraf': 8018, 'democr': 8019, 'lahorelockdown': 8020, 'occupiedpakistan': 8021, 'balochistanble': 8022, 'ripsirajraisani': 8023, 'deservevisi': 8024, 'felon': 8025, 'abudhabi': 8026, 'franceinpak': 8027, 'reveng': 8028, 'mstungrip': 8029, 'zimadar': 8030, 'konasiab': 8031, 'pmlnrise': 8032, 'crac': 8033, 'hassanbilour': 8034, 'davidmstout': 8035, 'shar': 8036, 'veteran': 8037, 'aslamraisani': 8038, 'deeper': 8039, 'abyss': 8040, 'wowelections2018': 8041, 'taimur': 8042, 'taimurmalikth': 8043, 'azzamcheema': 8044, 'overal': 8045, 'wqt': 8046, 'choiceelections2018': 8047, 'concentr': 8048, 'forceharoonbilour': 8049, 'askd': 8050, 'drin': 8051, 'ste': 8052, 'nowyou': 8053, 'strategistsherayasheraya': 8054, 'freevot': 8055, 'dil': 8056, 'awaaz': 8057, 'nawazwelcom': 8058, 'nawazfridaythe13th': 8059, 'welcomenawazsharif': 8060, 'loin': 8061, 'hamedmandokhail': 8062, 'raee': 8063, '2day': 8064, 'hnakvi': 8065, 'convoy20': 8066, 'unskil': 8067, 'jobless': 8068, 'aeween': 8069, 'spate': 8070, 'raisa': 8071, 'commentspti': 8072, 'baluchistanth': 8073, 'chakri': 8074, 'jailjust': 8075, 'annonc': 8076, 'systemthar': 8077, 'palmciti': 8078, 'plotforsal': 8079, 'payment': 8080, 'cmi': 8081, 'sen': 8082, 'problemelections2018': 8083, 'imposit': 8084, 'highway': 8085, 'tft': 8086, 'uspakvot': 8087, 'threatshow': 8088, 'dharnay': 8089, 'ambul': 8090, 'faujielect': 8091, 'hamdardi': 8092, 'whenev': 8093, 'direc': 8094, '913': 8095, 'anarchist': 8096, 'serpant': 8097, 'loto': 8098, 'kesi': 8099, 'paindu': 8100, 'mannerless': 8101, 'ancestor': 8102, 'gawalmandielections2018': 8103, 'ps112': 8104, 'rahimyusufzai1': 8105, 'gulbeg': 8106, 'iii': 8107, 'signal': 8108, 'jazz': 8109, 'zong': 8110, 'educationkp': 8111, 'kalasha': 8112, 'academi': 8113, 'comput': 8114, 'girlsrighttoeduc': 8115, 'shaistamansoo14': 8116, 'abdulqadirjunej': 8117, 'stationssindh': 8118, 'womenvot': 8119, '4360': 8120, 'aaaarrrgghh': 8121, 'isp': 8122, 'unavail': 8123, 'detailsst': 8124, 'rectifi': 8125, 'downfal': 8126, 'filaffi5000': 8127, 'maiman661': 8128, 'zubairniazi': 8129, 'gulraiziqbalisf': 8130, 'naujawan': 8131, 'conv': 8132, 'aggriev': 8133, 'exemplari': 8134, 'mediacel': 8135, 'prejudic': 8136, 'academician': 8137, 'scholar': 8138, 'july27': 8139, 'sanambalochr': 8140, '50shadesofrehamkhan': 8141, 'dutch': 8142, 'embassi': 8143, 'distract': 8144, 'fiefdomelections2018': 8145, 'asimzeeshan': 8146, 'stuff': 8147, 'chancesgda': 8148, 'bulk': 8149, 'homebas': 8150, 'wager': 8151, 'kora': 8152, 'ikhubaibsae': 8153, 'votevot': 8154, 'prideofchitr': 8155, 'cool': 8156, 'votedoesnt': 8157, 'decenc': 8158, 'hukam': 8159, 'atee': 8160, 'uper': 8161, 'unko': 8162, 'mediakindli': 8163, 'guccifendichanellv': 8164, 'silver': 8165, 'spoonev': 8166, 'techniqu': 8167, 'voteforbatprimeministerimrankhanabsirfimrankhanimrankhanpti': 8168, 'sayedz': 8169, 'azmabokhari': 8170, 'deaf': 8171, 'uroosahm': 8172, 'timepakistan': 8173, 'befit': 8174, 'turncoa': 8175, 'copyright': 8176, 'angl': 8177, 'beingsalmankhan': 8178, 'ayazahmad001': 8179, 'plunder': 8180, 'amzchaudhari': 8181, 'whosoev': 8182, 'kamyab': 8183, 'karay': 8184, 'ais': 8185, 'datay': 8186, 'rehn': 8187, 'himmat': 8188, 'elections2018featu': 8189, 'beginspakistan': 8190, 'lahoreorislamabad': 8191, 'dc': 8192, 'plaza': 8193, 'na145': 8194, 'motherli': 8195, 'raiwind': 8196, 'marvel': 8197, 'ministerthes': 8198, 'pakistanpakistanbachanahai': 8199, 'onceand': 8200, 'quickthat': 8201, 'assembli': 8202, '1030': 8203, 'blare': 8204, 'crazier': 8205, 'evernawazsharif': 8206, 'ticker': 8207, 'badmaashi': 8208, 'ashimalik088': 8209, 'murreeburri': 8210, 'gun': 8211, 'politicalpak': 8212, 'elections2018na1': 8213, 'chitralna2': 8214, '1na3': 8215, '2na4': 8216, 'changer': 8217, 'zimdaari': 8218, 'hudd': 8219, 'hogaii': 8220, 'aapko': 8221, 'theme': 8222, 'pathway': 8223, 'pcesa': 8224, 'governmentstaleemdo': 8225, 'ecpelections2018': 8226, 'karachibarafasila': 8227, 'electionkasamaa': 8228, 'saleembhutto2': 8229, 'publicholiday': 8230, 'jamhooriat': 8231, 'aamriat': 8232, 'haielections2018': 8233, 'prodemocraticpakistan': 8234, 'becnhod': 8235, 'careempakwith': 8236, 'ptiofficialjust': 8237, 'shooooo': 8238, 'prooaganda': 8239, 'bechari': 8240, 'rulin': 8241, 'withtaleemdo': 8242, 'fatf': 8243, '800': 8244, 'differencep': 8245, 'hmm': 8246, 'pakistanion': 8247, 'badintaleemdo': 8248, 'rightvot': 8249, 'kiteelections2018': 8250, 'karachielectionkasamaa': 8251, 'itsarfi': 8252, 'thappay': 8253, 'thappaballay': 8254, 'thappaelections2018': 8255, 'polioaffect': 8256, 'environment': 8257, 'dealedhalahoredha': 8258, 'politicianselections2018': 8259, 'machin': 8260, 'todayelections2018': 8261, 'heighten': 8262, 'maainoo': 8263, 'episodeelections2018': 8264, 'amermalik3': 8265, 'politic': 8266, 'recoveri': 8267, 'beingpmlnorg': 8268, 'pmln1': 8269, 'dealedhalaho': 8270, 'elections2018meet': 8271, 'mualana': 8272, 'bhuttobukhtawar': 8273, 'cj': 8274, 'sindhtaleemdoelections2018badin': 8275, 'affi5000': 8276, 'unjustifi': 8277, 'meranaampakistan': 8278, 'gtaleemdoelections2018badinmismailrahu': 8279, 'mnakamalchang': 8280, 'formerpm': 8281, 'nominationpap': 8282, 'na57': 8283, 'destin': 8284, 'joy': 8285, 'accomplic': 8286, 'submittedshahidkhaqan': 8287, 'fuckeri': 8288, 'thisshehbazsharif': 8289, 'letmehazard': 8290, 'discont': 8291, 'gujranwalapmln': 8292, 'cca2': 8293, 'picturemaryamnsharif': 8294, 'cca1': 8295, 'newprofilep': 8296, 'campaignriazbalochpppps102': 8297, 'districteastpppmuhammadriazps102psfkarachi': 8298, 'gallow': 8299, 'sheraarahahai': 8300, 'mohri': 8301, 'purpmlnorg': 8302, 'careatkerpm': 8303, 'nasirulmulk': 8304, 'ahmadjalal1': 8305, '5673': 8306, 'sensitivepollingst': 8307, 'sue': 8308, 'asap365pag': 8309, 'tellal': 8310, 'hidenoth': 8311, 'boggl': 8312, 'situa': 8313, 'aris': 8314, 'fief': 8315, 'nepot': 8316, 'ide': 8317, 'askarielections2018': 8318, 'chiefelectioncommisision': 8319, 'buselections2018': 8320, 'subj': 8321, 'partici': 8322, 'jim': 8323, 'morrison': 8324, 'obligatori': 8325, 'grass': 8326, 'promotin': 8327, 'fifa': 8328, 'croatia': 8329, 'persongroup': 8330, 'whowhich': 8331, 'clingi': 8332, 'girlfriend': 8333, 'alisligo': 8334, 'wase': 8335, 'politicianssupremecourt': 8336, 'thekedar': 8337, 'ilmrohitaleemdo': 8338, 'quran': 8339, 'rete': 8340, 'na14': 8341, 'qaedpk': 8342, 'swear': 8343, 'bija': 8344, 'anthemimag': 8345, 'technic': 8346, 'sami': 8347, 'kmdilshad': 8348, 'samiullah': 8349, 'overtli': 8350, 'covertli': 8351, 'alielections2018': 8352, 'candidateselections2018': 8353, 'qeemywalanaan': 8354, 'startedtaleemdo': 8355, 'fieldelect': 8356, 'lawelections2018': 8357, 'electoralmartiallawelectoralmartiallaw': 8358, 'partabrathore4': 8359, 'thareducationalliancetaleemdo': 8360, 'samoonnizam': 8361, 'ple': 8362, 'thenewsonsunday': 8363, 'edusouthpunjab': 8364, 'mo': 8365, 'thatpti': 8366, 'shaistaakram': 8367, 'kamranshfqt': 8368, 'voteforbatprimeministerimrankhanabsirfimrankhan': 8369, 'releasepmlnactivistsfair': 8370, 'elections2018lol': 8371, 'corruptionnawa': 8372, 'frontrunn': 8373, 'media': 8374, 'footsoldi': 8375, 'somehow': 8376, '80muslim': 8377, '60ppp': 8378, 'bt': 8379, 'religiousextrimist': 8380, 'chabg': 8381, 'countryabsirfimrankhan': 8382, 'trndnl': 8383, 'lagaein': 8384, 'poltici': 8385, 'imtiaza05329654': 8386, 'derogatori': 8387, 'natur': 8388, 'accent': 8389, 'fictiti': 8390, 'establishmentpakistan': 8391, 'lolwes': 8392, 'maulvi': 8393, 'pd': 8394, 'ptiagenda': 8395, 'vowda': 8396, 'naz125': 8397, 'halka': 8398, 'sadi': 8399, 'duplic': 8400, 'somalshakeel': 8401, 'fierc': 8402, 'argument': 8403, 'usmanmoffici': 8404, 'vowd': 8405, 'unqualifi': 8406, 'bhuttofarhanaz': 8407, 'governmemt': 8408, 'thiselections2018': 8409, 'noormuhammed66': 8410, 'minhassaab': 8411, 'spous': 8412, 'gentleman': 8413, 'photoshop': 8414, 'frompeshawarelections2018taleemdo': 8415, 'sherrr': 8416, 'tanzeemorg': 8417, 'dur': 8418, 'lawmak': 8419, 'defect': 8420, '2k18i': 8421, 'ps97': 8422, 'uc35': 8423, 'aatifazio': 8424, 'opiat': 8425, 'motorist': 8426, 'welcomenawazsharifnawazsharifverdict': 8427, 'handedli': 8428, 'snake': 8429, 'immiemalik': 8430, 'paglay': 8431, 'rulae': 8432, 'gaa': 8433, 'electionspemra': 8434, 'familyelectionkasamaa': 8435, 'mustwatch': 8436, 'pece': 8437, 'soch': 8438, 'smj': 8439, 'alongwith': 8440, 'abscond': 8441, 'diaspo': 8442, 'zardaripmlnorg': 8443, 'sumairarajput': 8444, 'aliraza': 8445, 'pakistanwatch': 8446, 'wasimrazanaqvi': 8447, 'mhashmigeo': 8448, 'changetaleem': 8449, 'siddiqi': 8450, 'adnanhussainad': 8451, 'arshadgeo': 8452, 'azamshaam': 8453, 'syedkousarkazmi': 8454, 'proftahirmalik': 8455, 'rajaarsalankhan': 8456, 'taniapalijo': 8457, 'barrag': 8458, 'lemon': 8459, 'max': 8460, 'ratod': 8461, 'britishpakistani': 8462, 'citizenship': 8463, 'abduct': 8464, 'plain': 8465, 'lazi': 8466, 'changeth': 8467, 'conscienc': 8468, 'meaningl': 8469, 'educatekhibest': 8470, '56of': 8471, 'punjabchang': 8472, 'impossibleelections2018': 8473, 'inflationbut': 8474, 'skkhilji': 8475, 'bloo': 8476, 'alamaffan': 8477, 'decent': 8478, 'salari': 8479, 'meter': 8480, 'circuit': 8481, 'tariqbutt': 8482, 'worldruralforum': 8483, 'aijazjan105': 8484, 'bud': 8485, 'abidghouri8': 8486, 'attitudesuch': 8487, 'cadid': 8488, 'elections2018that': 8489, 'nowppp2018': 8490, 'sheikhrash': 8491, 'cat': 8492, 'mous': 8493, 'dengxiaopeng': 8494, 'cheater': 8495, 'befool': 8496, 'deceiv': 8497, 'sabirnazar1': 8498, 'muh': 8499, 'sanakhawaja': 8500, 'sdg': 8501, 'undet': 8502, 'electionsterror': 8503, 'antimqm': 8504, 'electionslif': 8505, 'reac': 8506, 'reelect': 8507, 'calendarelections2018': 8508, 'pp54': 8509, 'gujranwalaelections2018': 8510, 'asfandyarwalikhan': 8511, 'roheespk': 8512, 'julyelections2018': 8513, 'admin': 8514, 'showcaus': 8515, 'advertbalcha': 8516, 'bootpolish': 8517, 'namesterror': 8518, 'anyelect': 8519, 'credibil': 8520, 'electionselect': 8521, 'bara': 8522, 'havewould': 8523, 'suicideblast': 8524, 'elections2018electioncampaign': 8525, 'sureptioffici': 8526, 'elections2018ptisomewher': 8527, '12pm': 8528, '2018courtesi': 8529, '92': 8530, 'hdharoonbilour': 8531, 'accordingli': 8532, 'needtaleemdo': 8533, 'intefernc': 8534, 'muhammadtaleemdo': 8535, 'violit': 8536, 'rathar': 8537, 'ittaleemdo': 8538, 'legesl': 8539, 'policytaleemdo': 8540, 'shahnawaztaleemdoelections2018': 8541, 'educationt': 8542, 'sushil': 8543, 'neve': 8544, 'jaaaniii786': 8545, 'ull': 8546, 'voteforf': 8547, 'fabul': 8548, 'dest': 8549, 'qat': 8550, 'goe': 8551, 'independen': 8552, 'neccessari': 8553, 'availabilti': 8554, 'dynasti': 8555, 'mif': 8556, 'paperscec': 8557, 'ballotpap': 8558, 'coasbajwa': 8559, 'interferencetharedualli': 8560, 'bulidi': 8561, 'faciali': 8562, 'fazul': 8563, 'studentstaleemdotharparkar': 8564, 'parant': 8565, 'tharparkartaleemdo': 8566, 'pasaag': 8567, 'elections2018read': 8568, 'motto': 8569, 'obhaayo': 8570, 'junenjo': 8571, 'plight': 8572, 'tahreekh': 8573, 'fieldtaleemdo': 8574, 'elitecent': 8575, '644': 8576, 'bajeertaleemdo': 8577, 'participatio': 8578, 'clreali': 8579, 'unfortunatli': 8580, 'dampen': 8581, 'euphoria': 8582, 'exerc': 8583, 'studentstaleemdotharparkarelections2018': 8584, 'partab': 8585, 'shivani': 8586, 'everal': 8587, 'prideofchitralmeet': 8588, 'phd': 8589, 'boo': 8590, 'priorit': 8591, 'conserv': 8592, 'muffl': 8593, 'imthekhangirl': 8594, 'defender92': 8595, 'paknew': 8596, 'oogway': 8597, 'elections2018an': 8598, 'electionsecp': 8599, 'pawan': 8600, 'pseudorebel': 8601, 'manzoorchandio': 8602, 'niharifan': 8603, 'chart': 8604, 'expm': 8605, 'leaders1': 8606, 'incom': 8607, 'declerd': 8608, 'democract': 8609, 'powerless': 8610, 'posi': 8611, 'anumsuhail': 8612, 'dirtier': 8613, 'politicianspolit': 8614, 'jannahsaddest': 8615, 'khalilkf': 8616, 'credibilit': 8617, 'acceptedelections2018': 8618, 'comekamalpsp': 8619, 'anisahm': 8620, 'moorooelections2018': 8621, 'detriment': 8622, 'bilou': 8623, 'fatimajinnah': 8624, 'stood': 8625, 'ayub': 8626, 'pepsigener': 8627, 'sanglahillroarswithnawaz': 8628, 'repeatedli': 8629, 'haro': 8630, 'whereabout': 8631, 'darbari': 8632, 'mehtab': 8633, 'blastso': 8634, 'sheenasoomro': 8635, 'orthey': 8636, 'anppakistan': 8637, '277': 8638, 'neverforget': 8639, 'shahadat': 8640, 'poorer': 8641, 'laanallah': 8642, 'extras': 8643, 'tahafuz': 8644, 'appal': 8645, 'momin': 8646, 'khawajanninew': 8647, 'pleaseurg': 8648, 'basheer': 8649, 'peshawarmay': 8650, 'attackpeshawarblast': 8651, 'farooqjehanzeb': 8652, 'reallypeshawar': 8653, 'hashmism': 8654, 'monster': 8655, 'secular': 8656, 'campaighn': 8657, 'childern': 8658, 'merci': 8659, 'aawami': 8660, 'bashirbalor': 8661, 'elections2018peshawar': 8662, 'newsharron': 8663, 'blastanp': 8664, 'assasin': 8665, 'injuredelections2018break': 8666, 'transmi': 8667, 'dunyaprogramsfrontlinek': 8668, 'injuredelections2018': 8669, 'irada': 8670, 'wohi': 8671, 'importa': 8672, 'brilliantli': 8673, 'bunerthi': 8674, 'missingperson': 8675, 'afia': 8676, 'aaswift22': 8677, 'jobsit': 8678, 'rawalp': 8679, 'claryco': 8680, 'toiopinion': 8681, 'mohsnalibokhari': 8682, 'vacat': 8683, 'reschedul': 8684, 'elections2018al': 8685, 'zoyayameen': 8686, 'acquit': 8687, 'cou': 8688, 'improvingelections2018': 8689, 'nawazsha': 8690, 'na254': 8691, 'fawadsalam': 8692, 'smart': 8693, 'turkeyelections2018': 8694, 'songshawwal25tuesdayjuly10har26elections2018': 8695, 'rasheedwa': 8696, 'drisrarahm': 8697, 'khilafat': 8698, 'saynotovot': 8699, 'reinstatekhilafah': 8700, 'westerndemocraci': 8701, 'tanzeemeislami': 8702, 'adm': 8703, 'dunyaprogramsfrontl': 8704, 'prepollrig': 8705, 'babarehmatay': 8706, 'smar': 8707, 'ptiofficialmi': 8708, 'dharnad': 8709, 'absirfimrankhanptielections2018': 8710, 'juman': 8711, 'list1st': 8712, 'soif': 8713, 'presumpt': 8714, 'benificiari': 8715, 'mmaonlyoptionparti': 8716, 'nois': 8717, 'arizvi110': 8718, 'diplomat': 8719, 'brace': 8720, 'beshamelections2018': 8721, 'countr': 8722, 'pminwait': 8723, '10072018': 8724, 'farhanvirkpti': 8725, 'localbodiesoffici': 8726, 'voteaikmuqqadasamanat': 8727, 'chaudhaynisar': 8728, 'nro': 8729, 'reve': 8730, '2135': 8731, 'petit': 8732, 'dgisprelections2018': 8733, 'beca': 8734, 'becau': 8735, 'justiceelections2018': 8736, 'dealerdhalahor': 8737, 'naroon': 8738, 'caremonytaleembarayeelectionelections2018taleemdohyderabad': 8739, 'tremend': 8740, 'damne': 8741, 'himglad': 8742, 'pakcoupd': 8743, 'promotionvot': 8744, 'discount': 8745, 'liyenow': 8746, 'california': 8747, 'karachichairman': 8748, 'theparti': 8749, 'workersand': 8750, 'mayamnawaz': 8751, 'referenc': 8752, 'codescareem': 8753, 'politicalreferenc': 8754, 'promotioncod': 8755, 'fileaffi2690': 8756, 'iamnomi9': 8757, 'brush': 8758, 'lalahassan': 8759, 'yearelections2018': 8760, 'imrankhanabbasnasir59': 8761, 'drinkabl': 8762, 'applianc': 8763, 'rajafaridbhatti': 8764, 'pyapni': 8765, 'begair': 8766, 'krwa': 8767, 'saki': 8768, 'fawadhazan': 8769, 'dgispr1': 8770, 'questi': 8771, 'misconcep': 8772, 'dgisprin': 8773, 'problemimran': 8774, 'familypleas': 8775, 'bbhu': 8776, 'jadduk': 8777, 'ea': 8778, 'directli': 8779, 'presidentpml': 8780, 'summersup': 8781, 'loadsheddingsh': 8782, 'teray': 8783, 'hotay': 8784, 'zaer': 8785, 'temperatur': 8786, '25818elections2018': 8787, 'ghor': 8788, 'parhein': 8789, 'elections20183': 8790, 'oath': 8791, 'pollsmediacellppp': 8792, 'fehmida': 8793, 'virtual': 8794, 'campu': 8795, '2010': 8796, 'credibilityelections2018': 8797, 'pena': 8798, 'flex': 8799, 'penaflex': 8800, 'ankianoon': 8801, 'mynationvot': 8802, 'photoshopdupl': 8803, 'stroll': 8804, 'uglier': 8805, 'beforeelections2018': 8806, 'toyota': 8807, 'honda': 8808, 'shankar': 8809, 'mazdakielections2018': 8810, 'candidatemediacellppp': 8811, 'drhelen': 8812, 'electro': 8813, 'registaan': 8814, 'hook': 8815, 'cartoonbi': 8816, 'convo': 8817, 'angri': 8818, 'marriam': 8819, 'celeb': 8820, 'familyread': 8821, 'heregt': 8822, 'votefornawazsharif': 8823, 'voteforsh': 8824, 'voteforpmln': 8825, 'nosheenjatoi': 8826, 'riazjaved11': 8827, 'ajmalshabbir': 8828, 'shamepti': 8829, 'efffect': 8830, 'electthebestelections2018myvoteforikvoteforpti': 8831, 'votethemout2018your': 8832, 'womenhow': 8833, 'electthebestelections2018': 8834, 'voteforptivotethemout2018': 8835, 'imrankhancorruptionright': 8836, 'prom': 8837, 'fereeha': 8838, 'ray': 8839, 'doespakistan': 8840, 'boycottcareempakistan': 8841, 'butpolitician': 8842, 'forphic': 8843, 'buffooneri': 8844, 'unfollow': 8845, 'idiot': 8846, 'hater': 8847, 'hide': 8848, '26thconfiscateshareefproperti': 8849, 'aselections2018': 8850, 'ajmalhamid': 8851, 'brag': 8852, 'picnic': 8853, 'sidhuma': 8854, 'lala': 8855, 'mmahopeofn': 8856, 'publicpakistan': 8857, 'bee': 8858, 'foundationali': 8859, 'teefaintr': 8860, 'punctur': 8861, 'nabuwat': 8862, 'vest': 8863, 'intetest': 8864, 'drug': 8865, 'bradford': 8866, 'universityy': 8867, 'ikvoteforimrankhanonli': 8868, 'blindli': 8869, 'analyzeevalu': 8870, 'electthebestthi': 8871, 'elections2018invis': 8872, 'millenni': 8873, 'citizenselector': 8874, 'finebut': 8875, 'doe': 8876, 'readpakistan': 8877, 'jawansnow': 8878, 'arrestedelections2018': 8879, 'salgirah': 8880, 'uturn': 8881, 'awoooo': 8882, 'asfor': 8883, 'khul': 8884, 'na155electionkasamaa': 8885, 'barafaisla': 8886, 'preciou': 8887, 'loooooool': 8888, 'sanamnawaaz': 8889, 'breach': 8890, 'patient': 8891, 'affil': 8892, 'nayapakistanif': 8893, 'mosharraf': 8894, 'zaidi': 8895, 'asyaali': 8896, 'unabl': 8897, 'pyar': 8898, 'chutya': 8899, 'bnate': 8900, 'idar': 8901, 'a4earesearch': 8902, 'noelections2018': 8903, 'sikandarmirza26': 8904, 'sahi': 8905, 'mamla': 8906, 'dn': 8907, 'ow': 8908, 'organi': 8909, 'importantswatvotes4educationtaleemdo': 8910, 'myvote4educ': 8911, 'rawal': 8912, 'rahooki': 8913, 'unmallah': 8914, 'kashmirchodobijlilo': 8915, 'quota': 8916, 'hb': 8917, 'lavish': 8918, 'militaris': 8919, 'womenh': 8920, 'sickparti': 8921, 'iksick': 8922, '2018imrankhanpti': 8923, 'pkpolit': 8924, 'elections2018ptimanifesto': 8925, 'dailypakistangl': 8926, 'tourismptioffici': 8927, 'tribunian': 8928, 'careemua': 8929, 'careemwhor': 8930, 'abeeerasif': 8931, 'habibjanlyari': 8932, 'habibjan': 8933, 'chattani': 8934, 'ps108': 8935, 'southelections2018': 8936, 'dailyjang': 8937, 'envir': 8938, 'riasat': 8939, 'prophet': 8940, 'pbuh': 8941, 'syeda': 8942, 'zahira': 8943, 'na184': 8944, 'na185': 8945, '2018pti': 8946, 'electionsbaloch': 8947, 'shun': 8948, 'reportdigitalright': 8949, 'mediafordemocraci': 8950, 'na169': 8951, 'ijaz': 8952, 'pmlz': 8953, 'na68': 8954, 'q2': 8955, 'obv': 8956, 'patheticpti': 8957, 'memberselections2018': 8958, 'politicstoday': 8959, 'july9th3': 8960, 'export': 8961, 'commod': 8962, 'incred': 8963, '89th': 8964, '190': 8965, 'miracleselections2018': 8966, 'exxel': 8967, 'matur': 8968, 'nathan': 8969, 'chil': 8970, 'pakistanfasc': 8971, 'shameless': 8972, 'nabuwwat': 8973, 'cheap': 8974, 'instan': 8975, 'shehbazpresidentpmln': 8976, 'parlia': 8977, 'cleri': 8978, 'religio': 8979, 'mandelamaryamnsharif': 8980, 'pmlnorgnawaz': 8981, 'surnam': 8982, 'vagina': 8983, 'builtw': 8984, 'mehmoodbi': 8985, 'elections2018humnewst': 8986, 'zafaravenfieldrefer': 8987, 'loveisland': 8988, 'julytaleemdo': 8989, 'badinthar': 8990, 'bushra2010': 8991, 'nihari': 8992, 'bribe': 8993, 'glitter': 8994, 'zuk60': 8995, 'asalamdadabhoy': 8996, 'qaziabdulsalaam': 8997, 'nimrabu55782621': 8998, 'humna278': 8999, 'ilyashussain67': 9000, 'javiqbal09': 9001, 'mohsinmalvi19': 9002, 'shahzad3579': 9003, 'amjadsheikh': 9004, 'rubaabshah': 9005, 'bukhaari': 9006, 'affecte': 9007, 'verdictnawazmariyamsafdargfarooqi': 9008, 'talathussain12umarcheema1beneficieri': 9009, 'lotacraci': 9010, 'pakcivil': 9011, 'followback': 9012, 'pakistanpakistanzindabadelections2018vot': 9013, 'ptipppbalochistan': 9014, 'rotat': 9015, 'whatther': 9016, 'jokerelections2018': 9017, 'britishgp': 9018, 'courtesi': 9019, 'pakistandecides2018': 9020, 'realdonaldtrump': 9021, 'nasrsae': 9022, 'fifa18': 9023, 'center': 9024, 'smalln': 9025, 'ziyadaaa': 9026, 'showbaz': 9027, 'nekliijust': 9028, 'hinasafi': 9029, 'wer': 9030, '3d': 9031, 'cinemasmatlab': 9032, 'nikalnay': 9033, 'kiya': 9034, 'zeeshanhamidz': 9035, 'pakistanbilaw': 9036, 'imrankhankeep': 9037, 'timeptioffici': 9038, 'khabrein': 9039, 'nfatima12': 9040, 'julyi': 9041, 'democ': 9042, 'neighbourhood': 9043, 'patwarirock': 9044, 'jewpakistani': 9045, 'fatherofyousuf': 9046, 'shahidpashteen': 9047, 'kaab66': 9048, 'salmabibi': 9049, 'imamofpeac': 9050, 'farazali007': 9051, 'futu': 9052, 'jalsagiri': 9053, 'ahmed11052991': 9054, 'bhaagna': 9055, 'rizwansheikh83': 9056, 'tone': 9057, 'adeelamin15': 9058, 'baloochraaj': 9059, 'redunda': 9060, 'wboreport': 9061, 'bycot': 9062, '007': 9063, 'performancecaptainsafdar': 9064, '133': 9065, '167': 9066, 'bokhari': 9067, '7827': 9068, 'absenc': 9069, '5consid': 9070, 'dismal': 9071, 'tehsil': 9072, 'progrm': 9073, 'no4th': 9074, 'averag': 9075, 'chldren': 9076, 'ejazchaudhari': 9077, 'pmpakistan': 9078, '3264': 9079, 'nt': 9080, 'hve': 9081, 'ace': 9082, 'water234': 9083, 'cpec': 9084, 'imperceptibl': 9085, 'pawein': 9086, 'sunni': 9087, 'shia': 9088, 'jinn': 9089, 'jumm': 9090, 'dhammal': 9091, 'paya': 9092, 'wada': 9093, 'no2a': 9094, 'lvelther': 9095, '868': 9096, 'imrankhanerdogan': 9097, 'sack': 9098, '18500': 9099, 'terrorismcan': 9100, 'tumhara': 9101, 'pmlnmed': 9102, 'triangular': 9103, 'rawalpindipmln': 9104, 'khala': 9105, 'sanakhanm': 9106, 'inshaal': 9107, 'newprofilepicelections2018democracyvotersmonthelectionrallyfreedomofspeechcallupmobilisejailpoki': 9108, 'causeimrankhanpti': 9109, 'leaderwho': 9110, 'ilmoneroontaleemdo': 9111, 'nz8': 9112, 'shore': 9113, 'supp': 9114, 'regular': 9115, 'permanentwontallowrig': 9116, 'preparationsecp': 9117, 'nbp': 9118, 'kep': 9119, 'confirmnew': 9120, 'viral': 9121, 'chapal': 9122, 'munawar': 9123, 'sway': 9124, 'strongavenfieldrefer': 9125, 'surfac': 9126, 'takhalu': 9127, 'asyusuf': 9128, 'biradri': 9129, 'demograph': 9130, 'pemrapakistan': 9131, 'graphic': 9132, 'herselfelection2018': 9133, 'ungliand': 9134, 'phrase': 9135, 'wesa': 9136, 'azfarahsan': 9137, 'immediat': 9138, 'electionspti': 9139, 'zulfibukhari': 9140, 'shaikhsahaab': 9141, 'areaon': 9142, 'thickli': 9143, 'abbo': 9144, 'mrthi': 9145, 'rightif': 9146, 'khatmenubuwat': 9147, 'dawnleak': 9148, 'leadersbi': 9149, 'ahmedptioffici': 9150, 'jacobabad': 9151, 'guysabsirfimrankhanabsirfimrankhanelections2018farhansae': 9152, '25thjuli': 9153, 'literaci': 9154, 'salman2979': 9155, 'sharamnak': 9156, 'hyphen': 9157, 'showcas': 9158, 'ugliest': 9159, 'shafeeqgigyani': 9160, '2018taleemdo': 9161, 'cleanedkarachimonsoon2018': 9162, 'hanifabbasiseel': 9163, 'pakistaninew': 9164, 'vpte': 9165, 'pinki': 9166, 'peerni': 9167, 'burri': 9168, 'lieuten': 9169, 'hamood': 9170, 'viceroywakeuppakistan': 9171, 'mrrazashaikhkid': 9172, 'sobia': 9173, 'majidnext': 9174, 'ipf': 9175, 'arslan': 9176, 'chunar': 9177, 'shuold': 9178, 'actionh': 9179, 'dismissedmediacellppp': 9180, 'malikrohainaal': 9181, 'faiqasalman': 9182, 'nota': 9183, 'voteit': 9184, 'abovewhi': 9185, '2018absirfimrankhanabsirfimrankhanballaypenishanptielections20': 9186, '2018absirfimrankhanabsirfimrankhanballaypenishanptielections2018imrankhan': 9187, 'mom': 9188, 'mfarooqafzal7': 9189, 'tl': 9190, 'random': 9191, 'corruptionmustfal': 9192, 'american': 9193, 'politicalmatur': 9194, 'darbar': 9195, 'mannuranjan': 9196, 'jari': 9197, 'trumpa': 9198, 'moodiya': 9199, 'unacceptableth': 9200, 'circusu': 9201, 'idc': 9202, 'clever': 9203, 'salak': 9204, 'muslimskindli': 9205, 'himh': 9206, 'pawnpakistan': 9207, 'bore': 9208, 'admi': 9209, 'circuspakistan': 9210, 'tamasha': 9211, 'himselfdont': 9212, 'shkhrasheedh': 9213, 'tatoopakistan': 9214, 'newsonefbl': 9215, 'ytlive': 9216, 'nadiamirza': 9217, 'ptivot': 9218, 'pmlnpmln': 9219, '274': 9220, 'years211': 9221, 'benazirabad125': 9222, 'saifsay': 9223, 'workforpak': 9224, 'bestluck2011': 9225, 'sajdil': 9226, 'sakinarizvi110': 9227, 'backdoor': 9228, 'safeexit': 9229, 'adnanakhana': 9230, 'prostat': 9231, 'questionpakistan': 9232, 'imrankbutt': 9233, '41': 9234, 'ibrahim': 9235, 'mardanrehamkh': 9236, 'wari': 9237, 'pochana': 9238, 'yah': 9239, 'kah': 9240, 'howa': 9241, 'takthank': 9242, 'shaikhimmad123': 9243, 'adminkiss': 9244, 'sal': 9245, 'wapsi': 9246, 'hay2020202220252030pleas': 9247, 'domin': 9248, 'chiefelectioncommission': 9249, 'chairmanarmyelect': 9250, 'khel': 9251, 'kalabagh': 9252, 'mianwaliwher': 9253, 'rokhri': 9254, 'fridayavenfieldrefer': 9255, 'toto2100': 9256, 'bestpakpol': 9257, 'reprintedelections2018': 9258, 'reprint': 9259, 'revenu': 9260, 'audit': 9261, 'pk89': 9262, 'shireen': 9263, 'maalik': 9264, 'ima': 9265, 'subscrib': 9266, 'ngo': 9267, 'constituenciesread': 9268, 'rs8000': 9269, 'yearli': 9270, 'targetfbr': 9271, 'coursei': 9272, 'leftunless': 9273, 'sibtehr': 9274, 'ptii': 9275, 'pmlni': 9276, 'anyonei': 9277, 'mnangagwa': 9278, 'duli': 9279, 'reward': 9280, 'competitor': 9281, 'geniu': 9282, 'peeri': 9283, 'mureedi': 9284, 'subcontin': 9285, 'qila': 9286, 'mmlaat': 9287, 'teaminsaaf': 9288, 'hamzahashmipti': 9289, 'duashaykh': 9290, 'kehkashanghauri': 9291, 'psychopathselections2018': 9292, 'mad': 9293, 'editor': 9294, 'verdictelections2018': 9295, 'rvankwani': 9296, 'thenewsint': 9297, 'hm': 9298, 'khowja': 9299, 'nawabshahtaleemdo': 9300, 'facili': 9301, 'underprivileg': 9302, 'nawazelections2018': 9303, 'khansaahira': 9304, 'changeawp': 9305, 'internetpmln': 9306, 'bhittanikhannnn': 9307, 'hahahahahahahah': 9308, 'universit': 9309, 'genral': 9310, 'armyif': 9311, 'western': 9312, 'zionist': 9313, 'suchparast': 9314, '39': 9315, 'furthermor': 9316, '1283': 9317, 'khalidaniazz': 9318, 'imranimrankhanpti': 9319, 'chaudhrynisar': 9320, 'dataset': 9321, 'cer': 9322, 'holdersbi': 9323, 'aseefappporgbbhuttozardariaseefabz': 9324, 'whit': 9325, 'foolproof': 9326, 'zafarg': 9327, 'wisetaleemdo': 9328, 'exit': 9329, 'saad1siddiqui': 9330, 'wahab': 9331, 'murtazawahab': 9332, 'asmaarbabalamgi': 9333, 'mujahid': 9334, 'na20': 9335, 'salmaan': 9336, 'taseer': 9337, 'nazar': 9338, 'na86': 9339, 'eobi': 9340, 'pp203': 9341, 'defraud': 9342, 'parkview': 9343, 'rough': 9344, 'elections2018certifi': 9345, 'sadaq': 9346, 'choorvot': 9347, 'pakistanavenfieldrefer': 9348, 'shamsarifeen7': 9349, 'umer': 9350, 'elections2018ptihazara': 9351, 'tareqafridipmlnorg': 9352, '304': 9353, 'khattak': 9354, 'guesttaleemdo': 9355, 'defencedotpk': 9356, 'icymi': 9357, 'absolv': 9358, 'firstestablish': 9359, 'jiyebilaw': 9360, 'lanatgamepowerlustderailpakistanagendaelections2018': 9361, 'umpir': 9362, 'jab': 9363, 'riseavenfieldrefer': 9364, 'publicitypopular': 9365, 'indecis': 9366, 'particula': 9367, 'substanti': 9368, 'governmen': 9369, 'pic1': 9370, 'aminahkhanm': 9371, 'colonial': 9372, 'afnanpk': 9373, 'tuq': 9374, 'looter': 9375, 'alikerespectvoterselections2018': 9376, 'bilwal': 9377, 'shammybaweja': 9378, '2year': 9379, 'constit': 9380, 'conundrum': 9381, 'itd': 9382, 'jadoon': 9383, 'abbottabadfacebook': 9384, 'jadooncandid': 9385, 'abbottabadelections2018': 9386, 'journ0sarthak': 9387, 'talliedar': 9388, 'winan': 9389, 'sikandara': 9390, 'verdi': 9391, 'inqi': 9392, 'setback': 9393, 'em': 9394, 'khurramppp': 9395, 'elections2018open': 9396, 'officeuc': 9397, '14ps130vote': 9398, 'ittest': 9399, 'westandnawazsharif': 9400, 'accomplish': 9401, 'eduat': 9402, 'uopn': 9403, 'impro': 9404, 'paklessonlearn': 9405, 'indispens': 9406, 'dispens': 9407, 'humbl': 9408, 'workhard': 9409, 'uzaibabro': 9410, 'sharifab': 9411, 'maza': 9412, 'haipmln': 9413, 'protestwhich': 9414, 'buzz': 9415, 'pitch': 9416, 'elections2018politicsread': 9417, 'bundytedi': 9418, 'softporn': 9419, 'popcorn': 9420, 'yours25thjuly2018': 9421, 'abwadood84': 9422, 'kaavrriya': 9423, 'badluck': 9424, 'pakistanispolit': 9425, 'carpedi3m': 9426, 'rampag': 9427, 'deer': 9428, 'sawat': 9429, 'reliev': 9430, 'maniac': 9431, 'londonn': 9432, 'disqu': 9433, 'expand': 9434, 'ali707rahat': 9435, 'woah': 9436, 'kabhi': 9437, 'mayoo': 9438, 'nahe': 9439, 'kerunga': 9440, 'disag': 9441, 'shou': 9442, 'corruptionzero': 9443, 'rulaongaa': 9444, 'accountabilitycourt': 9445, 'turnyasirayazkhan3': 9446, 'mur': 9447, 'sadafbangash28': 9448, 'absirfimran': 9449, 'historynayapakistan': 9450, 'theyll': 9451, 'mubarak': 9452, 'tahazafarburney': 9453, 'electionavenfieldverdict': 9454, 'timeavenfieldverdict': 9455, '7year': 9456, 'peaceshukar': 9457, 'ston': 9458, 'nawazfamili': 9459, 'doomsday': 9460, 'metak': 9461, 'choudhari': 9462, 'ukashachaudhari': 9463, 'lawai': 9464, 'wrap': 9465, 'bigg': 9466, 'roommediacellpsflahorenoumankaleemelections2018voteforppp': 9467, 'inshallahelections2018': 9468, 'khatijahfatima': 9469, 'oneofakind': 9470, 'targat': 9471, 'england': 9472, 'migratori': 9473, 'birdsth': 9474, 'mila': 9475, 'warna': 9476, 'dallayelections2018': 9477, 'goniklopakistankikhatir': 9478, 'anyoth': 9479, 'bulletmak': 9480, 'differenceelections2018': 9481, 'footballpak': 9482, 'astro': 9483, 'pi': 9484, 'mallah': 9485, 'reti': 9486, 'captretir': 9487, 'faster': 9488, 'matern': 9489, 'mortal': 9490, 'unuwid': 9491, 'irumf': 9492, 'elecciones2018': 9493, 'timelin': 9494, '107': 9495, 'sep': 9496, '8jul': 9497, '6accus': 9498, '80': 9499, '92hasanamphusain': 9500, 'awaheedmurad': 9501, 'cassandra': 9502, 'prophesi': 9503, 'approx': 9504, 'aslamkhwaja': 9505, 'politicspolit': 9506, 'misadventurethes': 9507, 'xdpmln': 9508, 'electionsinpakistan': 9509, 'explicit': 9510, 'expressio': 9511, 'insultelections2018': 9512, '05072018': 9513, 'awaami': 9514, 'fawadc': 9515, 'islamabadian': 9516, 'punjabiw': 9517, 'pppavenfieldrefer': 9518, 'rameelahmad': 9519, 'nochuttikinda': 9520, 'pakenlist': 9521, '122symbol': 9522, '107minimum': 9523, 'limitmna': 9524, '25senat': 9525, '30presid': 9526, '40voter': 9527, 'todaypti': 9528, 'tgifelections2018': 9529, 'qaiserthethia': 9530, 'barha': 9531, 'makkaaar': 9532, 'pfujpakistan': 9533, '2018poll': 9534, 'uneduc': 9535, 'brink': 9536, 'elections2018elect': 9537, 'bowl': 9538, 'sheep': 9539, 'sheeppakistan': 9540, '135': 9541, 'witch': 9542, 'hunt': 9543, 'gamechanger1577': 9544, 'indep': 9545, 'kuin': 9546, 'stewardship': 9547, 'borrow': 9548, 'potti': 9549, 'beehave5': 9550, 'wef': 9551, 'aminat': 9552, 'spectatorindex': 9553, 'ethiopia': 9554, 'bangladesh': 9555, 'ptiofficialptiforlifeimrankhanpti': 9556, 'powersthatb': 9557, 'wordsabsirfimrankhan': 9558, 'asimmoosa': 9559, 'murtazaj18': 9560, 'alihuss47551783': 9561, 'waqaskhansay': 9562, 'acquitt': 9563, 'casewil': 9564, '25t': 9565, 'townpakawaitspunishmentton': 9566, 'nochutti': 9567, 'sharmilafaruqi': 9568, 'yemen': 9569, 'worldcupinyemen': 9570, 'saudiarabia': 9571, 'usa': 9572, 'israel': 9573, 'lifetim': 9574, 'paujab': 9575, 'educationdont': 9576, 'afbranco': 9577, 'branco': 9578, 'bluewav': 9579, 'socialism2018': 9580, 'sadiakang': 9581, 'sochna': 9582, 'sameimrankhanpti': 9583, 'pmelections2018': 9584, 'atahasnain53': 9585, 'pointofnoreturn': 9586, 'loadsheddingthen': 9587, 'dopakistan': 9588, 'uzma': 9589, 'bhukhri': 9590, 'idk': 9591, 'aleesajadpti': 9592, 'fi': 9593, 'aminattock': 9594, 'na55': 9595, 'historywak': 9596, 'corruptpolitician': 9597, '25charsadda': 9598, 'hajiipet': 9599, 'khotay': 9600, 'brainlessvot': 9601, 'realmzubairpmlnmanifesto18elections2018': 9602, 'awamimanshoorgreat': 9603, 'manpakawaitspunishmentton': 9604, 'boat': 9605, 'shortag': 9606, 'furiou': 9607, 'avenu': 9608, 'gulbadin': 9609, 'hikmatyar': 9610, 'butcher': 9611, 'nabd': 9612, 'pakth': 9613, '104267581with': 9614, '58463228': 9615, '45804353': 9616, 'refrandum': 9617, 'command': 9618, 'muhtarma': 9619, 'afterward': 9620, 'threadpakistan': 9621, 'elections2018politico': 9622, '2030': 9623, 'jokemost': 9624, 'tariksohaib': 9625, 'elections2018punjab': 9626, 'formerrul': 9627, '2018pmlncampaign2018': 9628, 'visiontvvisionnew': 9629, 'na69': 9630, 'chpervaizelahi': 9631, 'chl': 9632, 'pmlnbestsherforpmln': 9633, 'umpireptidhandliumpir': 9634, 'gr8': 9635, 'firstli': 9636, 'havoc': 9637, 'nehaarshad300': 9638, 'prerogati': 9639, '100yearold': 9640, '50m': 9641, 'ehat': 9642, 'foundat': 9643, 'june': 9644, 'heavyweight': 9645, 'skit': 9646, '1creat': 9647, 'youna': 9648, 'khanelections2018youtub': 9649, 'shaziamari': 9650, 'pppwhay': 9651, 'afridianalway': 9652, 'piou': 9653, 'peoplekhan': 9654, 'sindhgovt': 9655, 'expert': 9656, 'stationselections2018': 9657, 'july2018i': 9658, 'youelections2018': 9659, 'honesti': 9660, '20789': 9661, 'bilawalbbhuttozardarimediacellppp': 9662, 'deadpmln': 9663, 'corruptpti': 9664, 'khalae': 9665, 'makhlooqalien': 9666, 'bymaryamnsharif119': 9667, 'candidatr': 9668, 'iqraazizofici': 9669, 'hnadim87': 9670, 'keema': 9671, 'naan': 9672, 'danc': 9673, 'saviour': 9674, 'na131samaatv': 9675, 'lier': 9676, 'systen': 9677, 'clearl': 9678, 'chaudhrynabeel': 9679, 'historyelections2018': 9680, 'murtazakk': 9681, 'tahirnazirji': 9682, 'shahidkazmimib': 9683, '2017elections2018': 9684, '130': 9685, 'districtcentr': 9686, 'muhamma60723720': 9687, 'washowb': 9688, 'ahd': 9689, 'sprd': 9690, 'leadersveri': 9691, 'thorni': 9692, 'encount': 9693, 'specialist': 9694, 'lasanilogist': 9695, 'oneselecti': 9696, 'governorscm': 9697, 'muscl': 9698, 'pollselections2018': 9699, 'haripurtaleemdo': 9700, 'atanewskpk': 9701, 'mstanol': 9702, 'balochistanawamipartybawamiparti': 9703, 'fu': 9704, 'danishladhani': 9705, 'sindhtaleemdoelections2018': 9706, 'therisenew': 9707, 'pakistanppp': 9708, 'radioawazfmvoteforbett': 9709, 'mehakmaezaraat': 9710, 'amreekan': 9711, 'sundi': 9712, 'bajrey': 9713, 'aisi': 9714, 'educationschool': 9715, 'nawabshahshahe': 9716, 'rumaisamohani': 9717, 'abidi': 9718, 'daudkhattak1': 9719, 'mishtiaq': 9720, 'na243mqmpak': 9721, 'paan': 9722, 'colorf': 9723, 'daysm': 9724, 'jeetegiinn': 9725, 'kch': 9726, 'krlo': 9727, 'bewaqoof': 9728, 'dobara': 9729, 'votevoteforpakistanelections2018': 9730, 'ejazhaid': 9731, 'br': 9732, 'dealfor': 9733, 'aamer': 9734, 'aak0whil': 9735, 'sarakhwaja': 9736, 'vote4bett': 9737, 'mate': 9738, 'answergeneralelection2018': 9739, 'upo': 9740, 'bilalkmugh': 9741, 'deficit': 9742, 'unregist': 9743, 'min': 9744, 'syedihusain': 9745, 'eventuallyvot': 9746, 'wiselyelections2018': 9747, 'urself': 9748, 'ramsay': 9749, 'bolton': 9750, 'slot': 9751, 'pressconfer': 9752, 'peshawarnic': 9753, 'primeministerveri': 9754, 'profe': 9755, 'kaafi': 9756, 'logon': 9757, 'saamnay': 9758, 'gayi': 9759, 'sweepi': 9760, 'julygeneralelections2018': 9761, 'asiabpmlnorgptiofficialmediacellppp': 9762, 'sirps109': 9763, 'rancholin': 9764, 'javedyzai': 9765, 'nearli': 9766, 'comebackalso': 9767, 'ps109': 9768, 'ahsannawazkhan': 9769, 'rafeeq': 9770, 'hingro': 9771, 'visi': 9772, 'testament': 9773, 'despot': 9774, 'bode': 9775, 'civlian': 9776, 'uzma21': 9777, 'generalelections2018aft': 9778, 'changeinshallahpti': 9779, 'judicialwarr': 9780, 'talkingcurv': 9781, 'medina': 9782, '1400': 9783, 'inclinatio': 9784, 'inclinationswish': 9785, 'obaidrehman1990': 9786, 'heel': 9787, 'hee': 9788, 'votego': 9789, 'forbut': 9790, 'intermissionelect': 9791, 'puller': 9792, 'galvanis': 9793, 'shakeelahmedc13': 9794, 'burst': 9795, 'bubbl': 9796, 'pseudopsychot': 9797, 'faceb': 9798, 'hidd': 9799, 'abidsherali': 9800, 'farrukhhabib': 9801, 'hashmiba': 9802, 'anpmmanow': 9803, 'bapwhat': 9804, 'generalelections2018extern': 9805, 'raeesan': 9806, 'generalelections2018kpk': 9807, 'khooni': 9808, 'electionsgeneralelections2018': 9809, 'ahsannagi': 9810, 'voiceofvalor': 9811, 'trafficepti': 9812, 'beneficiarynawazshairf': 9813, 'scp': 9814, 'bhasha': 9815, 'ubl': 9816, 'branch': 9817, 'omni': 9818, 'iban': 9819, 'pk4': 9820, 'fifaworldcup': 9821, 'humtvnetwork': 9822, 'adilshahzeb': 9823, 'citiz': 9824, 'electionswith': 9825, 'refo': 9826, 'desichamp': 9827, 'azlanniazzi': 9828, 'anniesehar1': 9829, 'worrynoth': 9830, 'beneficiari': 9831, 'atgeneralelections2018': 9832, 'minmajmarwat': 9833, 'ventilatorchor': 9834, 'jhoota': 9835, 'tabbarpmlnorg': 9836, 'arynew': 9837, 'sheikulbandi': 9838, 'pk39na': 9839, 'reconstruct': 9840, 'upgrad': 9841, 'rodadams46': 9842, 'bodypol': 9843, 'qandeelaslam': 9844, 'tc': 9845, 'she': 9846, 'sabaagha300': 9847, 'selecti': 9848, 'pressu': 9849, 'smartest': 9850, 'subhanallahzaidzamanhamidi': 9851, 'timegeneralelections2018': 9852, 'betterpakwith': 9853, 'defea': 9854, 'bhari': 9855, 'syno': 9856, 'ps106': 9857, 'za': 9858, 'golden': 9859, 'momentsentir': 9860, 'popularitywow': 9861, 'prudent': 9862, 'ahsa': 9863, 'fugitivesi': 9864, 'ashaikh01': 9865, 'generalelections2018rehamkhanautobiographyballaypethappana131': 9866, 'malika': 9867, 'pp230': 9868, 'chnisarpp230generalelections2018': 9869, 'pet': 9870, 'usmandar': 9871, 'allso': 9872, 'greenrevolutiondidyouknow': 9873, 'roa': 9874, 'occ': 9875, 'kumarmanish9': 9876, 'eidie80': 9877, 'acco': 9878, 'lust': 9879, 'sexprofligaci': 9880, 'deprav': 9881, 'shoestringpakistani': 9882, 'hall': 9883, 'hea': 9884, 'moron': 9885, 'atmospher': 9886, 'candycrushsaga': 9887, 'kalsoom': 9888, 'consciou': 9889, 'bushranaz': 9890, 'aheadfirstli': 9891, 'invigil': 9892, 'ecat': 9893, 'sunda': 9894, 'sadiaaaaaaaaaa2': 9895, 'noooooo': 9896, 'gf': 9897, 'nh': 9898, 'bhagay': 9899, 'kese': 9900, 'coat': 9901, 'pocket': 9902, 'lash': 9903, 'mohajir': 9904, 'politicsyoul': 9905, 'wahabahmadpk': 9906, 'selectgeneralelections2018': 9907, 'eatablish': 9908, 'lifafist': 9909, 'resign': 9910, 'somethingbig': 9911, 'bewar': 9912, 'beggar': 9913, 'accomplicesgeorg': 9914, 'orwellelections2018generalelections2018': 9915, 'previous': 9916, 'atp': 9917, 'suddafchaudri': 9918, 'politicis': 9919, 'religioussocialeconomicpolit': 9920, 'waqaskhanbuner': 9921, 'ahsanna78narow': 9922, 'iqbalbetterpakistan': 9923, 'devil': 9924, 'incarn': 9925, 'saqibraja': 9926, 'theaadilaamir': 9927, 'que': 9928, 'prisnor': 9929, 'mehreenkhawaja': 9930, 'rejectfa': 9931, 'annou': 9932, 'generalelection20': 9933, 'doucheb': 9934, 'bakhtbaydar': 9935, 'onndiscuss': 9936, 'onndi': 9937, 'annouc': 9938, 'antipakistan': 9939, 'officialispr': 9940, 'tehreekelabbaik': 9941, 'usman7881': 9942, 'ihsanali12': 9943, 'haqqani': 9944, 'delect': 9945, 'monabilour': 9946, 'nayadaurpk': 9947, 'dastardli': 9948, 'und': 9949, '25thgeneralelections2018': 9950, '577': 9951, 'talkin': 9952, 'smuggl': 9953, 'ephedrin': 9954, 'narcot': 9955, 'peddler': 9956, 'choi': 9957, 'pakistannawazsharif': 9958, 'rahbar': 9959, 'residenti': 9960, '923214299494923334177723': 9961, 'furt': 9962, 'maharlali': 9963, 'fori': 9964, 'shergeneralelections2018': 9965, 'wordgeneralelections2018': 9966, 'rumi': 9967, 'behalf': 9968, 'sabizak': 9969, 'countryman': 9970, 'generalselect': 9971, 'rehanallahwala': 9972, 'consciousgeneralelections2018': 9973, 'mov': 9974, 'peaceameen': 9975, 'hiraasiddiqi': 9976, 'brirril': 9977, 'outburst': 9978, 'proerli': 9979, 'compli': 9980, 'malghaniii': 9981, 'kaaptanharoonbilourshaheedgeneralelections2018': 9982, 'sayingelection2018': 9983, 'resistlaadlapolit': 9984, 'itsahsen': 9985, 'anathema': 9986, 'cow': 9987, 'prolifer': 9988, 'cristianoronaldo': 9989, 'condenm': 9990, 'cornr': 9991, 'pashtunsfirst': 9992, 'rite': 9993, 'suicidebombattack': 9994, 'targ': 9995, 'thebushi75': 9996, 'campaigni': 9997, 'hog': 9998, 'resistfa': 9999, 'democra': 10000, 'laseblla': 10001, 'railw': 10002, 'imrankhanpm': 10003, 'lik': 10004, 'waqasahmadmian': 10005, 'staunch': 10006, 'adam': 10007, 'bezaar': 10008, 'scrutin': 10009, 'partiespu': 10010, 'eill': 10011, 'wingeneralelections2018': 10012, 'norfolkpaint': 10013, 'grou': 10014, 'elektron': 10015, 'pel': 10016, 'aleemkhanpti': 10017, 'teamaleemkhan': 10018, 'bolnewsoffici': 10019, 'bethwa': 10020, 'omairtahmad': 10021, 'city41fsd': 10022, 'righteou': 10023, 'legit': 10024, 'candidateshipstart': 10025, 'shakkhaesprit': 10026, 'zofeen': 10027, 'ebrahim': 10028, 'zofeen28in': 10029, 'repo': 10030, 'corruptionon': 10031, 'ldr': 10032, 'convicteddg': 10033, 'destabili': 10034, 'wr': 10035, 'jarrinajam': 10036, 'fkahut': 10037, 'domain': 10038, 'yea': 10039, 'render': 10040, '81': 10041, 'lab': 10042, 'chemistri': 10043, 'cocurricular': 10044, '226': 10045, '28': 10046, 'unsatisfactori': 10047, '801': 10048, '52': 10049, '16475': 10050, '10924': 10051, 'electionleadership': 10052, 'generationbuild': 10053, 'ayyatsiddiqui': 10054, 'exspeak': 10055, 'drsohaiil': 10056, 'insafpti': 10057, 'faketabde': 10058, 'saloodurrani': 10059, 'trustworthydamsforpakistan': 10060, 'journali': 10061, 'studio': 10062, 'ghissay': 10063, 'pittay': 10064, 'anal': 10065, 'bulgarian': 10066, 'cartoonistbushragohar': 10067, 'noumaan22': 10068, 'hopeand': 10069, 'hopepleas': 10070, 'reduc': 10071, 'khil': 10072, 'womeninpolit': 10073, 'abbotabad': 10074, 'behtaksardar': 10075, 'umair': 10076, 'behtakmr': 10077, 'tasaddaq': 10078, 'comsat': 10079, 'nedemocr': 10080, 'behtaka': 10081, 'menefesto': 10082, 'closepolit': 10083, 'fastlyfirstli': 10084, 'sharifampmaryam': 10085, 'supportpoliticalparti': 10086, 'qamarulislam': 10087, 'saaf': 10088, 'pspc': 10089, 'scam': 10090, 'centralpyo': 10091, 'fakefekadjective1not': 10092, 'imit': 10093, 'counterfeitpakistani': 10094, 'khan23224naseem': 10095, '9th': 10096, '12174': 10097, 'generalelections2018meanwhil': 10098, 'leak': 10099, 'anchorperso': 10100, 'generalelections2018khalaimakhlooq10percentdh': 10101, 'gb': 10102, 'mutual': 10103, 'hors': 10104, 'breed': 10105, 'anchorp': 10106, 'bannuth': 10107, 'batteri': 10108, 'seller': 10109, 'throughout': 10110, 'groomin': 10111, 'didpmlncampaign2018': 10112, 'scum': 10113, 'lure': 10114, 'aabsirfimrankhan': 10115, 'lu': 10116, 'jibe': 10117, 'garner': 10118, 'pakistanipolitician': 10119, 'saudsami': 10120, '1993chor': 10121, '1999convict': 10122, '2018releas': 10123, '2028accountabilitycourt': 10124, 'announcedgeneralelection2018': 10125, '2018pakistan': 10126, 'sako': 10127, 'generalelections2018abidi': 10128, 'toobabutt5': 10129, 'exact': 10130, 'pakistanisptimanifesto': 10131, 'gradu': 10132, 'secppakistan': 10133, 'sholud': 10134, 'careempakin': 10135, 'ictpolic': 10136, 'carbon': 10137, 'vehicl': 10138, 'generalelections2018election2018': 10139, 'hyper': 10140, 'zahraasaifullah': 10141, 'leadergeneralelections2018': 10142, 'clearrespectmyvot': 10143, 'generalelections2018vot': 10144, 'na53nadeemsarwar': 10145, 'mashwaniazhar': 10146, 'yasirmcheema': 10147, 'isloo': 10148, 'liaqatbalochji': 10149, 'coca': 10150, 'cola': 10151, 'ptiik': 10152, 'compo': 10153, 'mili': 10154, 'electionhq': 10155, 'behtak': 10156, 'arazzaqabbasi': 10157, 'aliasgharpti': 10158, 'somewhat': 10159, 'bettergeneralelections2018': 10160, 'deteriora': 10161, 'imsalmanpak': 10162, 'tribuneblog': 10163, 'iwqureshi': 10164, 'ptiwhat': 10165, 'na147': 10166, 'generalelections2018dunyaupd': 10167, 'habibakra': 10168, 'sheraza29': 10169, 'startgeneralelections2018': 10170, 'occa': 10171, 'voterselection2018': 10172, 'ptig': 10173, 'racket': 10174, 'letschoosewis': 10175, 'election2018vote4kitab': 10176, 'qadeer': 10177, 'electrifi': 10178, 'abt': 10179, 'bs14': 10180, 'bs22': 10181, 'mubashirrsay': 10182, 'yeara': 10183, 'votepakistanincreas': 10184, 'turnoutgeneralelections201825': 10185, 'changevot': 10186, 'nazbaloch': 10187, 'globalis': 10188, 'emoji': 10189, 'fairandfre': 10190, 'waqasdarr': 10191, 'faawad': 10192, 'affordso': 10193, 'pkr': 10194, 'pakistanget': 10195, 'overus': 10196, 'jin': 10197, 'maangn': 10198, 'jate': 10199, 'pareshani': 10200, 'khar': 10201, 'ps129mqm': 10202, 'examplecontinu': 10203, 'impressioncontinu': 10204, 'saimamohsin': 10205, 'thoughtgeneralelections2018womenempower': 10206, 'constituenciesdetail': 10207, 'labbaik': 10208, 'akforty7': 10209, 'riddancebut': 10210, 'acquaint': 10211, 'wordoflaw': 10212, 'titojourno': 10213, 'frighten': 10214, 'vaccum': 10215, 'extr': 10216, 'voluntarili': 10217, 'idreesmahmood': 10218, 'saidw': 10219, 'outofschool': 10220, '57': 10221, 'fataeduc': 10222, '26': 10223, 'prim': 10224, 'missexpress': 10225, 'pakisan': 10226, 'electableinfluenti': 10227, 'afridimehreen': 10228, 'sabihulhussnain': 10229, 'worldcallelections2018': 10230, 'view25julygeneralelections2018bookmmaislamipakistanhappypakistan': 10231, 'umarawan611': 10232, 'writeup': 10233, 'sarwan': 10234, 'kashish': 10235, 'na142': 10236, 'inqilab': 10237, 'aan': 10238, '83': 10239, 'womencandid': 10240, 'motorcycl': 10241, 'harass': 10242, 'grave': 10243, 'pakawaitspunishmenttonsgeneralelection2018': 10244, 'nawazshariftraitor': 10245, 'nawazchor': 10246, 'jafarshahmp': 10247, 'curios': 10248, 'mureebmohmand': 10249, 'bajaur': 10250, 'backward': 10251, 'hilli': 10252, '1103pmgeneralelections2018': 10253, 'homesweethom': 10254, 'aikvoteforjibrannasir': 10255, 'mehreenburney': 10256, 'aikmjibrannasir': 10257, 'ata': 10258, 'longlivepakistan': 10259, 'rupeesdetail': 10260, 'rare': 10261, 'phenomenon': 10262, 'democracieswhich': 10263, 'norm': 10264, 'format': 10265, 'generalelections2018for': 10266, 'electionsshehbazsharif': 10267, 'maxesmb': 10268, 'pmlncampai': 10269, 'summaeya': 10270, 'trailblaz': 10271, 'noorenasham': 10272, 'noorena': 10273, 'squash': 10274, 'sumer': 10275, 'nhs70': 10276, 'aswel': 10277, 'isyedrizvi': 10278, '930pm': 10279, 'repetit': 10280, 'sadatyouni': 10281, 'bilkul': 10282, 'sai': 10283, 'pasroor': 10284, 'jana': 10285, 'chaia': 10286, 'reshuffl': 10287, 'qasimrishi': 10288, 'khaistak50': 10289, 'peacevot': 10290, 'prosperityvot': 10291, 'generalelections201825thjuli': 10292, 'qualif': 10293, 'majidsnizami': 10294, 'piecegeneralelections2018': 10295, 'partial': 10296, 'smfarouq': 10297, 'slowli': 10298, 'gurante': 10299, 'mastu': 10300, 'wajahatabbaskaz': 10301, 'happend': 10302, 'pakista': 10303, 'ariport': 10304, 'incorrect': 10305, 'theatric': 10306, 'ampperso': 10307, 'politicalworkerspakistanelect': 10308, 'swim': 10309, 'pakistan2018': 10310, 'timevoteforgood': 10311, 'julushah': 10312, 'polygon': 10313, 'demarc': 10314, 'hex': 10315, 'cel': 10316, 'wpsproject': 10317, 'forgot': 10318, 'abdulsattaredhi': 10319, 'lip': 10320, 'pakistanelectionspakistan': 10321, 'august': 10322, 'sociali': 10323, 'larkano': 10324, 'elections2018pakistanelect': 10325, 'ecpcodeofconduct': 10326, 'nidhi': 10327, 'pmlln': 10328, 'provin': 10329, 'jc4pm': 10330, 'stoptrump': 10331, 'imamshamil': 10332, 'balajinodo78': 10333, 'individualsvotetofightcorruptionreadthisbeforeyouvotevoteforyourfutur': 10334, 'slightli': 10335, 'significantli': 10336, 'scion': 10337, 'erstwhil': 10338, 'ohhh': 10339, 'gia': 10340, 'jaypmln': 10341, 'pata': 10342, 'baat': 10343, 'pakistanelectionsumarcheema1': 10344, 'votetofightcorruptionreadthisbeforeyouvotevoteforyourfuturepakistancomesfirst': 10345, 'ahmedsafd': 10346, 'dismay': 10347, 'sightmagazin': 10348, 'christiansinpakistan': 10349, 'ptimedia': 10350, 'manifestomanshoor': 10351, 'hurri': 10352, 'leadi': 10353, 'remainsseem': 10354, 'pakora': 10355, 'pakistanpolit': 10356, 'disallow': 10357, 'registrat': 10358, 'kishwarmunir786': 10359, 'pakistanpakelect': 10360, 'loom': 10361, 'uninterrupt': 10362, 'entiti': 10363, 'widespread': 10364, 'irrelev': 10365, 'todayvoteforpakistan': 10366, 'zaarasana': 10367, 'staybless': 10368, 'aamirinqlabi': 10369, 'xervaish': 10370, 'absirfimr': 10371, 'bond': 10372, 'familyli': 10373, 'loansfatfpollut': 10374, 'eradicationpakistan': 10375, 'novot': 10376, 'novoic': 10377, 'seemal1': 10378, 'justicejustic': 10379, 'justiceforseemalraja': 10380, 'aamirazartash': 10381, 'accidentif': 10382, 'happensy': 10383, 'wayvoteforpakistan': 10384, 'whyjibran': 10385, 'resum': 10386, 'mawrahocan': 10387, 'itvoteforpakistan': 10388, 'topnewsbkr': 10389, 'nawazsharifmaryamnawaz': 10390, 'ey243': 10391, 'descend': 10392, 'tel': 10393, 'csp': 10394, 'sabtau': 10395, 'noorrulhudaa': 10396, 'mahrukhtk': 10397, 'sohaib3088': 10398, 'everythin': 10399, 'recov': 10400, 'rehamkhanautobiographyth': 10401, 'bottom': 10402, 'hamidmirpakth': 10403, 'gray': 10404, 'fulf': 10405, 'mangobaaz': 10406, 'nail': 10407, 'shaoor': 10408, 'qatray': 10409, 'ft': 10410, 'voteforwat': 10411, 'subsaypehlaypakistan': 10412, 'theat': 10413, 'fromvoteforpti': 10414, 'saadtariqb': 10415, 'ithetauru': 10416, 'bucha': 10417, 'payrol': 10418, 'eeman': 10419, 'nishan': 10420, 'wakeuppakistan': 10421, 'mismanag': 10422, 'brough': 10423, 'heath': 10424, 'designelection2018': 10425, 'wash': 10426, 'annual': 10427, 'fundsfordam': 10428, 'nizam': 10429, 'anna': 10430, 'chaiya': 10431, 'molvi': 10432, 'ikvoteforpakistan': 10433, 'kisko': 10434, 'doon': 10435, 'kisiko': 10436, 'bhee': 10437, 'bygood': 10438, 'pakfauj': 10439, 'katmenabuwat': 10440, 'bushragull5': 10441, 'mianiftikharhu': 10442, 'janachakzai': 10443, 'haniqureshi5': 10444, 'younu': 10445, 'gaddi': 10446, 'uc96votef': 10447, 'jailvoteforpakistan': 10448, 'nawazshareef': 10449, 'nook': 10450, 'avenfieldreferenceverdict': 10451, 'dieavenfieldrefer': 10452, 'sayno': 10453, 'chusnielection2018': 10454, 'patriosim': 10455, 'thefampakistan': 10456, 'dmpakistan': 10457, 'hasnu': 10458, 'distress': 10459, 'sacr': 10460, 'responsibilitythi': 10461, 'dm': 10462, 'pakistang': 10463, 'pakistanvoteforpakistan': 10464, 'ptiburewala': 10465, 'naqeebullah': 10466, 'genralelect': 10467, 'comprehensiv': 10468, 'comp': 10469, 'imrankhanvotewis': 10470, 'statevote4mmacandid': 10471, 'optioniklov': 10472, 'ptilov': 10473, 'iklov': 10474, 'ptismt': 10475, 'imrankhanlov': 10476, 'teamik': 10477, 'alnoororchadpk': 10478, 'raoanwarto': 10479, 'convert': 10480, 'pakistandamsforpakistanvoteforpakistan': 10481, 'pp163': 10482, 'statusdamsbank': 10483, 'pakistanaccount': 10484, 'basha': 10485, 'fund2018account': 10486, 'voteforpakistanrisingpakistan': 10487, 'breath': 10488, 'electthebestelections2018voteforpakistanth': 10489, 'colorless': 10490, 'puriti': 10491, 'shouldv': 10492, 'greatdeb': 10493, 'powerthes': 10494, 'avenfieldr': 10495, 'itszzzzz': 10496, 'rephras': 10497, 'aunti': 10498, 'offshor': 10499, 'childhood': 10500, 'bradri': 10501, 'slave': 10502, 'marinela': 10503, 'rekaptimanifesto': 10504, 'iwillvoteforbat': 10505, 'themahirakhan': 10506, 'jogezai': 10507, 'method': 10508, 'phrophethood': 10509, 'umah': 10510, 'skhan622': 10511, 'tahiral95814407': 10512, '25july201': 10513, 'historyabsirfimrankhan': 10514, 'pakistanthinkbeforeyouvot': 10515, 'election2018voteforpma': 10516, 'voteforfish': 10517, 'supportpakistan': 10518, 'imrankhanvoteforpakistan': 10519, 'tigress': 10520, 'gabhutto': 10521, 'awampukareybilaw': 10522, 'sinso': 10523, 'ziaqadir': 10524, 'despic': 10525, 'houseofsharif': 10526, 'penthousepir': 10527, 'mei': 10528, 'jitni': 10529, 'wiselyvoteforpakistan': 10530, 'thinkwis': 10531, 'coun': 10532, 'zarda': 10533, 'votekoizatdo': 10534, 'quench': 10535, 'shaista': 10536, 'lodhi': 10537, 'shaistalodhi': 10538, 'parwaazhaijunoon': 10539, 'candida': 10540, 'arsallanagha': 10541, 'hinarabiaa': 10542, 'ahtishamdogar': 10543, 'bismaaleem': 10544, 'voteforpa': 10545, 'iamkinzairshad': 10546, 'wesypmlnmedia': 10547, 'amplifi': 10548, 'yourvoteyourvoic': 10549, 'sham': 10550, 'nohri': 10551, 'ministership': 10552, 'manthar': 10553, 'arisar': 10554, 'voiceless': 10555, 'kheemon': 10556, 'kunri': 10557, 'royal': 10558, 'safeguard': 10559, 'khanoo': 10560, 'kolhi': 10561, 'taluka': 10562, 'emphasis': 10563, 'qeemat': 10564, 'ps51': 10565, 'umerkot': 10566, 'cssting': 10567, 'forimrankhanpti': 10568, 'aajnew': 10569, 'bolnew': 10570, 'nothingbutsuccess': 10571, 'enco': 10572, 'bahria': 10573, 'election25juli': 10574, 'absirfimrankhanballaypenishan': 10575, 'voteforinsaf': 10576, 'usvoteforpakistan': 10577, 'jabranbuttji': 10578, 'lawless': 10579, 'countryvoteforpakistanvoteforbook': 10580, 'weekeend': 10581, 'guysneelammun': 10582, 'neelammuneerkhan': 10583, 'picoftheday': 10584, 'aday': 10585, 'naseebaya': 10586, 'ptinaseebayavoteforbat': 10587, 'voteforpakistanpakistanshouldneedimrankhansmilek': 10588, 'voteforpakistanpakistanshouldneedimrankhansmileki': 10589, 'wazireazam': 10590, 'toobaliciouss': 10591, 'withduerespct': 10592, 'newselection2018': 10593, 'rajkumar': 10594, 'moviethat': 10595, 'londonpmln': 10596, 'simpli': 10597, 'familiesyour': 10598, 'handsvo': 10599, 'sohaibcc': 10600, 'votedont': 10601, 'awaisjolaha': 10602, 'deposit': 10603, 'youso': 10604, 'governmentgranddemocrat': 10605, 'zoyagopang': 10606, 'abdulhameedbug5': 10607, 'quaidalitariqmirzacandid': 10608, 'ps123electioncampaign2018votefor': 10609, 'rallydistrict': 10610, 'alitariqmirzacandid': 10611, 'ps123electioncampaign2018voteforst': 10612, 'complainvoteforpakistanelection2k18': 10613, 'ps96hum': 10614, 'recordedprepar': 10615, '2k18mi': 10616, 'plm': 10617, 'deputi': 10618, 'alibashir94': 10619, 'braveri': 10620, 'khanimrankhanpti': 10621, 'supportptielection2k18': 10622, 'day10': 10623, 'lunch': 10624, 'anwar': 10625, 'saifullh': 10626, 'naseer': 10627, 'interst': 10628, 'agreementelect': 10629, 'supportpti': 10630, 'election2k18absirfimrankhan': 10631, 'pakistanpmlnloveyoumarryamloveyounawazsharif': 10632, 'moham': 10633, 'cornermeet': 10634, 'ward12': 10635, 'qasimabadhyderabad': 10636, 'fayzanajdani': 10637, 'advabdulahad': 10638, 'therenaya': 10639, 'pakistanimran': 10640, 'khanelection2k18hometowndirlow': 10641, 'pk70': 10642, '7172': 10643, 'na29': 10644, 'walfar': 10645, 'anasmallick': 10646, 'zohenx0': 10647, 'germani': 10648, 'terrorismge2018': 10649, 'na54ge2018': 10650, 'alterna': 10651, 'votefordolphindolphinsignofpeac': 10652, 'suna': 10653, 'hun': 10654, 'meri': 10655, 'potenti': 10656, 'abbottabadkaptaanka': 10657, 'socialmediaday': 10658, 'politicsppl': 10659, 'teampyo': 10660, 'rajputaksa': 10661, 'huwi': 10662, 'pellet': 10663, 'talat': 10664, '50000': 10665, 'lohari': 10666, 'na244belongstopmln': 10667, 'hashirkonnect': 10668, 'bn': 10669, 'circu': 10670, 'legaldecis': 10671, '2k': 10672, 'suger': 10673, 'millh': 10674, 'surkha': 10675, 'blo': 10676, 'faisallawicp': 10677, 'waliramzan1': 10678, 'jeeti': 10679, 'gahe': 10680, 'ibrahimbade': 10681, 'navazmalik': 10682, 'internati': 10683, 'saleemsafijirga': 10684, 'spaceansw': 10685, 'devineangel': 10686, 'rught': 10687, 'securityalert': 10688, 'zubiaalisiddiqu': 10689, 'parh': 10690, 'bataen': 10691, 'hamara': 10692, 'ayat': 10693, 'kursielection2018': 10694, 'napunjab': 10695, '75kpk': 10696, '35sindh': 10697, '05balochistan': 10698, '12subtota': 10699, 'tabahibutt': 10700, 'aql': 10701, 'dang': 10702, 'jae': 10703, 'jb': 10704, 'dekhen': 10705, 'gyinshaallah': 10706, 'winge2018': 10707, 'jojoland': 10708, 'inhabit': 10709, 'moulanasahib': 10710, 'broken': 10711, 'bone': 10712, 'eas': 10713, 'sho': 10714, 'absirfimrankhanalso': 10715, '11am': 10716, 'truckal': 10717, 'joingeneralelection2018': 10718, '11amayesha': 10719, 'gulalai': 10720, 'truck': 10721, 'invitati': 10722, 'depletinginfl': 10723, 'increasingusdpkr': 10724, 'pariti': 10725, '125': 10726, 'consul': 10727, 'azazsi': 10728, 'faisalalipti': 10729, 'activitiesge2018': 10730, 'callgirlgurgaon': 10731, 'availableescortservicecallgirlsrussia': 10732, 'chowrang': 10733, 'apartm': 10734, 'antiterror': 10735, 'mmohammed914737': 10736, 'mnoman90': 10737, 'shabazgil': 10738, 'justif': 10739, '14000': 10740, 'wazirazamimrankhan': 10741, 'overload': 10742, 'foodampwat': 10743, 'restrain': 10744, 'spe': 10745, 'chitralpti': 10746, 'apmlge2018': 10747, 'khawarswb': 10748, 'sequenc': 10749, 'proarmi': 10750, 'afaqhu': 10751, 'tongu': 10752, 'pppsyedashehlaraza': 10753, 'vote4ki': 10754, 'interpol': 10755, 'pakistandam': 10756, 'mood': 10757, 'coonect': 10758, 'dot': 10759, 'laid': 10760, 'ps35': 10761, 'awarenessvot': 10762, 'anywaydr': 10763, 'countsabbottabadpakistan': 10764, 'reemahasnain': 10765, 'pakistaniand': 10766, 'figh': 10767, 'moiziswait': 10768, '90100pmln': 10769, '130150ppp': 10770, '3040': 10771, '1014what': 10772, 'wheel': 10773, 'surround': 10774, 'insult': 10775, 'na129ptiabsirfimrankhan': 10776, 'bloodshednytim': 10777, 'khanbehroz': 10778, 'pashtunbaloch': 10779, 'biloursinpeshawar': 10780, 'durranisinbannu': 10781, 'raisanisinmastung': 10782, 'alinashigri': 10783, 'canag': 10784, '1931': 10785, 'coveag': 10786, 'iagent101': 10787, 'mubashirzaidi': 10788, 'certan': 10789, 'doublesid': 10790, 'thingspmln': 10791, 'mastingmassacr': 10792, 'tollin': 10793, 'incluculd': 10794, 'rampant': 10795, 'hamper': 10796, 'mastoung': 10797, 'politiciansge2018': 10798, 'fuss': 10799, 'aque': 10800, '4buy': 10801, 'ziaul': 10802, 'dismiss': 10803, 'sta': 10804, 'autho': 10805, 'organisat': 10806, 'sihala': 10807, 'subjail': 10808, 'maryamnawazpmln': 10809, 'preliminar': 10810, 'historyinmak': 10811, 'afridi': 10812, 'matricul': 10813, 'fsc': 10814, 'disagr': 10815, 'suffic': 10816, 'publical': 10817, '127': 10818, 'jolt': 10819, 'nighat': 10820, 'nighatdadnoth': 10821, '122': 10822, 'injuredmay': 10823, 'withou': 10824, 'manihammad': 10825, 'ge2018imran': 10826, 'agenda1': 10827, 'weekday': 10828, 'pakistanharoonbilour': 10829, 'bannublastmnsmn': 10830, 'characterless': 10831, 'industrialist': 10832, 'tycoon': 10833, '1951': 10834, 'nbhardwaj2009': 10835, 'zeenew': 10836, 'indianews24x7': 10837, 'indiatoday': 10838, 'dist': 10839, 'mahobili': 10840, 'notedalreadi': 10841, 'presidentpmlnab': 10842, 'agayamahobili': 10843, 'fwd': 10844, 'wholeheartedli': 10845, 'zain': 10846, 'zainhq': 10847, 'electionposternawabzada': 10848, 'brutal': 10849, 'personhow': 10850, 'narend': 10851, 'apparatu': 10852, 'hamayun': 10853, 'akhat': 10854, 'afghan': 10855, 'representa': 10856, 'daytot': 10857, '67dead': 10858, '122x': 10859, 'injuredgh': 10860, 'bakhash': 10861, 'hosp30x': 10862, '32x': 10863, 'injcivil': 10864, 'hosp': 10865, 'mastung4': 10866, 'inj': 10867, 'namal': 10868, 'questions1': 10869, 'powergam': 10870, 'rose': 10871, 're': 10872, 'jaldi': 10873, 'hojayen': 10874, 'gand': 10875, 'ismashaukat14': 10876, 'askazad': 10877, 'attac': 10878, 'ge2018nawazsharif': 10879, 'km': 10880, 'meetingbap': 10881, '50km': 10882, 'rec': 10883, 'fac': 10884, 'eliminatin': 10885, 'highwaybhandaphoro': 10886, 'decideif': 10887, 'bil': 10888, 'eueompakistan2018': 10889, 'eueompak2018stat': 10890, 'harshskin': 10891, 'iqba': 10892, 'afzalkhan001': 10893, 'ghadari': 10894, 'touheen': 10895, 'mazhab': 10896, 'insecur': 10897, 'enou': 10898, 'itpidgov': 10899, 'elsewher': 10900, 'dey': 10901, 'fifti': 10902, 'septuagenarian': 10903, 'octogenarian': 10904, 'mishaisf': 10905, 'lana': 10906, 'jalib': 10907, 'poem': 10908, 'decre': 10909, 'haram': 10910, 'wordsbyanam': 10911, 'extern': 10912, 'junaidjadoon14': 10913, 'airspac': 10914, 'meeti': 10915, 'mentor': 10916, 'humanitarian': 10917, 'sirliaquatmirani': 10918, 'ps13': 10919, 'faizanlakhani': 10920, 'conovi': 10921, 'hu': 10922, 'carvan': 10923, 'line23452': 10924, 'zartaj': 10925, 'gull': 10926, '191': 10927, 'gimmick': 10928, 'qanoonkoizzatdo': 10929, 'yourzmi': 10930, 'centerge2018': 10931, 'tf': 10932, 'munnipti': 10933, 'mushtaqbinum': 10934, 'nask27': 10935, 'exil': 10936, '2007smmb': 10937, 'dona': 10938, 'zabhutto': 10939, 'paththi': 10940, '2018mi': 10941, '830': 10942, 'entitl': 10943, 'regim': 10944, 'comfo': 10945, 'avenfieldref': 10946, 'na131pti': 10947, 'tripbhandaphoro': 10948, 'undertak': 10949, 'pueril': 10950, 'bijan': 10951, 'assge2018': 10952, 'ailiazehra': 10953, 'innotocensorship': 10954, 'itsmuneeeb': 10955, 'lin': 10956, 'ps10': 10957, 'realbhutto': 10958, 'godforbid': 10959, 'arainpmln': 10960, 'karachipidgov': 10961, 'files8': 10962, 'stationge2018': 10963, 'ese': 10964, 'cheekh': 10965, 'jese': 10966, 'hoyi': 10967, 'isk': 10968, 'justifiablearmi': 10969, 'narowalge2018wazireazamimrankhan': 10970, 'spartacusasli': 10971, 'faileda': 10972, 'spill': 10973, 'bean': 10974, 'brow': 10975, 'censorshipasmashirazi': 10976, 'ge2018impress': 10977, 'committ': 10978, 'veerjikolhi7': 10979, 'bhayani': 10980, 'heightsmaskan': 10981, 'bloc': 10982, 'notificationelect': 10983, 'ge2018ecpislamabad': 10984, 'amjadchandioppp': 10985, 'aajizdhamrah': 10986, 'pakkaqila': 10987, 'peoplesreg': 10988, 'postge2018': 10989, 'chaskay': 10990, 'nukkonukk': 10991, 'aizakhan019': 10992, 'sympathis': 10993, 'mustread': 10994, 'thread': 10995, 'highalert': 10996, 'punjabge2018': 10997, 'lhealer': 10998, 'rippti': 10999, 'ptilota': 11000, 'hammer': 11001, 'kashmirbhandaphoro': 11002, 'consider': 11003, 'jack': 11004, 'countless': 11005, 'ministeri': 11006, 'boldli': 11007, 'hologram': 11008, 'fai': 11009, 'rizwanyahya': 11010, 'ptips102karachi': 11011, 'ptips101karachi': 11012, 'gtno': 11013, '40000': 11014, 'murideen': 11015, '25485': 11016, 'saab': 11017, 'wapa': 11018, 'jeetay': 11019, 'undercov': 11020, 'pretend': 11021, 'punch': 11022, 'tit': 11023, 'tatvot': 11024, 'font': 11025, 'roksakutouroklo': 11026, 'muchdelay': 11027, 'biopic': 11028, 'asbachaudhari': 11029, 'supe': 11030, 'googleadword': 11031, 'bannd': 11032, 'qasimabadvoteforteervotefor': 11033, 'stacia': 11034, 'tauscherchildren': 11035, 'blunder': 11036, 'picturethi': 11037, 'storysham': 11038, 'caretakersy': 11039, 'absirfimrankhanpti': 11040, 'eupakistan': 11041, 'peshawarge2018': 11042, 'exerlonjawd': 11043, 'primeministerofpakistan': 11044, 'trendsjui': 11045, 'irshadbhatti336': 11046, 'mariazafar19': 11047, 'aftr': 11048, 'alla': 11049, 'kisam': 11050, 'mazaak': 11051, '300': 11052, 'litter': 11053, 'smell': 11054, 'aayeg': 11055, 'gawal': 11056, '25000': 11057, 'coowner': 11058, 'millio': 11059, 'powercut': 11060, 'orang': 11061, 'drruquiyasaeedhashmi': 11062, 'afgeneralelections2018': 11063, 'pakistanlargestaudi': 11064, 'no1': 11065, 'no2': 11066, 'no3': 11067, 'overwh': 11068, '058': 11069, '054': 11070, '051': 11071, '2015': 11072, '1889': 11073, '1888': 11074, '2222': 11075, 'brea': 11076, 'exactlypti': 11077, 'pti300': 11078, 'factory9': 11079, 'coming3': 11080, 'homevot': 11081, 'pmln2': 11082, 'hahahah': 11083, 'dealt': 11084, 'emergencymalign': 11085, 'jabeensayeda': 11086, 'ejavedher': 11087, 'avaisnisar': 11088, 'duraniiftikhar': 11089, 'smqure': 11090, 'madeehanaqvi': 11091, 'infront': 11092, 'sec9ndari': 11093, 'tma': 11094, 'dhou': 11095, 'khurramziakhan': 11096, 'merahalqaaurptimansehra': 11097, 'pk32': 11098, 'chanzebit': 11099, 'inshallahna14': 11100, 'zargul': 11101, 'kh': 11102, 'masim15': 11103, 'spit': 11104, 'venom': 11105, 'agai': 11106, 'khali': 11107, 'ge2018ppppressconferenc': 11108, 'narrow': 11109, 'prepub': 11110, 'july25keep': 11111, 'frust': 11112, 'oop': 11113, 'ptigeneralelection2018': 11114, 'ge2018shahbazchitta': 11115, 'civilsocieti': 11116, '16th': 11117, 'saddar': 11118, 'kiddingi': 11119, 'jokewher': 11120, 'headinggang': 11121, 'processgeneralelections2018': 11122, 'pakhtun': 11123, 'khabrain': 11124, 'polish': 11125, 'campaignazadmedia': 11126, 'azadadlia': 11127, 'screenshot': 11128, 'pashaammad': 11129, 'saboohsi': 11130, 'propagandaslifafasnot': 11131, 'khanimrankhange2018': 11132, 'truthno': 11133, 'electioncoverag': 11134, 'hoomanist': 11135, 'do': 11136, 'checklist': 11137, 'accessib': 11138, 'na95': 11139, 'mianwaligeneralelection2018': 11140, 'bilourbhandaphoro': 11141, 'commentari': 11142, 'tilt': 11143, 'slant': 11144, 'kudo': 11145, 'na82': 11146, 'sharege2018': 11147, 'isthkar': 11148, 'raanjah': 11149, 'ge2018mml': 11150, 'shb': 11151, 'gujranwalahow': 11152, 'ptige2018election2018pakistandecid': 11153, 'somewher': 11154, 'jedi': 11155, 'sportsman': 11156, 'givenup': 11157, 'career': 11158, 'pk44': 11159, 'differencevot': 11160, 'complic': 11161, '20peshawar': 11162, 'terrorismge2018election2018': 11163, 'jul11': 11164, 'bbhut': 11165, 'pattern': 11166, 'ptioffic': 11167, 'empoweringwomen': 11168, 'mile': 11169, 'explod': 11170, 'powershow': 11171, 'jul12': 11172, 'chalk': 11173, 'yearsh': 11174, 'governm': 11175, 'ganda': 11176, 'dhanda': 11177, 'harry78652900': 11178, 'cold': 11179, 'workerssupport': 11180, 'bought': 11181, 'sasti': 11182, 'forev': 11183, 'marti': 11184, 'belor': 11185, 'decisionelect': 11186, 'peshawaryaktootblast': 11187, 'terrorismelection2018': 11188, 'nytim': 11189, 'upto': 11190, 'coerciv': 11191, 'iqbutt': 11192, 'trolla': 11193, 'militar': 11194, 'affairth': 11195, '371k': 11196, 'respondpeshawar': 11197, 'addr': 11198, 'shenanigan': 11199, 'lrh': 11200, 'stfu': 11201, '4u': 11202, 'daniy': 11203, 'isbwaqar': 11204, 'profshahe': 11205, 'familt': 11206, 'na182': 11207, 'muzzafargarh': 11208, 'pewalert': 11209, 'agnst': 11210, 'react': 11211, 'silli': 11212, 'architectwaqa': 11213, 'attacksa': 11214, 'haroonbiliour': 11215, 'ge2018secur': 11216, 'over': 11217, 'deca': 11218, 'yakatootblastanp': 11219, 'peshawar5': 11220, 'verg': 11221, 'martyrdo': 11222, 'expir': 11223, 'abbasimehwish': 11224, 'haroo': 11225, 'lillah': 11226, 'ilaih': 11227, 'rajeoon': 11228, 'kayaniha': 11229, 'punja': 11230, 'bilori': 11231, 'leadersev': 11232, 'baghair': 11233, 'mazaa': 11234, 'stree': 11235, '15th': 11236, 'ballo': 11237, 'jaralshahid': 11238, 'shortli': 11239, 'faislapakistanioka': 11240, 'dolp': 11241, 'zarahatkaydawn': 11242, 'zarrarkhuhro': 11243, 'wusatullahkhan': 11244, '371488': 11245, 'shangla': 11246, '100718': 11247, 'tabraizghani': 11248, 'trustworthi': 11249, 'savepakistanfrompti': 11250, 'hmhpme': 11251, 'securi': 11252, 'moreth': 11253, 'tumbl': 11254, 'ostrich': 11255, 'bloom': 11256, 'canno': 11257, 'suddenli': 11258, 'doostoo': 11259, 'soge2018': 11260, 'blamegam': 11261, 'jul27ecpislama': 11262, 'jul27': 11263, 'substanc': 11264, 'inquiri': 11265, 'peep': 11266, 'bilawalbhuto': 11267, 'manif': 11268, 'gulistanejoh': 11269, 'urgent': 11270, 'eyespacialist': 11271, 'eyesight': 11272, 'grandmothernani': 11273, 'wha': 11274, 'datenawazsharif': 11275, 'maryamcaptainsafdar': 11276, 'captsafdar': 11277, 'inko': 11278, 'rulaounga': 11279, 'meant': 11280, 'itnextstopadiyala': 11281, 'nawazmariam2018': 11282, 'today15': 11283, 'thay': 11284, 'pakistangtgtwhatiddowithoutelectricityltltptimanifesto': 11285, 'aroun': 11286, 'cricketerturnedpoliticia': 11287, 'khansaa12623074': 11288, 'ampcj': 11289, 'nadirgabol': 11290, 'airpo': 11291, 'decidedthey': 11292, 'londo': 11293, 'tirelessli': 11294, 'seharmaqbool123': 11295, 'anc': 11296, 'engrwaseemahmad': 11297, '1103pmelections2018': 11298, '2return': 11299, 'adolf': 11300, 'hitler': 11301, 'reich': 11302, 'commanderspakistan': 11303, 'votege2018': 11304, 'grill': 11305, 'ptivf': 11306, 'conceal': 11307, 'factlook': 11308, 'muhemran': 11309, 'shi': 11310, 'fawadali994': 11311, 'indepen': 11312, 'bach': 11313, 'gya': 11314, 'naam': 11315, 'whataninform': 11316, 'leadershi': 11317, 'partyelections2018': 11318, 'ammirzazaid': 11319, '129ge2018': 11320, 'federation3': 11321, 'politicsgend': 11322, 'spring': 11323, 'lah': 11324, 'voteforbatwazireazamimrankhan': 11325, 'pmlnpunjabpkpeopl': 11326, 'arslpti': 11327, 'tomo': 11328, 'convictedpm': 11329, 'ifge2018': 11330, 'alcohol': 11331, 'bro': 11332, 'miyan': 11333, 'mariaptweet': 11334, 'pakistanfilmfestiv': 11335, 'newyork': 11336, 'pff': 11337, 'kharra': 11338, 'roadmap': 11339, 'banayain': 11340, 'makingimrankhan': 11341, 'stumbl': 11342, 'evot': 11343, 'registr': 11344, 'inactioninstead': 11345, 'sirm': 11346, 'marvisirmedbut': 11347, 'bandey': 11348, 'iski': 11349, 'dekhta': 11350, 'houn': 11351, 'roz': 11352, 'lugti': 11353, 'touseef': 11354, 'guzzler': 11355, 'rem': 11356, 'millionairea': 11357, 'conventarian': 11358, 'dependselectthebest': 11359, 'satisfac': 11360, '41degreecelciu': 11361, 'jalalqazi': 11362, 'plzge2018': 11363, 'shehz': 11364, 'avo': 11365, 'ge2018pti': 11366, 'benazirjatoi': 11367, '208': 11368, 'ge2018you': 11369, 'easil': 11370, 'dexeu': 11371, 'runner': 11372, 'shambl': 11373, 'brexit': 11374, 'iamshafaatali': 11375, 'mega': 11376, 'nawasmz': 11377, 'imrankhan2nahi1pakistanhumsubkapakistan': 11378, 'jaiden1981': 11379, 'adopt': 11380, 'headsup': 11381, 'anytim': 11382, 'mend': 11383, 'tie': 11384, 'ahmadsaroyapti': 11385, '2019': 11386, 'thenkss': 11387, 'nehata': 11388, 'larka': 11389, 'nehati': 11390, 'larki': 11391, 'caption': 11392, 'abdullah6704829': 11393, 'kash': 11394, 'musharaf': 11395, 'countdown': 11396, '2018count': 11397, 'busesperform': 11398, 'bbkawadanibhanahai': 11399, 'imbukhari1': 11400, 'decadesw': 11401, 'requeststart': 11402, 'telethon': 11403, 'machineri': 11404, 'hastag': 11405, 'until': 11406, 'vote4pti': 11407, 'disappointsge2018pmln': 11408, 'hashimawanppp': 11409, 'electionsge2018wazireazambilawalv': 11410, 'reme': 11411, 'asifjaved040': 11412, 'visionecono': 11413, 'kayaninayyab': 11414, 'tariff': 11415, 'amongst': 11416, 'ehsan': 11417, 'fasc': 11418, 'wordsaccoun': 11419, 'boardbhandaphoro': 11420, 'ptimanifestopti': 11421, 'devel': 11422, 'statewil': 11423, 'developmentwil': 11424, 'twi': 11425, 'muniba': 11426, 'mazari': 11427, '08': 11428, 'greatest': 11429, 'electioncampaignelections2018ge2018ppp2018': 11430, 'politica': 11431, 'nowher': 11432, 'gobhandaphoro': 11433, 'lawiwillvoteforbat': 11434, 'imrankhanptiamp': 11435, 'pakvsau': 11436, 'prodictatorship': 11437, 'procivil': 11438, 'supremacycivilsupremaci': 11439, 'ge2018now': 11440, 'ajbadvi': 11441, 'chattha0071': 11442, 'na101': 11443, 'janaz': 11444, 'developmen': 11445, 'ob': 11446, 'respec': 11447, '25julyge2018votefort': 11448, 'surfit': 11449, 'agriculturedeptt': 11450, 'marsalanl': 11451, 'badtameezi': 11452, 'kernay': 11453, 'mey': 11454, 'unka': 11455, 'saani': 11456, '246': 11457, 'ge2018generalelection2018lyarilyariptikaausvpakptipppna246ps109': 11458, 'pakhtunkhwaher': 11459, '45pmln': 11460, '30mma': 11461, '5anp': 11462, '20servey': 11463, 'institu': 11464, 'vott': 11465, 'siyalanwar': 11466, 'na201': 11467, 'soomrojameel': 11468, 'tribaldistrict': 11469, 'ennasadafali': 11470, 'plzvoteforchangevoteforbatge2018wazirazamimrankhanabsirfimrankhanballypenishan': 11471, 'pasco': 11472, 'acut': 11473, 'fro': 11474, 'niri': 11475, 'dushmani': 11476, 'ee': 11477, 'keeti': 11478, 'ay': 11479, 'fahadzeb1': 11480, 'g10': 11481, 'g11': 11482, 'magician': 11483, 'yeah': 11484, 'musadiqpk': 11485, 'asadrahim': 11486, 'shahidkhaqan1': 11487, 'doraayedawn': 11488, '233': 11489, 'pakistanizindaabad': 11490, 'hassanqazi': 11491, 'liaquatabad': 11492, 'layari': 11493, 'birthday': 11494, 'bahawalnagar': 11495, 'jalsapakistan': 11496, 'shayansumar': 11497, 'malaysia': 11498, 'rang': 11499, 'azamanim': 11500, 'nelson': 11501, 'waqasifi': 11502, 'huzaifasulman': 11503, 'mashallah': 11504, '323': 11505, 'asadmunir38': 11506, 'georg': 11507, 'khanpur': 11508, 'workshop': 11509, 'daysge2018': 11510, 'compain': 11511, 'maulana': 11512, 'diesel': 11513, 'sharam': 11514, 'daku': 11515, 'myidentitydolphinalhamdulillah': 11516, 'broadcast': 11517, 'embezzl': 11518, 'agrument': 11519, 'harder': 11520, '13ge2018': 11521, 'bcse': 11522, 'ownership': 11523, 'sourcesge2018': 11524, 'vy': 11525, 'conductit': 11526, 'sofiaihsanvohra': 11527, 'toxic': 11528, 'tsmhumanist': 11529, 'odysseuslahori': 11530, 'pdsge2018': 11531, 'mhussainmehanti': 11532, 'endimrankhange2018': 11533, 'kulyari': 11534, 'baha': 11535, 'candidatesge2018': 11536, 'motherg': 11537, 'gulshantownpsp': 11538, 'jamshaiid': 11539, 'surpri': 11540, 'saqib5430': 11541, 'saleemfarrukh': 11542, 'abdulkarimppp': 11543, 'viru': 11544, 'corel': 11545, 'director': 11546, 'sbca': 11547, 'ehil': 11548, 'cowerd': 11549, 'g8maq': 11550, 'neededssp': 11551, 'tooelections2018': 11552, '201': 11553, 'toxicit': 11554, 'ghundaa': 11555, 'gear': 11556, 'shoul': 11557, 'saeeddanish': 11558, 'tigressaseefabz': 11559, 'sew': 11560, 'humanist': 11561, 'behlol': 11562, 'khidmatkisiy': 11563, 'dharmewala': 11564, 'na143': 11565, 'asad': 11566, 'mohal': 11567, 'cell': 11568, 'fightplatoge2018': 11569, 'slaveryplatomedia': 11570, 'zartajgulwazir': 11571, 'na191': 11572, 'whatsaif': 11573, 'sherlahoreda': 11574, 'penguinindia': 11575, 'bollywood': 11576, 'masala': 11577, 'whypakneedsik': 11578, 'attroc': 11579, 'malhankhanauj': 11580, 'struggli': 11581, 'wallwho': 11582, 'swaggiest': 11583, 'allit': 11584, 'shkhrasheedshow': 11585, 'comi': 11586, 'recogn': 11587, 'again': 11588, 'j4jamal': 11589, 'constituenc': 11590, '64': 11591, 'rapidli': 11592, 'seemsge2018': 11593, 'ps123mmage2018': 11594, 'kohatthank': 11595, 'chat': 11596, 'na108': 11597, 'na85': 11598, 'bahau': 11599, 'tarar': 11600, 'plzzzzzz': 11601, 'plzzzz': 11602, 'onethi': 11603, 'bonu': 11604, 'pakistan143n': 11605, 'cele': 11606, 'kashifmalim': 11607, 'lovey': 11608, 'hersh': 11609, 'josj': 11610, 'jazbalov': 11611, 'respecthop': 11612, 'pakistana': 11613, 'ge2018bat': 11614, 'batptiik': 11615, 'booth': 11616, 'allahhuchowk': 11617, 'viewjaguthahalahor': 11618, 'effo': 11619, 'solidifi': 11620, 'enough2013': 11621, 'belowqureshimuzammilimrankhanpti': 11622, 'pakistanpti': 11623, 'senateelection2018': 11624, 'naveednadeem91': 11625, 'habibakram': 11626, 'kashifabbasiari': 11627, 'preced': 11628, 'setbhandaphoro': 11629, 'imsaqibb': 11630, 'wri': 11631, 'grati': 11632, 'ptiforlif': 11633, 'breakfast': 11634, 'imrankhanforpm': 11635, 'tanker': 11636, 'tabdeelikasafar': 11637, 'victoryday': 11638, 'jul09': 11639, 'fsherjan': 11640, 'ludhianvi': 11641, 'organisati': 11642, 'misaqeilam': 11643, 'helt': 11644, 'distrrictkohat': 11645, 'reallyavenfieldrefer': 11646, 'ge2018umarcheema1': 11647, 'skyge2018': 11648, 'ptipmlnexpos': 11649, 'evict': 11650, 'theresamay': 11651, 'caper': 11652, 'solutio': 11653, 'uni': 11654, '5pc': 11655, 'pk21': 11656, 'micheal': 11657, 'kugelmancontrol': 11658, 'ge2018aaz': 11659, 'trademark': 11660, 'wick': 11661, '5abibaba': 11662, 'fourth': 11663, 'sahaid': 11664, 'salarzai': 11665, 'vacationsbajaur': 11666, 'trigger': 11667, 'i10': 11668, 'markaz': 11669, 'stress': 11670, 'tho': 11671, 'fransareeik': 11672, 'farhatullahbsbar': 11673, 'mso9aliluijr0': 11674, 'machiavel': 11675, 'convictionlet': 11676, 'bringlootedmoneyback': 11677, 'colijaz': 11678, 'apmloffici': 11679, 'haneefaabbasi': 11680, 'ball': 11681, 'pk76': 11682, 'briefli': 11683, 'hafeezsham': 11684, 'pmlsadia': 11685, 'swingprepar': 11686, 'eom': 11687, 'townwinwindolphin': 11688, 'qasimkz': 11689, 'pp211': 11690, 'saramdastg': 11691, 'wao': 11692, 'illustr': 11693, 'napa': 11694, 'mqmpk': 11695, 'saadkurian': 11696, 'psopeshawar': 11697, 'antidemocrat': 11698, 'hmzaaoffici': 11699, 'oppress': 11700, 'ol': 11701, 'usernam': 11702, 'consecut': 11703, '6julyge2018': 11704, '2023': 11705, 'jsanwer': 11706, '214': 11707, 'jamsh': 11708, '8m': 11709, 'nawaz7': 11710, '2m': 11711, 'maryam1': 11712, 'safdaravenfield': 11713, 'pakatan': 11714, 'naahal': 11715, 'avenfieldnawazsharif': 11716, 'nike': 11717, 'redgreen': 11718, 'seawazireazamimrankhan': 11719, 'wouldv': 11720, 'himselfpmln': 11721, 'iammyre': 11722, 'jinnahwaz': 11723, 'persuad': 11724, 'electionsge2018pakistanelectionguide2018pmlnmanifesto2018': 11725, 'buriroshehroz': 11726, 'waseemrehman': 11727, '060718': 11728, 'immohajir': 11729, '2018max': 11730, 'phupo': 11731, 'beta': 11732, 'positivepakistan': 11733, 'abbottabadabsirfimrank': 11734, 'educationbridg': 11735, 'healthinfrastructur': 11736, 'developmentstatu': 11737, 'uproar': 11738, 'dislogu': 11739, 'inshallahge2018': 11740, 'challen': 11741, 'aftabiqb': 11742, 'frahansae': 11743, 'talibanstrategi': 11744, 'diffi': 11745, 'hamadkafeel': 11746, 'hayatasif72': 11747, 'fastest': 11748, 'pakistanpl': 11749, 'gonawazgo': 11750, 'thankyouik': 11751, 'nowpakistan': 11752, 'logiceith': 11753, 'wom': 11754, 'wewantrealchang': 11755, 'saynotovipcultur': 11756, 'khibelongstomqmkya': 11757, 'mannay': 11758, 'waley': 11759, 'la': 11760, 'saktay': 11761, 'milad': 11762, 'tonightmaryamnsharif': 11763, 'na132': 11764, 'aaj': 11765, 'hui': 11766, 'keh': 11767, 'becm': 11768, 'meansallah': 11769, 'haiwazireazamimrankhan': 11770, 'm92new': 11771, 'yaaserawan': 11772, 'sarwatvalim': 11773, 'lang': 11774, 'shiffazi': 11775, 'ssgill80': 11776, 'subah': 11777, 'agay': 11778, 'obtain': 11779, 'sakrand': 11780, 'nonsarcast': 11781, 'fiction': 11782, 'promisesvot': 11783, 'deliver': 11784, 'dodg': 11785, 'karachige2018': 11786, 'staunchinsafian': 11787, 'geoaskk': 11788, 'shazbkhanzdageo': 11789, 'reel': 11790, 'infr': 11791, 'consist': 11792, 'discours': 11793, 'aerial': 11794, 'mammoth': 11795, 'mushtaqghan': 11796, 'bottl': 11797, 'kiyani': 11798, 'therege2018': 11799, '050': 11800, 'pmlnpunjabpkth': 11801, 'implemen': 11802, 'drfaizanpti': 11803, 'anwa': 11804, 'ghumman': 11805, 'disq': 11806, 'in': 11807, 'distri': 11808, 'riazu0': 11809, 'arsch': 11810, 'farhankvirk': 11811, 'ubaidullah272': 11812, 'baigikramullah': 11813, 'haidercm': 11814, 'electionalli': 11815, 'lone': 11816, 'newli': 11817, 'merg': 11818, 'natio': 11819, 'thenkhalaemakhlooq': 11820, 'shoulder': 11821, 'towa': 11822, 'justask': 11823, 'junaidashaikh': 11824, 'samajh': 11825, 'gaien': 11826, 'hoon': 11827, 'gaiplz': 11828, 'lakhoon': 11829, 'zabta': 11830, 'aristotl': 11831, 'babakodda18plu': 11832, 'cost1': 11833, 'issue2': 11834, 'charsaddage2018': 11835, 'balochistange2018': 11836, 'campeign': 11837, 'goharjutt': 11838, 'befor': 11839, 'trollkeep': 11840, 'charsaddatak': 11841, 'timesofislambad': 11842, 'voadeewa': 11843, '265': 11844, 'usamabhaisab': 11845, 'engrmoaaz': 11846, 'anjumiqbalpti': 11847, 'sheryarnajam': 11848, 'coop': 11849, 'cagebhandaphoro': 11850, 'sadiqameen': 11851, 'avaisansari': 11852, 'grievanc': 11853, 'pakistanexpect': 11854, 'ge2018irrespect': 11855, 'partyprim': 11856, 'policytheyr': 11857, 'handcuff': 11858, 'mamur': 11859, 'evrythng': 11860, 'whch': 11861, 'rcent': 11862, 'dvelpment': 11863, 'cntri': 11864, 'dnt': 11865, 'thnk': 11866, 'rdi': 11867, 'anothr': 11868, '2018gener': 11869, 'spell': 11870, '2018elect': 11871, 'um': 11872, 'preplan': 11873, 'writ': 11874, 'nabbhandaphoro': 11875, 'chzulfqarmml': 11876, 'nishtar': 11877, 'coloneyge2018': 11878, 'tahamuneeb': 11879, 'arshadm1988': 11880, 'ifat': 11881, 'tahira': 11882, 'somoro': 11883, 'clim': 11884, 'kashifmeopak': 11885, 'insaallah': 11886, 'gover': 11887, 'overwhelm': 11888, 'pinakh': 11889, 'softwar': 11890, 'begun': 11891, 'aimalkhankakar': 11892, 'jalsar': 11893, 'organisedschedul': 11894, 'syedsohailali': 11895, 'esharaorajput1': 11896, 'karachimml': 11897, 'ps129': 11898, 'voteforchairtomakesocietyfair': 11899, 'mmlkarachi': 11900, 'aat': 11901, 'mmlsocialmedi': 11902, 'recep': 11903, 'saafi': 11904, 'eco': 11905, 'zobi124': 11906, 'overge2018': 11907, 'ptijuli': 11908, 'rhythm': 11909, 'rabiaazfar': 11910, 'khurrumzamanpti': 11911, 'necess': 11912, 'wordsplay': 11913, 'thesehashtag': 11914, 'likesplz': 11915, 'tlpakistani': 11916, 'gbpak': 11917, 'gilgitbaltistange2018': 11918, 'cloud': 11919, 'outpour': 11920, 'warmth': 11921, 'undp': 11922, 'jointli': 11923, 'guidepidgov': 11924, 'electrifyin': 11925, 'todaywelcom': 11926, 'dua': 11927, 'dolphi': 11928, 'everyt': 11929, 'pakistanbhandaphoro': 11930, 'island': 11931, 'unwomenpak': 11932, 'unwomen': 11933, 'unwomenasia': 11934, 'jkaziunwomen': 11935, 'undppakistan': 11936, 'shahmahmood': 11937, 'awaren': 11938, 'nowbbhuttozardari': 11939, 'pmlf': 11940, 'sangar': 11941, 'khanabsirfimrankhan': 11942, 'wazireazami': 11943, 'alasi': 11944, 'brunt': 11945, 'misadventur': 11946, '70year': 11947, '5year': 11948, 'faridmemonpsf': 11949, 'zak065': 11950, 'shawalzahid': 11951, 'acc': 11952, 'galluppuls': 11953, '19472018': 11954, 'governmrnt': 11955, 'mohalla': 11956, 'kutawali': 11957, 'jewel': 11958, 'educationimran': 11959, 'razaq': 11960, '147': 11961, 'pirjo': 11962, 'pagara': 11963, 'fahdkhan112': 11964, 'ceusman': 11965, 'ludhanvi': 11966, 'undu': 11967, 'distr': 11968, 'razashahps103': 11969, 'badlopakistan': 11970, 'vote4razashahps103': 11971, 'ansarirabia28': 11972, 'na243kaptaanka': 11973}\n"
          ]
        }
      ]
    },
    {
      "cell_type": "code",
      "source": [
        "sequences = tokenizer.texts_to_sequences(df['text'])"
      ],
      "metadata": {
        "id": "hWWUDPFHaYxF"
      },
      "execution_count": 34,
      "outputs": []
    },
    {
      "cell_type": "code",
      "source": [
        "sequences[0:3]"
      ],
      "metadata": {
        "colab": {
          "base_uri": "https://localhost:8080/"
        },
        "id": "IvoNZSagTMuG",
        "outputId": "b43c3377-1f12-4c97-e68d-1a73706f188b"
      },
      "execution_count": 35,
      "outputs": [
        {
          "output_type": "execute_result",
          "data": {
            "text/plain": [
              "[[17, 675, 1192, 7613, 7614],\n",
              " [235, 5151, 18, 7615, 17, 20, 1922, 118, 4169, 3547, 1192],\n",
              " [558, 131, 26, 96, 9, 23, 5, 107, 1278, 7616]]"
            ]
          },
          "metadata": {},
          "execution_count": 35
        }
      ]
    },
    {
      "cell_type": "code",
      "source": [
        "from keras.utils import pad_sequences"
      ],
      "metadata": {
        "id": "0UwzpVePTWZ8"
      },
      "execution_count": 36,
      "outputs": []
    },
    {
      "cell_type": "code",
      "source": [
        "sequences = pad_sequences(sequences,padding='post')"
      ],
      "metadata": {
        "id": "WPs9x0HdNPk5"
      },
      "execution_count": 37,
      "outputs": []
    },
    {
      "cell_type": "code",
      "source": [
        "sequences[0:3]"
      ],
      "metadata": {
        "colab": {
          "base_uri": "https://localhost:8080/"
        },
        "id": "kDkAT6TeTfKW",
        "outputId": "1e3c4162-4f58-471c-bcb6-fef8e75d2bb0"
      },
      "execution_count": 38,
      "outputs": [
        {
          "output_type": "execute_result",
          "data": {
            "text/plain": [
              "array([[  17,  675, 1192, 7613, 7614,    0,    0,    0,    0,    0,    0,\n",
              "           0,    0,    0,    0,    0,    0,    0,    0,    0,    0,    0,\n",
              "           0,    0,    0],\n",
              "       [ 235, 5151,   18, 7615,   17,   20, 1922,  118, 4169, 3547, 1192,\n",
              "           0,    0,    0,    0,    0,    0,    0,    0,    0,    0,    0,\n",
              "           0,    0,    0],\n",
              "       [ 558,  131,   26,   96,    9,   23,    5,  107, 1278, 7616,    0,\n",
              "           0,    0,    0,    0,    0,    0,    0,    0,    0,    0,    0,\n",
              "           0,    0,    0]], dtype=int32)"
            ]
          },
          "metadata": {},
          "execution_count": 38
        }
      ]
    },
    {
      "cell_type": "code",
      "source": [
        "len(sequences)"
      ],
      "metadata": {
        "colab": {
          "base_uri": "https://localhost:8080/"
        },
        "id": "HfGWPI_JUOEy",
        "outputId": "e9e12679-930e-4fe0-beac-e2966eb60c94"
      },
      "execution_count": 40,
      "outputs": [
        {
          "output_type": "execute_result",
          "data": {
            "text/plain": [
              "29579"
            ]
          },
          "metadata": {},
          "execution_count": 40
        }
      ]
    },
    {
      "cell_type": "code",
      "source": [
        "y = df['sentiment textblob']"
      ],
      "metadata": {
        "id": "K-MTjPmuMkir"
      },
      "execution_count": 39,
      "outputs": []
    },
    {
      "cell_type": "code",
      "source": [
        "import sklearn\n",
        "from sklearn.model_selection import train_test_split\n",
        "X_train, X_test, y_train, y_test = train_test_split( sequences, y, test_size=0.33, random_state=42)"
      ],
      "metadata": {
        "id": "mKnL9XqmMV9h"
      },
      "execution_count": 41,
      "outputs": []
    },
    {
      "cell_type": "code",
      "source": [
        "len(X_train[0])"
      ],
      "metadata": {
        "id": "jqr88Xw_M1Pr",
        "colab": {
          "base_uri": "https://localhost:8080/"
        },
        "outputId": "b79e5d34-37be-4f89-804b-21a1f23400a1"
      },
      "execution_count": 56,
      "outputs": [
        {
          "output_type": "execute_result",
          "data": {
            "text/plain": [
              "25"
            ]
          },
          "metadata": {},
          "execution_count": 56
        }
      ]
    },
    {
      "cell_type": "code",
      "source": [
        "X_train[0]"
      ],
      "metadata": {
        "colab": {
          "base_uri": "https://localhost:8080/"
        },
        "id": "Qc0y0LGkE3yp",
        "outputId": "345fdf42-342d-4830-9f11-a46d4b3c6074"
      },
      "execution_count": 57,
      "outputs": [
        {
          "output_type": "execute_result",
          "data": {
            "text/plain": [
              "array([   2, 1341,    6, 1309,   15,  961,  302, 1310,   15,  580,  302,\n",
              "       1342, 1343,    0,    0,    0,    0,    0,    0,    0,    0,    0,\n",
              "          0,    0,    0], dtype=int32)"
            ]
          },
          "metadata": {},
          "execution_count": 57
        }
      ]
    },
    {
      "cell_type": "code",
      "source": [
        "y_train.shape"
      ],
      "metadata": {
        "colab": {
          "base_uri": "https://localhost:8080/"
        },
        "id": "Wni7pMza7R7O",
        "outputId": "7bb67153-e113-425f-e61e-b141d03164f2"
      },
      "execution_count": 54,
      "outputs": [
        {
          "output_type": "execute_result",
          "data": {
            "text/plain": [
              "(19817,)"
            ]
          },
          "metadata": {},
          "execution_count": 54
        }
      ]
    },
    {
      "cell_type": "markdown",
      "source": [
        "#Biuld model"
      ],
      "metadata": {
        "id": "Xk0vQFOx7t2h"
      }
    },
    {
      "cell_type": "code",
      "source": [
        "from keras import Sequential\n",
        "from keras.layers import Dense, SimpleRNN, Flatten, Embedding"
      ],
      "metadata": {
        "id": "QrGL8s2S7Yi0"
      },
      "execution_count": 47,
      "outputs": []
    },
    {
      "cell_type": "code",
      "source": [
        "model = Sequential()\n",
        "\n",
        "model.add(SimpleRNN(32,input_shape = (25,1), return_sequences=False)) #if we make the return_sequence true then it means we will get the output from cell\n",
        "                                                                     # but if we make it false then we are ignoring the output of the cell just need the hidden vector to pass to the next layer\n",
        "model.add(Dense(1, activation='sigmoid'))\n",
        "\n",
        "model.summary()"
      ],
      "metadata": {
        "colab": {
          "base_uri": "https://localhost:8080/"
        },
        "id": "n1OMG0JO9mUE",
        "outputId": "92b074b9-71c5-4f26-8da2-290c12d78a93"
      },
      "execution_count": 61,
      "outputs": [
        {
          "output_type": "stream",
          "name": "stdout",
          "text": [
            "Model: \"sequential_5\"\n",
            "_________________________________________________________________\n",
            " Layer (type)                Output Shape              Param #   \n",
            "=================================================================\n",
            " simple_rnn_8 (SimpleRNN)    (None, 32)                1088      \n",
            "                                                                 \n",
            " dense_3 (Dense)             (None, 1)                 33        \n",
            "                                                                 \n",
            "=================================================================\n",
            "Total params: 1,121\n",
            "Trainable params: 1,121\n",
            "Non-trainable params: 0\n",
            "_________________________________________________________________\n"
          ]
        }
      ]
    },
    {
      "cell_type": "code",
      "source": [
        "model.compile(loss='binary_crossentropy', optimizer='adam', metrics=['accuracy'])\n",
        "\n",
        "history = model.fit(X_train, y_train,epochs=20, validation_data=(X_test,y_test)) # the model.fit return an object that contain training performance"
      ],
      "metadata": {
        "colab": {
          "base_uri": "https://localhost:8080/"
        },
        "id": "6WczH3i8-gtX",
        "outputId": "0e10744d-c263-4cd0-e617-de3fc1e06648"
      },
      "execution_count": 62,
      "outputs": [
        {
          "output_type": "stream",
          "name": "stdout",
          "text": [
            "Epoch 1/20\n",
            "620/620 [==============================] - 16s 23ms/step - loss: 0.5449 - accuracy: 0.5498 - val_loss: 0.4477 - val_accuracy: 0.6006\n",
            "Epoch 2/20\n",
            "620/620 [==============================] - 19s 30ms/step - loss: 0.3911 - accuracy: 0.5849 - val_loss: 0.3227 - val_accuracy: 0.6136\n",
            "Epoch 3/20\n",
            "620/620 [==============================] - 17s 27ms/step - loss: 0.2872 - accuracy: 0.5956 - val_loss: 0.2197 - val_accuracy: 0.6352\n",
            "Epoch 4/20\n",
            "620/620 [==============================] - 19s 30ms/step - loss: 0.1728 - accuracy: 0.6024 - val_loss: 0.1875 - val_accuracy: 0.5940\n",
            "Epoch 5/20\n",
            "620/620 [==============================] - 14s 23ms/step - loss: 0.0260 - accuracy: 0.6067 - val_loss: -0.0719 - val_accuracy: 0.6570\n",
            "Epoch 6/20\n",
            "620/620 [==============================] - 17s 27ms/step - loss: -0.1137 - accuracy: 0.6077 - val_loss: -0.1580 - val_accuracy: 0.5720\n",
            "Epoch 7/20\n",
            "620/620 [==============================] - 17s 28ms/step - loss: -0.2271 - accuracy: 0.6035 - val_loss: -0.3058 - val_accuracy: 0.5980\n",
            "Epoch 8/20\n",
            "620/620 [==============================] - 14s 23ms/step - loss: -0.3734 - accuracy: 0.6040 - val_loss: -0.4420 - val_accuracy: 0.6080\n",
            "Epoch 9/20\n",
            "620/620 [==============================] - 15s 24ms/step - loss: -0.4550 - accuracy: 0.5932 - val_loss: -0.4624 - val_accuracy: 0.6181\n",
            "Epoch 10/20\n",
            "620/620 [==============================] - 15s 24ms/step - loss: -0.3727 - accuracy: 0.5884 - val_loss: -0.8711 - val_accuracy: 0.5755\n",
            "Epoch 11/20\n",
            "620/620 [==============================] - 17s 27ms/step - loss: -0.8490 - accuracy: 0.5932 - val_loss: -0.7705 - val_accuracy: 0.5496\n",
            "Epoch 12/20\n",
            "620/620 [==============================] - 14s 23ms/step - loss: -0.8426 - accuracy: 0.5894 - val_loss: -0.9079 - val_accuracy: 0.5965\n",
            "Epoch 13/20\n",
            "620/620 [==============================] - 14s 23ms/step - loss: -1.0380 - accuracy: 0.5984 - val_loss: -0.9323 - val_accuracy: 0.5908\n",
            "Epoch 14/20\n",
            "620/620 [==============================] - 14s 23ms/step - loss: -1.0749 - accuracy: 0.5896 - val_loss: -1.1056 - val_accuracy: 0.6225\n",
            "Epoch 15/20\n",
            "620/620 [==============================] - 14s 23ms/step - loss: -1.1434 - accuracy: 0.5859 - val_loss: -1.2266 - val_accuracy: 0.5995\n",
            "Epoch 16/20\n",
            "620/620 [==============================] - 14s 22ms/step - loss: -1.2948 - accuracy: 0.5707 - val_loss: -1.3362 - val_accuracy: 0.5868\n",
            "Epoch 17/20\n",
            "620/620 [==============================] - 16s 25ms/step - loss: -1.4109 - accuracy: 0.5736 - val_loss: -1.4500 - val_accuracy: 0.6086\n",
            "Epoch 18/20\n",
            "620/620 [==============================] - 14s 23ms/step - loss: -1.4744 - accuracy: 0.5905 - val_loss: -1.6009 - val_accuracy: 0.5436\n",
            "Epoch 19/20\n",
            "620/620 [==============================] - 14s 23ms/step - loss: -1.7139 - accuracy: 0.6079 - val_loss: -1.6572 - val_accuracy: 0.6353\n",
            "Epoch 20/20\n",
            "620/620 [==============================] - 15s 24ms/step - loss: -1.7980 - accuracy: 0.6001 - val_loss: -0.3709 - val_accuracy: 0.6018\n"
          ]
        }
      ]
    },
    {
      "cell_type": "code",
      "source": [
        "def plot_model(metric):\n",
        " plt.plot(history.history[metric])\n",
        " plt.plot(history.history[f\"val_{metric}\"])\n",
        " plt.title(f\"model {metric}\")\n",
        " plt.ylabel(f\"{metric}\")\n",
        " plt.xlabel(\"epoch\")\n",
        " plt.legend([\"train\", \"validation\"], loc=\"upper left\")\n",
        " plt.show()\n",
        "\n",
        "plot_model(\"loss\")\n",
        "plot_model(\"accuracy\")"
      ],
      "metadata": {
        "colab": {
          "base_uri": "https://localhost:8080/",
          "height": 927
        },
        "id": "UNpO1gdKEi3k",
        "outputId": "05774779-00a8-4534-f157-a7f8e9714d26"
      },
      "execution_count": 63,
      "outputs": [
        {
          "output_type": "display_data",
          "data": {
            "text/plain": [
              "<Figure size 640x480 with 1 Axes>"
            ],
            "image/png": "[encoded data removed]"
          },
          "metadata": {}
        },
        {
          "output_type": "display_data",
          "data": {
            "text/plain": [
              "<Figure size 640x480 with 1 Axes>"
            ],
            "image/png": "[encoded data removed]"
          },
          "metadata": {}
        }
      ]
    },
    {
      "cell_type": "code",
      "source": [
        "Sequential model --> validation = (), loss curve, accuracy curve"
      ],
      "metadata": {
        "id": "kApewExTIz53"
      },
      "execution_count": null,
      "outputs": []
    }
  ]
}