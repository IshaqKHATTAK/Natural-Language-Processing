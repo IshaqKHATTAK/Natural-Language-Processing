{
  "nbformat": 4,
  "nbformat_minor": 0,
  "metadata": {
    "colab": {
      "provenance": [],
      "authorship_tag": "ABX9TyNmnvAst9cx7jp8ZkI8lbwK",
      "include_colab_link": true
    },
    "kernelspec": {
      "name": "python3",
      "display_name": "Python 3"
    },
    "language_info": {
      "name": "python"
    }
  },
  "cells": [
    {
      "cell_type": "markdown",
      "metadata": {
        "id": "view-in-github",
        "colab_type": "text"
      },
      "source": [
        "<a href=\"https://colab.research.google.com/github/IshaqKHATTAK/Natural-Language-Processing/blob/main/bag_of_word(count_vectorizer).ipynb\" target=\"_parent\"><img src=\"https://colab.research.google.com/assets/colab-badge.svg\" alt=\"Open In Colab\"/></a>"
      ]
    },
    {
      "cell_type": "code",
      "execution_count": 1,
      "metadata": {
        "id": "__wNCkLy4gu3"
      },
      "outputs": [],
      "source": [
        "import sklearn"
      ]
    },
    {
      "cell_type": "code",
      "source": [
        "from sklearn.feature_extraction.text import CountVectorizer"
      ],
      "metadata": {
        "id": "YGyeUgoP6P__"
      },
      "execution_count": 4,
      "outputs": []
    },
    {
      "cell_type": "code",
      "source": [
        "para = '''\n",
        "Dear students,\n",
        "\n",
        "We are working on freelancing training and facilitation at GIKI. \n",
        "\n",
        "If you have not registered, kindly provide the following information (using the MS Form):\n",
        "https://giki.edu.pk/freelancing\n",
        "\n",
        "Thank You.on freelancing training and the following information. ali\n",
        "\n",
        "Kind Regards,\n",
        "\n",
        "Ali Shaukat\n",
        "Lecturer, FCSE\n",
        "GIK Institute, Topi\n",
        "'''"
      ],
      "metadata": {
        "id": "jayTzYlK6dhM"
      },
      "execution_count": 20,
      "outputs": []
    },
    {
      "cell_type": "code",
      "source": [
        "#create the object of the count vectorizer\n",
        "cv = CountVectorizer()"
      ],
      "metadata": {
        "id": "Xs3__ZEr6zeA"
      },
      "execution_count": 21,
      "outputs": []
    },
    {
      "cell_type": "code",
      "source": [
        "bow = cv.fit_transform([para])"
      ],
      "metadata": {
        "id": "HQuz69Wl7Faz"
      },
      "execution_count": 22,
      "outputs": []
    },
    {
      "cell_type": "code",
      "source": [
        "# Print the bag of words representation\n",
        "cv.get_feature_names_out()"
      ],
      "metadata": {
        "colab": {
          "base_uri": "https://localhost:8080/"
        },
        "id": "Yee4sdCd7NfN",
        "outputId": "e1cc3f97-f424-47dc-8b02-a9fd4883a797"
      },
      "execution_count": 23,
      "outputs": [
        {
          "output_type": "execute_result",
          "data": {
            "text/plain": [
              "array(['ali', 'and', 'are', 'at', 'dear', 'edu', 'facilitation', 'fcse',\n",
              "       'following', 'form', 'freelancing', 'gik', 'giki', 'have', 'https',\n",
              "       'if', 'information', 'institute', 'kind', 'kindly', 'lecturer',\n",
              "       'ms', 'not', 'on', 'pk', 'provide', 'regards', 'registered',\n",
              "       'shaukat', 'students', 'thank', 'the', 'topi', 'training', 'using',\n",
              "       'we', 'working', 'you'], dtype=object)"
            ]
          },
          "metadata": {},
          "execution_count": 23
        }
      ]
    },
    {
      "cell_type": "code",
      "source": [
        "# assigns number to each word and shows its frequency\n",
        "print(bow.toarray())"
      ],
      "metadata": {
        "colab": {
          "base_uri": "https://localhost:8080/"
        },
        "id": "cIOwdBnK7S9M",
        "outputId": "a507f895-8303-4c53-d37c-b98e84a61406"
      },
      "execution_count": 24,
      "outputs": [
        {
          "output_type": "stream",
          "name": "stdout",
          "text": [
            "[[2 2 1 1 1 1 1 1 2 1 3 1 2 1 1 1 2 1 1 1 1 1 1 2 1 1 1 1 1 1 1 3 1 2 1 1\n",
            "  1 2]]\n"
          ]
        }
      ]
    },
    {
      "cell_type": "markdown",
      "source": [
        "#BOW from scrach"
      ],
      "metadata": {
        "id": "0BgP3-Rk81fP"
      }
    },
    {
      "cell_type": "code",
      "source": [
        "import re\n",
        "# Preprocess the paragraph by converting all characters to lowercase and removing non-alphabetic characters\n",
        "processed_paragraph = re.sub(r'\\W+', ' ', para.lower())"
      ],
      "metadata": {
        "id": "KDyZs1HG72Ve"
      },
      "execution_count": 25,
      "outputs": []
    },
    {
      "cell_type": "code",
      "source": [
        "# Tokenize the paragraph by splitting it into individual words\n",
        "tokens = processed_paragraph.split()\n"
      ],
      "metadata": {
        "id": "XbUZKPiL88FU"
      },
      "execution_count": 26,
      "outputs": []
    },
    {
      "cell_type": "code",
      "source": [
        "print(tokens)"
      ],
      "metadata": {
        "colab": {
          "base_uri": "https://localhost:8080/"
        },
        "id": "MvYjtmoS8_rb",
        "outputId": "aa2e969d-1f73-49b1-a7fc-c3ffcbc2ab8d"
      },
      "execution_count": 28,
      "outputs": [
        {
          "output_type": "stream",
          "name": "stdout",
          "text": [
            "['dear', 'students', 'we', 'are', 'working', 'on', 'freelancing', 'training', 'and', 'facilitation', 'at', 'giki', 'if', 'you', 'have', 'not', 'registered', 'kindly', 'provide', 'the', 'following', 'information', 'using', 'the', 'ms', 'form', 'https', 'giki', 'edu', 'pk', 'freelancing', 'thank', 'you', 'on', 'freelancing', 'training', 'and', 'the', 'following', 'information', 'ali', 'kind', 'regards', 'ali', 'shaukat', 'lecturer', 'fcse', 'gik', 'institute', 'topi']\n"
          ]
        }
      ]
    },
    {
      "cell_type": "code",
      "source": [
        "from collections import Counter\n",
        "# Create a dictionary to store the bag of words representation of the paragraph\n",
        "bow = Counter(tokens)"
      ],
      "metadata": {
        "id": "XvuSGyxu9Ah4"
      },
      "execution_count": 29,
      "outputs": []
    },
    {
      "cell_type": "code",
      "source": [
        "print(bow)"
      ],
      "metadata": {
        "colab": {
          "base_uri": "https://localhost:8080/"
        },
        "id": "QxodoqQG9Q4Q",
        "outputId": "96225eb0-e6d9-4c0b-e0ae-fa7e8c032332"
      },
      "execution_count": 31,
      "outputs": [
        {
          "output_type": "stream",
          "name": "stdout",
          "text": [
            "Counter({'freelancing': 3, 'the': 3, 'on': 2, 'training': 2, 'and': 2, 'giki': 2, 'you': 2, 'following': 2, 'information': 2, 'ali': 2, 'dear': 1, 'students': 1, 'we': 1, 'are': 1, 'working': 1, 'facilitation': 1, 'at': 1, 'if': 1, 'have': 1, 'not': 1, 'registered': 1, 'kindly': 1, 'provide': 1, 'using': 1, 'ms': 1, 'form': 1, 'https': 1, 'edu': 1, 'pk': 1, 'thank': 1, 'kind': 1, 'regards': 1, 'shaukat': 1, 'lecturer': 1, 'fcse': 1, 'gik': 1, 'institute': 1, 'topi': 1})\n"
          ]
        }
      ]
    },
    {
      "cell_type": "markdown",
      "source": [
        "#bag of word using nltk "
      ],
      "metadata": {
        "id": "CukxmVtH9dCp"
      }
    },
    {
      "cell_type": "code",
      "source": [
        "\n",
        "import nltk\n",
        "from nltk.corpus import movie_reviews\n",
        "from nltk.stem import PorterStemmer\n",
        "from nltk.tokenize import word_tokenize\n",
        "from sklearn.feature_extraction.text import CountVectorizer\n",
        "\n"
      ],
      "metadata": {
        "id": "F5MSqxiE9R4A"
      },
      "execution_count": 32,
      "outputs": []
    },
    {
      "cell_type": "code",
      "source": [
        "nltk.download('punkt')"
      ],
      "metadata": {
        "colab": {
          "base_uri": "https://localhost:8080/"
        },
        "id": "cD43ASR5_O1A",
        "outputId": "8674fe0c-c006-41f1-8bf8-7eff75f7e48a"
      },
      "execution_count": 41,
      "outputs": [
        {
          "output_type": "stream",
          "name": "stderr",
          "text": [
            "[nltk_data] Downloading package punkt to /root/nltk_data...\n",
            "[nltk_data]   Unzipping tokenizers/punkt.zip.\n"
          ]
        },
        {
          "output_type": "execute_result",
          "data": {
            "text/plain": [
              "True"
            ]
          },
          "metadata": {},
          "execution_count": 41
        }
      ]
    },
    {
      "cell_type": "code",
      "source": [
        "# Download the movie_reviews corpus if not already available\n",
        "nltk.download('movie_reviews')"
      ],
      "metadata": {
        "colab": {
          "base_uri": "https://localhost:8080/"
        },
        "id": "jt--tO0Y-KMV",
        "outputId": "e9a84ad1-487d-4189-dae8-15269f78eaa5"
      },
      "execution_count": 33,
      "outputs": [
        {
          "output_type": "stream",
          "name": "stderr",
          "text": [
            "[nltk_data] Downloading package movie_reviews to /root/nltk_data...\n",
            "[nltk_data]   Unzipping corpora/movie_reviews.zip.\n"
          ]
        },
        {
          "output_type": "execute_result",
          "data": {
            "text/plain": [
              "True"
            ]
          },
          "metadata": {},
          "execution_count": 33
        }
      ]
    },
    {
      "cell_type": "code",
      "source": [],
      "metadata": {
        "id": "4WmyWdHa-mC9"
      },
      "execution_count": 39,
      "outputs": []
    },
    {
      "cell_type": "code",
      "source": [
        "# Load the corpus and preprocess the data\n",
        "raw_text = []\n",
        "for fileid in movie_reviews.fileids():\n",
        "    raw_text.append(movie_reviews.raw(fileid))"
      ],
      "metadata": {
        "id": "RZh0-lHn-OOK"
      },
      "execution_count": 34,
      "outputs": []
    },
    {
      "cell_type": "code",
      "source": [
        "len(raw_text)"
      ],
      "metadata": {
        "colab": {
          "base_uri": "https://localhost:8080/"
        },
        "id": "3QnWRpfp-Qdf",
        "outputId": "9be1bc3c-bf1d-48a8-de15-26cf1fafcf91"
      },
      "execution_count": 37,
      "outputs": [
        {
          "output_type": "execute_result",
          "data": {
            "text/plain": [
              "2000"
            ]
          },
          "metadata": {},
          "execution_count": 37
        }
      ]
    },
    {
      "cell_type": "code",
      "source": [
        "raw_text[0]"
      ],
      "metadata": {
        "colab": {
          "base_uri": "https://localhost:8080/",
          "height": 140
        },
        "id": "N7wLz0EU-Vks",
        "outputId": "48f76285-2030-48cb-8a7a-66e26524bda6"
      },
      "execution_count": 38,
      "outputs": [
        {
          "output_type": "execute_result",
          "data": {
            "text/plain": [
              "'plot : two teen couples go to a church party , drink and then drive . \\nthey get into an accident . \\none of the guys dies , but his girlfriend continues to see him in her life , and has nightmares . \\nwhat\\'s the deal ? \\nwatch the movie and \" sorta \" find out . . . \\ncritique : a mind-fuck movie for the teen generation that touches on a very cool idea , but presents it in a very bad package . \\nwhich is what makes this review an even harder one to write , since i generally applaud films which attempt to break the mold , mess with your head and such ( lost highway & memento ) , but there are good and bad ways of making all types of films , and these folks just didn\\'t snag this one correctly . \\nthey seem to have taken this pretty neat concept , but executed it terribly . \\nso what are the problems with the movie ? \\nwell , its main problem is that it\\'s simply too jumbled . \\nit starts off \" normal \" but then downshifts into this \" fantasy \" world in which you , as an audience member , have no idea what\\'s going on . \\nthere are dreams , there are characters coming back from the dead , there are others who look like the dead , there are strange apparitions , there are disappearances , there are a looooot of chase scenes , there are tons of weird things that happen , and most of it is simply not explained . \\nnow i personally don\\'t mind trying to unravel a film every now and then , but when all it does is give me the same clue over and over again , i get kind of fed up after a while , which is this film\\'s biggest problem . \\nit\\'s obviously got this big secret to hide , but it seems to want to hide it completely until its final five minutes . \\nand do they make things entertaining , thrilling or even engaging , in the meantime ? \\nnot really . \\nthe sad part is that the arrow and i both dig on flicks like this , so we actually figured most of it out by the half-way point , so all of the strangeness after that did start to make a little bit of sense , but it still didn\\'t the make the film all that more entertaining . \\ni guess the bottom line with movies like this is that you should always make sure that the audience is \" into it \" even before they are given the secret password to enter your world of understanding . \\ni mean , showing melissa sagemiller running away from visions for about 20 minutes throughout the movie is just plain lazy ! ! \\nokay , we get it . . . there \\nare people chasing her and we don\\'t know who they are . \\ndo we really need to see it over and over again ? \\nhow about giving us different scenes offering further insight into all of the strangeness going down in the movie ? \\napparently , the studio took this film away from its director and chopped it up themselves , and it shows . \\nthere might\\'ve been a pretty decent teen mind-fuck movie in here somewhere , but i guess \" the suits \" decided that turning it into a music video with little edge , would make more sense . \\nthe actors are pretty good for the most part , although wes bentley just seemed to be playing the exact same character that he did in american beauty , only in a new neighborhood . \\nbut my biggest kudos go out to sagemiller , who holds her own throughout the entire film , and actually has you feeling her character\\'s unraveling . \\noverall , the film doesn\\'t stick because it doesn\\'t entertain , it\\'s confusing , it rarely excites and it feels pretty redundant for most of its runtime , despite a pretty cool ending and explanation to all of the craziness that came before it . \\noh , and by the way , this is not a horror or teen slasher flick . . . it\\'s \\njust packaged to look that way because someone is apparently assuming that the genre is still hot with the kids . \\nit also wrapped production two years ago and has been sitting on the shelves ever since . \\nwhatever . . . skip \\nit ! \\nwhere\\'s joblo coming from ? \\na nightmare of elm street 3 ( 7/10 ) - blair witch 2 ( 7/10 ) - the crow ( 9/10 ) - the crow : salvation ( 4/10 ) - lost highway ( 10/10 ) - memento ( 10/10 ) - the others ( 9/10 ) - stir of echoes ( 8/10 ) \\n'"
            ],
            "application/vnd.google.colaboratory.intrinsic+json": {
              "type": "string"
            }
          },
          "metadata": {},
          "execution_count": 38
        }
      ]
    },
    {
      "cell_type": "code",
      "source": [
        "text = []\n",
        "for document in raw_text:\n",
        "    tokens = word_tokenize(document)\n",
        "    stemmer = PorterStemmer()\n",
        "    text.append(\" \".join([stemmer.stem(word.lower()) for word in tokens if word.isalpha()]))"
      ],
      "metadata": {
        "id": "wnyEwhWz-ggb"
      },
      "execution_count": 42,
      "outputs": []
    },
    {
      "cell_type": "code",
      "source": [
        "# Create a bag of words model\n",
        "vectorizer = CountVectorizer()\n",
        "bag_of_words = vectorizer.fit_transform(text)"
      ],
      "metadata": {
        "id": "bSFE6HlN_Jm5"
      },
      "execution_count": 43,
      "outputs": []
    },
    {
      "cell_type": "code",
      "source": [
        "# Get the vocabulary and feature names\n",
        "vocab = vectorizer.vocabulary_\n",
        "features = vectorizer.get_feature_names_out()"
      ],
      "metadata": {
        "id": "Hjzqdbq7_Xy6"
      },
      "execution_count": 44,
      "outputs": []
    },
    {
      "cell_type": "code",
      "source": [
        "# Print the results\n",
        "print(\"Vocabulary size: \", len(vocab))\n",
        "print(\"First 10-60 features: \", features[10:50])\n",
        "print(\"---------------------\")\n",
        "print(\"Last 50 features: \", features[24808:24868])"
      ],
      "metadata": {
        "colab": {
          "base_uri": "https://localhost:8080/"
        },
        "id": "Pb83QlSE_X0X",
        "outputId": "e8265b40-ea41-47a2-9d1e-015be99ab1b3"
      },
      "execution_count": 45,
      "outputs": [
        {
          "output_type": "stream",
          "name": "stdout",
          "text": [
            "Vocabulary size:  24868\n",
            "First 10-60 features:  ['aardman' 'aaron' 'aatish' 'ab' 'aback' 'abandon' 'abat' 'abb' 'abba'\n",
            " 'abber' 'abberlin' 'abbi' 'abbot' 'abbott' 'abbrevi' 'abc' 'abdomen'\n",
            " 'abduct' 'abducte' 'abe' 'abel' 'aberdeen' 'aberr' 'abet' 'abey' 'abhorr'\n",
            " 'abid' 'abigail' 'abiil' 'abil' 'abject' 'abl' 'ablaz' 'abli' 'abnorm'\n",
            " 'aboard' 'abod' 'abolish' 'abolitionist' 'abomin']\n",
            "---------------------\n",
            "Last 50 features:  ['zenith' 'zephram' 'zephyr' 'zero' 'zest' 'zesti' 'zeta' 'zeu' 'zhang'\n",
            " 'zhivago' 'zhou' 'zhuangzhuang' 'zidler' 'ziegler' 'ziembicki' 'zig'\n",
            " 'ziggi' 'zigzag' 'zilch' 'zillion' 'zimbabw' 'zimm' 'zimmer' 'zimmerli'\n",
            " 'zimmerman' 'zinger' 'zinnemman' 'zinnia' 'zip' 'zippel' 'zipper' 'zippi'\n",
            " 'zit' 'ziyi' 'zodiac' 'zoe' 'zombi' 'zombifi' 'zone' 'zoo' 'zookeep'\n",
            " 'zooland' 'zoologist' 'zoom' 'zoot' 'zophr' 'zorg' 'zorro' 'zsigmond'\n",
            " 'zucker' 'zuehlk' 'zuko' 'zukovski' 'zulu' 'zundel' 'zurg' 'zweibel'\n",
            " 'zwick' 'zwigoff' 'zyci']\n"
          ]
        }
      ]
    },
    {
      "cell_type": "code",
      "source": [],
      "metadata": {
        "id": "HmCXtOko_X4c"
      },
      "execution_count": null,
      "outputs": []
    },
    {
      "cell_type": "code",
      "source": [],
      "metadata": {
        "id": "IfVXHB2T_X6O"
      },
      "execution_count": null,
      "outputs": []
    }
  ]
}