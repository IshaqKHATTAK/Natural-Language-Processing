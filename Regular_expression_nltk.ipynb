{
  "nbformat": 4,
  "nbformat_minor": 0,
  "metadata": {
    "colab": {
      "provenance": [],
      "authorship_tag": "ABX9TyPfgIPmXcAapfvqXRDUrMig",
      "include_colab_link": true
    },
    "kernelspec": {
      "name": "python3",
      "display_name": "Python 3"
    },
    "language_info": {
      "name": "python"
    }
  },
  "cells": [
    {
      "cell_type": "markdown",
      "metadata": {
        "id": "view-in-github",
        "colab_type": "text"
      },
      "source": [
        "<a href=\"https://colab.research.google.com/github/IshaqKHATTAK/Natural-Language-Processing/blob/main/Regular_expression_nltk.ipynb\" target=\"_parent\"><img src=\"https://colab.research.google.com/assets/colab-badge.svg\" alt=\"Open In Colab\"/></a>"
      ]
    },
    {
      "cell_type": "code",
      "execution_count": 16,
      "metadata": {
        "id": "ypZxQWdJeMho"
      },
      "outputs": [],
      "source": [
        "import re\n",
        "from getkey import getkey, key\n"
      ]
    },
    {
      "cell_type": "code",
      "source": [],
      "metadata": {
        "id": "Ddod-C9loFyN"
      },
      "execution_count": 16,
      "outputs": []
    },
    {
      "cell_type": "code",
      "source": [
        "st = '''the Book Overview: ick-start your development journey with this end-to-end guide that covers Python programming fundamentals along with application developmentPython\n",
        " is a cross-platform language used by organizations such as Google and NASA. It lets you work quickly and efficiently, allowing you to concentrate on your work rat\n",
        " her than the language. Based on his personal experiences when learning to program, Learn Programming in Python with Cody Jackson provides a hands-on introduction to \n",
        " computer programming utilizing one of the most 03424570262 readable programming languages–Python. It aims to educate readers regarding software development as well as help experienced\n",
        "  developers become familiar with the Python language, utilizing real-world lessons to help readers understand programming concepts quickly and easily.The book starts\n",
        "   with the basics of programming, and describes Python syntax while developing the skills to make complete programs. In the first part of the book, readers will be going\n",
        "    through all the concepts with short and easy-to-understand code samples that will prepare them for the comprehensive application built in parts 2 and 3. The second \n",
        "    part of the book will explore topics such as application requirements, building the application, testing, 4312 and documentation. It is here that you will get a solid unders\n",
        "    tanding of building an end-to-end application in Python. The next part will show you how to complete your applications by converting text-based simulation\n",
        "     interactive, graphical user interface, using a desktop GUI framework. After reading the book, you will be confident in developing a complete application \n",
        "     hon, from program design to documentation to deployment python3.0. \n",
        "     COVID-19, also known as the coronavirus, is a highly infectious respiratory illness caused by the SARS-CoV-2 virus.\n",
        "      It was first identified in Wuhan, China in December 2019 and has since become a global pandemic, affecting millions\n",
        "       of people around the world.\n",
        "COVID-19 is primarily spread through respiratory droplets when an infected person talks, coughs, or sneezes. The most \n",
        "common symptoms include fever, cough, and difficulty breathing, but many people with COVID-19 may have mild or no symptoms\n",
        " at all hello Hello helbo helko helpo helmo.\n",
        "To prevent the spread of COVID-19, it's 03451911290 important to follow public health guidelines, such as wearing a mask, practicing \n",
        "social distancing, washing your hands frequently, and avoiding large gatherings. Additionally, getting vaccinated is an\n",
        " effective way to reduce the risk of getting sick and spreading the virus to others healfd; hel3o helMo hel o hel?o thethe. \n",
        " file1.txt\n",
        " 03131911290\n",
        "          file12.txt\n",
        "          03451911290\n",
        "          file3.txt\n",
        "          file43231.txt\n",
        "          03011911290\n",
        "          file5.txt\n",
        "          file432545656676897989809096.doct\n",
        "          file7afdfagffhjhjkjklttwtew.txt\n",
        "          file10.txt'''"
      ],
      "metadata": {
        "id": "O3LTGLZsgVSZ"
      },
      "execution_count": 2,
      "outputs": []
    },
    {
      "cell_type": "code",
      "source": [
        "f = open(\"/content/file.txt\", \"r\")\n",
        "st = f.read()"
      ],
      "metadata": {
        "id": "G7y9iJIy5QC1"
      },
      "execution_count": 3,
      "outputs": []
    },
    {
      "cell_type": "markdown",
      "source": [
        "#regEx functions\n",
        "Function    \tDescription\n",
        "\n",
        "findall     \tReturns a list containing all matches\n",
        "\n",
        "search      \tReturns a Match object if there is a match anywhere in the string\n",
        "\n",
        "split       \tReturns a list where the string has been split at each match\n",
        "\n",
        "sub\t          Replaces one or many matches with a string"
      ],
      "metadata": {
        "id": "26S4RXwMex3b"
      }
    },
    {
      "cell_type": "code",
      "source": [
        "#telenor\n",
        "pttrn = '034\\d{8}'\n",
        "mat = re.finditer(pttrn, st)\n",
        "for m in mat:\n",
        "  print(m)"
      ],
      "metadata": {
        "id": "3mymF4wUFFdx",
        "colab": {
          "base_uri": "https://localhost:8080/"
        },
        "outputId": "b66e5d47-f5e9-4a90-ab9a-e6853f26bcaa"
      },
      "execution_count": 4,
      "outputs": [
        {
          "output_type": "stream",
          "name": "stdout",
          "text": [
            "<re.Match object; span=(575, 586), match='03424570262'>\n",
            "<re.Match object; span=(2393, 2404), match='03451911290'>\n",
            "<re.Match object; span=(2787, 2798), match='03451911290'>\n"
          ]
        }
      ]
    },
    {
      "cell_type": "code",
      "source": [
        "#jazz\n",
        "pttrn = '030\\d{8}'\n",
        "mat = re.finditer(pttrn, st)\n",
        "for m in mat:\n",
        "  print(m)"
      ],
      "metadata": {
        "id": "CXYHAlFmOaLI",
        "colab": {
          "base_uri": "https://localhost:8080/"
        },
        "outputId": "6cf8a01b-1688-42b6-a1be-3265f32434a7"
      },
      "execution_count": 5,
      "outputs": [
        {
          "output_type": "stream",
          "name": "stdout",
          "text": [
            "<re.Match object; span=(2853, 2864), match='03011911290'>\n"
          ]
        }
      ]
    },
    {
      "cell_type": "code",
      "source": [
        "#zong\n",
        "pttrn = '031[0-7]\\d{7}'\n",
        "mat = re.finditer(pttrn, st)\n",
        "for m in mat:\n",
        "  print(m)"
      ],
      "metadata": {
        "colab": {
          "base_uri": "https://localhost:8080/"
        },
        "id": "decjT25oNI2_",
        "outputId": "4d55e637-52ca-40a0-f2a9-4a768f196b7f"
      },
      "execution_count": 6,
      "outputs": [
        {
          "output_type": "stream",
          "name": "stdout",
          "text": [
            "<re.Match object; span=(2744, 2755), match='03131911290'>\n"
          ]
        }
      ]
    },
    {
      "cell_type": "code",
      "source": [
        "#warid\n",
        "pttrn = '032[0-4]\\d{7}'\n",
        "mat = re.finditer(pttrn, st)\n",
        "for m in mat:\n",
        "  print(m)"
      ],
      "metadata": {
        "id": "-Rswu65Y2-ks"
      },
      "execution_count": 7,
      "outputs": []
    },
    {
      "cell_type": "code",
      "source": [
        "#ufone\n",
        "pttrn = '033[1-7]\\d{7}'\n",
        "mat = re.finditer(pttrn, st)\n",
        "for m in mat:\n",
        "  print(m)"
      ],
      "metadata": {
        "id": "Bd7QoP2A3ID0"
      },
      "execution_count": 8,
      "outputs": []
    },
    {
      "cell_type": "markdown",
      "source": [
        "#task 2"
      ],
      "metadata": {
        "id": "cFKSlMQvCcVj"
      }
    },
    {
      "cell_type": "code",
      "source": [
        "#-----------------taking inputs--------------------------------#\n",
        "sent = input(\"enter string\")"
      ],
      "metadata": {
        "colab": {
          "base_uri": "https://localhost:8080/"
        },
        "id": "-Wf9w2292-9L",
        "outputId": "659f309f-9969-4b6a-834e-c5760fec69b7"
      },
      "execution_count": 25,
      "outputs": [
        {
          "name": "stdout",
          "output_type": "stream",
          "text": [
            "enter stringpakistan\n"
          ]
        }
      ]
    },
    {
      "cell_type": "code",
      "source": [
        "null_char = ''\n",
        "\n",
        "while (len(sent) > 0):\n",
        "  text = input(\"Hit enter to as backspace or hit any other key to exit\")  # or raw_input in python2\n",
        "  if text == '':\n",
        "    # Replace last character of string with ''\n",
        "    sent = re.sub(r\".$\", null_char, sent)\n",
        "    print(sent)\n",
        "  else:\n",
        "    print('exit')\n",
        "    break"
      ],
      "metadata": {
        "id": "b1uKPBBdEKMg",
        "colab": {
          "base_uri": "https://localhost:8080/"
        },
        "outputId": "96c703e5-8127-427f-86f0-48fc5623a566"
      },
      "execution_count": 26,
      "outputs": [
        {
          "output_type": "stream",
          "name": "stdout",
          "text": [
            "Hit enter to as backspace or hit any other key to exit\n",
            "pakista\n",
            "Hit enter to as backspace or hit any other key to exit\n",
            "pakist\n",
            "Hit enter to as backspace or hit any other key to exit\n",
            "pakis\n",
            "Hit enter to as backspace or hit any other key to exit\n",
            "Hit enter to as backspace or hit any other key to exit\n",
            "paki\n",
            "pak\n",
            "Hit enter to as backspace or hit any other key to exit\n",
            "pa\n",
            "Hit enter to as backspace or hit any other key to exit\n",
            "p\n",
            "Hit enter to as backspace or hit any other key to exit\n",
            "\n"
          ]
        }
      ]
    },
    {
      "cell_type": "code",
      "source": [
        "#------------------------CHECK IF STRING CONSIST Of exactly 12 CHARACTER--------------------\n",
        "stt = '132567890122'\n",
        "pttrn = '^\\d{12}$'\n",
        "mtch = re.findall(pttrn,stt)\n",
        "print(mtch)"
      ],
      "metadata": {
        "colab": {
          "base_uri": "https://localhost:8080/"
        },
        "id": "1xV-Q5Dy8J_2",
        "outputId": "762f8ef3-0f99-4bcc-ddd2-a3977a3eed77"
      },
      "execution_count": null,
      "outputs": [
        {
          "output_type": "stream",
          "name": "stdout",
          "text": [
            "['132567890122']\n"
          ]
        }
      ]
    },
    {
      "cell_type": "code",
      "source": [
        "#has a structure of either xxx-xxx-xxx-xxx or xxxxxxxxxxxx \n",
        "stt1 = '121-567-890-122'\n",
        "stt2 = '132567892222'\n",
        "pttrn = '^\\d{3}-\\d{3}-\\d{3}-\\d{3}$|^\\d{12}$'\n",
        "mtch = re.findall(pttrn,stt2)\n",
        "print(mtch)"
      ],
      "metadata": {
        "colab": {
          "base_uri": "https://localhost:8080/"
        },
        "id": "5Zf2z3UBBVVZ",
        "outputId": "d9425d72-142d-43a5-a196-53a7e67ec323"
      },
      "execution_count": null,
      "outputs": [
        {
          "output_type": "stream",
          "name": "stdout",
          "text": [
            "['132567892222']\n"
          ]
        }
      ]
    },
    {
      "cell_type": "code",
      "source": [
        "stt = '132567890222'\n",
        "t = '222'\n",
        "pttrn = \"\\\\b([0-9])\\\\1\\\\1+\\\\b\"\n",
        "mtch = re.findall(pttrn,t)\n",
        "print(mtch)"
      ],
      "metadata": {
        "colab": {
          "base_uri": "https://localhost:8080/"
        },
        "id": "WUrDjkX0Ka5K",
        "outputId": "a3cd3449-0779-4de9-b65f-6f18c04bbc9f"
      },
      "execution_count": null,
      "outputs": [
        {
          "output_type": "stream",
          "name": "stdout",
          "text": [
            "['2']\n"
          ]
        }
      ]
    },
    {
      "cell_type": "markdown",
      "source": [
        "#task3\n"
      ],
      "metadata": {
        "id": "vxHVadoi8poy"
      }
    },
    {
      "cell_type": "code",
      "source": [
        "\n",
        "pattrn = r\"#.*$|^'''$\"\n",
        "mtch = re.findall(pattrn,st,flags=re.DOTALL)\n",
        "if mtch:\n",
        "  print('YES! there is comment in the text')\n",
        "else:\n",
        "  print('there is no comment in the text')\n",
        "\n",
        "\n",
        "mtch1 = mtch[0]"
      ],
      "metadata": {
        "colab": {
          "base_uri": "https://localhost:8080/"
        },
        "id": "9JA0Obe48nle",
        "outputId": "a30d178f-1047-4510-f1bf-683daba3c4cc"
      },
      "execution_count": null,
      "outputs": [
        {
          "output_type": "stream",
          "name": "stdout",
          "text": [
            "YES! there is comment in the text\n"
          ]
        }
      ]
    },
    {
      "cell_type": "code",
      "source": [
        "if (mtch1[0] == '#'):\n",
        "  print('single line comment')\n",
        "elif mtch1[0] == \"'''\":\n",
        "  print('mutltiline comment')"
      ],
      "metadata": {
        "colab": {
          "base_uri": "https://localhost:8080/"
        },
        "id": "UEhXap-N8nve",
        "outputId": "ad30eb58-d6a3-4354-98b3-e74f5289868c"
      },
      "execution_count": null,
      "outputs": [
        {
          "output_type": "stream",
          "name": "stdout",
          "text": [
            "single line comment\n"
          ]
        }
      ]
    },
    {
      "cell_type": "markdown",
      "source": [
        "##regex character set"
      ],
      "metadata": {
        "id": "2m7XDP7ZFNEQ"
      }
    },
    {
      "cell_type": "code",
      "source": [
        "pattern = '[Tt]he'\n"
      ],
      "metadata": {
        "id": "YHnH0jN6j8nV"
      },
      "execution_count": null,
      "outputs": []
    },
    {
      "cell_type": "code",
      "source": [
        "print(len(re.findall(pattern,st)))\n",
        "#problem with this is it gives us the word the even if it is with other word like theology,other,there etc"
      ],
      "metadata": {
        "colab": {
          "base_uri": "https://localhost:8080/"
        },
        "id": "FAIPxRx6kZgW",
        "outputId": "8fea677a-0547-40e1-9751-aaf2c351abc4"
      },
      "execution_count": null,
      "outputs": [
        {
          "output_type": "stream",
          "name": "stdout",
          "text": [
            "28\n"
          ]
        }
      ]
    },
    {
      "cell_type": "code",
      "source": [
        "#(the \"r\" in the beginning is making sure that the string is being treated as a \"raw string\")\n",
        "\n",
        "print(len(re.findall(r\"\\b[Tt]he\\b\", st)))"
      ],
      "metadata": {
        "colab": {
          "base_uri": "https://localhost:8080/"
        },
        "id": "YYy-IeD2lewk",
        "outputId": "bba753b2-d37e-4c21-c8bd-90127497358a"
      },
      "execution_count": null,
      "outputs": [
        {
          "output_type": "stream",
          "name": "stdout",
          "text": [
            "23\n"
          ]
        }
      ]
    },
    {
      "cell_type": "code",
      "source": [
        "\n",
        "print(re.findall('^he',st))\n",
        "#if the string start with the given mentioned word"
      ],
      "metadata": {
        "id": "e71JXKdSnTbH",
        "colab": {
          "base_uri": "https://localhost:8080/"
        },
        "outputId": "fef39f7e-da3f-4c7f-9686-88d1e3465e36"
      },
      "execution_count": null,
      "outputs": [
        {
          "output_type": "stream",
          "name": "stdout",
          "text": [
            "[]\n"
          ]
        }
      ]
    },
    {
      "cell_type": "code",
      "source": [
        "print(re.findall('\\d',st))"
      ],
      "metadata": {
        "colab": {
          "base_uri": "https://localhost:8080/"
        },
        "id": "Uu_RB2wgE7oI",
        "outputId": "78ed0085-5c4d-487e-e464-3772cd666b61"
      },
      "execution_count": null,
      "outputs": [
        {
          "output_type": "stream",
          "name": "stdout",
          "text": [
            "['2', '3', '4', '3', '1', '2', '3', '0', '1', '9', '2', '2', '0', '1', '9', '1', '9', '1', '9', '1', '9', '3', '1', '1', '2', '3', '4', '3', '2', '3', '1', '5', '4', '3', '2', '5', '4', '5', '6', '5', '6', '6', '7', '6', '8', '9', '7', '9', '8', '9', '8', '0', '9', '0', '9', '6', '7', '1', '0']\n"
          ]
        }
      ]
    },
    {
      "cell_type": "code",
      "source": [
        "print(re.findall('\\d\\d',st))"
      ],
      "metadata": {
        "colab": {
          "base_uri": "https://localhost:8080/"
        },
        "id": "tkzG6_obE7qA",
        "outputId": "45a55a67-83e4-4798-fd94-20092bcae69b"
      },
      "execution_count": null,
      "outputs": [
        {
          "output_type": "stream",
          "name": "stdout",
          "text": [
            "['43', '12', '19', '20', '19', '19', '19', '19', '12', '43', '23', '43', '25', '45', '65', '66', '76', '89', '79', '89', '80', '90', '96', '10']\n"
          ]
        }
      ]
    },
    {
      "cell_type": "code",
      "source": [
        "\n",
        "print(re.findall('\\w\\w\\w\\w\\w\\w\\w',st))\n",
        "#it will match word with 8 characters"
      ],
      "metadata": {
        "colab": {
          "base_uri": "https://localhost:8080/"
        },
        "id": "QepTWpyYE7t_",
        "outputId": "4b793ea8-2703-4722-82f2-59fe91dfb391"
      },
      "execution_count": null,
      "outputs": [
        {
          "output_type": "stream",
          "name": "stdout",
          "text": [
            "['Overvie', 'develop', 'journey', 'program', 'fundame', 'applica', 'develop', 'mentPyt', 'platfor', 'languag', 'organiz', 'quickly', 'efficie', 'allowin', 'concent', 'languag', 'persona', 'experie', 'learnin', 'program', 'Program', 'Jackson', 'provide', 'introdu', 'compute', 'program', 'utilizi', 'readabl', 'program', 'languag', 'educate', 'readers', 'regardi', 'softwar', 'develop', 'experie', 'develop', 'familia', 'languag', 'utilizi', 'lessons', 'readers', 'underst', 'program', 'concept', 'quickly', 'program', 'describ', 'develop', 'complet', 'program', 'readers', 'through', 'concept', 'underst', 'samples', 'prepare', 'compreh', 'applica', 'explore', 'applica', 'require', 'buildin', 'applica', 'testing', 'documen', 'tanding', 'buildin', 'applica', 'complet', 'applica', 'convert', 'simulat', 'interac', 'graphic', 'interfa', 'desktop', 'framewo', 'reading', 'confide', 'develop', 'complet', 'applica', 'program', 'documen', 'deploym', 'python3', 'coronav', 'infecti', 'respira', 'illness', 'identif', 'Decembe', 'pandemi', 'affecti', 'million', 'primari', 'through', 'respira', 'droplet', 'infecte', 'sneezes', 'symptom', 'include', 'difficu', 'breathi', 'symptom', 'prevent', 'importa', 'guideli', 'wearing', 'practic', 'distanc', 'washing', 'frequen', 'avoidin', 'gatheri', 'Additio', 'getting', 'vaccina', 'effecti', 'getting', 'spreadi', 'file432', 'file432', '5456566', '7689798', '9809096', 'file7af', 'dfagffh', 'jhjkjkl']\n"
          ]
        }
      ]
    },
    {
      "cell_type": "code",
      "source": [
        "print(re.findall('[hH]el.o',st))\n",
        "#dot is a wild car caracter with any ditit or number or special characters"
      ],
      "metadata": {
        "colab": {
          "base_uri": "https://localhost:8080/"
        },
        "id": "GiqVeRrdE7wY",
        "outputId": "fab48733-d793-4012-9e38-1f5193b12bba"
      },
      "execution_count": null,
      "outputs": [
        {
          "output_type": "stream",
          "name": "stdout",
          "text": [
            "['hello', 'Hello', 'helbo', 'helko', 'helpo', 'helmo', 'hel3o', 'helMo', 'hel o', 'hel?o']\n"
          ]
        }
      ]
    },
    {
      "cell_type": "markdown",
      "source": [
        "#quantifier\n",
        "*\n",
        "+\n",
        "?\n",
        "{n}"
      ],
      "metadata": {
        "id": "ImbWPPOTMzc7"
      }
    },
    {
      "cell_type": "code",
      "source": [
        "#this pattern will find the word starts with fi and ends with txt and . means there may be any word (Any character (except newline character)) and * means\n",
        "#the . value can be Zero or more occurrences\n",
        "print(re.findall('fi.*txt',st))"
      ],
      "metadata": {
        "colab": {
          "base_uri": "https://localhost:8080/"
        },
        "id": "CAVEZc5lE70J",
        "outputId": "f3e5579d-abf3-49ae-fe79-9d2fdb6043a6"
      },
      "execution_count": null,
      "outputs": [
        {
          "output_type": "stream",
          "name": "stdout",
          "text": [
            "['file1.txt', 'file12.txt', 'file3.txt', 'file43231.txt', 'file5.txt', 'file7afdfagffhjhjkjklttwtew.txt', 'file10.txt']\n"
          ]
        }
      ]
    },
    {
      "cell_type": "code",
      "source": [
        "print(re.findall('fi.+txt',st))"
      ],
      "metadata": {
        "colab": {
          "base_uri": "https://localhost:8080/"
        },
        "id": "tBZCrptAE72V",
        "outputId": "5310123f-db5c-4f9d-9f6a-433602d76836"
      },
      "execution_count": null,
      "outputs": [
        {
          "output_type": "stream",
          "name": "stdout",
          "text": [
            "['file1.txt', 'file12.txt', 'file3.txt', 'file43231.txt', 'file5.txt', 'file7afdfagffhjhjkjklttwtew.txt', 'file10.txt']\n"
          ]
        }
      ]
    },
    {
      "cell_type": "code",
      "source": [
        "#looking for 2 consective vowel.\n",
        "print( re.findall(\"[aeiou]{2}\", st) )"
      ],
      "metadata": {
        "colab": {
          "base_uri": "https://localhost:8080/"
        },
        "id": "4KhmKpxxJOB7",
        "outputId": "f611cc23-7fad-4fb4-d207-7317e2d9076e"
      },
      "execution_count": null,
      "outputs": [
        {
          "output_type": "stream",
          "name": "stdout",
          "text": [
            "['oo', 'ie', 'ou', 'ou', 'ui', 'io', 'ua', 'io', 'oo', 'ou', 'ui', 'ie', 'ou', 'ou', 'ua', 'ie', 'ea', 'ea', 'io', 'ea', 'ua', 'ai', 'ea', 'ie', 'ia', 'ua', 'ea', 'ea', 'ui', 'ea', 'oo', 'oo', 'ea', 'oi', 'ou', 'ea', 'io', 'ui', 'oo', 'io', 'ui', 'ui', 'io', 'io', 'ou', 'ui', 'io', 'ou', 'ou', 'io', 'io', 'ea', 'oo', 'ou', 'io', 'io', 'io', 'au', 'ie', 'io', 'eo', 'ou', 'ea', 'ou', 'ou', 'ee', 'ou', 'ea', 'eo', 'ea', 'ea', 'ui', 'ea', 'ia', 'ou', 'ue', 'oi', 'io', 'ea', 'ea']\n"
          ]
        }
      ]
    },
    {
      "cell_type": "code",
      "source": [
        "print( re.findall(\"\\w{8}\", st) )"
      ],
      "metadata": {
        "colab": {
          "base_uri": "https://localhost:8080/"
        },
        "id": "kDvkwGcWN4wg",
        "outputId": "83c5ee0f-017d-43e0-82fe-3fda38ab69ad"
      },
      "execution_count": null,
      "outputs": [
        {
          "output_type": "stream",
          "name": "stdout",
          "text": [
            "['Overview', 'developm', 'programm', 'fundamen', 'applicat', 'developm', 'entPytho', 'platform', 'language', 'organiza', 'efficien', 'allowing', 'concentr', 'language', 'personal', 'experien', 'learning', 'Programm', 'provides', 'introduc', 'computer', 'programm', 'utilizin', 'readable', 'programm', 'language', 'regardin', 'software', 'developm', 'experien', 'develope', 'familiar', 'language', 'utilizin', 'understa', 'programm', 'concepts', 'programm', 'describe', 'developi', 'complete', 'programs', 'concepts', 'understa', 'comprehe', 'applicat', 'applicat', 'requirem', 'building', 'applicat', 'document', 'building', 'applicat', 'complete', 'applicat', 'converti', 'simulati', 'interact', 'graphica', 'interfac', 'framewor', 'confiden', 'developi', 'complete', 'applicat', 'document', 'deployme', 'coronavi', 'infectio', 'respirat', 'identifi', 'December', 'pandemic', 'affectin', 'millions', 'primaril', 'respirat', 'droplets', 'infected', 'symptoms', 'difficul', 'breathin', 'symptoms', 'importan', 'guidelin', 'practici', 'distanci', 'frequent', 'avoiding', 'gatherin', 'Addition', 'vaccinat', 'effectiv', 'spreadin', 'file4323', 'file4325', '45656676', '89798980', 'file7afd', 'fagffhjh', 'jkjklttw']\n"
          ]
        }
      ]
    },
    {
      "cell_type": "code",
      "source": [
        "#Search for a sequence that starts with \"file\", followed by 0 or 1  (any) character, and an \".txt\":\n",
        "\n",
        "print(re.findall(\"file.?.txt\", st))"
      ],
      "metadata": {
        "colab": {
          "base_uri": "https://localhost:8080/"
        },
        "id": "4JXsf5GbE755",
        "outputId": "a9f68348-19f4-40ad-ff89-05ea91835884"
      },
      "execution_count": null,
      "outputs": [
        {
          "output_type": "stream",
          "name": "stdout",
          "text": [
            "['file1.txt', 'file3.txt', 'file5.txt']\n"
          ]
        }
      ]
    },
    {
      "cell_type": "code",
      "source": [
        "#Check if the string contains either python or development:\n",
        "\n",
        "print(re.findall(\"python|development\", st))"
      ],
      "metadata": {
        "colab": {
          "base_uri": "https://localhost:8080/"
        },
        "id": "KV7G_ydPE77z",
        "outputId": "eed6f4d0-94f9-4dd8-9755-5a7a7a72f121"
      },
      "execution_count": null,
      "outputs": [
        {
          "output_type": "stream",
          "name": "stdout",
          "text": [
            "['development', 'development', 'development', 'python']\n"
          ]
        }
      ]
    },
    {
      "cell_type": "code",
      "source": [
        "#Search for a sequence that starts with \"he\", followed excactly 2 (any) characters, and an \"o\":\n",
        "\n",
        "print( re.findall(\"he.{2}o\", st) )"
      ],
      "metadata": {
        "colab": {
          "base_uri": "https://localhost:8080/"
        },
        "id": "OUrbxbufE7_x",
        "outputId": "d360611c-323a-4a78-8771-7b5e43f79932"
      },
      "execution_count": null,
      "outputs": [
        {
          "output_type": "stream",
          "name": "stdout",
          "text": [
            "['he Bo', 'he mo', 'he bo', 'he bo', 'he co', 'he co', 'he bo', 'he bo', 'he co', 'he wo', 'he mo', 'hello', 'helbo', 'helko', 'helpo', 'helmo', 'hel3o', 'helMo', 'hel o', 'hel?o']\n"
          ]
        }
      ]
    },
    {
      "cell_type": "code",
      "source": [
        "seq  = 'python\\d\\.\\d'\n",
        "pattern = re.findall(seq,st)\n",
        "print(pattern)"
      ],
      "metadata": {
        "colab": {
          "base_uri": "https://localhost:8080/"
        },
        "id": "0EnrqxGReptY",
        "outputId": "512c11d4-9f0f-40b8-d056-e157e8311ed9"
      },
      "execution_count": null,
      "outputs": [
        {
          "output_type": "stream",
          "name": "stdout",
          "text": [
            "['python3.0']\n"
          ]
        }
      ]
    },
    {
      "cell_type": "code",
      "source": [
        "seq  = '\\d+'\n",
        "pattern = re.findall(seq,st)\n",
        "print(pattern)"
      ],
      "metadata": {
        "colab": {
          "base_uri": "https://localhost:8080/"
        },
        "id": "U62myqpisgPG",
        "outputId": "3acca28b-560f-4198-8551-43444b7560c3"
      },
      "execution_count": null,
      "outputs": [
        {
          "output_type": "stream",
          "name": "stdout",
          "text": [
            "['2', '3', '4312', '3', '0', '19', '2', '2019', '19', '19', '19', '3', '1', '12', '3', '43231', '5', '432545656676897989809096', '7', '10']\n"
          ]
        }
      ]
    },
    {
      "cell_type": "code",
      "source": [
        "#Check if the string ends with 'planet':\n",
        "\n",
        "x = re.findall(\"planet$\", st)\n",
        "if x:\n",
        "  print(\"Yes, the string ends with 'planet'\")\n",
        "else:\n",
        "  print(\"No match\")\n"
      ],
      "metadata": {
        "colab": {
          "base_uri": "https://localhost:8080/"
        },
        "id": "cFQ8REuKt1_Q",
        "outputId": "b8aadacd-b55f-4d90-dfaa-b9be43cddd2a"
      },
      "execution_count": null,
      "outputs": [
        {
          "output_type": "stream",
          "name": "stdout",
          "text": [
            "No match\n"
          ]
        }
      ]
    },
    {
      "cell_type": "code",
      "source": [
        "import re\n",
        "\n",
        "txt = \"The rain in Spain\"\n",
        "\n",
        "#Find all lower case characters alphabetically between \"a\" and \"m\":\n",
        "\n",
        "pat = re.findall('[a-m]',txt)\n",
        "\n",
        "print(pat)"
      ],
      "metadata": {
        "colab": {
          "base_uri": "https://localhost:8080/"
        },
        "id": "t-vVvFXfrOKL",
        "outputId": "19129cb6-6855-425a-a2b7-0a2e79283631"
      },
      "execution_count": null,
      "outputs": [
        {
          "output_type": "stream",
          "name": "stdout",
          "text": [
            "['h', 'e', 'a', 'i', 'i', 'a', 'i']\n"
          ]
        }
      ]
    },
    {
      "cell_type": "code",
      "source": [
        "import re\n",
        "\n",
        "txt = \"hello planet\"\n",
        "\n",
        "#Search for a sequence that starts with \"he\", followed by two (any) characters, and an \"o\":\n",
        "pat = re.findall('he[a-z][a-z]o',txt)\n",
        "\n",
        "print(pat)\n"
      ],
      "metadata": {
        "colab": {
          "base_uri": "https://localhost:8080/"
        },
        "id": "Q11I-Wo0sCIY",
        "outputId": "054476bf-174b-4c9b-8eaa-1b83d92ac439"
      },
      "execution_count": null,
      "outputs": [
        {
          "output_type": "stream",
          "name": "stdout",
          "text": [
            "['hello']\n"
          ]
        }
      ]
    },
    {
      "cell_type": "code",
      "source": [],
      "metadata": {
        "id": "fj73Up0ytUk9"
      },
      "execution_count": null,
      "outputs": []
    }
  ]
}