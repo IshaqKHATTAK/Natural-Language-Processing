{
  "nbformat": 4,
  "nbformat_minor": 0,
  "metadata": {
    "colab": {
      "provenance": [],
      "gpuType": "T4",
      "mount_file_id": "1r7d6FKlRnVMaRXEh3sMhS-K15GonR3kx",
      "authorship_tag": "ABX9TyOgVJB6nDTAr5M57F+yjPJe",
      "include_colab_link": true
    },
    "kernelspec": {
      "name": "python3",
      "display_name": "Python 3"
    },
    "language_info": {
      "name": "python"
    },
    "accelerator": "GPU",
    "gpuClass": "standard"
  },
  "cells": [
    {
      "cell_type": "markdown",
      "metadata": {
        "id": "view-in-github",
        "colab_type": "text"
      },
      "source": [
        "<a href=\"https://colab.research.google.com/github/IshaqKHATTAK/Natural-Language-Processing/blob/main/NLP_paper_implementation.ipynb\" target=\"_parent\"><img src=\"https://colab.research.google.com/assets/colab-badge.svg\" alt=\"Open In Colab\"/></a>"
      ]
    },
    {
      "cell_type": "code",
      "source": [
        "import numpy as np\n",
        "import pandas as pd"
      ],
      "metadata": {
        "id": "udi2r_0s9V3U"
      },
      "execution_count": 14,
      "outputs": []
    },
    {
      "cell_type": "code",
      "source": [
        "#!pip install gensim\n"
      ],
      "metadata": {
        "colab": {
          "base_uri": "https://localhost:8080/"
        },
        "id": "mJdbw0a0vlKr",
        "outputId": "01dd7a0b-be19-45a0-8c29-51ef9b358838"
      },
      "execution_count": 11,
      "outputs": [
        {
          "output_type": "stream",
          "name": "stdout",
          "text": [
            "Looking in indexes: https://pypi.org/simple, https://us-python.pkg.dev/colab-wheels/public/simple/\n",
            "Requirement already satisfied: gensim in /usr/local/lib/python3.10/dist-packages (4.3.1)\n",
            "Requirement already satisfied: numpy>=1.18.5 in /usr/local/lib/python3.10/dist-packages (from gensim) (1.22.4)\n",
            "Requirement already satisfied: scipy>=1.7.0 in /usr/local/lib/python3.10/dist-packages (from gensim) (1.10.1)\n",
            "Requirement already satisfied: smart-open>=1.8.1 in /usr/local/lib/python3.10/dist-packages (from gensim) (6.3.0)\n"
          ]
        }
      ]
    },
    {
      "cell_type": "code",
      "source": [
        "#!unzip '/content/drive/MyDrive/coviddata.zip'"
      ],
      "metadata": {
        "colab": {
          "base_uri": "https://localhost:8080/"
        },
        "id": "qzf5HOoj0Ppr",
        "outputId": "b5c0a754-62fc-4429-a70f-3cb884a96fdb"
      },
      "execution_count": 13,
      "outputs": [
        {
          "output_type": "stream",
          "name": "stdout",
          "text": [
            "Archive:  /content/drive/MyDrive/coviddata.zip\n",
            "  inflating: Covid-19PublicTweets.xlsx  \n",
            "  inflating: TweetsCovid.csv         \n",
            "  inflating: TweetsCovid-19Datasetupdated.csv  \n"
          ]
        }
      ]
    },
    {
      "cell_type": "markdown",
      "source": [
        "###reading data"
      ],
      "metadata": {
        "id": "I9PFOl6UB2yb"
      }
    },
    {
      "cell_type": "code",
      "source": [
        "path = '/content/TweetsCovid-19Datasetupdated.csv'\n",
        "column = ['Tweet','Date']\n",
        "data = pd.read_csv(path,names=column, encoding='cp1252')"
      ],
      "metadata": {
        "id": "_YvhiV8b_ZmQ"
      },
      "execution_count": 15,
      "outputs": []
    },
    {
      "cell_type": "code",
      "source": [
        "data.head(2)"
      ],
      "metadata": {
        "id": "1vnE0Ell_noG",
        "colab": {
          "base_uri": "https://localhost:8080/",
          "height": 112
        },
        "outputId": "67b3703d-601c-424e-8e90-1acad5e9c164"
      },
      "execution_count": 16,
      "outputs": [
        {
          "output_type": "execute_result",
          "data": {
            "text/plain": [
              "                                               Tweet       Date\n",
              "0   'Not a Secret Cult \\n\\n#Scientology #Vaccines...  9/26/2021\n",
              "1   \"Another one of Dr John Campbell's videos whe...  9/26/2021"
            ],
            "text/html": [
              "\n",
              "  <div id=\"df-e59d97b7-5302-4d37-a37a-38a0a63dadf7\">\n",
              "    <div class=\"colab-df-container\">\n",
              "      <div>\n",
              "<style scoped>\n",
              "    .dataframe tbody tr th:only-of-type {\n",
              "        vertical-align: middle;\n",
              "    }\n",
              "\n",
              "    .dataframe tbody tr th {\n",
              "        vertical-align: top;\n",
              "    }\n",
              "\n",
              "    .dataframe thead th {\n",
              "        text-align: right;\n",
              "    }\n",
              "</style>\n",
              "<table border=\"1\" class=\"dataframe\">\n",
              "  <thead>\n",
              "    <tr style=\"text-align: right;\">\n",
              "      <th></th>\n",
              "      <th>Tweet</th>\n",
              "      <th>Date</th>\n",
              "    </tr>\n",
              "  </thead>\n",
              "  <tbody>\n",
              "    <tr>\n",
              "      <th>0</th>\n",
              "      <td>'Not a Secret Cult \\n\\n#Scientology #Vaccines...</td>\n",
              "      <td>9/26/2021</td>\n",
              "    </tr>\n",
              "    <tr>\n",
              "      <th>1</th>\n",
              "      <td>\"Another one of Dr John Campbell's videos whe...</td>\n",
              "      <td>9/26/2021</td>\n",
              "    </tr>\n",
              "  </tbody>\n",
              "</table>\n",
              "</div>\n",
              "      <button class=\"colab-df-convert\" onclick=\"convertToInteractive('df-e59d97b7-5302-4d37-a37a-38a0a63dadf7')\"\n",
              "              title=\"Convert this dataframe to an interactive table.\"\n",
              "              style=\"display:none;\">\n",
              "        \n",
              "  <svg xmlns=\"http://www.w3.org/2000/svg\" height=\"24px\"viewBox=\"0 0 24 24\"\n",
              "       width=\"24px\">\n",
              "    <path d=\"M0 0h24v24H0V0z\" fill=\"none\"/>\n",
              "    <path d=\"M18.56 5.44l.94 2.06.94-2.06 2.06-.94-2.06-.94-.94-2.06-.94 2.06-2.06.94zm-11 1L8.5 8.5l.94-2.06 2.06-.94-2.06-.94L8.5 2.5l-.94 2.06-2.06.94zm10 10l.94 2.06.94-2.06 2.06-.94-2.06-.94-.94-2.06-.94 2.06-2.06.94z\"/><path d=\"M17.41 7.96l-1.37-1.37c-.4-.4-.92-.59-1.43-.59-.52 0-1.04.2-1.43.59L10.3 9.45l-7.72 7.72c-.78.78-.78 2.05 0 2.83L4 21.41c.39.39.9.59 1.41.59.51 0 1.02-.2 1.41-.59l7.78-7.78 2.81-2.81c.8-.78.8-2.07 0-2.86zM5.41 20L4 18.59l7.72-7.72 1.47 1.35L5.41 20z\"/>\n",
              "  </svg>\n",
              "      </button>\n",
              "      \n",
              "  <style>\n",
              "    .colab-df-container {\n",
              "      display:flex;\n",
              "      flex-wrap:wrap;\n",
              "      gap: 12px;\n",
              "    }\n",
              "\n",
              "    .colab-df-convert {\n",
              "      background-color: #E8F0FE;\n",
              "      border: none;\n",
              "      border-radius: 50%;\n",
              "      cursor: pointer;\n",
              "      display: none;\n",
              "      fill: #1967D2;\n",
              "      height: 32px;\n",
              "      padding: 0 0 0 0;\n",
              "      width: 32px;\n",
              "    }\n",
              "\n",
              "    .colab-df-convert:hover {\n",
              "      background-color: #E2EBFA;\n",
              "      box-shadow: 0px 1px 2px rgba(60, 64, 67, 0.3), 0px 1px 3px 1px rgba(60, 64, 67, 0.15);\n",
              "      fill: #174EA6;\n",
              "    }\n",
              "\n",
              "    [theme=dark] .colab-df-convert {\n",
              "      background-color: #3B4455;\n",
              "      fill: #D2E3FC;\n",
              "    }\n",
              "\n",
              "    [theme=dark] .colab-df-convert:hover {\n",
              "      background-color: #434B5C;\n",
              "      box-shadow: 0px 1px 3px 1px rgba(0, 0, 0, 0.15);\n",
              "      filter: drop-shadow(0px 1px 2px rgba(0, 0, 0, 0.3));\n",
              "      fill: #FFFFFF;\n",
              "    }\n",
              "  </style>\n",
              "\n",
              "      <script>\n",
              "        const buttonEl =\n",
              "          document.querySelector('#df-e59d97b7-5302-4d37-a37a-38a0a63dadf7 button.colab-df-convert');\n",
              "        buttonEl.style.display =\n",
              "          google.colab.kernel.accessAllowed ? 'block' : 'none';\n",
              "\n",
              "        async function convertToInteractive(key) {\n",
              "          const element = document.querySelector('#df-e59d97b7-5302-4d37-a37a-38a0a63dadf7');\n",
              "          const dataTable =\n",
              "            await google.colab.kernel.invokeFunction('convertToInteractive',\n",
              "                                                     [key], {});\n",
              "          if (!dataTable) return;\n",
              "\n",
              "          const docLinkHtml = 'Like what you see? Visit the ' +\n",
              "            '<a target=\"_blank\" href=https://colab.research.google.com/notebooks/data_table.ipynb>data table notebook</a>'\n",
              "            + ' to learn more about interactive tables.';\n",
              "          element.innerHTML = '';\n",
              "          dataTable['output_type'] = 'display_data';\n",
              "          await google.colab.output.renderOutput(dataTable, element);\n",
              "          const docLink = document.createElement('div');\n",
              "          docLink.innerHTML = docLinkHtml;\n",
              "          element.appendChild(docLink);\n",
              "        }\n",
              "      </script>\n",
              "    </div>\n",
              "  </div>\n",
              "  "
            ]
          },
          "metadata": {},
          "execution_count": 16
        }
      ]
    },
    {
      "cell_type": "code",
      "source": [
        "len(data)"
      ],
      "metadata": {
        "colab": {
          "base_uri": "https://localhost:8080/"
        },
        "id": "A5tJ88a0EADM",
        "outputId": "a3800f71-b8e3-4ced-c7f0-ba9ddca7a0d2"
      },
      "execution_count": null,
      "outputs": [
        {
          "output_type": "execute_result",
          "data": {
            "text/plain": [
              "156539"
            ]
          },
          "metadata": {},
          "execution_count": 4
        }
      ]
    },
    {
      "cell_type": "markdown",
      "source": [
        "###drop out retweeted "
      ],
      "metadata": {
        "id": "LBdJjDFKFXqR"
      }
    },
    {
      "cell_type": "code",
      "source": [
        "#df = data[data.duplicated(['Tweet'], keep=False)]\n",
        "data = data.drop_duplicates()\n",
        "len(data)"
      ],
      "metadata": {
        "id": "rRg36kl6_prL",
        "colab": {
          "base_uri": "https://localhost:8080/"
        },
        "outputId": "1c3f7649-ec83-40ca-a738-e70c815474a1"
      },
      "execution_count": 17,
      "outputs": [
        {
          "output_type": "execute_result",
          "data": {
            "text/plain": [
              "155490"
            ]
          },
          "metadata": {},
          "execution_count": 17
        }
      ]
    },
    {
      "cell_type": "code",
      "source": [
        "!pip install emoji\n",
        "import re\n",
        "import emoji\n",
        "import nltk\n",
        "nltk.download('punkt')\n",
        "from nltk.tokenize import word_tokenize\n",
        "from nltk.corpus import stopwords\n",
        "nltk.download('stopwords')\n",
        "from nltk.stem import PorterStemmer, WordNetLemmatizer\n",
        "nltk.download('wordnet')\n"
      ],
      "metadata": {
        "colab": {
          "base_uri": "https://localhost:8080/"
        },
        "id": "6h9gZ6GxF3bj",
        "outputId": "b9ac1363-b7cc-495c-82bc-ae418a941314"
      },
      "execution_count": 18,
      "outputs": [
        {
          "output_type": "stream",
          "name": "stdout",
          "text": [
            "Looking in indexes: https://pypi.org/simple, https://us-python.pkg.dev/colab-wheels/public/simple/\n",
            "Collecting emoji\n",
            "  Downloading emoji-2.2.0.tar.gz (240 kB)\n",
            "\u001b[2K     \u001b[90m━━━━━━━━━━━━━━━━━━━━━━━━━━━━━━━━━━━━━━━\u001b[0m \u001b[32m240.9/240.9 kB\u001b[0m \u001b[31m6.5 MB/s\u001b[0m eta \u001b[36m0:00:00\u001b[0m\n",
            "\u001b[?25h  Preparing metadata (setup.py) ... \u001b[?25l\u001b[?25hdone\n",
            "Building wheels for collected packages: emoji\n",
            "  Building wheel for emoji (setup.py) ... \u001b[?25l\u001b[?25hdone\n",
            "  Created wheel for emoji: filename=emoji-2.2.0-py3-none-any.whl size=234911 sha256=74ba2fd1b32a62497a95f2e4e4041b1be912cf8cb9cba814fb18d01b955beede\n",
            "  Stored in directory: /root/.cache/pip/wheels/02/3d/88/51a592b9ad17e7899126563698b4e3961983ebe85747228ba6\n",
            "Successfully built emoji\n",
            "Installing collected packages: emoji\n",
            "Successfully installed emoji-2.2.0\n"
          ]
        },
        {
          "output_type": "stream",
          "name": "stderr",
          "text": [
            "[nltk_data] Downloading package punkt to /root/nltk_data...\n",
            "[nltk_data]   Unzipping tokenizers/punkt.zip.\n",
            "[nltk_data] Downloading package stopwords to /root/nltk_data...\n",
            "[nltk_data]   Unzipping corpora/stopwords.zip.\n",
            "[nltk_data] Downloading package wordnet to /root/nltk_data...\n"
          ]
        },
        {
          "output_type": "execute_result",
          "data": {
            "text/plain": [
              "True"
            ]
          },
          "metadata": {},
          "execution_count": 18
        }
      ]
    },
    {
      "cell_type": "code",
      "source": [
        "sw = stopwords.words('english')\n",
        "ps = PorterStemmer()\n",
        "wl = WordNetLemmatizer()\n",
        "\n",
        "def to_lower(text):\n",
        "  text = text.lower()\n",
        "  return text\n",
        "\n",
        "def remove_URL(text):\n",
        "  text = re.sub(r'https?://\\S+','',text)\n",
        "  return text\n",
        "\n",
        "def remove_punctuation(text):\n",
        "  text = re.sub(r'[^\\w\\s]','',text)\n",
        "  return text\n",
        "\n",
        "def remove_emji(text):\n",
        "  text = emoji.demojize(text, delimiters=('', ''))\n",
        "  return text\n",
        "\n",
        "def tokenize_stopword_lematize_stemed(text):\n",
        "\n",
        "  text = word_tokenize(text) \n",
        "  word_list = [w for w in text if w not in sw]\n",
        "  lematized = [wl.lemmatize(w) for w in word_list]\n",
        "  stemmed = [ps.stem(w) for w in lematized]\n",
        "  return ' '.join(stemmed)\n",
        "\n"
      ],
      "metadata": {
        "id": "mTnY2wT8CKhU"
      },
      "execution_count": 19,
      "outputs": []
    },
    {
      "cell_type": "code",
      "source": [
        "data['Tweet'] = data['Tweet'].apply(to_lower)\n",
        "data['Tweet'] = data['Tweet'].apply(remove_URL)\n",
        "data['Tweet'] = data['Tweet'].apply(remove_punctuation)\n",
        "data['Tweet'] = data['Tweet'].apply(remove_emji)\n",
        "data['Tweet'] = data['Tweet'].apply(tokenize_stopword_lematize_stemed)\n",
        "data"
      ],
      "metadata": {
        "colab": {
          "base_uri": "https://localhost:8080/",
          "height": 423
        },
        "id": "wnoyp5h2Rojw",
        "outputId": "7f3c28da-3edb-4785-8e55-9532214b2a68"
      },
      "execution_count": 20,
      "outputs": [
        {
          "output_type": "execute_result",
          "data": {
            "text/plain": [
              "                                                    Tweet       Date\n",
              "0       secret cult nnscientolog vaccin vaccin covid19...  9/26/2021\n",
              "1       anoth one dr john campbel video spit tack say ...  9/26/2021\n",
              "2       slamdunk nobrain argument 13 america refus vac...  9/26/2021\n",
              "3                                 natur inmun rule vaccin  9/26/2021\n",
              "4       long list antivaxx deathb see error way plead ...  9/26/2021\n",
              "...                                                   ...        ...\n",
              "156534  unhealthytruth peopl better wake f npfizer mod...  3/27/2022\n",
              "156535  20220326480 839 751 nvaccin tool way spread co...  3/27/2022\n",
              "156536  far stupidest respons ever gotten question kno...  3/27/2022\n",
              "156537  industrialist philanthropist john lumic releas...  3/27/2022\n",
              "156538  spi pfe mrna jnj u covid19 vaccin trackernn va...  3/27/2022\n",
              "\n",
              "[155490 rows x 2 columns]"
            ],
            "text/html": [
              "\n",
              "  <div id=\"df-490fc2c0-8d21-41b5-8d56-30db6b17f88e\">\n",
              "    <div class=\"colab-df-container\">\n",
              "      <div>\n",
              "<style scoped>\n",
              "    .dataframe tbody tr th:only-of-type {\n",
              "        vertical-align: middle;\n",
              "    }\n",
              "\n",
              "    .dataframe tbody tr th {\n",
              "        vertical-align: top;\n",
              "    }\n",
              "\n",
              "    .dataframe thead th {\n",
              "        text-align: right;\n",
              "    }\n",
              "</style>\n",
              "<table border=\"1\" class=\"dataframe\">\n",
              "  <thead>\n",
              "    <tr style=\"text-align: right;\">\n",
              "      <th></th>\n",
              "      <th>Tweet</th>\n",
              "      <th>Date</th>\n",
              "    </tr>\n",
              "  </thead>\n",
              "  <tbody>\n",
              "    <tr>\n",
              "      <th>0</th>\n",
              "      <td>secret cult nnscientolog vaccin vaccin covid19...</td>\n",
              "      <td>9/26/2021</td>\n",
              "    </tr>\n",
              "    <tr>\n",
              "      <th>1</th>\n",
              "      <td>anoth one dr john campbel video spit tack say ...</td>\n",
              "      <td>9/26/2021</td>\n",
              "    </tr>\n",
              "    <tr>\n",
              "      <th>2</th>\n",
              "      <td>slamdunk nobrain argument 13 america refus vac...</td>\n",
              "      <td>9/26/2021</td>\n",
              "    </tr>\n",
              "    <tr>\n",
              "      <th>3</th>\n",
              "      <td>natur inmun rule vaccin</td>\n",
              "      <td>9/26/2021</td>\n",
              "    </tr>\n",
              "    <tr>\n",
              "      <th>4</th>\n",
              "      <td>long list antivaxx deathb see error way plead ...</td>\n",
              "      <td>9/26/2021</td>\n",
              "    </tr>\n",
              "    <tr>\n",
              "      <th>...</th>\n",
              "      <td>...</td>\n",
              "      <td>...</td>\n",
              "    </tr>\n",
              "    <tr>\n",
              "      <th>156534</th>\n",
              "      <td>unhealthytruth peopl better wake f npfizer mod...</td>\n",
              "      <td>3/27/2022</td>\n",
              "    </tr>\n",
              "    <tr>\n",
              "      <th>156535</th>\n",
              "      <td>20220326480 839 751 nvaccin tool way spread co...</td>\n",
              "      <td>3/27/2022</td>\n",
              "    </tr>\n",
              "    <tr>\n",
              "      <th>156536</th>\n",
              "      <td>far stupidest respons ever gotten question kno...</td>\n",
              "      <td>3/27/2022</td>\n",
              "    </tr>\n",
              "    <tr>\n",
              "      <th>156537</th>\n",
              "      <td>industrialist philanthropist john lumic releas...</td>\n",
              "      <td>3/27/2022</td>\n",
              "    </tr>\n",
              "    <tr>\n",
              "      <th>156538</th>\n",
              "      <td>spi pfe mrna jnj u covid19 vaccin trackernn va...</td>\n",
              "      <td>3/27/2022</td>\n",
              "    </tr>\n",
              "  </tbody>\n",
              "</table>\n",
              "<p>155490 rows × 2 columns</p>\n",
              "</div>\n",
              "      <button class=\"colab-df-convert\" onclick=\"convertToInteractive('df-490fc2c0-8d21-41b5-8d56-30db6b17f88e')\"\n",
              "              title=\"Convert this dataframe to an interactive table.\"\n",
              "              style=\"display:none;\">\n",
              "        \n",
              "  <svg xmlns=\"http://www.w3.org/2000/svg\" height=\"24px\"viewBox=\"0 0 24 24\"\n",
              "       width=\"24px\">\n",
              "    <path d=\"M0 0h24v24H0V0z\" fill=\"none\"/>\n",
              "    <path d=\"M18.56 5.44l.94 2.06.94-2.06 2.06-.94-2.06-.94-.94-2.06-.94 2.06-2.06.94zm-11 1L8.5 8.5l.94-2.06 2.06-.94-2.06-.94L8.5 2.5l-.94 2.06-2.06.94zm10 10l.94 2.06.94-2.06 2.06-.94-2.06-.94-.94-2.06-.94 2.06-2.06.94z\"/><path d=\"M17.41 7.96l-1.37-1.37c-.4-.4-.92-.59-1.43-.59-.52 0-1.04.2-1.43.59L10.3 9.45l-7.72 7.72c-.78.78-.78 2.05 0 2.83L4 21.41c.39.39.9.59 1.41.59.51 0 1.02-.2 1.41-.59l7.78-7.78 2.81-2.81c.8-.78.8-2.07 0-2.86zM5.41 20L4 18.59l7.72-7.72 1.47 1.35L5.41 20z\"/>\n",
              "  </svg>\n",
              "      </button>\n",
              "      \n",
              "  <style>\n",
              "    .colab-df-container {\n",
              "      display:flex;\n",
              "      flex-wrap:wrap;\n",
              "      gap: 12px;\n",
              "    }\n",
              "\n",
              "    .colab-df-convert {\n",
              "      background-color: #E8F0FE;\n",
              "      border: none;\n",
              "      border-radius: 50%;\n",
              "      cursor: pointer;\n",
              "      display: none;\n",
              "      fill: #1967D2;\n",
              "      height: 32px;\n",
              "      padding: 0 0 0 0;\n",
              "      width: 32px;\n",
              "    }\n",
              "\n",
              "    .colab-df-convert:hover {\n",
              "      background-color: #E2EBFA;\n",
              "      box-shadow: 0px 1px 2px rgba(60, 64, 67, 0.3), 0px 1px 3px 1px rgba(60, 64, 67, 0.15);\n",
              "      fill: #174EA6;\n",
              "    }\n",
              "\n",
              "    [theme=dark] .colab-df-convert {\n",
              "      background-color: #3B4455;\n",
              "      fill: #D2E3FC;\n",
              "    }\n",
              "\n",
              "    [theme=dark] .colab-df-convert:hover {\n",
              "      background-color: #434B5C;\n",
              "      box-shadow: 0px 1px 3px 1px rgba(0, 0, 0, 0.15);\n",
              "      filter: drop-shadow(0px 1px 2px rgba(0, 0, 0, 0.3));\n",
              "      fill: #FFFFFF;\n",
              "    }\n",
              "  </style>\n",
              "\n",
              "      <script>\n",
              "        const buttonEl =\n",
              "          document.querySelector('#df-490fc2c0-8d21-41b5-8d56-30db6b17f88e button.colab-df-convert');\n",
              "        buttonEl.style.display =\n",
              "          google.colab.kernel.accessAllowed ? 'block' : 'none';\n",
              "\n",
              "        async function convertToInteractive(key) {\n",
              "          const element = document.querySelector('#df-490fc2c0-8d21-41b5-8d56-30db6b17f88e');\n",
              "          const dataTable =\n",
              "            await google.colab.kernel.invokeFunction('convertToInteractive',\n",
              "                                                     [key], {});\n",
              "          if (!dataTable) return;\n",
              "\n",
              "          const docLinkHtml = 'Like what you see? Visit the ' +\n",
              "            '<a target=\"_blank\" href=https://colab.research.google.com/notebooks/data_table.ipynb>data table notebook</a>'\n",
              "            + ' to learn more about interactive tables.';\n",
              "          element.innerHTML = '';\n",
              "          dataTable['output_type'] = 'display_data';\n",
              "          await google.colab.output.renderOutput(dataTable, element);\n",
              "          const docLink = document.createElement('div');\n",
              "          docLink.innerHTML = docLinkHtml;\n",
              "          element.appendChild(docLink);\n",
              "        }\n",
              "      </script>\n",
              "    </div>\n",
              "  </div>\n",
              "  "
            ]
          },
          "metadata": {},
          "execution_count": 20
        }
      ]
    },
    {
      "cell_type": "code",
      "source": [
        "from textblob import TextBlob\n",
        "\n",
        "sentiment_textblob = [] #positive --> 1 negtive-->2 netral --> 0\n",
        "\n",
        "def sentiment_TexBlob(text):\n",
        "  # Create a TextBlob object\n",
        "  blob = TextBlob(text)\n",
        "  # Perform sentiment analysis\n",
        "  sentiment = blob.sentiment.polarity\n",
        "  if sentiment == 0.0:\n",
        "    sentiment_textblob.append(0)\n",
        "  elif sentiment < 0:\n",
        "    sentiment_textblob.append(2)\n",
        "  else:\n",
        "    sentiment_textblob.append(1)\n",
        "  \n",
        "\n",
        "data['Tweet'].apply(sentiment_TexBlob)"
      ],
      "metadata": {
        "colab": {
          "base_uri": "https://localhost:8080/"
        },
        "id": "XZHwST4wnqbs",
        "outputId": "90abd90b-0782-4fb2-e6f0-23011e365207"
      },
      "execution_count": 27,
      "outputs": [
        {
          "output_type": "execute_result",
          "data": {
            "text/plain": [
              "0         None\n",
              "1         None\n",
              "2         None\n",
              "3         None\n",
              "4         None\n",
              "          ... \n",
              "156534    None\n",
              "156535    None\n",
              "156536    None\n",
              "156537    None\n",
              "156538    None\n",
              "Name: Tweet, Length: 155490, dtype: object"
            ]
          },
          "metadata": {},
          "execution_count": 27
        }
      ]
    },
    {
      "cell_type": "code",
      "source": [
        "data['sentiment textblob'] = sentiment_textblob\n",
        "data.head(3)"
      ],
      "metadata": {
        "colab": {
          "base_uri": "https://localhost:8080/",
          "height": 143
        },
        "id": "yanf9RkJ2Ons",
        "outputId": "9a9633e2-2f57-4738-a9ab-4097f77b6f3b"
      },
      "execution_count": 31,
      "outputs": [
        {
          "output_type": "execute_result",
          "data": {
            "text/plain": [
              "                                               Tweet       Date  \\\n",
              "0  secret cult nnscientolog vaccin vaccin covid19...  9/26/2021   \n",
              "1  anoth one dr john campbel video spit tack say ...  9/26/2021   \n",
              "2  slamdunk nobrain argument 13 america refus vac...  9/26/2021   \n",
              "\n",
              "   sentiment textblob  \n",
              "0                   2  \n",
              "1                   0  \n",
              "2                   0  "
            ],
            "text/html": [
              "\n",
              "  <div id=\"df-a67c65f2-91cc-4d49-9cb1-9cb3ba65a02e\">\n",
              "    <div class=\"colab-df-container\">\n",
              "      <div>\n",
              "<style scoped>\n",
              "    .dataframe tbody tr th:only-of-type {\n",
              "        vertical-align: middle;\n",
              "    }\n",
              "\n",
              "    .dataframe tbody tr th {\n",
              "        vertical-align: top;\n",
              "    }\n",
              "\n",
              "    .dataframe thead th {\n",
              "        text-align: right;\n",
              "    }\n",
              "</style>\n",
              "<table border=\"1\" class=\"dataframe\">\n",
              "  <thead>\n",
              "    <tr style=\"text-align: right;\">\n",
              "      <th></th>\n",
              "      <th>Tweet</th>\n",
              "      <th>Date</th>\n",
              "      <th>sentiment textblob</th>\n",
              "    </tr>\n",
              "  </thead>\n",
              "  <tbody>\n",
              "    <tr>\n",
              "      <th>0</th>\n",
              "      <td>secret cult nnscientolog vaccin vaccin covid19...</td>\n",
              "      <td>9/26/2021</td>\n",
              "      <td>2</td>\n",
              "    </tr>\n",
              "    <tr>\n",
              "      <th>1</th>\n",
              "      <td>anoth one dr john campbel video spit tack say ...</td>\n",
              "      <td>9/26/2021</td>\n",
              "      <td>0</td>\n",
              "    </tr>\n",
              "    <tr>\n",
              "      <th>2</th>\n",
              "      <td>slamdunk nobrain argument 13 america refus vac...</td>\n",
              "      <td>9/26/2021</td>\n",
              "      <td>0</td>\n",
              "    </tr>\n",
              "  </tbody>\n",
              "</table>\n",
              "</div>\n",
              "      <button class=\"colab-df-convert\" onclick=\"convertToInteractive('df-a67c65f2-91cc-4d49-9cb1-9cb3ba65a02e')\"\n",
              "              title=\"Convert this dataframe to an interactive table.\"\n",
              "              style=\"display:none;\">\n",
              "        \n",
              "  <svg xmlns=\"http://www.w3.org/2000/svg\" height=\"24px\"viewBox=\"0 0 24 24\"\n",
              "       width=\"24px\">\n",
              "    <path d=\"M0 0h24v24H0V0z\" fill=\"none\"/>\n",
              "    <path d=\"M18.56 5.44l.94 2.06.94-2.06 2.06-.94-2.06-.94-.94-2.06-.94 2.06-2.06.94zm-11 1L8.5 8.5l.94-2.06 2.06-.94-2.06-.94L8.5 2.5l-.94 2.06-2.06.94zm10 10l.94 2.06.94-2.06 2.06-.94-2.06-.94-.94-2.06-.94 2.06-2.06.94z\"/><path d=\"M17.41 7.96l-1.37-1.37c-.4-.4-.92-.59-1.43-.59-.52 0-1.04.2-1.43.59L10.3 9.45l-7.72 7.72c-.78.78-.78 2.05 0 2.83L4 21.41c.39.39.9.59 1.41.59.51 0 1.02-.2 1.41-.59l7.78-7.78 2.81-2.81c.8-.78.8-2.07 0-2.86zM5.41 20L4 18.59l7.72-7.72 1.47 1.35L5.41 20z\"/>\n",
              "  </svg>\n",
              "      </button>\n",
              "      \n",
              "  <style>\n",
              "    .colab-df-container {\n",
              "      display:flex;\n",
              "      flex-wrap:wrap;\n",
              "      gap: 12px;\n",
              "    }\n",
              "\n",
              "    .colab-df-convert {\n",
              "      background-color: #E8F0FE;\n",
              "      border: none;\n",
              "      border-radius: 50%;\n",
              "      cursor: pointer;\n",
              "      display: none;\n",
              "      fill: #1967D2;\n",
              "      height: 32px;\n",
              "      padding: 0 0 0 0;\n",
              "      width: 32px;\n",
              "    }\n",
              "\n",
              "    .colab-df-convert:hover {\n",
              "      background-color: #E2EBFA;\n",
              "      box-shadow: 0px 1px 2px rgba(60, 64, 67, 0.3), 0px 1px 3px 1px rgba(60, 64, 67, 0.15);\n",
              "      fill: #174EA6;\n",
              "    }\n",
              "\n",
              "    [theme=dark] .colab-df-convert {\n",
              "      background-color: #3B4455;\n",
              "      fill: #D2E3FC;\n",
              "    }\n",
              "\n",
              "    [theme=dark] .colab-df-convert:hover {\n",
              "      background-color: #434B5C;\n",
              "      box-shadow: 0px 1px 3px 1px rgba(0, 0, 0, 0.15);\n",
              "      filter: drop-shadow(0px 1px 2px rgba(0, 0, 0, 0.3));\n",
              "      fill: #FFFFFF;\n",
              "    }\n",
              "  </style>\n",
              "\n",
              "      <script>\n",
              "        const buttonEl =\n",
              "          document.querySelector('#df-a67c65f2-91cc-4d49-9cb1-9cb3ba65a02e button.colab-df-convert');\n",
              "        buttonEl.style.display =\n",
              "          google.colab.kernel.accessAllowed ? 'block' : 'none';\n",
              "\n",
              "        async function convertToInteractive(key) {\n",
              "          const element = document.querySelector('#df-a67c65f2-91cc-4d49-9cb1-9cb3ba65a02e');\n",
              "          const dataTable =\n",
              "            await google.colab.kernel.invokeFunction('convertToInteractive',\n",
              "                                                     [key], {});\n",
              "          if (!dataTable) return;\n",
              "\n",
              "          const docLinkHtml = 'Like what you see? Visit the ' +\n",
              "            '<a target=\"_blank\" href=https://colab.research.google.com/notebooks/data_table.ipynb>data table notebook</a>'\n",
              "            + ' to learn more about interactive tables.';\n",
              "          element.innerHTML = '';\n",
              "          dataTable['output_type'] = 'display_data';\n",
              "          await google.colab.output.renderOutput(dataTable, element);\n",
              "          const docLink = document.createElement('div');\n",
              "          docLink.innerHTML = docLinkHtml;\n",
              "          element.appendChild(docLink);\n",
              "        }\n",
              "      </script>\n",
              "    </div>\n",
              "  </div>\n",
              "  "
            ]
          },
          "metadata": {},
          "execution_count": 31
        }
      ]
    },
    {
      "cell_type": "code",
      "source": [
        "import nltk\n",
        "from nltk.sentiment.vader import SentimentIntensityAnalyzer\n",
        "nltk.download('vader_lexicon')"
      ],
      "metadata": {
        "id": "3PFTfRr3_OQM"
      },
      "execution_count": null,
      "outputs": []
    },
    {
      "cell_type": "code",
      "source": [
        "sentiment_vader = []\n",
        "def sentiment_vader(text):\n",
        "  van = SentimentIntensityAnalyzer()\n",
        "  sntment = van.polarity_scores(text)\n",
        "  return max(sntment, key=sntment.get)\n",
        "data['sentiment vader'] = data['Tweet'].apply(sentiment_vader)\n",
        "data.head(3)"
      ],
      "metadata": {
        "id": "a5cOgVUhpTKI",
        "colab": {
          "base_uri": "https://localhost:8080/"
        },
        "outputId": "11317661-063b-45c9-b5db-4ee3644cbb15"
      },
      "execution_count": 4,
      "outputs": [
        {
          "output_type": "stream",
          "name": "stderr",
          "text": [
            "[nltk_data] Downloading package vader_lexicon to /root/nltk_data...\n"
          ]
        },
        {
          "output_type": "execute_result",
          "data": {
            "text/plain": [
              "{'neg': 0.0, 'neu': 0.323, 'pos': 0.677, 'compound': 0.6369}"
            ]
          },
          "metadata": {},
          "execution_count": 4
        }
      ]
    },
    {
      "cell_type": "code",
      "source": [
        "from sklearn.model_selection import train_test_split\n",
        "x_train, x_test, y_train, y_test = train_test_split(data['Tweet'], data['sentiment textblob'])"
      ],
      "metadata": {
        "id": "w2LTgcec3kay"
      },
      "execution_count": 35,
      "outputs": []
    },
    {
      "cell_type": "code",
      "source": [],
      "metadata": {
        "id": "rya95e4O3kgW"
      },
      "execution_count": null,
      "outputs": []
    },
    {
      "cell_type": "code",
      "source": [
        "import sklearn\n",
        "from sklearn.feature_extraction.text import TfidfVectorizer\n",
        "\n",
        "\n",
        "tfidf = TfidfVectorizer()\n",
        "tfidf.fit(data['Tweet'])\n",
        "\n",
        "tfidf_vec_train = tfidf.transform(x_train)\n",
        "tfidf_vec_test = tfidf.transform(x_test)"
      ],
      "metadata": {
        "id": "10ygfncMnqfe"
      },
      "execution_count": 36,
      "outputs": []
    },
    {
      "cell_type": "code",
      "source": [
        "from sklearn.feature_extraction.text import CountVectorizer\n",
        "\n",
        "cv = CountVectorizer()\n",
        "vec = cv.fit(data['Tweet'])\n",
        "\n",
        "cv_vec_train = vec.transform(x_train)\n",
        "cv_vec_test = vec.transform(x_test)"
      ],
      "metadata": {
        "id": "YPfH51uAnqiX",
        "colab": {
          "base_uri": "https://localhost:8080/"
        },
        "outputId": "e181f0da-ee9c-44ba-8532-590e809f750d"
      },
      "execution_count": 12,
      "outputs": [
        {
          "output_type": "execute_result",
          "data": {
            "text/plain": [
              "array([[0, 1, 1, 1, 0, 0, 1, 0, 1],\n",
              "       [0, 2, 0, 1, 0, 1, 1, 0, 1],\n",
              "       [1, 0, 0, 1, 1, 0, 1, 1, 1],\n",
              "       [0, 1, 1, 1, 0, 0, 1, 0, 1]])"
            ]
          },
          "metadata": {},
          "execution_count": 12
        }
      ]
    },
    {
      "cell_type": "code",
      "source": [
        "import gensim\n",
        "from gensim.models.doc2vec import Doc2Vec, TaggedDocument\n",
        "\n",
        "# Convert the corpus to TaggedDocuments\n",
        "tagged_corpus = [TaggedDocument(doc.split(), [i]) for i, doc in enumerate(data['Tweet'])]\n",
        "\n",
        "# Train the Doc2Vec model\n",
        "model = Doc2Vec(tagged_corpus, vector_size=50, window=2, min_count=1, workers=4, epochs=100)\n",
        "\n",
        "# Get the vector representation of the first document\n",
        "d2v_vec_train = model.infer_vector(x_train.words)\n",
        "d2v_vec_test = model.infer_vector(x_test.words)\n"
      ],
      "metadata": {
        "id": "3YAdjVTHvzPV"
      },
      "execution_count": null,
      "outputs": []
    },
    {
      "cell_type": "code",
      "source": [
        "#TextBlob + TF-IDF + LinearSVC  tfidf_vec\n",
        "from sklearn.svm import SVC\n",
        "\n",
        "SVM = SVC()\n",
        "SVM.fit(tfidf_vec_train, y_train)\n",
        "y_pred = SVM.predict(x_test)"
      ],
      "metadata": {
        "id": "jSrI3omVwoht"
      },
      "execution_count": null,
      "outputs": []
    },
    {
      "cell_type": "code",
      "source": [
        "from sklearn.metrics import accuracy_score, precision_score, recall_score,f1_score\n",
        "\n",
        "accuracy = accuracy_score(y_pred, x_test)\n",
        "f1 = f1_score(y_pred, x_test)\n",
        "precision = precision_score(y_pred, x_test)\n",
        "\n",
        "print(f'accuracy: {accuracy} precision: {precision} f1: {f1}')"
      ],
      "metadata": {
        "id": "9p4LbcSMwola"
      },
      "execution_count": null,
      "outputs": []
    },
    {
      "cell_type": "code",
      "source": [
        "svm2 = SVC()\n",
        "\n",
        "svm2.fit(cv_vec_train, y_train)\n",
        "y_pred = svm2.predict(x_test)"
      ],
      "metadata": {
        "id": "YqRqZWUkwovc"
      },
      "execution_count": null,
      "outputs": []
    },
    {
      "cell_type": "code",
      "source": [],
      "metadata": {
        "id": "sIj48GGxvzTV"
      },
      "execution_count": null,
      "outputs": []
    },
    {
      "cell_type": "code",
      "source": [],
      "metadata": {
        "id": "iOU3cFOgvzbW"
      },
      "execution_count": null,
      "outputs": []
    },
    {
      "cell_type": "code",
      "source": [],
      "metadata": {
        "id": "mgp7Fq_Cnqlp"
      },
      "execution_count": null,
      "outputs": []
    },
    {
      "cell_type": "code",
      "source": [],
      "metadata": {
        "id": "S-Pn10Mmnqp8"
      },
      "execution_count": null,
      "outputs": []
    },
    {
      "cell_type": "code",
      "source": [],
      "metadata": {
        "id": "GfM33ymCnqrm"
      },
      "execution_count": null,
      "outputs": []
    },
    {
      "cell_type": "code",
      "source": [],
      "metadata": {
        "id": "MVdidnOxnqvZ"
      },
      "execution_count": null,
      "outputs": []
    },
    {
      "cell_type": "code",
      "source": [
        "collect_word = ['covid', 'covid19', 'vaccine', 'corona', 'virus']\n",
        "def remove_collection(text):\n",
        "  for word in collect_word:\n",
        "    text = re.sub(word,'',text)\n",
        "  return text\n",
        "\n",
        "data['Tweet'] = data['Tweet'].apply(remove_collection)"
      ],
      "metadata": {
        "id": "G-32rBCsSLYW"
      },
      "execution_count": null,
      "outputs": []
    },
    {
      "cell_type": "code",
      "source": [
        "from collections import Counter\n",
        "dictionary = []\n",
        "def to_tokens(text):\n",
        "  text = word_tokenize(text)\n",
        "  for word in text:\n",
        "    dictionary.append(word)\n",
        "  return text\n",
        "to_tokens('this is ishaq you have you khan from call.from this as you')\n",
        "\n",
        "bag_of_word = Counter(dictionary)"
      ],
      "metadata": {
        "id": "UxWlnpaXloaT"
      },
      "execution_count": null,
      "outputs": []
    },
    {
      "cell_type": "code",
      "source": [
        "bag_of_word.most_common(2)"
      ],
      "metadata": {
        "id": "Kc4_fZeaSnym",
        "colab": {
          "base_uri": "https://localhost:8080/"
        },
        "outputId": "e87c1913-ff09-40b1-d3c7-304535f880c6"
      },
      "execution_count": null,
      "outputs": [
        {
          "output_type": "execute_result",
          "data": {
            "text/plain": [
              "[('you', 3), ('this', 2)]"
            ]
          },
          "metadata": {},
          "execution_count": 27
        }
      ]
    }
  ]
}