{
  "nbformat": 4,
  "nbformat_minor": 0,
  "metadata": {
    "colab": {
      "provenance": [],
      "authorship_tag": "ABX9TyMPqS6C4PoRtaifQF2MqpRD",
      "include_colab_link": true
    },
    "kernelspec": {
      "name": "python3",
      "display_name": "Python 3"
    },
    "language_info": {
      "name": "python"
    }
  },
  "cells": [
    {
      "cell_type": "markdown",
      "metadata": {
        "id": "view-in-github",
        "colab_type": "text"
      },
      "source": [
        "<a href=\"https://colab.research.google.com/github/IshaqKHATTAK/Natural-Language-Processing/blob/main/stemming_from_scrach_using_regex.ipynb\" target=\"_parent\"><img src=\"https://colab.research.google.com/assets/colab-badge.svg\" alt=\"Open In Colab\"/></a>"
      ]
    },
    {
      "cell_type": "code",
      "execution_count": 9,
      "metadata": {
        "colab": {
          "base_uri": "https://localhost:8080/"
        },
        "id": "iYDk94sZ9N_x",
        "outputId": "8529fa56-e9df-43b2-a562-fba29d9ae300"
      },
      "outputs": [
        {
          "output_type": "stream",
          "name": "stderr",
          "text": [
            "[nltk_data] Downloading package punkt to /root/nltk_data...\n",
            "[nltk_data]   Package punkt is already up-to-date!\n",
            "[nltk_data] Downloading package gutenberg to /root/nltk_data...\n",
            "[nltk_data]   Package gutenberg is already up-to-date!\n"
          ]
        }
      ],
      "source": [
        "\n",
        "# Importing the re for using the regular expression to remove the words ending with 'ing' string.\n",
        "\n",
        "import re\n",
        "import nltk\n",
        "from nltk.corpus import gutenberg\n",
        "\n",
        "\n",
        "nltk.download('punkt')  # downloading the tokenizer\n",
        "nltk.download('gutenberg')  # downloading the Gutenberg data-set from nltk corpora\n",
        "\n",
        "# Getting raw string\n",
        "\n",
        "\n",
        "raw_text = gutenberg.raw('shakespeare-hamlet.txt')\n",
        "#print(raw_text)"
      ]
    },
    {
      "cell_type": "code",
      "source": [
        "from nltk.tokenize import word_tokenize\n",
        "#tokenize using nltk\n",
        "word = word_tokenize(raw_text)\n",
        "#print(word)"
      ],
      "metadata": {
        "id": "1dPihouB9Pfr"
      },
      "execution_count": 11,
      "outputs": []
    },
    {
      "cell_type": "code",
      "source": [
        "ing_wrd = [wrd for wrd in word if re.search('ing$', wrd)]\n",
        "\n",
        "#print(ing_wrd)"
      ],
      "metadata": {
        "id": "Dp-wW3319qL3"
      },
      "execution_count": 12,
      "outputs": []
    },
    {
      "cell_type": "code",
      "source": [
        "vovel_ing_words = [wrd for wrd in word if re.search('[aeiou].*ing$', wrd)]\n",
        "#the above pattern search for a word having [aioue] and ing at the end (ing$) and anything in between (.*)\n",
        "\n",
        "# Showing the list of words which have any vowel letter before the 'ing'\n",
        "\n",
        "\n",
        "#print(vovel_ing_words)"
      ],
      "metadata": {
        "id": "9F-ltKk0AaLm"
      },
      "execution_count": 13,
      "outputs": []
    },
    {
      "cell_type": "code",
      "source": [],
      "metadata": {
        "id": "rP2Ntc2SAhR_"
      },
      "execution_count": null,
      "outputs": []
    }
  ]
}